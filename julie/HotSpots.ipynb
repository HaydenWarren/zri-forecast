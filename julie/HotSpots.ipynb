{
 "cells": [
  {
   "cell_type": "code",
   "execution_count": 9,
   "id": "ca07a22b",
   "metadata": {},
   "outputs": [],
   "source": [
    "import pandas as pd\n",
    "import numpy as np\n",
    "import matplotlib as plt\n",
    "import seaborn as sns"
   ]
  },
  {
   "cell_type": "code",
   "execution_count": 10,
   "id": "a4f1a53c",
   "metadata": {},
   "outputs": [],
   "source": [
    "hot_spots = pd.read_csv('hot_spots.csv', index_col=0)"
   ]
  },
  {
   "cell_type": "code",
   "execution_count": 11,
   "id": "b320baf6",
   "metadata": {},
   "outputs": [],
   "source": [
    "hot_spots = hot_spots.sort_values('mean_pred_growth', ascending=False)"
   ]
  },
  {
   "cell_type": "code",
   "execution_count": 20,
   "id": "35a23533",
   "metadata": {},
   "outputs": [],
   "source": [
    "hot_spots['plus_stddev'] = hot_spots['mean_pred_growth'] + hot_spots['std_pred_growth']"
   ]
  },
  {
   "cell_type": "code",
   "execution_count": 21,
   "id": "2029a111",
   "metadata": {},
   "outputs": [
    {
     "data": {
      "text/html": [
       "<div>\n",
       "<style scoped>\n",
       "    .dataframe tbody tr th:only-of-type {\n",
       "        vertical-align: middle;\n",
       "    }\n",
       "\n",
       "    .dataframe tbody tr th {\n",
       "        vertical-align: top;\n",
       "    }\n",
       "\n",
       "    .dataframe thead th {\n",
       "        text-align: right;\n",
       "    }\n",
       "</style>\n",
       "<table border=\"1\" class=\"dataframe\">\n",
       "  <thead>\n",
       "    <tr style=\"text-align: right;\">\n",
       "      <th></th>\n",
       "      <th>zip_code</th>\n",
       "      <th>mean_pred_growth</th>\n",
       "      <th>std_pred_growth</th>\n",
       "      <th>plus_stddev</th>\n",
       "    </tr>\n",
       "  </thead>\n",
       "  <tbody>\n",
       "    <tr>\n",
       "      <th>count</th>\n",
       "      <td>214.000000</td>\n",
       "      <td>214.000000</td>\n",
       "      <td>214.000000</td>\n",
       "      <td>214.000000</td>\n",
       "    </tr>\n",
       "    <tr>\n",
       "      <th>mean</th>\n",
       "      <td>76823.196262</td>\n",
       "      <td>0.040619</td>\n",
       "      <td>0.009153</td>\n",
       "      <td>0.049772</td>\n",
       "    </tr>\n",
       "    <tr>\n",
       "      <th>std</th>\n",
       "      <td>1429.326352</td>\n",
       "      <td>0.013407</td>\n",
       "      <td>0.002647</td>\n",
       "      <td>0.013917</td>\n",
       "    </tr>\n",
       "    <tr>\n",
       "      <th>min</th>\n",
       "      <td>75002.000000</td>\n",
       "      <td>-0.010962</td>\n",
       "      <td>0.004621</td>\n",
       "      <td>-0.001200</td>\n",
       "    </tr>\n",
       "    <tr>\n",
       "      <th>25%</th>\n",
       "      <td>75219.250000</td>\n",
       "      <td>0.034492</td>\n",
       "      <td>0.007458</td>\n",
       "      <td>0.043271</td>\n",
       "    </tr>\n",
       "    <tr>\n",
       "      <th>50%</th>\n",
       "      <td>77014.000000</td>\n",
       "      <td>0.042450</td>\n",
       "      <td>0.008703</td>\n",
       "      <td>0.051201</td>\n",
       "    </tr>\n",
       "    <tr>\n",
       "      <th>75%</th>\n",
       "      <td>78239.750000</td>\n",
       "      <td>0.049561</td>\n",
       "      <td>0.010478</td>\n",
       "      <td>0.058612</td>\n",
       "    </tr>\n",
       "    <tr>\n",
       "      <th>max</th>\n",
       "      <td>79936.000000</td>\n",
       "      <td>0.070418</td>\n",
       "      <td>0.022522</td>\n",
       "      <td>0.088655</td>\n",
       "    </tr>\n",
       "  </tbody>\n",
       "</table>\n",
       "</div>"
      ],
      "text/plain": [
       "           zip_code  mean_pred_growth  std_pred_growth  plus_stddev\n",
       "count    214.000000        214.000000       214.000000   214.000000\n",
       "mean   76823.196262          0.040619         0.009153     0.049772\n",
       "std     1429.326352          0.013407         0.002647     0.013917\n",
       "min    75002.000000         -0.010962         0.004621    -0.001200\n",
       "25%    75219.250000          0.034492         0.007458     0.043271\n",
       "50%    77014.000000          0.042450         0.008703     0.051201\n",
       "75%    78239.750000          0.049561         0.010478     0.058612\n",
       "max    79936.000000          0.070418         0.022522     0.088655"
      ]
     },
     "execution_count": 21,
     "metadata": {},
     "output_type": "execute_result"
    }
   ],
   "source": [
    "hot_spots.describe()"
   ]
  },
  {
   "cell_type": "code",
   "execution_count": 12,
   "id": "87216c1b",
   "metadata": {},
   "outputs": [
    {
     "data": {
      "text/plain": [
       "<AxesSubplot:xlabel='std_pred_growth'>"
      ]
     },
     "execution_count": 12,
     "metadata": {},
     "output_type": "execute_result"
    },
    {
     "data": {
      "image/png": "[encoded data removed]",
      "text/plain": [
       "<Figure size 432x288 with 1 Axes>"
      ]
     },
     "metadata": {
      "needs_background": "light"
     },
     "output_type": "display_data"
    }
   ],
   "source": [
    "sns.boxplot(data=hot_spots, x='std_pred_growth')"
   ]
  },
  {
   "cell_type": "code",
   "execution_count": 26,
   "id": "fb58ed10",
   "metadata": {},
   "outputs": [
    {
     "data": {
      "text/html": [
       "<div>\n",
       "<style scoped>\n",
       "    .dataframe tbody tr th:only-of-type {\n",
       "        vertical-align: middle;\n",
       "    }\n",
       "\n",
       "    .dataframe tbody tr th {\n",
       "        vertical-align: top;\n",
       "    }\n",
       "\n",
       "    .dataframe thead th {\n",
       "        text-align: right;\n",
       "    }\n",
       "</style>\n",
       "<table border=\"1\" class=\"dataframe\">\n",
       "  <thead>\n",
       "    <tr style=\"text-align: right;\">\n",
       "      <th></th>\n",
       "      <th>zip_code</th>\n",
       "      <th>mean_pred_growth</th>\n",
       "      <th>std_pred_growth</th>\n",
       "      <th>plus_stddev</th>\n",
       "    </tr>\n",
       "  </thead>\n",
       "  <tbody>\n",
       "    <tr>\n",
       "      <th>184</th>\n",
       "      <td>78701.0</td>\n",
       "      <td>0.066133</td>\n",
       "      <td>0.022522</td>\n",
       "      <td>0.088655</td>\n",
       "    </tr>\n",
       "    <tr>\n",
       "      <th>4</th>\n",
       "      <td>75022.0</td>\n",
       "      <td>0.049369</td>\n",
       "      <td>0.017467</td>\n",
       "      <td>0.066837</td>\n",
       "    </tr>\n",
       "    <tr>\n",
       "      <th>69</th>\n",
       "      <td>76014.0</td>\n",
       "      <td>0.052512</td>\n",
       "      <td>0.017050</td>\n",
       "      <td>0.069562</td>\n",
       "    </tr>\n",
       "    <tr>\n",
       "      <th>210</th>\n",
       "      <td>78758.0</td>\n",
       "      <td>0.048013</td>\n",
       "      <td>0.016991</td>\n",
       "      <td>0.065004</td>\n",
       "    </tr>\n",
       "    <tr>\n",
       "      <th>211</th>\n",
       "      <td>78759.0</td>\n",
       "      <td>0.034816</td>\n",
       "      <td>0.016420</td>\n",
       "      <td>0.051235</td>\n",
       "    </tr>\n",
       "    <tr>\n",
       "      <th>196</th>\n",
       "      <td>78731.0</td>\n",
       "      <td>0.039484</td>\n",
       "      <td>0.015584</td>\n",
       "      <td>0.055068</td>\n",
       "    </tr>\n",
       "    <tr>\n",
       "      <th>187</th>\n",
       "      <td>78704.0</td>\n",
       "      <td>0.054951</td>\n",
       "      <td>0.015552</td>\n",
       "      <td>0.070504</td>\n",
       "    </tr>\n",
       "    <tr>\n",
       "      <th>70</th>\n",
       "      <td>76015.0</td>\n",
       "      <td>0.058642</td>\n",
       "      <td>0.015103</td>\n",
       "      <td>0.073745</td>\n",
       "    </tr>\n",
       "    <tr>\n",
       "      <th>145</th>\n",
       "      <td>78130.0</td>\n",
       "      <td>0.042745</td>\n",
       "      <td>0.015068</td>\n",
       "      <td>0.057813</td>\n",
       "    </tr>\n",
       "    <tr>\n",
       "      <th>189</th>\n",
       "      <td>78717.0</td>\n",
       "      <td>0.045117</td>\n",
       "      <td>0.014760</td>\n",
       "      <td>0.059877</td>\n",
       "    </tr>\n",
       "  </tbody>\n",
       "</table>\n",
       "</div>"
      ],
      "text/plain": [
       "     zip_code  mean_pred_growth  std_pred_growth  plus_stddev\n",
       "184   78701.0          0.066133         0.022522     0.088655\n",
       "4     75022.0          0.049369         0.017467     0.066837\n",
       "69    76014.0          0.052512         0.017050     0.069562\n",
       "210   78758.0          0.048013         0.016991     0.065004\n",
       "211   78759.0          0.034816         0.016420     0.051235\n",
       "196   78731.0          0.039484         0.015584     0.055068\n",
       "187   78704.0          0.054951         0.015552     0.070504\n",
       "70    76015.0          0.058642         0.015103     0.073745\n",
       "145   78130.0          0.042745         0.015068     0.057813\n",
       "189   78717.0          0.045117         0.014760     0.059877"
      ]
     },
     "execution_count": 26,
     "metadata": {},
     "output_type": "execute_result"
    }
   ],
   "source": [
    "hot_spots = hot_spots.sort_values('std_pred_growth', ascending=False)\n",
    "hot_spots.head(10)"
   ]
  },
  {
   "cell_type": "code",
   "execution_count": 24,
   "id": "2c741b17",
   "metadata": {},
   "outputs": [
    {
     "data": {
      "text/html": [
       "<div>\n",
       "<style scoped>\n",
       "    .dataframe tbody tr th:only-of-type {\n",
       "        vertical-align: middle;\n",
       "    }\n",
       "\n",
       "    .dataframe tbody tr th {\n",
       "        vertical-align: top;\n",
       "    }\n",
       "\n",
       "    .dataframe thead th {\n",
       "        text-align: right;\n",
       "    }\n",
       "</style>\n",
       "<table border=\"1\" class=\"dataframe\">\n",
       "  <thead>\n",
       "    <tr style=\"text-align: right;\">\n",
       "      <th></th>\n",
       "      <th>zip_code</th>\n",
       "      <th>mean_pred_growth</th>\n",
       "      <th>std_pred_growth</th>\n",
       "      <th>plus_stddev</th>\n",
       "    </tr>\n",
       "  </thead>\n",
       "  <tbody>\n",
       "    <tr>\n",
       "      <th>count</th>\n",
       "      <td>214.000000</td>\n",
       "      <td>214.000000</td>\n",
       "      <td>214.000000</td>\n",
       "      <td>214.000000</td>\n",
       "    </tr>\n",
       "    <tr>\n",
       "      <th>mean</th>\n",
       "      <td>76823.196262</td>\n",
       "      <td>0.040619</td>\n",
       "      <td>0.009153</td>\n",
       "      <td>0.049772</td>\n",
       "    </tr>\n",
       "    <tr>\n",
       "      <th>std</th>\n",
       "      <td>1429.326352</td>\n",
       "      <td>0.013407</td>\n",
       "      <td>0.002647</td>\n",
       "      <td>0.013917</td>\n",
       "    </tr>\n",
       "    <tr>\n",
       "      <th>min</th>\n",
       "      <td>75002.000000</td>\n",
       "      <td>-0.010962</td>\n",
       "      <td>0.004621</td>\n",
       "      <td>-0.001200</td>\n",
       "    </tr>\n",
       "    <tr>\n",
       "      <th>25%</th>\n",
       "      <td>75219.250000</td>\n",
       "      <td>0.034492</td>\n",
       "      <td>0.007458</td>\n",
       "      <td>0.043271</td>\n",
       "    </tr>\n",
       "    <tr>\n",
       "      <th>50%</th>\n",
       "      <td>77014.000000</td>\n",
       "      <td>0.042450</td>\n",
       "      <td>0.008703</td>\n",
       "      <td>0.051201</td>\n",
       "    </tr>\n",
       "    <tr>\n",
       "      <th>75%</th>\n",
       "      <td>78239.750000</td>\n",
       "      <td>0.049561</td>\n",
       "      <td>0.010478</td>\n",
       "      <td>0.058612</td>\n",
       "    </tr>\n",
       "    <tr>\n",
       "      <th>max</th>\n",
       "      <td>79936.000000</td>\n",
       "      <td>0.070418</td>\n",
       "      <td>0.022522</td>\n",
       "      <td>0.088655</td>\n",
       "    </tr>\n",
       "  </tbody>\n",
       "</table>\n",
       "</div>"
      ],
      "text/plain": [
       "           zip_code  mean_pred_growth  std_pred_growth  plus_stddev\n",
       "count    214.000000        214.000000       214.000000   214.000000\n",
       "mean   76823.196262          0.040619         0.009153     0.049772\n",
       "std     1429.326352          0.013407         0.002647     0.013917\n",
       "min    75002.000000         -0.010962         0.004621    -0.001200\n",
       "25%    75219.250000          0.034492         0.007458     0.043271\n",
       "50%    77014.000000          0.042450         0.008703     0.051201\n",
       "75%    78239.750000          0.049561         0.010478     0.058612\n",
       "max    79936.000000          0.070418         0.022522     0.088655"
      ]
     },
     "execution_count": 24,
     "metadata": {},
     "output_type": "execute_result"
    }
   ],
   "source": [
    "hot_spots.describe()"
   ]
  },
  {
   "cell_type": "code",
   "execution_count": null,
   "id": "92550706",
   "metadata": {},
   "outputs": [],
   "source": [
    "acs = cenpy.products.ACS()\n",
    "acs.from_place('Chicago, IL')"
   ]
  }
 ],
 "metadata": {
  "kernelspec": {
   "display_name": "Python 3 (ipykernel)",
   "language": "python",
   "name": "python3"
  },
  "language_info": {
   "codemirror_mode": {
    "name": "ipython",
    "version": 3
   },
   "file_extension": ".py",
   "mimetype": "text/x-python",
   "name": "python",
   "nbconvert_exporter": "python",
   "pygments_lexer": "ipython3",
   "version": "3.8.2"
  }
 },
 "nbformat": 4,
 "nbformat_minor": 5
}
