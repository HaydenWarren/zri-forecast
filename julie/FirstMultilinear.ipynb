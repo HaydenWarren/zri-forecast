{
 "cells": [
  {
   "cell_type": "code",
   "execution_count": 19,
   "id": "8413e16e",
   "metadata": {},
   "outputs": [],
   "source": [
    "import numpy as np\n",
    "import pandas as pd\n",
    "\n",
    "from sklearn.linear_model import LinearRegression\n",
    "from sklearn.model_selection import train_test_split\n",
    "from sklearn.preprocessing import StandardScaler\n",
    "\n",
    "from statsmodels.stats.outliers_influence import variance_inflation_factor"
   ]
  },
  {
   "cell_type": "markdown",
   "id": "b93a200b",
   "metadata": {},
   "source": [
    "## Load main frame"
   ]
  },
  {
   "cell_type": "code",
   "execution_count": 2,
   "id": "ecfe6f42",
   "metadata": {
    "scrolled": true
   },
   "outputs": [],
   "source": [
    "all_vars = pd.read_csv('all_vars.csv', index_col=0, parse_dates=['Time'])\n",
    "# all_vars.head()"
   ]
  },
  {
   "cell_type": "code",
   "execution_count": 3,
   "id": "93e59a6b",
   "metadata": {},
   "outputs": [],
   "source": [
    "## Set target here:\n",
    "target_name = 'zori_ssa'"
   ]
  },
  {
   "cell_type": "code",
   "execution_count": 17,
   "id": "950a387e",
   "metadata": {},
   "outputs": [],
   "source": [
    "# ## View all of the info\n",
    "# all_vars.info()"
   ]
  },
  {
   "cell_type": "code",
   "execution_count": 5,
   "id": "13582c87",
   "metadata": {},
   "outputs": [],
   "source": [
    "## Get target, categorical and numerical features\n",
    "target = all_vars[target_name]\n",
    "categorical_features = all_vars.select_dtypes(exclude=['float64', 'int64'])\n",
    "numerical_features = all_vars.select_dtypes(['datetime','float64', 'int64'])"
   ]
  },
  {
   "cell_type": "code",
   "execution_count": 18,
   "id": "88d640c1",
   "metadata": {
    "scrolled": true
   },
   "outputs": [],
   "source": [
    "# numerical_features.info()"
   ]
  },
  {
   "cell_type": "markdown",
   "id": "7bd442c1",
   "metadata": {},
   "source": [
    "## First Multilinear model - only numerical"
   ]
  },
  {
   "cell_type": "code",
   "execution_count": 8,
   "id": "7c39e390",
   "metadata": {},
   "outputs": [],
   "source": [
    "\n",
    "# housing_df_standard_scale=pd.DataFrame(StandardScaler().fit_transform(housing_df))"
   ]
  },
  {
   "cell_type": "code",
   "execution_count": 10,
   "id": "4c3ec4fd",
   "metadata": {},
   "outputs": [],
   "source": [
    "numerical_features = numerical_features.drop(['Time', 'zip_code'], axis=1)\n",
    "\n",
    "## Scale all variables\n",
    "scaler = StandardScaler()\n",
    "scaled_frame = pd.DataFrame(scaler.fit_transform(numerical_features), columns=list(numerical_features.columns))"
   ]
  },
  {
   "cell_type": "code",
   "execution_count": 12,
   "id": "1ab260fb",
   "metadata": {
    "scrolled": true
   },
   "outputs": [],
   "source": [
    "## Separate target from dataframe\n",
    "y = scaled_frame[target_name]\n",
    "X = scaled_frame.drop(['zori_ssa'], axis=1)"
   ]
  },
  {
   "cell_type": "code",
   "execution_count": 13,
   "id": "407bc122",
   "metadata": {
    "scrolled": true
   },
   "outputs": [
    {
     "name": "stdout",
     "output_type": "stream",
     "text": [
      "train_score: 0.23589181089194566\n",
      "test_score: 0.21079698925917212\n"
     ]
    }
   ],
   "source": [
    "# ## Linear Model\n",
    "# train_score: 0.23589181089194566\n",
    "# test_score: 0.21079698925917212\n",
    "    \n",
    "lm = LinearRegression()\n",
    "X_train, X_test, y_train, y_test = train_test_split(X, y, test_size=0.33, random_state=42)\n",
    "lm.fit(X_train, y_train)\n",
    "print(f'train_score: {lm.score(X_train, y_train)}')\n",
    "print(f'test_score: {lm.score(X_test, y_test)}')"
   ]
  },
  {
   "cell_type": "code",
   "execution_count": 16,
   "id": "c433af25",
   "metadata": {},
   "outputs": [
    {
     "data": {
      "text/html": [
       "<div>\n",
       "<style scoped>\n",
       "    .dataframe tbody tr th:only-of-type {\n",
       "        vertical-align: middle;\n",
       "    }\n",
       "\n",
       "    .dataframe tbody tr th {\n",
       "        vertical-align: top;\n",
       "    }\n",
       "\n",
       "    .dataframe thead th {\n",
       "        text-align: right;\n",
       "    }\n",
       "</style>\n",
       "<table border=\"1\" class=\"dataframe\">\n",
       "  <thead>\n",
       "    <tr style=\"text-align: right;\">\n",
       "      <th></th>\n",
       "      <th>Feature</th>\n",
       "      <th>Coef</th>\n",
       "      <th>AbsVal</th>\n",
       "    </tr>\n",
       "  </thead>\n",
       "  <tbody>\n",
       "    <tr>\n",
       "      <th>48</th>\n",
       "      <td>tx_is_worse</td>\n",
       "      <td>-1.441243e+12</td>\n",
       "      <td>1.441243e+12</td>\n",
       "    </tr>\n",
       "    <tr>\n",
       "      <th>44</th>\n",
       "      <td>tx_is_a_little_worse</td>\n",
       "      <td>9.614080e+11</td>\n",
       "      <td>9.614080e+11</td>\n",
       "    </tr>\n",
       "    <tr>\n",
       "      <th>45</th>\n",
       "      <td>tx_is_a_lot_worse</td>\n",
       "      <td>5.947059e+11</td>\n",
       "      <td>5.947059e+11</td>\n",
       "    </tr>\n",
       "    <tr>\n",
       "      <th>37</th>\n",
       "      <td>monthly_avg_gas_price</td>\n",
       "      <td>1.851607e+01</td>\n",
       "      <td>1.851607e+01</td>\n",
       "    </tr>\n",
       "    <tr>\n",
       "      <th>24</th>\n",
       "      <td>Retail Gasoline Price TX</td>\n",
       "      <td>-1.838947e+01</td>\n",
       "      <td>1.838947e+01</td>\n",
       "    </tr>\n",
       "    <tr>\n",
       "      <th>29</th>\n",
       "      <td>Nonfarm Employment Texas</td>\n",
       "      <td>-1.212122e+01</td>\n",
       "      <td>1.212122e+01</td>\n",
       "    </tr>\n",
       "    <tr>\n",
       "      <th>13</th>\n",
       "      <td>Nonfarm Employment TX</td>\n",
       "      <td>1.184540e+01</td>\n",
       "      <td>1.184540e+01</td>\n",
       "    </tr>\n",
       "    <tr>\n",
       "      <th>49</th>\n",
       "      <td>fatalities</td>\n",
       "      <td>-7.999325e-01</td>\n",
       "      <td>7.999325e-01</td>\n",
       "    </tr>\n",
       "    <tr>\n",
       "      <th>50</th>\n",
       "      <td>caseCount</td>\n",
       "      <td>7.862346e-01</td>\n",
       "      <td>7.862346e-01</td>\n",
       "    </tr>\n",
       "    <tr>\n",
       "      <th>1</th>\n",
       "      <td>maxtempC</td>\n",
       "      <td>-6.688680e-01</td>\n",
       "      <td>6.688680e-01</td>\n",
       "    </tr>\n",
       "  </tbody>\n",
       "</table>\n",
       "</div>"
      ],
      "text/plain": [
       "                     Feature          Coef        AbsVal\n",
       "48               tx_is_worse -1.441243e+12  1.441243e+12\n",
       "44      tx_is_a_little_worse  9.614080e+11  9.614080e+11\n",
       "45         tx_is_a_lot_worse  5.947059e+11  5.947059e+11\n",
       "37     monthly_avg_gas_price  1.851607e+01  1.851607e+01\n",
       "24  Retail Gasoline Price TX -1.838947e+01  1.838947e+01\n",
       "29  Nonfarm Employment Texas -1.212122e+01  1.212122e+01\n",
       "13     Nonfarm Employment TX  1.184540e+01  1.184540e+01\n",
       "49                fatalities -7.999325e-01  7.999325e-01\n",
       "50                 caseCount  7.862346e-01  7.862346e-01\n",
       "1                   maxtempC -6.688680e-01  6.688680e-01"
      ]
     },
     "execution_count": 16,
     "metadata": {},
     "output_type": "execute_result"
    }
   ],
   "source": [
    "## Print coefficient table\n",
    "\n",
    "coef_table = pd.DataFrame({'Feature':X.columns, 'Coef':lm.coef_, 'AbsVal':np.abs(lm.coef_)})\n",
    "coef_table = coef_table.sort_values('AbsVal', ascending=False)\n",
    "top10 = coef_table.head(10)\n",
    "top10"
   ]
  },
  {
   "cell_type": "markdown",
   "id": "b22eae08",
   "metadata": {},
   "source": [
    "#### Putting all numerical features in, train_score is 23.5899% and test score is 21.0939%"
   ]
  },
  {
   "cell_type": "markdown",
   "id": "cb7c4e28",
   "metadata": {},
   "source": [
    "## Testing multi-colinearity with VIF"
   ]
  },
  {
   "cell_type": "code",
   "execution_count": null,
   "id": "0167c476",
   "metadata": {},
   "outputs": [],
   "source": [
    "def calc_vif(X):\n",
    "\n",
    "    # Calculating VIF\n",
    "    vif = pd.DataFrame()\n",
    "    vif[\"variables\"] = X.columns\n",
    "    vif[\"VIF\"] = [variance_inflation_factor(X.values, i) for i in range(X.shape[1])]\n",
    "\n",
    "    return(vif)"
   ]
  },
  {
   "cell_type": "code",
   "execution_count": 53,
   "id": "5bacddde",
   "metadata": {},
   "outputs": [],
   "source": [
    "# initialize X with all variables\n",
    "X_reduced = X.copy()\n",
    "\n",
    "cnt = 1\n",
    "# Run vif with max 10\n",
    "vif_frame = calc_vif(X_reduced).sort_values('VIF', ascending=False).reset_index()\n",
    "while (vif_frame.loc[0,'VIF'] > 10):\n",
    "#     print(f'run: {cnt}, shape: {X_reduced.shape}')\n",
    "    X_reduced = X_reduced.drop(vif_frame.loc[0,'variables'], axis=1)\n",
    "    vif_frame = calc_vif(X_reduced).sort_values('VIF', ascending=False).reset_index()\n",
    "    cnt += 1\n",
    "vif10_list = vif_frame['variables'].to_list()\n",
    "X_vif10 = X_reduced"
   ]
  },
  {
   "cell_type": "code",
   "execution_count": 54,
   "id": "3f94f1e8",
   "metadata": {},
   "outputs": [],
   "source": [
    "# initialize X with all variables\n",
    "X_reduced = X.copy()\n",
    "\n",
    "cnt = 1\n",
    "# Run vif with max 10\n",
    "vif_frame = calc_vif(X_reduced).sort_values('VIF', ascending=False).reset_index()\n",
    "while (vif_frame.loc[0,'VIF'] > 5):\n",
    "#     print(f'run: {cnt}, shape: {X_reduced.shape}')\n",
    "    X_reduced = X_reduced.drop(vif_frame.loc[0,'variables'], axis=1)\n",
    "    vif_frame = calc_vif(X_reduced).sort_values('VIF', ascending=False).reset_index()\n",
    "    cnt += 1\n",
    "vif5_list = vif_frame['variables'].to_list()\n",
    "X_vif5 = X_reduced"
   ]
  },
  {
   "cell_type": "markdown",
   "id": "86bb24eb",
   "metadata": {},
   "source": []
  },
  {
   "cell_type": "code",
   "execution_count": 55,
   "id": "9c2265c1",
   "metadata": {},
   "outputs": [
    {
     "name": "stdout",
     "output_type": "stream",
     "text": [
      "VIF greater than 10\n",
      "train_score: 0.2031480864669415\n",
      "test_score: 0.1738112155826106\n"
     ]
    }
   ],
   "source": [
    "lm = LinearRegression()\n",
    "X_train, X_test, y_train, y_test = train_test_split(X_vif10, y, test_size=0.33, random_state=42)\n",
    "lm.fit(X_train, y_train)\n",
    "print('VIF greater than 10')\n",
    "print(f'train_score: {lm.score(X_train, y_train)}')\n",
    "print(f'test_score: {lm.score(X_test, y_test)}')"
   ]
  },
  {
   "cell_type": "code",
   "execution_count": 56,
   "id": "671614a0",
   "metadata": {},
   "outputs": [
    {
     "name": "stdout",
     "output_type": "stream",
     "text": [
      "VIF greater than 5\n",
      "train_score: 0.20018106377819123\n",
      "test_score: 0.16992138468043017\n"
     ]
    }
   ],
   "source": [
    "lm = LinearRegression()\n",
    "X_train, X_test, y_train, y_test = train_test_split(X_vif5, y, test_size=0.33, random_state=42)\n",
    "lm.fit(X_train, y_train)\n",
    "print('VIF greater than 5')\n",
    "print(f'train_score: {lm.score(X_train, y_train)}')\n",
    "print(f'test_score: {lm.score(X_test, y_test)}')"
   ]
  },
  {
   "cell_type": "code",
   "execution_count": 58,
   "id": "31f1b174",
   "metadata": {},
   "outputs": [
    {
     "data": {
      "text/html": [
       "<div>\n",
       "<style scoped>\n",
       "    .dataframe tbody tr th:only-of-type {\n",
       "        vertical-align: middle;\n",
       "    }\n",
       "\n",
       "    .dataframe tbody tr th {\n",
       "        vertical-align: top;\n",
       "    }\n",
       "\n",
       "    .dataframe thead th {\n",
       "        text-align: right;\n",
       "    }\n",
       "</style>\n",
       "<table border=\"1\" class=\"dataframe\">\n",
       "  <thead>\n",
       "    <tr style=\"text-align: right;\">\n",
       "      <th></th>\n",
       "      <th>Feature</th>\n",
       "      <th>Coef</th>\n",
       "      <th>AbsVal</th>\n",
       "    </tr>\n",
       "  </thead>\n",
       "  <tbody>\n",
       "    <tr>\n",
       "      <th>0</th>\n",
       "      <td>maxtempC</td>\n",
       "      <td>-0.207766</td>\n",
       "      <td>0.207766</td>\n",
       "    </tr>\n",
       "    <tr>\n",
       "      <th>12</th>\n",
       "      <td>Gross Value Natural Gas Production</td>\n",
       "      <td>-0.186050</td>\n",
       "      <td>0.186050</td>\n",
       "    </tr>\n",
       "    <tr>\n",
       "      <th>9</th>\n",
       "      <td>Existing Single Family Home Sales TX</td>\n",
       "      <td>0.155406</td>\n",
       "      <td>0.155406</td>\n",
       "    </tr>\n",
       "    <tr>\n",
       "      <th>21</th>\n",
       "      <td>tx_is_dont_know</td>\n",
       "      <td>0.139795</td>\n",
       "      <td>0.139795</td>\n",
       "    </tr>\n",
       "    <tr>\n",
       "      <th>29</th>\n",
       "      <td>taxpayer_org_type_foreign</td>\n",
       "      <td>0.131856</td>\n",
       "      <td>0.131856</td>\n",
       "    </tr>\n",
       "    <tr>\n",
       "      <th>24</th>\n",
       "      <td>outlet_org_type_cl</td>\n",
       "      <td>0.123420</td>\n",
       "      <td>0.123420</td>\n",
       "    </tr>\n",
       "    <tr>\n",
       "      <th>25</th>\n",
       "      <td>outlet_org_type_is</td>\n",
       "      <td>-0.110677</td>\n",
       "      <td>0.110677</td>\n",
       "    </tr>\n",
       "    <tr>\n",
       "      <th>11</th>\n",
       "      <td>Gross Value Crude Oil Production</td>\n",
       "      <td>0.099112</td>\n",
       "      <td>0.099112</td>\n",
       "    </tr>\n",
       "    <tr>\n",
       "      <th>34</th>\n",
       "      <td>sap_case_shiller_index</td>\n",
       "      <td>0.097008</td>\n",
       "      <td>0.097008</td>\n",
       "    </tr>\n",
       "    <tr>\n",
       "      <th>32</th>\n",
       "      <td>total_sales_tax</td>\n",
       "      <td>-0.089613</td>\n",
       "      <td>0.089613</td>\n",
       "    </tr>\n",
       "  </tbody>\n",
       "</table>\n",
       "</div>"
      ],
      "text/plain": [
       "                                 Feature      Coef    AbsVal\n",
       "0                               maxtempC -0.207766  0.207766\n",
       "12    Gross Value Natural Gas Production -0.186050  0.186050\n",
       "9   Existing Single Family Home Sales TX  0.155406  0.155406\n",
       "21                       tx_is_dont_know  0.139795  0.139795\n",
       "29             taxpayer_org_type_foreign  0.131856  0.131856\n",
       "24                    outlet_org_type_cl  0.123420  0.123420\n",
       "25                    outlet_org_type_is -0.110677  0.110677\n",
       "11      Gross Value Crude Oil Production  0.099112  0.099112\n",
       "34                sap_case_shiller_index  0.097008  0.097008\n",
       "32                       total_sales_tax -0.089613  0.089613"
      ]
     },
     "execution_count": 58,
     "metadata": {},
     "output_type": "execute_result"
    }
   ],
   "source": [
    "## Print coefficient table\n",
    "\n",
    "coef_table = pd.DataFrame({'Feature':X_test.columns, 'Coef':lm.coef_, 'AbsVal':np.abs(lm.coef_)})\n",
    "coef_table = coef_table.sort_values('AbsVal', ascending=False)\n",
    "top10 = coef_table.head(10)\n",
    "top10"
   ]
  },
  {
   "cell_type": "code",
   "execution_count": null,
   "id": "a0126791",
   "metadata": {},
   "outputs": [],
   "source": []
  }
 ],
 "metadata": {
  "kernelspec": {
   "display_name": "Python 3 (ipykernel)",
   "language": "python",
   "name": "python3"
  },
  "language_info": {
   "codemirror_mode": {
    "name": "ipython",
    "version": 3
   },
   "file_extension": ".py",
   "mimetype": "text/x-python",
   "name": "python",
   "nbconvert_exporter": "python",
   "pygments_lexer": "ipython3",
   "version": "3.8.2"
  }
 },
 "nbformat": 4,
 "nbformat_minor": 5
}
