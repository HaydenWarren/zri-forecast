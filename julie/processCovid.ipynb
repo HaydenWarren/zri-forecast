{
 "cells": [
  {
   "cell_type": "code",
   "execution_count": 1,
   "id": "22262fd9",
   "metadata": {},
   "outputs": [],
   "source": [
    "import numpy as np\n",
    "import pandas as pd\n",
    "import missingno as msno\n",
    "from datetime import datetime"
   ]
  },
  {
   "cell_type": "code",
   "execution_count": 2,
   "id": "545d2c69",
   "metadata": {},
   "outputs": [],
   "source": [
    "## Load covid_cases and covid_fatalities\n",
    "covid_cases = pd.read_csv('data/covid_cases.csv')\n",
    "covid_fatalities = pd.read_csv('data/covid_fatalities.csv')"
   ]
  },
  {
   "cell_type": "markdown",
   "id": "2af8a3b7",
   "metadata": {},
   "source": [
    "### Covid Cases"
   ]
  },
  {
   "cell_type": "code",
   "execution_count": 3,
   "id": "af9f675d",
   "metadata": {
    "scrolled": true
   },
   "outputs": [],
   "source": [
    "# second row is the column names and drop the information above\n",
    "covid_cases.columns = covid_cases.iloc[1]\n",
    "covid_cases = covid_cases.drop(index=[0,1])\n",
    "\n",
    "# Last rows have no useful information\n",
    "covid_cases = covid_cases.drop(index=[256,257,258,259,260,261])"
   ]
  },
  {
   "cell_type": "code",
   "execution_count": 4,
   "id": "4a4ff0dc",
   "metadata": {},
   "outputs": [],
   "source": [
    "# Reduce column names to dates\n",
    "col_names = covid_cases.columns.to_list()\n",
    "col_names[1:] = [name[6:] for name in col_names[1:]]\n",
    "col_names[0] = 'county'\n",
    "covid_cases.columns = col_names"
   ]
  },
  {
   "cell_type": "code",
   "execution_count": 5,
   "id": "df8a52d5",
   "metadata": {},
   "outputs": [],
   "source": [
    "# melt columns to rows\n",
    "covid_cases = pd.melt(covid_cases, id_vars=['county'], \n",
    "             value_vars=covid_cases.columns[1:].to_list(), \n",
    "             var_name ='date', \n",
    "             value_name = 'caseCount',)\n",
    "covid_cases = covid_cases.sort_values('county')"
   ]
  },
  {
   "cell_type": "code",
   "execution_count": 6,
   "id": "fc6001cf",
   "metadata": {},
   "outputs": [],
   "source": [
    "## Convert column to date time and add month and year column\n",
    "covid_cases['date'] = pd.to_datetime(covid_cases['date'], format='%m-%d-%Y')\n",
    "covid_cases['month'] = pd.DatetimeIndex(covid_cases['date']).month\n",
    "covid_cases['year'] = pd.DatetimeIndex(covid_cases['date']).year"
   ]
  },
  {
   "cell_type": "code",
   "execution_count": 7,
   "id": "0b28346c",
   "metadata": {},
   "outputs": [],
   "source": [
    "# Convert cases to int from object and get the mean casecount by month\n",
    "covid_cases['caseCount'] = covid_cases['caseCount'].astype(int)\n",
    "covid_cases_grouped = covid_cases.groupby(['year', 'month', 'county']).agg({'caseCount':'mean'})\n",
    "covid_cases_grouped = covid_cases_grouped.sort_values(['year', 'month'])\n",
    "covid_cases_grouped = covid_cases_grouped.reset_index()"
   ]
  },
  {
   "cell_type": "markdown",
   "id": "b3d49976",
   "metadata": {},
   "source": [
    "### Covid Fatalities"
   ]
  },
  {
   "cell_type": "code",
   "execution_count": 8,
   "id": "04e0a319",
   "metadata": {},
   "outputs": [],
   "source": [
    "# second row is the column names and drop the information above\n",
    "covid_fatalities.columns = covid_fatalities.iloc[1]\n",
    "covid_fatalities = covid_fatalities.drop(index=[0,1])\n"
   ]
  },
  {
   "cell_type": "code",
   "execution_count": 9,
   "id": "d17c553f",
   "metadata": {},
   "outputs": [],
   "source": [
    "# Last row, 257, has no useful information\n",
    "covid_fatalities = covid_fatalities.drop(index=257)"
   ]
  },
  {
   "cell_type": "code",
   "execution_count": 10,
   "id": "cb5764a7",
   "metadata": {},
   "outputs": [],
   "source": [
    "# Reduce column names to dates\n",
    "col_names = covid_fatalities.columns.to_list()\n",
    "col_names[1:] = [name[11:] for name in col_names[1:]]\n",
    "col_names[0] = 'county'\n",
    "covid_fatalities.columns = col_names"
   ]
  },
  {
   "cell_type": "code",
   "execution_count": 11,
   "id": "b8a3a0b5",
   "metadata": {},
   "outputs": [],
   "source": [
    "# melt columns to rows\n",
    "covid_fatalities = pd.melt(covid_fatalities, id_vars=['county'], \n",
    "             value_vars=covid_fatalities.columns[1:].to_list(), \n",
    "             var_name ='date', \n",
    "             value_name = 'fatalities',)\n",
    "covid_fatalities = covid_fatalities.sort_values('county')"
   ]
  },
  {
   "cell_type": "code",
   "execution_count": 12,
   "id": "7ebbe1db",
   "metadata": {},
   "outputs": [],
   "source": [
    "## Convert column to date time and add month and year column\n",
    "covid_fatalities['date'] = pd.to_datetime(covid_fatalities['date'], format='%m-%d-%Y')\n",
    "covid_fatalities['month'] = pd.DatetimeIndex(covid_fatalities['date']).month\n",
    "covid_fatalities['year'] = pd.DatetimeIndex(covid_fatalities['date']).year"
   ]
  },
  {
   "cell_type": "code",
   "execution_count": 13,
   "id": "c276c01f",
   "metadata": {},
   "outputs": [],
   "source": [
    "# Convert cases to int from object and get the mean fatalities by month\n",
    "covid_fatalities['fatalities'] = covid_fatalities['fatalities'].astype(int)\n",
    "covid_fatalities_grouped = covid_fatalities.groupby(['year', 'month', 'county']).agg({'fatalities':'mean'})\n",
    "covid_fatalities_grouped = covid_fatalities_grouped.sort_values(['county', 'year', 'month'])\n",
    "covid_fatalities_grouped = covid_fatalities_grouped.reset_index()"
   ]
  },
  {
   "cell_type": "markdown",
   "id": "a11954c2",
   "metadata": {},
   "source": [
    "### Compare Cases and Fatalities county names"
   ]
  },
  {
   "cell_type": "code",
   "execution_count": 14,
   "id": "5385eb84",
   "metadata": {},
   "outputs": [],
   "source": [
    "# Convert Fatalities to lowercase\n",
    "covid_fatalities_grouped['county'] = covid_fatalities_grouped['county'].str.lower()\n",
    "covid_cases_grouped['county'] = covid_cases_grouped['county'].str.lower()"
   ]
  },
  {
   "cell_type": "code",
   "execution_count": 15,
   "id": "ed438d8b",
   "metadata": {},
   "outputs": [
    {
     "data": {
      "text/plain": [
       "{'de witt', 'unknown'}"
      ]
     },
     "execution_count": 15,
     "metadata": {},
     "output_type": "execute_result"
    }
   ],
   "source": [
    "# Compare case_counties and fatality_counties\n",
    "case_counties = covid_cases_grouped['county'].unique().tolist()\n",
    "case_counties = [county.lower() for county in case_counties]\n",
    "set(case_counties)\n",
    "\n",
    "fatalities_counties = covid_fatalities_grouped['county'].unique().tolist()\n",
    "fatalities_counties = [county.lower() for county in fatalities_counties]\n",
    "set(fatalities_counties)\n",
    "\n",
    "# fatalities_counties uses DE WITT instead of dewitt, and also has an unknown county\n",
    "set(fatalities_counties) - set(case_counties)"
   ]
  },
  {
   "cell_type": "code",
   "execution_count": 16,
   "id": "ebf26672",
   "metadata": {},
   "outputs": [],
   "source": [
    "## fatalities includes \"de witt\" instead of \"dewitt\".  Also includes \"unknown\"\n",
    "covid_fatalities_grouped['county'].replace(to_replace='de witt', value='dewitt', inplace=True)\n",
    "# covid_fatalities_grouped.drop()\n",
    "covid_fatalities_grouped = covid_fatalities_grouped[covid_fatalities_grouped['county'] != 'unknown']"
   ]
  },
  {
   "cell_type": "code",
   "execution_count": 17,
   "id": "143c5f8e",
   "metadata": {},
   "outputs": [
    {
     "data": {
      "text/plain": [
       "set()"
      ]
     },
     "execution_count": 17,
     "metadata": {},
     "output_type": "execute_result"
    }
   ],
   "source": [
    "## Check that sets are the same. Should produce an empty set\n",
    "fatalities_counties_grouped = covid_fatalities_grouped['county'].unique().tolist()\n",
    "set(fatalities_counties_grouped) - set(case_counties)"
   ]
  },
  {
   "cell_type": "code",
   "execution_count": 18,
   "id": "55178775",
   "metadata": {},
   "outputs": [
    {
     "name": "stdout",
     "output_type": "stream",
     "text": [
      "fatalities shape: (4826, 4)\n",
      "cases shape: (4826, 4)\n",
      "merged shape: (4826, 5)\n"
     ]
    }
   ],
   "source": [
    "## Merge the two datasets\n",
    "covid_merged = pd.merge(covid_fatalities_grouped, covid_cases_grouped, \n",
    "                        on =['year','month','county'])\n",
    "\n",
    "print(f'fatalities shape: {covid_fatalities_grouped.shape}')\n",
    "print(f'cases shape: {covid_cases_grouped.shape}')\n",
    "print(f'merged shape: {covid_merged.shape}')"
   ]
  },
  {
   "cell_type": "code",
   "execution_count": 19,
   "id": "12229abb",
   "metadata": {},
   "outputs": [],
   "source": [
    "# # Save csv\n",
    "# covid_merged.to_csv('covid.csv')"
   ]
  },
  {
   "cell_type": "markdown",
   "id": "de93a739",
   "metadata": {},
   "source": [
    "### Attach zip codes to counties"
   ]
  },
  {
   "cell_type": "code",
   "execution_count": 20,
   "id": "91ac5fd7",
   "metadata": {},
   "outputs": [],
   "source": [
    "county_zip_map = pd.read_csv('data/zip_county_map.csv', index_col=0)\n",
    "county_zip_map['county'] = county_zip_map['county'].str.lower()"
   ]
  },
  {
   "cell_type": "code",
   "execution_count": 21,
   "id": "bb338c06",
   "metadata": {},
   "outputs": [],
   "source": [
    "covid_copy = covid_merged.copy()"
   ]
  },
  {
   "cell_type": "code",
   "execution_count": 22,
   "id": "7f466f00",
   "metadata": {},
   "outputs": [],
   "source": [
    "covid_copy_mapped = pd.merge(left=covid_copy, \n",
    "                             right = county_zip_map, \n",
    "                             how='left', \n",
    "                             left_on='county', \n",
    "                             right_on = 'county')\n",
    "# covid_copy_mapped[covid_copy_mapped['county'] == 'el paso']"
   ]
  },
  {
   "cell_type": "code",
   "execution_count": 23,
   "id": "b07c5585",
   "metadata": {},
   "outputs": [],
   "source": [
    "covid_copy_mapped = covid_copy_mapped.dropna(subset=['zip_code']).reset_index(drop=True)"
   ]
  },
  {
   "cell_type": "code",
   "execution_count": 26,
   "id": "7a2a43a1",
   "metadata": {},
   "outputs": [],
   "source": [
    "# # Save csv\n",
    "# covid_copy_mapped.to_csv('covid_clean.csv')"
   ]
  },
  {
   "cell_type": "code",
   "execution_count": null,
   "id": "d7eebaf0",
   "metadata": {},
   "outputs": [],
   "source": []
  }
 ],
 "metadata": {
  "kernelspec": {
   "display_name": "Python 3 (ipykernel)",
   "language": "python",
   "name": "python3"
  },
  "language_info": {
   "codemirror_mode": {
    "name": "ipython",
    "version": 3
   },
   "file_extension": ".py",
   "mimetype": "text/x-python",
   "name": "python",
   "nbconvert_exporter": "python",
   "pygments_lexer": "ipython3",
   "version": "3.8.2"
  }
 },
 "nbformat": 4,
 "nbformat_minor": 5
}
