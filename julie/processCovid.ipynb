{
 "cells": [
  {
   "cell_type": "code",
   "execution_count": 1,
   "id": "22262fd9",
   "metadata": {},
   "outputs": [],
   "source": [
    "import numpy as np\n",
    "import pandas as pd\n",
    "import missingno as msno\n",
    "from datetime import datetime"
   ]
  },
  {
   "cell_type": "code",
   "execution_count": 2,
   "id": "545d2c69",
   "metadata": {},
   "outputs": [],
   "source": [
    "## Load covid_cases and covid_fatalities\n",
    "covid_cases = pd.read_csv('data/covid_cases.csv')\n",
    "covid_fatalities = pd.read_csv('data/covid_fatalities.csv')\n",
    "county_zip_map = pd.read_csv('data/zip_county_map.csv', index_col=0)"
   ]
  },
  {
   "cell_type": "markdown",
   "id": "2af8a3b7",
   "metadata": {},
   "source": [
    "### Covid Cases"
   ]
  },
  {
   "cell_type": "code",
   "execution_count": 3,
   "id": "af9f675d",
   "metadata": {
    "scrolled": true
   },
   "outputs": [],
   "source": [
    "# second row is the column names and drop the information above\n",
    "covid_cases.columns = covid_cases.iloc[1]\n",
    "covid_cases = covid_cases.drop(index=[0,1])\n",
    "\n",
    "# Last rows have no useful information\n",
    "covid_cases = covid_cases.drop(index=[256,257,258,259,260,261])"
   ]
  },
  {
   "cell_type": "code",
   "execution_count": 4,
   "id": "4a4ff0dc",
   "metadata": {},
   "outputs": [],
   "source": [
    "# Reduce column names to dates\n",
    "col_names = covid_cases.columns.to_list()\n",
    "col_names[1:] = [name[6:] for name in col_names[1:]]\n",
    "col_names[0] = 'county'\n",
    "covid_cases.columns = col_names"
   ]
  },
  {
   "cell_type": "code",
   "execution_count": 5,
   "id": "df8a52d5",
   "metadata": {},
   "outputs": [],
   "source": [
    "# melt columns to rows\n",
    "covid_cases = pd.melt(covid_cases, id_vars=['county'], \n",
    "             value_vars=covid_cases.columns[1:].to_list(), \n",
    "             var_name ='date', \n",
    "             value_name = 'caseCount',)\n",
    "covid_cases = covid_cases.sort_values('county')"
   ]
  },
  {
   "cell_type": "code",
   "execution_count": 6,
   "id": "fc6001cf",
   "metadata": {},
   "outputs": [],
   "source": [
    "## Convert column to date time and add month and year column\n",
    "covid_cases['date'] = pd.to_datetime(covid_cases['date'], format='%m-%d-%Y')\n",
    "covid_cases['month'] = pd.DatetimeIndex(covid_cases['date']).month\n",
    "covid_cases['year'] = pd.DatetimeIndex(covid_cases['date']).year"
   ]
  },
  {
   "cell_type": "code",
   "execution_count": 7,
   "id": "0b28346c",
   "metadata": {},
   "outputs": [],
   "source": [
    "# Convert cases to int from object and get the mean casecount by month\n",
    "covid_cases['caseCount'] = covid_cases['caseCount'].astype(int)\n",
    "covid_cases_grouped = covid_cases.groupby(['year', 'month', 'county']).agg({'caseCount':'mean'})\n",
    "covid_cases_grouped = covid_cases_grouped.sort_values(['year', 'month'])\n",
    "covid_cases_grouped = covid_cases_grouped.reset_index()"
   ]
  },
  {
   "cell_type": "markdown",
   "id": "b3d49976",
   "metadata": {},
   "source": [
    "### Covid Fatalities"
   ]
  },
  {
   "cell_type": "code",
   "execution_count": 8,
   "id": "04e0a319",
   "metadata": {},
   "outputs": [],
   "source": [
    "# second row is the column names and drop the information above\n",
    "covid_fatalities.columns = covid_fatalities.iloc[1]\n",
    "covid_fatalities = covid_fatalities.drop(index=[0,1])\n"
   ]
  },
  {
   "cell_type": "code",
   "execution_count": 9,
   "id": "d17c553f",
   "metadata": {},
   "outputs": [],
   "source": [
    "# Last row, 257, has no useful information\n",
    "covid_fatalities = covid_fatalities.drop(index=257)"
   ]
  },
  {
   "cell_type": "code",
   "execution_count": 10,
   "id": "cb5764a7",
   "metadata": {},
   "outputs": [],
   "source": [
    "# Reduce column names to dates\n",
    "col_names = covid_fatalities.columns.to_list()\n",
    "col_names[1:] = [name[11:] for name in col_names[1:]]\n",
    "col_names[0] = 'county'\n",
    "covid_fatalities.columns = col_names"
   ]
  },
  {
   "cell_type": "code",
   "execution_count": 11,
   "id": "b8a3a0b5",
   "metadata": {},
   "outputs": [],
   "source": [
    "# melt columns to rows\n",
    "covid_fatalities = pd.melt(covid_fatalities, id_vars=['county'], \n",
    "             value_vars=covid_fatalities.columns[1:].to_list(), \n",
    "             var_name ='date', \n",
    "             value_name = 'fatalities',)\n",
    "covid_fatalities = covid_fatalities.sort_values('county')"
   ]
  },
  {
   "cell_type": "code",
   "execution_count": 12,
   "id": "7ebbe1db",
   "metadata": {},
   "outputs": [],
   "source": [
    "## Convert column to date time and add month and year column\n",
    "covid_fatalities['date'] = pd.to_datetime(covid_fatalities['date'], format='%m-%d-%Y')\n",
    "covid_fatalities['month'] = pd.DatetimeIndex(covid_fatalities['date']).month\n",
    "covid_fatalities['year'] = pd.DatetimeIndex(covid_fatalities['date']).year"
   ]
  },
  {
   "cell_type": "code",
   "execution_count": 13,
   "id": "c276c01f",
   "metadata": {},
   "outputs": [],
   "source": [
    "# Convert cases to int from object and get the mean fatalities by month\n",
    "covid_fatalities['fatalities'] = covid_fatalities['fatalities'].astype(int)\n",
    "covid_fatalities_grouped = covid_fatalities.groupby(['year', 'month', 'county']).agg({'fatalities':'mean'})\n",
    "covid_fatalities_grouped = covid_fatalities_grouped.sort_values(['county', 'year', 'month'])\n",
    "covid_fatalities_grouped = covid_fatalities_grouped.reset_index()"
   ]
  },
  {
   "cell_type": "markdown",
   "id": "a11954c2",
   "metadata": {},
   "source": [
    "### Compare Cases and Fatalities county names"
   ]
  },
  {
   "cell_type": "code",
   "execution_count": 14,
   "id": "5385eb84",
   "metadata": {},
   "outputs": [],
   "source": [
    "# Convert Fatalities to lowercase\n",
    "covid_fatalities_grouped['county'] = covid_fatalities_grouped['county'].str.lower()\n",
    "covid_cases_grouped['county'] = covid_cases_grouped['county'].str.lower()"
   ]
  },
  {
   "cell_type": "code",
   "execution_count": 15,
   "id": "ed438d8b",
   "metadata": {},
   "outputs": [
    {
     "data": {
      "text/plain": [
       "{'de witt', 'unknown'}"
      ]
     },
     "execution_count": 15,
     "metadata": {},
     "output_type": "execute_result"
    }
   ],
   "source": [
    "# Compare case_counties and fatality_counties\n",
    "case_counties = covid_cases_grouped['county'].unique().tolist()\n",
    "case_counties = [county.lower() for county in case_counties]\n",
    "set(case_counties)\n",
    "\n",
    "fatalities_counties = covid_fatalities_grouped['county'].unique().tolist()\n",
    "fatalities_counties = [county.lower() for county in fatalities_counties]\n",
    "set(fatalities_counties)\n",
    "\n",
    "# fatalities_counties uses DE WITT instead of dewitt, and also has an unknown county\n",
    "set(fatalities_counties) - set(case_counties)"
   ]
  },
  {
   "cell_type": "code",
   "execution_count": 16,
   "id": "ebf26672",
   "metadata": {},
   "outputs": [],
   "source": [
    "## fatalities includes \"de witt\" instead of \"dewitt\".  Also includes \"unknown\"\n",
    "covid_fatalities_grouped['county'].replace(to_replace='de witt', value='dewitt', inplace=True)\n",
    "# covid_fatalities_grouped.drop()\n",
    "covid_fatalities_grouped = covid_fatalities_grouped[covid_fatalities_grouped['county'] != 'unknown']"
   ]
  },
  {
   "cell_type": "code",
   "execution_count": 17,
   "id": "143c5f8e",
   "metadata": {},
   "outputs": [
    {
     "data": {
      "text/plain": [
       "set()"
      ]
     },
     "execution_count": 17,
     "metadata": {},
     "output_type": "execute_result"
    }
   ],
   "source": [
    "## Check that sets are the same. Should produce an empty set\n",
    "fatalities_counties_grouped = covid_fatalities_grouped['county'].unique().tolist()\n",
    "set(fatalities_counties_grouped) - set(case_counties)"
   ]
  },
  {
   "cell_type": "code",
   "execution_count": 18,
   "id": "55178775",
   "metadata": {},
   "outputs": [
    {
     "name": "stdout",
     "output_type": "stream",
     "text": [
      "fatalities shape: (4826, 4)\n",
      "cases shape: (4826, 4)\n",
      "merged shape: (4826, 5)\n"
     ]
    }
   ],
   "source": [
    "## Merge the two datasets\n",
    "covid_merged = pd.merge(covid_fatalities_grouped, covid_cases_grouped, \n",
    "                        on =['year','month','county'])\n",
    "\n",
    "print(f'fatalities shape: {covid_fatalities_grouped.shape}')\n",
    "print(f'cases shape: {covid_cases_grouped.shape}')\n",
    "print(f'merged shape: {covid_merged.shape}')"
   ]
  },
  {
   "cell_type": "markdown",
   "id": "de93a739",
   "metadata": {},
   "source": [
    "### Attach zip codes to counties"
   ]
  },
  {
   "cell_type": "code",
   "execution_count": 19,
   "id": "91ac5fd7",
   "metadata": {},
   "outputs": [],
   "source": [
    "# Convert all of the county names to lowercase\n",
    "county_zip_map['county'] = county_zip_map['county'].str.lower()"
   ]
  },
  {
   "cell_type": "code",
   "execution_count": 20,
   "id": "7f466f00",
   "metadata": {},
   "outputs": [],
   "source": [
    "# merge covid dataset to county zips to add zip codes to each county\n",
    "covid_mapped = pd.merge(left=covid_merged, \n",
    "                             right = county_zip_map, \n",
    "                             how='left', \n",
    "                             left_on='county', \n",
    "                             right_on = 'county')\n",
    "# covid_copy_mapped[covid_copy_mapped['county'] == 'el paso']"
   ]
  },
  {
   "cell_type": "code",
   "execution_count": 21,
   "id": "b07c5585",
   "metadata": {},
   "outputs": [],
   "source": [
    "covid_mapped = covid_mapped.dropna(subset=['zip_code']).reset_index(drop=True)"
   ]
  },
  {
   "cell_type": "markdown",
   "id": "b1a63725",
   "metadata": {},
   "source": [
    "### Padding dataset with 0s for all dates back to 01-01-2012"
   ]
  },
  {
   "cell_type": "code",
   "execution_count": 22,
   "id": "d4cf2904",
   "metadata": {},
   "outputs": [],
   "source": [
    "# Create datetime column, 'Time' in covid dataframe\n",
    "covid_mapped['day'] = 1\n",
    "covid_mapped['Time'] = pd.to_datetime(covid_mapped[['year','month','day']])\n",
    "covid_mapped = covid_mapped.drop(['month', 'year', 'day'], axis=1)"
   ]
  },
  {
   "cell_type": "code",
   "execution_count": 23,
   "id": "ba06ceb9",
   "metadata": {},
   "outputs": [],
   "source": [
    "# zips = county_zip_map['zip_code']\n"
   ]
  },
  {
   "cell_type": "code",
   "execution_count": 24,
   "id": "d026bc85",
   "metadata": {},
   "outputs": [],
   "source": [
    "# Create list of dates from 01-01-2012 to most recent in covid data\n",
    "dates_list = []\n",
    "new_date = pd.to_datetime('01-01-2012')\n",
    "end_date = covid_mapped['Time'].max()\n",
    "\n",
    "while new_date != end_date:\n",
    "    dates_list.append(new_date)\n",
    "    new_date += pd.DateOffset(months=1)\n",
    "dates = pd.DataFrame(dates_list)\n",
    "dates.columns = ['Time']"
   ]
  },
  {
   "cell_type": "code",
   "execution_count": 25,
   "id": "b2ab7dc5",
   "metadata": {},
   "outputs": [],
   "source": [
    "# Add TX for merging and merge zips and time on state to create overall structure\n",
    "county_zip_map['state'] = 'TX'\n",
    "dates['state'] = 'TX'\n",
    "dates = dates.merge(county_zip_map, how='left', on='state')\n",
    "\n",
    "# Merge to original dataframe\n",
    "covid_clean = dates.merge(covid_mapped, how='left', on=['Time', 'zip_code', 'county'])\n",
    "covid_clean = covid_clean.fillna(0)\n",
    "covid_clean = covid_clean.drop('state', axis=1)"
   ]
  },
  {
   "cell_type": "code",
   "execution_count": 27,
   "id": "0e071a9c",
   "metadata": {},
   "outputs": [
    {
     "data": {
      "text/html": [
       "<div>\n",
       "<style scoped>\n",
       "    .dataframe tbody tr th:only-of-type {\n",
       "        vertical-align: middle;\n",
       "    }\n",
       "\n",
       "    .dataframe tbody tr th {\n",
       "        vertical-align: top;\n",
       "    }\n",
       "\n",
       "    .dataframe thead th {\n",
       "        text-align: right;\n",
       "    }\n",
       "</style>\n",
       "<table border=\"1\" class=\"dataframe\">\n",
       "  <thead>\n",
       "    <tr style=\"text-align: right;\">\n",
       "      <th></th>\n",
       "      <th>Time</th>\n",
       "      <th>zip_code</th>\n",
       "      <th>county</th>\n",
       "      <th>fatalities</th>\n",
       "      <th>caseCount</th>\n",
       "    </tr>\n",
       "  </thead>\n",
       "  <tbody>\n",
       "    <tr>\n",
       "      <th>0</th>\n",
       "      <td>2012-01-01</td>\n",
       "      <td>75002.0</td>\n",
       "      <td>collin</td>\n",
       "      <td>0.000000</td>\n",
       "      <td>0.000000</td>\n",
       "    </tr>\n",
       "    <tr>\n",
       "      <th>1</th>\n",
       "      <td>2012-01-01</td>\n",
       "      <td>75010.0</td>\n",
       "      <td>dallas</td>\n",
       "      <td>0.000000</td>\n",
       "      <td>0.000000</td>\n",
       "    </tr>\n",
       "    <tr>\n",
       "      <th>2</th>\n",
       "      <td>2012-01-01</td>\n",
       "      <td>75013.0</td>\n",
       "      <td>collin</td>\n",
       "      <td>0.000000</td>\n",
       "      <td>0.000000</td>\n",
       "    </tr>\n",
       "    <tr>\n",
       "      <th>3</th>\n",
       "      <td>2012-01-01</td>\n",
       "      <td>75019.0</td>\n",
       "      <td>dallas</td>\n",
       "      <td>0.000000</td>\n",
       "      <td>0.000000</td>\n",
       "    </tr>\n",
       "    <tr>\n",
       "      <th>4</th>\n",
       "      <td>2012-01-01</td>\n",
       "      <td>75022.0</td>\n",
       "      <td>denton</td>\n",
       "      <td>0.000000</td>\n",
       "      <td>0.000000</td>\n",
       "    </tr>\n",
       "    <tr>\n",
       "      <th>...</th>\n",
       "      <td>...</td>\n",
       "      <td>...</td>\n",
       "      <td>...</td>\n",
       "      <td>...</td>\n",
       "      <td>...</td>\n",
       "    </tr>\n",
       "    <tr>\n",
       "      <th>24935</th>\n",
       "      <td>2021-08-01</td>\n",
       "      <td>78757.0</td>\n",
       "      <td>travis</td>\n",
       "      <td>1130.354839</td>\n",
       "      <td>96055.870968</td>\n",
       "    </tr>\n",
       "    <tr>\n",
       "      <th>24936</th>\n",
       "      <td>2021-08-01</td>\n",
       "      <td>78758.0</td>\n",
       "      <td>travis</td>\n",
       "      <td>1130.354839</td>\n",
       "      <td>96055.870968</td>\n",
       "    </tr>\n",
       "    <tr>\n",
       "      <th>24937</th>\n",
       "      <td>2021-08-01</td>\n",
       "      <td>78759.0</td>\n",
       "      <td>travis</td>\n",
       "      <td>1130.354839</td>\n",
       "      <td>96055.870968</td>\n",
       "    </tr>\n",
       "    <tr>\n",
       "      <th>24938</th>\n",
       "      <td>2021-08-01</td>\n",
       "      <td>79912.0</td>\n",
       "      <td>el paso</td>\n",
       "      <td>2781.225806</td>\n",
       "      <td>140034.000000</td>\n",
       "    </tr>\n",
       "    <tr>\n",
       "      <th>24939</th>\n",
       "      <td>2021-08-01</td>\n",
       "      <td>79936.0</td>\n",
       "      <td>el paso</td>\n",
       "      <td>2781.225806</td>\n",
       "      <td>140034.000000</td>\n",
       "    </tr>\n",
       "  </tbody>\n",
       "</table>\n",
       "<p>24940 rows × 5 columns</p>\n",
       "</div>"
      ],
      "text/plain": [
       "            Time  zip_code   county   fatalities      caseCount\n",
       "0     2012-01-01   75002.0   collin     0.000000       0.000000\n",
       "1     2012-01-01   75010.0   dallas     0.000000       0.000000\n",
       "2     2012-01-01   75013.0   collin     0.000000       0.000000\n",
       "3     2012-01-01   75019.0   dallas     0.000000       0.000000\n",
       "4     2012-01-01   75022.0   denton     0.000000       0.000000\n",
       "...          ...       ...      ...          ...            ...\n",
       "24935 2021-08-01   78757.0   travis  1130.354839   96055.870968\n",
       "24936 2021-08-01   78758.0   travis  1130.354839   96055.870968\n",
       "24937 2021-08-01   78759.0   travis  1130.354839   96055.870968\n",
       "24938 2021-08-01   79912.0  el paso  2781.225806  140034.000000\n",
       "24939 2021-08-01   79936.0  el paso  2781.225806  140034.000000\n",
       "\n",
       "[24940 rows x 5 columns]"
      ]
     },
     "execution_count": 27,
     "metadata": {},
     "output_type": "execute_result"
    }
   ],
   "source": [
    "covid_clean"
   ]
  },
  {
   "cell_type": "code",
   "execution_count": 28,
   "id": "ded9c85a",
   "metadata": {},
   "outputs": [],
   "source": [
    "# # Save csv\n",
    "# covid_clean.to_csv('covid_clean.csv')"
   ]
  },
  {
   "cell_type": "code",
   "execution_count": null,
   "id": "6b4322fb",
   "metadata": {},
   "outputs": [],
   "source": []
  }
 ],
 "metadata": {
  "kernelspec": {
   "display_name": "Python 3 (ipykernel)",
   "language": "python",
   "name": "python3"
  },
  "language_info": {
   "codemirror_mode": {
    "name": "ipython",
    "version": 3
   },
   "file_extension": ".py",
   "mimetype": "text/x-python",
   "name": "python",
   "nbconvert_exporter": "python",
   "pygments_lexer": "ipython3",
   "version": "3.8.2"
  }
 },
 "nbformat": 4,
 "nbformat_minor": 5
}
