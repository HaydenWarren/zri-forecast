{
 "cells": [
  {
   "cell_type": "code",
   "execution_count": 1,
   "id": "22262fd9",
   "metadata": {},
   "outputs": [],
   "source": [
    "import numpy as np\n",
    "import pandas as pd\n",
    "import missingno as msno\n",
    "from datetime import datetime"
   ]
  },
  {
   "cell_type": "code",
   "execution_count": 2,
   "id": "545d2c69",
   "metadata": {},
   "outputs": [],
   "source": [
    "## Load covid_cases and covid_fatalities\n",
    "covid_cases = pd.read_csv('data/covid_cases.csv')\n",
    "covid_fatalities = pd.read_csv('data/covid_fatalities.csv')"
   ]
  },
  {
   "cell_type": "markdown",
   "id": "2af8a3b7",
   "metadata": {},
   "source": [
    "### Covid Cases"
   ]
  },
  {
   "cell_type": "code",
   "execution_count": 3,
   "id": "af9f675d",
   "metadata": {
    "scrolled": true
   },
   "outputs": [],
   "source": [
    "# second row is the column names and drop the information above\n",
    "covid_cases.columns = covid_cases.iloc[1]\n",
    "covid_cases = covid_cases.drop(index=[0,1])\n",
    "\n",
    "# Last rows have no useful information\n",
    "covid_cases = covid_cases.drop(index=[256,257,258,259,260,261])"
   ]
  },
  {
   "cell_type": "code",
   "execution_count": 4,
   "id": "4a4ff0dc",
   "metadata": {},
   "outputs": [],
   "source": [
    "# Reduce column names to dates\n",
    "col_names = covid_cases.columns.to_list()\n",
    "col_names[1:] = [name[6:] for name in col_names[1:]]\n",
    "covid_cases.columns = col_names"
   ]
  },
  {
   "cell_type": "code",
   "execution_count": 5,
   "id": "df8a52d5",
   "metadata": {},
   "outputs": [],
   "source": [
    "# melt columns to rows\n",
    "covid_cases = pd.melt(covid_cases, id_vars=['County Name'], \n",
    "             value_vars=covid_cases.columns[1:].to_list(), \n",
    "             var_name ='date', \n",
    "             value_name = 'CaseCount',)\n",
    "covid_cases = covid_cases.sort_values('County Name')"
   ]
  },
  {
   "cell_type": "code",
   "execution_count": 6,
   "id": "fc6001cf",
   "metadata": {},
   "outputs": [],
   "source": [
    "## Convert column to date time and add month and year column\n",
    "covid_cases['date'] = pd.to_datetime(covid_cases['date'], format='%m-%d-%Y')\n",
    "covid_cases['month'] = pd.DatetimeIndex(covid_cases['date']).month\n",
    "covid_cases['year'] = pd.DatetimeIndex(covid_cases['date']).year"
   ]
  },
  {
   "cell_type": "code",
   "execution_count": 7,
   "id": "0b28346c",
   "metadata": {},
   "outputs": [],
   "source": [
    "# Convert cases to int from object and get the mean casecount by month\n",
    "covid_cases['CaseCount'] = covid_cases['CaseCount'].astype(int)\n",
    "covid_cases_grouped = covid_cases.groupby(['year', 'month', 'County Name']).agg({'CaseCount':'mean'})\n",
    "covid_cases_grouped = covid_cases_grouped.sort_values(['County Name', 'year', 'month'])\n",
    "covid_cases_grouped = covid_cases_grouped.reset_index()"
   ]
  },
  {
   "cell_type": "code",
   "execution_count": 8,
   "id": "c7eeff72",
   "metadata": {},
   "outputs": [
    {
     "data": {
      "text/html": [
       "<div>\n",
       "<style scoped>\n",
       "    .dataframe tbody tr th:only-of-type {\n",
       "        vertical-align: middle;\n",
       "    }\n",
       "\n",
       "    .dataframe tbody tr th {\n",
       "        vertical-align: top;\n",
       "    }\n",
       "\n",
       "    .dataframe thead th {\n",
       "        text-align: right;\n",
       "    }\n",
       "</style>\n",
       "<table border=\"1\" class=\"dataframe\">\n",
       "  <thead>\n",
       "    <tr style=\"text-align: right;\">\n",
       "      <th></th>\n",
       "      <th>year</th>\n",
       "      <th>month</th>\n",
       "      <th>County Name</th>\n",
       "      <th>CaseCount</th>\n",
       "    </tr>\n",
       "  </thead>\n",
       "  <tbody>\n",
       "    <tr>\n",
       "      <th>0</th>\n",
       "      <td>2020</td>\n",
       "      <td>3</td>\n",
       "      <td>Anderson</td>\n",
       "      <td>0.000000</td>\n",
       "    </tr>\n",
       "    <tr>\n",
       "      <th>1</th>\n",
       "      <td>2020</td>\n",
       "      <td>4</td>\n",
       "      <td>Anderson</td>\n",
       "      <td>8.133333</td>\n",
       "    </tr>\n",
       "    <tr>\n",
       "      <th>2</th>\n",
       "      <td>2020</td>\n",
       "      <td>5</td>\n",
       "      <td>Anderson</td>\n",
       "      <td>52.483871</td>\n",
       "    </tr>\n",
       "    <tr>\n",
       "      <th>3</th>\n",
       "      <td>2020</td>\n",
       "      <td>6</td>\n",
       "      <td>Anderson</td>\n",
       "      <td>549.066667</td>\n",
       "    </tr>\n",
       "    <tr>\n",
       "      <th>4</th>\n",
       "      <td>2020</td>\n",
       "      <td>7</td>\n",
       "      <td>Anderson</td>\n",
       "      <td>1766.000000</td>\n",
       "    </tr>\n",
       "    <tr>\n",
       "      <th>5</th>\n",
       "      <td>2020</td>\n",
       "      <td>8</td>\n",
       "      <td>Anderson</td>\n",
       "      <td>2410.193548</td>\n",
       "    </tr>\n",
       "    <tr>\n",
       "      <th>6</th>\n",
       "      <td>2020</td>\n",
       "      <td>9</td>\n",
       "      <td>Anderson</td>\n",
       "      <td>2629.766667</td>\n",
       "    </tr>\n",
       "    <tr>\n",
       "      <th>7</th>\n",
       "      <td>2020</td>\n",
       "      <td>10</td>\n",
       "      <td>Anderson</td>\n",
       "      <td>2899.516129</td>\n",
       "    </tr>\n",
       "    <tr>\n",
       "      <th>8</th>\n",
       "      <td>2020</td>\n",
       "      <td>11</td>\n",
       "      <td>Anderson</td>\n",
       "      <td>3072.100000</td>\n",
       "    </tr>\n",
       "    <tr>\n",
       "      <th>9</th>\n",
       "      <td>2020</td>\n",
       "      <td>12</td>\n",
       "      <td>Anderson</td>\n",
       "      <td>3375.677419</td>\n",
       "    </tr>\n",
       "  </tbody>\n",
       "</table>\n",
       "</div>"
      ],
      "text/plain": [
       "   year  month County Name    CaseCount\n",
       "0  2020      3    Anderson     0.000000\n",
       "1  2020      4    Anderson     8.133333\n",
       "2  2020      5    Anderson    52.483871\n",
       "3  2020      6    Anderson   549.066667\n",
       "4  2020      7    Anderson  1766.000000\n",
       "5  2020      8    Anderson  2410.193548\n",
       "6  2020      9    Anderson  2629.766667\n",
       "7  2020     10    Anderson  2899.516129\n",
       "8  2020     11    Anderson  3072.100000\n",
       "9  2020     12    Anderson  3375.677419"
      ]
     },
     "execution_count": 8,
     "metadata": {},
     "output_type": "execute_result"
    }
   ],
   "source": [
    "covid_cases_grouped.head(10)"
   ]
  },
  {
   "cell_type": "markdown",
   "id": "b3d49976",
   "metadata": {},
   "source": [
    "### Covid Fatalities"
   ]
  },
  {
   "cell_type": "code",
   "execution_count": 9,
   "id": "04e0a319",
   "metadata": {},
   "outputs": [],
   "source": [
    "# second row is the column names and drop the information above\n",
    "covid_fatalities.columns = covid_fatalities.iloc[1]\n",
    "covid_fatalities = covid_fatalities.drop(index=[0,1])\n"
   ]
  },
  {
   "cell_type": "code",
   "execution_count": 10,
   "id": "d17c553f",
   "metadata": {},
   "outputs": [],
   "source": [
    "# Last row, 257, has no useful information\n",
    "covid_fatalities = covid_fatalities.drop(index=257)"
   ]
  },
  {
   "cell_type": "code",
   "execution_count": 11,
   "id": "cb5764a7",
   "metadata": {},
   "outputs": [],
   "source": [
    "# Reduce column names to dates\n",
    "col_names = covid_fatalities.columns.to_list()\n",
    "col_names[1:] = [name[11:] for name in col_names[1:]]\n",
    "covid_fatalities.columns = col_names"
   ]
  },
  {
   "cell_type": "code",
   "execution_count": 12,
   "id": "b8a3a0b5",
   "metadata": {},
   "outputs": [],
   "source": [
    "# melt columns to rows\n",
    "covid_fatalities = pd.melt(covid_fatalities, id_vars=['County Name'], \n",
    "             value_vars=covid_fatalities.columns[1:].to_list(), \n",
    "             var_name ='date', \n",
    "             value_name = 'fatalities',)\n",
    "covid_fatalities = covid_fatalities.sort_values('County Name')"
   ]
  },
  {
   "cell_type": "code",
   "execution_count": 13,
   "id": "7ebbe1db",
   "metadata": {},
   "outputs": [],
   "source": [
    "## Convert column to date time and add month and year column\n",
    "covid_fatalities['date'] = pd.to_datetime(covid_fatalities['date'], format='%m-%d-%Y')\n",
    "covid_fatalities['month'] = pd.DatetimeIndex(covid_fatalities['date']).month\n",
    "covid_fatalities['year'] = pd.DatetimeIndex(covid_fatalities['date']).year"
   ]
  },
  {
   "cell_type": "code",
   "execution_count": 14,
   "id": "c276c01f",
   "metadata": {},
   "outputs": [],
   "source": [
    "# Convert cases to int from object and get the mean fatalities by month\n",
    "covid_fatalities['fatalities'] = covid_fatalities['fatalities'].astype(int)\n",
    "covid_fatalities_grouped = covid_fatalities.groupby(['year', 'month', 'County Name']).agg({'fatalities':'mean'})\n",
    "covid_fatalities_grouped = covid_fatalities_grouped.sort_values(['County Name', 'year', 'month'])\n",
    "covid_fatalities_grouped = covid_fatalities_grouped.reset_index()"
   ]
  },
  {
   "cell_type": "code",
   "execution_count": 15,
   "id": "1e716206",
   "metadata": {},
   "outputs": [
    {
     "data": {
      "text/html": [
       "<div>\n",
       "<style scoped>\n",
       "    .dataframe tbody tr th:only-of-type {\n",
       "        vertical-align: middle;\n",
       "    }\n",
       "\n",
       "    .dataframe tbody tr th {\n",
       "        vertical-align: top;\n",
       "    }\n",
       "\n",
       "    .dataframe thead th {\n",
       "        text-align: right;\n",
       "    }\n",
       "</style>\n",
       "<table border=\"1\" class=\"dataframe\">\n",
       "  <thead>\n",
       "    <tr style=\"text-align: right;\">\n",
       "      <th></th>\n",
       "      <th>year</th>\n",
       "      <th>month</th>\n",
       "      <th>County Name</th>\n",
       "      <th>fatalities</th>\n",
       "    </tr>\n",
       "  </thead>\n",
       "  <tbody>\n",
       "    <tr>\n",
       "      <th>0</th>\n",
       "      <td>2020</td>\n",
       "      <td>3</td>\n",
       "      <td>ANDERSON</td>\n",
       "      <td>0.000000</td>\n",
       "    </tr>\n",
       "    <tr>\n",
       "      <th>1</th>\n",
       "      <td>2020</td>\n",
       "      <td>4</td>\n",
       "      <td>ANDERSON</td>\n",
       "      <td>0.600000</td>\n",
       "    </tr>\n",
       "    <tr>\n",
       "      <th>2</th>\n",
       "      <td>2020</td>\n",
       "      <td>5</td>\n",
       "      <td>ANDERSON</td>\n",
       "      <td>1.322581</td>\n",
       "    </tr>\n",
       "    <tr>\n",
       "      <th>3</th>\n",
       "      <td>2020</td>\n",
       "      <td>6</td>\n",
       "      <td>ANDERSON</td>\n",
       "      <td>3.533333</td>\n",
       "    </tr>\n",
       "    <tr>\n",
       "      <th>4</th>\n",
       "      <td>2020</td>\n",
       "      <td>7</td>\n",
       "      <td>ANDERSON</td>\n",
       "      <td>8.677419</td>\n",
       "    </tr>\n",
       "    <tr>\n",
       "      <th>5</th>\n",
       "      <td>2020</td>\n",
       "      <td>8</td>\n",
       "      <td>ANDERSON</td>\n",
       "      <td>21.000000</td>\n",
       "    </tr>\n",
       "    <tr>\n",
       "      <th>6</th>\n",
       "      <td>2020</td>\n",
       "      <td>9</td>\n",
       "      <td>ANDERSON</td>\n",
       "      <td>31.700000</td>\n",
       "    </tr>\n",
       "    <tr>\n",
       "      <th>7</th>\n",
       "      <td>2020</td>\n",
       "      <td>10</td>\n",
       "      <td>ANDERSON</td>\n",
       "      <td>40.870968</td>\n",
       "    </tr>\n",
       "    <tr>\n",
       "      <th>8</th>\n",
       "      <td>2020</td>\n",
       "      <td>11</td>\n",
       "      <td>ANDERSON</td>\n",
       "      <td>48.533333</td>\n",
       "    </tr>\n",
       "    <tr>\n",
       "      <th>9</th>\n",
       "      <td>2020</td>\n",
       "      <td>12</td>\n",
       "      <td>ANDERSON</td>\n",
       "      <td>63.451613</td>\n",
       "    </tr>\n",
       "  </tbody>\n",
       "</table>\n",
       "</div>"
      ],
      "text/plain": [
       "   year  month County Name  fatalities\n",
       "0  2020      3    ANDERSON    0.000000\n",
       "1  2020      4    ANDERSON    0.600000\n",
       "2  2020      5    ANDERSON    1.322581\n",
       "3  2020      6    ANDERSON    3.533333\n",
       "4  2020      7    ANDERSON    8.677419\n",
       "5  2020      8    ANDERSON   21.000000\n",
       "6  2020      9    ANDERSON   31.700000\n",
       "7  2020     10    ANDERSON   40.870968\n",
       "8  2020     11    ANDERSON   48.533333\n",
       "9  2020     12    ANDERSON   63.451613"
      ]
     },
     "execution_count": 15,
     "metadata": {},
     "output_type": "execute_result"
    }
   ],
   "source": [
    "covid_fatalities_grouped.head(10)"
   ]
  },
  {
   "cell_type": "markdown",
   "id": "a11954c2",
   "metadata": {},
   "source": [
    "### Compare Cases and Fatalities county names"
   ]
  },
  {
   "cell_type": "code",
   "execution_count": 16,
   "id": "5385eb84",
   "metadata": {},
   "outputs": [],
   "source": [
    "# Convert Fatalities to lowercase\n",
    "covid_fatalities_grouped['County Name'] = covid_fatalities_grouped['County Name'].str.lower()\n",
    "covid_cases_grouped['County Name'] = covid_cases_grouped['County Name'].str.lower()"
   ]
  },
  {
   "cell_type": "code",
   "execution_count": 17,
   "id": "ed438d8b",
   "metadata": {},
   "outputs": [
    {
     "data": {
      "text/plain": [
       "{'de witt', 'unknown'}"
      ]
     },
     "execution_count": 17,
     "metadata": {},
     "output_type": "execute_result"
    }
   ],
   "source": [
    "# Compare case_counties and fatality_counties\n",
    "case_counties = covid_cases_grouped['County Name'].unique().tolist()\n",
    "case_counties = [county.lower() for county in case_counties]\n",
    "set(case_counties)\n",
    "\n",
    "fatalities_counties = covid_fatalities_grouped['County Name'].unique().tolist()\n",
    "fatalities_counties = [county.lower() for county in fatalities_counties]\n",
    "set(fatalities_counties)\n",
    "\n",
    "# fatalities_counties uses DE WITT instead of dewitt, and also has an unknown county\n",
    "set(fatalities_counties) - set(case_counties)"
   ]
  },
  {
   "cell_type": "code",
   "execution_count": 18,
   "id": "ebf26672",
   "metadata": {},
   "outputs": [],
   "source": [
    "## fatalities includes \"de witt\" instead of \"dewitt\".  Also includes \"unknown\"\n",
    "covid_fatalities_grouped['County Name'].replace(to_replace='de witt', value='dewitt', inplace=True)\n",
    "# covid_fatalities_grouped.drop()\n",
    "covid_fatalities_grouped = covid_fatalities_grouped[covid_fatalities_grouped['County Name'] != 'unknown']"
   ]
  },
  {
   "cell_type": "code",
   "execution_count": 19,
   "id": "143c5f8e",
   "metadata": {},
   "outputs": [
    {
     "data": {
      "text/plain": [
       "set()"
      ]
     },
     "execution_count": 19,
     "metadata": {},
     "output_type": "execute_result"
    }
   ],
   "source": [
    "## Check that sets are the same. Should produce an empty set\n",
    "fatalities_counties_grouped = covid_fatalities_grouped['County Name'].unique().tolist()\n",
    "set(fatalities_counties_grouped) - set(case_counties)"
   ]
  },
  {
   "cell_type": "code",
   "execution_count": 20,
   "id": "55178775",
   "metadata": {},
   "outputs": [
    {
     "name": "stdout",
     "output_type": "stream",
     "text": [
      "fatalities shape: (4826, 4)\n",
      "cases shape: (4826, 4)\n",
      "merged shape: (4826, 5)\n"
     ]
    }
   ],
   "source": [
    "## Merge the two datasets\n",
    "\n",
    "covid_merged = pd.merge(covid_fatalities_grouped, covid_cases_grouped)\n",
    "\n",
    "print(f'fatalities shape: {covid_fatalities_grouped.shape}')\n",
    "print(f'cases shape: {covid_cases_grouped.shape}')\n",
    "print(f'merged shape: {covid_merged.shape}')"
   ]
  },
  {
   "cell_type": "code",
   "execution_count": 21,
   "id": "12229abb",
   "metadata": {},
   "outputs": [],
   "source": [
    "# # Save csv\n",
    "# covid_merged.to_csv('covid.csv')"
   ]
  },
  {
   "cell_type": "code",
   "execution_count": null,
   "id": "7801680c",
   "metadata": {},
   "outputs": [],
   "source": []
  }
 ],
 "metadata": {
  "kernelspec": {
   "display_name": "Python 3 (ipykernel)",
   "language": "python",
   "name": "python3"
  },
  "language_info": {
   "codemirror_mode": {
    "name": "ipython",
    "version": 3
   },
   "file_extension": ".py",
   "mimetype": "text/x-python",
   "name": "python",
   "nbconvert_exporter": "python",
   "pygments_lexer": "ipython3",
   "version": "3.8.2"
  }
 },
 "nbformat": 4,
 "nbformat_minor": 5
}
