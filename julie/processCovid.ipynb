{
 "cells": [
  {
   "cell_type": "code",
   "execution_count": null,
   "id": "22262fd9",
   "metadata": {},
   "outputs": [],
   "source": [
    "import numpy as np\n",
    "import pandas as pd\n",
    "import missingno as msno\n",
    "from datetime import datetime"
   ]
  },
  {
   "cell_type": "code",
   "execution_count": null,
   "id": "545d2c69",
   "metadata": {},
   "outputs": [],
   "source": [
    "## Load covid_cases and covid_fatalities\n",
    "covid_cases = pd.read_csv('data/covid_cases.csv')\n",
    "covid_fatalities = pd.read_csv('data/covid_fatalities.csv')"
   ]
  },
  {
   "cell_type": "markdown",
   "id": "a93c16b0",
   "metadata": {},
   "source": [
    "### Covid Cases"
   ]
  },
  {
   "cell_type": "code",
   "execution_count": null,
   "id": "af9f675d",
   "metadata": {
    "scrolled": true
   },
   "outputs": [],
   "source": [
    "# second row is the column names and drop the information above\n",
    "covid_cases.columns = covid_cases.iloc[1]\n",
    "covid_cases = covid_cases.drop(index=[0,1])\n",
    "\n",
    "# Last rows have no useful information\n",
    "covid_cases = covid_cases.drop(index=[256,257,258,259,260,261])"
   ]
  },
  {
   "cell_type": "code",
   "execution_count": null,
   "id": "49f3a9b1",
   "metadata": {},
   "outputs": [],
   "source": [
    "# Reduce column names to dates\n",
    "col_names = covid_cases.columns.to_list()\n",
    "col_names[1:] = [name[6:] for name in col_names[1:]]\n",
    "covid_cases.columns = col_names"
   ]
  },
  {
   "cell_type": "code",
   "execution_count": null,
   "id": "df8a52d5",
   "metadata": {},
   "outputs": [],
   "source": [
    "# melt columns to rows\n",
    "covid_cases = pd.melt(covid_cases, id_vars=['County Name'], \n",
    "             value_vars=covid_cases.columns[1:].to_list(), \n",
    "             var_name ='date', \n",
    "             value_name = 'CaseCount',)\n",
    "covid_cases = covid_cases.sort_values('County Name')"
   ]
  },
  {
   "cell_type": "code",
   "execution_count": null,
   "id": "e9e1ea2c",
   "metadata": {},
   "outputs": [],
   "source": [
    "## Convert column to date time and add month and year column\n",
    "covid_cases['date'] = pd.to_datetime(covid_cases['date'], format='%m-%d-%Y')\n",
    "covid_cases['month'] = pd.DatetimeIndex(covid_cases['date']).month\n",
    "covid_cases['year'] = pd.DatetimeIndex(covid_cases['date']).year"
   ]
  },
  {
   "cell_type": "code",
   "execution_count": null,
   "id": "cd12064c",
   "metadata": {},
   "outputs": [],
   "source": [
    "# Convert cases to int from object and get the mean casecount by month\n",
    "covid_cases['CaseCount'] = covid_cases['CaseCount'].astype(int)\n",
    "covid_cases_grouped = covid_cases.groupby(['year', 'month', 'County Name']).agg({'CaseCount':'mean'})\n",
    "covid_cases_grouped = covid_cases_grouped.sort_values(['County Name', 'year', 'month'])\n",
    "covid_cases_grouped = covid_cases_grouped.reset_index()"
   ]
  },
  {
   "cell_type": "code",
   "execution_count": null,
   "id": "ae00d91b",
   "metadata": {},
   "outputs": [],
   "source": [
    "covid_cases_grouped.head(10)"
   ]
  },
  {
   "cell_type": "markdown",
   "id": "2bce1c5b",
   "metadata": {},
   "source": [
    "### Covid Fatalities"
   ]
  },
  {
   "cell_type": "code",
   "execution_count": null,
   "id": "26c9055c",
   "metadata": {},
   "outputs": [],
   "source": [
    "# second row is the column names and drop the information above\n",
    "covid_fatalities.columns = covid_fatalities.iloc[1]\n",
    "covid_fatalities = covid_fatalities.drop(index=[0,1])\n"
   ]
  },
  {
   "cell_type": "code",
   "execution_count": null,
   "id": "9ea10018",
   "metadata": {},
   "outputs": [],
   "source": [
    "# Last row, 257, has no useful information\n",
    "covid_fatalities = covid_fatalities.drop(index=257)"
   ]
  },
  {
   "cell_type": "code",
   "execution_count": null,
   "id": "ecf28d51",
   "metadata": {},
   "outputs": [],
   "source": [
    "# Reduce column names to dates\n",
    "col_names = covid_fatalities.columns.to_list()\n",
    "col_names[1:] = [name[11:] for name in col_names[1:]]\n",
    "covid_fatalities.columns = col_names"
   ]
  },
  {
   "cell_type": "code",
   "execution_count": null,
   "id": "1a605d1f",
   "metadata": {},
   "outputs": [],
   "source": [
    "# melt columns to rows\n",
    "covid_fatalities = pd.melt(covid_fatalities, id_vars=['County Name'], \n",
    "             value_vars=covid_fatalities.columns[1:].to_list(), \n",
    "             var_name ='date', \n",
    "             value_name = 'fatalities',)\n",
    "covid_fatalities = covid_fatalities.sort_values('County Name')"
   ]
  },
  {
   "cell_type": "code",
   "execution_count": null,
   "id": "7b85943b",
   "metadata": {},
   "outputs": [],
   "source": [
    "## Convert column to date time and add month and year column\n",
    "covid_fatalities['date'] = pd.to_datetime(covid_fatalities['date'], format='%m-%d-%Y')\n",
    "covid_fatalities['month'] = pd.DatetimeIndex(covid_fatalities['date']).month\n",
    "covid_fatalities['year'] = pd.DatetimeIndex(covid_fatalities['date']).year"
   ]
  },
  {
   "cell_type": "code",
   "execution_count": null,
   "id": "33942d2c",
   "metadata": {},
   "outputs": [],
   "source": [
    "# Convert cases to int from object and get the mean fatalities by month\n",
    "covid_fatalities['fatalities'] = covid_fatalities['fatalities'].astype(int)\n",
    "covid_fatalities_grouped = covid_fatalities.groupby(['year', 'month', 'County Name']).agg({'fatalities':'mean'})\n",
    "covid_fatalities_grouped = covid_fatalities_grouped.sort_values(['County Name', 'year', 'month'])\n",
    "covid_fatalities_grouped = covid_fatalities_grouped.reset_index()"
   ]
  },
  {
   "cell_type": "code",
   "execution_count": null,
   "id": "a7848506",
   "metadata": {},
   "outputs": [],
   "source": [
    "covid_fatalities_grouped.head(10)"
   ]
  },
  {
   "cell_type": "markdown",
   "id": "c56b4285",
   "metadata": {},
   "source": [
    "### Compare Cases and Fatalities county names"
   ]
  },
  {
   "cell_type": "code",
   "execution_count": null,
   "id": "c7692ff2",
   "metadata": {},
   "outputs": [],
   "source": [
    "# Convert Fatalities to lowercase\n",
    "covid_fatalities_grouped['County Name'] = covid_fatalities_grouped['County Name'].str.lower()\n",
    "covid_cases_grouped['County Name'] = covid_cases_grouped['County Name'].str.lower()"
   ]
  },
  {
   "cell_type": "code",
   "execution_count": null,
   "id": "5dc54480",
   "metadata": {},
   "outputs": [],
   "source": [
    "# Compare case_counties and fatality_counties\n",
    "case_counties = covid_cases_grouped['County Name'].unique().tolist()\n",
    "case_counties = [county.lower() for county in case_counties]\n",
    "set(case_counties)\n",
    "\n",
    "fatalities_counties = covid_fatalities_grouped['County Name'].unique().tolist()\n",
    "fatalities_counties = [county.lower() for county in fatalities_counties]\n",
    "set(fatalities_counties)\n",
    "\n",
    "# fatalities_counties uses DE WITT instead of dewitt, and also has an unknown county\n",
    "set(fatalities_counties) - set(case_counties)"
   ]
  },
  {
   "cell_type": "code",
   "execution_count": null,
   "id": "5e079847",
   "metadata": {},
   "outputs": [],
   "source": [
    "## fatalities includes \"de witt\" instead of \"dewitt\".  Also includes \"unknown\"\n",
    "covid_fatalities_grouped['County Name'].replace(to_replace='de witt', value='dewitt', inplace=True)\n",
    "# covid_fatalities_grouped.drop()\n",
    "covid_fatalities_grouped = covid_fatalities_grouped[covid_fatalities_grouped['County Name'] != 'unknown']"
   ]
  },
  {
   "cell_type": "code",
   "execution_count": null,
   "id": "e0f1d840",
   "metadata": {},
   "outputs": [],
   "source": [
    "## Check that sets are the same. Should produce an empty set\n",
    "fatalities_counties_grouped = covid_fatalities_grouped['County Name'].unique().tolist()\n",
    "set(fatalities_counties_grouped) - set(case_counties)"
   ]
  },
  {
   "cell_type": "code",
   "execution_count": null,
   "id": "381a7cc1",
   "metadata": {},
   "outputs": [],
   "source": [
    "## Merge the two datasets\n",
    "\n",
    "covid_merged = pd.merge(covid_fatalities_grouped, covid_cases_grouped)\n",
    "\n",
    "print(f'fatalities shape: {covid_fatalities_grouped.shape}')\n",
    "print(f'cases shape: {covid_cases_grouped.shape}')\n",
    "print(f'merged shape: {covid_merged.shape}')"
   ]
  },
  {
   "cell_type": "code",
   "execution_count": null,
   "id": "eed2bc06",
   "metadata": {},
   "outputs": [],
   "source": [
    "# # Save csv\n",
    "# covid_merged.to_csv('covid.csv')"
   ]
  },
  {
   "cell_type": "code",
   "execution_count": null,
   "id": "e1d1a13a",
   "metadata": {},
   "outputs": [],
   "source": []
  }
 ],
 "metadata": {
  "kernelspec": {
   "display_name": "Python 3 (ipykernel)",
   "language": "python",
   "name": "python3"
  },
  "language_info": {
   "codemirror_mode": {
    "name": "ipython",
    "version": 3
   },
   "file_extension": ".py",
   "mimetype": "text/x-python",
   "name": "python",
   "nbconvert_exporter": "python",
   "pygments_lexer": "ipython3",
   "version": "3.8.2"
  }
 },
 "nbformat": 4,
 "nbformat_minor": 5
}
