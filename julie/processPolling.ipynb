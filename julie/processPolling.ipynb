{
 "cells": [
  {
   "cell_type": "code",
   "execution_count": 1,
   "id": "ea3fe737",
   "metadata": {},
   "outputs": [],
   "source": [
    "import numpy as np\n",
    "import pandas as pd\n",
    "# import datetime as datetime\n",
    "from sklearn.impute import SimpleImputer"
   ]
  },
  {
   "cell_type": "markdown",
   "id": "18cf9cf5",
   "metadata": {},
   "source": [
    "### Load and clean Polling data and zip code list"
   ]
  },
  {
   "cell_type": "code",
   "execution_count": 2,
   "id": "2dd01f81",
   "metadata": {},
   "outputs": [],
   "source": [
    "## Load data\n",
    "poll_data = pd.read_csv('data/polling/texaspoll_aug21_q13.csv')\n",
    "zip_codes = pd.read_csv('data/tx_zip_codes.csv', index_col=0)"
   ]
  },
  {
   "cell_type": "code",
   "execution_count": 3,
   "id": "dd6bacff",
   "metadata": {},
   "outputs": [],
   "source": [
    "## Rename columns\n",
    "name_map = {'FAMECON':'date', \n",
    "            'A lot better off':'tx_is_a_lot_better', \n",
    "            'Somewhat better off':'tx_is_a_little_better', \n",
    "            'About the same ':'tx_is_abt_same',\n",
    "            'Somewhat worse off':'tx_is_a_little_worse', \n",
    "            'A lot worse off':'tx_is_a_lot_worse', \n",
    "            \"Don't know\":'tx_is_dont_know', \n",
    "            'TOTAL BETTER':'tx_is_better',\n",
    "            'TOTAL WORSE':'tx_is_worse'}\n",
    "poll_data = poll_data.rename(columns=name_map)"
   ]
  },
  {
   "cell_type": "code",
   "execution_count": 4,
   "id": "bc779750",
   "metadata": {},
   "outputs": [
    {
     "data": {
      "text/html": [
       "<div>\n",
       "<style scoped>\n",
       "    .dataframe tbody tr th:only-of-type {\n",
       "        vertical-align: middle;\n",
       "    }\n",
       "\n",
       "    .dataframe tbody tr th {\n",
       "        vertical-align: top;\n",
       "    }\n",
       "\n",
       "    .dataframe thead th {\n",
       "        text-align: right;\n",
       "    }\n",
       "</style>\n",
       "<table border=\"1\" class=\"dataframe\">\n",
       "  <thead>\n",
       "    <tr style=\"text-align: right;\">\n",
       "      <th></th>\n",
       "      <th>date</th>\n",
       "      <th>tx_is_a_lot_better</th>\n",
       "      <th>tx_is_a_little_better</th>\n",
       "      <th>tx_is_abt_same</th>\n",
       "      <th>tx_is_a_little_worse</th>\n",
       "      <th>tx_is_a_lot_worse</th>\n",
       "      <th>tx_is_dont_know</th>\n",
       "      <th>tx_is_better</th>\n",
       "      <th>tx_is_worse</th>\n",
       "    </tr>\n",
       "  </thead>\n",
       "  <tbody>\n",
       "    <tr>\n",
       "      <th>29</th>\n",
       "      <td>May-12</td>\n",
       "      <td>4.0</td>\n",
       "      <td>15.0</td>\n",
       "      <td>48.0</td>\n",
       "      <td>19.0</td>\n",
       "      <td>13.0</td>\n",
       "      <td>2.0</td>\n",
       "      <td>19.0</td>\n",
       "      <td>32.0</td>\n",
       "    </tr>\n",
       "    <tr>\n",
       "      <th>30</th>\n",
       "      <td>Feb-12</td>\n",
       "      <td>3.0</td>\n",
       "      <td>16.0</td>\n",
       "      <td>45.0</td>\n",
       "      <td>23.0</td>\n",
       "      <td>11.0</td>\n",
       "      <td>1.0</td>\n",
       "      <td>20.0</td>\n",
       "      <td>34.0</td>\n",
       "    </tr>\n",
       "    <tr>\n",
       "      <th>31</th>\n",
       "      <td>Oct-11</td>\n",
       "      <td>2.0</td>\n",
       "      <td>13.0</td>\n",
       "      <td>40.0</td>\n",
       "      <td>27.0</td>\n",
       "      <td>15.0</td>\n",
       "      <td>1.0</td>\n",
       "      <td>16.0</td>\n",
       "      <td>42.0</td>\n",
       "    </tr>\n",
       "    <tr>\n",
       "      <th>32</th>\n",
       "      <td>May-11</td>\n",
       "      <td>3.0</td>\n",
       "      <td>16.0</td>\n",
       "      <td>40.0</td>\n",
       "      <td>25.0</td>\n",
       "      <td>16.0</td>\n",
       "      <td>2.0</td>\n",
       "      <td>18.0</td>\n",
       "      <td>41.0</td>\n",
       "    </tr>\n",
       "    <tr>\n",
       "      <th>33</th>\n",
       "      <td>Feb-11</td>\n",
       "      <td>3.0</td>\n",
       "      <td>17.0</td>\n",
       "      <td>45.0</td>\n",
       "      <td>24.0</td>\n",
       "      <td>11.0</td>\n",
       "      <td>1.0</td>\n",
       "      <td>20.0</td>\n",
       "      <td>35.0</td>\n",
       "    </tr>\n",
       "  </tbody>\n",
       "</table>\n",
       "</div>"
      ],
      "text/plain": [
       "      date  tx_is_a_lot_better  tx_is_a_little_better  tx_is_abt_same  \\\n",
       "29  May-12                 4.0                   15.0            48.0   \n",
       "30  Feb-12                 3.0                   16.0            45.0   \n",
       "31  Oct-11                 2.0                   13.0            40.0   \n",
       "32  May-11                 3.0                   16.0            40.0   \n",
       "33  Feb-11                 3.0                   17.0            45.0   \n",
       "\n",
       "    tx_is_a_little_worse  tx_is_a_lot_worse  tx_is_dont_know  tx_is_better  \\\n",
       "29                  19.0               13.0              2.0          19.0   \n",
       "30                  23.0               11.0              1.0          20.0   \n",
       "31                  27.0               15.0              1.0          16.0   \n",
       "32                  25.0               16.0              2.0          18.0   \n",
       "33                  24.0               11.0              1.0          20.0   \n",
       "\n",
       "    tx_is_worse  \n",
       "29         32.0  \n",
       "30         34.0  \n",
       "31         42.0  \n",
       "32         41.0  \n",
       "33         35.0  "
      ]
     },
     "execution_count": 4,
     "metadata": {},
     "output_type": "execute_result"
    }
   ],
   "source": [
    "## Drop useless data\n",
    "poll_data = poll_data.drop(index=[34,35,36,37])\n",
    "poll_data.tail()"
   ]
  },
  {
   "cell_type": "markdown",
   "id": "f5b98282",
   "metadata": {},
   "source": [
    "### Add month and year values  for all time from earliest entry to latest"
   ]
  },
  {
   "cell_type": "code",
   "execution_count": 5,
   "id": "cbd5a86a",
   "metadata": {},
   "outputs": [],
   "source": [
    "## Convert column to date time \n",
    "poll_data['Time'] = pd.to_datetime(poll_data['date'], format='%b-%y')\n"
   ]
  },
  {
   "cell_type": "code",
   "execution_count": 6,
   "id": "20536ea6",
   "metadata": {},
   "outputs": [],
   "source": [
    "# Create list of all months and years to fill in missing date values\n",
    "dates_list = []\n",
    "new_date = poll_data['Time'].min()\n",
    "end_date = poll_data['Time'].max()\n",
    "\n",
    "while new_date != end_date:\n",
    "    dates_list.append(new_date)\n",
    "    new_date += pd.DateOffset(months=1)\n",
    "dates = pd.DataFrame(dates_list)\n",
    "dates.columns = ['Time']"
   ]
  },
  {
   "cell_type": "markdown",
   "id": "5e781a59",
   "metadata": {},
   "source": [
    "### Merge polling data to dates list to add in-between dates to polling data"
   ]
  },
  {
   "cell_type": "code",
   "execution_count": 7,
   "id": "98e14637",
   "metadata": {},
   "outputs": [],
   "source": [
    "## Merge sets and impute missing values\n",
    "poll_data = dates.merge(poll_data, how='left', on='Time').sort_values('Time')"
   ]
  },
  {
   "cell_type": "code",
   "execution_count": 8,
   "id": "ce64c560",
   "metadata": {},
   "outputs": [],
   "source": [
    "# interpolate values by padding using the previous value\n",
    "merged_interp = poll_data[['tx_is_a_lot_better', 'tx_is_a_little_better',\n",
    "       'tx_is_abt_same', 'tx_is_a_little_worse', 'tx_is_a_lot_worse',\n",
    "       'tx_is_dont_know', 'tx_is_better', 'tx_is_worse']].interpolate(method='pad')\n",
    "poll_data = pd.concat([poll_data[['Time', 'date']], merged_interp], axis=1)"
   ]
  },
  {
   "cell_type": "markdown",
   "id": "1a36a56b",
   "metadata": {},
   "source": [
    "### Add each zip code to all dataframe entries, merge."
   ]
  },
  {
   "cell_type": "code",
   "execution_count": 9,
   "id": "f42d0342",
   "metadata": {
    "scrolled": true
   },
   "outputs": [],
   "source": [
    "## add a location column to both frames for merging, and merge\n",
    "poll_data['state'] = 'TX'\n",
    "zip_codes['state'] = 'TX'\n",
    "\n",
    "poll_data = poll_data.merge(zip_codes, how='left', on='state')\n",
    "poll_data.rename(columns={'zip_codes':'zip_code'}, inplace=True)"
   ]
  },
  {
   "cell_type": "markdown",
   "id": "574710a0",
   "metadata": {},
   "source": [
    "### Save."
   ]
  },
  {
   "cell_type": "code",
   "execution_count": 10,
   "id": "adb20bc3",
   "metadata": {},
   "outputs": [],
   "source": [
    "\n",
    "# ## Save\n",
    "# poll_data.to_csv('poll_clean.csv')"
   ]
  },
  {
   "cell_type": "code",
   "execution_count": null,
   "id": "36fedc04",
   "metadata": {},
   "outputs": [],
   "source": []
  }
 ],
 "metadata": {
  "kernelspec": {
   "display_name": "Python 3 (ipykernel)",
   "language": "python",
   "name": "python3"
  },
  "language_info": {
   "codemirror_mode": {
    "name": "ipython",
    "version": 3
   },
   "file_extension": ".py",
   "mimetype": "text/x-python",
   "name": "python",
   "nbconvert_exporter": "python",
   "pygments_lexer": "ipython3",
   "version": "3.8.2"
  }
 },
 "nbformat": 4,
 "nbformat_minor": 5
}
