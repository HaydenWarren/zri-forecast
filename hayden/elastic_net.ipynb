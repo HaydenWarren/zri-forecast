{
 "cells": [
  {
   "cell_type": "markdown",
   "id": "7c7832bb",
   "metadata": {},
   "source": [
    "# Elastic Net Model"
   ]
  },
  {
   "cell_type": "markdown",
   "id": "be1eb9af",
   "metadata": {},
   "source": [
    "Elastic net model was done with the same features that the Lasso model had. The elastic net chose the same alpha and has an L1 ratio of 1. So elastic net is redundant to lasso results."
   ]
  },
  {
   "cell_type": "markdown",
   "id": "f231858b",
   "metadata": {},
   "source": [
    "#### Loading packages"
   ]
  },
  {
   "cell_type": "code",
   "execution_count": 1,
   "id": "2c7857b3",
   "metadata": {},
   "outputs": [],
   "source": [
    "import pandas as pd\n",
    "import numpy as np\n",
    "import matplotlib.pyplot as plt\n",
    "import missingno as msno\n",
    "import seaborn as sns\n",
    "import datetime\n",
    "\n",
    "from sklearn.linear_model import ElasticNet\n",
    "from sklearn.model_selection import GridSearchCV\n",
    "from sklearn.preprocessing import StandardScaler\n",
    "from sklearn.metrics import mean_squared_error\n",
    "\n",
    "import helper"
   ]
  },
  {
   "cell_type": "markdown",
   "id": "fedf305d",
   "metadata": {},
   "source": [
    "#### Loading and processing data to put into model."
   ]
  },
  {
   "cell_type": "code",
   "execution_count": 2,
   "id": "2859d3e2",
   "metadata": {},
   "outputs": [],
   "source": [
    "# load data\n",
    "texas_data = pd.read_csv('merged_texas_data.csv', index_col = 0,\n",
    "                   parse_dates = ['Time']\n",
    "                  )\n",
    "\n",
    "acs_data = pd.read_csv('merged_acs_data.csv', index_col = 0,\n",
    "                      parse_dates = ['Time'])\n",
    "\n",
    "zri = pd.read_csv('long_interpolated_target.csv', index_col = 0,\n",
    "                   parse_dates=['Time']\n",
    "                  )\n",
    "\n",
    "# Merge and lag data to be ready to forecast a year in the future\n",
    "merged_df = helper.zri_data_pipeline(zri, texas_data, acs_data)\n",
    "\n",
    "# Split dataframe into train, test, and forecast,\n",
    "train, test, forecast = helper.train_test_forecast_split(\n",
    "    merged_df,\n",
    "    train_date = datetime.datetime(2020,7,2), \n",
    "    forecast_date = datetime.datetime(2021,7,2)\n",
    ")\n",
    "\n",
    "# define features to be put into the model and target variable.\n",
    "\n",
    "X_vals = [\n",
    "    'zori_ssa_12_month_shift',\n",
    "    'zori_ssa_1_diff_lag_12',\n",
    "    'zori_ssa_6_diff_lag_12',\n",
    "    'total_sales_tax_12_month_shift',\n",
    "    'housing_units_over_50_units_36_month_shift',\n",
    "    'housing_units_built_1960_to_1969_36_month_shift',\n",
    "    'black_pop_48_month_shift',\n",
    "    'zori_ssa_12_diff_lag_12_per',\n",
    "    'children_annual_pct_change_48_month_shift',\n",
    "    'female_40_to_44_annual_pct_change_36_month_shift',\n",
    "    'housing_units_10_to_19_units_annual_pct_change_36_month_shift',\n",
    "    'sales_tax_rate_annual_pct_change_12_month_shift',\n",
    "    'female_female_households_48_month_shift',\n",
    "    'women_with_associate_degree_annual_pct_change_36_month_shift',\n",
    "    'average_household_size_owners_annual_pct_change_36_month_shift',\n",
    "    'units_paying_cash_rent_annual_pct_change_36_month_shift',\n",
    "    'quintile_1_upper_limit_annual_pct_change_36_month_shift',\n",
    "    'Gross Value Natural Gas Production_13_month_shift',\n",
    "    'women_with_doctoral_degree_annual_pct_change_36_month_shift',\n",
    "    'total_sales_tax_annual_pct_change_12_month_shift',\n",
    "    'housing_units_built_1940_to_1949_36_month_shift',\n",
    "    'housing_units_built_1980_to_1989_annual_pct_change_36_month_shift',\n",
    "    'female_35_to_39_annual_pct_change_36_month_shift',\n",
    "    'bicycle_population_36_month_shift',\n",
    "    'housing_units_20_to_49_units_annual_pct_change_36_month_shift',\n",
    "    'taxpayer_count_12_month_shift',\n",
    "    'housing_units_5_to_9_units_36_month_shift',\n",
    "    'high_school_diploma_annual_pct_change_48_month_shift',\n",
    "    'driving_alone_population_annual_pct_change_36_month_shift',\n",
    "    'taxpayer_is_ratio_12_month_shift',\n",
    "    'motorcycle_population_36_month_shift',\n",
    "    'housing_units_single_family_attached_annual_pct_change_36_month_shift',\n",
    "    'white_pop_annual_pct_change_48_month_shift',\n",
    "    'taxpayer_cl_ratio_annual_pct_change_12_month_shift',\n",
    "    'taxpayer_is_ratio_annual_pct_change_12_month_shift',\n",
    "    'housing_units_built_1940_to_1949_annual_pct_change_36_month_shift',\n",
    "    'black_pop_annual_pct_change_48_month_shift',\n",
    "    'Gross Value Natural Gas Production_annual_pct_change_12_month_shift',\n",
    "    'housing_units_single_family_attached_owned_36_month_shift',\n",
    "    'single_women_annual_pct_change_36_month_shift',\n",
    "    'housing_units_built_1930_to_1939_36_month_shift',\n",
    "    'housing_units_built_1930_to_1939_annual_pct_change_36_month_shift',\n",
    "    'female_25_to_29_annual_pct_change_36_month_shift',    \n",
    "    'tx_net_approve_12_month_shift'\n",
    "    ]\n",
    "y_val = 'zori_ssa'\n",
    "\n",
    "# Shrink data to features to be put into the model\n",
    "# and scale data to prepare it to be put into the model\n",
    "# train first\n",
    "scaler = StandardScaler(with_mean=False)\n",
    "X = train[X_vals]\n",
    "X = scaler.fit_transform(X)\n",
    "y = train[y_val]\n",
    "# test all\n",
    "X_test = test[X_vals]\n",
    "X_test = scaler.transform(X_test)\n",
    "y_test = test[y_val]\n",
    "# forecasted values\n",
    "X_forecast = forecast[X_vals]\n",
    "X_forecast = scaler.transform(X_forecast)\n"
   ]
  },
  {
   "cell_type": "markdown",
   "id": "190af788",
   "metadata": {},
   "source": [
    "#### Model Training"
   ]
  },
  {
   "cell_type": "code",
   "execution_count": 3,
   "id": "1280abba",
   "metadata": {},
   "outputs": [
    {
     "name": "stdout",
     "output_type": "stream",
     "text": [
      "Performing Grid Search with \n",
      "alphas of: [0.0001, 0.0003, 0.0006, 0.001, 0.003, 0.006, 0.01, 0.03, 0.06, 0.1, 0.3, 0.6, 1, 3, 6]\n",
      "l1_ratios of: [0.1, 0.3, 0.5, 0.6, 0.7, 0.8, 0.85, 0.9, 0.95, 1]\n",
      "Fitting 5 folds for each of 150 candidates, totalling 750 fits\n",
      "Best alpha 0.1\n",
      "Best l1_ratio 1\n"
     ]
    }
   ],
   "source": [
    "scaler = StandardScaler(with_mean=False)\n",
    "net = ElasticNet(max_iter = 50000)\n",
    "\n",
    "l1_ratio = [0.1, 0.3, 0.5, 0.6, 0.7, 0.8, 0.85, 0.9, 0.95, 1]\n",
    "alpha = [0.0001, 0.0003, 0.0006, 0.001, 0.003, 0.006, 0.01, 0.03, 0.06, 0.1, 0.3, 0.6, 1, 3, 6]\n",
    "tuned_parameters = [{'alpha': alpha, 'l1_ratio': l1_ratio}]\n",
    "print(f'Performing Grid Search with \\nalphas of: {alpha}\\nl1_ratios of: {l1_ratio}')\n",
    "clf = GridSearchCV(net, tuned_parameters, \n",
    "                   cv=5,n_jobs = -1, verbose=3,\n",
    "                   scoring = 'neg_root_mean_squared_error')\n",
    "\n",
    "clf.fit(X, y)\n",
    "\n",
    "y_predicted = clf.predict(X_test)\n",
    "test.loc[:,'pred_difference'] = test.loc[:,y_val] - y_predicted\n",
    "\n",
    "rms = mean_squared_error(y_test, y_predicted, squared=False)\n",
    "test.loc[:,'pred'] = y_predicted\n",
    "print(f\"Best alpha {clf.best_params_['alpha']}\")\n",
    "print(f\"Best l1_ratio {clf.best_params_['l1_ratio']}\")"
   ]
  },
  {
   "cell_type": "markdown",
   "id": "892a7960",
   "metadata": {},
   "source": [
    "It is the same as the lasso model. :("
   ]
  },
  {
   "cell_type": "code",
   "execution_count": null,
   "id": "3aaca40a",
   "metadata": {},
   "outputs": [],
   "source": []
  }
 ],
 "metadata": {
  "kernelspec": {
   "display_name": "Python 3",
   "language": "python",
   "name": "python3"
  },
  "language_info": {
   "codemirror_mode": {
    "name": "ipython",
    "version": 3
   },
   "file_extension": ".py",
   "mimetype": "text/x-python",
   "name": "python",
   "nbconvert_exporter": "python",
   "pygments_lexer": "ipython3",
   "version": "3.8.8"
  }
 },
 "nbformat": 4,
 "nbformat_minor": 5
}
