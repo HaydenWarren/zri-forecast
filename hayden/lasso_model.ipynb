{
 "cells": [
  {
   "cell_type": "markdown",
   "id": "b7f13909",
   "metadata": {},
   "source": [
    "# Lasso model"
   ]
  },
  {
   "cell_type": "markdown",
   "id": "d00fa442",
   "metadata": {},
   "source": [
    "Lasso model had features selected by iteratively looking at VIF and coefficients of different features. Then testing which features were best to remove to maximize CV score and minimize VIF for each feature. Final lasso model had the best RMSE of all models with a 53 RMSE."
   ]
  },
  {
   "cell_type": "code",
   "execution_count": 1,
   "id": "2c7857b3",
   "metadata": {},
   "outputs": [],
   "source": [
    "# loading packages\n",
    "import pandas as pd\n",
    "import numpy as np\n",
    "import datetime\n",
    "\n",
    "from sklearn.preprocessing import StandardScaler\n",
    "from sklearn.metrics import mean_squared_error\n",
    "from sklearn.metrics import r2_score\n",
    "\n",
    "import helper"
   ]
  },
  {
   "cell_type": "markdown",
   "id": "dfd6202b",
   "metadata": {},
   "source": [
    "#### Loading and processing data to put into model. And Construct model."
   ]
  },
  {
   "cell_type": "code",
   "execution_count": 2,
   "id": "aea39826",
   "metadata": {},
   "outputs": [
    {
     "name": "stdout",
     "output_type": "stream",
     "text": [
      "Performing Grid Search with alphas of: [0.1, 0.2, 0.3, 0.6, 1]\n",
      "Fitting 5 folds for each of 5 candidates, totalling 25 fits\n",
      "Best alpha 0.1\n"
     ]
    }
   ],
   "source": [
    "# load data\n",
    "texas_data = pd.read_csv('merged_texas_data.csv', index_col = 0,\n",
    "                   parse_dates = ['Time']\n",
    "                  )\n",
    "\n",
    "acs_data = pd.read_csv('merged_acs_data.csv', index_col = 0,\n",
    "                      parse_dates = ['Time'])\n",
    "\n",
    "zri = pd.read_csv('long_interpolated_target.csv', index_col = 0,\n",
    "                   parse_dates=['Time']\n",
    "                  )\n",
    "\n",
    "# Merge and lag data to be ready to forecast a year in the future\n",
    "merged_df = helper.zri_data_pipeline(zri, texas_data, acs_data)\n",
    "\n",
    "# Split dataframe into train, test, and forecast,\n",
    "train, test, forecast = helper.train_test_forecast_split(\n",
    "    merged_df,\n",
    "    train_date = datetime.datetime(2020,7,2), \n",
    "    forecast_date = datetime.datetime(2021,7,2)\n",
    ")\n",
    "\n",
    "# define features to be put into the model and target variable.\n",
    "\n",
    "X_vals = [\n",
    "    'zori_ssa_12_month_shift',\n",
    "    'zori_ssa_1_diff_lag_12',\n",
    "    'zori_ssa_6_diff_lag_12',\n",
    "    'total_sales_tax_12_month_shift',\n",
    "    'housing_units_over_50_units_36_month_shift',\n",
    "    'housing_units_built_1960_to_1969_36_month_shift',\n",
    "    'black_pop_48_month_shift',\n",
    "    'zori_ssa_12_diff_lag_12_per',\n",
    "    'children_annual_pct_change_48_month_shift',\n",
    "    'female_40_to_44_annual_pct_change_36_month_shift',\n",
    "    'housing_units_10_to_19_units_annual_pct_change_36_month_shift',\n",
    "    'sales_tax_rate_annual_pct_change_12_month_shift',\n",
    "    'female_female_households_48_month_shift',\n",
    "    'women_with_associate_degree_annual_pct_change_36_month_shift',\n",
    "    'average_household_size_owners_annual_pct_change_36_month_shift',\n",
    "    'units_paying_cash_rent_annual_pct_change_36_month_shift',\n",
    "    'quintile_1_upper_limit_annual_pct_change_36_month_shift',\n",
    "    'Gross Value Natural Gas Production_13_month_shift',\n",
    "    'women_with_doctoral_degree_annual_pct_change_36_month_shift',\n",
    "    'total_sales_tax_annual_pct_change_12_month_shift',\n",
    "    'housing_units_built_1940_to_1949_36_month_shift',\n",
    "    'housing_units_built_1980_to_1989_annual_pct_change_36_month_shift',\n",
    "    'female_35_to_39_annual_pct_change_36_month_shift',\n",
    "    'bicycle_population_36_month_shift',\n",
    "    'housing_units_20_to_49_units_annual_pct_change_36_month_shift',\n",
    "    'taxpayer_count_12_month_shift',\n",
    "    'housing_units_5_to_9_units_36_month_shift',\n",
    "    'high_school_diploma_annual_pct_change_48_month_shift',\n",
    "    'driving_alone_population_annual_pct_change_36_month_shift',\n",
    "    'taxpayer_is_ratio_12_month_shift',\n",
    "    'motorcycle_population_36_month_shift',\n",
    "    'housing_units_single_family_attached_annual_pct_change_36_month_shift',\n",
    "    'white_pop_annual_pct_change_48_month_shift',\n",
    "    'taxpayer_cl_ratio_annual_pct_change_12_month_shift',\n",
    "    'taxpayer_is_ratio_annual_pct_change_12_month_shift',\n",
    "    'housing_units_built_1940_to_1949_annual_pct_change_36_month_shift',\n",
    "    'black_pop_annual_pct_change_48_month_shift',\n",
    "    'Gross Value Natural Gas Production_annual_pct_change_12_month_shift',\n",
    "    'housing_units_single_family_attached_owned_36_month_shift',\n",
    "    'single_women_annual_pct_change_36_month_shift',\n",
    "    'housing_units_built_1930_to_1939_36_month_shift',\n",
    "    'housing_units_built_1930_to_1939_annual_pct_change_36_month_shift',\n",
    "    'female_25_to_29_annual_pct_change_36_month_shift',    \n",
    "    'tx_net_approve_12_month_shift'\n",
    "    ]\n",
    "y_val = 'zori_ssa'\n",
    "\n",
    "# Shrink data to features to be put into the model\n",
    "# and scale data to prepare it to be put into the model\n",
    "# train first\n",
    "scaler = StandardScaler(with_mean=False)\n",
    "X = train[X_vals]\n",
    "X = scaler.fit_transform(X)\n",
    "y = train[y_val]\n",
    "# test all\n",
    "X_test = test[X_vals]\n",
    "X_test = scaler.transform(X_test)\n",
    "y_test = test[y_val]\n",
    "# forecasted values\n",
    "X_forecast = forecast[X_vals]\n",
    "X_forecast = scaler.transform(X_forecast)\n",
    "\n",
    "# construct model\n",
    "clf = helper.lasso_gridCV_fit(X, y)"
   ]
  },
  {
   "cell_type": "markdown",
   "id": "8e58cf4c",
   "metadata": {},
   "source": [
    "####  Getting test scores. RMSE and R^2"
   ]
  },
  {
   "cell_type": "code",
   "execution_count": 4,
   "id": "96437a48",
   "metadata": {},
   "outputs": [
    {
     "data": {
      "text/plain": [
       "53.56478327318194"
      ]
     },
     "execution_count": 4,
     "metadata": {},
     "output_type": "execute_result"
    }
   ],
   "source": [
    "y_pred_test = clf.predict(X_test)\n",
    "\n",
    "test.loc[:,'pred'] = y_pred_test\n",
    "test.loc[:,'pred_difference'] = test.loc[:,y_val] - y_pred_test\n",
    "\n",
    "rms = mean_squared_error(y_test, y_pred_test, squared=False)\n",
    "rms\n"
   ]
  },
  {
   "cell_type": "code",
   "execution_count": 5,
   "id": "911b8b2d",
   "metadata": {},
   "outputs": [
    {
     "data": {
      "text/plain": [
       "0.9553451892401778"
      ]
     },
     "execution_count": 5,
     "metadata": {},
     "output_type": "execute_result"
    }
   ],
   "source": [
    "r2_score(y_test, y_pred_test)\n"
   ]
  },
  {
   "cell_type": "markdown",
   "id": "61c93706",
   "metadata": {},
   "source": [
    "####  Feeding forecast values into model"
   ]
  },
  {
   "cell_type": "code",
   "execution_count": 6,
   "id": "c1d87ab4",
   "metadata": {},
   "outputs": [],
   "source": [
    "y_pred_fore = clf.predict(X_forecast)\n",
    "forecast.loc[:,'pred'] = y_pred_fore\n"
   ]
  },
  {
   "cell_type": "markdown",
   "id": "1be090fc",
   "metadata": {},
   "source": [
    "#### Construct timeline of zori and what prediciton status they are."
   ]
  },
  {
   "cell_type": "code",
   "execution_count": 7,
   "id": "90aa00b0",
   "metadata": {},
   "outputs": [
    {
     "name": "stderr",
     "output_type": "stream",
     "text": [
      "<ipython-input-7-8466dcc37687>:7: SettingWithCopyWarning: \n",
      "A value is trying to be set on a copy of a slice from a DataFrame.\n",
      "Try using .loc[row_indexer,col_indexer] = value instead\n",
      "\n",
      "See the caveats in the documentation: https://pandas.pydata.org/pandas-docs/stable/user_guide/indexing.html#returning-a-view-versus-a-copy\n",
      "  zori_pred_train['model_code'] = 'lasso_base'# just code for the lasso model\n",
      "<ipython-input-7-8466dcc37687>:11: SettingWithCopyWarning: \n",
      "A value is trying to be set on a copy of a slice from a DataFrame.\n",
      "Try using .loc[row_indexer,col_indexer] = value instead\n",
      "\n",
      "See the caveats in the documentation: https://pandas.pydata.org/pandas-docs/stable/user_guide/indexing.html#returning-a-view-versus-a-copy\n",
      "  zori_pred_fore['model_code'] = 'lasso_base'\n"
     ]
    }
   ],
   "source": [
    "# put actual data into correct format\n",
    "zori_pred_act = zri[['Time','zip_code','zori_ssa']].dropna(subset=['zori_ssa'])\n",
    "zori_pred_act['model_code'] = 'actual_values'\n",
    "# put train into correct format\n",
    "zori_pred_train = test[['Time','zip_code','pred']]\n",
    "zori_pred_train.columns = ['Time','zip_code','zori_ssa']\n",
    "zori_pred_train['model_code'] = 'lasso_base'# just code for the lasso model\n",
    "# put forecast into correct format\n",
    "zori_pred_fore = forecast[['Time','zip_code','pred']]\n",
    "zori_pred_fore.columns = ['Time','zip_code','zori_ssa']\n",
    "zori_pred_fore['model_code'] = 'lasso_base'\n",
    "# concat them together\n",
    "zori_pred = pd.concat([zori_pred_act, zori_pred_train, \n",
    "                       zori_pred_fore]).reset_index(drop=True)\n",
    "\n",
    "# zori_pred.to_csv('zori_pred_lasso_base.csv')"
   ]
  },
  {
   "cell_type": "code",
   "execution_count": null,
   "id": "53f1aecc",
   "metadata": {},
   "outputs": [],
   "source": []
  }
 ],
 "metadata": {
  "kernelspec": {
   "display_name": "Python 3",
   "language": "python",
   "name": "python3"
  },
  "language_info": {
   "codemirror_mode": {
    "name": "ipython",
    "version": 3
   },
   "file_extension": ".py",
   "mimetype": "text/x-python",
   "name": "python",
   "nbconvert_exporter": "python",
   "pygments_lexer": "ipython3",
   "version": "3.8.8"
  }
 },
 "nbformat": 4,
 "nbformat_minor": 5
}
