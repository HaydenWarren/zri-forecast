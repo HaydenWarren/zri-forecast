{
 "cells": [
  {
   "cell_type": "code",
   "execution_count": 22,
   "metadata": {},
   "outputs": [],
   "source": [
    "import numpy as np\n",
    "import pandas as pd\n",
    "import missingno as msno\n",
    "\n",
    "import seaborn as sns\n",
    "import matplotlib.pyplot as plt\n",
    "\n",
    "import missingno as msno\n",
    "\n",
    "from sklearn.metrics import mean_squared_error"
   ]
  },
  {
   "cell_type": "code",
   "execution_count": 24,
   "metadata": {},
   "outputs": [],
   "source": [
    "features = pd.read_csv('/Users/trevorban/Desktop/zri-data/complete/acs_feature_list.csv').drop(columns='Unnamed: 0')\n",
    "frame = pd.read_csv('/Users/trevorban/Desktop/zri-data/complete/acs_variables_frame.csv').drop(columns='Unnamed: 0')"
   ]
  },
  {
   "cell_type": "code",
   "execution_count": 27,
   "metadata": {},
   "outputs": [
    {
     "data": {
      "text/plain": [
       "Index(['average_household_size_owners', 'driving_alone_population',\n",
       "       'high_school_diploma', 'female_female_households', 'armed_forces',\n",
       "       'bicycle_population', 'female_21', 'female_25_to_29', 'female_30_to_34',\n",
       "       'female_35_to_39', 'female_40_to_44', 'female_45_to_49',\n",
       "       'female_50_to_54', 'female_75_to_79',\n",
       "       'housing_units_built_1930_to_1939', 'housing_units_built_1940_to_1949',\n",
       "       'housing_units_built_1950_to_1959', 'housing_units_built_1960_to_1969',\n",
       "       'housing_units_built_1970_to_1979', 'housing_units_built_1990_to_1999',\n",
       "       'housing_units_built_1980_to_1989', 'single_women',\n",
       "       'quintile_1_upper_limit', 'quintile_2_upper_limit',\n",
       "       'quintile_3_upper_limit', 'quintile_4_upper_limit',\n",
       "       'women_with_associate_degree', 'women_with_doctoral_degree',\n",
       "       'men_with_bachelors_degree', 'white_pop', 'hispanic_pop',\n",
       "       'median_household_income', 'units_paying_cash_rent',\n",
       "       'motorcycle_population', 'children', 'black_pop',\n",
       "       'housing_units_10_to_19_units', 'housing_units_20_to_49_units',\n",
       "       'housing_units_5_to_9_units', 'housing_units_over_50_units',\n",
       "       'housing_units_single_family_attached',\n",
       "       'housing_units_single_family_attached_owned',\n",
       "       'walking_to_work_population'],\n",
       "      dtype='object')"
      ]
     },
     "execution_count": 27,
     "metadata": {},
     "output_type": "execute_result"
    }
   ],
   "source": [
    "frame.columns"
   ]
  },
  {
   "cell_type": "code",
   "execution_count": 20,
   "metadata": {},
   "outputs": [],
   "source": [
    "for i in df.columns:\n",
    "    plt.figure()\n",
    "    sns.scatterplot(data=df, x=i, y='zori_ssa', hue='Time', legend=False)"
   ]
  },
  {
   "cell_type": "code",
   "execution_count": null,
   "metadata": {},
   "outputs": [],
   "source": []
  },
  {
   "cell_type": "code",
   "execution_count": null,
   "metadata": {},
   "outputs": [],
   "source": []
  },
  {
   "cell_type": "code",
   "execution_count": null,
   "metadata": {},
   "outputs": [],
   "source": []
  }
 ],
 "metadata": {
  "kernelspec": {
   "display_name": "Python 3",
   "language": "python",
   "name": "python3"
  },
  "language_info": {
   "codemirror_mode": {
    "name": "ipython",
    "version": 3
   },
   "file_extension": ".py",
   "mimetype": "text/x-python",
   "name": "python",
   "nbconvert_exporter": "python",
   "pygments_lexer": "ipython3",
   "version": "3.7.6"
  }
 },
 "nbformat": 4,
 "nbformat_minor": 4
}
