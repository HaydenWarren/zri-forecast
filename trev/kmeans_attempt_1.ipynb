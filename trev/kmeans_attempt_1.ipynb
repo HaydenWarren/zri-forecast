{
 "cells": [
  {
   "cell_type": "code",
   "execution_count": 64,
   "metadata": {},
   "outputs": [],
   "source": [
    "import pandas as pd\n",
    "import numpy as np\n",
    "import matplotlib.pyplot as plt\n",
    "import plotly.express as px\n",
    "\n",
    "\n",
    "#from __future__ import print_function\n",
    "from sklearn.cluster import KMeans\n",
    "plt.style.use('ggplot')\n",
    "%matplotlib inline\n"
   ]
  },
  {
   "cell_type": "code",
   "execution_count": 49,
   "metadata": {},
   "outputs": [],
   "source": [
    "df_raw = pd.read_csv('/Users/trevorban/Desktop/zri-data/acs_master11to18_clean.csv')"
   ]
  },
  {
   "cell_type": "code",
   "execution_count": 50,
   "metadata": {},
   "outputs": [],
   "source": [
    "df = df_raw.copy()"
   ]
  },
  {
   "cell_type": "code",
   "execution_count": 51,
   "metadata": {},
   "outputs": [
    {
     "data": {
      "text/plain": [
       "Unnamed: 0                                                       int64\n",
       "zip_code                                                       float64\n",
       "male_pop                                                       float64\n",
       "female_pop                                                     float64\n",
       "median_age                                                     float64\n",
       "white_pop                                                      float64\n",
       "not_us_citizen_pop                                             float64\n",
       "black_pop                                                      float64\n",
       "asian_pop                                                      float64\n",
       "hispanic_pop                                                   float64\n",
       "amerindian_pop                                                 float64\n",
       "other_race_pop                                                 float64\n",
       "median_income                                                  float64\n",
       "income_per_capita                                              float64\n",
       "pop_determined_poverty_status                                  float64\n",
       "poverty                                                        float64\n",
       "gini_index                                                     float64\n",
       "housing_units                                                  float64\n",
       "renter_occupied_housing_units_paying_cash_median_gross_rent    float64\n",
       "occupied_housing_units                                         float64\n",
       "vacant_housing_units_for_rent                                  float64\n",
       "median_year_structure_built                                    float64\n",
       "married_households                                             float64\n",
       "households_public_asst_or_food_stamps                          float64\n",
       "male_male_households                                           float64\n",
       "female_female_households                                       float64\n",
       "children                                                       float64\n",
       "median_rent                                                    float64\n",
       "percent_income_spent_on_rent                                   float64\n",
       "owner_occupied_housing_units                                   float64\n",
       "aggregate_travel_time_to_work                                  float64\n",
       "commuters_by_public_transportation                             float64\n",
       "high_school_diploma                                            float64\n",
       "bachelors_degree                                               float64\n",
       "employed_pop                                                   float64\n",
       "unemployed_pop                                                 float64\n",
       "pop_in_labor_force                                             float64\n",
       "armed_forces                                                   float64\n",
       "year                                                             int64\n",
       "Time                                                            object\n",
       "dtype: object"
      ]
     },
     "execution_count": 51,
     "metadata": {},
     "output_type": "execute_result"
    }
   ],
   "source": [
    "df.dtypes"
   ]
  },
  {
   "cell_type": "code",
   "execution_count": 52,
   "metadata": {},
   "outputs": [
    {
     "data": {
      "text/plain": [
       "(20544, 40)"
      ]
     },
     "execution_count": 52,
     "metadata": {},
     "output_type": "execute_result"
    }
   ],
   "source": [
    "df.shape"
   ]
  },
  {
   "cell_type": "code",
   "execution_count": 53,
   "metadata": {},
   "outputs": [
    {
     "data": {
      "text/plain": [
       "Unnamed: 0                                                     False\n",
       "zip_code                                                       False\n",
       "male_pop                                                       False\n",
       "female_pop                                                     False\n",
       "median_age                                                     False\n",
       "white_pop                                                      False\n",
       "not_us_citizen_pop                                             False\n",
       "black_pop                                                      False\n",
       "asian_pop                                                      False\n",
       "hispanic_pop                                                   False\n",
       "amerindian_pop                                                 False\n",
       "other_race_pop                                                 False\n",
       "median_income                                                  False\n",
       "income_per_capita                                              False\n",
       "pop_determined_poverty_status                                  False\n",
       "poverty                                                        False\n",
       "gini_index                                                     False\n",
       "housing_units                                                  False\n",
       "renter_occupied_housing_units_paying_cash_median_gross_rent    False\n",
       "occupied_housing_units                                         False\n",
       "vacant_housing_units_for_rent                                  False\n",
       "median_year_structure_built                                    False\n",
       "married_households                                             False\n",
       "households_public_asst_or_food_stamps                          False\n",
       "male_male_households                                           False\n",
       "female_female_households                                       False\n",
       "children                                                       False\n",
       "median_rent                                                    False\n",
       "percent_income_spent_on_rent                                   False\n",
       "owner_occupied_housing_units                                   False\n",
       "aggregate_travel_time_to_work                                   True\n",
       "commuters_by_public_transportation                             False\n",
       "high_school_diploma                                             True\n",
       "bachelors_degree                                                True\n",
       "employed_pop                                                   False\n",
       "unemployed_pop                                                 False\n",
       "pop_in_labor_force                                             False\n",
       "armed_forces                                                   False\n",
       "year                                                           False\n",
       "Time                                                           False\n",
       "dtype: bool"
      ]
     },
     "execution_count": 53,
     "metadata": {},
     "output_type": "execute_result"
    }
   ],
   "source": [
    "df.isna().any()"
   ]
  },
  {
   "cell_type": "code",
   "execution_count": 54,
   "metadata": {},
   "outputs": [],
   "source": [
    "# remove all rows that contain nulls\n",
    "df2 = df.dropna(how='any',axis=0) "
   ]
  },
  {
   "cell_type": "code",
   "execution_count": 55,
   "metadata": {},
   "outputs": [],
   "source": [
    "# OR remove the three columns that contain nulls and store in 'nulls'\n",
    "nulls = df[['aggregate_travel_time_to_work', 'high_school_diploma', 'bachelors_degree']]"
   ]
  },
  {
   "cell_type": "code",
   "execution_count": 56,
   "metadata": {},
   "outputs": [],
   "source": [
    "df = df.drop(columns=['aggregate_travel_time_to_work', 'high_school_diploma', 'bachelors_degree'])"
   ]
  },
  {
   "cell_type": "code",
   "execution_count": 57,
   "metadata": {},
   "outputs": [
    {
     "data": {
      "text/plain": [
       "Unnamed: 0                                                     False\n",
       "zip_code                                                       False\n",
       "male_pop                                                       False\n",
       "female_pop                                                     False\n",
       "median_age                                                     False\n",
       "white_pop                                                      False\n",
       "not_us_citizen_pop                                             False\n",
       "black_pop                                                      False\n",
       "asian_pop                                                      False\n",
       "hispanic_pop                                                   False\n",
       "amerindian_pop                                                 False\n",
       "other_race_pop                                                 False\n",
       "median_income                                                  False\n",
       "income_per_capita                                              False\n",
       "pop_determined_poverty_status                                  False\n",
       "poverty                                                        False\n",
       "gini_index                                                     False\n",
       "housing_units                                                  False\n",
       "renter_occupied_housing_units_paying_cash_median_gross_rent    False\n",
       "occupied_housing_units                                         False\n",
       "vacant_housing_units_for_rent                                  False\n",
       "median_year_structure_built                                    False\n",
       "married_households                                             False\n",
       "households_public_asst_or_food_stamps                          False\n",
       "male_male_households                                           False\n",
       "female_female_households                                       False\n",
       "children                                                       False\n",
       "median_rent                                                    False\n",
       "percent_income_spent_on_rent                                   False\n",
       "owner_occupied_housing_units                                   False\n",
       "commuters_by_public_transportation                             False\n",
       "employed_pop                                                   False\n",
       "unemployed_pop                                                 False\n",
       "pop_in_labor_force                                             False\n",
       "armed_forces                                                   False\n",
       "year                                                           False\n",
       "Time                                                           False\n",
       "dtype: bool"
      ]
     },
     "execution_count": 57,
     "metadata": {},
     "output_type": "execute_result"
    }
   ],
   "source": [
    "df.isna().any()"
   ]
  },
  {
   "cell_type": "code",
   "execution_count": 58,
   "metadata": {},
   "outputs": [
    {
     "data": {
      "text/plain": [
       "96"
      ]
     },
     "execution_count": 58,
     "metadata": {},
     "output_type": "execute_result"
    }
   ],
   "source": [
    "nulls['aggregate_travel_time_to_work'].isna().sum() "
   ]
  },
  {
   "cell_type": "code",
   "execution_count": 59,
   "metadata": {},
   "outputs": [
    {
     "data": {
      "text/plain": [
       "2568"
      ]
     },
     "execution_count": 59,
     "metadata": {},
     "output_type": "execute_result"
    }
   ],
   "source": [
    "nulls['high_school_diploma'].isna().sum() "
   ]
  },
  {
   "cell_type": "code",
   "execution_count": 60,
   "metadata": {},
   "outputs": [
    {
     "data": {
      "text/plain": [
       "2568"
      ]
     },
     "execution_count": 60,
     "metadata": {},
     "output_type": "execute_result"
    }
   ],
   "source": [
    "nulls['bachelors_degree'].isna().sum() "
   ]
  },
  {
   "cell_type": "code",
   "execution_count": 70,
   "metadata": {},
   "outputs": [],
   "source": [
    "df2.Time = pd.to_datetime(df2.Time)"
   ]
  },
  {
   "cell_type": "markdown",
   "metadata": {},
   "source": [
    "## kmeans attempt #1"
   ]
  },
  {
   "cell_type": "code",
   "execution_count": 108,
   "metadata": {},
   "outputs": [],
   "source": [
    "x = df2.iloc[:, 2:4]"
   ]
  },
  {
   "cell_type": "code",
   "execution_count": 109,
   "metadata": {},
   "outputs": [
    {
     "data": {
      "text/html": [
       "<div>\n",
       "<style scoped>\n",
       "    .dataframe tbody tr th:only-of-type {\n",
       "        vertical-align: middle;\n",
       "    }\n",
       "\n",
       "    .dataframe tbody tr th {\n",
       "        vertical-align: top;\n",
       "    }\n",
       "\n",
       "    .dataframe thead th {\n",
       "        text-align: right;\n",
       "    }\n",
       "</style>\n",
       "<table border=\"1\" class=\"dataframe\">\n",
       "  <thead>\n",
       "    <tr style=\"text-align: right;\">\n",
       "      <th></th>\n",
       "      <th>male_pop</th>\n",
       "      <th>female_pop</th>\n",
       "    </tr>\n",
       "  </thead>\n",
       "  <tbody>\n",
       "    <tr>\n",
       "      <th>2568</th>\n",
       "      <td>31982.0</td>\n",
       "      <td>32396.0</td>\n",
       "    </tr>\n",
       "    <tr>\n",
       "      <th>2569</th>\n",
       "      <td>31982.0</td>\n",
       "      <td>32396.0</td>\n",
       "    </tr>\n",
       "    <tr>\n",
       "      <th>2570</th>\n",
       "      <td>31982.0</td>\n",
       "      <td>32396.0</td>\n",
       "    </tr>\n",
       "    <tr>\n",
       "      <th>2571</th>\n",
       "      <td>31982.0</td>\n",
       "      <td>32396.0</td>\n",
       "    </tr>\n",
       "    <tr>\n",
       "      <th>2572</th>\n",
       "      <td>31982.0</td>\n",
       "      <td>32396.0</td>\n",
       "    </tr>\n",
       "    <tr>\n",
       "      <th>...</th>\n",
       "      <td>...</td>\n",
       "      <td>...</td>\n",
       "    </tr>\n",
       "    <tr>\n",
       "      <th>20539</th>\n",
       "      <td>39086.0</td>\n",
       "      <td>41178.0</td>\n",
       "    </tr>\n",
       "    <tr>\n",
       "      <th>20540</th>\n",
       "      <td>39086.0</td>\n",
       "      <td>41178.0</td>\n",
       "    </tr>\n",
       "    <tr>\n",
       "      <th>20541</th>\n",
       "      <td>39086.0</td>\n",
       "      <td>41178.0</td>\n",
       "    </tr>\n",
       "    <tr>\n",
       "      <th>20542</th>\n",
       "      <td>39086.0</td>\n",
       "      <td>41178.0</td>\n",
       "    </tr>\n",
       "    <tr>\n",
       "      <th>20543</th>\n",
       "      <td>39086.0</td>\n",
       "      <td>41178.0</td>\n",
       "    </tr>\n",
       "  </tbody>\n",
       "</table>\n",
       "<p>17892 rows × 2 columns</p>\n",
       "</div>"
      ],
      "text/plain": [
       "       male_pop  female_pop\n",
       "2568    31982.0     32396.0\n",
       "2569    31982.0     32396.0\n",
       "2570    31982.0     32396.0\n",
       "2571    31982.0     32396.0\n",
       "2572    31982.0     32396.0\n",
       "...         ...         ...\n",
       "20539   39086.0     41178.0\n",
       "20540   39086.0     41178.0\n",
       "20541   39086.0     41178.0\n",
       "20542   39086.0     41178.0\n",
       "20543   39086.0     41178.0\n",
       "\n",
       "[17892 rows x 2 columns]"
      ]
     },
     "execution_count": 109,
     "metadata": {},
     "output_type": "execute_result"
    }
   ],
   "source": [
    "x"
   ]
  },
  {
   "cell_type": "code",
   "execution_count": 110,
   "metadata": {},
   "outputs": [],
   "source": [
    "kmeans = KMeans()"
   ]
  },
  {
   "cell_type": "code",
   "execution_count": 111,
   "metadata": {},
   "outputs": [
    {
     "data": {
      "text/plain": [
       "KMeans(algorithm='auto', copy_x=True, init='k-means++', max_iter=300,\n",
       "       n_clusters=2, n_init=10, n_jobs=None, precompute_distances='auto',\n",
       "       random_state=None, tol=0.0001, verbose=0)"
      ]
     },
     "execution_count": 111,
     "metadata": {},
     "output_type": "execute_result"
    }
   ],
   "source": [
    "kmeans.set_params(n_clusters=2)\n",
    "kmeans.fit(x)"
   ]
  },
  {
   "cell_type": "code",
   "execution_count": 112,
   "metadata": {},
   "outputs": [
    {
     "data": {
      "text/plain": [
       "array([[31845.85587583, 33018.25277162],\n",
       "       [15089.70288461, 15446.29519231]])"
      ]
     },
     "execution_count": 112,
     "metadata": {},
     "output_type": "execute_result"
    }
   ],
   "source": [
    "kmeans.cluster_centers_"
   ]
  },
  {
   "cell_type": "code",
   "execution_count": 113,
   "metadata": {},
   "outputs": [
    {
     "data": {
      "text/plain": [
       "array([0, 0, 0, ..., 0, 0, 0], dtype=int32)"
      ]
     },
     "execution_count": 113,
     "metadata": {},
     "output_type": "execute_result"
    }
   ],
   "source": [
    "kmeans.labels_"
   ]
  },
  {
   "cell_type": "code",
   "execution_count": 115,
   "metadata": {},
   "outputs": [],
   "source": [
    "#! pip install yellowbrick"
   ]
  },
  {
   "cell_type": "code",
   "execution_count": 116,
   "metadata": {},
   "outputs": [],
   "source": [
    "from yellowbrick.cluster import SilhouetteVisualizer\n"
   ]
  },
  {
   "cell_type": "code",
   "execution_count": 117,
   "metadata": {},
   "outputs": [
    {
     "data": {
      "image/png": "[encoded data removed]",
      "text/plain": [
       "<Figure size 576x396 with 1 Axes>"
      ]
     },
     "metadata": {},
     "output_type": "display_data"
    },
    {
     "data": {
      "text/plain": [
       "<AxesSubplot:title={'center':'Silhouette Plot of KMeans Clustering for 17892 Samples in 3 Centers'}, xlabel='silhouette coefficient values', ylabel='cluster label'>"
      ]
     },
     "execution_count": 117,
     "metadata": {},
     "output_type": "execute_result"
    }
   ],
   "source": [
    "model = KMeans(3, random_state=42)\n",
    "visualizer = SilhouetteVisualizer(model, colors='yellowbrick')\n",
    "\n",
    "visualizer.fit(x)        # Fit the data to the visualizer\n",
    "visualizer.show()   "
   ]
  },
  {
   "cell_type": "code",
   "execution_count": 122,
   "metadata": {},
   "outputs": [
    {
     "data": {
      "text/plain": [
       "2568     31982.0\n",
       "2569     31982.0\n",
       "2570     31982.0\n",
       "2571     31982.0\n",
       "2572     31982.0\n",
       "          ...   \n",
       "20539    39086.0\n",
       "20540    39086.0\n",
       "20541    39086.0\n",
       "20542    39086.0\n",
       "20543    39086.0\n",
       "Name: male_pop, Length: 17892, dtype: float64"
      ]
     },
     "execution_count": 122,
     "metadata": {},
     "output_type": "execute_result"
    }
   ],
   "source": [
    "x.iloc[:, 0]"
   ]
  },
  {
   "cell_type": "code",
   "execution_count": 130,
   "metadata": {},
   "outputs": [
    {
     "data": {
      "text/plain": [
       "0"
      ]
     },
     "execution_count": 130,
     "metadata": {},
     "output_type": "execute_result"
    }
   ],
   "source": []
  },
  {
   "cell_type": "code",
   "execution_count": 127,
   "metadata": {},
   "outputs": [
    {
     "data": {
      "image/png": "[encoded data removed]",
      "text/plain": [
       "<Figure size 576x396 with 1 Axes>"
      ]
     },
     "metadata": {},
     "output_type": "display_data"
    }
   ],
   "source": [
    "plt.scatter(x.iloc[:, 0], x.iloc[:, 1], c=kmeans.labels_, alpha=0.8, cmap='hsv')\n",
    "plt.scatter(kmeans.cluster_centers_[:, 0], kmeans.cluster_centers_[:, 1], marker='+', s=1000, c=[0, 1])\n",
    "plt.show()"
   ]
  },
  {
   "cell_type": "code",
   "execution_count": null,
   "metadata": {},
   "outputs": [],
   "source": []
  }
 ],
 "metadata": {
  "kernelspec": {
   "display_name": "Python 3",
   "language": "python",
   "name": "python3"
  },
  "language_info": {
   "codemirror_mode": {
    "name": "ipython",
    "version": 3
   },
   "file_extension": ".py",
   "mimetype": "text/x-python",
   "name": "python",
   "nbconvert_exporter": "python",
   "pygments_lexer": "ipython3",
   "version": "3.7.6"
  }
 },
 "nbformat": 4,
 "nbformat_minor": 4
}
