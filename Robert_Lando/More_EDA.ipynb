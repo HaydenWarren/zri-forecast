{
 "cells": [
  {
   "cell_type": "code",
   "execution_count": 1,
   "metadata": {},
   "outputs": [],
   "source": [
    "import numpy as np\n",
    "import pandas as pd\n",
    "import matplotlib.pyplot as plt\n",
    "import seaborn as sns\n",
    "import plotly.express as px"
   ]
  },
  {
   "cell_type": "code",
   "execution_count": 92,
   "metadata": {},
   "outputs": [],
   "source": [
    "pd.set_option('display.max_columns', None)"
   ]
  },
  {
   "cell_type": "code",
   "execution_count": 360,
   "metadata": {},
   "outputs": [
    {
     "data": {
      "text/plain": [
       "[4, 3, 1, 2, 6, 5, 8, 9, 10, 11, 0, 7]"
      ]
     },
     "execution_count": 360,
     "metadata": {},
     "output_type": "execute_result"
    }
   ],
   "source": [
    "############################################################################################## differenced zori\n",
    "\n",
    "zori_diff = pd.read_csv\\\n",
    "(r'C:\\Users\\robla\\Desktop\\nycdsa\\Capstone\\cleaned_data\\cleaned_data\\long_differenced_interpolated_target.csv',\n",
    " index_col = 0) \n",
    "\n",
    "zori_diff.loc[:,'Time'] = zori_diff['Time'].apply(lambda x: pd.to_datetime(x, format = '%Y-%m')) #converting time to datetime format\n",
    "\n",
    "############################################################################################## zori\n",
    "\n",
    "zori = pd.read_csv\\\n",
    "(r'C:\\Users\\robla\\Desktop\\nycdsa\\Capstone\\cleaned_data\\cleaned_data\\long_interpolated_target.csv',\n",
    " index_col = 0)\n",
    "\n",
    "\n",
    "zori.loc[:,'Time'] = zori['Time'].apply(lambda x: pd.to_datetime(x, format = '%Y-%m')) #converting time to datetime format\n",
    "\n",
    "############################################################################################## city unemployment rates\n",
    "\n",
    "unemployment_rates = pd.read_csv\\\n",
    "(r'C:\\Users\\robla\\Desktop\\nycdsa\\Capstone\\cleaned_data\\cleaned_data\\city_unemployment_rates.csv',\n",
    " index_col = 0) \n",
    "\n",
    "unemployment_rates.loc[:,'Time'] = unemployment_rates['Time'].apply(lambda x: pd.to_datetime(x, format = '%Y-%m')) #converting time to datetime format\n",
    "\n",
    "############################################################################################## spc housing index\n",
    "\n",
    "sap_case = pd.read_csv\\\n",
    "(r'C:\\Users\\robla\\Desktop\\nycdsa\\Capstone\\cleaned_data\\cleaned_data\\sap_case_shiller.csv',\n",
    " index_col = 0)\n",
    "\n",
    "sap_case.loc[:,'Time'] = sap_case['Time'].apply(lambda x: pd.to_datetime(x, format = '%Y-%m')) #converting time to datetime format\n",
    "\n",
    "############################################################################################## ten year note\n",
    "\n",
    "tnx = pd.read_csv\\\n",
    "(r'C:\\Users\\robla\\Desktop\\nycdsa\\Capstone\\cleaned_data\\cleaned_data\\monthly_tnx.csv',\n",
    " index_col = 0)\n",
    "\n",
    "tnx.loc[:,'Time'] = tnx['Time'].apply(lambda x: pd.to_datetime(x, format = '%Y-%m')) #converting time to datetime format\n",
    "\n",
    "############################################################################################## state monthly gas prices \n",
    "\n",
    "monthly_gas = pd.read_csv\\\n",
    "(r'C:\\Users\\robla\\Desktop\\nycdsa\\Capstone\\cleaned_data\\cleaned_data\\monthly_avg_gas_prices.csv',\n",
    " index_col = 0)\n",
    "\n",
    "\n",
    "monthly_gas.loc[:,'Time'] = monthly_gas['Time'].apply(lambda x: pd.to_datetime(x, format = '%Y-%m')) #converting time to datetime format\n",
    "\n",
    "############################################################################################## weather\n",
    "\n",
    "weather = pd.read_csv\\\n",
    "(r'C:\\Users\\robla\\Desktop\\nycdsa\\Capstone\\cleaned_data\\cleaned_data\\weather.csv',\n",
    " index_col = 0)\n",
    "\n",
    "weather.rename(columns = {'date_time':'Time','zip':'zip_code'},inplace = True)\n",
    "\n",
    "\n",
    "weather.loc[:,'Time'] = weather['Time'].apply(lambda x: pd.to_datetime(x, format = '%Y-%m')) #converting time to datetime format\n",
    "\n",
    "############################################################################################## key econ\n",
    "\n",
    "key_econ = pd.read_csv\\\n",
    "(r'C:\\Users\\robla\\Desktop\\nycdsa\\Capstone\\cleaned_data\\cleaned_data\\key_econ.csv',\n",
    " index_col = 1,parse_dates= {'Time':['Month', 'Year']})\n",
    "\n",
    "key_econ.loc[:,'Time'] = key_econ['Time'].apply(lambda x: pd.to_datetime(x, format = '%Y-%m')) #converting time to datetime format\n",
    "\n",
    "############################################################################################## poll_clean\n",
    "\n",
    "poll = pd.read_csv\\\n",
    "(r'C:\\Users\\robla\\Desktop\\nycdsa\\Capstone\\cleaned_data\\cleaned_data\\poll_clean.csv',\n",
    " index_col = 0).drop(['month','year'], axis = 1)\n",
    "\n",
    "poll.rename(columns = {'date':'Time','zip_codes':'zip_code'},inplace = True)\n",
    "\n",
    "poll.loc[:,'Time'] = poll['Time'].apply(lambda x: pd.to_datetime(x, format = '%Y-%m')) #converting time to datetime format\n",
    "\n",
    "############################################################################################## new biz outlet !\n",
    "\n",
    "new_biz_out = pd.read_csv\\\n",
    "(r'C:\\Users\\robla\\Desktop\\nycdsa\\Capstone\\cleaned_data\\cleaned_data\\new_biz_outlet.csv',\n",
    " index_col = 1,parse_dates= {'Time':['month', 'year']})\n",
    "\n",
    "new_biz_out.loc[:,'Time'] = new_biz_out['Time'].apply(lambda x: pd.to_datetime(x, format = '%Y-%m')) #converting time to datetime format\n",
    "\n",
    "############################################################################################## new_biz_outlet_inside\n",
    "\n",
    "new_biz_out_in = pd.read_csv\\\n",
    "(r'C:\\Users\\robla\\Desktop\\nycdsa\\Capstone\\cleaned_data\\cleaned_data\\new_biz_outlet_inside.csv',\n",
    " index_col = 1,parse_dates= {'Time':['month', 'year']})\n",
    "\n",
    "new_biz_out_in.loc[:,'Time'] = new_biz_out_in['Time'].apply(lambda x: pd.to_datetime(x, format = '%Y-%m')) #converting time to datetime format\n",
    "\n",
    "\n",
    "############################################################################################## covid_clean\n",
    "\n",
    "covid = pd.read_csv\\\n",
    "(r'C:\\Users\\robla\\Desktop\\nycdsa\\Capstone\\cleaned_data\\cleaned_data\\covid_clean.csv',\n",
    " index_col = 1,parse_dates= {'Time':['month', 'year']})\n",
    "\n",
    "covid.loc[:,'Time'] = covid['Time'].apply(lambda x: pd.to_datetime(x, format = '%Y-%m')) #converting time to datetime format\n",
    "\n",
    "############################################################################################## env_violation\n",
    "\n",
    "\n",
    "env_vio = pd.read_csv\\\n",
    "(r'C:\\Users\\robla\\Desktop\\nycdsa\\Capstone\\cleaned_data\\cleaned_data\\env_violation.csv',\n",
    " index_col = 0)\n",
    "\n",
    "env_vio.rename(columns = {'date':'Time','zip':'zip_code'},inplace = True)\n",
    "\n",
    "env_vio.loc[:,'Time'] = env_vio['Time'].apply(lambda x: pd.to_datetime(x, format = '%Y-%m')) #converting time to datetime format\n",
    "\n",
    "############################################################################################## liquor_permit\n",
    "\n",
    "\n",
    "liq_perm = pd.read_csv\\\n",
    "(r'C:\\Users\\robla\\Desktop\\nycdsa\\Capstone\\cleaned_data\\cleaned_data\\liquor_permit.csv',\n",
    " index_col = 0)\n",
    "\n",
    "liq_perm.rename(columns = {'date':'Time','zip':'zip_code'}, inplace = True)\n",
    "\n",
    "liq_perm.loc[:,'Time'] = liq_perm['Time'].apply(lambda x: pd.to_datetime(x, format = '%Y-%m')) #converting time to datetime format\n",
    "\n",
    "############################################################################################## new_biz_taxpayer\n",
    "\n",
    "new_biz_taxpayer = pd.read_csv\\\n",
    "(r'C:\\Users\\robla\\Desktop\\nycdsa\\Capstone\\cleaned_data\\cleaned_data\\new_biz_taxpayer.csv',\n",
    " index_col = 1,parse_dates= {'Time':['month', 'year']})\n",
    "\n",
    "new_biz_taxpayer.loc[:,'Time'] = new_biz_taxpayer['Time'].apply(lambda x: pd.to_datetime(x, format = '%Y-%m')) #converting time to datetime format\n",
    "\n",
    "############################################################################################## sales_tax_allocation \n",
    "\n",
    "sales_tax_alloc = pd.read_csv\\\n",
    "(r'C:\\Users\\robla\\Desktop\\nycdsa\\Capstone\\cleaned_data\\cleaned_data\\sales_tax_allocation.csv',\n",
    " index_col = 1,parse_dates= {'Time':['month', 'year']})\n",
    "\n",
    "sales_tax_alloc.loc[:,'Time'] = sales_tax_alloc['Time'].apply(lambda x: pd.to_datetime(x, format = '%Y-%m')) #converting time to datetime format\n",
    "\n",
    "##############################################################################################\n",
    "\n",
    "dfs = [zori_diff,unemployment_rates,sap_case,\n",
    "       tnx,monthly_gas,weather,key_econ,covid,env_vio,\n",
    "       liq_perm,new_biz_taxpayer,sales_tax_alloc] #didn't include poll, new_biz,or new_biz_in because they have some column name similarities\n",
    "\n",
    "row_counts = [df.shape[0] for df in dfs]\n",
    "row_counts = pd.DataFrame(list(enumerate(row_counts))).sort_values(by = 1, ascending = False)\n",
    "merge_index_order = list(row_counts[0])\n",
    "merge_index_order"
   ]
  },
  {
   "cell_type": "code",
   "execution_count": 361,
   "metadata": {},
   "outputs": [
    {
     "data": {
      "text/plain": [
       "((22575, 7), Index(['Time', 'zip_code', 'sales_tax_rate', 'total_sales_tax',\n",
       "        'total_sales_tax_last_year', 'per_diff_total_sales_tax', 'city'],\n",
       "       dtype='object'))"
      ]
     },
     "execution_count": 361,
     "metadata": {},
     "output_type": "execute_result"
    }
   ],
   "source": [
    "sales_tax_alloc.shape,sales_tax_alloc.columns"
   ]
  },
  {
   "cell_type": "code",
   "execution_count": 362,
   "metadata": {},
   "outputs": [
    {
     "data": {
      "text/plain": [
       "((24222, 7),\n",
       " Index(['Time', 'zip_code', 'taxpayer_count', 'taxpayer_org_type_cl',\n",
       "        'taxpayer_org_type_is', 'taxpayer_org_type_foreign',\n",
       "        'payer_outlet_same_zipcode'],\n",
       "       dtype='object'))"
      ]
     },
     "execution_count": 362,
     "metadata": {},
     "output_type": "execute_result"
    }
   ],
   "source": [
    "new_biz_taxpayer.shape,new_biz_taxpayer.columns"
   ]
  },
  {
   "cell_type": "code",
   "execution_count": 363,
   "metadata": {},
   "outputs": [
    {
     "data": {
      "text/plain": [
       "((24630, 7),\n",
       " Index(['Time', 'zip_code', 'outlet_count', 'outlet_taxpayer_non_tx',\n",
       "        'outlet_org_type_cl', 'outlet_org_type_is', 'outlet_org_type_foreign'],\n",
       "       dtype='object'))"
      ]
     },
     "execution_count": 363,
     "metadata": {},
     "output_type": "execute_result"
    }
   ],
   "source": [
    "new_biz_out.shape,new_biz_out.columns"
   ]
  },
  {
   "cell_type": "code",
   "execution_count": 364,
   "metadata": {},
   "outputs": [
    {
     "data": {
      "text/plain": [
       "((23579, 7),\n",
       " Index(['Time', 'zip_code', 'outlet_count', 'outlet_taxpayer_non_tx',\n",
       "        'outlet_org_type_cl', 'outlet_org_type_is', 'outlet_org_type_foreign'],\n",
       "       dtype='object'))"
      ]
     },
     "execution_count": 364,
     "metadata": {},
     "output_type": "execute_result"
    }
   ],
   "source": [
    "new_biz_out_in.shape,new_biz_out_in.columns"
   ]
  },
  {
   "cell_type": "code",
   "execution_count": 365,
   "metadata": {},
   "outputs": [
    {
     "data": {
      "text/plain": [
       "((4085, 5),\n",
       " Index(['Time', 'county', 'fatalities', 'caseCount', 'zip_code'], dtype='object'))"
      ]
     },
     "execution_count": 365,
     "metadata": {},
     "output_type": "execute_result"
    }
   ],
   "source": [
    "covid.shape,covid.columns"
   ]
  },
  {
   "cell_type": "code",
   "execution_count": 366,
   "metadata": {},
   "outputs": [
    {
     "data": {
      "text/plain": [
       "((24940, 3),\n",
       " Index(['Time', 'zip_code', 'env_violation_count'], dtype='object'))"
      ]
     },
     "execution_count": 366,
     "metadata": {},
     "output_type": "execute_result"
    }
   ],
   "source": [
    "env_vio.shape,env_vio.columns"
   ]
  },
  {
   "cell_type": "code",
   "execution_count": 367,
   "metadata": {},
   "outputs": [
    {
     "data": {
      "text/plain": [
       "((24940, 3),\n",
       " Index(['Time', 'zip_code', 'liquor_permit_start'], dtype='object'))"
      ]
     },
     "execution_count": 367,
     "metadata": {},
     "output_type": "execute_result"
    }
   ],
   "source": [
    "liq_perm.shape,liq_perm.columns"
   ]
  },
  {
   "cell_type": "code",
   "execution_count": 368,
   "metadata": {},
   "outputs": [
    {
     "data": {
      "text/plain": [
       "((7310, 11),\n",
       " Index(['Time', 'tx_is_a_lot_better', 'tx_is_a_little_better', 'tx_is_abt_same',\n",
       "        'tx_is_a_little_worse', 'tx_is_a_lot_worse', 'tx_is_dont_know',\n",
       "        'tx_is_better', 'tx_is_worse', 'state', 'zip_code'],\n",
       "       dtype='object'))"
      ]
     },
     "execution_count": 368,
     "metadata": {},
     "output_type": "execute_result"
    }
   ],
   "source": [
    "poll.shape,poll.columns"
   ]
  },
  {
   "cell_type": "code",
   "execution_count": 369,
   "metadata": {},
   "outputs": [
    {
     "data": {
      "text/plain": [
       "((25585, 30), Index(['Time', 'Consumer Confidence Index TX',\n",
       "        'Consumer Confidence West South Central',\n",
       "        'Consumer Confidence Index US', 'Consumer Price Index TX',\n",
       "        'Consumer Price Index U.S.', 'Nonfarm Employment TX',\n",
       "        'Nonfarm Employment U.S.', 'Unemployment TX', 'Unemployment U.S.',\n",
       "        'Single Family Building Permits TX', 'Multi Family Building Permits TX',\n",
       "        'Existing Single Family Home Sales TX',\n",
       "        'Existing Single Family Home Price TX',\n",
       "        'Non Residential Building Construction',\n",
       "        'Total Sales Tax Collections Retail TX',\n",
       "        'Total Sales Tax Collections TX', 'Retail Gasoline Price TX',\n",
       "        'Retail Diesel Price TX', 'Nonfarm Employment Illinois',\n",
       "        'Nonfarm Employment Florida', 'Nonfarm Employment New York',\n",
       "        'Nonfarm Employment Texas', 'Nonfarm Employment California',\n",
       "        'Gross Value Crude Oil Production',\n",
       "        'Gross Value Natural Gas Production', 'Motor Fuel Taxed Gasoline',\n",
       "        'Motor Fuel Taxed Diesel', 'State', 'zip_code'],\n",
       "       dtype='object'))"
      ]
     },
     "execution_count": 369,
     "metadata": {},
     "output_type": "execute_result"
    }
   ],
   "source": [
    "key_econ.shape,key_econ.columns"
   ]
  },
  {
   "cell_type": "code",
   "execution_count": 370,
   "metadata": {},
   "outputs": [
    {
     "data": {
      "text/plain": [
       "((24940, 5),\n",
       " Index(['Time', 'zip_code', 'mintempC', 'maxtempC', 'precipMM'], dtype='object'))"
      ]
     },
     "execution_count": 370,
     "metadata": {},
     "output_type": "execute_result"
    }
   ],
   "source": [
    "weather.shape,weather.columns"
   ]
  },
  {
   "cell_type": "code",
   "execution_count": 371,
   "metadata": {},
   "outputs": [
    {
     "data": {
      "text/plain": [
       "((26015, 5),\n",
       " Index(['Time', 'ur', 'metro', 'delta_ur', 'zip_code'], dtype='object'))"
      ]
     },
     "execution_count": 371,
     "metadata": {},
     "output_type": "execute_result"
    }
   ],
   "source": [
    "unemployment_rates.shape,unemployment_rates.columns"
   ]
  },
  {
   "cell_type": "code",
   "execution_count": 372,
   "metadata": {},
   "outputs": [
    {
     "data": {
      "text/plain": [
       "((19565, 3), Index(['Time', 'zip_code', 'delta_zori_ssa'], dtype='object'))"
      ]
     },
     "execution_count": 372,
     "metadata": {},
     "output_type": "execute_result"
    }
   ],
   "source": [
    "zori_diff.shape,zori_diff.columns"
   ]
  },
  {
   "cell_type": "code",
   "execution_count": 373,
   "metadata": {},
   "outputs": [
    {
     "data": {
      "text/plain": [
       "((19565, 3), Index(['Time', 'zip_code', 'zori_ssa'], dtype='object'))"
      ]
     },
     "execution_count": 373,
     "metadata": {},
     "output_type": "execute_result"
    }
   ],
   "source": [
    "zori.shape,zori.columns"
   ]
  },
  {
   "cell_type": "code",
   "execution_count": 374,
   "metadata": {},
   "outputs": [
    {
     "data": {
      "text/plain": [
       "((26015, 6),\n",
       " Index(['metro', 'zip_code', 'State', 'Time', 'sap_case_shiller_index',\n",
       "        'delta_sap_case_shiller_index'],\n",
       "       dtype='object'))"
      ]
     },
     "execution_count": 374,
     "metadata": {},
     "output_type": "execute_result"
    }
   ],
   "source": [
    "sap_case.shape,sap_case.columns"
   ]
  },
  {
   "cell_type": "code",
   "execution_count": 375,
   "metadata": {},
   "outputs": [
    {
     "data": {
      "text/plain": [
       "((30100, 6),\n",
       " Index(['metro', 'zip_code', 'State', 'Time', 'TNX', 'delta_TNX'], dtype='object'))"
      ]
     },
     "execution_count": 375,
     "metadata": {},
     "output_type": "execute_result"
    }
   ],
   "source": [
    "tnx.shape,tnx.columns"
   ]
  },
  {
   "cell_type": "code",
   "execution_count": 376,
   "metadata": {},
   "outputs": [
    {
     "data": {
      "text/plain": [
       "((54825, 6),\n",
       " Index(['Time', 'monthly_avg_gas_price', 'delta_monthly_avg_gas_price', 'State',\n",
       "        'metro', 'zip_code'],\n",
       "       dtype='object'))"
      ]
     },
     "execution_count": 376,
     "metadata": {},
     "output_type": "execute_result"
    }
   ],
   "source": [
    "monthly_gas.shape,monthly_gas.columns"
   ]
  },
  {
   "cell_type": "markdown",
   "metadata": {},
   "source": [
    "# merging all feature df's"
   ]
  },
  {
   "cell_type": "code",
   "execution_count": 377,
   "metadata": {},
   "outputs": [],
   "source": [
    "def left_merger(bigger_df,smaller_df):\n",
    "    \n",
    "    \"\"\"\n",
    "    left merges two dataframes on their shared columns\n",
    "    \"\"\"\n",
    "    \n",
    "    a = list(bigger_df.columns)\n",
    "    b = list(smaller_df.columns)\n",
    "    shared_columns = list(set(a).intersection(b))\n",
    "    \n",
    "    merged = pd.merge(bigger_df,smaller_df,how = 'left', on = shared_columns)\n",
    "    \n",
    "    return merged"
   ]
  },
  {
   "cell_type": "code",
   "execution_count": 378,
   "metadata": {},
   "outputs": [],
   "source": [
    "def shared_columns(df_1,df_2):\n",
    "    \n",
    "    return list(set(list(df_1.columns)).intersection(list(df_2.columns)))"
   ]
  },
  {
   "cell_type": "code",
   "execution_count": 379,
   "metadata": {
    "scrolled": true
   },
   "outputs": [
    {
     "name": "stdout",
     "output_type": "stream",
     "text": [
      "['State', 'Time', 'metro', 'zip_code']\n",
      "['metro', 'zip_code', 'Time']\n",
      "['State', 'Time', 'metro', 'zip_code']\n",
      "['State', 'zip_code', 'Time']\n",
      "['zip_code', 'Time']\n",
      "['zip_code', 'Time']\n",
      "['zip_code', 'Time']\n",
      "['zip_code', 'Time']\n",
      "['zip_code', 'Time']\n",
      "['zip_code', 'Time']\n",
      "['zip_code', 'Time']\n"
     ]
    }
   ],
   "source": [
    "print(shared_columns(dfs[merge_index_order[0]],dfs[merge_index_order[1]]))\n",
    "merged = left_merger(dfs[merge_index_order[0]],dfs[merge_index_order[1]])\n",
    "\n",
    "for i in range(2,len(merge_index_order)):\n",
    "    \n",
    "    print(shared_columns(merged,dfs[merge_index_order[i]]))\n",
    "    \n",
    "    merged = left_merger(merged,dfs[merge_index_order[i]])"
   ]
  },
  {
   "cell_type": "code",
   "execution_count": 380,
   "metadata": {},
   "outputs": [
    {
     "data": {
      "text/plain": [
       "Index(['Time', 'monthly_avg_gas_price', 'delta_monthly_avg_gas_price', 'State',\n",
       "       'metro', 'zip_code', 'TNX', 'delta_TNX', 'ur', 'delta_ur',\n",
       "       'sap_case_shiller_index', 'delta_sap_case_shiller_index',\n",
       "       'Consumer Confidence Index TX',\n",
       "       'Consumer Confidence West South Central',\n",
       "       'Consumer Confidence Index US', 'Consumer Price Index TX',\n",
       "       'Consumer Price Index U.S.', 'Nonfarm Employment TX',\n",
       "       'Nonfarm Employment U.S.', 'Unemployment TX', 'Unemployment U.S.',\n",
       "       'Single Family Building Permits TX', 'Multi Family Building Permits TX',\n",
       "       'Existing Single Family Home Sales TX',\n",
       "       'Existing Single Family Home Price TX',\n",
       "       'Non Residential Building Construction',\n",
       "       'Total Sales Tax Collections Retail TX',\n",
       "       'Total Sales Tax Collections TX', 'Retail Gasoline Price TX',\n",
       "       'Retail Diesel Price TX', 'Nonfarm Employment Illinois',\n",
       "       'Nonfarm Employment Florida', 'Nonfarm Employment New York',\n",
       "       'Nonfarm Employment Texas', 'Nonfarm Employment California',\n",
       "       'Gross Value Crude Oil Production',\n",
       "       'Gross Value Natural Gas Production', 'Motor Fuel Taxed Gasoline',\n",
       "       'Motor Fuel Taxed Diesel', 'mintempC', 'maxtempC', 'precipMM',\n",
       "       'env_violation_count', 'liquor_permit_start', 'taxpayer_count',\n",
       "       'taxpayer_org_type_cl', 'taxpayer_org_type_is',\n",
       "       'taxpayer_org_type_foreign', 'payer_outlet_same_zipcode',\n",
       "       'sales_tax_rate', 'total_sales_tax', 'total_sales_tax_last_year',\n",
       "       'per_diff_total_sales_tax', 'city', 'delta_zori_ssa', 'county',\n",
       "       'fatalities', 'caseCount'],\n",
       "      dtype='object')"
      ]
     },
     "execution_count": 380,
     "metadata": {},
     "output_type": "execute_result"
    }
   ],
   "source": [
    "merged.columns"
   ]
  },
  {
   "cell_type": "code",
   "execution_count": 388,
   "metadata": {},
   "outputs": [
    {
     "data": {
      "application/vnd.plotly.v1+json": {
       "config": {
        "plotlyServerURL": "https://plot.ly"
       },
       "data": [
        {
         "coloraxis": "coloraxis",
         "hovertemplate": "x: %{x}<br>y: %{y}<br>color: %{z}<extra></extra>",
         "name": "0",
         "type": "heatmap",
         "x": [
          "delta_zori_ssa"
         ],
         "xaxis": "x",
         "y": [
          "delta_zori_ssa",
          "delta_sap_case_shiller_index",
          "Single Family Building Permits TX",
          "Total Sales Tax Collections Retail TX",
          "Existing Single Family Home Price TX",
          "Gross Value Natural Gas Production",
          "sap_case_shiller_index",
          "Consumer Price Index U.S.",
          "Consumer Price Index TX",
          "caseCount",
          "Total Sales Tax Collections TX",
          "Unemployment TX",
          "taxpayer_org_type_is",
          "payer_outlet_same_zipcode",
          "Existing Single Family Home Sales TX",
          "fatalities",
          "per_diff_total_sales_tax",
          "Gross Value Crude Oil Production",
          "Multi Family Building Permits TX",
          "Motor Fuel Taxed Diesel",
          "taxpayer_count",
          "delta_monthly_avg_gas_price",
          "Unemployment U.S.",
          "ur",
          "sales_tax_rate",
          "Retail Gasoline Price TX",
          "monthly_avg_gas_price",
          "Retail Diesel Price TX",
          "taxpayer_org_type_cl",
          "taxpayer_org_type_foreign",
          "delta_TNX",
          "Nonfarm Employment TX",
          "Nonfarm Employment Texas",
          "env_violation_count",
          "Non Residential Building Construction",
          "Nonfarm Employment Florida",
          "precipMM",
          "mintempC",
          "maxtempC",
          "liquor_permit_start",
          "delta_ur",
          "Motor Fuel Taxed Gasoline",
          "Consumer Confidence Index US",
          "Nonfarm Employment U.S.",
          "Consumer Confidence West South Central",
          "Consumer Confidence Index TX",
          "Nonfarm Employment California",
          "TNX",
          "total_sales_tax",
          "total_sales_tax_last_year",
          "Nonfarm Employment New York",
          "Nonfarm Employment Illinois"
         ],
         "yaxis": "y",
         "z": [
          [
           1
          ],
          [
           0.4665189921179469
          ],
          [
           0.35735949561922425
          ],
          [
           0.31560221530946725
          ],
          [
           0.29067032959774813
          ],
          [
           0.2802218953217202
          ],
          [
           0.27628053778324363
          ],
          [
           0.2675053264203245
          ],
          [
           0.2506403769874412
          ],
          [
           0.2254128993791447
          ],
          [
           0.21832267448515738
          ],
          [
           0.19135372991063818
          ],
          [
           0.18956883519145076
          ],
          [
           0.18274486923142938
          ],
          [
           0.17353610800161787
          ],
          [
           0.17122742485841444
          ],
          [
           0.16609606838187294
          ],
          [
           0.15094695229568256
          ],
          [
           0.13940607291296755
          ],
          [
           0.1349269294858259
          ],
          [
           0.12525225408210583
          ],
          [
           0.11428852632327331
          ],
          [
           0.10506045634486608
          ],
          [
           0.10413194311891465
          ],
          [
           0.10236252031274277
          ],
          [
           0.1008545541815943
          ],
          [
           0.10084763396323415
          ],
          [
           0.08647655545772735
          ],
          [
           0.08507676523382471
          ],
          [
           0.063136022210458
          ],
          [
           0.06307277498266836
          ],
          [
           0.0332630876822117
          ],
          [
           0.03323234582474628
          ],
          [
           -0.004867970706314735
          ],
          [
           -0.02919959741867199
          ],
          [
           -0.04496810157529675
          ],
          [
           -0.04725262398630856
          ],
          [
           -0.050450460868596794
          ],
          [
           -0.0640710230955553
          ],
          [
           -0.07203057687322668
          ],
          [
           -0.0728548317823717
          ],
          [
           -0.08608557385815362
          ],
          [
           -0.09266472806653213
          ],
          [
           -0.10331851559971038
          ],
          [
           -0.13169419319285045
          ],
          [
           -0.14577575058756842
          ],
          [
           -0.1515021669893557
          ],
          [
           -0.15708205945754294
          ],
          [
           -0.1704945680215455
          ],
          [
           -0.18418782604713613
          ],
          [
           -0.26299259114497425
          ],
          [
           -0.2787234341927206
          ]
         ]
        }
       ],
       "layout": {
        "coloraxis": {
         "colorscale": [
          [
           0,
           "rgb(0,0,255)"
          ],
          [
           1,
           "rgb(255,0,0)"
          ]
         ]
        },
        "height": 1000,
        "template": {
         "data": {
          "bar": [
           {
            "error_x": {
             "color": "#2a3f5f"
            },
            "error_y": {
             "color": "#2a3f5f"
            },
            "marker": {
             "line": {
              "color": "#E5ECF6",
              "width": 0.5
             }
            },
            "type": "bar"
           }
          ],
          "barpolar": [
           {
            "marker": {
             "line": {
              "color": "#E5ECF6",
              "width": 0.5
             }
            },
            "type": "barpolar"
           }
          ],
          "carpet": [
           {
            "aaxis": {
             "endlinecolor": "#2a3f5f",
             "gridcolor": "white",
             "linecolor": "white",
             "minorgridcolor": "white",
             "startlinecolor": "#2a3f5f"
            },
            "baxis": {
             "endlinecolor": "#2a3f5f",
             "gridcolor": "white",
             "linecolor": "white",
             "minorgridcolor": "white",
             "startlinecolor": "#2a3f5f"
            },
            "type": "carpet"
           }
          ],
          "choropleth": [
           {
            "colorbar": {
             "outlinewidth": 0,
             "ticks": ""
            },
            "type": "choropleth"
           }
          ],
          "contour": [
           {
            "colorbar": {
             "outlinewidth": 0,
             "ticks": ""
            },
            "colorscale": [
             [
              0,
              "#0d0887"
             ],
             [
              0.1111111111111111,
              "#46039f"
             ],
             [
              0.2222222222222222,
              "#7201a8"
             ],
             [
              0.3333333333333333,
              "#9c179e"
             ],
             [
              0.4444444444444444,
              "#bd3786"
             ],
             [
              0.5555555555555556,
              "#d8576b"
             ],
             [
              0.6666666666666666,
              "#ed7953"
             ],
             [
              0.7777777777777778,
              "#fb9f3a"
             ],
             [
              0.8888888888888888,
              "#fdca26"
             ],
             [
              1,
              "#f0f921"
             ]
            ],
            "type": "contour"
           }
          ],
          "contourcarpet": [
           {
            "colorbar": {
             "outlinewidth": 0,
             "ticks": ""
            },
            "type": "contourcarpet"
           }
          ],
          "heatmap": [
           {
            "colorbar": {
             "outlinewidth": 0,
             "ticks": ""
            },
            "colorscale": [
             [
              0,
              "#0d0887"
             ],
             [
              0.1111111111111111,
              "#46039f"
             ],
             [
              0.2222222222222222,
              "#7201a8"
             ],
             [
              0.3333333333333333,
              "#9c179e"
             ],
             [
              0.4444444444444444,
              "#bd3786"
             ],
             [
              0.5555555555555556,
              "#d8576b"
             ],
             [
              0.6666666666666666,
              "#ed7953"
             ],
             [
              0.7777777777777778,
              "#fb9f3a"
             ],
             [
              0.8888888888888888,
              "#fdca26"
             ],
             [
              1,
              "#f0f921"
             ]
            ],
            "type": "heatmap"
           }
          ],
          "heatmapgl": [
           {
            "colorbar": {
             "outlinewidth": 0,
             "ticks": ""
            },
            "colorscale": [
             [
              0,
              "#0d0887"
             ],
             [
              0.1111111111111111,
              "#46039f"
             ],
             [
              0.2222222222222222,
              "#7201a8"
             ],
             [
              0.3333333333333333,
              "#9c179e"
             ],
             [
              0.4444444444444444,
              "#bd3786"
             ],
             [
              0.5555555555555556,
              "#d8576b"
             ],
             [
              0.6666666666666666,
              "#ed7953"
             ],
             [
              0.7777777777777778,
              "#fb9f3a"
             ],
             [
              0.8888888888888888,
              "#fdca26"
             ],
             [
              1,
              "#f0f921"
             ]
            ],
            "type": "heatmapgl"
           }
          ],
          "histogram": [
           {
            "marker": {
             "colorbar": {
              "outlinewidth": 0,
              "ticks": ""
             }
            },
            "type": "histogram"
           }
          ],
          "histogram2d": [
           {
            "colorbar": {
             "outlinewidth": 0,
             "ticks": ""
            },
            "colorscale": [
             [
              0,
              "#0d0887"
             ],
             [
              0.1111111111111111,
              "#46039f"
             ],
             [
              0.2222222222222222,
              "#7201a8"
             ],
             [
              0.3333333333333333,
              "#9c179e"
             ],
             [
              0.4444444444444444,
              "#bd3786"
             ],
             [
              0.5555555555555556,
              "#d8576b"
             ],
             [
              0.6666666666666666,
              "#ed7953"
             ],
             [
              0.7777777777777778,
              "#fb9f3a"
             ],
             [
              0.8888888888888888,
              "#fdca26"
             ],
             [
              1,
              "#f0f921"
             ]
            ],
            "type": "histogram2d"
           }
          ],
          "histogram2dcontour": [
           {
            "colorbar": {
             "outlinewidth": 0,
             "ticks": ""
            },
            "colorscale": [
             [
              0,
              "#0d0887"
             ],
             [
              0.1111111111111111,
              "#46039f"
             ],
             [
              0.2222222222222222,
              "#7201a8"
             ],
             [
              0.3333333333333333,
              "#9c179e"
             ],
             [
              0.4444444444444444,
              "#bd3786"
             ],
             [
              0.5555555555555556,
              "#d8576b"
             ],
             [
              0.6666666666666666,
              "#ed7953"
             ],
             [
              0.7777777777777778,
              "#fb9f3a"
             ],
             [
              0.8888888888888888,
              "#fdca26"
             ],
             [
              1,
              "#f0f921"
             ]
            ],
            "type": "histogram2dcontour"
           }
          ],
          "mesh3d": [
           {
            "colorbar": {
             "outlinewidth": 0,
             "ticks": ""
            },
            "type": "mesh3d"
           }
          ],
          "parcoords": [
           {
            "line": {
             "colorbar": {
              "outlinewidth": 0,
              "ticks": ""
             }
            },
            "type": "parcoords"
           }
          ],
          "pie": [
           {
            "automargin": true,
            "type": "pie"
           }
          ],
          "scatter": [
           {
            "marker": {
             "colorbar": {
              "outlinewidth": 0,
              "ticks": ""
             }
            },
            "type": "scatter"
           }
          ],
          "scatter3d": [
           {
            "line": {
             "colorbar": {
              "outlinewidth": 0,
              "ticks": ""
             }
            },
            "marker": {
             "colorbar": {
              "outlinewidth": 0,
              "ticks": ""
             }
            },
            "type": "scatter3d"
           }
          ],
          "scattercarpet": [
           {
            "marker": {
             "colorbar": {
              "outlinewidth": 0,
              "ticks": ""
             }
            },
            "type": "scattercarpet"
           }
          ],
          "scattergeo": [
           {
            "marker": {
             "colorbar": {
              "outlinewidth": 0,
              "ticks": ""
             }
            },
            "type": "scattergeo"
           }
          ],
          "scattergl": [
           {
            "marker": {
             "colorbar": {
              "outlinewidth": 0,
              "ticks": ""
             }
            },
            "type": "scattergl"
           }
          ],
          "scattermapbox": [
           {
            "marker": {
             "colorbar": {
              "outlinewidth": 0,
              "ticks": ""
             }
            },
            "type": "scattermapbox"
           }
          ],
          "scatterpolar": [
           {
            "marker": {
             "colorbar": {
              "outlinewidth": 0,
              "ticks": ""
             }
            },
            "type": "scatterpolar"
           }
          ],
          "scatterpolargl": [
           {
            "marker": {
             "colorbar": {
              "outlinewidth": 0,
              "ticks": ""
             }
            },
            "type": "scatterpolargl"
           }
          ],
          "scatterternary": [
           {
            "marker": {
             "colorbar": {
              "outlinewidth": 0,
              "ticks": ""
             }
            },
            "type": "scatterternary"
           }
          ],
          "surface": [
           {
            "colorbar": {
             "outlinewidth": 0,
             "ticks": ""
            },
            "colorscale": [
             [
              0,
              "#0d0887"
             ],
             [
              0.1111111111111111,
              "#46039f"
             ],
             [
              0.2222222222222222,
              "#7201a8"
             ],
             [
              0.3333333333333333,
              "#9c179e"
             ],
             [
              0.4444444444444444,
              "#bd3786"
             ],
             [
              0.5555555555555556,
              "#d8576b"
             ],
             [
              0.6666666666666666,
              "#ed7953"
             ],
             [
              0.7777777777777778,
              "#fb9f3a"
             ],
             [
              0.8888888888888888,
              "#fdca26"
             ],
             [
              1,
              "#f0f921"
             ]
            ],
            "type": "surface"
           }
          ],
          "table": [
           {
            "cells": {
             "fill": {
              "color": "#EBF0F8"
             },
             "line": {
              "color": "white"
             }
            },
            "header": {
             "fill": {
              "color": "#C8D4E3"
             },
             "line": {
              "color": "white"
             }
            },
            "type": "table"
           }
          ]
         },
         "layout": {
          "annotationdefaults": {
           "arrowcolor": "#2a3f5f",
           "arrowhead": 0,
           "arrowwidth": 1
          },
          "autotypenumbers": "strict",
          "coloraxis": {
           "colorbar": {
            "outlinewidth": 0,
            "ticks": ""
           }
          },
          "colorscale": {
           "diverging": [
            [
             0,
             "#8e0152"
            ],
            [
             0.1,
             "#c51b7d"
            ],
            [
             0.2,
             "#de77ae"
            ],
            [
             0.3,
             "#f1b6da"
            ],
            [
             0.4,
             "#fde0ef"
            ],
            [
             0.5,
             "#f7f7f7"
            ],
            [
             0.6,
             "#e6f5d0"
            ],
            [
             0.7,
             "#b8e186"
            ],
            [
             0.8,
             "#7fbc41"
            ],
            [
             0.9,
             "#4d9221"
            ],
            [
             1,
             "#276419"
            ]
           ],
           "sequential": [
            [
             0,
             "#0d0887"
            ],
            [
             0.1111111111111111,
             "#46039f"
            ],
            [
             0.2222222222222222,
             "#7201a8"
            ],
            [
             0.3333333333333333,
             "#9c179e"
            ],
            [
             0.4444444444444444,
             "#bd3786"
            ],
            [
             0.5555555555555556,
             "#d8576b"
            ],
            [
             0.6666666666666666,
             "#ed7953"
            ],
            [
             0.7777777777777778,
             "#fb9f3a"
            ],
            [
             0.8888888888888888,
             "#fdca26"
            ],
            [
             1,
             "#f0f921"
            ]
           ],
           "sequentialminus": [
            [
             0,
             "#0d0887"
            ],
            [
             0.1111111111111111,
             "#46039f"
            ],
            [
             0.2222222222222222,
             "#7201a8"
            ],
            [
             0.3333333333333333,
             "#9c179e"
            ],
            [
             0.4444444444444444,
             "#bd3786"
            ],
            [
             0.5555555555555556,
             "#d8576b"
            ],
            [
             0.6666666666666666,
             "#ed7953"
            ],
            [
             0.7777777777777778,
             "#fb9f3a"
            ],
            [
             0.8888888888888888,
             "#fdca26"
            ],
            [
             1,
             "#f0f921"
            ]
           ]
          },
          "colorway": [
           "#636efa",
           "#EF553B",
           "#00cc96",
           "#ab63fa",
           "#FFA15A",
           "#19d3f3",
           "#FF6692",
           "#B6E880",
           "#FF97FF",
           "#FECB52"
          ],
          "font": {
           "color": "#2a3f5f"
          },
          "geo": {
           "bgcolor": "white",
           "lakecolor": "white",
           "landcolor": "#E5ECF6",
           "showlakes": true,
           "showland": true,
           "subunitcolor": "white"
          },
          "hoverlabel": {
           "align": "left"
          },
          "hovermode": "closest",
          "mapbox": {
           "style": "light"
          },
          "paper_bgcolor": "white",
          "plot_bgcolor": "#E5ECF6",
          "polar": {
           "angularaxis": {
            "gridcolor": "white",
            "linecolor": "white",
            "ticks": ""
           },
           "bgcolor": "#E5ECF6",
           "radialaxis": {
            "gridcolor": "white",
            "linecolor": "white",
            "ticks": ""
           }
          },
          "scene": {
           "xaxis": {
            "backgroundcolor": "#E5ECF6",
            "gridcolor": "white",
            "gridwidth": 2,
            "linecolor": "white",
            "showbackground": true,
            "ticks": "",
            "zerolinecolor": "white"
           },
           "yaxis": {
            "backgroundcolor": "#E5ECF6",
            "gridcolor": "white",
            "gridwidth": 2,
            "linecolor": "white",
            "showbackground": true,
            "ticks": "",
            "zerolinecolor": "white"
           },
           "zaxis": {
            "backgroundcolor": "#E5ECF6",
            "gridcolor": "white",
            "gridwidth": 2,
            "linecolor": "white",
            "showbackground": true,
            "ticks": "",
            "zerolinecolor": "white"
           }
          },
          "shapedefaults": {
           "line": {
            "color": "#2a3f5f"
           }
          },
          "ternary": {
           "aaxis": {
            "gridcolor": "white",
            "linecolor": "white",
            "ticks": ""
           },
           "baxis": {
            "gridcolor": "white",
            "linecolor": "white",
            "ticks": ""
           },
           "bgcolor": "#E5ECF6",
           "caxis": {
            "gridcolor": "white",
            "linecolor": "white",
            "ticks": ""
           }
          },
          "title": {
           "x": 0.05
          },
          "xaxis": {
           "automargin": true,
           "gridcolor": "white",
           "linecolor": "white",
           "ticks": "",
           "title": {
            "standoff": 15
           },
           "zerolinecolor": "white",
           "zerolinewidth": 2
          },
          "yaxis": {
           "automargin": true,
           "gridcolor": "white",
           "linecolor": "white",
           "ticks": "",
           "title": {
            "standoff": 15
           },
           "zerolinecolor": "white",
           "zerolinewidth": 2
          }
         }
        },
        "title": {
         "text": "Correlation Heat Map"
        },
        "width": 600,
        "xaxis": {
         "anchor": "y",
         "domain": [
          0,
          1
         ]
        },
        "yaxis": {
         "anchor": "x",
         "autorange": "reversed",
         "domain": [
          0,
          1
         ]
        }
       }
      },
      "text/html": [
       "<div>                            <div id=\"12e77049-4a4f-4dd1-b9c4-5a7b3c962c21\" class=\"plotly-graph-div\" style=\"height:1000px; width:600px;\"></div>            <script type=\"text/javascript\">                require([\"plotly\"], function(Plotly) {                    window.PLOTLYENV=window.PLOTLYENV || {};                                    if (document.getElementById(\"12e77049-4a4f-4dd1-b9c4-5a7b3c962c21\")) {                    Plotly.newPlot(                        \"12e77049-4a4f-4dd1-b9c4-5a7b3c962c21\",                        [{\"coloraxis\": \"coloraxis\", \"hovertemplate\": \"x: %{x}<br>y: %{y}<br>color: %{z}<extra></extra>\", \"name\": \"0\", \"type\": \"heatmap\", \"x\": [\"delta_zori_ssa\"], \"xaxis\": \"x\", \"y\": [\"delta_zori_ssa\", \"delta_sap_case_shiller_index\", \"Single Family Building Permits TX\", \"Total Sales Tax Collections Retail TX\", \"Existing Single Family Home Price TX\", \"Gross Value Natural Gas Production\", \"sap_case_shiller_index\", \"Consumer Price Index U.S.\", \"Consumer Price Index TX\", \"caseCount\", \"Total Sales Tax Collections TX\", \"Unemployment TX\", \"taxpayer_org_type_is\", \"payer_outlet_same_zipcode\", \"Existing Single Family Home Sales TX\", \"fatalities\", \"per_diff_total_sales_tax\", \"Gross Value Crude Oil Production\", \"Multi Family Building Permits TX\", \"Motor Fuel Taxed Diesel\", \"taxpayer_count\", \"delta_monthly_avg_gas_price\", \"Unemployment U.S.\", \"ur\", \"sales_tax_rate\", \"Retail Gasoline Price TX\", \"monthly_avg_gas_price\", \"Retail Diesel Price TX\", \"taxpayer_org_type_cl\", \"taxpayer_org_type_foreign\", \"delta_TNX\", \"Nonfarm Employment TX\", \"Nonfarm Employment Texas\", \"env_violation_count\", \"Non Residential Building Construction\", \"Nonfarm Employment Florida\", \"precipMM\", \"mintempC\", \"maxtempC\", \"liquor_permit_start\", \"delta_ur\", \"Motor Fuel Taxed Gasoline\", \"Consumer Confidence Index US\", \"Nonfarm Employment U.S.\", \"Consumer Confidence West South Central\", \"Consumer Confidence Index TX\", \"Nonfarm Employment California\", \"TNX\", \"total_sales_tax\", \"total_sales_tax_last_year\", \"Nonfarm Employment New York\", \"Nonfarm Employment Illinois\"], \"yaxis\": \"y\", \"z\": [[1.0], [0.4665189921179469], [0.35735949561922425], [0.31560221530946725], [0.29067032959774813], [0.2802218953217202], [0.27628053778324363], [0.2675053264203245], [0.2506403769874412], [0.2254128993791447], [0.21832267448515738], [0.19135372991063818], [0.18956883519145076], [0.18274486923142938], [0.17353610800161787], [0.17122742485841444], [0.16609606838187294], [0.15094695229568256], [0.13940607291296755], [0.1349269294858259], [0.12525225408210583], [0.11428852632327331], [0.10506045634486608], [0.10413194311891465], [0.10236252031274277], [0.1008545541815943], [0.10084763396323415], [0.08647655545772735], [0.08507676523382471], [0.063136022210458], [0.06307277498266836], [0.0332630876822117], [0.03323234582474628], [-0.004867970706314735], [-0.02919959741867199], [-0.04496810157529675], [-0.04725262398630856], [-0.050450460868596794], [-0.0640710230955553], [-0.07203057687322668], [-0.0728548317823717], [-0.08608557385815362], [-0.09266472806653213], [-0.10331851559971038], [-0.13169419319285045], [-0.14577575058756842], [-0.1515021669893557], [-0.15708205945754294], [-0.1704945680215455], [-0.18418782604713613], [-0.26299259114497425], [-0.2787234341927206]]}],                        {\"coloraxis\": {\"colorscale\": [[0.0, \"rgb(0,0,255)\"], [1.0, \"rgb(255,0,0)\"]]}, \"height\": 1000, \"template\": {\"data\": {\"bar\": [{\"error_x\": {\"color\": \"#2a3f5f\"}, \"error_y\": {\"color\": \"#2a3f5f\"}, \"marker\": {\"line\": {\"color\": \"#E5ECF6\", \"width\": 0.5}}, \"type\": \"bar\"}], \"barpolar\": [{\"marker\": {\"line\": {\"color\": \"#E5ECF6\", \"width\": 0.5}}, \"type\": \"barpolar\"}], \"carpet\": [{\"aaxis\": {\"endlinecolor\": \"#2a3f5f\", \"gridcolor\": \"white\", \"linecolor\": \"white\", \"minorgridcolor\": \"white\", \"startlinecolor\": \"#2a3f5f\"}, \"baxis\": {\"endlinecolor\": \"#2a3f5f\", \"gridcolor\": \"white\", \"linecolor\": \"white\", \"minorgridcolor\": \"white\", \"startlinecolor\": \"#2a3f5f\"}, \"type\": \"carpet\"}], \"choropleth\": [{\"colorbar\": {\"outlinewidth\": 0, \"ticks\": \"\"}, \"type\": \"choropleth\"}], \"contour\": [{\"colorbar\": {\"outlinewidth\": 0, \"ticks\": \"\"}, \"colorscale\": [[0.0, \"#0d0887\"], [0.1111111111111111, \"#46039f\"], [0.2222222222222222, \"#7201a8\"], [0.3333333333333333, \"#9c179e\"], [0.4444444444444444, \"#bd3786\"], [0.5555555555555556, \"#d8576b\"], [0.6666666666666666, \"#ed7953\"], [0.7777777777777778, \"#fb9f3a\"], [0.8888888888888888, \"#fdca26\"], [1.0, \"#f0f921\"]], \"type\": \"contour\"}], \"contourcarpet\": [{\"colorbar\": {\"outlinewidth\": 0, \"ticks\": \"\"}, \"type\": \"contourcarpet\"}], \"heatmap\": [{\"colorbar\": {\"outlinewidth\": 0, \"ticks\": \"\"}, \"colorscale\": [[0.0, \"#0d0887\"], [0.1111111111111111, \"#46039f\"], [0.2222222222222222, \"#7201a8\"], [0.3333333333333333, \"#9c179e\"], [0.4444444444444444, \"#bd3786\"], [0.5555555555555556, \"#d8576b\"], [0.6666666666666666, \"#ed7953\"], [0.7777777777777778, \"#fb9f3a\"], [0.8888888888888888, \"#fdca26\"], [1.0, \"#f0f921\"]], \"type\": \"heatmap\"}], \"heatmapgl\": [{\"colorbar\": {\"outlinewidth\": 0, \"ticks\": \"\"}, \"colorscale\": [[0.0, \"#0d0887\"], [0.1111111111111111, \"#46039f\"], [0.2222222222222222, \"#7201a8\"], [0.3333333333333333, \"#9c179e\"], [0.4444444444444444, \"#bd3786\"], [0.5555555555555556, \"#d8576b\"], [0.6666666666666666, \"#ed7953\"], [0.7777777777777778, \"#fb9f3a\"], [0.8888888888888888, \"#fdca26\"], [1.0, \"#f0f921\"]], \"type\": \"heatmapgl\"}], \"histogram\": [{\"marker\": {\"colorbar\": {\"outlinewidth\": 0, \"ticks\": \"\"}}, \"type\": \"histogram\"}], \"histogram2d\": [{\"colorbar\": {\"outlinewidth\": 0, \"ticks\": \"\"}, \"colorscale\": [[0.0, \"#0d0887\"], [0.1111111111111111, \"#46039f\"], [0.2222222222222222, \"#7201a8\"], [0.3333333333333333, \"#9c179e\"], [0.4444444444444444, \"#bd3786\"], [0.5555555555555556, \"#d8576b\"], [0.6666666666666666, \"#ed7953\"], [0.7777777777777778, \"#fb9f3a\"], [0.8888888888888888, \"#fdca26\"], [1.0, \"#f0f921\"]], \"type\": \"histogram2d\"}], \"histogram2dcontour\": [{\"colorbar\": {\"outlinewidth\": 0, \"ticks\": \"\"}, \"colorscale\": [[0.0, \"#0d0887\"], [0.1111111111111111, \"#46039f\"], [0.2222222222222222, \"#7201a8\"], [0.3333333333333333, \"#9c179e\"], [0.4444444444444444, \"#bd3786\"], [0.5555555555555556, \"#d8576b\"], [0.6666666666666666, \"#ed7953\"], [0.7777777777777778, \"#fb9f3a\"], [0.8888888888888888, \"#fdca26\"], [1.0, \"#f0f921\"]], \"type\": \"histogram2dcontour\"}], \"mesh3d\": [{\"colorbar\": {\"outlinewidth\": 0, \"ticks\": \"\"}, \"type\": \"mesh3d\"}], \"parcoords\": [{\"line\": {\"colorbar\": {\"outlinewidth\": 0, \"ticks\": \"\"}}, \"type\": \"parcoords\"}], \"pie\": [{\"automargin\": true, \"type\": \"pie\"}], \"scatter\": [{\"marker\": {\"colorbar\": {\"outlinewidth\": 0, \"ticks\": \"\"}}, \"type\": \"scatter\"}], \"scatter3d\": [{\"line\": {\"colorbar\": {\"outlinewidth\": 0, \"ticks\": \"\"}}, \"marker\": {\"colorbar\": {\"outlinewidth\": 0, \"ticks\": \"\"}}, \"type\": \"scatter3d\"}], \"scattercarpet\": [{\"marker\": {\"colorbar\": {\"outlinewidth\": 0, \"ticks\": \"\"}}, \"type\": \"scattercarpet\"}], \"scattergeo\": [{\"marker\": {\"colorbar\": {\"outlinewidth\": 0, \"ticks\": \"\"}}, \"type\": \"scattergeo\"}], \"scattergl\": [{\"marker\": {\"colorbar\": {\"outlinewidth\": 0, \"ticks\": \"\"}}, \"type\": \"scattergl\"}], \"scattermapbox\": [{\"marker\": {\"colorbar\": {\"outlinewidth\": 0, \"ticks\": \"\"}}, \"type\": \"scattermapbox\"}], \"scatterpolar\": [{\"marker\": {\"colorbar\": {\"outlinewidth\": 0, \"ticks\": \"\"}}, \"type\": \"scatterpolar\"}], \"scatterpolargl\": [{\"marker\": {\"colorbar\": {\"outlinewidth\": 0, \"ticks\": \"\"}}, \"type\": \"scatterpolargl\"}], \"scatterternary\": [{\"marker\": {\"colorbar\": {\"outlinewidth\": 0, \"ticks\": \"\"}}, \"type\": \"scatterternary\"}], \"surface\": [{\"colorbar\": {\"outlinewidth\": 0, \"ticks\": \"\"}, \"colorscale\": [[0.0, \"#0d0887\"], [0.1111111111111111, \"#46039f\"], [0.2222222222222222, \"#7201a8\"], [0.3333333333333333, \"#9c179e\"], [0.4444444444444444, \"#bd3786\"], [0.5555555555555556, \"#d8576b\"], [0.6666666666666666, \"#ed7953\"], [0.7777777777777778, \"#fb9f3a\"], [0.8888888888888888, \"#fdca26\"], [1.0, \"#f0f921\"]], \"type\": \"surface\"}], \"table\": [{\"cells\": {\"fill\": {\"color\": \"#EBF0F8\"}, \"line\": {\"color\": \"white\"}}, \"header\": {\"fill\": {\"color\": \"#C8D4E3\"}, \"line\": {\"color\": \"white\"}}, \"type\": \"table\"}]}, \"layout\": {\"annotationdefaults\": {\"arrowcolor\": \"#2a3f5f\", \"arrowhead\": 0, \"arrowwidth\": 1}, \"autotypenumbers\": \"strict\", \"coloraxis\": {\"colorbar\": {\"outlinewidth\": 0, \"ticks\": \"\"}}, \"colorscale\": {\"diverging\": [[0, \"#8e0152\"], [0.1, \"#c51b7d\"], [0.2, \"#de77ae\"], [0.3, \"#f1b6da\"], [0.4, \"#fde0ef\"], [0.5, \"#f7f7f7\"], [0.6, \"#e6f5d0\"], [0.7, \"#b8e186\"], [0.8, \"#7fbc41\"], [0.9, \"#4d9221\"], [1, \"#276419\"]], \"sequential\": [[0.0, \"#0d0887\"], [0.1111111111111111, \"#46039f\"], [0.2222222222222222, \"#7201a8\"], [0.3333333333333333, \"#9c179e\"], [0.4444444444444444, \"#bd3786\"], [0.5555555555555556, \"#d8576b\"], [0.6666666666666666, \"#ed7953\"], [0.7777777777777778, \"#fb9f3a\"], [0.8888888888888888, \"#fdca26\"], [1.0, \"#f0f921\"]], \"sequentialminus\": [[0.0, \"#0d0887\"], [0.1111111111111111, \"#46039f\"], [0.2222222222222222, \"#7201a8\"], [0.3333333333333333, \"#9c179e\"], [0.4444444444444444, \"#bd3786\"], [0.5555555555555556, \"#d8576b\"], [0.6666666666666666, \"#ed7953\"], [0.7777777777777778, \"#fb9f3a\"], [0.8888888888888888, \"#fdca26\"], [1.0, \"#f0f921\"]]}, \"colorway\": [\"#636efa\", \"#EF553B\", \"#00cc96\", \"#ab63fa\", \"#FFA15A\", \"#19d3f3\", \"#FF6692\", \"#B6E880\", \"#FF97FF\", \"#FECB52\"], \"font\": {\"color\": \"#2a3f5f\"}, \"geo\": {\"bgcolor\": \"white\", \"lakecolor\": \"white\", \"landcolor\": \"#E5ECF6\", \"showlakes\": true, \"showland\": true, \"subunitcolor\": \"white\"}, \"hoverlabel\": {\"align\": \"left\"}, \"hovermode\": \"closest\", \"mapbox\": {\"style\": \"light\"}, \"paper_bgcolor\": \"white\", \"plot_bgcolor\": \"#E5ECF6\", \"polar\": {\"angularaxis\": {\"gridcolor\": \"white\", \"linecolor\": \"white\", \"ticks\": \"\"}, \"bgcolor\": \"#E5ECF6\", \"radialaxis\": {\"gridcolor\": \"white\", \"linecolor\": \"white\", \"ticks\": \"\"}}, \"scene\": {\"xaxis\": {\"backgroundcolor\": \"#E5ECF6\", \"gridcolor\": \"white\", \"gridwidth\": 2, \"linecolor\": \"white\", \"showbackground\": true, \"ticks\": \"\", \"zerolinecolor\": \"white\"}, \"yaxis\": {\"backgroundcolor\": \"#E5ECF6\", \"gridcolor\": \"white\", \"gridwidth\": 2, \"linecolor\": \"white\", \"showbackground\": true, \"ticks\": \"\", \"zerolinecolor\": \"white\"}, \"zaxis\": {\"backgroundcolor\": \"#E5ECF6\", \"gridcolor\": \"white\", \"gridwidth\": 2, \"linecolor\": \"white\", \"showbackground\": true, \"ticks\": \"\", \"zerolinecolor\": \"white\"}}, \"shapedefaults\": {\"line\": {\"color\": \"#2a3f5f\"}}, \"ternary\": {\"aaxis\": {\"gridcolor\": \"white\", \"linecolor\": \"white\", \"ticks\": \"\"}, \"baxis\": {\"gridcolor\": \"white\", \"linecolor\": \"white\", \"ticks\": \"\"}, \"bgcolor\": \"#E5ECF6\", \"caxis\": {\"gridcolor\": \"white\", \"linecolor\": \"white\", \"ticks\": \"\"}}, \"title\": {\"x\": 0.05}, \"xaxis\": {\"automargin\": true, \"gridcolor\": \"white\", \"linecolor\": \"white\", \"ticks\": \"\", \"title\": {\"standoff\": 15}, \"zerolinecolor\": \"white\", \"zerolinewidth\": 2}, \"yaxis\": {\"automargin\": true, \"gridcolor\": \"white\", \"linecolor\": \"white\", \"ticks\": \"\", \"title\": {\"standoff\": 15}, \"zerolinecolor\": \"white\", \"zerolinewidth\": 2}}}, \"title\": {\"text\": \"Correlation Heat Map\"}, \"width\": 600, \"xaxis\": {\"anchor\": \"y\", \"domain\": [0.0, 1.0]}, \"yaxis\": {\"anchor\": \"x\", \"autorange\": \"reversed\", \"domain\": [0.0, 1.0]}},                        {\"responsive\": true}                    ).then(function(){\n",
       "                            \n",
       "var gd = document.getElementById('12e77049-4a4f-4dd1-b9c4-5a7b3c962c21');\n",
       "var x = new MutationObserver(function (mutations, observer) {{\n",
       "        var display = window.getComputedStyle(gd).display;\n",
       "        if (!display || display === 'none') {{\n",
       "            console.log([gd, 'removed!']);\n",
       "            Plotly.purge(gd);\n",
       "            observer.disconnect();\n",
       "        }}\n",
       "}});\n",
       "\n",
       "// Listen for the removal of the full notebook cells\n",
       "var notebookContainer = gd.closest('#notebook-container');\n",
       "if (notebookContainer) {{\n",
       "    x.observe(notebookContainer, {childList: true});\n",
       "}}\n",
       "\n",
       "// Listen for the clearing of the current output cell\n",
       "var outputEl = gd.closest('.output');\n",
       "if (outputEl) {{\n",
       "    x.observe(outputEl, {childList: true});\n",
       "}}\n",
       "\n",
       "                        })                };                });            </script>        </div>"
      ]
     },
     "metadata": {},
     "output_type": "display_data"
    }
   ],
   "source": [
    "corrs = merged.drop(['Time','zip_code'], axis = 1).corr()\n",
    "\n",
    "px.imshow(corrs[['delta_zori_ssa']].sort_values(by = 'delta_zori_ssa',ascending = False)\n",
    "          ,aspect = 1,width = 600,height = 1000,color_continuous_scale = 'bluered',title = 'Correlation Heat Map')"
   ]
  },
  {
   "cell_type": "code",
   "execution_count": null,
   "metadata": {},
   "outputs": [],
   "source": []
  }
 ],
 "metadata": {
  "kernelspec": {
   "display_name": "Python 3",
   "language": "python",
   "name": "python3"
  },
  "language_info": {
   "codemirror_mode": {
    "name": "ipython",
    "version": 3
   },
   "file_extension": ".py",
   "mimetype": "text/x-python",
   "name": "python",
   "nbconvert_exporter": "python",
   "pygments_lexer": "ipython3",
   "version": "3.7.3"
  }
 },
 "nbformat": 4,
 "nbformat_minor": 2
}
