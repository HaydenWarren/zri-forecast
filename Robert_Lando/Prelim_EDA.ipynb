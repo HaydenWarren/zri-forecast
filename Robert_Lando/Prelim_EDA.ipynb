{
 "cells": [
  {
   "cell_type": "markdown",
   "metadata": {},
   "source": [
    "# Preliminary EDA on ZRI Data"
   ]
  },
  {
   "cell_type": "code",
   "execution_count": 40,
   "metadata": {},
   "outputs": [],
   "source": [
    "import pandas as pd\n",
    "import numpy as np\n",
    "import matplotlib.pyplot as plt\n",
    "import seaborn as sns\n",
    "import plotly.express as px\n",
    "import scipy.stats as sc"
   ]
  },
  {
   "cell_type": "code",
   "execution_count": 3,
   "metadata": {},
   "outputs": [],
   "source": [
    "zri = pd.read_csv('Zip_Zri_AllHomesPlusMultifamily.csv')"
   ]
  },
  {
   "cell_type": "code",
   "execution_count": 4,
   "metadata": {},
   "outputs": [
    {
     "data": {
      "text/html": [
       "<div>\n",
       "<style scoped>\n",
       "    .dataframe tbody tr th:only-of-type {\n",
       "        vertical-align: middle;\n",
       "    }\n",
       "\n",
       "    .dataframe tbody tr th {\n",
       "        vertical-align: top;\n",
       "    }\n",
       "\n",
       "    .dataframe thead th {\n",
       "        text-align: right;\n",
       "    }\n",
       "</style>\n",
       "<table border=\"1\" class=\"dataframe\">\n",
       "  <thead>\n",
       "    <tr style=\"text-align: right;\">\n",
       "      <th></th>\n",
       "      <th>RegionID</th>\n",
       "      <th>RegionName</th>\n",
       "      <th>City</th>\n",
       "      <th>State</th>\n",
       "      <th>Metro</th>\n",
       "      <th>CountyName</th>\n",
       "      <th>SizeRank</th>\n",
       "      <th>2010-09</th>\n",
       "      <th>2010-10</th>\n",
       "      <th>2010-11</th>\n",
       "      <th>...</th>\n",
       "      <th>2019-04</th>\n",
       "      <th>2019-05</th>\n",
       "      <th>2019-06</th>\n",
       "      <th>2019-07</th>\n",
       "      <th>2019-08</th>\n",
       "      <th>2019-09</th>\n",
       "      <th>2019-10</th>\n",
       "      <th>2019-11</th>\n",
       "      <th>2019-12</th>\n",
       "      <th>2020-01</th>\n",
       "    </tr>\n",
       "  </thead>\n",
       "  <tbody>\n",
       "    <tr>\n",
       "      <th>0</th>\n",
       "      <td>61639</td>\n",
       "      <td>10025</td>\n",
       "      <td>New York</td>\n",
       "      <td>NY</td>\n",
       "      <td>New York-Newark-Jersey City</td>\n",
       "      <td>New York County</td>\n",
       "      <td>1</td>\n",
       "      <td>3031.0</td>\n",
       "      <td>3058.0</td>\n",
       "      <td>3031.0</td>\n",
       "      <td>...</td>\n",
       "      <td>3785.0</td>\n",
       "      <td>3788.0</td>\n",
       "      <td>3786.0</td>\n",
       "      <td>3784.0</td>\n",
       "      <td>3766.0</td>\n",
       "      <td>3779.0</td>\n",
       "      <td>3843.0</td>\n",
       "      <td>3873.0</td>\n",
       "      <td>3835.0</td>\n",
       "      <td>NaN</td>\n",
       "    </tr>\n",
       "    <tr>\n",
       "      <th>1</th>\n",
       "      <td>84654</td>\n",
       "      <td>60657</td>\n",
       "      <td>Chicago</td>\n",
       "      <td>IL</td>\n",
       "      <td>Chicago-Naperville-Elgin</td>\n",
       "      <td>Cook County</td>\n",
       "      <td>2</td>\n",
       "      <td>1790.0</td>\n",
       "      <td>1787.0</td>\n",
       "      <td>1784.0</td>\n",
       "      <td>...</td>\n",
       "      <td>2039.0</td>\n",
       "      <td>2070.0</td>\n",
       "      <td>2105.0</td>\n",
       "      <td>2140.0</td>\n",
       "      <td>2168.0</td>\n",
       "      <td>2185.0</td>\n",
       "      <td>2125.0</td>\n",
       "      <td>NaN</td>\n",
       "      <td>2053.0</td>\n",
       "      <td>1996.0</td>\n",
       "    </tr>\n",
       "    <tr>\n",
       "      <th>2</th>\n",
       "      <td>61637</td>\n",
       "      <td>10023</td>\n",
       "      <td>New York</td>\n",
       "      <td>NY</td>\n",
       "      <td>New York-Newark-Jersey City</td>\n",
       "      <td>New York County</td>\n",
       "      <td>3</td>\n",
       "      <td>3269.0</td>\n",
       "      <td>3304.0</td>\n",
       "      <td>3320.0</td>\n",
       "      <td>...</td>\n",
       "      <td>3874.0</td>\n",
       "      <td>3898.0</td>\n",
       "      <td>3917.0</td>\n",
       "      <td>3929.0</td>\n",
       "      <td>3931.0</td>\n",
       "      <td>3963.0</td>\n",
       "      <td>NaN</td>\n",
       "      <td>4123.0</td>\n",
       "      <td>4079.0</td>\n",
       "      <td>NaN</td>\n",
       "    </tr>\n",
       "    <tr>\n",
       "      <th>3</th>\n",
       "      <td>91982</td>\n",
       "      <td>77494</td>\n",
       "      <td>Katy</td>\n",
       "      <td>TX</td>\n",
       "      <td>Houston-The Woodlands-Sugar Land</td>\n",
       "      <td>Harris County</td>\n",
       "      <td>4</td>\n",
       "      <td>1547.0</td>\n",
       "      <td>1549.0</td>\n",
       "      <td>1560.0</td>\n",
       "      <td>...</td>\n",
       "      <td>1765.0</td>\n",
       "      <td>1755.0</td>\n",
       "      <td>1751.0</td>\n",
       "      <td>1752.0</td>\n",
       "      <td>1754.0</td>\n",
       "      <td>1759.0</td>\n",
       "      <td>1764.0</td>\n",
       "      <td>1769.0</td>\n",
       "      <td>1776.0</td>\n",
       "      <td>1778.0</td>\n",
       "    </tr>\n",
       "    <tr>\n",
       "      <th>4</th>\n",
       "      <td>84616</td>\n",
       "      <td>60614</td>\n",
       "      <td>Chicago</td>\n",
       "      <td>IL</td>\n",
       "      <td>Chicago-Naperville-Elgin</td>\n",
       "      <td>Cook County</td>\n",
       "      <td>5</td>\n",
       "      <td>1922.0</td>\n",
       "      <td>1925.0</td>\n",
       "      <td>1921.0</td>\n",
       "      <td>...</td>\n",
       "      <td>2245.0</td>\n",
       "      <td>2289.0</td>\n",
       "      <td>2332.0</td>\n",
       "      <td>2372.0</td>\n",
       "      <td>2398.0</td>\n",
       "      <td>2412.0</td>\n",
       "      <td>2348.0</td>\n",
       "      <td>2356.0</td>\n",
       "      <td>2311.0</td>\n",
       "      <td>NaN</td>\n",
       "    </tr>\n",
       "  </tbody>\n",
       "</table>\n",
       "<p>5 rows × 120 columns</p>\n",
       "</div>"
      ],
      "text/plain": [
       "   RegionID  RegionName      City State                             Metro  \\\n",
       "0     61639       10025  New York    NY       New York-Newark-Jersey City   \n",
       "1     84654       60657   Chicago    IL          Chicago-Naperville-Elgin   \n",
       "2     61637       10023  New York    NY       New York-Newark-Jersey City   \n",
       "3     91982       77494      Katy    TX  Houston-The Woodlands-Sugar Land   \n",
       "4     84616       60614   Chicago    IL          Chicago-Naperville-Elgin   \n",
       "\n",
       "        CountyName  SizeRank  2010-09  2010-10  2010-11  ...  2019-04  \\\n",
       "0  New York County         1   3031.0   3058.0   3031.0  ...   3785.0   \n",
       "1      Cook County         2   1790.0   1787.0   1784.0  ...   2039.0   \n",
       "2  New York County         3   3269.0   3304.0   3320.0  ...   3874.0   \n",
       "3    Harris County         4   1547.0   1549.0   1560.0  ...   1765.0   \n",
       "4      Cook County         5   1922.0   1925.0   1921.0  ...   2245.0   \n",
       "\n",
       "   2019-05  2019-06  2019-07  2019-08  2019-09  2019-10  2019-11  2019-12  \\\n",
       "0   3788.0   3786.0   3784.0   3766.0   3779.0   3843.0   3873.0   3835.0   \n",
       "1   2070.0   2105.0   2140.0   2168.0   2185.0   2125.0      NaN   2053.0   \n",
       "2   3898.0   3917.0   3929.0   3931.0   3963.0      NaN   4123.0   4079.0   \n",
       "3   1755.0   1751.0   1752.0   1754.0   1759.0   1764.0   1769.0   1776.0   \n",
       "4   2289.0   2332.0   2372.0   2398.0   2412.0   2348.0   2356.0   2311.0   \n",
       "\n",
       "   2020-01  \n",
       "0      NaN  \n",
       "1   1996.0  \n",
       "2      NaN  \n",
       "3   1778.0  \n",
       "4      NaN  \n",
       "\n",
       "[5 rows x 120 columns]"
      ]
     },
     "execution_count": 4,
     "metadata": {},
     "output_type": "execute_result"
    }
   ],
   "source": [
    "zri.head()"
   ]
  },
  {
   "cell_type": "code",
   "execution_count": 24,
   "metadata": {},
   "outputs": [],
   "source": [
    "Boken = zri.loc[zri['City'] == 'Hoboken'].iloc[:,7:].T.reset_index()"
   ]
  },
  {
   "cell_type": "code",
   "execution_count": 25,
   "metadata": {},
   "outputs": [],
   "source": [
    "Boken.rename(columns = {63:'ZRI'}, inplace = True)"
   ]
  },
  {
   "cell_type": "code",
   "execution_count": 56,
   "metadata": {},
   "outputs": [],
   "source": [
    "Boken.loc[:,'delta'] = Boken['ZRI'].diff(1)\n",
    "Boken.loc[:,'log_delta'] = Boken['ZRI'].apply(lambda x: np.log(x)).diff(1)"
   ]
  },
  {
   "cell_type": "code",
   "execution_count": 57,
   "metadata": {},
   "outputs": [
    {
     "data": {
      "text/html": [
       "<div>\n",
       "<style scoped>\n",
       "    .dataframe tbody tr th:only-of-type {\n",
       "        vertical-align: middle;\n",
       "    }\n",
       "\n",
       "    .dataframe tbody tr th {\n",
       "        vertical-align: top;\n",
       "    }\n",
       "\n",
       "    .dataframe thead th {\n",
       "        text-align: right;\n",
       "    }\n",
       "</style>\n",
       "<table border=\"1\" class=\"dataframe\">\n",
       "  <thead>\n",
       "    <tr style=\"text-align: right;\">\n",
       "      <th></th>\n",
       "      <th>index</th>\n",
       "      <th>ZRI</th>\n",
       "      <th>delta</th>\n",
       "      <th>log_delta</th>\n",
       "    </tr>\n",
       "  </thead>\n",
       "  <tbody>\n",
       "    <tr>\n",
       "      <th>0</th>\n",
       "      <td>2010-09</td>\n",
       "      <td>2217.0</td>\n",
       "      <td>NaN</td>\n",
       "      <td>NaN</td>\n",
       "    </tr>\n",
       "    <tr>\n",
       "      <th>1</th>\n",
       "      <td>2010-10</td>\n",
       "      <td>2256.0</td>\n",
       "      <td>39.0</td>\n",
       "      <td>0.017438</td>\n",
       "    </tr>\n",
       "    <tr>\n",
       "      <th>2</th>\n",
       "      <td>2010-11</td>\n",
       "      <td>2289.0</td>\n",
       "      <td>33.0</td>\n",
       "      <td>0.014522</td>\n",
       "    </tr>\n",
       "    <tr>\n",
       "      <th>3</th>\n",
       "      <td>2010-12</td>\n",
       "      <td>2313.0</td>\n",
       "      <td>24.0</td>\n",
       "      <td>0.010430</td>\n",
       "    </tr>\n",
       "    <tr>\n",
       "      <th>4</th>\n",
       "      <td>2011-01</td>\n",
       "      <td>2327.0</td>\n",
       "      <td>14.0</td>\n",
       "      <td>0.006035</td>\n",
       "    </tr>\n",
       "  </tbody>\n",
       "</table>\n",
       "</div>"
      ],
      "text/plain": [
       "     index     ZRI  delta  log_delta\n",
       "0  2010-09  2217.0    NaN        NaN\n",
       "1  2010-10  2256.0   39.0   0.017438\n",
       "2  2010-11  2289.0   33.0   0.014522\n",
       "3  2010-12  2313.0   24.0   0.010430\n",
       "4  2011-01  2327.0   14.0   0.006035"
      ]
     },
     "execution_count": 57,
     "metadata": {},
     "output_type": "execute_result"
    }
   ],
   "source": [
    "Boken.head()"
   ]
  },
  {
   "cell_type": "code",
   "execution_count": 60,
   "metadata": {},
   "outputs": [
    {
     "data": {
      "application/vnd.plotly.v1+json": {
       "config": {
        "plotlyServerURL": "https://plot.ly"
       },
       "data": [
        {
         "hovertemplate": "index=%{x}<br>ZRI=%{y}<extra></extra>",
         "legendgroup": "",
         "line": {
          "color": "#636efa",
          "dash": "solid"
         },
         "mode": "lines",
         "name": "",
         "orientation": "v",
         "showlegend": false,
         "type": "scatter",
         "x": [
          "2010-09",
          "2010-10",
          "2010-11",
          "2010-12",
          "2011-01",
          "2011-02",
          "2011-03",
          "2011-04",
          "2011-05",
          "2011-06",
          "2011-07",
          "2011-08",
          "2011-09",
          "2011-10",
          "2011-11",
          "2011-12",
          "2012-01",
          "2012-02",
          "2012-03",
          "2012-04",
          "2012-05",
          "2012-06",
          "2012-07",
          "2012-08",
          "2012-09",
          "2012-10",
          "2012-11",
          "2012-12",
          "2013-01",
          "2013-02",
          "2013-03",
          "2013-04",
          "2013-05",
          "2013-06",
          "2013-07",
          "2013-08",
          "2013-09",
          "2013-10",
          "2013-11",
          "2013-12",
          "2014-01",
          "2014-02",
          "2014-03",
          "2014-04",
          "2014-05",
          "2014-06",
          "2014-07",
          "2014-08",
          "2014-09",
          "2014-10",
          "2014-11",
          "2014-12",
          "2015-01",
          "2015-02",
          "2015-03",
          "2015-04",
          "2015-05",
          "2015-06",
          "2015-07",
          "2015-08",
          "2015-09",
          "2015-10",
          "2015-11",
          "2015-12",
          "2016-01",
          "2016-02",
          "2016-03",
          "2016-04",
          "2016-05",
          "2016-06",
          "2016-07",
          "2016-08",
          "2016-09",
          "2016-10",
          "2016-11",
          "2016-12",
          "2017-01",
          "2017-02",
          "2017-03",
          "2017-04",
          "2017-05",
          "2017-06",
          "2017-07",
          "2017-08",
          "2017-09",
          "2017-10",
          "2017-11",
          "2017-12",
          "2018-01",
          "2018-02",
          "2018-03",
          "2018-04",
          "2018-05",
          "2018-06",
          "2018-07",
          "2018-08",
          "2018-09",
          "2018-10",
          "2018-11",
          "2018-12",
          "2019-01",
          "2019-02",
          "2019-03",
          "2019-04",
          "2019-05",
          "2019-06",
          "2019-07",
          "2019-08",
          "2019-09",
          "2019-10",
          "2019-11",
          "2019-12",
          "2020-01"
         ],
         "xaxis": "x",
         "y": [
          2217,
          2256,
          2289,
          2313,
          2327,
          2334,
          2318,
          2302,
          2290,
          2289,
          2305,
          2329,
          2354,
          2371,
          2389,
          2406,
          2422,
          2424,
          2425,
          2452,
          2474,
          2491,
          2503,
          2518,
          2530,
          2528,
          2525,
          2523,
          2518,
          2506,
          2490,
          2480,
          2487,
          2497,
          2508,
          2510,
          2520,
          2524,
          2521,
          2520,
          2526,
          2528,
          2500,
          2470,
          2453,
          2436,
          2452,
          2497,
          2553,
          2564,
          2579,
          2577,
          2572,
          2564,
          2573,
          2588,
          2610,
          2627,
          2652,
          2660,
          2662,
          2684,
          2698,
          2703,
          2696,
          2678,
          2666,
          2686,
          2711,
          2705,
          2693,
          2674,
          2663,
          2636,
          2622,
          2609,
          2596,
          2581,
          2565,
          2549,
          2536,
          2546,
          2530,
          2517,
          2520,
          2521,
          2524,
          2531,
          2537,
          2546,
          2548,
          2542,
          2532,
          2532,
          2536,
          2549,
          2550,
          2548,
          2574,
          2568,
          2575,
          2558,
          2539,
          2527,
          2525,
          2524,
          2533,
          2551,
          2566,
          2564,
          2590,
          2582,
          2578
         ],
         "yaxis": "y"
        }
       ],
       "layout": {
        "legend": {
         "tracegroupgap": 0
        },
        "margin": {
         "t": 60
        },
        "template": {
         "data": {
          "bar": [
           {
            "error_x": {
             "color": "#2a3f5f"
            },
            "error_y": {
             "color": "#2a3f5f"
            },
            "marker": {
             "line": {
              "color": "#E5ECF6",
              "width": 0.5
             }
            },
            "type": "bar"
           }
          ],
          "barpolar": [
           {
            "marker": {
             "line": {
              "color": "#E5ECF6",
              "width": 0.5
             }
            },
            "type": "barpolar"
           }
          ],
          "carpet": [
           {
            "aaxis": {
             "endlinecolor": "#2a3f5f",
             "gridcolor": "white",
             "linecolor": "white",
             "minorgridcolor": "white",
             "startlinecolor": "#2a3f5f"
            },
            "baxis": {
             "endlinecolor": "#2a3f5f",
             "gridcolor": "white",
             "linecolor": "white",
             "minorgridcolor": "white",
             "startlinecolor": "#2a3f5f"
            },
            "type": "carpet"
           }
          ],
          "choropleth": [
           {
            "colorbar": {
             "outlinewidth": 0,
             "ticks": ""
            },
            "type": "choropleth"
           }
          ],
          "contour": [
           {
            "colorbar": {
             "outlinewidth": 0,
             "ticks": ""
            },
            "colorscale": [
             [
              0,
              "#0d0887"
             ],
             [
              0.1111111111111111,
              "#46039f"
             ],
             [
              0.2222222222222222,
              "#7201a8"
             ],
             [
              0.3333333333333333,
              "#9c179e"
             ],
             [
              0.4444444444444444,
              "#bd3786"
             ],
             [
              0.5555555555555556,
              "#d8576b"
             ],
             [
              0.6666666666666666,
              "#ed7953"
             ],
             [
              0.7777777777777778,
              "#fb9f3a"
             ],
             [
              0.8888888888888888,
              "#fdca26"
             ],
             [
              1,
              "#f0f921"
             ]
            ],
            "type": "contour"
           }
          ],
          "contourcarpet": [
           {
            "colorbar": {
             "outlinewidth": 0,
             "ticks": ""
            },
            "type": "contourcarpet"
           }
          ],
          "heatmap": [
           {
            "colorbar": {
             "outlinewidth": 0,
             "ticks": ""
            },
            "colorscale": [
             [
              0,
              "#0d0887"
             ],
             [
              0.1111111111111111,
              "#46039f"
             ],
             [
              0.2222222222222222,
              "#7201a8"
             ],
             [
              0.3333333333333333,
              "#9c179e"
             ],
             [
              0.4444444444444444,
              "#bd3786"
             ],
             [
              0.5555555555555556,
              "#d8576b"
             ],
             [
              0.6666666666666666,
              "#ed7953"
             ],
             [
              0.7777777777777778,
              "#fb9f3a"
             ],
             [
              0.8888888888888888,
              "#fdca26"
             ],
             [
              1,
              "#f0f921"
             ]
            ],
            "type": "heatmap"
           }
          ],
          "heatmapgl": [
           {
            "colorbar": {
             "outlinewidth": 0,
             "ticks": ""
            },
            "colorscale": [
             [
              0,
              "#0d0887"
             ],
             [
              0.1111111111111111,
              "#46039f"
             ],
             [
              0.2222222222222222,
              "#7201a8"
             ],
             [
              0.3333333333333333,
              "#9c179e"
             ],
             [
              0.4444444444444444,
              "#bd3786"
             ],
             [
              0.5555555555555556,
              "#d8576b"
             ],
             [
              0.6666666666666666,
              "#ed7953"
             ],
             [
              0.7777777777777778,
              "#fb9f3a"
             ],
             [
              0.8888888888888888,
              "#fdca26"
             ],
             [
              1,
              "#f0f921"
             ]
            ],
            "type": "heatmapgl"
           }
          ],
          "histogram": [
           {
            "marker": {
             "colorbar": {
              "outlinewidth": 0,
              "ticks": ""
             }
            },
            "type": "histogram"
           }
          ],
          "histogram2d": [
           {
            "colorbar": {
             "outlinewidth": 0,
             "ticks": ""
            },
            "colorscale": [
             [
              0,
              "#0d0887"
             ],
             [
              0.1111111111111111,
              "#46039f"
             ],
             [
              0.2222222222222222,
              "#7201a8"
             ],
             [
              0.3333333333333333,
              "#9c179e"
             ],
             [
              0.4444444444444444,
              "#bd3786"
             ],
             [
              0.5555555555555556,
              "#d8576b"
             ],
             [
              0.6666666666666666,
              "#ed7953"
             ],
             [
              0.7777777777777778,
              "#fb9f3a"
             ],
             [
              0.8888888888888888,
              "#fdca26"
             ],
             [
              1,
              "#f0f921"
             ]
            ],
            "type": "histogram2d"
           }
          ],
          "histogram2dcontour": [
           {
            "colorbar": {
             "outlinewidth": 0,
             "ticks": ""
            },
            "colorscale": [
             [
              0,
              "#0d0887"
             ],
             [
              0.1111111111111111,
              "#46039f"
             ],
             [
              0.2222222222222222,
              "#7201a8"
             ],
             [
              0.3333333333333333,
              "#9c179e"
             ],
             [
              0.4444444444444444,
              "#bd3786"
             ],
             [
              0.5555555555555556,
              "#d8576b"
             ],
             [
              0.6666666666666666,
              "#ed7953"
             ],
             [
              0.7777777777777778,
              "#fb9f3a"
             ],
             [
              0.8888888888888888,
              "#fdca26"
             ],
             [
              1,
              "#f0f921"
             ]
            ],
            "type": "histogram2dcontour"
           }
          ],
          "mesh3d": [
           {
            "colorbar": {
             "outlinewidth": 0,
             "ticks": ""
            },
            "type": "mesh3d"
           }
          ],
          "parcoords": [
           {
            "line": {
             "colorbar": {
              "outlinewidth": 0,
              "ticks": ""
             }
            },
            "type": "parcoords"
           }
          ],
          "pie": [
           {
            "automargin": true,
            "type": "pie"
           }
          ],
          "scatter": [
           {
            "marker": {
             "colorbar": {
              "outlinewidth": 0,
              "ticks": ""
             }
            },
            "type": "scatter"
           }
          ],
          "scatter3d": [
           {
            "line": {
             "colorbar": {
              "outlinewidth": 0,
              "ticks": ""
             }
            },
            "marker": {
             "colorbar": {
              "outlinewidth": 0,
              "ticks": ""
             }
            },
            "type": "scatter3d"
           }
          ],
          "scattercarpet": [
           {
            "marker": {
             "colorbar": {
              "outlinewidth": 0,
              "ticks": ""
             }
            },
            "type": "scattercarpet"
           }
          ],
          "scattergeo": [
           {
            "marker": {
             "colorbar": {
              "outlinewidth": 0,
              "ticks": ""
             }
            },
            "type": "scattergeo"
           }
          ],
          "scattergl": [
           {
            "marker": {
             "colorbar": {
              "outlinewidth": 0,
              "ticks": ""
             }
            },
            "type": "scattergl"
           }
          ],
          "scattermapbox": [
           {
            "marker": {
             "colorbar": {
              "outlinewidth": 0,
              "ticks": ""
             }
            },
            "type": "scattermapbox"
           }
          ],
          "scatterpolar": [
           {
            "marker": {
             "colorbar": {
              "outlinewidth": 0,
              "ticks": ""
             }
            },
            "type": "scatterpolar"
           }
          ],
          "scatterpolargl": [
           {
            "marker": {
             "colorbar": {
              "outlinewidth": 0,
              "ticks": ""
             }
            },
            "type": "scatterpolargl"
           }
          ],
          "scatterternary": [
           {
            "marker": {
             "colorbar": {
              "outlinewidth": 0,
              "ticks": ""
             }
            },
            "type": "scatterternary"
           }
          ],
          "surface": [
           {
            "colorbar": {
             "outlinewidth": 0,
             "ticks": ""
            },
            "colorscale": [
             [
              0,
              "#0d0887"
             ],
             [
              0.1111111111111111,
              "#46039f"
             ],
             [
              0.2222222222222222,
              "#7201a8"
             ],
             [
              0.3333333333333333,
              "#9c179e"
             ],
             [
              0.4444444444444444,
              "#bd3786"
             ],
             [
              0.5555555555555556,
              "#d8576b"
             ],
             [
              0.6666666666666666,
              "#ed7953"
             ],
             [
              0.7777777777777778,
              "#fb9f3a"
             ],
             [
              0.8888888888888888,
              "#fdca26"
             ],
             [
              1,
              "#f0f921"
             ]
            ],
            "type": "surface"
           }
          ],
          "table": [
           {
            "cells": {
             "fill": {
              "color": "#EBF0F8"
             },
             "line": {
              "color": "white"
             }
            },
            "header": {
             "fill": {
              "color": "#C8D4E3"
             },
             "line": {
              "color": "white"
             }
            },
            "type": "table"
           }
          ]
         },
         "layout": {
          "annotationdefaults": {
           "arrowcolor": "#2a3f5f",
           "arrowhead": 0,
           "arrowwidth": 1
          },
          "autotypenumbers": "strict",
          "coloraxis": {
           "colorbar": {
            "outlinewidth": 0,
            "ticks": ""
           }
          },
          "colorscale": {
           "diverging": [
            [
             0,
             "#8e0152"
            ],
            [
             0.1,
             "#c51b7d"
            ],
            [
             0.2,
             "#de77ae"
            ],
            [
             0.3,
             "#f1b6da"
            ],
            [
             0.4,
             "#fde0ef"
            ],
            [
             0.5,
             "#f7f7f7"
            ],
            [
             0.6,
             "#e6f5d0"
            ],
            [
             0.7,
             "#b8e186"
            ],
            [
             0.8,
             "#7fbc41"
            ],
            [
             0.9,
             "#4d9221"
            ],
            [
             1,
             "#276419"
            ]
           ],
           "sequential": [
            [
             0,
             "#0d0887"
            ],
            [
             0.1111111111111111,
             "#46039f"
            ],
            [
             0.2222222222222222,
             "#7201a8"
            ],
            [
             0.3333333333333333,
             "#9c179e"
            ],
            [
             0.4444444444444444,
             "#bd3786"
            ],
            [
             0.5555555555555556,
             "#d8576b"
            ],
            [
             0.6666666666666666,
             "#ed7953"
            ],
            [
             0.7777777777777778,
             "#fb9f3a"
            ],
            [
             0.8888888888888888,
             "#fdca26"
            ],
            [
             1,
             "#f0f921"
            ]
           ],
           "sequentialminus": [
            [
             0,
             "#0d0887"
            ],
            [
             0.1111111111111111,
             "#46039f"
            ],
            [
             0.2222222222222222,
             "#7201a8"
            ],
            [
             0.3333333333333333,
             "#9c179e"
            ],
            [
             0.4444444444444444,
             "#bd3786"
            ],
            [
             0.5555555555555556,
             "#d8576b"
            ],
            [
             0.6666666666666666,
             "#ed7953"
            ],
            [
             0.7777777777777778,
             "#fb9f3a"
            ],
            [
             0.8888888888888888,
             "#fdca26"
            ],
            [
             1,
             "#f0f921"
            ]
           ]
          },
          "colorway": [
           "#636efa",
           "#EF553B",
           "#00cc96",
           "#ab63fa",
           "#FFA15A",
           "#19d3f3",
           "#FF6692",
           "#B6E880",
           "#FF97FF",
           "#FECB52"
          ],
          "font": {
           "color": "#2a3f5f"
          },
          "geo": {
           "bgcolor": "white",
           "lakecolor": "white",
           "landcolor": "#E5ECF6",
           "showlakes": true,
           "showland": true,
           "subunitcolor": "white"
          },
          "hoverlabel": {
           "align": "left"
          },
          "hovermode": "closest",
          "mapbox": {
           "style": "light"
          },
          "paper_bgcolor": "white",
          "plot_bgcolor": "#E5ECF6",
          "polar": {
           "angularaxis": {
            "gridcolor": "white",
            "linecolor": "white",
            "ticks": ""
           },
           "bgcolor": "#E5ECF6",
           "radialaxis": {
            "gridcolor": "white",
            "linecolor": "white",
            "ticks": ""
           }
          },
          "scene": {
           "xaxis": {
            "backgroundcolor": "#E5ECF6",
            "gridcolor": "white",
            "gridwidth": 2,
            "linecolor": "white",
            "showbackground": true,
            "ticks": "",
            "zerolinecolor": "white"
           },
           "yaxis": {
            "backgroundcolor": "#E5ECF6",
            "gridcolor": "white",
            "gridwidth": 2,
            "linecolor": "white",
            "showbackground": true,
            "ticks": "",
            "zerolinecolor": "white"
           },
           "zaxis": {
            "backgroundcolor": "#E5ECF6",
            "gridcolor": "white",
            "gridwidth": 2,
            "linecolor": "white",
            "showbackground": true,
            "ticks": "",
            "zerolinecolor": "white"
           }
          },
          "shapedefaults": {
           "line": {
            "color": "#2a3f5f"
           }
          },
          "ternary": {
           "aaxis": {
            "gridcolor": "white",
            "linecolor": "white",
            "ticks": ""
           },
           "baxis": {
            "gridcolor": "white",
            "linecolor": "white",
            "ticks": ""
           },
           "bgcolor": "#E5ECF6",
           "caxis": {
            "gridcolor": "white",
            "linecolor": "white",
            "ticks": ""
           }
          },
          "title": {
           "x": 0.05
          },
          "xaxis": {
           "automargin": true,
           "gridcolor": "white",
           "linecolor": "white",
           "ticks": "",
           "title": {
            "standoff": 15
           },
           "zerolinecolor": "white",
           "zerolinewidth": 2
          },
          "yaxis": {
           "automargin": true,
           "gridcolor": "white",
           "linecolor": "white",
           "ticks": "",
           "title": {
            "standoff": 15
           },
           "zerolinecolor": "white",
           "zerolinewidth": 2
          }
         }
        },
        "xaxis": {
         "anchor": "y",
         "domain": [
          0,
          1
         ],
         "title": {
          "text": "index"
         }
        },
        "yaxis": {
         "anchor": "x",
         "domain": [
          0,
          1
         ],
         "title": {
          "text": "ZRI"
         }
        }
       }
      },
      "text/html": [
       "<div>                            <div id=\"a388aa2a-8878-4b1b-9201-c6ac20dddb63\" class=\"plotly-graph-div\" style=\"height:525px; width:100%;\"></div>            <script type=\"text/javascript\">                require([\"plotly\"], function(Plotly) {                    window.PLOTLYENV=window.PLOTLYENV || {};                                    if (document.getElementById(\"a388aa2a-8878-4b1b-9201-c6ac20dddb63\")) {                    Plotly.newPlot(                        \"a388aa2a-8878-4b1b-9201-c6ac20dddb63\",                        [{\"hovertemplate\": \"index=%{x}<br>ZRI=%{y}<extra></extra>\", \"legendgroup\": \"\", \"line\": {\"color\": \"#636efa\", \"dash\": \"solid\"}, \"mode\": \"lines\", \"name\": \"\", \"orientation\": \"v\", \"showlegend\": false, \"type\": \"scatter\", \"x\": [\"2010-09\", \"2010-10\", \"2010-11\", \"2010-12\", \"2011-01\", \"2011-02\", \"2011-03\", \"2011-04\", \"2011-05\", \"2011-06\", \"2011-07\", \"2011-08\", \"2011-09\", \"2011-10\", \"2011-11\", \"2011-12\", \"2012-01\", \"2012-02\", \"2012-03\", \"2012-04\", \"2012-05\", \"2012-06\", \"2012-07\", \"2012-08\", \"2012-09\", \"2012-10\", \"2012-11\", \"2012-12\", \"2013-01\", \"2013-02\", \"2013-03\", \"2013-04\", \"2013-05\", \"2013-06\", \"2013-07\", \"2013-08\", \"2013-09\", \"2013-10\", \"2013-11\", \"2013-12\", \"2014-01\", \"2014-02\", \"2014-03\", \"2014-04\", \"2014-05\", \"2014-06\", \"2014-07\", \"2014-08\", \"2014-09\", \"2014-10\", \"2014-11\", \"2014-12\", \"2015-01\", \"2015-02\", \"2015-03\", \"2015-04\", \"2015-05\", \"2015-06\", \"2015-07\", \"2015-08\", \"2015-09\", \"2015-10\", \"2015-11\", \"2015-12\", \"2016-01\", \"2016-02\", \"2016-03\", \"2016-04\", \"2016-05\", \"2016-06\", \"2016-07\", \"2016-08\", \"2016-09\", \"2016-10\", \"2016-11\", \"2016-12\", \"2017-01\", \"2017-02\", \"2017-03\", \"2017-04\", \"2017-05\", \"2017-06\", \"2017-07\", \"2017-08\", \"2017-09\", \"2017-10\", \"2017-11\", \"2017-12\", \"2018-01\", \"2018-02\", \"2018-03\", \"2018-04\", \"2018-05\", \"2018-06\", \"2018-07\", \"2018-08\", \"2018-09\", \"2018-10\", \"2018-11\", \"2018-12\", \"2019-01\", \"2019-02\", \"2019-03\", \"2019-04\", \"2019-05\", \"2019-06\", \"2019-07\", \"2019-08\", \"2019-09\", \"2019-10\", \"2019-11\", \"2019-12\", \"2020-01\"], \"xaxis\": \"x\", \"y\": [2217.0, 2256.0, 2289.0, 2313.0, 2327.0, 2334.0, 2318.0, 2302.0, 2290.0, 2289.0, 2305.0, 2329.0, 2354.0, 2371.0, 2389.0, 2406.0, 2422.0, 2424.0, 2425.0, 2452.0, 2474.0, 2491.0, 2503.0, 2518.0, 2530.0, 2528.0, 2525.0, 2523.0, 2518.0, 2506.0, 2490.0, 2480.0, 2487.0, 2497.0, 2508.0, 2510.0, 2520.0, 2524.0, 2521.0, 2520.0, 2526.0, 2528.0, 2500.0, 2470.0, 2453.0, 2436.0, 2452.0, 2497.0, 2553.0, 2564.0, 2579.0, 2577.0, 2572.0, 2564.0, 2573.0, 2588.0, 2610.0, 2627.0, 2652.0, 2660.0, 2662.0, 2684.0, 2698.0, 2703.0, 2696.0, 2678.0, 2666.0, 2686.0, 2711.0, 2705.0, 2693.0, 2674.0, 2663.0, 2636.0, 2622.0, 2609.0, 2596.0, 2581.0, 2565.0, 2549.0, 2536.0, 2546.0, 2530.0, 2517.0, 2520.0, 2521.0, 2524.0, 2531.0, 2537.0, 2546.0, 2548.0, 2542.0, 2532.0, 2532.0, 2536.0, 2549.0, 2550.0, 2548.0, 2574.0, 2568.0, 2575.0, 2558.0, 2539.0, 2527.0, 2525.0, 2524.0, 2533.0, 2551.0, 2566.0, 2564.0, 2590.0, 2582.0, 2578.0], \"yaxis\": \"y\"}],                        {\"legend\": {\"tracegroupgap\": 0}, \"margin\": {\"t\": 60}, \"template\": {\"data\": {\"bar\": [{\"error_x\": {\"color\": \"#2a3f5f\"}, \"error_y\": {\"color\": \"#2a3f5f\"}, \"marker\": {\"line\": {\"color\": \"#E5ECF6\", \"width\": 0.5}}, \"type\": \"bar\"}], \"barpolar\": [{\"marker\": {\"line\": {\"color\": \"#E5ECF6\", \"width\": 0.5}}, \"type\": \"barpolar\"}], \"carpet\": [{\"aaxis\": {\"endlinecolor\": \"#2a3f5f\", \"gridcolor\": \"white\", \"linecolor\": \"white\", \"minorgridcolor\": \"white\", \"startlinecolor\": \"#2a3f5f\"}, \"baxis\": {\"endlinecolor\": \"#2a3f5f\", \"gridcolor\": \"white\", \"linecolor\": \"white\", \"minorgridcolor\": \"white\", \"startlinecolor\": \"#2a3f5f\"}, \"type\": \"carpet\"}], \"choropleth\": [{\"colorbar\": {\"outlinewidth\": 0, \"ticks\": \"\"}, \"type\": \"choropleth\"}], \"contour\": [{\"colorbar\": {\"outlinewidth\": 0, \"ticks\": \"\"}, \"colorscale\": [[0.0, \"#0d0887\"], [0.1111111111111111, \"#46039f\"], [0.2222222222222222, \"#7201a8\"], [0.3333333333333333, \"#9c179e\"], [0.4444444444444444, \"#bd3786\"], [0.5555555555555556, \"#d8576b\"], [0.6666666666666666, \"#ed7953\"], [0.7777777777777778, \"#fb9f3a\"], [0.8888888888888888, \"#fdca26\"], [1.0, \"#f0f921\"]], \"type\": \"contour\"}], \"contourcarpet\": [{\"colorbar\": {\"outlinewidth\": 0, \"ticks\": \"\"}, \"type\": \"contourcarpet\"}], \"heatmap\": [{\"colorbar\": {\"outlinewidth\": 0, \"ticks\": \"\"}, \"colorscale\": [[0.0, \"#0d0887\"], [0.1111111111111111, \"#46039f\"], [0.2222222222222222, \"#7201a8\"], [0.3333333333333333, \"#9c179e\"], [0.4444444444444444, \"#bd3786\"], [0.5555555555555556, \"#d8576b\"], [0.6666666666666666, \"#ed7953\"], [0.7777777777777778, \"#fb9f3a\"], [0.8888888888888888, \"#fdca26\"], [1.0, \"#f0f921\"]], \"type\": \"heatmap\"}], \"heatmapgl\": [{\"colorbar\": {\"outlinewidth\": 0, \"ticks\": \"\"}, \"colorscale\": [[0.0, \"#0d0887\"], [0.1111111111111111, \"#46039f\"], [0.2222222222222222, \"#7201a8\"], [0.3333333333333333, \"#9c179e\"], [0.4444444444444444, \"#bd3786\"], [0.5555555555555556, \"#d8576b\"], [0.6666666666666666, \"#ed7953\"], [0.7777777777777778, \"#fb9f3a\"], [0.8888888888888888, \"#fdca26\"], [1.0, \"#f0f921\"]], \"type\": \"heatmapgl\"}], \"histogram\": [{\"marker\": {\"colorbar\": {\"outlinewidth\": 0, \"ticks\": \"\"}}, \"type\": \"histogram\"}], \"histogram2d\": [{\"colorbar\": {\"outlinewidth\": 0, \"ticks\": \"\"}, \"colorscale\": [[0.0, \"#0d0887\"], [0.1111111111111111, \"#46039f\"], [0.2222222222222222, \"#7201a8\"], [0.3333333333333333, \"#9c179e\"], [0.4444444444444444, \"#bd3786\"], [0.5555555555555556, \"#d8576b\"], [0.6666666666666666, \"#ed7953\"], [0.7777777777777778, \"#fb9f3a\"], [0.8888888888888888, \"#fdca26\"], [1.0, \"#f0f921\"]], \"type\": \"histogram2d\"}], \"histogram2dcontour\": [{\"colorbar\": {\"outlinewidth\": 0, \"ticks\": \"\"}, \"colorscale\": [[0.0, \"#0d0887\"], [0.1111111111111111, \"#46039f\"], [0.2222222222222222, \"#7201a8\"], [0.3333333333333333, \"#9c179e\"], [0.4444444444444444, \"#bd3786\"], [0.5555555555555556, \"#d8576b\"], [0.6666666666666666, \"#ed7953\"], [0.7777777777777778, \"#fb9f3a\"], [0.8888888888888888, \"#fdca26\"], [1.0, \"#f0f921\"]], \"type\": \"histogram2dcontour\"}], \"mesh3d\": [{\"colorbar\": {\"outlinewidth\": 0, \"ticks\": \"\"}, \"type\": \"mesh3d\"}], \"parcoords\": [{\"line\": {\"colorbar\": {\"outlinewidth\": 0, \"ticks\": \"\"}}, \"type\": \"parcoords\"}], \"pie\": [{\"automargin\": true, \"type\": \"pie\"}], \"scatter\": [{\"marker\": {\"colorbar\": {\"outlinewidth\": 0, \"ticks\": \"\"}}, \"type\": \"scatter\"}], \"scatter3d\": [{\"line\": {\"colorbar\": {\"outlinewidth\": 0, \"ticks\": \"\"}}, \"marker\": {\"colorbar\": {\"outlinewidth\": 0, \"ticks\": \"\"}}, \"type\": \"scatter3d\"}], \"scattercarpet\": [{\"marker\": {\"colorbar\": {\"outlinewidth\": 0, \"ticks\": \"\"}}, \"type\": \"scattercarpet\"}], \"scattergeo\": [{\"marker\": {\"colorbar\": {\"outlinewidth\": 0, \"ticks\": \"\"}}, \"type\": \"scattergeo\"}], \"scattergl\": [{\"marker\": {\"colorbar\": {\"outlinewidth\": 0, \"ticks\": \"\"}}, \"type\": \"scattergl\"}], \"scattermapbox\": [{\"marker\": {\"colorbar\": {\"outlinewidth\": 0, \"ticks\": \"\"}}, \"type\": \"scattermapbox\"}], \"scatterpolar\": [{\"marker\": {\"colorbar\": {\"outlinewidth\": 0, \"ticks\": \"\"}}, \"type\": \"scatterpolar\"}], \"scatterpolargl\": [{\"marker\": {\"colorbar\": {\"outlinewidth\": 0, \"ticks\": \"\"}}, \"type\": \"scatterpolargl\"}], \"scatterternary\": [{\"marker\": {\"colorbar\": {\"outlinewidth\": 0, \"ticks\": \"\"}}, \"type\": \"scatterternary\"}], \"surface\": [{\"colorbar\": {\"outlinewidth\": 0, \"ticks\": \"\"}, \"colorscale\": [[0.0, \"#0d0887\"], [0.1111111111111111, \"#46039f\"], [0.2222222222222222, \"#7201a8\"], [0.3333333333333333, \"#9c179e\"], [0.4444444444444444, \"#bd3786\"], [0.5555555555555556, \"#d8576b\"], [0.6666666666666666, \"#ed7953\"], [0.7777777777777778, \"#fb9f3a\"], [0.8888888888888888, \"#fdca26\"], [1.0, \"#f0f921\"]], \"type\": \"surface\"}], \"table\": [{\"cells\": {\"fill\": {\"color\": \"#EBF0F8\"}, \"line\": {\"color\": \"white\"}}, \"header\": {\"fill\": {\"color\": \"#C8D4E3\"}, \"line\": {\"color\": \"white\"}}, \"type\": \"table\"}]}, \"layout\": {\"annotationdefaults\": {\"arrowcolor\": \"#2a3f5f\", \"arrowhead\": 0, \"arrowwidth\": 1}, \"autotypenumbers\": \"strict\", \"coloraxis\": {\"colorbar\": {\"outlinewidth\": 0, \"ticks\": \"\"}}, \"colorscale\": {\"diverging\": [[0, \"#8e0152\"], [0.1, \"#c51b7d\"], [0.2, \"#de77ae\"], [0.3, \"#f1b6da\"], [0.4, \"#fde0ef\"], [0.5, \"#f7f7f7\"], [0.6, \"#e6f5d0\"], [0.7, \"#b8e186\"], [0.8, \"#7fbc41\"], [0.9, \"#4d9221\"], [1, \"#276419\"]], \"sequential\": [[0.0, \"#0d0887\"], [0.1111111111111111, \"#46039f\"], [0.2222222222222222, \"#7201a8\"], [0.3333333333333333, \"#9c179e\"], [0.4444444444444444, \"#bd3786\"], [0.5555555555555556, \"#d8576b\"], [0.6666666666666666, \"#ed7953\"], [0.7777777777777778, \"#fb9f3a\"], [0.8888888888888888, \"#fdca26\"], [1.0, \"#f0f921\"]], \"sequentialminus\": [[0.0, \"#0d0887\"], [0.1111111111111111, \"#46039f\"], [0.2222222222222222, \"#7201a8\"], [0.3333333333333333, \"#9c179e\"], [0.4444444444444444, \"#bd3786\"], [0.5555555555555556, \"#d8576b\"], [0.6666666666666666, \"#ed7953\"], [0.7777777777777778, \"#fb9f3a\"], [0.8888888888888888, \"#fdca26\"], [1.0, \"#f0f921\"]]}, \"colorway\": [\"#636efa\", \"#EF553B\", \"#00cc96\", \"#ab63fa\", \"#FFA15A\", \"#19d3f3\", \"#FF6692\", \"#B6E880\", \"#FF97FF\", \"#FECB52\"], \"font\": {\"color\": \"#2a3f5f\"}, \"geo\": {\"bgcolor\": \"white\", \"lakecolor\": \"white\", \"landcolor\": \"#E5ECF6\", \"showlakes\": true, \"showland\": true, \"subunitcolor\": \"white\"}, \"hoverlabel\": {\"align\": \"left\"}, \"hovermode\": \"closest\", \"mapbox\": {\"style\": \"light\"}, \"paper_bgcolor\": \"white\", \"plot_bgcolor\": \"#E5ECF6\", \"polar\": {\"angularaxis\": {\"gridcolor\": \"white\", \"linecolor\": \"white\", \"ticks\": \"\"}, \"bgcolor\": \"#E5ECF6\", \"radialaxis\": {\"gridcolor\": \"white\", \"linecolor\": \"white\", \"ticks\": \"\"}}, \"scene\": {\"xaxis\": {\"backgroundcolor\": \"#E5ECF6\", \"gridcolor\": \"white\", \"gridwidth\": 2, \"linecolor\": \"white\", \"showbackground\": true, \"ticks\": \"\", \"zerolinecolor\": \"white\"}, \"yaxis\": {\"backgroundcolor\": \"#E5ECF6\", \"gridcolor\": \"white\", \"gridwidth\": 2, \"linecolor\": \"white\", \"showbackground\": true, \"ticks\": \"\", \"zerolinecolor\": \"white\"}, \"zaxis\": {\"backgroundcolor\": \"#E5ECF6\", \"gridcolor\": \"white\", \"gridwidth\": 2, \"linecolor\": \"white\", \"showbackground\": true, \"ticks\": \"\", \"zerolinecolor\": \"white\"}}, \"shapedefaults\": {\"line\": {\"color\": \"#2a3f5f\"}}, \"ternary\": {\"aaxis\": {\"gridcolor\": \"white\", \"linecolor\": \"white\", \"ticks\": \"\"}, \"baxis\": {\"gridcolor\": \"white\", \"linecolor\": \"white\", \"ticks\": \"\"}, \"bgcolor\": \"#E5ECF6\", \"caxis\": {\"gridcolor\": \"white\", \"linecolor\": \"white\", \"ticks\": \"\"}}, \"title\": {\"x\": 0.05}, \"xaxis\": {\"automargin\": true, \"gridcolor\": \"white\", \"linecolor\": \"white\", \"ticks\": \"\", \"title\": {\"standoff\": 15}, \"zerolinecolor\": \"white\", \"zerolinewidth\": 2}, \"yaxis\": {\"automargin\": true, \"gridcolor\": \"white\", \"linecolor\": \"white\", \"ticks\": \"\", \"title\": {\"standoff\": 15}, \"zerolinecolor\": \"white\", \"zerolinewidth\": 2}}}, \"xaxis\": {\"anchor\": \"y\", \"domain\": [0.0, 1.0], \"title\": {\"text\": \"index\"}}, \"yaxis\": {\"anchor\": \"x\", \"domain\": [0.0, 1.0], \"title\": {\"text\": \"ZRI\"}}},                        {\"responsive\": true}                    ).then(function(){\n",
       "                            \n",
       "var gd = document.getElementById('a388aa2a-8878-4b1b-9201-c6ac20dddb63');\n",
       "var x = new MutationObserver(function (mutations, observer) {{\n",
       "        var display = window.getComputedStyle(gd).display;\n",
       "        if (!display || display === 'none') {{\n",
       "            console.log([gd, 'removed!']);\n",
       "            Plotly.purge(gd);\n",
       "            observer.disconnect();\n",
       "        }}\n",
       "}});\n",
       "\n",
       "// Listen for the removal of the full notebook cells\n",
       "var notebookContainer = gd.closest('#notebook-container');\n",
       "if (notebookContainer) {{\n",
       "    x.observe(notebookContainer, {childList: true});\n",
       "}}\n",
       "\n",
       "// Listen for the clearing of the current output cell\n",
       "var outputEl = gd.closest('.output');\n",
       "if (outputEl) {{\n",
       "    x.observe(outputEl, {childList: true});\n",
       "}}\n",
       "\n",
       "                        })                };                });            </script>        </div>"
      ]
     },
     "metadata": {},
     "output_type": "display_data"
    }
   ],
   "source": [
    "fig = px.line(data_frame = , x = 'index',y = 'ZRI')\n",
    "fig.show()"
   ]
  },
  {
   "cell_type": "code",
   "execution_count": 59,
   "metadata": {},
   "outputs": [
    {
     "data": {
      "image/png": "[encoded data removed]",
      "text/plain": [
       "<Figure size 864x576 with 1 Axes>"
      ]
     },
     "metadata": {
      "needs_background": "light"
     },
     "output_type": "display_data"
    }
   ],
   "source": [
    "fig,ax = plt.subplots(figsize = (12,8))\n",
    "ax.set_size_inches = (30,30)\n",
    "sc.probplot(x= list(Boken['log_delta'])[1:], dist='norm', fit=True, plot=plt)\n",
    "plt.title(\"Normal QQ plot\")\n",
    "plt.show()"
   ]
  },
  {
   "cell_type": "code",
   "execution_count": 22,
   "metadata": {},
   "outputs": [],
   "source": [
    "Boken.loc[:,'ZRI'] = Boken['ZRI'].apply(lambda x: np.log(x))"
   ]
  },
  {
   "cell_type": "code",
   "execution_count": 98,
   "metadata": {},
   "outputs": [],
   "source": [
    "gas = pd.read_csv('../U.S._Regular_All_Formulations_Retail_Gasoline_Prices.csv')"
   ]
  },
  {
   "cell_type": "code",
   "execution_count": 99,
   "metadata": {},
   "outputs": [
    {
     "data": {
      "text/html": [
       "<div>\n",
       "<style scoped>\n",
       "    .dataframe tbody tr th:only-of-type {\n",
       "        vertical-align: middle;\n",
       "    }\n",
       "\n",
       "    .dataframe tbody tr th {\n",
       "        vertical-align: top;\n",
       "    }\n",
       "\n",
       "    .dataframe thead th {\n",
       "        text-align: right;\n",
       "    }\n",
       "</style>\n",
       "<table border=\"1\" class=\"dataframe\">\n",
       "  <thead>\n",
       "    <tr style=\"text-align: right;\">\n",
       "      <th></th>\n",
       "      <th>Month</th>\n",
       "      <th>U.S. Regular All Formulations Retail Gasoline Prices Dollars per Gallon</th>\n",
       "    </tr>\n",
       "  </thead>\n",
       "  <tbody>\n",
       "    <tr>\n",
       "      <th>0</th>\n",
       "      <td>Aug-21</td>\n",
       "      <td>3.158</td>\n",
       "    </tr>\n",
       "    <tr>\n",
       "      <th>1</th>\n",
       "      <td>Jul-21</td>\n",
       "      <td>3.136</td>\n",
       "    </tr>\n",
       "    <tr>\n",
       "      <th>2</th>\n",
       "      <td>Jun-21</td>\n",
       "      <td>3.064</td>\n",
       "    </tr>\n",
       "    <tr>\n",
       "      <th>3</th>\n",
       "      <td>May-21</td>\n",
       "      <td>2.985</td>\n",
       "    </tr>\n",
       "    <tr>\n",
       "      <th>4</th>\n",
       "      <td>Apr-21</td>\n",
       "      <td>2.858</td>\n",
       "    </tr>\n",
       "  </tbody>\n",
       "</table>\n",
       "</div>"
      ],
      "text/plain": [
       "    Month  \\\n",
       "0  Aug-21   \n",
       "1  Jul-21   \n",
       "2  Jun-21   \n",
       "3  May-21   \n",
       "4  Apr-21   \n",
       "\n",
       "   U.S. Regular All Formulations Retail Gasoline Prices Dollars per Gallon  \n",
       "0                                              3.158                        \n",
       "1                                              3.136                        \n",
       "2                                              3.064                        \n",
       "3                                              2.985                        \n",
       "4                                              2.858                        "
      ]
     },
     "execution_count": 99,
     "metadata": {},
     "output_type": "execute_result"
    }
   ],
   "source": [
    "gas.head()"
   ]
  },
  {
   "cell_type": "code",
   "execution_count": 106,
   "metadata": {},
   "outputs": [],
   "source": [
    "gas = gas.reset_index()"
   ]
  },
  {
   "cell_type": "code",
   "execution_count": 107,
   "metadata": {},
   "outputs": [
    {
     "data": {
      "application/vnd.plotly.v1+json": {
       "config": {
        "plotlyServerURL": "https://plot.ly"
       },
       "data": [
        {
         "hovertemplate": "Month=%{x}<br>U.S. Regular All Formulations Retail Gasoline Prices Dollars per Gallon=%{y}<extra></extra>",
         "legendgroup": "",
         "line": {
          "color": "#636efa",
          "dash": "solid"
         },
         "mode": "lines",
         "name": "",
         "orientation": "v",
         "showlegend": false,
         "type": "scatter",
         "x": [
          "Sep-90",
          "Oct-90",
          "Nov-90",
          "Dec-90",
          "Jan-91",
          "Feb-91",
          "Mar-91",
          "Apr-91",
          "May-91",
          "Jun-91",
          "Jul-91",
          "Aug-91",
          "Sep-91",
          "Oct-91",
          "Nov-91",
          "Dec-91",
          "Jan-92",
          "Feb-92",
          "Mar-92",
          "Apr-92",
          "May-92",
          "Jun-92",
          "Jul-92",
          "Aug-92",
          "Sep-92",
          "Oct-92",
          "Nov-92",
          "Dec-92",
          "Jan-93",
          "Feb-93",
          "Mar-93",
          "Apr-93",
          "May-93",
          "Jun-93",
          "Jul-93",
          "Aug-93",
          "Sep-93",
          "Oct-93",
          "Nov-93",
          "Dec-93",
          "Jan-94",
          "Feb-94",
          "Mar-94",
          "Apr-94",
          "May-94",
          "Jun-94",
          "Jul-94",
          "Aug-94",
          "Sep-94",
          "Oct-94",
          "Nov-94",
          "Dec-94",
          "Jan-95",
          "Feb-95",
          "Mar-95",
          "Apr-95",
          "May-95",
          "Jun-95",
          "Jul-95",
          "Aug-95",
          "Sep-95",
          "Oct-95",
          "Nov-95",
          "Dec-95",
          "Jan-96",
          "Feb-96",
          "Mar-96",
          "Apr-96",
          "May-96",
          "Jun-96",
          "Jul-96",
          "Aug-96",
          "Sep-96",
          "Oct-96",
          "Nov-96",
          "Dec-96",
          "Jan-97",
          "Feb-97",
          "Mar-97",
          "Apr-97",
          "May-97",
          "Jun-97",
          "Jul-97",
          "Aug-97",
          "Sep-97",
          "Oct-97",
          "Nov-97",
          "Dec-97",
          "Jan-98",
          "Feb-98",
          "Mar-98",
          "Apr-98",
          "May-98",
          "Jun-98",
          "Jul-98",
          "Aug-98",
          "Sep-98",
          "Oct-98",
          "Nov-98",
          "Dec-98",
          "Jan-99",
          "Feb-99",
          "Mar-99",
          "Apr-99",
          "May-99",
          "Jun-99",
          "Jul-99",
          "Aug-99",
          "Sep-99",
          "Oct-99",
          "Nov-99",
          "Dec-99",
          "Jan-00",
          "Feb-00",
          "Mar-00",
          "Apr-00",
          "May-00",
          "Jun-00",
          "Jul-00",
          "Aug-00",
          "Sep-00",
          "Oct-00",
          "Nov-00",
          "Dec-00",
          "Jan-01",
          "Feb-01",
          "Mar-01",
          "Apr-01",
          "May-01",
          "Jun-01",
          "Jul-01",
          "Aug-01",
          "Sep-01",
          "Oct-01",
          "Nov-01",
          "Dec-01",
          "Jan-02",
          "Feb-02",
          "Mar-02",
          "Apr-02",
          "May-02",
          "Jun-02",
          "Jul-02",
          "Aug-02",
          "Sep-02",
          "Oct-02",
          "Nov-02",
          "Dec-02",
          "Jan-03",
          "Feb-03",
          "Mar-03",
          "Apr-03",
          "May-03",
          "Jun-03",
          "Jul-03",
          "Aug-03",
          "Sep-03",
          "Oct-03",
          "Nov-03",
          "Dec-03",
          "Jan-04",
          "Feb-04",
          "Mar-04",
          "Apr-04",
          "May-04",
          "Jun-04",
          "Jul-04",
          "Aug-04",
          "Sep-04",
          "Oct-04",
          "Nov-04",
          "Dec-04",
          "Jan-05",
          "Feb-05",
          "Mar-05",
          "Apr-05",
          "May-05",
          "Jun-05",
          "Jul-05",
          "Aug-05",
          "Sep-05",
          "Oct-05",
          "Nov-05",
          "Dec-05",
          "Jan-06",
          "Feb-06",
          "Mar-06",
          "Apr-06",
          "May-06",
          "Jun-06",
          "Jul-06",
          "Aug-06",
          "Sep-06",
          "Oct-06",
          "Nov-06",
          "Dec-06",
          "Jan-07",
          "Feb-07",
          "Mar-07",
          "Apr-07",
          "May-07",
          "Jun-07",
          "Jul-07",
          "Aug-07",
          "Sep-07",
          "Oct-07",
          "Nov-07",
          "Dec-07",
          "Jan-08",
          "Feb-08",
          "Mar-08",
          "Apr-08",
          "May-08",
          "Jun-08",
          "Jul-08",
          "Aug-08",
          "Sep-08",
          "Oct-08",
          "Nov-08",
          "Dec-08",
          "Jan-09",
          "Feb-09",
          "Mar-09",
          "Apr-09",
          "May-09",
          "Jun-09",
          "Jul-09",
          "Aug-09",
          "Sep-09",
          "Oct-09",
          "Nov-09",
          "Dec-09",
          "Jan-10",
          "Feb-10",
          "Mar-10",
          "Apr-10",
          "May-10",
          "Jun-10",
          "Jul-10",
          "Aug-10",
          "Sep-10",
          "Oct-10",
          "Nov-10",
          "Dec-10",
          "Jan-11",
          "Feb-11",
          "Mar-11",
          "Apr-11",
          "May-11",
          "Jun-11",
          "Jul-11",
          "Aug-11",
          "Sep-11",
          "Oct-11",
          "Nov-11",
          "Dec-11",
          "Jan-12",
          "Feb-12",
          "Mar-12",
          "Apr-12",
          "May-12",
          "Jun-12",
          "Jul-12",
          "Aug-12",
          "Sep-12",
          "Oct-12",
          "Nov-12",
          "Dec-12",
          "Jan-13",
          "Feb-13",
          "Mar-13",
          "Apr-13",
          "May-13",
          "Jun-13",
          "Jul-13",
          "Aug-13",
          "Sep-13",
          "Oct-13",
          "Nov-13",
          "Dec-13",
          "Jan-14",
          "Feb-14",
          "Mar-14",
          "Apr-14",
          "May-14",
          "Jun-14",
          "Jul-14",
          "Aug-14",
          "Sep-14",
          "Oct-14",
          "Nov-14",
          "Dec-14",
          "Jan-15",
          "Feb-15",
          "Mar-15",
          "Apr-15",
          "May-15",
          "Jun-15",
          "Jul-15",
          "Aug-15",
          "Sep-15",
          "Oct-15",
          "Nov-15",
          "Dec-15",
          "Jan-16",
          "Feb-16",
          "Mar-16",
          "Apr-16",
          "May-16",
          "Jun-16",
          "Jul-16",
          "Aug-16",
          "Sep-16",
          "Oct-16",
          "Nov-16",
          "Dec-16",
          "Jan-17",
          "Feb-17",
          "Mar-17",
          "Apr-17",
          "May-17",
          "Jun-17",
          "Jul-17",
          "Aug-17",
          "Sep-17",
          "Oct-17",
          "Nov-17",
          "Dec-17",
          "Jan-18",
          "Feb-18",
          "Mar-18",
          "Apr-18",
          "May-18",
          "Jun-18",
          "Jul-18",
          "Aug-18",
          "Sep-18",
          "Oct-18",
          "Nov-18",
          "Dec-18",
          "Jan-19",
          "Feb-19",
          "Mar-19",
          "Apr-19",
          "May-19",
          "Jun-19",
          "Jul-19",
          "Aug-19",
          "Sep-19",
          "Oct-19",
          "Nov-19",
          "Dec-19",
          "Jan-20",
          "Feb-20",
          "Mar-20",
          "Apr-20",
          "May-20",
          "Jun-20",
          "Jul-20",
          "Aug-20",
          "Sep-20",
          "Oct-20",
          "Nov-20",
          "Dec-20",
          "Jan-21",
          "Feb-21",
          "Mar-21",
          "Apr-21",
          "May-21",
          "Jun-21",
          "Jul-21",
          "Aug-21"
         ],
         "xaxis": "x",
         "y": [
          1.258,
          1.335,
          1.324,
          null,
          null,
          1.094,
          1.04,
          1.0759999999999998,
          1.126,
          1.128,
          1.0959999999999999,
          1.115,
          1.109,
          1.088,
          1.099,
          1.0759999999999998,
          1.022,
          1.006,
          1.013,
          1.052,
          1.107,
          1.145,
          1.137,
          1.122,
          1.122,
          1.114,
          1.111,
          1.078,
          1.062,
          1.054,
          1.052,
          1.078,
          1.1,
          1.097,
          1.078,
          1.062,
          1.05,
          1.092,
          1.0659999999999998,
          1.014,
          0.998,
          1.0090000000000001,
          1.008,
          1.0270000000000001,
          1.047,
          1.078,
          1.1059999999999999,
          1.155,
          1.1440000000000001,
          1.114,
          1.1159999999999999,
          1.091,
          1.082,
          1.073,
          1.072,
          1.111,
          1.178,
          1.192,
          1.1540000000000001,
          1.123,
          1.111,
          1.087,
          1.062,
          1.071,
          1.09,
          1.089,
          1.137,
          1.2309999999999999,
          1.2790000000000001,
          1.256,
          1.227,
          1.207,
          1.202,
          1.204,
          1.232,
          1.235,
          1.236,
          1.23,
          1.205,
          1.199,
          1.2,
          1.198,
          1.1740000000000002,
          1.224,
          1.2309999999999999,
          1.197,
          1.171,
          1.131,
          1.0859999999999999,
          1.0490000000000002,
          1.0170000000000001,
          1.03,
          1.064,
          1.064,
          1.055,
          1.026,
          1.0090000000000001,
          1.0190000000000001,
          0.995,
          0.945,
          0.9390000000000001,
          0.9209999999999999,
          0.982,
          1.131,
          1.131,
          1.114,
          1.158,
          1.2209999999999999,
          1.256,
          1.244,
          1.251,
          1.273,
          1.2890000000000001,
          1.3769999999999998,
          1.516,
          1.465,
          1.4869999999999999,
          1.633,
          1.551,
          1.465,
          1.55,
          1.5319999999999998,
          1.517,
          1.443,
          1.4469999999999998,
          1.45,
          1.409,
          1.5519999999999998,
          1.702,
          1.6159999999999999,
          1.421,
          1.421,
          1.5219999999999998,
          1.315,
          1.171,
          1.0859999999999999,
          1.107,
          1.114,
          1.249,
          1.3969999999999998,
          1.392,
          1.382,
          1.3969999999999998,
          1.396,
          1.4,
          1.445,
          1.419,
          1.386,
          1.4580000000000002,
          1.6130000000000002,
          1.693,
          1.589,
          1.4969999999999999,
          1.493,
          1.5130000000000001,
          1.62,
          1.679,
          1.564,
          1.5119999999999998,
          1.479,
          1.5719999999999998,
          1.6480000000000001,
          1.736,
          1.798,
          1.983,
          1.969,
          1.911,
          1.8780000000000001,
          1.87,
          2,
          1.979,
          1.841,
          1.831,
          1.91,
          2.079,
          2.2430000000000003,
          2.161,
          2.156,
          2.29,
          2.4859999999999998,
          2.903,
          2.717,
          2.2569999999999997,
          2.185,
          2.316,
          2.28,
          2.425,
          2.742,
          2.907,
          2.885,
          2.9810000000000003,
          2.952,
          2.555,
          2.245,
          2.229,
          2.313,
          2.24,
          2.278,
          2.563,
          2.845,
          3.1460000000000004,
          3.056,
          2.965,
          2.786,
          2.803,
          2.803,
          3.08,
          3.0180000000000002,
          3.043,
          3.028,
          3.2439999999999998,
          3.458,
          3.766,
          4.053999999999999,
          4.062,
          3.779,
          3.7030000000000003,
          3.051,
          2.147,
          1.6869999999999998,
          1.788,
          1.923,
          1.959,
          2.049,
          2.266,
          2.6310000000000002,
          2.5269999999999997,
          2.616,
          2.5540000000000003,
          2.551,
          2.6510000000000002,
          2.6069999999999998,
          2.715,
          2.6439999999999997,
          2.772,
          2.8480000000000003,
          2.8360000000000003,
          2.7319999999999998,
          2.7289999999999996,
          2.73,
          2.705,
          2.801,
          2.859,
          2.9930000000000003,
          3.095,
          3.2110000000000003,
          3.5610000000000004,
          3.8,
          3.906,
          3.68,
          3.65,
          3.639,
          3.611,
          3.448,
          3.384,
          3.266,
          3.38,
          3.5789999999999997,
          3.852,
          3.9,
          3.7319999999999998,
          3.5389999999999997,
          3.4389999999999996,
          3.722,
          3.8489999999999998,
          3.7460000000000004,
          3.452,
          3.31,
          3.319,
          3.67,
          3.7110000000000003,
          3.57,
          3.615,
          3.6260000000000003,
          3.591,
          3.574,
          3.532,
          3.344,
          3.2430000000000003,
          3.2760000000000002,
          3.313,
          3.3560000000000003,
          3.533,
          3.661,
          3.673,
          3.6919999999999997,
          3.611,
          3.487,
          3.406,
          3.1710000000000003,
          2.912,
          2.543,
          2.116,
          2.2159999999999997,
          2.464,
          2.469,
          2.718,
          2.802,
          2.7939999999999996,
          2.636,
          2.365,
          2.29,
          2.158,
          2.0380000000000003,
          1.949,
          1.764,
          1.969,
          2.113,
          2.2680000000000002,
          2.366,
          2.239,
          2.178,
          2.219,
          2.249,
          2.182,
          2.254,
          2.349,
          2.3040000000000003,
          2.325,
          2.417,
          2.391,
          2.347,
          2.3,
          2.38,
          2.645,
          2.505,
          2.5639999999999996,
          2.477,
          2.555,
          2.5869999999999997,
          2.591,
          2.7569999999999997,
          2.9010000000000002,
          2.891,
          2.8489999999999998,
          2.8360000000000003,
          2.8360000000000003,
          2.86,
          2.647,
          2.366,
          2.248,
          2.309,
          2.516,
          2.798,
          2.859,
          2.716,
          2.74,
          2.6210000000000004,
          2.592,
          2.627,
          2.5980000000000003,
          2.555,
          2.548,
          2.4419999999999997,
          2.234,
          1.841,
          1.87,
          2.082,
          2.1830000000000003,
          2.182,
          2.1830000000000003,
          2.158,
          2.108,
          2.195,
          2.334,
          2.501,
          2.81,
          2.858,
          2.985,
          3.0639999999999996,
          3.136,
          3.158
         ],
         "yaxis": "y"
        }
       ],
       "layout": {
        "legend": {
         "tracegroupgap": 0
        },
        "margin": {
         "t": 60
        },
        "template": {
         "data": {
          "bar": [
           {
            "error_x": {
             "color": "#2a3f5f"
            },
            "error_y": {
             "color": "#2a3f5f"
            },
            "marker": {
             "line": {
              "color": "#E5ECF6",
              "width": 0.5
             }
            },
            "type": "bar"
           }
          ],
          "barpolar": [
           {
            "marker": {
             "line": {
              "color": "#E5ECF6",
              "width": 0.5
             }
            },
            "type": "barpolar"
           }
          ],
          "carpet": [
           {
            "aaxis": {
             "endlinecolor": "#2a3f5f",
             "gridcolor": "white",
             "linecolor": "white",
             "minorgridcolor": "white",
             "startlinecolor": "#2a3f5f"
            },
            "baxis": {
             "endlinecolor": "#2a3f5f",
             "gridcolor": "white",
             "linecolor": "white",
             "minorgridcolor": "white",
             "startlinecolor": "#2a3f5f"
            },
            "type": "carpet"
           }
          ],
          "choropleth": [
           {
            "colorbar": {
             "outlinewidth": 0,
             "ticks": ""
            },
            "type": "choropleth"
           }
          ],
          "contour": [
           {
            "colorbar": {
             "outlinewidth": 0,
             "ticks": ""
            },
            "colorscale": [
             [
              0,
              "#0d0887"
             ],
             [
              0.1111111111111111,
              "#46039f"
             ],
             [
              0.2222222222222222,
              "#7201a8"
             ],
             [
              0.3333333333333333,
              "#9c179e"
             ],
             [
              0.4444444444444444,
              "#bd3786"
             ],
             [
              0.5555555555555556,
              "#d8576b"
             ],
             [
              0.6666666666666666,
              "#ed7953"
             ],
             [
              0.7777777777777778,
              "#fb9f3a"
             ],
             [
              0.8888888888888888,
              "#fdca26"
             ],
             [
              1,
              "#f0f921"
             ]
            ],
            "type": "contour"
           }
          ],
          "contourcarpet": [
           {
            "colorbar": {
             "outlinewidth": 0,
             "ticks": ""
            },
            "type": "contourcarpet"
           }
          ],
          "heatmap": [
           {
            "colorbar": {
             "outlinewidth": 0,
             "ticks": ""
            },
            "colorscale": [
             [
              0,
              "#0d0887"
             ],
             [
              0.1111111111111111,
              "#46039f"
             ],
             [
              0.2222222222222222,
              "#7201a8"
             ],
             [
              0.3333333333333333,
              "#9c179e"
             ],
             [
              0.4444444444444444,
              "#bd3786"
             ],
             [
              0.5555555555555556,
              "#d8576b"
             ],
             [
              0.6666666666666666,
              "#ed7953"
             ],
             [
              0.7777777777777778,
              "#fb9f3a"
             ],
             [
              0.8888888888888888,
              "#fdca26"
             ],
             [
              1,
              "#f0f921"
             ]
            ],
            "type": "heatmap"
           }
          ],
          "heatmapgl": [
           {
            "colorbar": {
             "outlinewidth": 0,
             "ticks": ""
            },
            "colorscale": [
             [
              0,
              "#0d0887"
             ],
             [
              0.1111111111111111,
              "#46039f"
             ],
             [
              0.2222222222222222,
              "#7201a8"
             ],
             [
              0.3333333333333333,
              "#9c179e"
             ],
             [
              0.4444444444444444,
              "#bd3786"
             ],
             [
              0.5555555555555556,
              "#d8576b"
             ],
             [
              0.6666666666666666,
              "#ed7953"
             ],
             [
              0.7777777777777778,
              "#fb9f3a"
             ],
             [
              0.8888888888888888,
              "#fdca26"
             ],
             [
              1,
              "#f0f921"
             ]
            ],
            "type": "heatmapgl"
           }
          ],
          "histogram": [
           {
            "marker": {
             "colorbar": {
              "outlinewidth": 0,
              "ticks": ""
             }
            },
            "type": "histogram"
           }
          ],
          "histogram2d": [
           {
            "colorbar": {
             "outlinewidth": 0,
             "ticks": ""
            },
            "colorscale": [
             [
              0,
              "#0d0887"
             ],
             [
              0.1111111111111111,
              "#46039f"
             ],
             [
              0.2222222222222222,
              "#7201a8"
             ],
             [
              0.3333333333333333,
              "#9c179e"
             ],
             [
              0.4444444444444444,
              "#bd3786"
             ],
             [
              0.5555555555555556,
              "#d8576b"
             ],
             [
              0.6666666666666666,
              "#ed7953"
             ],
             [
              0.7777777777777778,
              "#fb9f3a"
             ],
             [
              0.8888888888888888,
              "#fdca26"
             ],
             [
              1,
              "#f0f921"
             ]
            ],
            "type": "histogram2d"
           }
          ],
          "histogram2dcontour": [
           {
            "colorbar": {
             "outlinewidth": 0,
             "ticks": ""
            },
            "colorscale": [
             [
              0,
              "#0d0887"
             ],
             [
              0.1111111111111111,
              "#46039f"
             ],
             [
              0.2222222222222222,
              "#7201a8"
             ],
             [
              0.3333333333333333,
              "#9c179e"
             ],
             [
              0.4444444444444444,
              "#bd3786"
             ],
             [
              0.5555555555555556,
              "#d8576b"
             ],
             [
              0.6666666666666666,
              "#ed7953"
             ],
             [
              0.7777777777777778,
              "#fb9f3a"
             ],
             [
              0.8888888888888888,
              "#fdca26"
             ],
             [
              1,
              "#f0f921"
             ]
            ],
            "type": "histogram2dcontour"
           }
          ],
          "mesh3d": [
           {
            "colorbar": {
             "outlinewidth": 0,
             "ticks": ""
            },
            "type": "mesh3d"
           }
          ],
          "parcoords": [
           {
            "line": {
             "colorbar": {
              "outlinewidth": 0,
              "ticks": ""
             }
            },
            "type": "parcoords"
           }
          ],
          "pie": [
           {
            "automargin": true,
            "type": "pie"
           }
          ],
          "scatter": [
           {
            "marker": {
             "colorbar": {
              "outlinewidth": 0,
              "ticks": ""
             }
            },
            "type": "scatter"
           }
          ],
          "scatter3d": [
           {
            "line": {
             "colorbar": {
              "outlinewidth": 0,
              "ticks": ""
             }
            },
            "marker": {
             "colorbar": {
              "outlinewidth": 0,
              "ticks": ""
             }
            },
            "type": "scatter3d"
           }
          ],
          "scattercarpet": [
           {
            "marker": {
             "colorbar": {
              "outlinewidth": 0,
              "ticks": ""
             }
            },
            "type": "scattercarpet"
           }
          ],
          "scattergeo": [
           {
            "marker": {
             "colorbar": {
              "outlinewidth": 0,
              "ticks": ""
             }
            },
            "type": "scattergeo"
           }
          ],
          "scattergl": [
           {
            "marker": {
             "colorbar": {
              "outlinewidth": 0,
              "ticks": ""
             }
            },
            "type": "scattergl"
           }
          ],
          "scattermapbox": [
           {
            "marker": {
             "colorbar": {
              "outlinewidth": 0,
              "ticks": ""
             }
            },
            "type": "scattermapbox"
           }
          ],
          "scatterpolar": [
           {
            "marker": {
             "colorbar": {
              "outlinewidth": 0,
              "ticks": ""
             }
            },
            "type": "scatterpolar"
           }
          ],
          "scatterpolargl": [
           {
            "marker": {
             "colorbar": {
              "outlinewidth": 0,
              "ticks": ""
             }
            },
            "type": "scatterpolargl"
           }
          ],
          "scatterternary": [
           {
            "marker": {
             "colorbar": {
              "outlinewidth": 0,
              "ticks": ""
             }
            },
            "type": "scatterternary"
           }
          ],
          "surface": [
           {
            "colorbar": {
             "outlinewidth": 0,
             "ticks": ""
            },
            "colorscale": [
             [
              0,
              "#0d0887"
             ],
             [
              0.1111111111111111,
              "#46039f"
             ],
             [
              0.2222222222222222,
              "#7201a8"
             ],
             [
              0.3333333333333333,
              "#9c179e"
             ],
             [
              0.4444444444444444,
              "#bd3786"
             ],
             [
              0.5555555555555556,
              "#d8576b"
             ],
             [
              0.6666666666666666,
              "#ed7953"
             ],
             [
              0.7777777777777778,
              "#fb9f3a"
             ],
             [
              0.8888888888888888,
              "#fdca26"
             ],
             [
              1,
              "#f0f921"
             ]
            ],
            "type": "surface"
           }
          ],
          "table": [
           {
            "cells": {
             "fill": {
              "color": "#EBF0F8"
             },
             "line": {
              "color": "white"
             }
            },
            "header": {
             "fill": {
              "color": "#C8D4E3"
             },
             "line": {
              "color": "white"
             }
            },
            "type": "table"
           }
          ]
         },
         "layout": {
          "annotationdefaults": {
           "arrowcolor": "#2a3f5f",
           "arrowhead": 0,
           "arrowwidth": 1
          },
          "autotypenumbers": "strict",
          "coloraxis": {
           "colorbar": {
            "outlinewidth": 0,
            "ticks": ""
           }
          },
          "colorscale": {
           "diverging": [
            [
             0,
             "#8e0152"
            ],
            [
             0.1,
             "#c51b7d"
            ],
            [
             0.2,
             "#de77ae"
            ],
            [
             0.3,
             "#f1b6da"
            ],
            [
             0.4,
             "#fde0ef"
            ],
            [
             0.5,
             "#f7f7f7"
            ],
            [
             0.6,
             "#e6f5d0"
            ],
            [
             0.7,
             "#b8e186"
            ],
            [
             0.8,
             "#7fbc41"
            ],
            [
             0.9,
             "#4d9221"
            ],
            [
             1,
             "#276419"
            ]
           ],
           "sequential": [
            [
             0,
             "#0d0887"
            ],
            [
             0.1111111111111111,
             "#46039f"
            ],
            [
             0.2222222222222222,
             "#7201a8"
            ],
            [
             0.3333333333333333,
             "#9c179e"
            ],
            [
             0.4444444444444444,
             "#bd3786"
            ],
            [
             0.5555555555555556,
             "#d8576b"
            ],
            [
             0.6666666666666666,
             "#ed7953"
            ],
            [
             0.7777777777777778,
             "#fb9f3a"
            ],
            [
             0.8888888888888888,
             "#fdca26"
            ],
            [
             1,
             "#f0f921"
            ]
           ],
           "sequentialminus": [
            [
             0,
             "#0d0887"
            ],
            [
             0.1111111111111111,
             "#46039f"
            ],
            [
             0.2222222222222222,
             "#7201a8"
            ],
            [
             0.3333333333333333,
             "#9c179e"
            ],
            [
             0.4444444444444444,
             "#bd3786"
            ],
            [
             0.5555555555555556,
             "#d8576b"
            ],
            [
             0.6666666666666666,
             "#ed7953"
            ],
            [
             0.7777777777777778,
             "#fb9f3a"
            ],
            [
             0.8888888888888888,
             "#fdca26"
            ],
            [
             1,
             "#f0f921"
            ]
           ]
          },
          "colorway": [
           "#636efa",
           "#EF553B",
           "#00cc96",
           "#ab63fa",
           "#FFA15A",
           "#19d3f3",
           "#FF6692",
           "#B6E880",
           "#FF97FF",
           "#FECB52"
          ],
          "font": {
           "color": "#2a3f5f"
          },
          "geo": {
           "bgcolor": "white",
           "lakecolor": "white",
           "landcolor": "#E5ECF6",
           "showlakes": true,
           "showland": true,
           "subunitcolor": "white"
          },
          "hoverlabel": {
           "align": "left"
          },
          "hovermode": "closest",
          "mapbox": {
           "style": "light"
          },
          "paper_bgcolor": "white",
          "plot_bgcolor": "#E5ECF6",
          "polar": {
           "angularaxis": {
            "gridcolor": "white",
            "linecolor": "white",
            "ticks": ""
           },
           "bgcolor": "#E5ECF6",
           "radialaxis": {
            "gridcolor": "white",
            "linecolor": "white",
            "ticks": ""
           }
          },
          "scene": {
           "xaxis": {
            "backgroundcolor": "#E5ECF6",
            "gridcolor": "white",
            "gridwidth": 2,
            "linecolor": "white",
            "showbackground": true,
            "ticks": "",
            "zerolinecolor": "white"
           },
           "yaxis": {
            "backgroundcolor": "#E5ECF6",
            "gridcolor": "white",
            "gridwidth": 2,
            "linecolor": "white",
            "showbackground": true,
            "ticks": "",
            "zerolinecolor": "white"
           },
           "zaxis": {
            "backgroundcolor": "#E5ECF6",
            "gridcolor": "white",
            "gridwidth": 2,
            "linecolor": "white",
            "showbackground": true,
            "ticks": "",
            "zerolinecolor": "white"
           }
          },
          "shapedefaults": {
           "line": {
            "color": "#2a3f5f"
           }
          },
          "ternary": {
           "aaxis": {
            "gridcolor": "white",
            "linecolor": "white",
            "ticks": ""
           },
           "baxis": {
            "gridcolor": "white",
            "linecolor": "white",
            "ticks": ""
           },
           "bgcolor": "#E5ECF6",
           "caxis": {
            "gridcolor": "white",
            "linecolor": "white",
            "ticks": ""
           }
          },
          "title": {
           "x": 0.05
          },
          "xaxis": {
           "automargin": true,
           "gridcolor": "white",
           "linecolor": "white",
           "ticks": "",
           "title": {
            "standoff": 15
           },
           "zerolinecolor": "white",
           "zerolinewidth": 2
          },
          "yaxis": {
           "automargin": true,
           "gridcolor": "white",
           "linecolor": "white",
           "ticks": "",
           "title": {
            "standoff": 15
           },
           "zerolinecolor": "white",
           "zerolinewidth": 2
          }
         }
        },
        "xaxis": {
         "anchor": "y",
         "domain": [
          0,
          1
         ],
         "title": {
          "text": "Month"
         }
        },
        "yaxis": {
         "anchor": "x",
         "domain": [
          0,
          1
         ],
         "title": {
          "text": "U.S. Regular All Formulations Retail Gasoline Prices Dollars per Gallon"
         }
        }
       }
      },
      "text/html": [
       "<div>                            <div id=\"c704ee18-b689-4128-8a86-bcc9d8ee5be6\" class=\"plotly-graph-div\" style=\"height:525px; width:100%;\"></div>            <script type=\"text/javascript\">                require([\"plotly\"], function(Plotly) {                    window.PLOTLYENV=window.PLOTLYENV || {};                                    if (document.getElementById(\"c704ee18-b689-4128-8a86-bcc9d8ee5be6\")) {                    Plotly.newPlot(                        \"c704ee18-b689-4128-8a86-bcc9d8ee5be6\",                        [{\"hovertemplate\": \"Month=%{x}<br>U.S. Regular All Formulations Retail Gasoline Prices Dollars per Gallon=%{y}<extra></extra>\", \"legendgroup\": \"\", \"line\": {\"color\": \"#636efa\", \"dash\": \"solid\"}, \"mode\": \"lines\", \"name\": \"\", \"orientation\": \"v\", \"showlegend\": false, \"type\": \"scatter\", \"x\": [\"Sep-90\", \"Oct-90\", \"Nov-90\", \"Dec-90\", \"Jan-91\", \"Feb-91\", \"Mar-91\", \"Apr-91\", \"May-91\", \"Jun-91\", \"Jul-91\", \"Aug-91\", \"Sep-91\", \"Oct-91\", \"Nov-91\", \"Dec-91\", \"Jan-92\", \"Feb-92\", \"Mar-92\", \"Apr-92\", \"May-92\", \"Jun-92\", \"Jul-92\", \"Aug-92\", \"Sep-92\", \"Oct-92\", \"Nov-92\", \"Dec-92\", \"Jan-93\", \"Feb-93\", \"Mar-93\", \"Apr-93\", \"May-93\", \"Jun-93\", \"Jul-93\", \"Aug-93\", \"Sep-93\", \"Oct-93\", \"Nov-93\", \"Dec-93\", \"Jan-94\", \"Feb-94\", \"Mar-94\", \"Apr-94\", \"May-94\", \"Jun-94\", \"Jul-94\", \"Aug-94\", \"Sep-94\", \"Oct-94\", \"Nov-94\", \"Dec-94\", \"Jan-95\", \"Feb-95\", \"Mar-95\", \"Apr-95\", \"May-95\", \"Jun-95\", \"Jul-95\", \"Aug-95\", \"Sep-95\", \"Oct-95\", \"Nov-95\", \"Dec-95\", \"Jan-96\", \"Feb-96\", \"Mar-96\", \"Apr-96\", \"May-96\", \"Jun-96\", \"Jul-96\", \"Aug-96\", \"Sep-96\", \"Oct-96\", \"Nov-96\", \"Dec-96\", \"Jan-97\", \"Feb-97\", \"Mar-97\", \"Apr-97\", \"May-97\", \"Jun-97\", \"Jul-97\", \"Aug-97\", \"Sep-97\", \"Oct-97\", \"Nov-97\", \"Dec-97\", \"Jan-98\", \"Feb-98\", \"Mar-98\", \"Apr-98\", \"May-98\", \"Jun-98\", \"Jul-98\", \"Aug-98\", \"Sep-98\", \"Oct-98\", \"Nov-98\", \"Dec-98\", \"Jan-99\", \"Feb-99\", \"Mar-99\", \"Apr-99\", \"May-99\", \"Jun-99\", \"Jul-99\", \"Aug-99\", \"Sep-99\", \"Oct-99\", \"Nov-99\", \"Dec-99\", \"Jan-00\", \"Feb-00\", \"Mar-00\", \"Apr-00\", \"May-00\", \"Jun-00\", \"Jul-00\", \"Aug-00\", \"Sep-00\", \"Oct-00\", \"Nov-00\", \"Dec-00\", \"Jan-01\", \"Feb-01\", \"Mar-01\", \"Apr-01\", \"May-01\", \"Jun-01\", \"Jul-01\", \"Aug-01\", \"Sep-01\", \"Oct-01\", \"Nov-01\", \"Dec-01\", \"Jan-02\", \"Feb-02\", \"Mar-02\", \"Apr-02\", \"May-02\", \"Jun-02\", \"Jul-02\", \"Aug-02\", \"Sep-02\", \"Oct-02\", \"Nov-02\", \"Dec-02\", \"Jan-03\", \"Feb-03\", \"Mar-03\", \"Apr-03\", \"May-03\", \"Jun-03\", \"Jul-03\", \"Aug-03\", \"Sep-03\", \"Oct-03\", \"Nov-03\", \"Dec-03\", \"Jan-04\", \"Feb-04\", \"Mar-04\", \"Apr-04\", \"May-04\", \"Jun-04\", \"Jul-04\", \"Aug-04\", \"Sep-04\", \"Oct-04\", \"Nov-04\", \"Dec-04\", \"Jan-05\", \"Feb-05\", \"Mar-05\", \"Apr-05\", \"May-05\", \"Jun-05\", \"Jul-05\", \"Aug-05\", \"Sep-05\", \"Oct-05\", \"Nov-05\", \"Dec-05\", \"Jan-06\", \"Feb-06\", \"Mar-06\", \"Apr-06\", \"May-06\", \"Jun-06\", \"Jul-06\", \"Aug-06\", \"Sep-06\", \"Oct-06\", \"Nov-06\", \"Dec-06\", \"Jan-07\", \"Feb-07\", \"Mar-07\", \"Apr-07\", \"May-07\", \"Jun-07\", \"Jul-07\", \"Aug-07\", \"Sep-07\", \"Oct-07\", \"Nov-07\", \"Dec-07\", \"Jan-08\", \"Feb-08\", \"Mar-08\", \"Apr-08\", \"May-08\", \"Jun-08\", \"Jul-08\", \"Aug-08\", \"Sep-08\", \"Oct-08\", \"Nov-08\", \"Dec-08\", \"Jan-09\", \"Feb-09\", \"Mar-09\", \"Apr-09\", \"May-09\", \"Jun-09\", \"Jul-09\", \"Aug-09\", \"Sep-09\", \"Oct-09\", \"Nov-09\", \"Dec-09\", \"Jan-10\", \"Feb-10\", \"Mar-10\", \"Apr-10\", \"May-10\", \"Jun-10\", \"Jul-10\", \"Aug-10\", \"Sep-10\", \"Oct-10\", \"Nov-10\", \"Dec-10\", \"Jan-11\", \"Feb-11\", \"Mar-11\", \"Apr-11\", \"May-11\", \"Jun-11\", \"Jul-11\", \"Aug-11\", \"Sep-11\", \"Oct-11\", \"Nov-11\", \"Dec-11\", \"Jan-12\", \"Feb-12\", \"Mar-12\", \"Apr-12\", \"May-12\", \"Jun-12\", \"Jul-12\", \"Aug-12\", \"Sep-12\", \"Oct-12\", \"Nov-12\", \"Dec-12\", \"Jan-13\", \"Feb-13\", \"Mar-13\", \"Apr-13\", \"May-13\", \"Jun-13\", \"Jul-13\", \"Aug-13\", \"Sep-13\", \"Oct-13\", \"Nov-13\", \"Dec-13\", \"Jan-14\", \"Feb-14\", \"Mar-14\", \"Apr-14\", \"May-14\", \"Jun-14\", \"Jul-14\", \"Aug-14\", \"Sep-14\", \"Oct-14\", \"Nov-14\", \"Dec-14\", \"Jan-15\", \"Feb-15\", \"Mar-15\", \"Apr-15\", \"May-15\", \"Jun-15\", \"Jul-15\", \"Aug-15\", \"Sep-15\", \"Oct-15\", \"Nov-15\", \"Dec-15\", \"Jan-16\", \"Feb-16\", \"Mar-16\", \"Apr-16\", \"May-16\", \"Jun-16\", \"Jul-16\", \"Aug-16\", \"Sep-16\", \"Oct-16\", \"Nov-16\", \"Dec-16\", \"Jan-17\", \"Feb-17\", \"Mar-17\", \"Apr-17\", \"May-17\", \"Jun-17\", \"Jul-17\", \"Aug-17\", \"Sep-17\", \"Oct-17\", \"Nov-17\", \"Dec-17\", \"Jan-18\", \"Feb-18\", \"Mar-18\", \"Apr-18\", \"May-18\", \"Jun-18\", \"Jul-18\", \"Aug-18\", \"Sep-18\", \"Oct-18\", \"Nov-18\", \"Dec-18\", \"Jan-19\", \"Feb-19\", \"Mar-19\", \"Apr-19\", \"May-19\", \"Jun-19\", \"Jul-19\", \"Aug-19\", \"Sep-19\", \"Oct-19\", \"Nov-19\", \"Dec-19\", \"Jan-20\", \"Feb-20\", \"Mar-20\", \"Apr-20\", \"May-20\", \"Jun-20\", \"Jul-20\", \"Aug-20\", \"Sep-20\", \"Oct-20\", \"Nov-20\", \"Dec-20\", \"Jan-21\", \"Feb-21\", \"Mar-21\", \"Apr-21\", \"May-21\", \"Jun-21\", \"Jul-21\", \"Aug-21\"], \"xaxis\": \"x\", \"y\": [1.258, 1.335, 1.324, null, null, 1.094, 1.04, 1.0759999999999998, 1.126, 1.128, 1.0959999999999999, 1.115, 1.109, 1.088, 1.099, 1.0759999999999998, 1.022, 1.006, 1.013, 1.052, 1.107, 1.145, 1.137, 1.122, 1.122, 1.114, 1.111, 1.078, 1.062, 1.054, 1.052, 1.078, 1.1, 1.097, 1.078, 1.062, 1.05, 1.092, 1.0659999999999998, 1.014, 0.998, 1.0090000000000001, 1.008, 1.0270000000000001, 1.047, 1.078, 1.1059999999999999, 1.155, 1.1440000000000001, 1.114, 1.1159999999999999, 1.091, 1.082, 1.073, 1.072, 1.111, 1.178, 1.192, 1.1540000000000001, 1.123, 1.111, 1.087, 1.062, 1.071, 1.09, 1.089, 1.137, 1.2309999999999999, 1.2790000000000001, 1.256, 1.227, 1.207, 1.202, 1.204, 1.232, 1.235, 1.236, 1.23, 1.205, 1.199, 1.2, 1.198, 1.1740000000000002, 1.224, 1.2309999999999999, 1.197, 1.171, 1.131, 1.0859999999999999, 1.0490000000000002, 1.0170000000000001, 1.03, 1.064, 1.064, 1.055, 1.026, 1.0090000000000001, 1.0190000000000001, 0.995, 0.945, 0.9390000000000001, 0.9209999999999999, 0.982, 1.131, 1.131, 1.114, 1.158, 1.2209999999999999, 1.256, 1.244, 1.251, 1.273, 1.2890000000000001, 1.3769999999999998, 1.516, 1.465, 1.4869999999999999, 1.633, 1.551, 1.465, 1.55, 1.5319999999999998, 1.517, 1.443, 1.4469999999999998, 1.45, 1.409, 1.5519999999999998, 1.702, 1.6159999999999999, 1.421, 1.421, 1.5219999999999998, 1.315, 1.171, 1.0859999999999999, 1.107, 1.114, 1.249, 1.3969999999999998, 1.392, 1.382, 1.3969999999999998, 1.396, 1.4, 1.445, 1.419, 1.386, 1.4580000000000002, 1.6130000000000002, 1.693, 1.589, 1.4969999999999999, 1.493, 1.5130000000000001, 1.62, 1.679, 1.564, 1.5119999999999998, 1.479, 1.5719999999999998, 1.6480000000000001, 1.736, 1.798, 1.983, 1.969, 1.911, 1.8780000000000001, 1.87, 2.0, 1.979, 1.841, 1.831, 1.91, 2.079, 2.2430000000000003, 2.161, 2.156, 2.29, 2.4859999999999998, 2.903, 2.717, 2.2569999999999997, 2.185, 2.316, 2.28, 2.425, 2.742, 2.907, 2.885, 2.9810000000000003, 2.952, 2.555, 2.245, 2.229, 2.313, 2.24, 2.278, 2.563, 2.845, 3.1460000000000004, 3.056, 2.965, 2.786, 2.803, 2.803, 3.08, 3.0180000000000002, 3.043, 3.028, 3.2439999999999998, 3.458, 3.766, 4.053999999999999, 4.062, 3.779, 3.7030000000000003, 3.051, 2.147, 1.6869999999999998, 1.788, 1.923, 1.959, 2.049, 2.266, 2.6310000000000002, 2.5269999999999997, 2.616, 2.5540000000000003, 2.551, 2.6510000000000002, 2.6069999999999998, 2.715, 2.6439999999999997, 2.772, 2.8480000000000003, 2.8360000000000003, 2.7319999999999998, 2.7289999999999996, 2.73, 2.705, 2.801, 2.859, 2.9930000000000003, 3.095, 3.2110000000000003, 3.5610000000000004, 3.8, 3.906, 3.68, 3.65, 3.639, 3.611, 3.448, 3.384, 3.266, 3.38, 3.5789999999999997, 3.852, 3.9, 3.7319999999999998, 3.5389999999999997, 3.4389999999999996, 3.722, 3.8489999999999998, 3.7460000000000004, 3.452, 3.31, 3.319, 3.67, 3.7110000000000003, 3.57, 3.615, 3.6260000000000003, 3.591, 3.574, 3.532, 3.344, 3.2430000000000003, 3.2760000000000002, 3.313, 3.3560000000000003, 3.533, 3.661, 3.673, 3.6919999999999997, 3.611, 3.487, 3.406, 3.1710000000000003, 2.912, 2.543, 2.116, 2.2159999999999997, 2.464, 2.469, 2.718, 2.802, 2.7939999999999996, 2.636, 2.365, 2.29, 2.158, 2.0380000000000003, 1.949, 1.764, 1.969, 2.113, 2.2680000000000002, 2.366, 2.239, 2.178, 2.219, 2.249, 2.182, 2.254, 2.349, 2.3040000000000003, 2.325, 2.417, 2.391, 2.347, 2.3, 2.38, 2.645, 2.505, 2.5639999999999996, 2.477, 2.555, 2.5869999999999997, 2.591, 2.7569999999999997, 2.9010000000000002, 2.891, 2.8489999999999998, 2.8360000000000003, 2.8360000000000003, 2.86, 2.647, 2.366, 2.248, 2.309, 2.516, 2.798, 2.859, 2.716, 2.74, 2.6210000000000004, 2.592, 2.627, 2.5980000000000003, 2.555, 2.548, 2.4419999999999997, 2.234, 1.841, 1.87, 2.082, 2.1830000000000003, 2.182, 2.1830000000000003, 2.158, 2.108, 2.195, 2.334, 2.501, 2.81, 2.858, 2.985, 3.0639999999999996, 3.136, 3.158], \"yaxis\": \"y\"}],                        {\"legend\": {\"tracegroupgap\": 0}, \"margin\": {\"t\": 60}, \"template\": {\"data\": {\"bar\": [{\"error_x\": {\"color\": \"#2a3f5f\"}, \"error_y\": {\"color\": \"#2a3f5f\"}, \"marker\": {\"line\": {\"color\": \"#E5ECF6\", \"width\": 0.5}}, \"type\": \"bar\"}], \"barpolar\": [{\"marker\": {\"line\": {\"color\": \"#E5ECF6\", \"width\": 0.5}}, \"type\": \"barpolar\"}], \"carpet\": [{\"aaxis\": {\"endlinecolor\": \"#2a3f5f\", \"gridcolor\": \"white\", \"linecolor\": \"white\", \"minorgridcolor\": \"white\", \"startlinecolor\": \"#2a3f5f\"}, \"baxis\": {\"endlinecolor\": \"#2a3f5f\", \"gridcolor\": \"white\", \"linecolor\": \"white\", \"minorgridcolor\": \"white\", \"startlinecolor\": \"#2a3f5f\"}, \"type\": \"carpet\"}], \"choropleth\": [{\"colorbar\": {\"outlinewidth\": 0, \"ticks\": \"\"}, \"type\": \"choropleth\"}], \"contour\": [{\"colorbar\": {\"outlinewidth\": 0, \"ticks\": \"\"}, \"colorscale\": [[0.0, \"#0d0887\"], [0.1111111111111111, \"#46039f\"], [0.2222222222222222, \"#7201a8\"], [0.3333333333333333, \"#9c179e\"], [0.4444444444444444, \"#bd3786\"], [0.5555555555555556, \"#d8576b\"], [0.6666666666666666, \"#ed7953\"], [0.7777777777777778, \"#fb9f3a\"], [0.8888888888888888, \"#fdca26\"], [1.0, \"#f0f921\"]], \"type\": \"contour\"}], \"contourcarpet\": [{\"colorbar\": {\"outlinewidth\": 0, \"ticks\": \"\"}, \"type\": \"contourcarpet\"}], \"heatmap\": [{\"colorbar\": {\"outlinewidth\": 0, \"ticks\": \"\"}, \"colorscale\": [[0.0, \"#0d0887\"], [0.1111111111111111, \"#46039f\"], [0.2222222222222222, \"#7201a8\"], [0.3333333333333333, \"#9c179e\"], [0.4444444444444444, \"#bd3786\"], [0.5555555555555556, \"#d8576b\"], [0.6666666666666666, \"#ed7953\"], [0.7777777777777778, \"#fb9f3a\"], [0.8888888888888888, \"#fdca26\"], [1.0, \"#f0f921\"]], \"type\": \"heatmap\"}], \"heatmapgl\": [{\"colorbar\": {\"outlinewidth\": 0, \"ticks\": \"\"}, \"colorscale\": [[0.0, \"#0d0887\"], [0.1111111111111111, \"#46039f\"], [0.2222222222222222, \"#7201a8\"], [0.3333333333333333, \"#9c179e\"], [0.4444444444444444, \"#bd3786\"], [0.5555555555555556, \"#d8576b\"], [0.6666666666666666, \"#ed7953\"], [0.7777777777777778, \"#fb9f3a\"], [0.8888888888888888, \"#fdca26\"], [1.0, \"#f0f921\"]], \"type\": \"heatmapgl\"}], \"histogram\": [{\"marker\": {\"colorbar\": {\"outlinewidth\": 0, \"ticks\": \"\"}}, \"type\": \"histogram\"}], \"histogram2d\": [{\"colorbar\": {\"outlinewidth\": 0, \"ticks\": \"\"}, \"colorscale\": [[0.0, \"#0d0887\"], [0.1111111111111111, \"#46039f\"], [0.2222222222222222, \"#7201a8\"], [0.3333333333333333, \"#9c179e\"], [0.4444444444444444, \"#bd3786\"], [0.5555555555555556, \"#d8576b\"], [0.6666666666666666, \"#ed7953\"], [0.7777777777777778, \"#fb9f3a\"], [0.8888888888888888, \"#fdca26\"], [1.0, \"#f0f921\"]], \"type\": \"histogram2d\"}], \"histogram2dcontour\": [{\"colorbar\": {\"outlinewidth\": 0, \"ticks\": \"\"}, \"colorscale\": [[0.0, \"#0d0887\"], [0.1111111111111111, \"#46039f\"], [0.2222222222222222, \"#7201a8\"], [0.3333333333333333, \"#9c179e\"], [0.4444444444444444, \"#bd3786\"], [0.5555555555555556, \"#d8576b\"], [0.6666666666666666, \"#ed7953\"], [0.7777777777777778, \"#fb9f3a\"], [0.8888888888888888, \"#fdca26\"], [1.0, \"#f0f921\"]], \"type\": \"histogram2dcontour\"}], \"mesh3d\": [{\"colorbar\": {\"outlinewidth\": 0, \"ticks\": \"\"}, \"type\": \"mesh3d\"}], \"parcoords\": [{\"line\": {\"colorbar\": {\"outlinewidth\": 0, \"ticks\": \"\"}}, \"type\": \"parcoords\"}], \"pie\": [{\"automargin\": true, \"type\": \"pie\"}], \"scatter\": [{\"marker\": {\"colorbar\": {\"outlinewidth\": 0, \"ticks\": \"\"}}, \"type\": \"scatter\"}], \"scatter3d\": [{\"line\": {\"colorbar\": {\"outlinewidth\": 0, \"ticks\": \"\"}}, \"marker\": {\"colorbar\": {\"outlinewidth\": 0, \"ticks\": \"\"}}, \"type\": \"scatter3d\"}], \"scattercarpet\": [{\"marker\": {\"colorbar\": {\"outlinewidth\": 0, \"ticks\": \"\"}}, \"type\": \"scattercarpet\"}], \"scattergeo\": [{\"marker\": {\"colorbar\": {\"outlinewidth\": 0, \"ticks\": \"\"}}, \"type\": \"scattergeo\"}], \"scattergl\": [{\"marker\": {\"colorbar\": {\"outlinewidth\": 0, \"ticks\": \"\"}}, \"type\": \"scattergl\"}], \"scattermapbox\": [{\"marker\": {\"colorbar\": {\"outlinewidth\": 0, \"ticks\": \"\"}}, \"type\": \"scattermapbox\"}], \"scatterpolar\": [{\"marker\": {\"colorbar\": {\"outlinewidth\": 0, \"ticks\": \"\"}}, \"type\": \"scatterpolar\"}], \"scatterpolargl\": [{\"marker\": {\"colorbar\": {\"outlinewidth\": 0, \"ticks\": \"\"}}, \"type\": \"scatterpolargl\"}], \"scatterternary\": [{\"marker\": {\"colorbar\": {\"outlinewidth\": 0, \"ticks\": \"\"}}, \"type\": \"scatterternary\"}], \"surface\": [{\"colorbar\": {\"outlinewidth\": 0, \"ticks\": \"\"}, \"colorscale\": [[0.0, \"#0d0887\"], [0.1111111111111111, \"#46039f\"], [0.2222222222222222, \"#7201a8\"], [0.3333333333333333, \"#9c179e\"], [0.4444444444444444, \"#bd3786\"], [0.5555555555555556, \"#d8576b\"], [0.6666666666666666, \"#ed7953\"], [0.7777777777777778, \"#fb9f3a\"], [0.8888888888888888, \"#fdca26\"], [1.0, \"#f0f921\"]], \"type\": \"surface\"}], \"table\": [{\"cells\": {\"fill\": {\"color\": \"#EBF0F8\"}, \"line\": {\"color\": \"white\"}}, \"header\": {\"fill\": {\"color\": \"#C8D4E3\"}, \"line\": {\"color\": \"white\"}}, \"type\": \"table\"}]}, \"layout\": {\"annotationdefaults\": {\"arrowcolor\": \"#2a3f5f\", \"arrowhead\": 0, \"arrowwidth\": 1}, \"autotypenumbers\": \"strict\", \"coloraxis\": {\"colorbar\": {\"outlinewidth\": 0, \"ticks\": \"\"}}, \"colorscale\": {\"diverging\": [[0, \"#8e0152\"], [0.1, \"#c51b7d\"], [0.2, \"#de77ae\"], [0.3, \"#f1b6da\"], [0.4, \"#fde0ef\"], [0.5, \"#f7f7f7\"], [0.6, \"#e6f5d0\"], [0.7, \"#b8e186\"], [0.8, \"#7fbc41\"], [0.9, \"#4d9221\"], [1, \"#276419\"]], \"sequential\": [[0.0, \"#0d0887\"], [0.1111111111111111, \"#46039f\"], [0.2222222222222222, \"#7201a8\"], [0.3333333333333333, \"#9c179e\"], [0.4444444444444444, \"#bd3786\"], [0.5555555555555556, \"#d8576b\"], [0.6666666666666666, \"#ed7953\"], [0.7777777777777778, \"#fb9f3a\"], [0.8888888888888888, \"#fdca26\"], [1.0, \"#f0f921\"]], \"sequentialminus\": [[0.0, \"#0d0887\"], [0.1111111111111111, \"#46039f\"], [0.2222222222222222, \"#7201a8\"], [0.3333333333333333, \"#9c179e\"], [0.4444444444444444, \"#bd3786\"], [0.5555555555555556, \"#d8576b\"], [0.6666666666666666, \"#ed7953\"], [0.7777777777777778, \"#fb9f3a\"], [0.8888888888888888, \"#fdca26\"], [1.0, \"#f0f921\"]]}, \"colorway\": [\"#636efa\", \"#EF553B\", \"#00cc96\", \"#ab63fa\", \"#FFA15A\", \"#19d3f3\", \"#FF6692\", \"#B6E880\", \"#FF97FF\", \"#FECB52\"], \"font\": {\"color\": \"#2a3f5f\"}, \"geo\": {\"bgcolor\": \"white\", \"lakecolor\": \"white\", \"landcolor\": \"#E5ECF6\", \"showlakes\": true, \"showland\": true, \"subunitcolor\": \"white\"}, \"hoverlabel\": {\"align\": \"left\"}, \"hovermode\": \"closest\", \"mapbox\": {\"style\": \"light\"}, \"paper_bgcolor\": \"white\", \"plot_bgcolor\": \"#E5ECF6\", \"polar\": {\"angularaxis\": {\"gridcolor\": \"white\", \"linecolor\": \"white\", \"ticks\": \"\"}, \"bgcolor\": \"#E5ECF6\", \"radialaxis\": {\"gridcolor\": \"white\", \"linecolor\": \"white\", \"ticks\": \"\"}}, \"scene\": {\"xaxis\": {\"backgroundcolor\": \"#E5ECF6\", \"gridcolor\": \"white\", \"gridwidth\": 2, \"linecolor\": \"white\", \"showbackground\": true, \"ticks\": \"\", \"zerolinecolor\": \"white\"}, \"yaxis\": {\"backgroundcolor\": \"#E5ECF6\", \"gridcolor\": \"white\", \"gridwidth\": 2, \"linecolor\": \"white\", \"showbackground\": true, \"ticks\": \"\", \"zerolinecolor\": \"white\"}, \"zaxis\": {\"backgroundcolor\": \"#E5ECF6\", \"gridcolor\": \"white\", \"gridwidth\": 2, \"linecolor\": \"white\", \"showbackground\": true, \"ticks\": \"\", \"zerolinecolor\": \"white\"}}, \"shapedefaults\": {\"line\": {\"color\": \"#2a3f5f\"}}, \"ternary\": {\"aaxis\": {\"gridcolor\": \"white\", \"linecolor\": \"white\", \"ticks\": \"\"}, \"baxis\": {\"gridcolor\": \"white\", \"linecolor\": \"white\", \"ticks\": \"\"}, \"bgcolor\": \"#E5ECF6\", \"caxis\": {\"gridcolor\": \"white\", \"linecolor\": \"white\", \"ticks\": \"\"}}, \"title\": {\"x\": 0.05}, \"xaxis\": {\"automargin\": true, \"gridcolor\": \"white\", \"linecolor\": \"white\", \"ticks\": \"\", \"title\": {\"standoff\": 15}, \"zerolinecolor\": \"white\", \"zerolinewidth\": 2}, \"yaxis\": {\"automargin\": true, \"gridcolor\": \"white\", \"linecolor\": \"white\", \"ticks\": \"\", \"title\": {\"standoff\": 15}, \"zerolinecolor\": \"white\", \"zerolinewidth\": 2}}}, \"xaxis\": {\"anchor\": \"y\", \"domain\": [0.0, 1.0], \"title\": {\"text\": \"Month\"}}, \"yaxis\": {\"anchor\": \"x\", \"domain\": [0.0, 1.0], \"title\": {\"text\": \"U.S. Regular All Formulations Retail Gasoline Prices Dollars per Gallon\"}}},                        {\"responsive\": true}                    ).then(function(){\n",
       "                            \n",
       "var gd = document.getElementById('c704ee18-b689-4128-8a86-bcc9d8ee5be6');\n",
       "var x = new MutationObserver(function (mutations, observer) {{\n",
       "        var display = window.getComputedStyle(gd).display;\n",
       "        if (!display || display === 'none') {{\n",
       "            console.log([gd, 'removed!']);\n",
       "            Plotly.purge(gd);\n",
       "            observer.disconnect();\n",
       "        }}\n",
       "}});\n",
       "\n",
       "// Listen for the removal of the full notebook cells\n",
       "var notebookContainer = gd.closest('#notebook-container');\n",
       "if (notebookContainer) {{\n",
       "    x.observe(notebookContainer, {childList: true});\n",
       "}}\n",
       "\n",
       "// Listen for the clearing of the current output cell\n",
       "var outputEl = gd.closest('.output');\n",
       "if (outputEl) {{\n",
       "    x.observe(outputEl, {childList: true});\n",
       "}}\n",
       "\n",
       "                        })                };                });            </script>        </div>"
      ]
     },
     "metadata": {},
     "output_type": "display_data"
    }
   ],
   "source": [
    "fig = px.line(data_frame = gas.sort_values(by = 'index', ascending = False), x = 'Month',y = 'U.S. Regular All Formulations Retail Gasoline Prices Dollars per Gallon')\n",
    "fig.show()"
   ]
  }
 ],
 "metadata": {
  "kernelspec": {
   "display_name": "Python 3",
   "language": "python",
   "name": "python3"
  },
  "language_info": {
   "codemirror_mode": {
    "name": "ipython",
    "version": 3
   },
   "file_extension": ".py",
   "mimetype": "text/x-python",
   "name": "python",
   "nbconvert_exporter": "python",
   "pygments_lexer": "ipython3",
   "version": "3.7.3"
  }
 },
 "nbformat": 4,
 "nbformat_minor": 2
}
