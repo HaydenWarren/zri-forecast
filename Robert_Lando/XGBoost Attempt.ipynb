{
 "cells": [
  {
   "cell_type": "code",
   "execution_count": 1,
   "metadata": {},
   "outputs": [],
   "source": [
    "import numpy as np\n",
    "import pandas as pd\n",
    "import matplotlib.pyplot as plt\n",
    "import seaborn as sns\n",
    "import plotly.express as px"
   ]
  },
  {
   "cell_type": "code",
   "execution_count": 15,
   "metadata": {},
   "outputs": [],
   "source": [
    "zori_diff_6 = pd.read_csv\\\n",
    "(r'C:\\Users\\robla\\Desktop\\nycdsa\\Capstone\\cleaned_data\\cleaned_data\\long_differenced_interpolated_target_6_month.csv',\n",
    " index_col = 0) \n",
    "\n",
    "zori_diff_6.loc[:,'Time'] = zori_diff_6['Time'].apply(lambda x: pd.to_datetime(x, format = '%Y-%m')) #converting time to datetime format\n",
    "\n",
    "zori_diff_12 = pd.read_csv\\\n",
    "(r'C:\\Users\\robla\\Desktop\\nycdsa\\Capstone\\cleaned_data\\cleaned_data\\long_differenced_interpolated_target_annual.csv',\n",
    " index_col = 0) \n",
    "\n",
    "zori_diff_12.loc[:,'Time'] = zori_diff_12['Time'].apply(lambda x: pd.to_datetime(x, format = '%Y-%m')) #converting time to datetime format\n",
    "\n",
    "############################################################################################## differenced zori\n",
    "\n",
    "zori_diff = pd.read_csv\\\n",
    "(r'C:\\Users\\robla\\Desktop\\nycdsa\\Capstone\\cleaned_data\\cleaned_data\\long_differenced_interpolated_target.csv',\n",
    " index_col = 0) \n",
    "\n",
    "zori_diff.loc[:,'Time'] = zori_diff['Time'].apply(lambda x: pd.to_datetime(x, format = '%Y-%m')) #converting time to datetime format\n",
    "\n",
    "############################################################################################## zori\n",
    "\n",
    "zori = pd.read_csv\\\n",
    "(r'C:\\Users\\robla\\Desktop\\nycdsa\\Capstone\\cleaned_data\\cleaned_data\\long_interpolated_target.csv',\n",
    " index_col = 0)\n",
    "\n",
    "\n",
    "zori.loc[:,'Time'] = zori['Time'].apply(lambda x: pd.to_datetime(x, format = '%Y-%m')) #converting time to datetime format\n",
    "\n",
    "\n",
    "\n",
    "############################################################################################## acs\n",
    "\n",
    "\n",
    "acs = pd.read_csv\\\n",
    "(r'C:\\Users\\robla\\Desktop\\nycdsa\\Capstone\\cleaned_data\\cleaned_data\\merged_acs_data.csv',\n",
    " index_col = 0)\n",
    "\n",
    "############################################################################################## city unemployment rates\n",
    "\n",
    "unemployment_rates = pd.read_csv\\\n",
    "(r'C:\\Users\\robla\\Desktop\\nycdsa\\Capstone\\cleaned_data\\cleaned_data\\city_unemployment_rates.csv',\n",
    " index_col = 0) \n",
    "\n",
    "unemployment_rates.loc[:,'Time'] = unemployment_rates['Time'].apply(lambda x: pd.to_datetime(x, format = '%Y-%m')) #converting time to datetime format\n",
    "\n",
    "############################################################################################## spc housing index\n",
    "\n",
    "sap_case = pd.read_csv\\\n",
    "(r'C:\\Users\\robla\\Desktop\\nycdsa\\Capstone\\cleaned_data\\cleaned_data\\sap_case_shiller.csv',\n",
    " index_col = 0)\n",
    "\n",
    "sap_case.loc[:,'Time'] = sap_case['Time'].apply(lambda x: pd.to_datetime(x, format = '%Y-%m')) #converting time to datetime format\n",
    "\n",
    "############################################################################################## ten year note\n",
    "\n",
    "tnx = pd.read_csv\\\n",
    "(r'C:\\Users\\robla\\Desktop\\nycdsa\\Capstone\\cleaned_data\\cleaned_data\\monthly_tnx.csv',\n",
    " index_col = 0)\n",
    "\n",
    "tnx.loc[:,'Time'] = tnx['Time'].apply(lambda x: pd.to_datetime(x, format = '%Y-%m')) #converting time to datetime format\n",
    "\n",
    "############################################################################################## state monthly gas prices \n",
    "\n",
    "monthly_gas = pd.read_csv\\\n",
    "(r'C:\\Users\\robla\\Desktop\\nycdsa\\Capstone\\cleaned_data\\cleaned_data\\monthly_avg_gas_prices.csv',\n",
    " index_col = 0)\n",
    "\n",
    "\n",
    "monthly_gas.loc[:,'Time'] = monthly_gas['Time'].apply(lambda x: pd.to_datetime(x, format = '%Y-%m')) #converting time to datetime format\n",
    "\n",
    "############################################################################################## weather\n",
    "\n",
    "weather = pd.read_csv\\\n",
    "(r'C:\\Users\\robla\\Desktop\\nycdsa\\Capstone\\cleaned_data\\cleaned_data\\weather.csv',\n",
    " index_col = 0)\n",
    "\n",
    "# weather.rename(columns = {'date_time':'Time','zip':'zip_code'},inplace = True)\n",
    "\n",
    "\n",
    "# weather.loc[:,'Time'] = weather['Time'].apply(lambda x: pd.to_datetime(x, format = '%Y-%m')) #converting time to datetime format\n",
    "\n",
    "############################################################################################## key econ\n",
    "\n",
    "key_econ = pd.read_csv\\\n",
    "(r'C:\\Users\\robla\\Desktop\\nycdsa\\Capstone\\cleaned_data\\cleaned_data\\key_econ.csv',index_col = 0)#,parse_dates= {'Time':['Month', 'Year']})\n",
    "\n",
    "#key_econ.loc[:,'Time'] = key_econ['Time'].apply(lambda x: pd.to_datetime(x, format = '%Y-%m')) #converting time to datetime format\n",
    "\n",
    "############################################################################################## poll_clean\n",
    "\n",
    "poll = pd.read_csv\\\n",
    "(r'C:\\Users\\robla\\Desktop\\nycdsa\\Capstone\\cleaned_data\\cleaned_data\\poll_clean.csv',\n",
    " index_col = 0)#.drop(['month','year'], axis = 1)\n",
    "\n",
    "# poll.rename(columns = {'date':'Time','zip_codes':'zip_code'},inplace = True)\n",
    "\n",
    "# poll.loc[:,'Time'] = poll['Time'].apply(lambda x: pd.to_datetime(x, format = '%Y-%m')) #converting time to datetime format\n",
    "\n",
    "############################################################################################## new biz outlet !\n",
    "\n",
    "new_biz_out = pd.read_csv\\\n",
    "(r'C:\\Users\\robla\\Desktop\\nycdsa\\Capstone\\cleaned_data\\cleaned_data\\new_biz_outlet.csv',index_col = 0)#,\n",
    " #index_col = 1,parse_dates= {'Time':['month', 'year']})\n",
    "\n",
    "#new_biz_out.loc[:,'Time'] = new_biz_out['Time'].apply(lambda x: pd.to_datetime(x, format = '%Y-%m')) #converting time to datetime format\n",
    "\n",
    "############################################################################################## covid_clean\n",
    "\n",
    "covid = pd.read_csv\\\n",
    "(r'C:\\Users\\robla\\Desktop\\nycdsa\\Capstone\\cleaned_data\\cleaned_data\\covid_clean.csv',\n",
    " index_col = 0)#,parse_dates= {'Time':['month', 'year']})\n",
    "\n",
    "# covid.loc[:,'Time'] = covid['Time'].apply(lambda x: pd.to_datetime(x, format = '%Y-%m')) #converting time to datetime format\n",
    "\n",
    "############################################################################################## env_violation\n",
    "env_vio = pd.read_csv\\\n",
    "(r'C:\\Users\\robla\\Desktop\\nycdsa\\Capstone\\cleaned_data\\cleaned_data\\env_violation.csv',\n",
    " index_col = 0)\n",
    "\n",
    "#env_vio.rename(columns = {'date':'Time','zip':'zip_code'},inplace = True)\n",
    "\n",
    "#env_vio.loc[:,'Time'] = env_vio['Time'].apply(lambda x: pd.to_datetime(x, format = '%Y-%m')) #converting time to datetime format\n",
    "\n",
    "############################################################################################## new_biz_taxpayer\n",
    "\n",
    "new_biz_taxpayer = pd.read_csv\\\n",
    "(r'C:\\Users\\robla\\Desktop\\nycdsa\\Capstone\\cleaned_data\\cleaned_data\\new_biz_taxpayer.csv',index_col = 0)#,\n",
    " #index_col = 1,parse_dates= {'Time':['month', 'year']})\n",
    "\n",
    "#new_biz_taxpayer.loc[:,'Time'] = new_biz_taxpayer['Time'].apply(lambda x: pd.to_datetime(x, format = '%Y-%m')) #converting time to datetime format\n",
    "\n",
    "############################################################################################## sales_tax_allocation \n",
    "\n",
    "sales_tax_alloc = pd.read_csv\\\n",
    "(r'C:\\Users\\robla\\Desktop\\nycdsa\\Capstone\\cleaned_data\\cleaned_data\\sales_tax_allocation.csv',\n",
    " index_col = 0)#,parse_dates= {'Time':['month', 'year']})\n",
    "\n",
    "#sales_tax_alloc.loc[:,'Time'] = sales_tax_alloc['Time'].apply(lambda x: pd.to_datetime(x, format = '%Y-%m')) #converting time to datetime format\n",
    "\n",
    "rent_search = pd.read_csv\\\n",
    "(r'C:\\Users\\robla\\Desktop\\nycdsa\\Capstone\\cleaned_data\\cleaned_data\\rent_search_trend.csv',\n",
    " index_col = 0)\n",
    "\n",
    "real_dispos = pd.read_csv\\\n",
    "(r'C:\\Users\\robla\\Desktop\\nycdsa\\Capstone\\cleaned_data\\cleaned_data\\real_dispos.csv',\n",
    " index_col = 0)"
   ]
  },
  {
   "cell_type": "code",
   "execution_count": 16,
   "metadata": {},
   "outputs": [
    {
     "name": "stdout",
     "output_type": "stream",
     "text": [
      "(19565, 3) Index(['Time', 'zip_code', 'zori_ssa'], dtype='object') \n",
      "\n",
      "(19565, 3) Index(['Time', 'zip_code', 'delta_zori_ssa'], dtype='object') \n",
      "\n",
      "(19565, 3) Index(['Time', 'zip_code', 'delta_zori_ssa_6'], dtype='object') \n",
      "\n",
      "(19565, 3) Index(['Time', 'zip_code', 'delta_zori_ssa_12'], dtype='object') \n",
      "\n",
      "(22360, 7) Index(['Time', 'zip_code', 'sales_tax_rate', 'total_sales_tax',\n",
      "       'total_sales_tax_last_year', 'per_diff_total_sales_tax', 'city'],\n",
      "      dtype='object') \n",
      "\n",
      "(24940, 11) Index(['Time', 'zip_code', 'taxpayer_count', 'taxpayer_org_type_cl',\n",
      "       'taxpayer_org_type_is', 'taxpayer_org_type_foreign',\n",
      "       'payer_outlet_same_zipcode', 'taxpayer_same_zip_ratio',\n",
      "       'taxpayer_cl_ratio', 'taxpayer_is_ratio', 'taxpayer_foreign_ratio'],\n",
      "      dtype='object') \n",
      "\n",
      "(24940, 11) Index(['Time', 'zip_code', 'outlet_count', 'outlet_taxpayer_non_tx',\n",
      "       'outlet_org_type_cl', 'outlet_org_type_is', 'outlet_org_type_foreign',\n",
      "       'outlet_non_tx_ratio', 'outlet_cl_ratio', 'outlet_is_ratio',\n",
      "       'outlet_foreign_ratio'],\n",
      "      dtype='object') \n",
      "\n",
      "(24940, 5) Index(['Time', 'zip_code', 'county', 'fatalities', 'caseCount'], dtype='object') \n",
      "\n",
      "(24940, 3) Index(['Time', 'zip_code', 'env_violation_count'], dtype='object') \n",
      "\n",
      "(27305, 10) Index(['Time', 'tx_is_a_lot_better', 'tx_is_a_little_better', 'tx_is_abt_same',\n",
      "       'tx_is_a_little_worse', 'tx_is_a_lot_worse', 'tx_is_dont_know',\n",
      "       'tx_is_better', 'tx_is_worse', 'zip_code'],\n",
      "      dtype='object') \n",
      "\n",
      "(24940, 29) Index(['Time', 'zip_code', 'Consumer Confidence Index TX',\n",
      "       'Consumer Confidence West South Central',\n",
      "       'Consumer Confidence Index US', 'Consumer Price Index TX',\n",
      "       'Consumer Price Index U.S.', 'Nonfarm Employment TX',\n",
      "       'Nonfarm Employment U.S.', 'Unemployment TX', 'Unemployment U.S.',\n",
      "       'Single Family Building Permits TX', 'Multi Family Building Permits TX',\n",
      "       'Existing Single Family Home Sales TX',\n",
      "       'Existing Single Family Home Price TX',\n",
      "       'Non Residential Building Construction',\n",
      "       'Total Sales Tax Collections Retail TX',\n",
      "       'Total Sales Tax Collections TX', 'Retail Gasoline Price TX',\n",
      "       'Retail Diesel Price TX', 'Nonfarm Employment Illinois',\n",
      "       'Nonfarm Employment Florida', 'Nonfarm Employment New York',\n",
      "       'Nonfarm Employment Texas', 'Nonfarm Employment California',\n",
      "       'Gross Value Crude Oil Production',\n",
      "       'Gross Value Natural Gas Production', 'Motor Fuel Taxed Gasoline',\n",
      "       'Motor Fuel Taxed Diesel'],\n",
      "      dtype='object') \n",
      "\n",
      "(24940, 5) Index(['Time', 'zip_code', 'mintempC', 'maxtempC', 'precipMM'], dtype='object') \n",
      "\n",
      "(26015, 5) Index(['Time', 'ur', 'metro', 'delta_ur', 'zip_code'], dtype='object') \n",
      "\n",
      "(26015, 6) Index(['metro', 'zip_code', 'State', 'Time', 'sap_case_shiller_index',\n",
      "       'delta_sap_case_shiller_index'],\n",
      "      dtype='object') \n",
      "\n",
      "(23112, 84) Index(['zip_code', 'white_pop', 'black_pop', 'hispanic_pop',\n",
      "       'female_female_households', 'children', 'high_school_diploma',\n",
      "       'armed_forces', 'Time', 'driving_alone_population',\n",
      "       'housing_units_built_1940_to_1949', 'female_45_to_49',\n",
      "       'female_75_to_79', 'motorcycle_population',\n",
      "       'housing_units_built_1950_to_1959', 'bicycle_population',\n",
      "       'quintile_4_upper_limit', 'quintile_3_upper_limit',\n",
      "       'housing_units_10_to_19_units', 'housing_units_built_1970_to_1979',\n",
      "       'median_household_income', 'women_with_doctoral_degree', 'female_21',\n",
      "       'female_50_to_54', 'housing_units_built_1980_to_1989',\n",
      "       'housing_units_built_1930_to_1939', 'female_35_to_39',\n",
      "       'units_paying_cash_rent', 'housing_units_single_family_attached',\n",
      "       'housing_units_20_to_49_units', 'female_25_to_29',\n",
      "       'walking_to_work_population', 'men_with_bachelors_degree',\n",
      "       'quintile_1_upper_limit', 'quintile_2_upper_limit',\n",
      "       'women_with_associate_degree', 'female_40_to_44',\n",
      "       'average_household_size_owners', 'female_30_to_34',\n",
      "       'housing_units_5_to_9_units', 'single_women',\n",
      "       'housing_units_built_1990_to_1999',\n",
      "       'housing_units_single_family_attached_owned',\n",
      "       'housing_units_over_50_units', 'housing_units_built_1960_to_1969',\n",
      "       'white_pop_annual_pct_change', 'black_pop_annual_pct_change',\n",
      "       'hispanic_pop_annual_pct_change', 'children_annual_pct_change',\n",
      "       'high_school_diploma_annual_pct_change',\n",
      "       'driving_alone_population_annual_pct_change',\n",
      "       'housing_units_built_1940_to_1949_annual_pct_change',\n",
      "       'female_45_to_49_annual_pct_change',\n",
      "       'female_75_to_79_annual_pct_change',\n",
      "       'housing_units_built_1950_to_1959_annual_pct_change',\n",
      "       'quintile_4_upper_limit_annual_pct_change',\n",
      "       'quintile_3_upper_limit_annual_pct_change',\n",
      "       'housing_units_10_to_19_units_annual_pct_change',\n",
      "       'housing_units_built_1970_to_1979_annual_pct_change',\n",
      "       'median_household_income_annual_pct_change',\n",
      "       'women_with_doctoral_degree_annual_pct_change',\n",
      "       'female_21_annual_pct_change', 'female_50_to_54_annual_pct_change',\n",
      "       'housing_units_built_1980_to_1989_annual_pct_change',\n",
      "       'housing_units_built_1930_to_1939_annual_pct_change',\n",
      "       'female_35_to_39_annual_pct_change',\n",
      "       'units_paying_cash_rent_annual_pct_change',\n",
      "       'housing_units_single_family_attached_annual_pct_change',\n",
      "       'housing_units_20_to_49_units_annual_pct_change',\n",
      "       'female_25_to_29_annual_pct_change',\n",
      "       'walking_to_work_population_annual_pct_change',\n",
      "       'men_with_bachelors_degree_annual_pct_change',\n",
      "       'quintile_1_upper_limit_annual_pct_change',\n",
      "       'quintile_2_upper_limit_annual_pct_change',\n",
      "       'women_with_associate_degree_annual_pct_change',\n",
      "       'female_40_to_44_annual_pct_change',\n",
      "       'average_household_size_owners_annual_pct_change',\n",
      "       'female_30_to_34_annual_pct_change',\n",
      "       'housing_units_5_to_9_units_annual_pct_change',\n",
      "       'single_women_annual_pct_change',\n",
      "       'housing_units_built_1990_to_1999_annual_pct_change',\n",
      "       'housing_units_single_family_attached_owned_annual_pct_change',\n",
      "       'housing_units_over_50_units_annual_pct_change',\n",
      "       'housing_units_built_1960_to_1969_annual_pct_change'],\n",
      "      dtype='object') \n",
      "\n",
      "(30100, 6) Index(['metro', 'zip_code', 'State', 'Time', 'TNX', 'delta_TNX'], dtype='object') \n",
      "\n",
      "(54825, 6) Index(['Time', 'monthly_avg_gas_price', 'delta_monthly_avg_gas_price', 'State',\n",
      "       'metro', 'zip_code'],\n",
      "      dtype='object') \n",
      "\n",
      "(18705, 4) Index(['Time', 'rent_search_interest', 'rent_search_4_period_rsi', 'zip_code'], dtype='object') \n",
      "\n",
      "(19565, 3) Index(['zip_code', 'Time', 'real_disposable_income_per_capita'], dtype='object') \n",
      "\n"
     ]
    }
   ],
   "source": [
    "print(zori.shape,zori.columns,'\\n')\n",
    "print(zori_diff.shape,zori_diff.columns,'\\n')\n",
    "print(zori_diff_6.shape,zori_diff_6.columns,'\\n')\n",
    "print(zori_diff_12.shape,zori_diff_12.columns,'\\n')\n",
    "print(sales_tax_alloc.shape,sales_tax_alloc.columns,'\\n')\n",
    "print(new_biz_taxpayer.shape,new_biz_taxpayer.columns,'\\n')\n",
    "print(new_biz_out.shape,new_biz_out.columns,'\\n')\n",
    "print(covid.shape,covid.columns,'\\n')\n",
    "print(env_vio.shape,env_vio.columns,'\\n')\n",
    "print(poll.shape,poll.columns,'\\n')\n",
    "print(key_econ.shape,key_econ.columns,'\\n')\n",
    "print(weather.shape,weather.columns,'\\n')\n",
    "print(unemployment_rates.shape,unemployment_rates.columns,'\\n')\n",
    "print(sap_case.shape,sap_case.columns,'\\n')\n",
    "print(acs.shape,acs.columns,'\\n')\n",
    "print(tnx.shape,tnx.columns,'\\n')\n",
    "print(monthly_gas.shape,monthly_gas.columns,'\\n')\n",
    "print(rent_search.shape,rent_search.columns,'\\n')\n",
    "print(real_dispos.shape,real_dispos.columns,'\\n')"
   ]
  },
  {
   "cell_type": "code",
   "execution_count": 17,
   "metadata": {},
   "outputs": [
    {
     "data": {
      "text/plain": [
       "[16, 14, 9, 13, 12, 5, 6, 7, 8, 10, 11, 15, 4, 0, 1, 3, 2, 17]"
      ]
     },
     "execution_count": 17,
     "metadata": {},
     "output_type": "execute_result"
    }
   ],
   "source": [
    "##############################################################################################\n",
    "\n",
    "dfs = [zori,zori_diff,zori_diff_6,zori_diff_12,\n",
    "       sales_tax_alloc,new_biz_taxpayer,new_biz_out,\n",
    "       covid,env_vio,poll,key_econ,weather,\n",
    "       unemployment_rates,sap_case,tnx,acs,monthly_gas,\n",
    "       rent_search] \n",
    "\n",
    "df_names = ['zori','zori_diff','zori_diff_6','zori_diff_12',\n",
    "            'sales_tax_alloc','new_biz_taxpayer','new_biz_out',\n",
    "            'covid','env_vio','poll','key_econ','weather',\n",
    "            'unemployment_rates','sap_case','tnx','acs','monthly_gas',\n",
    "            'rent_search']\n",
    "\n",
    "# Finding order to left merge everything\n",
    "\n",
    "row_counts = [df.shape[0] for df in dfs]\n",
    "row_counts = pd.DataFrame(list(enumerate(row_counts))).sort_values(by = 1, ascending = False)\n",
    "merge_index_order = list(row_counts[0])\n",
    "merge_index_order"
   ]
  },
  {
   "cell_type": "code",
   "execution_count": 18,
   "metadata": {
    "scrolled": false
   },
   "outputs": [
    {
     "name": "stdout",
     "output_type": "stream",
     "text": [
      "\n",
      " ########## zori ################\n",
      " \n",
      " Time        datetime64[ns]\n",
      "zip_code             int64\n",
      "zori_ssa           float64\n",
      "dtype: object\n",
      "\n",
      " ########## zori_diff ################\n",
      " \n",
      " Time              datetime64[ns]\n",
      "zip_code                   int64\n",
      "delta_zori_ssa           float64\n",
      "dtype: object\n",
      "\n",
      " ########## zori_diff_6 ################\n",
      " \n",
      " Time                datetime64[ns]\n",
      "zip_code                     int64\n",
      "delta_zori_ssa_6           float64\n",
      "dtype: object\n",
      "\n",
      " ########## zori_diff_12 ################\n",
      " \n",
      " Time                 datetime64[ns]\n",
      "zip_code                      int64\n",
      "delta_zori_ssa_12           float64\n",
      "dtype: object\n",
      "\n",
      " ########## sales_tax_alloc ################\n",
      " \n",
      " Time                         datetime64[ns]\n",
      "zip_code                              int64\n",
      "sales_tax_rate                      float64\n",
      "total_sales_tax                     float64\n",
      "total_sales_tax_last_year           float64\n",
      "per_diff_total_sales_tax            float64\n",
      "city                                 object\n",
      "dtype: object\n",
      "\n",
      " ########## new_biz_taxpayer ################\n",
      " \n",
      " Time                         datetime64[ns]\n",
      "zip_code                              int64\n",
      "taxpayer_count                      float64\n",
      "taxpayer_org_type_cl                float64\n",
      "taxpayer_org_type_is                float64\n",
      "taxpayer_org_type_foreign           float64\n",
      "payer_outlet_same_zipcode           float64\n",
      "taxpayer_same_zip_ratio             float64\n",
      "taxpayer_cl_ratio                   float64\n",
      "taxpayer_is_ratio                   float64\n",
      "taxpayer_foreign_ratio              float64\n",
      "dtype: object\n",
      "\n",
      " ########## new_biz_out ################\n",
      " \n",
      " Time                       datetime64[ns]\n",
      "zip_code                            int64\n",
      "outlet_count                      float64\n",
      "outlet_taxpayer_non_tx            float64\n",
      "outlet_org_type_cl                float64\n",
      "outlet_org_type_is                float64\n",
      "outlet_org_type_foreign           float64\n",
      "outlet_non_tx_ratio               float64\n",
      "outlet_cl_ratio                   float64\n",
      "outlet_is_ratio                   float64\n",
      "outlet_foreign_ratio              float64\n",
      "dtype: object\n",
      "\n",
      " ########## covid ################\n",
      " \n",
      " Time          datetime64[ns]\n",
      "zip_code             float64\n",
      "county                object\n",
      "fatalities           float64\n",
      "caseCount            float64\n",
      "dtype: object\n",
      "\n",
      " ########## env_vio ################\n",
      " \n",
      " Time                   datetime64[ns]\n",
      "zip_code                        int64\n",
      "env_violation_count           float64\n",
      "dtype: object\n",
      "\n",
      " ########## poll ################\n",
      " \n",
      " Time                     datetime64[ns]\n",
      "tx_is_a_lot_better              float64\n",
      "tx_is_a_little_better           float64\n",
      "tx_is_abt_same                  float64\n",
      "tx_is_a_little_worse            float64\n",
      "tx_is_a_lot_worse               float64\n",
      "tx_is_dont_know                 float64\n",
      "tx_is_better                    float64\n",
      "tx_is_worse                     float64\n",
      "zip_code                          int64\n",
      "dtype: object\n",
      "\n",
      " ########## key_econ ################\n",
      " \n",
      " Time                                      datetime64[ns]\n",
      "zip_code                                           int64\n",
      "Consumer Confidence Index TX                     float64\n",
      "Consumer Confidence West South Central           float64\n",
      "Consumer Confidence Index US                     float64\n",
      "Consumer Price Index TX                          float64\n",
      "Consumer Price Index U.S.                        float64\n",
      "Nonfarm Employment TX                            float64\n",
      "Nonfarm Employment U.S.                          float64\n",
      "Unemployment TX                                  float64\n",
      "Unemployment U.S.                                float64\n",
      "Single Family Building Permits TX                float64\n",
      "Multi Family Building Permits TX                 float64\n",
      "Existing Single Family Home Sales TX             float64\n",
      "Existing Single Family Home Price TX             float64\n",
      "Non Residential Building Construction            float64\n",
      "Total Sales Tax Collections Retail TX            float64\n",
      "Total Sales Tax Collections TX                   float64\n",
      "Retail Gasoline Price TX                         float64\n",
      "Retail Diesel Price TX                           float64\n",
      "Nonfarm Employment Illinois                      float64\n",
      "Nonfarm Employment Florida                       float64\n",
      "Nonfarm Employment New York                      float64\n",
      "Nonfarm Employment Texas                         float64\n",
      "Nonfarm Employment California                    float64\n",
      "Gross Value Crude Oil Production                 float64\n",
      "Gross Value Natural Gas Production               float64\n",
      "Motor Fuel Taxed Gasoline                        float64\n",
      "Motor Fuel Taxed Diesel                          float64\n",
      "dtype: object\n",
      "\n",
      " ########## weather ################\n",
      " \n",
      " Time        datetime64[ns]\n",
      "zip_code             int64\n",
      "mintempC           float64\n",
      "maxtempC           float64\n",
      "precipMM           float64\n",
      "dtype: object\n",
      "\n",
      " ########## unemployment_rates ################\n",
      " \n",
      " Time        datetime64[ns]\n",
      "ur                 float64\n",
      "metro               object\n",
      "delta_ur           float64\n",
      "zip_code             int64\n",
      "dtype: object\n",
      "\n",
      " ########## sap_case ################\n",
      " \n",
      " metro                                   object\n",
      "zip_code                                 int64\n",
      "State                                   object\n",
      "Time                            datetime64[ns]\n",
      "sap_case_shiller_index                 float64\n",
      "delta_sap_case_shiller_index           float64\n",
      "dtype: object\n",
      "\n",
      " ########## tnx ################\n",
      " \n",
      " metro                object\n",
      "zip_code              int64\n",
      "State                object\n",
      "Time         datetime64[ns]\n",
      "TNX                 float64\n",
      "delta_TNX           float64\n",
      "dtype: object\n",
      "\n",
      " ########## acs ################\n",
      " \n",
      " zip_code                                                               float64\n",
      "white_pop                                                              float64\n",
      "black_pop                                                              float64\n",
      "hispanic_pop                                                           float64\n",
      "female_female_households                                               float64\n",
      "children                                                               float64\n",
      "high_school_diploma                                                    float64\n",
      "armed_forces                                                           float64\n",
      "Time                                                            datetime64[ns]\n",
      "driving_alone_population                                                 int64\n",
      "housing_units_built_1940_to_1949                                         int64\n",
      "female_45_to_49                                                          int64\n",
      "female_75_to_79                                                          int64\n",
      "motorcycle_population                                                    int64\n",
      "housing_units_built_1950_to_1959                                         int64\n",
      "bicycle_population                                                       int64\n",
      "quintile_4_upper_limit                                                   int64\n",
      "quintile_3_upper_limit                                                   int64\n",
      "housing_units_10_to_19_units                                             int64\n",
      "housing_units_built_1970_to_1979                                         int64\n",
      "median_household_income                                                  int64\n",
      "women_with_doctoral_degree                                               int64\n",
      "female_21                                                                int64\n",
      "female_50_to_54                                                          int64\n",
      "housing_units_built_1980_to_1989                                         int64\n",
      "housing_units_built_1930_to_1939                                         int64\n",
      "female_35_to_39                                                          int64\n",
      "units_paying_cash_rent                                                   int64\n",
      "housing_units_single_family_attached                                     int64\n",
      "housing_units_20_to_49_units                                             int64\n",
      "                                                                     ...      \n",
      "housing_units_built_1950_to_1959_annual_pct_change                     float64\n",
      "quintile_4_upper_limit_annual_pct_change                               float64\n",
      "quintile_3_upper_limit_annual_pct_change                               float64\n",
      "housing_units_10_to_19_units_annual_pct_change                         float64\n",
      "housing_units_built_1970_to_1979_annual_pct_change                     float64\n",
      "median_household_income_annual_pct_change                              float64\n",
      "women_with_doctoral_degree_annual_pct_change                           float64\n",
      "female_21_annual_pct_change                                            float64\n",
      "female_50_to_54_annual_pct_change                                      float64\n",
      "housing_units_built_1980_to_1989_annual_pct_change                     float64\n",
      "housing_units_built_1930_to_1939_annual_pct_change                     float64\n",
      "female_35_to_39_annual_pct_change                                      float64\n",
      "units_paying_cash_rent_annual_pct_change                               float64\n",
      "housing_units_single_family_attached_annual_pct_change                 float64\n",
      "housing_units_20_to_49_units_annual_pct_change                         float64\n",
      "female_25_to_29_annual_pct_change                                      float64\n",
      "walking_to_work_population_annual_pct_change                           float64\n",
      "men_with_bachelors_degree_annual_pct_change                            float64\n",
      "quintile_1_upper_limit_annual_pct_change                               float64\n",
      "quintile_2_upper_limit_annual_pct_change                               float64\n",
      "women_with_associate_degree_annual_pct_change                          float64\n",
      "female_40_to_44_annual_pct_change                                      float64\n",
      "average_household_size_owners_annual_pct_change                        float64\n",
      "female_30_to_34_annual_pct_change                                      float64\n",
      "housing_units_5_to_9_units_annual_pct_change                           float64\n",
      "single_women_annual_pct_change                                         float64\n",
      "housing_units_built_1990_to_1999_annual_pct_change                     float64\n",
      "housing_units_single_family_attached_owned_annual_pct_change           float64\n",
      "housing_units_over_50_units_annual_pct_change                          float64\n",
      "housing_units_built_1960_to_1969_annual_pct_change                     float64\n",
      "Length: 84, dtype: object\n",
      "\n",
      " ########## monthly_gas ################\n",
      " \n",
      " Time                           datetime64[ns]\n",
      "monthly_avg_gas_price                 float64\n",
      "delta_monthly_avg_gas_price           float64\n",
      "State                                  object\n",
      "metro                                  object\n",
      "zip_code                                int64\n",
      "dtype: object\n",
      "\n",
      " ########## rent_search ################\n",
      " \n",
      " Time                        datetime64[ns]\n",
      "rent_search_interest                 int64\n",
      "rent_search_4_period_rsi           float64\n",
      "zip_code                             int64\n",
      "dtype: object\n"
     ]
    }
   ],
   "source": [
    "for df in dfs:\n",
    "    \n",
    "    df.loc[:,'Time'] = df['Time'].apply(lambda x: pd.to_datetime(x, format = '%Y-%m'))\n",
    "\n",
    "for name,df in list(zip(df_names,dfs)):\n",
    "    print('\\n',f'########## {name} ################\\n','\\n',df.dtypes)"
   ]
  },
  {
   "cell_type": "code",
   "execution_count": 19,
   "metadata": {},
   "outputs": [
    {
     "data": {
      "text/html": [
       "<div>\n",
       "<style scoped>\n",
       "    .dataframe tbody tr th:only-of-type {\n",
       "        vertical-align: middle;\n",
       "    }\n",
       "\n",
       "    .dataframe tbody tr th {\n",
       "        vertical-align: top;\n",
       "    }\n",
       "\n",
       "    .dataframe thead th {\n",
       "        text-align: right;\n",
       "    }\n",
       "</style>\n",
       "<table border=\"1\" class=\"dataframe\">\n",
       "  <thead>\n",
       "    <tr style=\"text-align: right;\">\n",
       "      <th>feature</th>\n",
       "      <th>start_date</th>\n",
       "      <th>end_date</th>\n",
       "      <th>lag_steps</th>\n",
       "    </tr>\n",
       "  </thead>\n",
       "  <tbody>\n",
       "    <tr>\n",
       "      <th>zori</th>\n",
       "      <td>2014-01-01</td>\n",
       "      <td>2021-07-01</td>\n",
       "      <td>0</td>\n",
       "    </tr>\n",
       "    <tr>\n",
       "      <th>zori_diff</th>\n",
       "      <td>2014-01-01</td>\n",
       "      <td>2021-07-01</td>\n",
       "      <td>0</td>\n",
       "    </tr>\n",
       "    <tr>\n",
       "      <th>zori_diff_6</th>\n",
       "      <td>2014-01-01</td>\n",
       "      <td>2021-07-01</td>\n",
       "      <td>0</td>\n",
       "    </tr>\n",
       "    <tr>\n",
       "      <th>zori_diff_12</th>\n",
       "      <td>2014-01-01</td>\n",
       "      <td>2021-07-01</td>\n",
       "      <td>0</td>\n",
       "    </tr>\n",
       "    <tr>\n",
       "      <th>sales_tax_alloc</th>\n",
       "      <td>2013-01-01</td>\n",
       "      <td>2021-08-01</td>\n",
       "      <td>0</td>\n",
       "    </tr>\n",
       "    <tr>\n",
       "      <th>new_biz_taxpayer</th>\n",
       "      <td>2012-01-01</td>\n",
       "      <td>2021-08-01</td>\n",
       "      <td>0</td>\n",
       "    </tr>\n",
       "    <tr>\n",
       "      <th>new_biz_out</th>\n",
       "      <td>2012-01-01</td>\n",
       "      <td>2021-08-01</td>\n",
       "      <td>0</td>\n",
       "    </tr>\n",
       "    <tr>\n",
       "      <th>covid</th>\n",
       "      <td>2012-01-01</td>\n",
       "      <td>2021-08-01</td>\n",
       "      <td>0</td>\n",
       "    </tr>\n",
       "    <tr>\n",
       "      <th>env_vio</th>\n",
       "      <td>2012-01-01</td>\n",
       "      <td>2021-08-01</td>\n",
       "      <td>0</td>\n",
       "    </tr>\n",
       "    <tr>\n",
       "      <th>poll</th>\n",
       "      <td>2011-02-01</td>\n",
       "      <td>2021-07-01</td>\n",
       "      <td>0</td>\n",
       "    </tr>\n",
       "    <tr>\n",
       "      <th>key_econ</th>\n",
       "      <td>2012-01-01</td>\n",
       "      <td>2021-08-01</td>\n",
       "      <td>0</td>\n",
       "    </tr>\n",
       "    <tr>\n",
       "      <th>weather</th>\n",
       "      <td>2012-01-01</td>\n",
       "      <td>2021-08-01</td>\n",
       "      <td>0</td>\n",
       "    </tr>\n",
       "    <tr>\n",
       "      <th>unemployment_rates</th>\n",
       "      <td>2011-07-01</td>\n",
       "      <td>2021-07-01</td>\n",
       "      <td>0</td>\n",
       "    </tr>\n",
       "    <tr>\n",
       "      <th>sap_case</th>\n",
       "      <td>2011-06-01</td>\n",
       "      <td>2021-06-01</td>\n",
       "      <td>1</td>\n",
       "    </tr>\n",
       "    <tr>\n",
       "      <th>tnx</th>\n",
       "      <td>2010-01-01</td>\n",
       "      <td>2021-08-01</td>\n",
       "      <td>0</td>\n",
       "    </tr>\n",
       "    <tr>\n",
       "      <th>acs</th>\n",
       "      <td>2011-01-01</td>\n",
       "      <td>2019-12-01</td>\n",
       "      <td>19</td>\n",
       "    </tr>\n",
       "    <tr>\n",
       "      <th>monthly_gas</th>\n",
       "      <td>2000-06-01</td>\n",
       "      <td>2021-08-01</td>\n",
       "      <td>0</td>\n",
       "    </tr>\n",
       "    <tr>\n",
       "      <th>rent_search</th>\n",
       "      <td>2014-07-01</td>\n",
       "      <td>2021-09-01</td>\n",
       "      <td>0</td>\n",
       "    </tr>\n",
       "  </tbody>\n",
       "</table>\n",
       "</div>"
      ],
      "text/plain": [
       "feature            start_date   end_date  lag_steps\n",
       "zori               2014-01-01 2021-07-01          0\n",
       "zori_diff          2014-01-01 2021-07-01          0\n",
       "zori_diff_6        2014-01-01 2021-07-01          0\n",
       "zori_diff_12       2014-01-01 2021-07-01          0\n",
       "sales_tax_alloc    2013-01-01 2021-08-01          0\n",
       "new_biz_taxpayer   2012-01-01 2021-08-01          0\n",
       "new_biz_out        2012-01-01 2021-08-01          0\n",
       "covid              2012-01-01 2021-08-01          0\n",
       "env_vio            2012-01-01 2021-08-01          0\n",
       "poll               2011-02-01 2021-07-01          0\n",
       "key_econ           2012-01-01 2021-08-01          0\n",
       "weather            2012-01-01 2021-08-01          0\n",
       "unemployment_rates 2011-07-01 2021-07-01          0\n",
       "sap_case           2011-06-01 2021-06-01          1\n",
       "tnx                2010-01-01 2021-08-01          0\n",
       "acs                2011-01-01 2019-12-01         19\n",
       "monthly_gas        2000-06-01 2021-08-01          0\n",
       "rent_search        2014-07-01 2021-09-01          0"
      ]
     },
     "execution_count": 19,
     "metadata": {},
     "output_type": "execute_result"
    }
   ],
   "source": [
    "time_window = pd.DataFrame({name:(df['Time'].min(),df['Time'].max()) for name,df in list(zip(df_names,dfs))})\n",
    "time_window.loc[:,'feature'] = ['start_date','end_date']\n",
    "time_window = time_window.set_index('feature').T\n",
    "time_window.loc[:,'lag_steps'] = [0]*time_window.shape[0]\n",
    "time_window.loc['sap_case','lag_steps'] = 1\n",
    "time_window.loc['acs','lag_steps'] = 19\n",
    "time_window"
   ]
  },
  {
   "cell_type": "code",
   "execution_count": 20,
   "metadata": {},
   "outputs": [],
   "source": [
    "def df_lagger(df,level,steps):\n",
    "    \n",
    "    \"\"\"\n",
    "    Function to lag all columns in a multivariate time series dataframe,\n",
    "    'Time' column is assumed to be in datetime[64] format.\n",
    "    \n",
    "    df: dataframe to be lagged\n",
    "    level: string, 'days','months',or 'years'\n",
    "    steps: number of lags to shift w.r.t. chosen level\n",
    "    \n",
    "    \"\"\"\n",
    "    if (level == 'days'):\n",
    "        \n",
    "        df.loc[:,'Time'] = df.Time + pd.DateOffset(days = steps)\n",
    "    \n",
    "    \n",
    "    elif (level == 'months'):\n",
    "        \n",
    "        df.loc[:,'Time'] = df.Time + pd.DateOffset(months = steps)\n",
    "        \n",
    "        \n",
    "    elif (level == 'years'):\n",
    "        \n",
    "        df.loc[:,'Time'] = df.Time + pd.DateOffset(years = steps)\n",
    "        \n",
    "    else:\n",
    "        \n",
    "        print('level not days,months,or years')\n",
    "    \n",
    "    return df"
   ]
  },
  {
   "cell_type": "markdown",
   "metadata": {},
   "source": [
    "# Lagging acs and case_shiller"
   ]
  },
  {
   "cell_type": "code",
   "execution_count": 21,
   "metadata": {},
   "outputs": [
    {
     "data": {
      "text/html": [
       "<div>\n",
       "<style scoped>\n",
       "    .dataframe tbody tr th:only-of-type {\n",
       "        vertical-align: middle;\n",
       "    }\n",
       "\n",
       "    .dataframe tbody tr th {\n",
       "        vertical-align: top;\n",
       "    }\n",
       "\n",
       "    .dataframe thead th {\n",
       "        text-align: right;\n",
       "    }\n",
       "</style>\n",
       "<table border=\"1\" class=\"dataframe\">\n",
       "  <thead>\n",
       "    <tr style=\"text-align: right;\">\n",
       "      <th>feature</th>\n",
       "      <th>start_date</th>\n",
       "      <th>end_date</th>\n",
       "    </tr>\n",
       "  </thead>\n",
       "  <tbody>\n",
       "    <tr>\n",
       "      <th>zori</th>\n",
       "      <td>2014-01-01</td>\n",
       "      <td>2021-07-01</td>\n",
       "    </tr>\n",
       "    <tr>\n",
       "      <th>zori_diff</th>\n",
       "      <td>2014-01-01</td>\n",
       "      <td>2021-07-01</td>\n",
       "    </tr>\n",
       "    <tr>\n",
       "      <th>zori_diff_6</th>\n",
       "      <td>2014-01-01</td>\n",
       "      <td>2021-07-01</td>\n",
       "    </tr>\n",
       "    <tr>\n",
       "      <th>zori_diff_12</th>\n",
       "      <td>2014-01-01</td>\n",
       "      <td>2021-07-01</td>\n",
       "    </tr>\n",
       "    <tr>\n",
       "      <th>sales_tax_alloc</th>\n",
       "      <td>2013-01-01</td>\n",
       "      <td>2021-08-01</td>\n",
       "    </tr>\n",
       "    <tr>\n",
       "      <th>new_biz_taxpayer</th>\n",
       "      <td>2012-01-01</td>\n",
       "      <td>2021-08-01</td>\n",
       "    </tr>\n",
       "    <tr>\n",
       "      <th>new_biz_out</th>\n",
       "      <td>2012-01-01</td>\n",
       "      <td>2021-08-01</td>\n",
       "    </tr>\n",
       "    <tr>\n",
       "      <th>covid</th>\n",
       "      <td>2012-01-01</td>\n",
       "      <td>2021-08-01</td>\n",
       "    </tr>\n",
       "    <tr>\n",
       "      <th>env_vio</th>\n",
       "      <td>2012-01-01</td>\n",
       "      <td>2021-08-01</td>\n",
       "    </tr>\n",
       "    <tr>\n",
       "      <th>poll</th>\n",
       "      <td>2011-02-01</td>\n",
       "      <td>2021-07-01</td>\n",
       "    </tr>\n",
       "    <tr>\n",
       "      <th>key_econ</th>\n",
       "      <td>2012-01-01</td>\n",
       "      <td>2021-08-01</td>\n",
       "    </tr>\n",
       "    <tr>\n",
       "      <th>weather</th>\n",
       "      <td>2012-01-01</td>\n",
       "      <td>2021-08-01</td>\n",
       "    </tr>\n",
       "    <tr>\n",
       "      <th>unemployment_rates</th>\n",
       "      <td>2011-07-01</td>\n",
       "      <td>2021-07-01</td>\n",
       "    </tr>\n",
       "    <tr>\n",
       "      <th>sap_case</th>\n",
       "      <td>2011-07-01</td>\n",
       "      <td>2021-07-01</td>\n",
       "    </tr>\n",
       "    <tr>\n",
       "      <th>tnx</th>\n",
       "      <td>2010-01-01</td>\n",
       "      <td>2021-08-01</td>\n",
       "    </tr>\n",
       "    <tr>\n",
       "      <th>acs</th>\n",
       "      <td>2012-08-01</td>\n",
       "      <td>2021-07-01</td>\n",
       "    </tr>\n",
       "    <tr>\n",
       "      <th>monthly_gas</th>\n",
       "      <td>2000-06-01</td>\n",
       "      <td>2021-08-01</td>\n",
       "    </tr>\n",
       "    <tr>\n",
       "      <th>rent_search</th>\n",
       "      <td>2014-07-01</td>\n",
       "      <td>2021-09-01</td>\n",
       "    </tr>\n",
       "  </tbody>\n",
       "</table>\n",
       "</div>"
      ],
      "text/plain": [
       "feature            start_date   end_date\n",
       "zori               2014-01-01 2021-07-01\n",
       "zori_diff          2014-01-01 2021-07-01\n",
       "zori_diff_6        2014-01-01 2021-07-01\n",
       "zori_diff_12       2014-01-01 2021-07-01\n",
       "sales_tax_alloc    2013-01-01 2021-08-01\n",
       "new_biz_taxpayer   2012-01-01 2021-08-01\n",
       "new_biz_out        2012-01-01 2021-08-01\n",
       "covid              2012-01-01 2021-08-01\n",
       "env_vio            2012-01-01 2021-08-01\n",
       "poll               2011-02-01 2021-07-01\n",
       "key_econ           2012-01-01 2021-08-01\n",
       "weather            2012-01-01 2021-08-01\n",
       "unemployment_rates 2011-07-01 2021-07-01\n",
       "sap_case           2011-07-01 2021-07-01\n",
       "tnx                2010-01-01 2021-08-01\n",
       "acs                2012-08-01 2021-07-01\n",
       "monthly_gas        2000-06-01 2021-08-01\n",
       "rent_search        2014-07-01 2021-09-01"
      ]
     },
     "execution_count": 21,
     "metadata": {},
     "output_type": "execute_result"
    }
   ],
   "source": [
    "acs = df_lagger(acs,'months',19)\n",
    "sap_case = df_lagger(sap_case,'months',1)\n",
    "\n",
    "time_window_post_lag = pd.DataFrame({name:(df['Time'].min(),df['Time'].max()) for name,df in list(zip(df_names,dfs))})\n",
    "time_window_post_lag.loc[:,'feature'] = ['start_date','end_date']\n",
    "time_window_post_lag = time_window_post_lag.set_index('feature').T\n",
    "time_window_post_lag"
   ]
  },
  {
   "cell_type": "code",
   "execution_count": 24,
   "metadata": {},
   "outputs": [],
   "source": [
    "def left_merger(df_1,df_2):\n",
    "    \n",
    "    \"\"\"\n",
    "    left merges onto the larger of two dataframes by their shared columns\n",
    "    \n",
    "    df_1: dataframe 1\n",
    "    \n",
    "    df_2: dataframe 2\n",
    "    \n",
    "    \"\"\"\n",
    "    if (len(list(set(list(df_1.columns)).intersection(list(df_2.columns)))) == 0):\n",
    "        \n",
    "        raise ValueError('dataframes have no shared columns to merge on!!')\n",
    "    \n",
    "    \n",
    "    if (df_1.shape[0]>= df_2.shape[0]):\n",
    "        \n",
    "        a = list(df_1.columns)\n",
    "        b = list(df_2.columns)\n",
    "        shared_columns = list(set(a).intersection(b))\n",
    "        merged = pd.merge(df_1,df_2,how = 'left', on = shared_columns)\n",
    "        \n",
    "    else:\n",
    "        \n",
    "        a = list(df_1.columns)\n",
    "        b = list(df_2.columns)\n",
    "        shared_columns = list(set(a).intersection(b))\n",
    "        merged = pd.merge(df_2,df_1,how = 'left', on = shared_columns)\n",
    "        \n",
    "    return merged"
   ]
  },
  {
   "cell_type": "code",
   "execution_count": 25,
   "metadata": {},
   "outputs": [],
   "source": [
    "def shared_columns(df_1,df_2):\n",
    "    \n",
    "    return list(set(list(df_1.columns)).intersection(list(df_2.columns)))"
   ]
  },
  {
   "cell_type": "code",
   "execution_count": 47,
   "metadata": {},
   "outputs": [
    {
     "name": "stdout",
     "output_type": "stream",
     "text": [
      "['Time', 'metro', 'zip_code', 'State']\n",
      "['Time', 'zip_code']\n",
      "['Time', 'metro', 'zip_code', 'State']\n",
      "['Time', 'metro', 'zip_code']\n",
      "['Time', 'zip_code']\n",
      "['Time', 'zip_code']\n",
      "['Time', 'zip_code']\n",
      "['Time', 'zip_code']\n",
      "['Time', 'zip_code']\n",
      "['Time', 'zip_code']\n",
      "['Time', 'zip_code']\n",
      "['Time', 'zip_code']\n",
      "['Time', 'zip_code']\n",
      "['Time', 'zip_code']\n",
      "['Time', 'zip_code']\n",
      "['Time', 'zip_code']\n",
      "['Time', 'zip_code']\n"
     ]
    }
   ],
   "source": [
    "print(shared_columns(dfs[merge_index_order[0]],dfs[merge_index_order[1]]))\n",
    "merged = left_merger(dfs[merge_index_order[0]],dfs[merge_index_order[1]])\n",
    "\n",
    "for i in range(2,len(merge_index_order)):\n",
    "    \n",
    "    print(shared_columns(merged,dfs[merge_index_order[i]]))\n",
    "    \n",
    "    merged = left_merger(merged,dfs[merge_index_order[i]])"
   ]
  },
  {
   "cell_type": "code",
   "execution_count": 143,
   "metadata": {},
   "outputs": [
    {
     "data": {
      "text/html": [
       "<div>\n",
       "<style scoped>\n",
       "    .dataframe tbody tr th:only-of-type {\n",
       "        vertical-align: middle;\n",
       "    }\n",
       "\n",
       "    .dataframe tbody tr th {\n",
       "        vertical-align: top;\n",
       "    }\n",
       "\n",
       "    .dataframe thead th {\n",
       "        text-align: right;\n",
       "    }\n",
       "</style>\n",
       "<table border=\"1\" class=\"dataframe\">\n",
       "  <thead>\n",
       "    <tr style=\"text-align: right;\">\n",
       "      <th></th>\n",
       "      <th>Time</th>\n",
       "      <th>monthly_avg_gas_price</th>\n",
       "      <th>delta_monthly_avg_gas_price</th>\n",
       "      <th>State</th>\n",
       "      <th>metro</th>\n",
       "      <th>zip_code</th>\n",
       "      <th>TNX</th>\n",
       "      <th>delta_TNX</th>\n",
       "      <th>tx_is_a_lot_better</th>\n",
       "      <th>tx_is_a_little_better</th>\n",
       "      <th>...</th>\n",
       "      <th>total_sales_tax</th>\n",
       "      <th>total_sales_tax_last_year</th>\n",
       "      <th>per_diff_total_sales_tax</th>\n",
       "      <th>city</th>\n",
       "      <th>zori_ssa</th>\n",
       "      <th>delta_zori_ssa</th>\n",
       "      <th>delta_zori_ssa_12</th>\n",
       "      <th>delta_zori_ssa_6</th>\n",
       "      <th>rent_search_interest</th>\n",
       "      <th>rent_search_4_period_rsi</th>\n",
       "    </tr>\n",
       "  </thead>\n",
       "  <tbody>\n",
       "    <tr>\n",
       "      <th>55039</th>\n",
       "      <td>2021-08-01</td>\n",
       "      <td>2.791</td>\n",
       "      <td>0.006</td>\n",
       "      <td>TX</td>\n",
       "      <td>San Antonio</td>\n",
       "      <td>78252</td>\n",
       "      <td>1.304</td>\n",
       "      <td>0.065</td>\n",
       "      <td>NaN</td>\n",
       "      <td>NaN</td>\n",
       "      <td>...</td>\n",
       "      <td>40880743.64</td>\n",
       "      <td>34896464.07</td>\n",
       "      <td>17.14</td>\n",
       "      <td>SAN ANTONIO</td>\n",
       "      <td>NaN</td>\n",
       "      <td>NaN</td>\n",
       "      <td>NaN</td>\n",
       "      <td>NaN</td>\n",
       "      <td>69.0</td>\n",
       "      <td>73.446092</td>\n",
       "    </tr>\n",
       "  </tbody>\n",
       "</table>\n",
       "<p>1 rows × 165 columns</p>\n",
       "</div>"
      ],
      "text/plain": [
       "            Time  monthly_avg_gas_price  delta_monthly_avg_gas_price State  \\\n",
       "55039 2021-08-01                  2.791                        0.006    TX   \n",
       "\n",
       "             metro  zip_code    TNX  delta_TNX  tx_is_a_lot_better  \\\n",
       "55039  San Antonio     78252  1.304      0.065                 NaN   \n",
       "\n",
       "       tx_is_a_little_better  ...  total_sales_tax  total_sales_tax_last_year  \\\n",
       "55039                    NaN  ...      40880743.64                34896464.07   \n",
       "\n",
       "       per_diff_total_sales_tax         city  zori_ssa  delta_zori_ssa  \\\n",
       "55039                     17.14  SAN ANTONIO       NaN             NaN   \n",
       "\n",
       "       delta_zori_ssa_12  delta_zori_ssa_6  rent_search_interest  \\\n",
       "55039                NaN               NaN                  69.0   \n",
       "\n",
       "       rent_search_4_period_rsi  \n",
       "55039                 73.446092  \n",
       "\n",
       "[1 rows x 165 columns]"
      ]
     },
     "execution_count": 143,
     "metadata": {},
     "output_type": "execute_result"
    }
   ],
   "source": [
    "merged.tail(1)"
   ]
  },
  {
   "cell_type": "code",
   "execution_count": 144,
   "metadata": {},
   "outputs": [
    {
     "ename": "AttributeError",
     "evalue": "module 'missingno' has no attribute 'matrix'",
     "output_type": "error",
     "traceback": [
      "\u001b[1;31m---------------------------------------------------------------------------\u001b[0m",
      "\u001b[1;31mAttributeError\u001b[0m                            Traceback (most recent call last)",
      "\u001b[1;32m<ipython-input-144-f83fd1871c31>\u001b[0m in \u001b[0;36m<module>\u001b[1;34m\u001b[0m\n\u001b[0;32m      1\u001b[0m \u001b[1;32mimport\u001b[0m \u001b[0mmissingno\u001b[0m \u001b[1;32mas\u001b[0m \u001b[0mmsno\u001b[0m\u001b[1;33m\u001b[0m\u001b[1;33m\u001b[0m\u001b[0m\n\u001b[1;32m----> 2\u001b[1;33m \u001b[0mmsno\u001b[0m\u001b[1;33m.\u001b[0m\u001b[0mmatrix\u001b[0m\u001b[1;33m(\u001b[0m\u001b[0mmerged\u001b[0m\u001b[1;33m)\u001b[0m\u001b[1;33m\u001b[0m\u001b[1;33m\u001b[0m\u001b[0m\n\u001b[0m",
      "\u001b[1;31mAttributeError\u001b[0m: module 'missingno' has no attribute 'matrix'"
     ]
    }
   ],
   "source": [
    "import missingno as msno\n",
    "msno.matrix(merged)\n"
   ]
  },
  {
   "cell_type": "code",
   "execution_count": 48,
   "metadata": {},
   "outputs": [
    {
     "data": {
      "text/plain": [
       "{'Consumer Confidence Index TX',\n",
       " 'Consumer Confidence Index US',\n",
       " 'Consumer Confidence West South Central',\n",
       " 'Consumer Price Index TX',\n",
       " 'Consumer Price Index U.S.',\n",
       " 'Existing Single Family Home Price TX',\n",
       " 'Existing Single Family Home Sales TX',\n",
       " 'Gross Value Crude Oil Production',\n",
       " 'Gross Value Natural Gas Production',\n",
       " 'Motor Fuel Taxed Diesel',\n",
       " 'Motor Fuel Taxed Gasoline',\n",
       " 'Multi Family Building Permits TX',\n",
       " 'Non Residential Building Construction',\n",
       " 'Nonfarm Employment California',\n",
       " 'Nonfarm Employment Florida',\n",
       " 'Nonfarm Employment Illinois',\n",
       " 'Nonfarm Employment New York',\n",
       " 'Nonfarm Employment TX',\n",
       " 'Nonfarm Employment Texas',\n",
       " 'Nonfarm Employment U.S.',\n",
       " 'Retail Diesel Price TX',\n",
       " 'Retail Gasoline Price TX',\n",
       " 'Single Family Building Permits TX',\n",
       " 'State',\n",
       " 'TNX',\n",
       " 'Time',\n",
       " 'Total Sales Tax Collections Retail TX',\n",
       " 'Total Sales Tax Collections TX',\n",
       " 'Unemployment TX',\n",
       " 'Unemployment U.S.',\n",
       " 'armed_forces',\n",
       " 'average_household_size_owners',\n",
       " 'average_household_size_owners_annual_pct_change',\n",
       " 'bicycle_population',\n",
       " 'black_pop',\n",
       " 'black_pop_annual_pct_change',\n",
       " 'caseCount',\n",
       " 'children',\n",
       " 'children_annual_pct_change',\n",
       " 'city',\n",
       " 'county',\n",
       " 'delta_TNX',\n",
       " 'delta_monthly_avg_gas_price',\n",
       " 'delta_sap_case_shiller_index',\n",
       " 'delta_ur',\n",
       " 'delta_zori_ssa',\n",
       " 'delta_zori_ssa_12',\n",
       " 'delta_zori_ssa_6',\n",
       " 'driving_alone_population',\n",
       " 'driving_alone_population_annual_pct_change',\n",
       " 'env_violation_count',\n",
       " 'fatalities',\n",
       " 'female_21',\n",
       " 'female_21_annual_pct_change',\n",
       " 'female_25_to_29',\n",
       " 'female_25_to_29_annual_pct_change',\n",
       " 'female_30_to_34',\n",
       " 'female_30_to_34_annual_pct_change',\n",
       " 'female_35_to_39',\n",
       " 'female_35_to_39_annual_pct_change',\n",
       " 'female_40_to_44',\n",
       " 'female_40_to_44_annual_pct_change',\n",
       " 'female_45_to_49',\n",
       " 'female_45_to_49_annual_pct_change',\n",
       " 'female_50_to_54',\n",
       " 'female_50_to_54_annual_pct_change',\n",
       " 'female_75_to_79',\n",
       " 'female_75_to_79_annual_pct_change',\n",
       " 'female_female_households',\n",
       " 'high_school_diploma',\n",
       " 'high_school_diploma_annual_pct_change',\n",
       " 'hispanic_pop',\n",
       " 'hispanic_pop_annual_pct_change',\n",
       " 'housing_units_10_to_19_units',\n",
       " 'housing_units_10_to_19_units_annual_pct_change',\n",
       " 'housing_units_20_to_49_units',\n",
       " 'housing_units_20_to_49_units_annual_pct_change',\n",
       " 'housing_units_5_to_9_units',\n",
       " 'housing_units_5_to_9_units_annual_pct_change',\n",
       " 'housing_units_built_1930_to_1939',\n",
       " 'housing_units_built_1930_to_1939_annual_pct_change',\n",
       " 'housing_units_built_1940_to_1949',\n",
       " 'housing_units_built_1940_to_1949_annual_pct_change',\n",
       " 'housing_units_built_1950_to_1959',\n",
       " 'housing_units_built_1950_to_1959_annual_pct_change',\n",
       " 'housing_units_built_1960_to_1969',\n",
       " 'housing_units_built_1960_to_1969_annual_pct_change',\n",
       " 'housing_units_built_1970_to_1979',\n",
       " 'housing_units_built_1970_to_1979_annual_pct_change',\n",
       " 'housing_units_built_1980_to_1989',\n",
       " 'housing_units_built_1980_to_1989_annual_pct_change',\n",
       " 'housing_units_built_1990_to_1999',\n",
       " 'housing_units_built_1990_to_1999_annual_pct_change',\n",
       " 'housing_units_over_50_units',\n",
       " 'housing_units_over_50_units_annual_pct_change',\n",
       " 'housing_units_single_family_attached',\n",
       " 'housing_units_single_family_attached_annual_pct_change',\n",
       " 'housing_units_single_family_attached_owned',\n",
       " 'housing_units_single_family_attached_owned_annual_pct_change',\n",
       " 'maxtempC',\n",
       " 'median_household_income',\n",
       " 'median_household_income_annual_pct_change',\n",
       " 'men_with_bachelors_degree',\n",
       " 'men_with_bachelors_degree_annual_pct_change',\n",
       " 'metro',\n",
       " 'mintempC',\n",
       " 'monthly_avg_gas_price',\n",
       " 'motorcycle_population',\n",
       " 'outlet_cl_ratio',\n",
       " 'outlet_count',\n",
       " 'outlet_foreign_ratio',\n",
       " 'outlet_is_ratio',\n",
       " 'outlet_non_tx_ratio',\n",
       " 'outlet_org_type_cl',\n",
       " 'outlet_org_type_foreign',\n",
       " 'outlet_org_type_is',\n",
       " 'outlet_taxpayer_non_tx',\n",
       " 'payer_outlet_same_zipcode',\n",
       " 'per_diff_total_sales_tax',\n",
       " 'precipMM',\n",
       " 'quintile_1_upper_limit',\n",
       " 'quintile_1_upper_limit_annual_pct_change',\n",
       " 'quintile_2_upper_limit',\n",
       " 'quintile_2_upper_limit_annual_pct_change',\n",
       " 'quintile_3_upper_limit',\n",
       " 'quintile_3_upper_limit_annual_pct_change',\n",
       " 'quintile_4_upper_limit',\n",
       " 'quintile_4_upper_limit_annual_pct_change',\n",
       " 'rent_search_4_period_rsi',\n",
       " 'rent_search_interest',\n",
       " 'sales_tax_rate',\n",
       " 'sap_case_shiller_index',\n",
       " 'single_women',\n",
       " 'single_women_annual_pct_change',\n",
       " 'taxpayer_cl_ratio',\n",
       " 'taxpayer_count',\n",
       " 'taxpayer_foreign_ratio',\n",
       " 'taxpayer_is_ratio',\n",
       " 'taxpayer_org_type_cl',\n",
       " 'taxpayer_org_type_foreign',\n",
       " 'taxpayer_org_type_is',\n",
       " 'taxpayer_same_zip_ratio',\n",
       " 'total_sales_tax',\n",
       " 'total_sales_tax_last_year',\n",
       " 'tx_is_a_little_better',\n",
       " 'tx_is_a_little_worse',\n",
       " 'tx_is_a_lot_better',\n",
       " 'tx_is_a_lot_worse',\n",
       " 'tx_is_abt_same',\n",
       " 'tx_is_better',\n",
       " 'tx_is_dont_know',\n",
       " 'tx_is_worse',\n",
       " 'units_paying_cash_rent',\n",
       " 'units_paying_cash_rent_annual_pct_change',\n",
       " 'ur',\n",
       " 'walking_to_work_population',\n",
       " 'walking_to_work_population_annual_pct_change',\n",
       " 'white_pop',\n",
       " 'white_pop_annual_pct_change',\n",
       " 'women_with_associate_degree',\n",
       " 'women_with_associate_degree_annual_pct_change',\n",
       " 'women_with_doctoral_degree',\n",
       " 'women_with_doctoral_degree_annual_pct_change',\n",
       " 'zip_code',\n",
       " 'zori_ssa'}"
      ]
     },
     "execution_count": 48,
     "metadata": {},
     "output_type": "execute_result"
    }
   ],
   "source": [
    "set(merged.columns)"
   ]
  },
  {
   "cell_type": "markdown",
   "metadata": {},
   "source": [
    "### XGBoost"
   ]
  },
  {
   "cell_type": "code",
   "execution_count": 55,
   "metadata": {},
   "outputs": [
    {
     "data": {
      "text/plain": [
       "Time                                                            False\n",
       "monthly_avg_gas_price                                           False\n",
       "delta_monthly_avg_gas_price                                     False\n",
       "State                                                           False\n",
       "metro                                                           False\n",
       "zip_code                                                        False\n",
       "TNX                                                             False\n",
       "delta_TNX                                                       False\n",
       "tx_is_a_lot_better                                              False\n",
       "tx_is_a_little_better                                           False\n",
       "tx_is_abt_same                                                  False\n",
       "tx_is_a_little_worse                                            False\n",
       "tx_is_a_lot_worse                                               False\n",
       "tx_is_dont_know                                                 False\n",
       "tx_is_better                                                    False\n",
       "tx_is_worse                                                     False\n",
       "sap_case_shiller_index                                          False\n",
       "delta_sap_case_shiller_index                                    False\n",
       "ur                                                              False\n",
       "delta_ur                                                        False\n",
       "taxpayer_count                                                  False\n",
       "taxpayer_org_type_cl                                            False\n",
       "taxpayer_org_type_is                                            False\n",
       "taxpayer_org_type_foreign                                       False\n",
       "payer_outlet_same_zipcode                                       False\n",
       "taxpayer_same_zip_ratio                                         False\n",
       "taxpayer_cl_ratio                                               False\n",
       "taxpayer_is_ratio                                               False\n",
       "taxpayer_foreign_ratio                                          False\n",
       "outlet_count                                                    False\n",
       "                                                                ...  \n",
       "units_paying_cash_rent_annual_pct_change                        False\n",
       "housing_units_single_family_attached_annual_pct_change          False\n",
       "housing_units_20_to_49_units_annual_pct_change                  False\n",
       "female_25_to_29_annual_pct_change                               False\n",
       "walking_to_work_population_annual_pct_change                    False\n",
       "men_with_bachelors_degree_annual_pct_change                     False\n",
       "quintile_1_upper_limit_annual_pct_change                        False\n",
       "quintile_2_upper_limit_annual_pct_change                        False\n",
       "women_with_associate_degree_annual_pct_change                   False\n",
       "female_40_to_44_annual_pct_change                               False\n",
       "average_household_size_owners_annual_pct_change                 False\n",
       "female_30_to_34_annual_pct_change                               False\n",
       "housing_units_5_to_9_units_annual_pct_change                    False\n",
       "single_women_annual_pct_change                                  False\n",
       "housing_units_built_1990_to_1999_annual_pct_change              False\n",
       "housing_units_single_family_attached_owned_annual_pct_change    False\n",
       "housing_units_over_50_units_annual_pct_change                   False\n",
       "housing_units_built_1960_to_1969_annual_pct_change              False\n",
       "sales_tax_rate                                                  False\n",
       "total_sales_tax                                                 False\n",
       "total_sales_tax_last_year                                       False\n",
       "per_diff_total_sales_tax                                        False\n",
       "city                                                            False\n",
       "zori_ssa                                                        False\n",
       "delta_zori_ssa                                                  False\n",
       "delta_zori_ssa_12                                               False\n",
       "delta_zori_ssa_6                                                False\n",
       "rent_search_interest                                            False\n",
       "rent_search_4_period_rsi                                        False\n",
       "zori_ssa_shift_back_1                                           False\n",
       "Length: 166, dtype: bool"
      ]
     },
     "execution_count": 55,
     "metadata": {},
     "output_type": "execute_result"
    }
   ],
   "source": [
    "# data = merged[['Time','zip_code','delta_zori_ssa','delta_sap_case_shiller_index','Single Family Building Permits TX','Total Sales Tax Collections TX','Gross Value Natural Gas Production']]\n",
    "\n",
    "data = merged.copy()\n",
    "# data = data.set_index('Time')\n",
    "\n",
    "num_zips = len(np.unique(data['zip_code']))\n",
    "\n",
    "# data.loc[:,'delta_zori_ssa_6_shift_back_1'] = data.loc[:,'delta_zori_ssa_6'].shift(-1*num_zips)\n",
    "data.loc[:,'zori_ssa_shift_back_1'] = data.loc[:,'zori_ssa'].shift(-1*num_zips)\n",
    "data.loc[:,'rent_search_4_period_rsi'] = data.loc[:,'rent_search_4_period_rsi'].shift(-1*num_zips)\n",
    "\n",
    "# acs_cols = list(acs.drop(['Time','zip_code'],axis = 1).columns)\n",
    "\n",
    "# for col in acs_cols:\n",
    "#     data.loc[:,col+'_backshift_1_year'] = data.loc[:,col].shift(-12*num_zips)\n",
    "\n",
    "data = data.loc[~data.isna().any(axis = 1)]\n",
    "\n",
    "data.isna().any()"
   ]
  },
  {
   "cell_type": "code",
   "execution_count": 56,
   "metadata": {},
   "outputs": [],
   "source": [
    "data.loc[:,'Date'] = data.loc[:,'Time'].apply(lambda x: str(x)[:-9])\n",
    "\n",
    "data = data.set_index('Date')"
   ]
  },
  {
   "cell_type": "code",
   "execution_count": 57,
   "metadata": {},
   "outputs": [
    {
     "data": {
      "text/html": [
       "<div>\n",
       "<style scoped>\n",
       "    .dataframe tbody tr th:only-of-type {\n",
       "        vertical-align: middle;\n",
       "    }\n",
       "\n",
       "    .dataframe tbody tr th {\n",
       "        vertical-align: top;\n",
       "    }\n",
       "\n",
       "    .dataframe thead th {\n",
       "        text-align: right;\n",
       "    }\n",
       "</style>\n",
       "<table border=\"1\" class=\"dataframe\">\n",
       "  <thead>\n",
       "    <tr style=\"text-align: right;\">\n",
       "      <th></th>\n",
       "      <th>Time</th>\n",
       "      <th>monthly_avg_gas_price</th>\n",
       "      <th>delta_monthly_avg_gas_price</th>\n",
       "      <th>State</th>\n",
       "      <th>metro</th>\n",
       "      <th>zip_code</th>\n",
       "      <th>TNX</th>\n",
       "      <th>delta_TNX</th>\n",
       "      <th>tx_is_a_lot_better</th>\n",
       "      <th>tx_is_a_little_better</th>\n",
       "      <th>...</th>\n",
       "      <th>total_sales_tax_last_year</th>\n",
       "      <th>per_diff_total_sales_tax</th>\n",
       "      <th>city</th>\n",
       "      <th>zori_ssa</th>\n",
       "      <th>delta_zori_ssa</th>\n",
       "      <th>delta_zori_ssa_12</th>\n",
       "      <th>delta_zori_ssa_6</th>\n",
       "      <th>rent_search_interest</th>\n",
       "      <th>rent_search_4_period_rsi</th>\n",
       "      <th>zori_ssa_shift_back_1</th>\n",
       "    </tr>\n",
       "    <tr>\n",
       "      <th>Date</th>\n",
       "      <th></th>\n",
       "      <th></th>\n",
       "      <th></th>\n",
       "      <th></th>\n",
       "      <th></th>\n",
       "      <th></th>\n",
       "      <th></th>\n",
       "      <th></th>\n",
       "      <th></th>\n",
       "      <th></th>\n",
       "      <th></th>\n",
       "      <th></th>\n",
       "      <th></th>\n",
       "      <th></th>\n",
       "      <th></th>\n",
       "      <th></th>\n",
       "      <th></th>\n",
       "      <th></th>\n",
       "      <th></th>\n",
       "      <th></th>\n",
       "      <th></th>\n",
       "    </tr>\n",
       "  </thead>\n",
       "  <tbody>\n",
       "    <tr>\n",
       "      <th>2015-01-01</th>\n",
       "      <td>2015-01-01</td>\n",
       "      <td>1.889</td>\n",
       "      <td>-0.415</td>\n",
       "      <td>TX</td>\n",
       "      <td>Austin</td>\n",
       "      <td>78727</td>\n",
       "      <td>1.675</td>\n",
       "      <td>-0.495</td>\n",
       "      <td>6.0</td>\n",
       "      <td>21.0</td>\n",
       "      <td>...</td>\n",
       "      <td>14547762.79</td>\n",
       "      <td>0.51</td>\n",
       "      <td>AUSTIN</td>\n",
       "      <td>1152.0</td>\n",
       "      <td>4.0</td>\n",
       "      <td>9.0</td>\n",
       "      <td>10.0</td>\n",
       "      <td>72.0</td>\n",
       "      <td>72.77152</td>\n",
       "      <td>1157.0</td>\n",
       "    </tr>\n",
       "  </tbody>\n",
       "</table>\n",
       "<p>1 rows × 166 columns</p>\n",
       "</div>"
      ],
      "text/plain": [
       "                 Time  monthly_avg_gas_price  delta_monthly_avg_gas_price  \\\n",
       "Date                                                                        \n",
       "2015-01-01 2015-01-01                  1.889                       -0.415   \n",
       "\n",
       "           State   metro  zip_code    TNX  delta_TNX  tx_is_a_lot_better  \\\n",
       "Date                                                                       \n",
       "2015-01-01    TX  Austin     78727  1.675     -0.495                 6.0   \n",
       "\n",
       "            tx_is_a_little_better  ...  total_sales_tax_last_year  \\\n",
       "Date                               ...                              \n",
       "2015-01-01                   21.0  ...                14547762.79   \n",
       "\n",
       "            per_diff_total_sales_tax    city  zori_ssa  delta_zori_ssa  \\\n",
       "Date                                                                     \n",
       "2015-01-01                      0.51  AUSTIN    1152.0             4.0   \n",
       "\n",
       "            delta_zori_ssa_12  delta_zori_ssa_6  rent_search_interest  \\\n",
       "Date                                                                    \n",
       "2015-01-01                9.0              10.0                  72.0   \n",
       "\n",
       "            rent_search_4_period_rsi  zori_ssa_shift_back_1  \n",
       "Date                                                         \n",
       "2015-01-01                  72.77152                 1157.0  \n",
       "\n",
       "[1 rows x 166 columns]"
      ]
     },
     "execution_count": 57,
     "metadata": {},
     "output_type": "execute_result"
    }
   ],
   "source": [
    "data.head(1)"
   ]
  },
  {
   "cell_type": "code",
   "execution_count": 58,
   "metadata": {},
   "outputs": [
    {
     "data": {
      "text/html": [
       "<div>\n",
       "<style scoped>\n",
       "    .dataframe tbody tr th:only-of-type {\n",
       "        vertical-align: middle;\n",
       "    }\n",
       "\n",
       "    .dataframe tbody tr th {\n",
       "        vertical-align: top;\n",
       "    }\n",
       "\n",
       "    .dataframe thead th {\n",
       "        text-align: right;\n",
       "    }\n",
       "</style>\n",
       "<table border=\"1\" class=\"dataframe\">\n",
       "  <thead>\n",
       "    <tr style=\"text-align: right;\">\n",
       "      <th></th>\n",
       "      <th>Time</th>\n",
       "      <th>monthly_avg_gas_price</th>\n",
       "      <th>delta_monthly_avg_gas_price</th>\n",
       "      <th>State</th>\n",
       "      <th>metro</th>\n",
       "      <th>zip_code</th>\n",
       "      <th>TNX</th>\n",
       "      <th>delta_TNX</th>\n",
       "      <th>tx_is_a_lot_better</th>\n",
       "      <th>tx_is_a_little_better</th>\n",
       "      <th>...</th>\n",
       "      <th>total_sales_tax_last_year</th>\n",
       "      <th>per_diff_total_sales_tax</th>\n",
       "      <th>city</th>\n",
       "      <th>zori_ssa</th>\n",
       "      <th>delta_zori_ssa</th>\n",
       "      <th>delta_zori_ssa_12</th>\n",
       "      <th>delta_zori_ssa_6</th>\n",
       "      <th>rent_search_interest</th>\n",
       "      <th>rent_search_4_period_rsi</th>\n",
       "      <th>zori_ssa_shift_back_1</th>\n",
       "    </tr>\n",
       "    <tr>\n",
       "      <th>Date</th>\n",
       "      <th></th>\n",
       "      <th></th>\n",
       "      <th></th>\n",
       "      <th></th>\n",
       "      <th></th>\n",
       "      <th></th>\n",
       "      <th></th>\n",
       "      <th></th>\n",
       "      <th></th>\n",
       "      <th></th>\n",
       "      <th></th>\n",
       "      <th></th>\n",
       "      <th></th>\n",
       "      <th></th>\n",
       "      <th></th>\n",
       "      <th></th>\n",
       "      <th></th>\n",
       "      <th></th>\n",
       "      <th></th>\n",
       "      <th></th>\n",
       "      <th></th>\n",
       "    </tr>\n",
       "  </thead>\n",
       "  <tbody>\n",
       "    <tr>\n",
       "      <th>2020-07-01</th>\n",
       "      <td>2020-07-01</td>\n",
       "      <td>1.859</td>\n",
       "      <td>0.13</td>\n",
       "      <td>TX</td>\n",
       "      <td>San Antonio</td>\n",
       "      <td>78252</td>\n",
       "      <td>0.536</td>\n",
       "      <td>-0.117</td>\n",
       "      <td>6.0</td>\n",
       "      <td>18.0</td>\n",
       "      <td>...</td>\n",
       "      <td>28841764.55</td>\n",
       "      <td>-3.64</td>\n",
       "      <td>SAN ANTONIO</td>\n",
       "      <td>1477.0</td>\n",
       "      <td>4.0</td>\n",
       "      <td>40.0</td>\n",
       "      <td>27.0</td>\n",
       "      <td>60.0</td>\n",
       "      <td>56.318689</td>\n",
       "      <td>1484.0</td>\n",
       "    </tr>\n",
       "  </tbody>\n",
       "</table>\n",
       "<p>1 rows × 166 columns</p>\n",
       "</div>"
      ],
      "text/plain": [
       "                 Time  monthly_avg_gas_price  delta_monthly_avg_gas_price  \\\n",
       "Date                                                                        \n",
       "2020-07-01 2020-07-01                  1.859                         0.13   \n",
       "\n",
       "           State        metro  zip_code    TNX  delta_TNX  tx_is_a_lot_better  \\\n",
       "Date                                                                            \n",
       "2020-07-01    TX  San Antonio     78252  0.536     -0.117                 6.0   \n",
       "\n",
       "            tx_is_a_little_better  ...  total_sales_tax_last_year  \\\n",
       "Date                               ...                              \n",
       "2020-07-01                   18.0  ...                28841764.55   \n",
       "\n",
       "            per_diff_total_sales_tax         city  zori_ssa  delta_zori_ssa  \\\n",
       "Date                                                                          \n",
       "2020-07-01                     -3.64  SAN ANTONIO    1477.0             4.0   \n",
       "\n",
       "            delta_zori_ssa_12  delta_zori_ssa_6  rent_search_interest  \\\n",
       "Date                                                                    \n",
       "2020-07-01               40.0              27.0                  60.0   \n",
       "\n",
       "            rent_search_4_period_rsi  zori_ssa_shift_back_1  \n",
       "Date                                                         \n",
       "2020-07-01                 56.318689                 1484.0  \n",
       "\n",
       "[1 rows x 166 columns]"
      ]
     },
     "execution_count": 58,
     "metadata": {},
     "output_type": "execute_result"
    }
   ],
   "source": [
    "data.tail(1)"
   ]
  },
  {
   "cell_type": "markdown",
   "metadata": {},
   "source": [
    "# Train Test Split"
   ]
  },
  {
   "cell_type": "code",
   "execution_count": 59,
   "metadata": {},
   "outputs": [],
   "source": [
    "train = data.loc['2015-01-01':'2019-12-01',:]\n",
    "test = data.loc['2020-01-01':,:]"
   ]
  },
  {
   "cell_type": "code",
   "execution_count": 100,
   "metadata": {},
   "outputs": [],
   "source": [
    "import time\n",
    "\n",
    "X_train = train.drop(['zori_ssa','delta_zori_ssa','delta_zori_ssa_12','delta_zori_ssa_6','Time','State','metro','zip_code','city','county'],axis = 1)\n",
    "# X_train = train[['zori_ssa_shift_back_6','delta_zori_ssa_shift_back_6',\n",
    "#                  'delta_zori_ssa_6_shift_back_6','delta_zori_ssa_12_shift_back_6',\n",
    "#                  'delta_zori_ssa_6_shift_back_1']]\n",
    "X_test = test.drop(['zori_ssa','delta_zori_ssa','delta_zori_ssa_12','delta_zori_ssa_6','Time','State','metro','zip_code','city','county'],axis = 1)\n",
    "# X_test = test[['zori_ssa_shift_back_6','delta_zori_ssa_shift_back_6',\n",
    "#                'delta_zori_ssa_6_shift_back_6','delta_zori_ssa_12_shift_back_6',\n",
    "#               'delta_zori_ssa_6_shift_back_1']]\n",
    "y_train = train['zori_ssa']\n",
    "y_test = test['zori_ssa']"
   ]
  },
  {
   "cell_type": "code",
   "execution_count": 101,
   "metadata": {},
   "outputs": [
    {
     "data": {
      "text/plain": [
       "monthly_avg_gas_price                                           float64\n",
       "delta_monthly_avg_gas_price                                     float64\n",
       "TNX                                                             float64\n",
       "delta_TNX                                                       float64\n",
       "tx_is_a_lot_better                                              float64\n",
       "tx_is_a_little_better                                           float64\n",
       "tx_is_abt_same                                                  float64\n",
       "tx_is_a_little_worse                                            float64\n",
       "tx_is_a_lot_worse                                               float64\n",
       "tx_is_dont_know                                                 float64\n",
       "tx_is_better                                                    float64\n",
       "tx_is_worse                                                     float64\n",
       "sap_case_shiller_index                                          float64\n",
       "delta_sap_case_shiller_index                                    float64\n",
       "ur                                                              float64\n",
       "delta_ur                                                        float64\n",
       "taxpayer_count                                                  float64\n",
       "taxpayer_org_type_cl                                            float64\n",
       "taxpayer_org_type_is                                            float64\n",
       "taxpayer_org_type_foreign                                       float64\n",
       "payer_outlet_same_zipcode                                       float64\n",
       "taxpayer_same_zip_ratio                                         float64\n",
       "taxpayer_cl_ratio                                               float64\n",
       "taxpayer_is_ratio                                               float64\n",
       "taxpayer_foreign_ratio                                          float64\n",
       "outlet_count                                                    float64\n",
       "outlet_taxpayer_non_tx                                          float64\n",
       "outlet_org_type_cl                                              float64\n",
       "outlet_org_type_is                                              float64\n",
       "outlet_org_type_foreign                                         float64\n",
       "                                                                 ...   \n",
       "female_21_annual_pct_change                                     float64\n",
       "female_50_to_54_annual_pct_change                               float64\n",
       "housing_units_built_1980_to_1989_annual_pct_change              float64\n",
       "housing_units_built_1930_to_1939_annual_pct_change              float64\n",
       "female_35_to_39_annual_pct_change                               float64\n",
       "units_paying_cash_rent_annual_pct_change                        float64\n",
       "housing_units_single_family_attached_annual_pct_change          float64\n",
       "housing_units_20_to_49_units_annual_pct_change                  float64\n",
       "female_25_to_29_annual_pct_change                               float64\n",
       "walking_to_work_population_annual_pct_change                    float64\n",
       "men_with_bachelors_degree_annual_pct_change                     float64\n",
       "quintile_1_upper_limit_annual_pct_change                        float64\n",
       "quintile_2_upper_limit_annual_pct_change                        float64\n",
       "women_with_associate_degree_annual_pct_change                   float64\n",
       "female_40_to_44_annual_pct_change                               float64\n",
       "average_household_size_owners_annual_pct_change                 float64\n",
       "female_30_to_34_annual_pct_change                               float64\n",
       "housing_units_5_to_9_units_annual_pct_change                    float64\n",
       "single_women_annual_pct_change                                  float64\n",
       "housing_units_built_1990_to_1999_annual_pct_change              float64\n",
       "housing_units_single_family_attached_owned_annual_pct_change    float64\n",
       "housing_units_over_50_units_annual_pct_change                   float64\n",
       "housing_units_built_1960_to_1969_annual_pct_change              float64\n",
       "sales_tax_rate                                                  float64\n",
       "total_sales_tax                                                 float64\n",
       "total_sales_tax_last_year                                       float64\n",
       "per_diff_total_sales_tax                                        float64\n",
       "rent_search_interest                                            float64\n",
       "rent_search_4_period_rsi                                        float64\n",
       "zori_ssa_shift_back_1                                           float64\n",
       "Length: 156, dtype: object"
      ]
     },
     "execution_count": 101,
     "metadata": {},
     "output_type": "execute_result"
    }
   ],
   "source": [
    "X_train.dtypes"
   ]
  },
  {
   "cell_type": "code",
   "execution_count": 102,
   "metadata": {},
   "outputs": [],
   "source": [
    "from xgboost import XGBRegressor"
   ]
  },
  {
   "cell_type": "code",
   "execution_count": 114,
   "metadata": {},
   "outputs": [
    {
     "data": {
      "text/plain": [
       "XGBRegressor(base_score=0.5, booster='gbtree', colsample_bylevel=1,\n",
       "       colsample_bynode=1, colsample_bytree=1, gamma=0, gpu_id=-1,\n",
       "       importance_type='gain', interaction_constraints='',\n",
       "       learning_rate=0.300000012, max_delta_step=0, max_depth=6,\n",
       "       min_child_weight=1, missing=nan, monotone_constraints='()',\n",
       "       n_estimators=12, n_jobs=8, num_parallel_tree=1,\n",
       "       objective='reg:squarederror', random_state=0, reg_alpha=0,\n",
       "       reg_lambda=1, scale_pos_weight=1, subsample=1, tree_method='exact',\n",
       "       validate_parameters=1, verbosity=None)"
      ]
     },
     "execution_count": 114,
     "metadata": {},
     "output_type": "execute_result"
    }
   ],
   "source": [
    "model = XGBRegressor(objective = 'reg:squarederror', n_estimators = 12)\n",
    "model.fit(X_train,y_train)"
   ]
  },
  {
   "cell_type": "code",
   "execution_count": 115,
   "metadata": {},
   "outputs": [
    {
     "data": {
      "text/plain": [
       "0.9830023321051287"
      ]
     },
     "execution_count": 115,
     "metadata": {},
     "output_type": "execute_result"
    }
   ],
   "source": [
    "model.score(X_train,y_train)"
   ]
  },
  {
   "cell_type": "code",
   "execution_count": 116,
   "metadata": {},
   "outputs": [
    {
     "data": {
      "text/plain": [
       "0.9753161116508539"
      ]
     },
     "execution_count": 116,
     "metadata": {},
     "output_type": "execute_result"
    }
   ],
   "source": [
    "model.score(X_test,y_test)"
   ]
  },
  {
   "cell_type": "code",
   "execution_count": 135,
   "metadata": {},
   "outputs": [
    {
     "data": {
      "application/vnd.plotly.v1+json": {
       "config": {
        "plotlyServerURL": "https://plot.ly"
       },
       "data": [
        {
         "hovertemplate": "predicted_values=%{x}<br>zori_ssa=%{y}<extra></extra>",
         "legendgroup": "",
         "marker": {
          "color": "#636efa",
          "symbol": "circle"
         },
         "mode": "markers",
         "name": "",
         "showlegend": false,
         "type": "scattergl",
         "x": [
          1315.49462890625,
          1296.8277587890625,
          1494.537353515625,
          1442.7850341796875,
          1338.2205810546875,
          1637.32080078125,
          1627.0758056640625,
          1300.4923095703125,
          1277.4212646484375,
          1261.7159423828125,
          1518.4912109375,
          1415.16552734375,
          1417.9207763671875,
          1380.9248046875,
          1298.2510986328125,
          1379.7110595703125,
          1208.8392333984375,
          1481.0146484375,
          1496.4564208984375,
          1380.9248046875,
          1171.0638427734375,
          2389.4716796875,
          1565.93310546875,
          2177.78515625,
          1288.5218505859375,
          1539.4378662109375,
          1576.6141357421875,
          1297.89794921875,
          1315.7247314453125,
          1671.7298583984375,
          1757.6717529296875,
          1208.8392333984375,
          1671.5994873046875,
          1069.3592529296875,
          1446.76513671875,
          1576.8768310546875,
          1258.5853271484375,
          1241.8758544921875,
          1574.5146484375,
          1353.4517822265625,
          1452.7457275390625,
          1315.7247314453125,
          1376.7523193359375,
          1576.6141357421875,
          1277.4212646484375,
          1625.9749755859375,
          1998.6153564453125,
          1314.8828125,
          1815.2574462890625,
          1724.578369140625,
          1173.5982666015625,
          1576.6141357421875,
          1231.4224853515625,
          1380.6947021484375,
          1452.7457275390625,
          1433.944091796875,
          1637.32080078125,
          1539.7005615234375,
          1417.690673828125,
          1450.6053466796875,
          1351.3878173828125,
          2098.72705078125,
          1492.51513671875,
          1417.9207763671875,
          1433.944091796875,
          1380.6947021484375,
          1625.9749755859375,
          1539.7005615234375,
          1433.944091796875,
          1743.906494140625,
          1119.69580078125,
          1485.291259765625,
          1702.9970703125,
          1380.6947021484375,
          1839.7874755859375,
          1492.51513671875,
          1791.5543212890625,
          1565.93310546875,
          1433.944091796875,
          1674.171630859375,
          1380.6947021484375,
          1357.1688232421875,
          1315.7247314453125,
          1534.832275390625,
          1496.4564208984375,
          1065.1719970703125,
          1572.1263427734375,
          1379.941162109375,
          1380.9248046875,
          1702.9970703125,
          1380.6947021484375,
          1439.22607421875,
          1642.8345947265625,
          1532.0333251953125,
          1485.7178955078125,
          1359.2327880859375,
          1439.4561767578125,
          1158.0208740234375,
          1641.0848388671875,
          1518.4912109375,
          1625.9749755859375,
          1417.9207763671875,
          1450.6053466796875,
          1702.9970703125,
          1480.5880126953125,
          1701.2568359375,
          1415.3956298828125,
          1627.0758056640625,
          1401.0133056640625,
          1181.0748291015625,
          1301.8607177734375,
          1380.9248046875,
          865.937744140625,
          1459.4097900390625,
          1162.4478759765625,
          1670.4986572265625,
          1698.8055419921875,
          1637.32080078125,
          1313.1719970703125,
          843.59814453125,
          1532.0333251953125,
          1446.5350341796875,
          1316.077880859375,
          1136.3189697265625,
          1380.9248046875,
          1576.8768310546875,
          1304.27783203125,
          1496.4564208984375,
          1417.690673828125,
          1485.7178955078125,
          1682.9381103515625,
          1352.055908203125,
          1846.4844970703125,
          1417.690673828125,
          1539.7005615234375,
          1636.219970703125,
          1357.1688232421875,
          1173.5982666015625,
          1336.509765625,
          1452.7457275390625,
          1539.4378662109375,
          925.2947387695312,
          1258.7669677734375,
          1434.1741943359375,
          1331.7552490234375,
          988.3483276367188,
          1078.804443359375,
          1180.0892333984375,
          1450.6053466796875,
          1415.3956298828125,
          1415.3956298828125,
          1353.3287353515625,
          1539.7005615234375,
          1275.0841064453125,
          1230.8106689453125,
          1358.879638671875,
          1434.1741943359375,
          1492.9417724609375,
          1480.5880126953125,
          1638.8016357421875,
          1180.0892333984375,
          1228.21630859375,
          1631.62353515625,
          892.0661010742188,
          1227.7608642578125,
          1091.0841064453125,
          1682.9476318359375,
          1701.247314453125,
          1273.2017822265625,
          1359.462890625,
          1534.832275390625,
          1144.1749267578125,
          1576.8768310546875,
          1415.16552734375,
          1433.944091796875,
          1415.16552734375,
          1338.45068359375,
          1485.7178955078125,
          1483.5963134765625,
          991.61767578125,
          1455.327392578125,
          1359.2327880859375,
          1338.45068359375,
          882.0670166015625,
          1260.9224853515625,
          1485.7178955078125,
          1188.5555419921875,
          1299.1649169921875,
          1241.8758544921875,
          1230.2802734375,
          1108.5150146484375,
          1095.5111083984375,
          1415.16552734375,
          1338.45068359375,
          1380.9248046875,
          811.0390014648438,
          914.1224975585938,
          1288.3402099609375,
          1112.9420166015625,
          959.7131958007812,
          856.1156616210938,
          1260.57373046875,
          1069.3592529296875,
          1049.71728515625,
          1012.0890502929688,
          1446.5350341796875,
          1034.6578369140625,
          1174.126953125,
          1415.3956298828125,
          1415.3956298828125,
          1201.581787109375,
          1241.61865234375,
          1338.57373046875,
          1433.944091796875,
          1315.49462890625,
          1286.0030517578125,
          1494.537353515625,
          1446.5350341796875,
          1338.2205810546875,
          1637.32080078125,
          1627.0758056640625,
          1300.4923095703125,
          1277.4212646484375,
          1261.7159423828125,
          1494.537353515625,
          1415.16552734375,
          1417.9207763671875,
          1380.9248046875,
          1298.2510986328125,
          1380.6947021484375,
          1208.8392333984375,
          1481.0146484375,
          1496.4564208984375,
          1380.9248046875,
          1171.0638427734375,
          2389.4716796875,
          1565.93310546875,
          2177.78515625,
          1299.3465576171875,
          1565.67041015625,
          1576.6141357421875,
          1301.8607177734375,
          1315.7247314453125,
          1671.7298583984375,
          1757.6717529296875,
          1208.8392333984375,
          1671.5994873046875,
          1091.0841064453125,
          1446.76513671875,
          1576.8768310546875,
          1275.0841064453125,
          1258.7669677734375,
          1576.6141357421875,
          1353.4517822265625,
          1452.7457275390625,
          1315.7247314453125,
          1380.6947021484375,
          1627.0758056640625,
          1277.4212646484375,
          1625.9749755859375,
          1998.6153564453125,
          1333.466064453125,
          1815.2574462890625,
          1738.74853515625,
          1181.0748291015625,
          1576.6141357421875,
          1231.4224853515625,
          1380.6947021484375,
          1452.7457275390625,
          1433.944091796875,
          1637.32080078125,
          1539.7005615234375,
          1433.944091796875,
          1481.0146484375,
          1357.1688232421875,
          2098.72705078125,
          1496.4564208984375,
          1417.9207763671875,
          1439.22607421875,
          1380.6947021484375,
          1625.9749755859375,
          1539.7005615234375,
          1439.22607421875,
          1718.6346435546875,
          1140.7459716796875,
          1496.4564208984375,
          1702.9970703125,
          1379.7110595703125,
          1839.7874755859375,
          1496.4564208984375,
          1813.3846435546875,
          1574.77734375,
          1439.22607421875,
          1674.171630859375,
          1380.6947021484375,
          1357.1688232421875,
          1315.7247314453125,
          1518.4912109375,
          1496.4564208984375,
          1065.1719970703125,
          1572.1263427734375,
          1381.05517578125,
          1380.9248046875,
          1702.9970703125,
          1380.6947021484375,
          1450.375244140625,
          1642.8345947265625,
          1536.901611328125,
          1491.2994384765625,
          1318.617919921875,
          1439.4561767578125,
          1158.0208740234375,
          1641.0848388671875,
          1494.537353515625,
          1631.4931640625,
          1417.9207763671875,
          1450.6053466796875,
          1702.9970703125,
          1485.291259765625,
          1701.2568359375,
          1417.9207763671875,
          1627.0758056640625,
          1401.0133056640625,
          1181.0748291015625,
          1301.8607177734375,
          1380.9248046875,
          865.937744140625,
          1451.5677490234375,
          1162.4478759765625,
          1670.4986572265625,
          1698.8055419921875,
          1637.32080078125,
          1313.1719970703125,
          848.2990112304688,
          1532.0333251953125,
          1439.22607421875,
          1316.077880859375,
          1136.3189697265625,
          1380.9248046875,
          1576.8768310546875,
          1304.27783203125,
          1496.4564208984375,
          1417.690673828125,
          1485.7178955078125,
          1682.9381103515625,
          1352.055908203125,
          1846.4844970703125,
          1433.944091796875,
          1539.7005615234375,
          1636.219970703125,
          1316.553955078125,
          1173.5982666015625,
          1336.509765625,
          1477.751220703125,
          1539.4378662109375,
          925.2947387695312,
          1275.2657470703125,
          1434.1741943359375,
          1331.7552490234375,
          991.61767578125,
          1078.804443359375,
          1180.0892333984375,
          1450.6053466796875,
          1415.3956298828125,
          1417.9207763671875,
          1353.3287353515625,
          1539.7005615234375,
          1275.0841064453125,
          1241.8758544921875,
          1318.2647705078125,
          1434.1741943359375,
          1494.537353515625,
          1485.291259765625,
          1638.8016357421875,
          1180.0892333984375,
          1239.281494140625,
          1626.1053466796875,
          892.0661010742188,
          1227.7608642578125,
          1091.0841064453125,
          1680.0970458984375,
          1701.247314453125,
          1273.2017822265625,
          1359.462890625,
          1539.7005615234375,
          1162.0467529296875,
          1576.8768310546875,
          1415.16552734375,
          1433.944091796875,
          1415.16552734375,
          1334.3079833984375,
          1490.3873291015625,
          1483.5963134765625,
          991.61767578125,
          1455.327392578125,
          1359.2327880859375,
          1338.45068359375,
          892.0661010742188,
          1260.9224853515625,
          1485.7178955078125,
          1192.4521484375,
          1300.3106689453125,
          1241.8758544921875,
          1230.2802734375,
          1108.5150146484375,
          1095.5111083984375,
          1415.16552734375,
          1338.45068359375,
          1380.9248046875,
          811.0390014648438,
          914.1224975585938,
          1288.3402099609375,
          1112.9420166015625,
          959.7131958007812,
          856.1156616210938,
          1260.57373046875,
          1069.3592529296875,
          1049.71728515625,
          1012.0890502929688,
          1446.5350341796875,
          1034.6578369140625,
          1174.126953125,
          1415.3956298828125,
          1415.3956298828125,
          1201.581787109375,
          1241.61865234375,
          1353.4517822265625,
          1433.944091796875,
          1334.077880859375,
          1280.5576171875,
          1494.537353515625,
          1450.375244140625,
          1353.0986328125,
          1637.32080078125,
          1632.593994140625,
          1300.4923095703125,
          1282.894775390625,
          1261.7159423828125,
          1494.537353515625,
          1415.16552734375,
          1417.9207763671875,
          1380.9248046875,
          1298.2510986328125,
          1380.6947021484375,
          1208.8392333984375,
          1481.0146484375,
          1496.4564208984375,
          1380.9248046875,
          1166.0958251953125,
          2389.4716796875,
          1565.93310546875,
          2177.78515625,
          1300.4923095703125,
          1572.1263427734375,
          1576.6141357421875,
          1301.8607177734375,
          1315.7247314453125,
          1671.7298583984375,
          1757.6717529296875,
          1208.8392333984375,
          1671.5994873046875,
          1091.0841064453125,
          1446.76513671875,
          1625.9749755859375,
          1275.0841064453125,
          1258.7669677734375,
          1576.6141357421875,
          1359.2327880859375,
          1452.7457275390625,
          1315.7247314453125,
          1380.6947021484375,
          1627.0758056640625,
          1277.4212646484375,
          1625.9749755859375,
          1998.6153564453125,
          1333.466064453125,
          1815.2574462890625,
          1738.74853515625,
          1186.956298828125,
          1627.0758056640625,
          1231.4224853515625,
          1380.6947021484375,
          1452.7457275390625,
          1433.944091796875,
          1637.32080078125,
          1539.7005615234375,
          1433.944091796875,
          1481.0146484375,
          1357.1688232421875,
          2177.78515625,
          1515.6922607421875,
          1417.9207763671875,
          1420.1573486328125,
          1379.7110595703125,
          1625.9749755859375,
          1539.7005615234375,
          1446.5350341796875,
          1718.6346435546875,
          1140.7459716796875,
          1496.4564208984375,
          1702.9970703125,
          1379.7110595703125,
          1839.7874755859375,
          1496.4564208984375,
          1813.3846435546875,
          1576.8768310546875,
          1442.7850341796875,
          1681.1883544921875,
          1380.6947021484375,
          1361.7432861328125,
          1315.7247314453125,
          1494.537353515625,
          1496.4564208984375,
          1073.7862548828125,
          1574.5146484375,
          1381.05517578125,
          1380.9248046875,
          1702.9970703125,
          1380.6947021484375,
          1452.7457275390625,
          1642.8345947265625,
          1539.4378662109375,
          1494.537353515625,
          1318.617919921875,
          1434.1741943359375,
          1173.5982666015625,
          1641.0848388671875,
          1494.537353515625,
          1636.219970703125,
          1415.3956298828125,
          1450.6053466796875,
          1702.9970703125,
          1485.291259765625,
          1701.2568359375,
          1417.9207763671875,
          1627.0758056640625,
          1415.3956298828125,
          1186.956298828125,
          1312.81884765625,
          1380.9248046875,
          865.937744140625,
          1451.5677490234375,
          1178.0252685546875,
          1670.4986572265625,
          1698.8055419921875,
          1637.32080078125,
          1331.7552490234375,
          851.081787109375,
          1503.998291015625,
          1439.22607421875,
          1316.077880859375,
          1154.1907958984375,
          1380.9248046875,
          1625.9749755859375,
          1304.27783203125,
          1496.4564208984375,
          1433.944091796875,
          1485.7178955078125,
          1702.9970703125,
          1352.055908203125,
          1846.4844970703125,
          1439.22607421875,
          1539.7005615234375,
          1670.4986572265625,
          1316.553955078125,
          1173.5982666015625,
          1351.3878173828125,
          1480.5880126953125,
          1380.4595947265625,
          959.7131958007812,
          1275.2657470703125,
          1434.1741943359375,
          1336.509765625,
          991.61767578125,
          1078.804443359375,
          1164.5118408203125,
          1450.6053466796875,
          1415.3956298828125,
          1417.9207763671875,
          1353.3287353515625,
          1539.7005615234375,
          1275.0841064453125,
          1241.8758544921875,
          1318.2647705078125,
          1434.1741943359375,
          1494.537353515625,
          1485.291259765625,
          1638.8016357421875,
          1180.0892333984375,
          1239.281494140625,
          1626.1053466796875,
          892.0661010742188,
          1227.7608642578125,
          1091.0841064453125,
          1673.080322265625,
          1701.247314453125,
          1278.67529296875,
          1359.462890625,
          1539.7005615234375,
          1159.7381591796875,
          1576.8768310546875,
          1417.690673828125,
          1433.944091796875,
          1415.16552734375,
          1334.3079833984375,
          1494.537353515625,
          1453.18701171875,
          991.61767578125,
          1455.327392578125,
          1359.2327880859375,
          1338.45068359375,
          892.0661010742188,
          1260.9224853515625,
          1481.0146484375,
          1201.581787109375,
          1300.3106689453125,
          1241.8758544921875,
          1230.2802734375,
          1115.268798828125,
          1095.5111083984375,
          1417.690673828125,
          1338.45068359375,
          1380.9248046875,
          811.0390014648438,
          925.2947387695312,
          1288.3402099609375,
          1112.9420166015625,
          959.7131958007812,
          865.937744140625,
          1277.072509765625,
          1069.3592529296875,
          1049.71728515625,
          1012.0890502929688,
          1450.375244140625,
          1032.3492431640625,
          1171.818359375,
          1415.3956298828125,
          1415.3956298828125,
          1208.8392333984375,
          1241.61865234375,
          1359.2327880859375,
          1439.22607421875,
          1349.43896484375,
          1290.4451904296875,
          1517.3062744140625,
          1421.4420166015625,
          1353.0986328125,
          1632.47509765625,
          1632.47509765625,
          1300.4923095703125,
          1300.090576171875,
          1273.46630859375,
          1493.3524169921875,
          1401.2406005859375,
          1418.378173828125,
          1381.3822021484375,
          1294.4150390625,
          1381.152099609375,
          1225.16650390625,
          1481.4720458984375,
          1491.3302001953125,
          1381.3822021484375,
          1181.4569091796875,
          2389.4716796875,
          1564.7481689453125,
          2177.78515625,
          1300.4923095703125,
          1576.4952392578125,
          1574.395751953125,
          1312.81884765625,
          1331.0858154296875,
          1671.7298583984375,
          1734.3077392578125,
          1208.8392333984375,
          1637.201904296875,
          1091.0841064453125,
          1451.062744140625,
          1625.8560791015625,
          1290.4451904296875,
          1258.7669677734375,
          1576.4952392578125,
          1359.2327880859375,
          1453.203125,
          1331.0858154296875,
          1401.2406005859375,
          1632.47509765625,
          1294.6451416015625,
          1625.8560791015625,
          1998.6153564453125,
          1338.2205810546875,
          1812.56640625,
          1756.73046875,
          1192.4521484375,
          1619.3138427734375,
          1246.7835693359375,
          1381.152099609375,
          1453.203125,
          1434.4014892578125,
          1637.201904296875,
          1564.7481689453125,
          1415.2313232421875,
          1481.4720458984375,
          1361.7432861328125,
          2177.78515625,
          1530.848388671875,
          1384.0919189453125,
          1422.9852294921875,
          1375.04150390625,
          1636.10107421875,
          1564.7481689453125,
          1450.8326416015625,
          1715.943603515625,
          1140.7459716796875,
          1530.848388671875,
          1700.3060302734375,
          1380.287353515625,
          1839.7874755859375,
          1514.50732421875,
          1818.18212890625,
          1576.7579345703125,
          1446.992431640625,
          1698.5562744140625,
          1381.152099609375,
          1361.7432861328125,
          1331.0858154296875,
          1493.3524169921875,
          1514.50732421875,
          1073.7862548828125,
          1576.4952392578125,
          1381.6314697265625,
          1401.470703125,
          1700.3060302734375,
          1401.2406005859375,
          1478.2086181640625,
          1640.1435546875,
          1538.2529296875,
          1493.3524169921875,
          1331.9161376953125,
          1434.631591796875,
          1173.5982666015625,
          1629.9228515625,
          1493.3524169921875,
          1636.10107421875,
          1415.85302734375,
          1481.4720458984375,
          1710.78564453125,
          1491.3302001953125,
          1701.2568359375,
          1434.631591796875,
          1626.9569091796875,
          1415.85302734375,
          1188.5555419921875,
          1312.81884765625,
          1401.470703125,
          865.937744140625,
          1451.4488525390625,
          1178.0252685546875,
          1670.3797607421875,
          1678.74658203125,
          1637.201904296875,
          1331.7552490234375,
          856.1156616210938,
          1505.349609375,
          1439.6834716796875,
          1331.43896484375,
          1154.1907958984375,
          1381.3822021484375,
          1625.8560791015625,
          1304.27783203125,
          1495.271484375,
          1434.4014892578125,
          1486.17529296875,
          1700.3060302734375,
          1352.055908203125,
          1846.4844970703125,
          1450.8326416015625,
          1538.515625,
          1670.3797607421875,
          1329.8521728515625,
          1173.5982666015625,
          1357.1688232421875,
          1485.7486572265625,
          1379.274658203125,
          959.7131958007812,
          1280.7392578125,
          1434.631591796875,
          1336.509765625,
          991.61767578125,
          1089.6558837890625,
          1164.5118408203125,
          1451.062744140625,
          1415.85302734375,
          1434.631591796875,
          1338.45068359375,
          1533.6473388671875,
          1290.4451904296875,
          1241.8758544921875,
          1331.56298828125,
          1439.91357421875,
          1493.3524169921875,
          1491.3302001953125,
          1634.0748291015625,
          1180.0892333984375,
          1239.281494140625,
          1626.1053466796875,
          892.0661010742188,
          1227.7608642578125,
          1091.0841064453125,
          1673.080322265625,
          1709.035888671875,
          1284.1207275390625,
          1353.681884765625,
          1538.515625,
          1172.7073974609375,
          1576.7579345703125,
          1434.4014892578125,
          1434.4014892578125,
          1383.86181640625,
          1338.45068359375,
          1493.3524169921875,
          1453.7633056640625,
          1012.0890502929688,
          1453.533203125,
          1359.2327880859375,
          1338.45068359375,
          910.7266235351562,
          1264.9752197265625,
          1481.4720458984375,
          1201.581787109375,
          1320.127685546875,
          1241.8758544921875,
          1230.2802734375,
          1115.268798828125,
          1095.5111083984375,
          1418.1480712890625,
          1353.3287353515625,
          1381.3822021484375,
          823.8154907226562,
          925.2947387695312,
          1300.090576171875,
          1112.9420166015625,
          959.7131958007812,
          865.937744140625,
          1273.4617919921875,
          1069.3592529296875,
          1049.71728515625,
          1012.0890502929688,
          1453.203125,
          1045.8193359375,
          1171.818359375,
          1408.2099609375,
          1415.85302734375,
          1225.16650390625,
          1238.0079345703125,
          1359.2327880859375,
          1446.992431640625,
          1334.077880859375,
          1275.0841064453125,
          1518.4912109375,
          1452.7457275390625,
          1358.879638671875,
          1627.0758056640625,
          1632.593994140625,
          1300.4923095703125,
          1288.3402099609375,
          1261.7159423828125,
          1494.537353515625,
          1400.783203125,
          1417.9207763671875,
          1380.9248046875,
          1294.4150390625,
          1380.6947021484375,
          1225.16650390625,
          1491.2994384765625,
          1485.291259765625,
          1380.9248046875,
          1163.9779052734375,
          2360.82568359375,
          1565.93310546875,
          2177.78515625,
          1303.9246826171875,
          1576.6141357421875,
          1572.1263427734375,
          1312.81884765625,
          1315.7247314453125,
          1671.7298583984375,
          1736.998779296875,
          1208.8392333984375,
          1637.32080078125,
          1091.0841064453125,
          1450.6053466796875,
          1625.9749755859375,
          1275.0841064453125,
          1258.7669677734375,
          1627.0758056640625,
          1359.2327880859375,
          1452.7457275390625,
          1315.7247314453125,
          1415.16552734375,
          1637.32080078125,
          1282.894775390625,
          1625.9749755859375,
          1998.6153564453125,
          1353.0986328125,
          1826.4871826171875,
          1759.4215087890625,
          1192.4521484375,
          1627.0758056640625,
          1231.4224853515625,
          1380.6947021484375,
          1477.751220703125,
          1439.22607421875,
          1637.32080078125,
          1565.93310546875,
          1450.375244140625,
          1485.7178955078125,
          1375.04150390625,
          2177.78515625,
          1539.4378662109375,
          1415.3956298828125,
          1422.52783203125,
          1375.04150390625,
          1636.219970703125,
          1565.93310546875,
          1452.7457275390625,
          1708.155029296875,
          1158.6177978515625,
          1532.0333251953125,
          1713.4766845703125,
          1379.7110595703125,
          1839.7874755859375,
          1532.0333251953125,
          1821.4923095703125,
          1576.8768310546875,
          1450.375244140625,
          1701.247314453125,
          1380.6947021484375,
          1375.04150390625,
          1315.7247314453125,
          1491.2994384765625,
          1446.81494140625,
          1073.7862548828125,
          1576.6141357421875,
          1381.05517578125,
          1415.3956298828125,
          1713.4766845703125,
          1400.783203125,
          1480.5880126953125,
          1660.2144775390625,
          1539.4378662109375,
          1534.832275390625,
          1335.50537109375,
          1434.1741943359375,
          1173.5982666015625,
          1632.6138916015625,
          1494.537353515625,
          1718.271240234375,
          1415.3956298828125,
          1481.0146484375,
          1713.4766845703125,
          1496.4564208984375,
          1681.1978759765625,
          1434.1741943359375,
          1637.32080078125,
          1415.3956298828125,
          1192.4521484375,
          1312.81884765625,
          1401.0133056640625,
          882.0670166015625,
          1500.6658935546875,
          1178.0252685546875,
          1682.9381103515625,
          1678.74658203125,
          1637.32080078125,
          1336.509765625,
          856.1156616210938,
          1506.5345458984375,
          1439.22607421875,
          1316.077880859375,
          1154.1907958984375,
          1380.9248046875,
          1625.9749755859375,
          1315.2359619140625,
          1496.4564208984375,
          1442.7850341796875,
          1485.7178955078125,
          1702.9970703125,
          1352.055908203125,
          1846.4844970703125,
          1452.7457275390625,
          1539.7005615234375,
          1680.0875244140625,
          1334.521728515625,
          1173.5982666015625,
          1357.1688232421875,
          1492.51513671875,
          1386.91552734375,
          959.7131958007812,
          1286.1846923828125,
          1439.4561767578125,
          1351.3878173828125,
          991.61767578125,
          1100.529296875,
          1159.5438232421875,
          1481.0146484375,
          1415.3956298828125,
          1434.1741943359375,
          1338.45068359375,
          1534.832275390625,
          1275.0841064453125,
          1241.8758544921875,
          1334.1685791015625,
          1446.76513671875,
          1494.537353515625,
          1496.4564208984375,
          1628.556640625,
          1180.0892333984375,
          1239.281494140625,
          1626.1053466796875,
          892.0661010742188,
          1229.0706787109375,
          1091.0841064453125,
          1638.8016357421875,
          1711.7269287109375,
          1284.1207275390625,
          1338.8038330078125,
          1565.93310546875,
          1166.8240966796875,
          1576.8768310546875,
          1433.944091796875,
          1442.7850341796875,
          1415.16552734375,
          1338.45068359375,
          1494.537353515625,
          1449.3468017578125,
          1012.0890502929688,
          1449.11669921875,
          1359.2327880859375,
          1338.45068359375,
          910.7266235351562,
          1244.0313720703125,
          1481.0146484375,
          1208.8392333984375,
          1315.7247314453125,
          1241.8758544921875,
          1228.540283203125,
          1125.0152587890625,
          1095.5111083984375,
          1433.944091796875,
          1353.3287353515625,
          1401.0133056640625,
          843.59814453125,
          925.2947387695312,
          1288.3402099609375,
          1119.69580078125,
          959.7131958007812,
          865.937744140625,
          1282.5460205078125,
          1069.3592529296875,
          1049.71728515625,
          1012.0890502929688,
          1452.7457275390625,
          1056.8470458984375,
          1179.294921875,
          1415.3956298828125,
          1415.3956298828125,
          1225.16650390625,
          1250.8121337890625,
          1363.8072509765625,
          1450.375244140625,
          1334.077880859375,
          1258.5853271484375,
          1534.832275390625,
          1452.7457275390625,
          1358.879638671875,
          1627.0758056640625,
          1637.32080078125,
          1303.9246826171875,
          1300.3106689453125,
          1261.7159423828125,
          1491.2994384765625,
          1380.6947021484375,
          1417.9207763671875,
          1379.941162109375,
          1294.4150390625,
          1400.783203125,
          1225.16650390625,
          1494.537353515625,
          1485.291259765625,
          1380.9248046875,
          1163.9779052734375,
          2360.82568359375,
          1565.93310546875,
          2177.78515625,
          1303.9246826171875,
          1627.0758056640625,
          1565.67041015625,
          1331.402099609375,
          1315.7247314453125,
          1637.451171875,
          1736.998779296875,
          1201.581787109375,
          1637.32080078125,
          1108.5150146484375,
          1450.6053466796875,
          1625.9749755859375,
          1275.0841064453125,
          1258.7669677734375,
          1627.0758056640625,
          1359.2327880859375,
          1452.7457275390625,
          1334.3079833984375,
          1417.690673828125,
          1386.738037109375,
          1288.3402099609375,
          1625.9749755859375,
          1998.6153564453125,
          1358.879638671875,
          1826.4871826171875,
          1673.4736328125,
          1201.581787109375,
          1632.593994140625,
          1242.4876708984375,
          1380.6947021484375,
          1477.751220703125,
          1442.7850341796875,
          1637.32080078125,
          1565.93310546875,
          1452.7457275390625,
          1494.537353515625,
          1380.6947021484375,
          2177.78515625,
          1539.4378662109375,
          1415.3956298828125,
          1447.533203125,
          1361.7432861328125,
          1385.63720703125,
          1572.3890380859375,
          1477.751220703125,
          1708.155029296875,
          1159.5438232421875,
          1539.4378662109375,
          1713.4766845703125,
          1379.7110595703125,
          1839.7874755859375,
          1532.0333251953125,
          1821.4923095703125,
          1576.8768310546875,
          1452.7457275390625,
          1711.7269287109375,
          1379.7110595703125,
          1380.6947021484375,
          1315.7247314453125,
          1485.7178955078125,
          1446.81494140625,
          1073.7862548828125,
          1576.6141357421875,
          1381.05517578125,
          1415.3956298828125,
          1713.4766845703125,
          1400.783203125,
          1485.291259765625,
          1660.2144775390625,
          1539.4378662109375,
          1534.832275390625,
          1335.50537109375,
          1434.1741943359375,
          1173.5982666015625,
          1549.5799560546875,
          1494.537353515625,
          1718.271240234375,
          1415.3956298828125,
          1481.0146484375,
          1724.578369140625,
          1496.4564208984375,
          1681.1978759765625,
          1439.4561767578125,
          1637.32080078125,
          1415.3956298828125,
          1201.581787109375,
          1331.402099609375,
          1415.3956298828125,
          882.0670166015625,
          1500.6658935546875,
          1178.0252685546875,
          1682.9381103515625,
          1678.74658203125,
          1637.32080078125,
          1336.509765625,
          865.937744140625,
          1532.76708984375,
          1439.22607421875,
          1316.077880859375,
          1155.1168212890625,
          1401.0133056640625,
          1631.4931640625,
          1315.2359619140625,
          1496.4564208984375,
          1450.375244140625,
          1485.7178955078125,
          1702.9970703125,
          1352.055908203125,
          1846.4844970703125,
          1477.751220703125,
          1565.93310546875,
          1682.9381103515625,
          1335.50537109375,
          1173.5982666015625,
          1361.7432861328125,
          1496.4564208984375,
          1355.9083251953125,
          959.7131958007812,
          1297.0093994140625,
          1443.01513671875,
          1357.1688232421875,
          1012.0890502929688,
          1100.529296875,
          1159.5438232421875,
          1481.0146484375,
          1417.9207763671875,
          1439.4561767578125,
          1338.45068359375,
          1494.537353515625,
          1275.0841064453125,
          1241.8758544921875,
          1335.50537109375,
          1446.76513671875,
          1494.537353515625,
          1496.4564208984375,
          1628.556640625,
          1180.0892333984375,
          1256.172607421875,
          1626.1053466796875,
          910.7266235351562,
          1230.8106689453125,
          1108.5150146484375,
          1638.8016357421875,
          1711.7269287109375,
          1284.1207275390625,
          1338.8038330078125,
          1565.93310546875,
          1182.4014892578125,
          1625.9749755859375,
          1446.5350341796875,
          1446.5350341796875,
          1415.16552734375,
          1338.45068359375,
          1494.537353515625,
          1436.755859375,
          1012.0890502929688,
          1441.8077392578125,
          1359.2327880859375,
          1338.45068359375,
          910.7266235351562,
          1244.0313720703125,
          1481.0146484375,
          1225.16650390625,
          1315.7247314453125,
          1241.8758544921875,
          1227.23046875,
          1136.3189697265625,
          1095.5111083984375,
          1433.944091796875,
          1359.1097412109375,
          1401.0133056640625,
          843.59814453125,
          925.2947387695312,
          1288.3402099609375,
          1119.69580078125,
          959.7131958007812,
          865.937744140625,
          1287.991455078125,
          1069.3592529296875,
          1049.71728515625,
          1012.0890502929688,
          1452.7457275390625,
          1065.46142578125,
          1179.294921875,
          1415.3956298828125,
          1415.3956298828125,
          1226.476318359375,
          1258.509765625,
          1377.10546875,
          1452.7457275390625,
          1338.2205810546875,
          1258.5853271484375,
          1534.832275390625,
          1452.7457275390625,
          1363.4541015625,
          1627.0758056640625,
          1637.32080078125,
          1303.9246826171875,
          1304.7666015625,
          1278.2147216796875,
          1492.9417724609375,
          1380.6947021484375,
          1417.9207763671875,
          1380.9248046875,
          1294.4150390625,
          1400.783203125,
          1225.16650390625,
          1494.537353515625,
          1480.5880126953125,
          1380.9248046875,
          1166.0958251953125,
          2360.82568359375,
          1565.93310546875,
          2177.78515625,
          1314.8828125,
          1627.0758056640625,
          1565.67041015625,
          1336.1566162109375,
          1334.3079833984375,
          1671.7298583984375,
          1736.998779296875,
          1201.581787109375,
          1637.32080078125,
          1108.5150146484375,
          1450.6053466796875,
          1631.4931640625,
          1275.0841064453125,
          1258.7669677734375,
          1627.0758056640625,
          1363.8072509765625,
          1452.7457275390625,
          1338.45068359375,
          1433.944091796875,
          1386.738037109375,
          1288.3402099609375,
          1631.4931640625,
          1998.6153564453125,
          1358.879638671875,
          1829.79736328125,
          1673.4736328125,
          1208.8392333984375,
          1637.32080078125,
          1242.4876708984375,
          1380.6947021484375,
          1477.751220703125,
          1452.7457275390625,
          1637.32080078125,
          1572.3890380859375,
          1452.7457275390625,
          1494.537353515625,
          1380.6947021484375,
          2177.78515625,
          1565.67041015625,
          1415.3956298828125,
          1450.3699951171875,
          1375.04150390625,
          1388.2093505859375,
          1576.8768310546875,
          1480.5880126953125,
          1708.155029296875,
          1159.5438232421875,
          1539.4378662109375,
          1738.74853515625,
          1380.6947021484375,
          1839.7874755859375,
          1536.901611328125,
          1821.4923095703125,
          1576.8768310546875,
          1452.7457275390625,
          1711.7269287109375,
          1380.6947021484375,
          1380.6947021484375,
          1315.7247314453125,
          1485.7178955078125,
          1446.81494140625,
          1073.7862548828125,
          1576.6141357421875,
          1381.05517578125,
          1417.9207763671875,
          1738.74853515625,
          1400.783203125,
          1492.51513671875,
          1704.210205078125,
          1565.67041015625,
          1539.7005615234375,
          1335.50537109375,
          1434.1741943359375,
          1181.0748291015625,
          1549.5799560546875,
          1518.4912109375,
          1730.710693359375,
          1417.9207763671875,
          1485.7178955078125,
          1642.8345947265625,
          1515.6922607421875,
          1681.1978759765625,
          1446.76513671875,
          1671.5994873046875,
          1417.9207763671875,
          1208.8392333984375,
          1336.1566162109375,
          1415.3956298828125,
          882.0670166015625,
          1500.6658935546875,
          1178.0252685546875,
          1702.9970703125,
          1678.74658203125,
          1637.32080078125,
          1351.3878173828125,
          865.937744140625,
          1532.76708984375,
          1446.5350341796875,
          1316.077880859375,
          1158.0208740234375,
          1401.0133056640625,
          1636.219970703125,
          1315.2359619140625,
          1496.4564208984375,
          1452.7457275390625,
          1485.7178955078125,
          1702.9970703125,
          1352.055908203125,
          1846.4844970703125,
          1480.5880126953125,
          1565.93310546875,
          1702.9970703125,
          1335.50537109375,
          1173.5982666015625,
          1375.04150390625,
          1515.6922607421875,
          1355.9083251953125,
          959.7131958007812,
          1304.27783203125,
          1446.76513671875,
          1357.1688232421875,
          1012.0890502929688,
          1100.529296875,
          1159.5438232421875,
          1481.0146484375,
          1434.1741943359375,
          1450.6053466796875,
          1353.3287353515625,
          1494.537353515625,
          1275.0841064453125,
          1258.7669677734375,
          1355.5938720703125,
          1450.6053466796875,
          1494.537353515625,
          1515.6922607421875,
          1628.556640625,
          1180.0892333984375,
          1256.172607421875,
          1626.1053466796875,
          910.7266235351562,
          1241.8758544921875,
          1108.5150146484375,
          1638.8016357421875,
          1711.7269287109375,
          1294.9454345703125,
          1338.8038330078125,
          1572.3890380859375,
          1182.4014892578125,
          1625.9749755859375,
          1452.7457275390625,
          1450.375244140625,
          1415.16552734375,
          1338.45068359375,
          1494.537353515625,
          1436.755859375,
          1012.0890502929688,
          1436.5257568359375,
          1363.8072509765625,
          1353.3287353515625,
          914.1224975585938,
          1260.9224853515625,
          1481.0146484375,
          1225.16650390625,
          1334.3079833984375,
          1241.8758544921875,
          1228.540283203125,
          1136.3189697265625,
          1112.9420166015625,
          1446.5350341796875,
          1363.6842041015625,
          1415.3956298828125,
          843.59814453125,
          959.7131958007812,
          1288.3402099609375,
          1129.4422607421875,
          959.7131958007812,
          865.937744140625,
          1298.816162109375,
          1069.3592529296875,
          1049.71728515625,
          1012.0890502929688,
          1477.751220703125,
          1065.46142578125,
          1185.1763916015625,
          1417.9207763671875,
          1415.3956298828125,
          1228.21630859375,
          1258.509765625,
          1380.6947021484375,
          1452.7457275390625
         ],
         "xaxis": "x",
         "y": [
          31.50537109375,
          25.1722412109375,
          33.462646484375,
          21.2149658203125,
          17.7794189453125,
          46.67919921875,
          21.9241943359375,
          19.5076904296875,
          13.5787353515625,
          17.2840576171875,
          23.5087890625,
          23.83447265625,
          34.0792236328125,
          26.0751953125,
          25.7489013671875,
          16.2889404296875,
          19.1607666015625,
          2.9853515625,
          37.5435791015625,
          37.0751953125,
          14.9361572265625,
          54.5283203125,
          24.06689453125,
          36.21484375,
          22.4781494140625,
          19.5621337890625,
          37.3858642578125,
          20.10205078125,
          19.2752685546875,
          41.2701416015625,
          35.3282470703125,
          26.1607666015625,
          31.4005126953125,
          31.6407470703125,
          23.23486328125,
          35.1231689453125,
          27.4146728515625,
          31.1241455078125,
          18.4853515625,
          12.5482177734375,
          32.2542724609375,
          23.2752685546875,
          9.2476806640625,
          38.3858642578125,
          16.5787353515625,
          27.0250244140625,
          56.3846435546875,
          22.1171875,
          29.7425537109375,
          24.421630859375,
          24.4017333984375,
          29.3858642578125,
          24.5775146484375,
          34.3052978515625,
          26.2542724609375,
          16.055908203125,
          26.67919921875,
          26.2994384765625,
          18.309326171875,
          31.3946533203125,
          14.6121826171875,
          62.27294921875,
          17.48486328125,
          33.0792236328125,
          18.055908203125,
          28.3052978515625,
          5.0250244140625,
          23.2994384765625,
          23.055908203125,
          21.093505859375,
          14.30419921875,
          16.708740234375,
          21.0029296875,
          21.3052978515625,
          66.2125244140625,
          20.48486328125,
          21.4456787109375,
          21.06689453125,
          22.055908203125,
          19.828369140625,
          37.3052978515625,
          15.8311767578125,
          22.2752685546875,
          21.167724609375,
          20.5435791015625,
          11.8280029296875,
          17.8736572265625,
          17.058837890625,
          25.0751953125,
          14.0029296875,
          26.3052978515625,
          16.77392578125,
          111.1654052734375,
          23.9666748046875,
          17.2821044921875,
          18.7672119140625,
          28.5438232421875,
          21.9791259765625,
          113.9151611328125,
          20.5087890625,
          22.0250244140625,
          29.0792236328125,
          25.3946533203125,
          16.0029296875,
          21.4119873046875,
          35.7431640625,
          21.6043701171875,
          -1.0758056640625,
          19.9866943359375,
          17.9251708984375,
          18.1392822265625,
          25.0751953125,
          16.062255859375,
          131.5902099609375,
          21.5521240234375,
          11.5013427734375,
          30.1944580078125,
          22.67919921875,
          27.8280029296875,
          10.40185546875,
          12.9666748046875,
          23.4649658203125,
          17.922119140625,
          23.6810302734375,
          21.0751953125,
          34.1231689453125,
          25.72216796875,
          33.5435791015625,
          19.309326171875,
          21.2821044921875,
          25.0618896484375,
          20.944091796875,
          75.5155029296875,
          25.309326171875,
          30.2994384765625,
          31.780029296875,
          14.8311767578125,
          28.4017333984375,
          21.490234375,
          28.2542724609375,
          23.5621337890625,
          19.70526123046875,
          23.2330322265625,
          22.8258056640625,
          12.2447509765625,
          12.65167236328125,
          10.195556640625,
          18.9107666015625,
          30.3946533203125,
          15.6043701171875,
          17.6043701171875,
          15.6712646484375,
          42.2994384765625,
          12.9158935546875,
          25.1893310546875,
          17.120361328125,
          20.8258056640625,
          23.0582275390625,
          19.4119873046875,
          47.1983642578125,
          15.9107666015625,
          26.78369140625,
          29.37646484375,
          12.93389892578125,
          12.9891357421875,
          15.9158935546875,
          45.0523681640625,
          28.752685546875,
          17.7982177734375,
          27.537109375,
          18.167724609375,
          14.8250732421875,
          43.1231689453125,
          10.83447265625,
          18.055908203125,
          17.83447265625,
          17.54931640625,
          16.2821044921875,
          22.4036865234375,
          19.38232421875,
          30.672607421875,
          18.7672119140625,
          18.54931640625,
          16.9329833984375,
          24.0775146484375,
          24.2821044921875,
          17.4444580078125,
          13.8350830078125,
          32.1241455078125,
          26.7197265625,
          8.4849853515625,
          16.4888916015625,
          19.83447265625,
          18.54931640625,
          20.0751953125,
          10.96099853515625,
          20.87750244140625,
          18.6597900390625,
          5.0579833984375,
          5.28680419921875,
          15.88433837890625,
          18.42626953125,
          21.6407470703125,
          19.28271484375,
          12.91094970703125,
          21.4649658203125,
          13.3421630859375,
          16.873046875,
          15.6043701171875,
          19.6043701171875,
          15.418212890625,
          17.38134765625,
          20.42626953125,
          16.055908203125,
          32.50537109375,
          29.9969482421875,
          35.462646484375,
          20.4649658203125,
          22.7794189453125,
          41.67919921875,
          24.9241943359375,
          19.5076904296875,
          17.5787353515625,
          18.2840576171875,
          43.462646484375,
          22.83447265625,
          32.0792236328125,
          26.0751953125,
          23.7489013671875,
          18.3052978515625,
          22.1607666015625,
          7.9853515625,
          33.5435791015625,
          35.0751953125,
          12.9361572265625,
          40.5283203125,
          22.06689453125,
          28.21484375,
          14.6534423828125,
          4.32958984375,
          34.3858642578125,
          20.1392822265625,
          21.2752685546875,
          35.2701416015625,
          32.3282470703125,
          25.1607666015625,
          27.4005126953125,
          8.9158935546875,
          24.23486328125,
          40.1231689453125,
          11.9158935546875,
          16.2330322265625,
          23.3858642578125,
          15.5482177734375,
          31.2542724609375,
          25.2752685546875,
          14.3052978515625,
          -1.0758056640625,
          18.5787353515625,
          26.0250244140625,
          57.3846435546875,
          9.533935546875,
          31.7425537109375,
          16.25146484375,
          19.9251708984375,
          37.3858642578125,
          25.5775146484375,
          32.3052978515625,
          28.2542724609375,
          18.055908203125,
          27.67919921875,
          29.2994384765625,
          10.055908203125,
          4.9853515625,
          14.8311767578125,
          66.27294921875,
          23.5435791015625,
          31.0792236328125,
          19.77392578125,
          25.3052978515625,
          13.0250244140625,
          27.2994384765625,
          21.77392578125,
          39.3653564453125,
          -0.7459716796875,
          15.5435791015625,
          21.0029296875,
          22.2889404296875,
          72.2125244140625,
          22.5435791015625,
          9.6153564453125,
          18.22265625,
          20.77392578125,
          25.828369140625,
          34.3052978515625,
          19.8311767578125,
          24.2752685546875,
          28.5087890625,
          24.5435791015625,
          12.8280029296875,
          21.8736572265625,
          18.94482421875,
          29.0751953125,
          19.0029296875,
          29.3052978515625,
          15.624755859375,
          116.1654052734375,
          22.098388671875,
          18.7005615234375,
          63.382080078125,
          26.5438232421875,
          24.9791259765625,
          120.9151611328125,
          42.462646484375,
          22.5068359375,
          27.0792236328125,
          28.3946533203125,
          21.0029296875,
          19.708740234375,
          31.7431640625,
          23.0792236328125,
          4.9241943359375,
          21.9866943359375,
          20.9251708984375,
          23.1392822265625,
          28.0751953125,
          17.062255859375,
          146.4322509765625,
          22.5521240234375,
          16.5013427734375,
          27.1944580078125,
          28.67919921875,
          29.8280029296875,
          9.70098876953125,
          17.9666748046875,
          28.77392578125,
          17.922119140625,
          25.6810302734375,
          23.0751953125,
          40.1231689453125,
          26.72216796875,
          31.5435791015625,
          24.309326171875,
          21.2821044921875,
          29.0618896484375,
          21.944091796875,
          76.5155029296875,
          16.055908203125,
          30.2994384765625,
          37.780029296875,
          61.446044921875,
          27.4017333984375,
          25.490234375,
          10.248779296875,
          29.5621337890625,
          24.70526123046875,
          11.7342529296875,
          23.8258056640625,
          17.2447509765625,
          13.38232421875,
          12.195556640625,
          14.9107666015625,
          31.3946533203125,
          15.6043701171875,
          20.0792236328125,
          14.6712646484375,
          35.2994384765625,
          13.9158935546875,
          16.1241455078125,
          61.7352294921875,
          22.8258056640625,
          22.462646484375,
          18.708740234375,
          42.1983642578125,
          14.9107666015625,
          19.718505859375,
          31.8946533203125,
          13.93389892578125,
          12.2391357421875,
          16.9158935546875,
          38.9029541015625,
          30.752685546875,
          21.7982177734375,
          23.537109375,
          17.2994384765625,
          1.9532470703125,
          44.1231689453125,
          16.83447265625,
          20.055908203125,
          19.83447265625,
          21.6920166015625,
          16.6126708984375,
          15.4036865234375,
          21.38232421875,
          27.672607421875,
          18.7672119140625,
          19.54931640625,
          10.93389892578125,
          21.0775146484375,
          22.2821044921875,
          19.5478515625,
          15.6893310546875,
          32.1241455078125,
          25.7197265625,
          14.4849853515625,
          15.4888916015625,
          22.83447265625,
          20.54931640625,
          23.0751953125,
          13.96099853515625,
          22.87750244140625,
          18.6597900390625,
          8.0579833984375,
          7.28680419921875,
          17.88433837890625,
          20.42626953125,
          21.6407470703125,
          22.28271484375,
          12.91094970703125,
          23.4649658203125,
          17.3421630859375,
          17.873046875,
          16.6043701171875,
          19.6043701171875,
          20.418212890625,
          20.38134765625,
          10.5482177734375,
          21.055908203125,
          13.922119140625,
          29.4423828125,
          37.462646484375,
          20.624755859375,
          11.9013671875,
          35.67919921875,
          22.406005859375,
          19.5076904296875,
          16.105224609375,
          18.2840576171875,
          38.462646484375,
          18.83447265625,
          31.0792236328125,
          26.0751953125,
          22.7489013671875,
          22.3052978515625,
          24.1607666015625,
          11.9853515625,
          30.5435791015625,
          33.0751953125,
          16.9041748046875,
          26.5283203125,
          19.06689453125,
          20.21484375,
          16.5076904296875,
          9.8736572265625,
          30.3858642578125,
          25.1392822265625,
          22.2752685546875,
          29.2701416015625,
          29.3282470703125,
          25.1607666015625,
          22.4005126953125,
          10.9158935546875,
          24.23486328125,
          -2.9749755859375,
          13.9158935546875,
          18.2330322265625,
          30.3858642578125,
          11.7672119140625,
          31.2542724609375,
          26.2752685546875,
          22.3052978515625,
          9.9241943359375,
          20.5787353515625,
          25.0250244140625,
          58.3846435546875,
          15.533935546875,
          33.7425537109375,
          22.25146484375,
          18.043701171875,
          -6.0758056640625,
          25.5775146484375,
          31.3052978515625,
          29.2542724609375,
          20.055908203125,
          28.67919921875,
          32.2994384765625,
          19.055908203125,
          8.9853515625,
          19.8311767578125,
          -7.78515625,
          15.3077392578125,
          28.0792236328125,
          45.8426513671875,
          23.2889404296875,
          21.0250244140625,
          31.2994384765625,
          18.4649658203125,
          33.3653564453125,
          6.2540283203125,
          25.5435791015625,
          22.0029296875,
          21.2889404296875,
          78.2125244140625,
          28.5435791015625,
          20.6153564453125,
          22.1231689453125,
          20.2149658203125,
          25.8116455078125,
          31.3052978515625,
          18.2567138671875,
          25.2752685546875,
          44.462646484375,
          29.5435791015625,
          5.2137451171875,
          22.4853515625,
          21.94482421875,
          32.0751953125,
          23.0029296875,
          32.3052978515625,
          22.58760579427053,
          121.1654052734375,
          22.5621337890625,
          21.462646484375,
          68.382080078125,
          28.8258056640625,
          12.4017333984375,
          127.9151611328125,
          41.462646484375,
          23.780029296875,
          26.6043701171875,
          32.3946533203125,
          26.0029296875,
          23.708740234375,
          26.7431640625,
          27.0792236328125,
          10.9241943359375,
          10.6043701171875,
          17.043701171875,
          17.18115234375,
          31.0751953125,
          19.062255859375,
          153.4322509765625,
          8.9747314453125,
          21.5013427734375,
          24.1944580078125,
          34.67919921875,
          14.2447509765625,
          10.918212890625,
          52.001708984375,
          26.77392578125,
          17.922119140625,
          9.8092041015625,
          25.0751953125,
          -1.9749755859375,
          26.72216796875,
          30.5435791015625,
          13.055908203125,
          21.2821044921875,
          13.0029296875,
          21.944091796875,
          77.5155029296875,
          18.77392578125,
          29.2994384765625,
          10.5013427734375,
          68.446044921875,
          25.4017333984375,
          14.6121826171875,
          14.4119873046875,
          194.5404052734375,
          -5.71319580078125,
          17.7342529296875,
          23.8258056640625,
          16.490234375,
          16.38232421875,
          14.195556640625,
          26.4881591796875,
          32.3946533203125,
          16.6043701171875,
          24.0792236328125,
          14.6712646484375,
          29.2994384765625,
          14.9158935546875,
          19.1241455078125,
          65.7352294921875,
          24.8258056640625,
          23.462646484375,
          22.708740234375,
          35.1983642578125,
          13.9107666015625,
          22.718505859375,
          28.8946533203125,
          15.93389892578125,
          12.2391357421875,
          17.9158935546875,
          36.919677734375,
          32.752685546875,
          20.32470703125,
          19.537109375,
          20.2994384765625,
          9.2618408203125,
          45.1231689453125,
          20.309326171875,
          22.055908203125,
          20.83447265625,
          20.6920166015625,
          18.462646484375,
          38.81298828125,
          23.38232421875,
          24.672607421875,
          19.7672119140625,
          20.54931640625,
          14.93389892578125,
          18.0775146484375,
          25.9853515625,
          15.418212890625,
          18.6893310546875,
          32.1241455078125,
          23.7197265625,
          13.731201171875,
          14.4888916015625,
          23.309326171875,
          22.54931640625,
          27.0751953125,
          17.96099853515625,
          13.70526123046875,
          18.6597900390625,
          10.0579833984375,
          9.28680419921875,
          10.062255859375,
          8.927490234375,
          21.6407470703125,
          22.28271484375,
          12.91094970703125,
          21.624755859375,
          24.6507568359375,
          22.181640625,
          17.6043701171875,
          18.6043701171875,
          18.1607666015625,
          23.38134765625,
          9.7672119140625,
          19.77392578125,
          -0.43896484375,
          14.5548095703125,
          16.6937255859375,
          53.5579833984375,
          16.9013671875,
          35.52490234375,
          25.52490234375,
          18.5076904296875,
          1.909423828125,
          7.53369140625,
          35.6475830078125,
          28.7593994140625,
          29.621826171875,
          25.6177978515625,
          24.5849609375,
          25.847900390625,
          10.83349609375,
          16.5279541015625,
          31.6697998046875,
          29.6177978515625,
          -0.4569091796875,
          12.5283203125,
          17.2518310546875,
          13.21484375,
          18.5076904296875,
          17.5047607421875,
          29.604248046875,
          19.18115234375,
          7.9141845703125,
          24.2701416015625,
          48.6922607421875,
          25.1607666015625,
          52.798095703125,
          12.9158935546875,
          20.937255859375,
          2.1439208984375,
          -0.4451904296875,
          20.2330322265625,
          37.5047607421875,
          14.7672119140625,
          29.796875,
          12.9141845703125,
          10.7593994140625,
          15.52490234375,
          6.3548583984375,
          24.1439208984375,
          59.3846435546875,
          16.7794189453125,
          38.43359375,
          10.26953125,
          15.5478515625,
          9.6861572265625,
          10.2164306640625,
          28.847900390625,
          30.796875,
          21.5985107421875,
          28.798095703125,
          9.2518310546875,
          45.7686767578125,
          12.5279541015625,
          21.2567138671875,
          -2.78515625,
          10.151611328125,
          59.9080810546875,
          50.0147705078125,
          24.95849609375,
          18.89892578125,
          10.2518310546875,
          18.1673583984375,
          30.056396484375,
          13.2540283203125,
          1.151611328125,
          24.6939697265625,
          20.712646484375,
          84.2125244140625,
          15.49267578125,
          27.15120442708303,
          27.2420654296875,
          20.007568359375,
          14.4437255859375,
          27.847900390625,
          22.2567138671875,
          11.9141845703125,
          36.6475830078125,
          15.49267578125,
          6.2137451171875,
          23.5047607421875,
          25.3685302734375,
          14.529296875,
          29.6939697265625,
          14.7593994140625,
          6.45804850260447,
          128.8564453125,
          25.7470703125,
          29.6475830078125,
          59.0838623046875,
          26.368408203125,
          15.4017333984375,
          146.0771484375,
          40.6475830078125,
          29.89892578125,
          24.14697265625,
          4.5279541015625,
          23.21435546875,
          20.6697998046875,
          22.7431640625,
          14.368408203125,
          17.0430908203125,
          13.14697265625,
          18.4444580078125,
          22.18115234375,
          13.529296875,
          20.062255859375,
          159.5511474609375,
          9.9747314453125,
          27.6202392578125,
          41.25341796875,
          41.798095703125,
          17.2447509765625,
          9.88433837890625,
          56.650390625,
          24.3165283203125,
          2.56103515625,
          12.8092041015625,
          27.6177978515625,
          4.1439208984375,
          27.72216796875,
          30.728515625,
          17.5985107421875,
          20.82470703125,
          19.6939697265625,
          22.944091796875,
          78.5155029296875,
          14.1673583984375,
          30.484375,
          17.6202392578125,
          62.1478271484375,
          24.4017333984375,
          13.8311767578125,
          16.2513427734375,
          201.725341796875,
          -1.71319580078125,
          17.2607421875,
          24.368408203125,
          21.490234375,
          19.38232421875,
          5.3441162109375,
          22.4881591796875,
          32.937255859375,
          17.14697265625,
          12.368408203125,
          29.54931640625,
          28.3526611328125,
          1.5548095703125,
          22.1241455078125,
          56.43701171875,
          22.08642578125,
          25.6475830078125,
          20.6697998046875,
          32.9251708984375,
          12.9107666015625,
          26.718505859375,
          25.8946533203125,
          17.93389892578125,
          12.2391357421875,
          18.9158935546875,
          27.919677734375,
          26.964111328125,
          17.8792724609375,
          22.318115234375,
          25.484375,
          1.2926025390625,
          45.2420654296875,
          8.5985107421875,
          23.5985107421875,
          54.13818359375,
          15.54931640625,
          25.6475830078125,
          32.2366943359375,
          4.91094970703125,
          23.466796875,
          19.7672119140625,
          22.54931640625,
          0.27337646484375,
          12.0247802734375,
          24.5279541015625,
          20.418212890625,
          0.872314453125,
          32.1241455078125,
          21.7197265625,
          18.731201171875,
          13.4888916015625,
          25.8519287109375,
          9.6712646484375,
          30.6177978515625,
          8.18450927734375,
          15.70526123046875,
          6.909423828125,
          12.0579833984375,
          12.28680419921875,
          12.062255859375,
          16.5382080078125,
          22.6407470703125,
          23.28271484375,
          11.91094970703125,
          19.796875,
          17.1806640625,
          23.181640625,
          25.7900390625,
          18.14697265625,
          7.83349609375,
          29.9920654296875,
          14.7672119140625,
          17.007568359375,
          15.922119140625,
          20.9158935546875,
          19.5087890625,
          24.2542724609375,
          14.120361328125,
          32.9241943359375,
          26.406005859375,
          20.5076904296875,
          19.6597900390625,
          20.2840576171875,
          29.462646484375,
          25.216796875,
          28.0792236328125,
          24.0751953125,
          23.5849609375,
          30.3052978515625,
          11.83349609375,
          14.7005615234375,
          31.708740234375,
          27.0751953125,
          15.0220947265625,
          32.17431640625,
          15.06689453125,
          10.21484375,
          19.0753173828125,
          29.3858642578125,
          26.8736572265625,
          25.18115234375,
          24.2752685546875,
          19.2701416015625,
          41.001220703125,
          23.1607666015625,
          44.67919921875,
          15.9158935546875,
          22.3946533203125,
          9.0250244140625,
          15.9158935546875,
          21.2330322265625,
          -3.0758056640625,
          16.7672119140625,
          30.2542724609375,
          30.2752685546875,
          8.83447265625,
          23.67919921875,
          20.105224609375,
          25.0250244140625,
          57.3846435546875,
          7.9013671875,
          25.5128173828125,
          19.5784912109375,
          21.5478515625,
          11.9241943359375,
          26.5775146484375,
          29.3052978515625,
          8.248779296875,
          19.77392578125,
          29.67919921875,
          13.06689453125,
          17.624755859375,
          16.2821044921875,
          15.95849609375,
          -1.78515625,
          13.5621337890625,
          24.6043701171875,
          56.47216796875,
          22.95849609375,
          29.780029296875,
          15.06689453125,
          23.2542724609375,
          30.844970703125,
          2.3822021484375,
          11.9666748046875,
          18.5233154296875,
          21.2889404296875,
          94.2125244140625,
          5.9666748046875,
          35.17435709635447,
          32.1231689453125,
          19.624755859375,
          19.752685546875,
          25.3052978515625,
          14.95849609375,
          27.2752685546875,
          31.7005615234375,
          90.18505859375,
          8.2137451171875,
          29.3858642578125,
          27.94482421875,
          6.6043701171875,
          22.5233154296875,
          17.216796875,
          13.4119873046875,
          116.7855224609375,
          27.5621337890625,
          -1.832275390625,
          60.49462890625,
          25.8258056640625,
          19.4017333984375,
          152.3861083984375,
          39.462646484375,
          -42.271240234375,
          24.6043701171875,
          9.9853515625,
          27.5233154296875,
          20.5435791015625,
          39.8021240234375,
          19.8258056640625,
          15.67919921875,
          17.6043701171875,
          19.5478515625,
          27.18115234375,
          17.9866943359375,
          7.9329833984375,
          119.3341064453125,
          11.9747314453125,
          22.0618896484375,
          37.25341796875,
          38.67919921875,
          16.490234375,
          13.88433837890625,
          61.4654541015625,
          25.77392578125,
          17.922119140625,
          15.8092041015625,
          32.0751953125,
          14.0250244140625,
          16.7640380859375,
          30.5435791015625,
          16.2149658203125,
          21.2821044921875,
          19.0029296875,
          23.944091796875,
          80.5155029296875,
          21.2542724609375,
          32.2994384765625,
          17.9124755859375,
          61.478271484375,
          22.4017333984375,
          18.8311767578125,
          17.48486328125,
          202.08447265625,
          2.28680419921875,
          18.8153076171875,
          21.5438232421875,
          12.6121826171875,
          21.38232421875,
          -1.529296875,
          24.4561767578125,
          6.9853515625,
          21.6043701171875,
          18.8258056640625,
          28.54931640625,
          18.167724609375,
          17.9158935546875,
          25.1241455078125,
          60.8314208984375,
          18.23486328125,
          24.462646484375,
          22.5435791015625,
          31.443359375,
          13.9107666015625,
          31.718505859375,
          24.8946533203125,
          18.93389892578125,
          15.9293212890625,
          19.9158935546875,
          51.1983642578125,
          26.2730712890625,
          21.8792724609375,
          33.1961669921875,
          4.06689453125,
          12.1759033203125,
          47.1231689453125,
          19.055908203125,
          19.2149658203125,
          22.83447265625,
          17.54931640625,
          28.462646484375,
          27.6531982421875,
          9.91094970703125,
          23.88330078125,
          20.7672119140625,
          23.54931640625,
          6.27337646484375,
          31.9686279296875,
          21.9853515625,
          19.1607666015625,
          13.2752685546875,
          32.1241455078125,
          22.459716796875,
          13.9847412109375,
          14.4888916015625,
          16.055908203125,
          14.6712646484375,
          14.9866943359375,
          -7.59814453125,
          19.70526123046875,
          19.6597900390625,
          10.30419921875,
          15.28680419921875,
          14.062255859375,
          12.4539794921875,
          23.6407470703125,
          24.28271484375,
          11.91094970703125,
          25.2542724609375,
          12.1529541015625,
          18.705078125,
          20.6043701171875,
          18.6043701171875,
          12.83349609375,
          21.1878662109375,
          17.1927490234375,
          17.624755859375,
          16.922119140625,
          29.4146728515625,
          7.167724609375,
          27.2542724609375,
          18.120361328125,
          25.9241943359375,
          23.67919921875,
          19.0753173828125,
          13.6893310546875,
          22.2840576171875,
          28.7005615234375,
          40.3052978515625,
          27.0792236328125,
          23.058837890625,
          22.5849609375,
          13.216796875,
          12.83349609375,
          20.462646484375,
          26.708740234375,
          24.0751953125,
          13.0220947265625,
          22.17431640625,
          13.06689453125,
          6.21484375,
          24.0753173828125,
          -8.0758056640625,
          29.32958984375,
          12.597900390625,
          26.2752685546875,
          49.548828125,
          35.001220703125,
          28.418212890625,
          37.67919921875,
          3.4849853515625,
          24.3946533203125,
          16.0250244140625,
          16.9158935546875,
          21.2330322265625,
          5.9241943359375,
          19.7672119140625,
          29.2542724609375,
          13.6920166015625,
          18.309326171875,
          286.261962890625,
          16.6597900390625,
          26.0250244140625,
          54.3846435546875,
          9.120361328125,
          26.5128173828125,
          116.5263671875,
          17.418212890625,
          16.406005859375,
          17.5123291015625,
          30.3052978515625,
          11.248779296875,
          20.2149658203125,
          29.67919921875,
          18.06689453125,
          22.2542724609375,
          15.462646484375,
          17.3052978515625,
          -0.78515625,
          24.5621337890625,
          20.6043701171875,
          37.466796875,
          34.2567138671875,
          291.36279296875,
          15.6109619140625,
          5.248779296875,
          23.844970703125,
          8.4561767578125,
          15.5621337890625,
          25.5233154296875,
          20.2889404296875,
          104.2125244140625,
          12.9666748046875,
          46.5076904296875,
          37.1231689453125,
          21.2542724609375,
          17.2730712890625,
          24.2889404296875,
          15.3052978515625,
          26.2752685546875,
          29.2821044921875,
          97.18505859375,
          10.2137451171875,
          36.3858642578125,
          29.94482421875,
          12.6043701171875,
          28.5233154296875,
          19.216796875,
          16.708740234375,
          124.7855224609375,
          30.5621337890625,
          9.167724609375,
          66.49462890625,
          23.8258056640625,
          23.4017333984375,
          244.4200439453125,
          38.462646484375,
          -32.271240234375,
          24.6043701171875,
          14.9853515625,
          23.421630859375,
          26.5435791015625,
          35.8021240234375,
          18.5438232421875,
          24.67919921875,
          20.6043701171875,
          16.418212890625,
          13.597900390625,
          7.6043701171875,
          10.9329833984375,
          127.3341064453125,
          13.9747314453125,
          29.0618896484375,
          33.25341796875,
          36.67919921875,
          20.490234375,
          8.062255859375,
          41.23291015625,
          25.77392578125,
          18.922119140625,
          18.8831787109375,
          14.9866943359375,
          17.5068359375,
          17.7640380859375,
          31.5435791015625,
          16.624755859375,
          22.2821044921875,
          22.0029296875,
          24.944091796875,
          83.5155029296875,
          4.248779296875,
          10.06689453125,
          25.0618896484375,
          65.49462890625,
          20.4017333984375,
          20.2567138671875,
          22.5435791015625,
          240.0916748046875,
          7.28680419921875,
          13.9906005859375,
          20.98486328125,
          12.8311767578125,
          2.91094970703125,
          1.470703125,
          21.4561767578125,
          10.9853515625,
          23.0792236328125,
          19.5438232421875,
          27.54931640625,
          50.462646484375,
          19.9158935546875,
          28.1241455078125,
          65.49462890625,
          21.23486328125,
          25.462646484375,
          28.5435791015625,
          22.443359375,
          14.9107666015625,
          18.827392578125,
          22.8946533203125,
          1.27337646484375,
          19.1893310546875,
          4.4849853515625,
          41.1983642578125,
          28.2730712890625,
          25.8792724609375,
          28.1961669921875,
          11.06689453125,
          2.5985107421875,
          0.0250244140625,
          15.4649658203125,
          20.4649658203125,
          23.83447265625,
          18.54931640625,
          32.462646484375,
          31.244140625,
          14.91094970703125,
          26.1922607421875,
          20.7672119140625,
          25.54931640625,
          11.27337646484375,
          29.9686279296875,
          19.9853515625,
          7.83349609375,
          20.2752685546875,
          32.1241455078125,
          21.76953125,
          6.6810302734375,
          15.4888916015625,
          21.055908203125,
          12.8902587890625,
          19.9866943359375,
          -2.59814453125,
          22.70526123046875,
          19.6597900390625,
          14.30419921875,
          17.28680419921875,
          17.062255859375,
          14.008544921875,
          24.6407470703125,
          24.28271484375,
          10.91094970703125,
          29.2542724609375,
          9.53857421875,
          22.705078125,
          21.6043701171875,
          19.6043701171875,
          17.523681640625,
          17.490234375,
          10.89453125,
          20.2542724609375,
          13.7794189453125,
          20.4146728515625,
          11.167724609375,
          29.2542724609375,
          16.5458984375,
          17.9241943359375,
          25.67919921875,
          21.0753173828125,
          14.2333984375,
          7.7852783203125,
          22.0582275390625,
          35.3052978515625,
          25.0792236328125,
          20.0751953125,
          20.5849609375,
          17.216796875,
          14.83349609375,
          28.462646484375,
          26.4119873046875,
          21.0751953125,
          8.9041748046875,
          13.17431640625,
          11.06689453125,
          3.21484375,
          17.1171875,
          3.9241943359375,
          25.32958984375,
          13.8433837890625,
          8.6920166015625,
          10.2701416015625,
          29.001220703125,
          26.418212890625,
          30.67919921875,
          8.4849853515625,
          25.3946533203125,
          17.5068359375,
          17.9158935546875,
          21.2330322265625,
          15.9241943359375,
          18.1927490234375,
          28.2542724609375,
          11.54931640625,
          14.055908203125,
          298.261962890625,
          19.6597900390625,
          21.5068359375,
          52.3846435546875,
          15.120361328125,
          24.20263671875,
          128.5263671875,
          16.1607666015625,
          21.67919921875,
          18.5123291015625,
          30.3052978515625,
          14.248779296875,
          14.2542724609375,
          29.67919921875,
          16.6109619140625,
          30.2542724609375,
          23.462646484375,
          24.3052978515625,
          1.21484375,
          10.32958984375,
          16.6043701171875,
          40.6300048828125,
          18.95849609375,
          298.7906494140625,
          18.1231689453125,
          9.4119873046875,
          17.844970703125,
          16.4561767578125,
          26.5621337890625,
          7.25146484375,
          19.3052978515625,
          114.2125244140625,
          15.098388671875,
          58.5076904296875,
          41.1231689453125,
          24.2542724609375,
          25.2730712890625,
          20.3052978515625,
          21.3052978515625,
          26.2752685546875,
          22.2821044921875,
          103.18505859375,
          11.2137451171875,
          42.3858642578125,
          32.94482421875,
          16.0792236328125,
          9.25146484375,
          21.216796875,
          18.48486328125,
          88.789794921875,
          7.32958984375,
          17.7994384765625,
          72.49462890625,
          22.8258056640625,
          19.9251708984375,
          254.4200439453125,
          14.5087890625,
          -34.710693359375,
          22.0792236328125,
          15.2821044921875,
          112.1654052734375,
          12.3077392578125,
          31.8021240234375,
          16.23486328125,
          -1.5994873046875,
          22.0792236328125,
          14.1607666015625,
          14.8433837890625,
          12.6043701171875,
          13.9329833984375,
          136.3341064453125,
          15.9747314453125,
          16.0029296875,
          29.25341796875,
          34.67919921875,
          8.6121826171875,
          12.062255859375,
          47.23291015625,
          18.4649658203125,
          18.922119140625,
          19.9791259765625,
          18.9866943359375,
          22.780029296875,
          18.7640380859375,
          32.5435791015625,
          22.2542724609375,
          22.2821044921875,
          25.0029296875,
          24.944091796875,
          86.5155029296875,
          10.4119873046875,
          13.06689453125,
          16.0029296875,
          70.49462890625,
          19.4017333984375,
          12.95849609375,
          11.3077392578125,
          248.0916748046875,
          11.28680419921875,
          13.72216796875,
          20.23486328125,
          17.8311767578125,
          5.91094970703125,
          4.470703125,
          19.4561767578125,
          14.9853515625,
          11.8258056640625,
          15.3946533203125,
          12.6712646484375,
          41.462646484375,
          21.9158935546875,
          15.2330322265625,
          52.4061279296875,
          21.3946533203125,
          25.462646484375,
          15.3077392578125,
          14.443359375,
          15.9107666015625,
          23.827392578125,
          21.8946533203125,
          2.27337646484375,
          13.1241455078125,
          6.4849853515625,
          31.1983642578125,
          30.2730712890625,
          19.0545654296875,
          24.1961669921875,
          10.6109619140625,
          7.5985107421875,
          2.0250244140625,
          18.2542724609375,
          20.624755859375,
          23.83447265625,
          20.54931640625,
          36.462646484375,
          22.244140625,
          18.91094970703125,
          27.4742431640625,
          17.1927490234375,
          12.6712646484375,
          12.87750244140625,
          12.0775146484375,
          17.9853515625,
          12.83349609375,
          8.6920166015625,
          31.1241455078125,
          19.459716796875,
          10.6810302734375,
          -0.9420166015625,
          13.4649658203125,
          12.3157958984375,
          9.6043701171875,
          1.40185546875,
          -7.71319580078125,
          19.6597900390625,
          8.5577392578125,
          20.28680419921875,
          19.062255859375,
          10.183837890625,
          26.6407470703125,
          24.28271484375,
          10.91094970703125,
          8.248779296875,
          15.53857421875,
          19.8236083984375,
          20.0792236328125,
          19.6043701171875,
          21.78369140625,
          21.490234375,
          14.3052978515625,
          24.2542724609375
         ],
         "yaxis": "y"
        }
       ],
       "layout": {
        "legend": {
         "tracegroupgap": 0
        },
        "margin": {
         "t": 60
        },
        "template": {
         "data": {
          "bar": [
           {
            "error_x": {
             "color": "#2a3f5f"
            },
            "error_y": {
             "color": "#2a3f5f"
            },
            "marker": {
             "line": {
              "color": "#E5ECF6",
              "width": 0.5
             }
            },
            "type": "bar"
           }
          ],
          "barpolar": [
           {
            "marker": {
             "line": {
              "color": "#E5ECF6",
              "width": 0.5
             }
            },
            "type": "barpolar"
           }
          ],
          "carpet": [
           {
            "aaxis": {
             "endlinecolor": "#2a3f5f",
             "gridcolor": "white",
             "linecolor": "white",
             "minorgridcolor": "white",
             "startlinecolor": "#2a3f5f"
            },
            "baxis": {
             "endlinecolor": "#2a3f5f",
             "gridcolor": "white",
             "linecolor": "white",
             "minorgridcolor": "white",
             "startlinecolor": "#2a3f5f"
            },
            "type": "carpet"
           }
          ],
          "choropleth": [
           {
            "colorbar": {
             "outlinewidth": 0,
             "ticks": ""
            },
            "type": "choropleth"
           }
          ],
          "contour": [
           {
            "colorbar": {
             "outlinewidth": 0,
             "ticks": ""
            },
            "colorscale": [
             [
              0,
              "#0d0887"
             ],
             [
              0.1111111111111111,
              "#46039f"
             ],
             [
              0.2222222222222222,
              "#7201a8"
             ],
             [
              0.3333333333333333,
              "#9c179e"
             ],
             [
              0.4444444444444444,
              "#bd3786"
             ],
             [
              0.5555555555555556,
              "#d8576b"
             ],
             [
              0.6666666666666666,
              "#ed7953"
             ],
             [
              0.7777777777777778,
              "#fb9f3a"
             ],
             [
              0.8888888888888888,
              "#fdca26"
             ],
             [
              1,
              "#f0f921"
             ]
            ],
            "type": "contour"
           }
          ],
          "contourcarpet": [
           {
            "colorbar": {
             "outlinewidth": 0,
             "ticks": ""
            },
            "type": "contourcarpet"
           }
          ],
          "heatmap": [
           {
            "colorbar": {
             "outlinewidth": 0,
             "ticks": ""
            },
            "colorscale": [
             [
              0,
              "#0d0887"
             ],
             [
              0.1111111111111111,
              "#46039f"
             ],
             [
              0.2222222222222222,
              "#7201a8"
             ],
             [
              0.3333333333333333,
              "#9c179e"
             ],
             [
              0.4444444444444444,
              "#bd3786"
             ],
             [
              0.5555555555555556,
              "#d8576b"
             ],
             [
              0.6666666666666666,
              "#ed7953"
             ],
             [
              0.7777777777777778,
              "#fb9f3a"
             ],
             [
              0.8888888888888888,
              "#fdca26"
             ],
             [
              1,
              "#f0f921"
             ]
            ],
            "type": "heatmap"
           }
          ],
          "heatmapgl": [
           {
            "colorbar": {
             "outlinewidth": 0,
             "ticks": ""
            },
            "colorscale": [
             [
              0,
              "#0d0887"
             ],
             [
              0.1111111111111111,
              "#46039f"
             ],
             [
              0.2222222222222222,
              "#7201a8"
             ],
             [
              0.3333333333333333,
              "#9c179e"
             ],
             [
              0.4444444444444444,
              "#bd3786"
             ],
             [
              0.5555555555555556,
              "#d8576b"
             ],
             [
              0.6666666666666666,
              "#ed7953"
             ],
             [
              0.7777777777777778,
              "#fb9f3a"
             ],
             [
              0.8888888888888888,
              "#fdca26"
             ],
             [
              1,
              "#f0f921"
             ]
            ],
            "type": "heatmapgl"
           }
          ],
          "histogram": [
           {
            "marker": {
             "colorbar": {
              "outlinewidth": 0,
              "ticks": ""
             }
            },
            "type": "histogram"
           }
          ],
          "histogram2d": [
           {
            "colorbar": {
             "outlinewidth": 0,
             "ticks": ""
            },
            "colorscale": [
             [
              0,
              "#0d0887"
             ],
             [
              0.1111111111111111,
              "#46039f"
             ],
             [
              0.2222222222222222,
              "#7201a8"
             ],
             [
              0.3333333333333333,
              "#9c179e"
             ],
             [
              0.4444444444444444,
              "#bd3786"
             ],
             [
              0.5555555555555556,
              "#d8576b"
             ],
             [
              0.6666666666666666,
              "#ed7953"
             ],
             [
              0.7777777777777778,
              "#fb9f3a"
             ],
             [
              0.8888888888888888,
              "#fdca26"
             ],
             [
              1,
              "#f0f921"
             ]
            ],
            "type": "histogram2d"
           }
          ],
          "histogram2dcontour": [
           {
            "colorbar": {
             "outlinewidth": 0,
             "ticks": ""
            },
            "colorscale": [
             [
              0,
              "#0d0887"
             ],
             [
              0.1111111111111111,
              "#46039f"
             ],
             [
              0.2222222222222222,
              "#7201a8"
             ],
             [
              0.3333333333333333,
              "#9c179e"
             ],
             [
              0.4444444444444444,
              "#bd3786"
             ],
             [
              0.5555555555555556,
              "#d8576b"
             ],
             [
              0.6666666666666666,
              "#ed7953"
             ],
             [
              0.7777777777777778,
              "#fb9f3a"
             ],
             [
              0.8888888888888888,
              "#fdca26"
             ],
             [
              1,
              "#f0f921"
             ]
            ],
            "type": "histogram2dcontour"
           }
          ],
          "mesh3d": [
           {
            "colorbar": {
             "outlinewidth": 0,
             "ticks": ""
            },
            "type": "mesh3d"
           }
          ],
          "parcoords": [
           {
            "line": {
             "colorbar": {
              "outlinewidth": 0,
              "ticks": ""
             }
            },
            "type": "parcoords"
           }
          ],
          "pie": [
           {
            "automargin": true,
            "type": "pie"
           }
          ],
          "scatter": [
           {
            "marker": {
             "colorbar": {
              "outlinewidth": 0,
              "ticks": ""
             }
            },
            "type": "scatter"
           }
          ],
          "scatter3d": [
           {
            "line": {
             "colorbar": {
              "outlinewidth": 0,
              "ticks": ""
             }
            },
            "marker": {
             "colorbar": {
              "outlinewidth": 0,
              "ticks": ""
             }
            },
            "type": "scatter3d"
           }
          ],
          "scattercarpet": [
           {
            "marker": {
             "colorbar": {
              "outlinewidth": 0,
              "ticks": ""
             }
            },
            "type": "scattercarpet"
           }
          ],
          "scattergeo": [
           {
            "marker": {
             "colorbar": {
              "outlinewidth": 0,
              "ticks": ""
             }
            },
            "type": "scattergeo"
           }
          ],
          "scattergl": [
           {
            "marker": {
             "colorbar": {
              "outlinewidth": 0,
              "ticks": ""
             }
            },
            "type": "scattergl"
           }
          ],
          "scattermapbox": [
           {
            "marker": {
             "colorbar": {
              "outlinewidth": 0,
              "ticks": ""
             }
            },
            "type": "scattermapbox"
           }
          ],
          "scatterpolar": [
           {
            "marker": {
             "colorbar": {
              "outlinewidth": 0,
              "ticks": ""
             }
            },
            "type": "scatterpolar"
           }
          ],
          "scatterpolargl": [
           {
            "marker": {
             "colorbar": {
              "outlinewidth": 0,
              "ticks": ""
             }
            },
            "type": "scatterpolargl"
           }
          ],
          "scatterternary": [
           {
            "marker": {
             "colorbar": {
              "outlinewidth": 0,
              "ticks": ""
             }
            },
            "type": "scatterternary"
           }
          ],
          "surface": [
           {
            "colorbar": {
             "outlinewidth": 0,
             "ticks": ""
            },
            "colorscale": [
             [
              0,
              "#0d0887"
             ],
             [
              0.1111111111111111,
              "#46039f"
             ],
             [
              0.2222222222222222,
              "#7201a8"
             ],
             [
              0.3333333333333333,
              "#9c179e"
             ],
             [
              0.4444444444444444,
              "#bd3786"
             ],
             [
              0.5555555555555556,
              "#d8576b"
             ],
             [
              0.6666666666666666,
              "#ed7953"
             ],
             [
              0.7777777777777778,
              "#fb9f3a"
             ],
             [
              0.8888888888888888,
              "#fdca26"
             ],
             [
              1,
              "#f0f921"
             ]
            ],
            "type": "surface"
           }
          ],
          "table": [
           {
            "cells": {
             "fill": {
              "color": "#EBF0F8"
             },
             "line": {
              "color": "white"
             }
            },
            "header": {
             "fill": {
              "color": "#C8D4E3"
             },
             "line": {
              "color": "white"
             }
            },
            "type": "table"
           }
          ]
         },
         "layout": {
          "annotationdefaults": {
           "arrowcolor": "#2a3f5f",
           "arrowhead": 0,
           "arrowwidth": 1
          },
          "autotypenumbers": "strict",
          "coloraxis": {
           "colorbar": {
            "outlinewidth": 0,
            "ticks": ""
           }
          },
          "colorscale": {
           "diverging": [
            [
             0,
             "#8e0152"
            ],
            [
             0.1,
             "#c51b7d"
            ],
            [
             0.2,
             "#de77ae"
            ],
            [
             0.3,
             "#f1b6da"
            ],
            [
             0.4,
             "#fde0ef"
            ],
            [
             0.5,
             "#f7f7f7"
            ],
            [
             0.6,
             "#e6f5d0"
            ],
            [
             0.7,
             "#b8e186"
            ],
            [
             0.8,
             "#7fbc41"
            ],
            [
             0.9,
             "#4d9221"
            ],
            [
             1,
             "#276419"
            ]
           ],
           "sequential": [
            [
             0,
             "#0d0887"
            ],
            [
             0.1111111111111111,
             "#46039f"
            ],
            [
             0.2222222222222222,
             "#7201a8"
            ],
            [
             0.3333333333333333,
             "#9c179e"
            ],
            [
             0.4444444444444444,
             "#bd3786"
            ],
            [
             0.5555555555555556,
             "#d8576b"
            ],
            [
             0.6666666666666666,
             "#ed7953"
            ],
            [
             0.7777777777777778,
             "#fb9f3a"
            ],
            [
             0.8888888888888888,
             "#fdca26"
            ],
            [
             1,
             "#f0f921"
            ]
           ],
           "sequentialminus": [
            [
             0,
             "#0d0887"
            ],
            [
             0.1111111111111111,
             "#46039f"
            ],
            [
             0.2222222222222222,
             "#7201a8"
            ],
            [
             0.3333333333333333,
             "#9c179e"
            ],
            [
             0.4444444444444444,
             "#bd3786"
            ],
            [
             0.5555555555555556,
             "#d8576b"
            ],
            [
             0.6666666666666666,
             "#ed7953"
            ],
            [
             0.7777777777777778,
             "#fb9f3a"
            ],
            [
             0.8888888888888888,
             "#fdca26"
            ],
            [
             1,
             "#f0f921"
            ]
           ]
          },
          "colorway": [
           "#636efa",
           "#EF553B",
           "#00cc96",
           "#ab63fa",
           "#FFA15A",
           "#19d3f3",
           "#FF6692",
           "#B6E880",
           "#FF97FF",
           "#FECB52"
          ],
          "font": {
           "color": "#2a3f5f"
          },
          "geo": {
           "bgcolor": "white",
           "lakecolor": "white",
           "landcolor": "#E5ECF6",
           "showlakes": true,
           "showland": true,
           "subunitcolor": "white"
          },
          "hoverlabel": {
           "align": "left"
          },
          "hovermode": "closest",
          "mapbox": {
           "style": "light"
          },
          "paper_bgcolor": "white",
          "plot_bgcolor": "#E5ECF6",
          "polar": {
           "angularaxis": {
            "gridcolor": "white",
            "linecolor": "white",
            "ticks": ""
           },
           "bgcolor": "#E5ECF6",
           "radialaxis": {
            "gridcolor": "white",
            "linecolor": "white",
            "ticks": ""
           }
          },
          "scene": {
           "xaxis": {
            "backgroundcolor": "#E5ECF6",
            "gridcolor": "white",
            "gridwidth": 2,
            "linecolor": "white",
            "showbackground": true,
            "ticks": "",
            "zerolinecolor": "white"
           },
           "yaxis": {
            "backgroundcolor": "#E5ECF6",
            "gridcolor": "white",
            "gridwidth": 2,
            "linecolor": "white",
            "showbackground": true,
            "ticks": "",
            "zerolinecolor": "white"
           },
           "zaxis": {
            "backgroundcolor": "#E5ECF6",
            "gridcolor": "white",
            "gridwidth": 2,
            "linecolor": "white",
            "showbackground": true,
            "ticks": "",
            "zerolinecolor": "white"
           }
          },
          "shapedefaults": {
           "line": {
            "color": "#2a3f5f"
           }
          },
          "ternary": {
           "aaxis": {
            "gridcolor": "white",
            "linecolor": "white",
            "ticks": ""
           },
           "baxis": {
            "gridcolor": "white",
            "linecolor": "white",
            "ticks": ""
           },
           "bgcolor": "#E5ECF6",
           "caxis": {
            "gridcolor": "white",
            "linecolor": "white",
            "ticks": ""
           }
          },
          "title": {
           "x": 0.05
          },
          "xaxis": {
           "automargin": true,
           "gridcolor": "white",
           "linecolor": "white",
           "ticks": "",
           "title": {
            "standoff": 15
           },
           "zerolinecolor": "white",
           "zerolinewidth": 2
          },
          "yaxis": {
           "automargin": true,
           "gridcolor": "white",
           "linecolor": "white",
           "ticks": "",
           "title": {
            "standoff": 15
           },
           "zerolinecolor": "white",
           "zerolinewidth": 2
          }
         }
        },
        "xaxis": {
         "anchor": "y",
         "domain": [
          0,
          1
         ],
         "title": {
          "text": "predicted_values"
         }
        },
        "yaxis": {
         "anchor": "x",
         "domain": [
          0,
          1
         ],
         "title": {
          "text": "zori_ssa"
         }
        }
       }
      },
      "text/html": [
       "<div>                            <div id=\"23adece8-8ba5-42cf-9a82-a14aec3600b6\" class=\"plotly-graph-div\" style=\"height:525px; width:100%;\"></div>            <script type=\"text/javascript\">                require([\"plotly\"], function(Plotly) {                    window.PLOTLYENV=window.PLOTLYENV || {};                                    if (document.getElementById(\"23adece8-8ba5-42cf-9a82-a14aec3600b6\")) {                    Plotly.newPlot(                        \"23adece8-8ba5-42cf-9a82-a14aec3600b6\",                        [{\"hovertemplate\": \"predicted_values=%{x}<br>zori_ssa=%{y}<extra></extra>\", \"legendgroup\": \"\", \"marker\": {\"color\": \"#636efa\", \"symbol\": \"circle\"}, \"mode\": \"markers\", \"name\": \"\", \"showlegend\": false, \"type\": \"scattergl\", \"x\": [1315.49462890625, 1296.8277587890625, 1494.537353515625, 1442.7850341796875, 1338.2205810546875, 1637.32080078125, 1627.0758056640625, 1300.4923095703125, 1277.4212646484375, 1261.7159423828125, 1518.4912109375, 1415.16552734375, 1417.9207763671875, 1380.9248046875, 1298.2510986328125, 1379.7110595703125, 1208.8392333984375, 1481.0146484375, 1496.4564208984375, 1380.9248046875, 1171.0638427734375, 2389.4716796875, 1565.93310546875, 2177.78515625, 1288.5218505859375, 1539.4378662109375, 1576.6141357421875, 1297.89794921875, 1315.7247314453125, 1671.7298583984375, 1757.6717529296875, 1208.8392333984375, 1671.5994873046875, 1069.3592529296875, 1446.76513671875, 1576.8768310546875, 1258.5853271484375, 1241.8758544921875, 1574.5146484375, 1353.4517822265625, 1452.7457275390625, 1315.7247314453125, 1376.7523193359375, 1576.6141357421875, 1277.4212646484375, 1625.9749755859375, 1998.6153564453125, 1314.8828125, 1815.2574462890625, 1724.578369140625, 1173.5982666015625, 1576.6141357421875, 1231.4224853515625, 1380.6947021484375, 1452.7457275390625, 1433.944091796875, 1637.32080078125, 1539.7005615234375, 1417.690673828125, 1450.6053466796875, 1351.3878173828125, 2098.72705078125, 1492.51513671875, 1417.9207763671875, 1433.944091796875, 1380.6947021484375, 1625.9749755859375, 1539.7005615234375, 1433.944091796875, 1743.906494140625, 1119.69580078125, 1485.291259765625, 1702.9970703125, 1380.6947021484375, 1839.7874755859375, 1492.51513671875, 1791.5543212890625, 1565.93310546875, 1433.944091796875, 1674.171630859375, 1380.6947021484375, 1357.1688232421875, 1315.7247314453125, 1534.832275390625, 1496.4564208984375, 1065.1719970703125, 1572.1263427734375, 1379.941162109375, 1380.9248046875, 1702.9970703125, 1380.6947021484375, 1439.22607421875, 1642.8345947265625, 1532.0333251953125, 1485.7178955078125, 1359.2327880859375, 1439.4561767578125, 1158.0208740234375, 1641.0848388671875, 1518.4912109375, 1625.9749755859375, 1417.9207763671875, 1450.6053466796875, 1702.9970703125, 1480.5880126953125, 1701.2568359375, 1415.3956298828125, 1627.0758056640625, 1401.0133056640625, 1181.0748291015625, 1301.8607177734375, 1380.9248046875, 865.937744140625, 1459.4097900390625, 1162.4478759765625, 1670.4986572265625, 1698.8055419921875, 1637.32080078125, 1313.1719970703125, 843.59814453125, 1532.0333251953125, 1446.5350341796875, 1316.077880859375, 1136.3189697265625, 1380.9248046875, 1576.8768310546875, 1304.27783203125, 1496.4564208984375, 1417.690673828125, 1485.7178955078125, 1682.9381103515625, 1352.055908203125, 1846.4844970703125, 1417.690673828125, 1539.7005615234375, 1636.219970703125, 1357.1688232421875, 1173.5982666015625, 1336.509765625, 1452.7457275390625, 1539.4378662109375, 925.2947387695312, 1258.7669677734375, 1434.1741943359375, 1331.7552490234375, 988.3483276367188, 1078.804443359375, 1180.0892333984375, 1450.6053466796875, 1415.3956298828125, 1415.3956298828125, 1353.3287353515625, 1539.7005615234375, 1275.0841064453125, 1230.8106689453125, 1358.879638671875, 1434.1741943359375, 1492.9417724609375, 1480.5880126953125, 1638.8016357421875, 1180.0892333984375, 1228.21630859375, 1631.62353515625, 892.0661010742188, 1227.7608642578125, 1091.0841064453125, 1682.9476318359375, 1701.247314453125, 1273.2017822265625, 1359.462890625, 1534.832275390625, 1144.1749267578125, 1576.8768310546875, 1415.16552734375, 1433.944091796875, 1415.16552734375, 1338.45068359375, 1485.7178955078125, 1483.5963134765625, 991.61767578125, 1455.327392578125, 1359.2327880859375, 1338.45068359375, 882.0670166015625, 1260.9224853515625, 1485.7178955078125, 1188.5555419921875, 1299.1649169921875, 1241.8758544921875, 1230.2802734375, 1108.5150146484375, 1095.5111083984375, 1415.16552734375, 1338.45068359375, 1380.9248046875, 811.0390014648438, 914.1224975585938, 1288.3402099609375, 1112.9420166015625, 959.7131958007812, 856.1156616210938, 1260.57373046875, 1069.3592529296875, 1049.71728515625, 1012.0890502929688, 1446.5350341796875, 1034.6578369140625, 1174.126953125, 1415.3956298828125, 1415.3956298828125, 1201.581787109375, 1241.61865234375, 1338.57373046875, 1433.944091796875, 1315.49462890625, 1286.0030517578125, 1494.537353515625, 1446.5350341796875, 1338.2205810546875, 1637.32080078125, 1627.0758056640625, 1300.4923095703125, 1277.4212646484375, 1261.7159423828125, 1494.537353515625, 1415.16552734375, 1417.9207763671875, 1380.9248046875, 1298.2510986328125, 1380.6947021484375, 1208.8392333984375, 1481.0146484375, 1496.4564208984375, 1380.9248046875, 1171.0638427734375, 2389.4716796875, 1565.93310546875, 2177.78515625, 1299.3465576171875, 1565.67041015625, 1576.6141357421875, 1301.8607177734375, 1315.7247314453125, 1671.7298583984375, 1757.6717529296875, 1208.8392333984375, 1671.5994873046875, 1091.0841064453125, 1446.76513671875, 1576.8768310546875, 1275.0841064453125, 1258.7669677734375, 1576.6141357421875, 1353.4517822265625, 1452.7457275390625, 1315.7247314453125, 1380.6947021484375, 1627.0758056640625, 1277.4212646484375, 1625.9749755859375, 1998.6153564453125, 1333.466064453125, 1815.2574462890625, 1738.74853515625, 1181.0748291015625, 1576.6141357421875, 1231.4224853515625, 1380.6947021484375, 1452.7457275390625, 1433.944091796875, 1637.32080078125, 1539.7005615234375, 1433.944091796875, 1481.0146484375, 1357.1688232421875, 2098.72705078125, 1496.4564208984375, 1417.9207763671875, 1439.22607421875, 1380.6947021484375, 1625.9749755859375, 1539.7005615234375, 1439.22607421875, 1718.6346435546875, 1140.7459716796875, 1496.4564208984375, 1702.9970703125, 1379.7110595703125, 1839.7874755859375, 1496.4564208984375, 1813.3846435546875, 1574.77734375, 1439.22607421875, 1674.171630859375, 1380.6947021484375, 1357.1688232421875, 1315.7247314453125, 1518.4912109375, 1496.4564208984375, 1065.1719970703125, 1572.1263427734375, 1381.05517578125, 1380.9248046875, 1702.9970703125, 1380.6947021484375, 1450.375244140625, 1642.8345947265625, 1536.901611328125, 1491.2994384765625, 1318.617919921875, 1439.4561767578125, 1158.0208740234375, 1641.0848388671875, 1494.537353515625, 1631.4931640625, 1417.9207763671875, 1450.6053466796875, 1702.9970703125, 1485.291259765625, 1701.2568359375, 1417.9207763671875, 1627.0758056640625, 1401.0133056640625, 1181.0748291015625, 1301.8607177734375, 1380.9248046875, 865.937744140625, 1451.5677490234375, 1162.4478759765625, 1670.4986572265625, 1698.8055419921875, 1637.32080078125, 1313.1719970703125, 848.2990112304688, 1532.0333251953125, 1439.22607421875, 1316.077880859375, 1136.3189697265625, 1380.9248046875, 1576.8768310546875, 1304.27783203125, 1496.4564208984375, 1417.690673828125, 1485.7178955078125, 1682.9381103515625, 1352.055908203125, 1846.4844970703125, 1433.944091796875, 1539.7005615234375, 1636.219970703125, 1316.553955078125, 1173.5982666015625, 1336.509765625, 1477.751220703125, 1539.4378662109375, 925.2947387695312, 1275.2657470703125, 1434.1741943359375, 1331.7552490234375, 991.61767578125, 1078.804443359375, 1180.0892333984375, 1450.6053466796875, 1415.3956298828125, 1417.9207763671875, 1353.3287353515625, 1539.7005615234375, 1275.0841064453125, 1241.8758544921875, 1318.2647705078125, 1434.1741943359375, 1494.537353515625, 1485.291259765625, 1638.8016357421875, 1180.0892333984375, 1239.281494140625, 1626.1053466796875, 892.0661010742188, 1227.7608642578125, 1091.0841064453125, 1680.0970458984375, 1701.247314453125, 1273.2017822265625, 1359.462890625, 1539.7005615234375, 1162.0467529296875, 1576.8768310546875, 1415.16552734375, 1433.944091796875, 1415.16552734375, 1334.3079833984375, 1490.3873291015625, 1483.5963134765625, 991.61767578125, 1455.327392578125, 1359.2327880859375, 1338.45068359375, 892.0661010742188, 1260.9224853515625, 1485.7178955078125, 1192.4521484375, 1300.3106689453125, 1241.8758544921875, 1230.2802734375, 1108.5150146484375, 1095.5111083984375, 1415.16552734375, 1338.45068359375, 1380.9248046875, 811.0390014648438, 914.1224975585938, 1288.3402099609375, 1112.9420166015625, 959.7131958007812, 856.1156616210938, 1260.57373046875, 1069.3592529296875, 1049.71728515625, 1012.0890502929688, 1446.5350341796875, 1034.6578369140625, 1174.126953125, 1415.3956298828125, 1415.3956298828125, 1201.581787109375, 1241.61865234375, 1353.4517822265625, 1433.944091796875, 1334.077880859375, 1280.5576171875, 1494.537353515625, 1450.375244140625, 1353.0986328125, 1637.32080078125, 1632.593994140625, 1300.4923095703125, 1282.894775390625, 1261.7159423828125, 1494.537353515625, 1415.16552734375, 1417.9207763671875, 1380.9248046875, 1298.2510986328125, 1380.6947021484375, 1208.8392333984375, 1481.0146484375, 1496.4564208984375, 1380.9248046875, 1166.0958251953125, 2389.4716796875, 1565.93310546875, 2177.78515625, 1300.4923095703125, 1572.1263427734375, 1576.6141357421875, 1301.8607177734375, 1315.7247314453125, 1671.7298583984375, 1757.6717529296875, 1208.8392333984375, 1671.5994873046875, 1091.0841064453125, 1446.76513671875, 1625.9749755859375, 1275.0841064453125, 1258.7669677734375, 1576.6141357421875, 1359.2327880859375, 1452.7457275390625, 1315.7247314453125, 1380.6947021484375, 1627.0758056640625, 1277.4212646484375, 1625.9749755859375, 1998.6153564453125, 1333.466064453125, 1815.2574462890625, 1738.74853515625, 1186.956298828125, 1627.0758056640625, 1231.4224853515625, 1380.6947021484375, 1452.7457275390625, 1433.944091796875, 1637.32080078125, 1539.7005615234375, 1433.944091796875, 1481.0146484375, 1357.1688232421875, 2177.78515625, 1515.6922607421875, 1417.9207763671875, 1420.1573486328125, 1379.7110595703125, 1625.9749755859375, 1539.7005615234375, 1446.5350341796875, 1718.6346435546875, 1140.7459716796875, 1496.4564208984375, 1702.9970703125, 1379.7110595703125, 1839.7874755859375, 1496.4564208984375, 1813.3846435546875, 1576.8768310546875, 1442.7850341796875, 1681.1883544921875, 1380.6947021484375, 1361.7432861328125, 1315.7247314453125, 1494.537353515625, 1496.4564208984375, 1073.7862548828125, 1574.5146484375, 1381.05517578125, 1380.9248046875, 1702.9970703125, 1380.6947021484375, 1452.7457275390625, 1642.8345947265625, 1539.4378662109375, 1494.537353515625, 1318.617919921875, 1434.1741943359375, 1173.5982666015625, 1641.0848388671875, 1494.537353515625, 1636.219970703125, 1415.3956298828125, 1450.6053466796875, 1702.9970703125, 1485.291259765625, 1701.2568359375, 1417.9207763671875, 1627.0758056640625, 1415.3956298828125, 1186.956298828125, 1312.81884765625, 1380.9248046875, 865.937744140625, 1451.5677490234375, 1178.0252685546875, 1670.4986572265625, 1698.8055419921875, 1637.32080078125, 1331.7552490234375, 851.081787109375, 1503.998291015625, 1439.22607421875, 1316.077880859375, 1154.1907958984375, 1380.9248046875, 1625.9749755859375, 1304.27783203125, 1496.4564208984375, 1433.944091796875, 1485.7178955078125, 1702.9970703125, 1352.055908203125, 1846.4844970703125, 1439.22607421875, 1539.7005615234375, 1670.4986572265625, 1316.553955078125, 1173.5982666015625, 1351.3878173828125, 1480.5880126953125, 1380.4595947265625, 959.7131958007812, 1275.2657470703125, 1434.1741943359375, 1336.509765625, 991.61767578125, 1078.804443359375, 1164.5118408203125, 1450.6053466796875, 1415.3956298828125, 1417.9207763671875, 1353.3287353515625, 1539.7005615234375, 1275.0841064453125, 1241.8758544921875, 1318.2647705078125, 1434.1741943359375, 1494.537353515625, 1485.291259765625, 1638.8016357421875, 1180.0892333984375, 1239.281494140625, 1626.1053466796875, 892.0661010742188, 1227.7608642578125, 1091.0841064453125, 1673.080322265625, 1701.247314453125, 1278.67529296875, 1359.462890625, 1539.7005615234375, 1159.7381591796875, 1576.8768310546875, 1417.690673828125, 1433.944091796875, 1415.16552734375, 1334.3079833984375, 1494.537353515625, 1453.18701171875, 991.61767578125, 1455.327392578125, 1359.2327880859375, 1338.45068359375, 892.0661010742188, 1260.9224853515625, 1481.0146484375, 1201.581787109375, 1300.3106689453125, 1241.8758544921875, 1230.2802734375, 1115.268798828125, 1095.5111083984375, 1417.690673828125, 1338.45068359375, 1380.9248046875, 811.0390014648438, 925.2947387695312, 1288.3402099609375, 1112.9420166015625, 959.7131958007812, 865.937744140625, 1277.072509765625, 1069.3592529296875, 1049.71728515625, 1012.0890502929688, 1450.375244140625, 1032.3492431640625, 1171.818359375, 1415.3956298828125, 1415.3956298828125, 1208.8392333984375, 1241.61865234375, 1359.2327880859375, 1439.22607421875, 1349.43896484375, 1290.4451904296875, 1517.3062744140625, 1421.4420166015625, 1353.0986328125, 1632.47509765625, 1632.47509765625, 1300.4923095703125, 1300.090576171875, 1273.46630859375, 1493.3524169921875, 1401.2406005859375, 1418.378173828125, 1381.3822021484375, 1294.4150390625, 1381.152099609375, 1225.16650390625, 1481.4720458984375, 1491.3302001953125, 1381.3822021484375, 1181.4569091796875, 2389.4716796875, 1564.7481689453125, 2177.78515625, 1300.4923095703125, 1576.4952392578125, 1574.395751953125, 1312.81884765625, 1331.0858154296875, 1671.7298583984375, 1734.3077392578125, 1208.8392333984375, 1637.201904296875, 1091.0841064453125, 1451.062744140625, 1625.8560791015625, 1290.4451904296875, 1258.7669677734375, 1576.4952392578125, 1359.2327880859375, 1453.203125, 1331.0858154296875, 1401.2406005859375, 1632.47509765625, 1294.6451416015625, 1625.8560791015625, 1998.6153564453125, 1338.2205810546875, 1812.56640625, 1756.73046875, 1192.4521484375, 1619.3138427734375, 1246.7835693359375, 1381.152099609375, 1453.203125, 1434.4014892578125, 1637.201904296875, 1564.7481689453125, 1415.2313232421875, 1481.4720458984375, 1361.7432861328125, 2177.78515625, 1530.848388671875, 1384.0919189453125, 1422.9852294921875, 1375.04150390625, 1636.10107421875, 1564.7481689453125, 1450.8326416015625, 1715.943603515625, 1140.7459716796875, 1530.848388671875, 1700.3060302734375, 1380.287353515625, 1839.7874755859375, 1514.50732421875, 1818.18212890625, 1576.7579345703125, 1446.992431640625, 1698.5562744140625, 1381.152099609375, 1361.7432861328125, 1331.0858154296875, 1493.3524169921875, 1514.50732421875, 1073.7862548828125, 1576.4952392578125, 1381.6314697265625, 1401.470703125, 1700.3060302734375, 1401.2406005859375, 1478.2086181640625, 1640.1435546875, 1538.2529296875, 1493.3524169921875, 1331.9161376953125, 1434.631591796875, 1173.5982666015625, 1629.9228515625, 1493.3524169921875, 1636.10107421875, 1415.85302734375, 1481.4720458984375, 1710.78564453125, 1491.3302001953125, 1701.2568359375, 1434.631591796875, 1626.9569091796875, 1415.85302734375, 1188.5555419921875, 1312.81884765625, 1401.470703125, 865.937744140625, 1451.4488525390625, 1178.0252685546875, 1670.3797607421875, 1678.74658203125, 1637.201904296875, 1331.7552490234375, 856.1156616210938, 1505.349609375, 1439.6834716796875, 1331.43896484375, 1154.1907958984375, 1381.3822021484375, 1625.8560791015625, 1304.27783203125, 1495.271484375, 1434.4014892578125, 1486.17529296875, 1700.3060302734375, 1352.055908203125, 1846.4844970703125, 1450.8326416015625, 1538.515625, 1670.3797607421875, 1329.8521728515625, 1173.5982666015625, 1357.1688232421875, 1485.7486572265625, 1379.274658203125, 959.7131958007812, 1280.7392578125, 1434.631591796875, 1336.509765625, 991.61767578125, 1089.6558837890625, 1164.5118408203125, 1451.062744140625, 1415.85302734375, 1434.631591796875, 1338.45068359375, 1533.6473388671875, 1290.4451904296875, 1241.8758544921875, 1331.56298828125, 1439.91357421875, 1493.3524169921875, 1491.3302001953125, 1634.0748291015625, 1180.0892333984375, 1239.281494140625, 1626.1053466796875, 892.0661010742188, 1227.7608642578125, 1091.0841064453125, 1673.080322265625, 1709.035888671875, 1284.1207275390625, 1353.681884765625, 1538.515625, 1172.7073974609375, 1576.7579345703125, 1434.4014892578125, 1434.4014892578125, 1383.86181640625, 1338.45068359375, 1493.3524169921875, 1453.7633056640625, 1012.0890502929688, 1453.533203125, 1359.2327880859375, 1338.45068359375, 910.7266235351562, 1264.9752197265625, 1481.4720458984375, 1201.581787109375, 1320.127685546875, 1241.8758544921875, 1230.2802734375, 1115.268798828125, 1095.5111083984375, 1418.1480712890625, 1353.3287353515625, 1381.3822021484375, 823.8154907226562, 925.2947387695312, 1300.090576171875, 1112.9420166015625, 959.7131958007812, 865.937744140625, 1273.4617919921875, 1069.3592529296875, 1049.71728515625, 1012.0890502929688, 1453.203125, 1045.8193359375, 1171.818359375, 1408.2099609375, 1415.85302734375, 1225.16650390625, 1238.0079345703125, 1359.2327880859375, 1446.992431640625, 1334.077880859375, 1275.0841064453125, 1518.4912109375, 1452.7457275390625, 1358.879638671875, 1627.0758056640625, 1632.593994140625, 1300.4923095703125, 1288.3402099609375, 1261.7159423828125, 1494.537353515625, 1400.783203125, 1417.9207763671875, 1380.9248046875, 1294.4150390625, 1380.6947021484375, 1225.16650390625, 1491.2994384765625, 1485.291259765625, 1380.9248046875, 1163.9779052734375, 2360.82568359375, 1565.93310546875, 2177.78515625, 1303.9246826171875, 1576.6141357421875, 1572.1263427734375, 1312.81884765625, 1315.7247314453125, 1671.7298583984375, 1736.998779296875, 1208.8392333984375, 1637.32080078125, 1091.0841064453125, 1450.6053466796875, 1625.9749755859375, 1275.0841064453125, 1258.7669677734375, 1627.0758056640625, 1359.2327880859375, 1452.7457275390625, 1315.7247314453125, 1415.16552734375, 1637.32080078125, 1282.894775390625, 1625.9749755859375, 1998.6153564453125, 1353.0986328125, 1826.4871826171875, 1759.4215087890625, 1192.4521484375, 1627.0758056640625, 1231.4224853515625, 1380.6947021484375, 1477.751220703125, 1439.22607421875, 1637.32080078125, 1565.93310546875, 1450.375244140625, 1485.7178955078125, 1375.04150390625, 2177.78515625, 1539.4378662109375, 1415.3956298828125, 1422.52783203125, 1375.04150390625, 1636.219970703125, 1565.93310546875, 1452.7457275390625, 1708.155029296875, 1158.6177978515625, 1532.0333251953125, 1713.4766845703125, 1379.7110595703125, 1839.7874755859375, 1532.0333251953125, 1821.4923095703125, 1576.8768310546875, 1450.375244140625, 1701.247314453125, 1380.6947021484375, 1375.04150390625, 1315.7247314453125, 1491.2994384765625, 1446.81494140625, 1073.7862548828125, 1576.6141357421875, 1381.05517578125, 1415.3956298828125, 1713.4766845703125, 1400.783203125, 1480.5880126953125, 1660.2144775390625, 1539.4378662109375, 1534.832275390625, 1335.50537109375, 1434.1741943359375, 1173.5982666015625, 1632.6138916015625, 1494.537353515625, 1718.271240234375, 1415.3956298828125, 1481.0146484375, 1713.4766845703125, 1496.4564208984375, 1681.1978759765625, 1434.1741943359375, 1637.32080078125, 1415.3956298828125, 1192.4521484375, 1312.81884765625, 1401.0133056640625, 882.0670166015625, 1500.6658935546875, 1178.0252685546875, 1682.9381103515625, 1678.74658203125, 1637.32080078125, 1336.509765625, 856.1156616210938, 1506.5345458984375, 1439.22607421875, 1316.077880859375, 1154.1907958984375, 1380.9248046875, 1625.9749755859375, 1315.2359619140625, 1496.4564208984375, 1442.7850341796875, 1485.7178955078125, 1702.9970703125, 1352.055908203125, 1846.4844970703125, 1452.7457275390625, 1539.7005615234375, 1680.0875244140625, 1334.521728515625, 1173.5982666015625, 1357.1688232421875, 1492.51513671875, 1386.91552734375, 959.7131958007812, 1286.1846923828125, 1439.4561767578125, 1351.3878173828125, 991.61767578125, 1100.529296875, 1159.5438232421875, 1481.0146484375, 1415.3956298828125, 1434.1741943359375, 1338.45068359375, 1534.832275390625, 1275.0841064453125, 1241.8758544921875, 1334.1685791015625, 1446.76513671875, 1494.537353515625, 1496.4564208984375, 1628.556640625, 1180.0892333984375, 1239.281494140625, 1626.1053466796875, 892.0661010742188, 1229.0706787109375, 1091.0841064453125, 1638.8016357421875, 1711.7269287109375, 1284.1207275390625, 1338.8038330078125, 1565.93310546875, 1166.8240966796875, 1576.8768310546875, 1433.944091796875, 1442.7850341796875, 1415.16552734375, 1338.45068359375, 1494.537353515625, 1449.3468017578125, 1012.0890502929688, 1449.11669921875, 1359.2327880859375, 1338.45068359375, 910.7266235351562, 1244.0313720703125, 1481.0146484375, 1208.8392333984375, 1315.7247314453125, 1241.8758544921875, 1228.540283203125, 1125.0152587890625, 1095.5111083984375, 1433.944091796875, 1353.3287353515625, 1401.0133056640625, 843.59814453125, 925.2947387695312, 1288.3402099609375, 1119.69580078125, 959.7131958007812, 865.937744140625, 1282.5460205078125, 1069.3592529296875, 1049.71728515625, 1012.0890502929688, 1452.7457275390625, 1056.8470458984375, 1179.294921875, 1415.3956298828125, 1415.3956298828125, 1225.16650390625, 1250.8121337890625, 1363.8072509765625, 1450.375244140625, 1334.077880859375, 1258.5853271484375, 1534.832275390625, 1452.7457275390625, 1358.879638671875, 1627.0758056640625, 1637.32080078125, 1303.9246826171875, 1300.3106689453125, 1261.7159423828125, 1491.2994384765625, 1380.6947021484375, 1417.9207763671875, 1379.941162109375, 1294.4150390625, 1400.783203125, 1225.16650390625, 1494.537353515625, 1485.291259765625, 1380.9248046875, 1163.9779052734375, 2360.82568359375, 1565.93310546875, 2177.78515625, 1303.9246826171875, 1627.0758056640625, 1565.67041015625, 1331.402099609375, 1315.7247314453125, 1637.451171875, 1736.998779296875, 1201.581787109375, 1637.32080078125, 1108.5150146484375, 1450.6053466796875, 1625.9749755859375, 1275.0841064453125, 1258.7669677734375, 1627.0758056640625, 1359.2327880859375, 1452.7457275390625, 1334.3079833984375, 1417.690673828125, 1386.738037109375, 1288.3402099609375, 1625.9749755859375, 1998.6153564453125, 1358.879638671875, 1826.4871826171875, 1673.4736328125, 1201.581787109375, 1632.593994140625, 1242.4876708984375, 1380.6947021484375, 1477.751220703125, 1442.7850341796875, 1637.32080078125, 1565.93310546875, 1452.7457275390625, 1494.537353515625, 1380.6947021484375, 2177.78515625, 1539.4378662109375, 1415.3956298828125, 1447.533203125, 1361.7432861328125, 1385.63720703125, 1572.3890380859375, 1477.751220703125, 1708.155029296875, 1159.5438232421875, 1539.4378662109375, 1713.4766845703125, 1379.7110595703125, 1839.7874755859375, 1532.0333251953125, 1821.4923095703125, 1576.8768310546875, 1452.7457275390625, 1711.7269287109375, 1379.7110595703125, 1380.6947021484375, 1315.7247314453125, 1485.7178955078125, 1446.81494140625, 1073.7862548828125, 1576.6141357421875, 1381.05517578125, 1415.3956298828125, 1713.4766845703125, 1400.783203125, 1485.291259765625, 1660.2144775390625, 1539.4378662109375, 1534.832275390625, 1335.50537109375, 1434.1741943359375, 1173.5982666015625, 1549.5799560546875, 1494.537353515625, 1718.271240234375, 1415.3956298828125, 1481.0146484375, 1724.578369140625, 1496.4564208984375, 1681.1978759765625, 1439.4561767578125, 1637.32080078125, 1415.3956298828125, 1201.581787109375, 1331.402099609375, 1415.3956298828125, 882.0670166015625, 1500.6658935546875, 1178.0252685546875, 1682.9381103515625, 1678.74658203125, 1637.32080078125, 1336.509765625, 865.937744140625, 1532.76708984375, 1439.22607421875, 1316.077880859375, 1155.1168212890625, 1401.0133056640625, 1631.4931640625, 1315.2359619140625, 1496.4564208984375, 1450.375244140625, 1485.7178955078125, 1702.9970703125, 1352.055908203125, 1846.4844970703125, 1477.751220703125, 1565.93310546875, 1682.9381103515625, 1335.50537109375, 1173.5982666015625, 1361.7432861328125, 1496.4564208984375, 1355.9083251953125, 959.7131958007812, 1297.0093994140625, 1443.01513671875, 1357.1688232421875, 1012.0890502929688, 1100.529296875, 1159.5438232421875, 1481.0146484375, 1417.9207763671875, 1439.4561767578125, 1338.45068359375, 1494.537353515625, 1275.0841064453125, 1241.8758544921875, 1335.50537109375, 1446.76513671875, 1494.537353515625, 1496.4564208984375, 1628.556640625, 1180.0892333984375, 1256.172607421875, 1626.1053466796875, 910.7266235351562, 1230.8106689453125, 1108.5150146484375, 1638.8016357421875, 1711.7269287109375, 1284.1207275390625, 1338.8038330078125, 1565.93310546875, 1182.4014892578125, 1625.9749755859375, 1446.5350341796875, 1446.5350341796875, 1415.16552734375, 1338.45068359375, 1494.537353515625, 1436.755859375, 1012.0890502929688, 1441.8077392578125, 1359.2327880859375, 1338.45068359375, 910.7266235351562, 1244.0313720703125, 1481.0146484375, 1225.16650390625, 1315.7247314453125, 1241.8758544921875, 1227.23046875, 1136.3189697265625, 1095.5111083984375, 1433.944091796875, 1359.1097412109375, 1401.0133056640625, 843.59814453125, 925.2947387695312, 1288.3402099609375, 1119.69580078125, 959.7131958007812, 865.937744140625, 1287.991455078125, 1069.3592529296875, 1049.71728515625, 1012.0890502929688, 1452.7457275390625, 1065.46142578125, 1179.294921875, 1415.3956298828125, 1415.3956298828125, 1226.476318359375, 1258.509765625, 1377.10546875, 1452.7457275390625, 1338.2205810546875, 1258.5853271484375, 1534.832275390625, 1452.7457275390625, 1363.4541015625, 1627.0758056640625, 1637.32080078125, 1303.9246826171875, 1304.7666015625, 1278.2147216796875, 1492.9417724609375, 1380.6947021484375, 1417.9207763671875, 1380.9248046875, 1294.4150390625, 1400.783203125, 1225.16650390625, 1494.537353515625, 1480.5880126953125, 1380.9248046875, 1166.0958251953125, 2360.82568359375, 1565.93310546875, 2177.78515625, 1314.8828125, 1627.0758056640625, 1565.67041015625, 1336.1566162109375, 1334.3079833984375, 1671.7298583984375, 1736.998779296875, 1201.581787109375, 1637.32080078125, 1108.5150146484375, 1450.6053466796875, 1631.4931640625, 1275.0841064453125, 1258.7669677734375, 1627.0758056640625, 1363.8072509765625, 1452.7457275390625, 1338.45068359375, 1433.944091796875, 1386.738037109375, 1288.3402099609375, 1631.4931640625, 1998.6153564453125, 1358.879638671875, 1829.79736328125, 1673.4736328125, 1208.8392333984375, 1637.32080078125, 1242.4876708984375, 1380.6947021484375, 1477.751220703125, 1452.7457275390625, 1637.32080078125, 1572.3890380859375, 1452.7457275390625, 1494.537353515625, 1380.6947021484375, 2177.78515625, 1565.67041015625, 1415.3956298828125, 1450.3699951171875, 1375.04150390625, 1388.2093505859375, 1576.8768310546875, 1480.5880126953125, 1708.155029296875, 1159.5438232421875, 1539.4378662109375, 1738.74853515625, 1380.6947021484375, 1839.7874755859375, 1536.901611328125, 1821.4923095703125, 1576.8768310546875, 1452.7457275390625, 1711.7269287109375, 1380.6947021484375, 1380.6947021484375, 1315.7247314453125, 1485.7178955078125, 1446.81494140625, 1073.7862548828125, 1576.6141357421875, 1381.05517578125, 1417.9207763671875, 1738.74853515625, 1400.783203125, 1492.51513671875, 1704.210205078125, 1565.67041015625, 1539.7005615234375, 1335.50537109375, 1434.1741943359375, 1181.0748291015625, 1549.5799560546875, 1518.4912109375, 1730.710693359375, 1417.9207763671875, 1485.7178955078125, 1642.8345947265625, 1515.6922607421875, 1681.1978759765625, 1446.76513671875, 1671.5994873046875, 1417.9207763671875, 1208.8392333984375, 1336.1566162109375, 1415.3956298828125, 882.0670166015625, 1500.6658935546875, 1178.0252685546875, 1702.9970703125, 1678.74658203125, 1637.32080078125, 1351.3878173828125, 865.937744140625, 1532.76708984375, 1446.5350341796875, 1316.077880859375, 1158.0208740234375, 1401.0133056640625, 1636.219970703125, 1315.2359619140625, 1496.4564208984375, 1452.7457275390625, 1485.7178955078125, 1702.9970703125, 1352.055908203125, 1846.4844970703125, 1480.5880126953125, 1565.93310546875, 1702.9970703125, 1335.50537109375, 1173.5982666015625, 1375.04150390625, 1515.6922607421875, 1355.9083251953125, 959.7131958007812, 1304.27783203125, 1446.76513671875, 1357.1688232421875, 1012.0890502929688, 1100.529296875, 1159.5438232421875, 1481.0146484375, 1434.1741943359375, 1450.6053466796875, 1353.3287353515625, 1494.537353515625, 1275.0841064453125, 1258.7669677734375, 1355.5938720703125, 1450.6053466796875, 1494.537353515625, 1515.6922607421875, 1628.556640625, 1180.0892333984375, 1256.172607421875, 1626.1053466796875, 910.7266235351562, 1241.8758544921875, 1108.5150146484375, 1638.8016357421875, 1711.7269287109375, 1294.9454345703125, 1338.8038330078125, 1572.3890380859375, 1182.4014892578125, 1625.9749755859375, 1452.7457275390625, 1450.375244140625, 1415.16552734375, 1338.45068359375, 1494.537353515625, 1436.755859375, 1012.0890502929688, 1436.5257568359375, 1363.8072509765625, 1353.3287353515625, 914.1224975585938, 1260.9224853515625, 1481.0146484375, 1225.16650390625, 1334.3079833984375, 1241.8758544921875, 1228.540283203125, 1136.3189697265625, 1112.9420166015625, 1446.5350341796875, 1363.6842041015625, 1415.3956298828125, 843.59814453125, 959.7131958007812, 1288.3402099609375, 1129.4422607421875, 959.7131958007812, 865.937744140625, 1298.816162109375, 1069.3592529296875, 1049.71728515625, 1012.0890502929688, 1477.751220703125, 1065.46142578125, 1185.1763916015625, 1417.9207763671875, 1415.3956298828125, 1228.21630859375, 1258.509765625, 1380.6947021484375, 1452.7457275390625], \"xaxis\": \"x\", \"y\": [31.50537109375, 25.1722412109375, 33.462646484375, 21.2149658203125, 17.7794189453125, 46.67919921875, 21.9241943359375, 19.5076904296875, 13.5787353515625, 17.2840576171875, 23.5087890625, 23.83447265625, 34.0792236328125, 26.0751953125, 25.7489013671875, 16.2889404296875, 19.1607666015625, 2.9853515625, 37.5435791015625, 37.0751953125, 14.9361572265625, 54.5283203125, 24.06689453125, 36.21484375, 22.4781494140625, 19.5621337890625, 37.3858642578125, 20.10205078125, 19.2752685546875, 41.2701416015625, 35.3282470703125, 26.1607666015625, 31.4005126953125, 31.6407470703125, 23.23486328125, 35.1231689453125, 27.4146728515625, 31.1241455078125, 18.4853515625, 12.5482177734375, 32.2542724609375, 23.2752685546875, 9.2476806640625, 38.3858642578125, 16.5787353515625, 27.0250244140625, 56.3846435546875, 22.1171875, 29.7425537109375, 24.421630859375, 24.4017333984375, 29.3858642578125, 24.5775146484375, 34.3052978515625, 26.2542724609375, 16.055908203125, 26.67919921875, 26.2994384765625, 18.309326171875, 31.3946533203125, 14.6121826171875, 62.27294921875, 17.48486328125, 33.0792236328125, 18.055908203125, 28.3052978515625, 5.0250244140625, 23.2994384765625, 23.055908203125, 21.093505859375, 14.30419921875, 16.708740234375, 21.0029296875, 21.3052978515625, 66.2125244140625, 20.48486328125, 21.4456787109375, 21.06689453125, 22.055908203125, 19.828369140625, 37.3052978515625, 15.8311767578125, 22.2752685546875, 21.167724609375, 20.5435791015625, 11.8280029296875, 17.8736572265625, 17.058837890625, 25.0751953125, 14.0029296875, 26.3052978515625, 16.77392578125, 111.1654052734375, 23.9666748046875, 17.2821044921875, 18.7672119140625, 28.5438232421875, 21.9791259765625, 113.9151611328125, 20.5087890625, 22.0250244140625, 29.0792236328125, 25.3946533203125, 16.0029296875, 21.4119873046875, 35.7431640625, 21.6043701171875, -1.0758056640625, 19.9866943359375, 17.9251708984375, 18.1392822265625, 25.0751953125, 16.062255859375, 131.5902099609375, 21.5521240234375, 11.5013427734375, 30.1944580078125, 22.67919921875, 27.8280029296875, 10.40185546875, 12.9666748046875, 23.4649658203125, 17.922119140625, 23.6810302734375, 21.0751953125, 34.1231689453125, 25.72216796875, 33.5435791015625, 19.309326171875, 21.2821044921875, 25.0618896484375, 20.944091796875, 75.5155029296875, 25.309326171875, 30.2994384765625, 31.780029296875, 14.8311767578125, 28.4017333984375, 21.490234375, 28.2542724609375, 23.5621337890625, 19.70526123046875, 23.2330322265625, 22.8258056640625, 12.2447509765625, 12.65167236328125, 10.195556640625, 18.9107666015625, 30.3946533203125, 15.6043701171875, 17.6043701171875, 15.6712646484375, 42.2994384765625, 12.9158935546875, 25.1893310546875, 17.120361328125, 20.8258056640625, 23.0582275390625, 19.4119873046875, 47.1983642578125, 15.9107666015625, 26.78369140625, 29.37646484375, 12.93389892578125, 12.9891357421875, 15.9158935546875, 45.0523681640625, 28.752685546875, 17.7982177734375, 27.537109375, 18.167724609375, 14.8250732421875, 43.1231689453125, 10.83447265625, 18.055908203125, 17.83447265625, 17.54931640625, 16.2821044921875, 22.4036865234375, 19.38232421875, 30.672607421875, 18.7672119140625, 18.54931640625, 16.9329833984375, 24.0775146484375, 24.2821044921875, 17.4444580078125, 13.8350830078125, 32.1241455078125, 26.7197265625, 8.4849853515625, 16.4888916015625, 19.83447265625, 18.54931640625, 20.0751953125, 10.96099853515625, 20.87750244140625, 18.6597900390625, 5.0579833984375, 5.28680419921875, 15.88433837890625, 18.42626953125, 21.6407470703125, 19.28271484375, 12.91094970703125, 21.4649658203125, 13.3421630859375, 16.873046875, 15.6043701171875, 19.6043701171875, 15.418212890625, 17.38134765625, 20.42626953125, 16.055908203125, 32.50537109375, 29.9969482421875, 35.462646484375, 20.4649658203125, 22.7794189453125, 41.67919921875, 24.9241943359375, 19.5076904296875, 17.5787353515625, 18.2840576171875, 43.462646484375, 22.83447265625, 32.0792236328125, 26.0751953125, 23.7489013671875, 18.3052978515625, 22.1607666015625, 7.9853515625, 33.5435791015625, 35.0751953125, 12.9361572265625, 40.5283203125, 22.06689453125, 28.21484375, 14.6534423828125, 4.32958984375, 34.3858642578125, 20.1392822265625, 21.2752685546875, 35.2701416015625, 32.3282470703125, 25.1607666015625, 27.4005126953125, 8.9158935546875, 24.23486328125, 40.1231689453125, 11.9158935546875, 16.2330322265625, 23.3858642578125, 15.5482177734375, 31.2542724609375, 25.2752685546875, 14.3052978515625, -1.0758056640625, 18.5787353515625, 26.0250244140625, 57.3846435546875, 9.533935546875, 31.7425537109375, 16.25146484375, 19.9251708984375, 37.3858642578125, 25.5775146484375, 32.3052978515625, 28.2542724609375, 18.055908203125, 27.67919921875, 29.2994384765625, 10.055908203125, 4.9853515625, 14.8311767578125, 66.27294921875, 23.5435791015625, 31.0792236328125, 19.77392578125, 25.3052978515625, 13.0250244140625, 27.2994384765625, 21.77392578125, 39.3653564453125, -0.7459716796875, 15.5435791015625, 21.0029296875, 22.2889404296875, 72.2125244140625, 22.5435791015625, 9.6153564453125, 18.22265625, 20.77392578125, 25.828369140625, 34.3052978515625, 19.8311767578125, 24.2752685546875, 28.5087890625, 24.5435791015625, 12.8280029296875, 21.8736572265625, 18.94482421875, 29.0751953125, 19.0029296875, 29.3052978515625, 15.624755859375, 116.1654052734375, 22.098388671875, 18.7005615234375, 63.382080078125, 26.5438232421875, 24.9791259765625, 120.9151611328125, 42.462646484375, 22.5068359375, 27.0792236328125, 28.3946533203125, 21.0029296875, 19.708740234375, 31.7431640625, 23.0792236328125, 4.9241943359375, 21.9866943359375, 20.9251708984375, 23.1392822265625, 28.0751953125, 17.062255859375, 146.4322509765625, 22.5521240234375, 16.5013427734375, 27.1944580078125, 28.67919921875, 29.8280029296875, 9.70098876953125, 17.9666748046875, 28.77392578125, 17.922119140625, 25.6810302734375, 23.0751953125, 40.1231689453125, 26.72216796875, 31.5435791015625, 24.309326171875, 21.2821044921875, 29.0618896484375, 21.944091796875, 76.5155029296875, 16.055908203125, 30.2994384765625, 37.780029296875, 61.446044921875, 27.4017333984375, 25.490234375, 10.248779296875, 29.5621337890625, 24.70526123046875, 11.7342529296875, 23.8258056640625, 17.2447509765625, 13.38232421875, 12.195556640625, 14.9107666015625, 31.3946533203125, 15.6043701171875, 20.0792236328125, 14.6712646484375, 35.2994384765625, 13.9158935546875, 16.1241455078125, 61.7352294921875, 22.8258056640625, 22.462646484375, 18.708740234375, 42.1983642578125, 14.9107666015625, 19.718505859375, 31.8946533203125, 13.93389892578125, 12.2391357421875, 16.9158935546875, 38.9029541015625, 30.752685546875, 21.7982177734375, 23.537109375, 17.2994384765625, 1.9532470703125, 44.1231689453125, 16.83447265625, 20.055908203125, 19.83447265625, 21.6920166015625, 16.6126708984375, 15.4036865234375, 21.38232421875, 27.672607421875, 18.7672119140625, 19.54931640625, 10.93389892578125, 21.0775146484375, 22.2821044921875, 19.5478515625, 15.6893310546875, 32.1241455078125, 25.7197265625, 14.4849853515625, 15.4888916015625, 22.83447265625, 20.54931640625, 23.0751953125, 13.96099853515625, 22.87750244140625, 18.6597900390625, 8.0579833984375, 7.28680419921875, 17.88433837890625, 20.42626953125, 21.6407470703125, 22.28271484375, 12.91094970703125, 23.4649658203125, 17.3421630859375, 17.873046875, 16.6043701171875, 19.6043701171875, 20.418212890625, 20.38134765625, 10.5482177734375, 21.055908203125, 13.922119140625, 29.4423828125, 37.462646484375, 20.624755859375, 11.9013671875, 35.67919921875, 22.406005859375, 19.5076904296875, 16.105224609375, 18.2840576171875, 38.462646484375, 18.83447265625, 31.0792236328125, 26.0751953125, 22.7489013671875, 22.3052978515625, 24.1607666015625, 11.9853515625, 30.5435791015625, 33.0751953125, 16.9041748046875, 26.5283203125, 19.06689453125, 20.21484375, 16.5076904296875, 9.8736572265625, 30.3858642578125, 25.1392822265625, 22.2752685546875, 29.2701416015625, 29.3282470703125, 25.1607666015625, 22.4005126953125, 10.9158935546875, 24.23486328125, -2.9749755859375, 13.9158935546875, 18.2330322265625, 30.3858642578125, 11.7672119140625, 31.2542724609375, 26.2752685546875, 22.3052978515625, 9.9241943359375, 20.5787353515625, 25.0250244140625, 58.3846435546875, 15.533935546875, 33.7425537109375, 22.25146484375, 18.043701171875, -6.0758056640625, 25.5775146484375, 31.3052978515625, 29.2542724609375, 20.055908203125, 28.67919921875, 32.2994384765625, 19.055908203125, 8.9853515625, 19.8311767578125, -7.78515625, 15.3077392578125, 28.0792236328125, 45.8426513671875, 23.2889404296875, 21.0250244140625, 31.2994384765625, 18.4649658203125, 33.3653564453125, 6.2540283203125, 25.5435791015625, 22.0029296875, 21.2889404296875, 78.2125244140625, 28.5435791015625, 20.6153564453125, 22.1231689453125, 20.2149658203125, 25.8116455078125, 31.3052978515625, 18.2567138671875, 25.2752685546875, 44.462646484375, 29.5435791015625, 5.2137451171875, 22.4853515625, 21.94482421875, 32.0751953125, 23.0029296875, 32.3052978515625, 22.58760579427053, 121.1654052734375, 22.5621337890625, 21.462646484375, 68.382080078125, 28.8258056640625, 12.4017333984375, 127.9151611328125, 41.462646484375, 23.780029296875, 26.6043701171875, 32.3946533203125, 26.0029296875, 23.708740234375, 26.7431640625, 27.0792236328125, 10.9241943359375, 10.6043701171875, 17.043701171875, 17.18115234375, 31.0751953125, 19.062255859375, 153.4322509765625, 8.9747314453125, 21.5013427734375, 24.1944580078125, 34.67919921875, 14.2447509765625, 10.918212890625, 52.001708984375, 26.77392578125, 17.922119140625, 9.8092041015625, 25.0751953125, -1.9749755859375, 26.72216796875, 30.5435791015625, 13.055908203125, 21.2821044921875, 13.0029296875, 21.944091796875, 77.5155029296875, 18.77392578125, 29.2994384765625, 10.5013427734375, 68.446044921875, 25.4017333984375, 14.6121826171875, 14.4119873046875, 194.5404052734375, -5.71319580078125, 17.7342529296875, 23.8258056640625, 16.490234375, 16.38232421875, 14.195556640625, 26.4881591796875, 32.3946533203125, 16.6043701171875, 24.0792236328125, 14.6712646484375, 29.2994384765625, 14.9158935546875, 19.1241455078125, 65.7352294921875, 24.8258056640625, 23.462646484375, 22.708740234375, 35.1983642578125, 13.9107666015625, 22.718505859375, 28.8946533203125, 15.93389892578125, 12.2391357421875, 17.9158935546875, 36.919677734375, 32.752685546875, 20.32470703125, 19.537109375, 20.2994384765625, 9.2618408203125, 45.1231689453125, 20.309326171875, 22.055908203125, 20.83447265625, 20.6920166015625, 18.462646484375, 38.81298828125, 23.38232421875, 24.672607421875, 19.7672119140625, 20.54931640625, 14.93389892578125, 18.0775146484375, 25.9853515625, 15.418212890625, 18.6893310546875, 32.1241455078125, 23.7197265625, 13.731201171875, 14.4888916015625, 23.309326171875, 22.54931640625, 27.0751953125, 17.96099853515625, 13.70526123046875, 18.6597900390625, 10.0579833984375, 9.28680419921875, 10.062255859375, 8.927490234375, 21.6407470703125, 22.28271484375, 12.91094970703125, 21.624755859375, 24.6507568359375, 22.181640625, 17.6043701171875, 18.6043701171875, 18.1607666015625, 23.38134765625, 9.7672119140625, 19.77392578125, -0.43896484375, 14.5548095703125, 16.6937255859375, 53.5579833984375, 16.9013671875, 35.52490234375, 25.52490234375, 18.5076904296875, 1.909423828125, 7.53369140625, 35.6475830078125, 28.7593994140625, 29.621826171875, 25.6177978515625, 24.5849609375, 25.847900390625, 10.83349609375, 16.5279541015625, 31.6697998046875, 29.6177978515625, -0.4569091796875, 12.5283203125, 17.2518310546875, 13.21484375, 18.5076904296875, 17.5047607421875, 29.604248046875, 19.18115234375, 7.9141845703125, 24.2701416015625, 48.6922607421875, 25.1607666015625, 52.798095703125, 12.9158935546875, 20.937255859375, 2.1439208984375, -0.4451904296875, 20.2330322265625, 37.5047607421875, 14.7672119140625, 29.796875, 12.9141845703125, 10.7593994140625, 15.52490234375, 6.3548583984375, 24.1439208984375, 59.3846435546875, 16.7794189453125, 38.43359375, 10.26953125, 15.5478515625, 9.6861572265625, 10.2164306640625, 28.847900390625, 30.796875, 21.5985107421875, 28.798095703125, 9.2518310546875, 45.7686767578125, 12.5279541015625, 21.2567138671875, -2.78515625, 10.151611328125, 59.9080810546875, 50.0147705078125, 24.95849609375, 18.89892578125, 10.2518310546875, 18.1673583984375, 30.056396484375, 13.2540283203125, 1.151611328125, 24.6939697265625, 20.712646484375, 84.2125244140625, 15.49267578125, 27.15120442708303, 27.2420654296875, 20.007568359375, 14.4437255859375, 27.847900390625, 22.2567138671875, 11.9141845703125, 36.6475830078125, 15.49267578125, 6.2137451171875, 23.5047607421875, 25.3685302734375, 14.529296875, 29.6939697265625, 14.7593994140625, 6.45804850260447, 128.8564453125, 25.7470703125, 29.6475830078125, 59.0838623046875, 26.368408203125, 15.4017333984375, 146.0771484375, 40.6475830078125, 29.89892578125, 24.14697265625, 4.5279541015625, 23.21435546875, 20.6697998046875, 22.7431640625, 14.368408203125, 17.0430908203125, 13.14697265625, 18.4444580078125, 22.18115234375, 13.529296875, 20.062255859375, 159.5511474609375, 9.9747314453125, 27.6202392578125, 41.25341796875, 41.798095703125, 17.2447509765625, 9.88433837890625, 56.650390625, 24.3165283203125, 2.56103515625, 12.8092041015625, 27.6177978515625, 4.1439208984375, 27.72216796875, 30.728515625, 17.5985107421875, 20.82470703125, 19.6939697265625, 22.944091796875, 78.5155029296875, 14.1673583984375, 30.484375, 17.6202392578125, 62.1478271484375, 24.4017333984375, 13.8311767578125, 16.2513427734375, 201.725341796875, -1.71319580078125, 17.2607421875, 24.368408203125, 21.490234375, 19.38232421875, 5.3441162109375, 22.4881591796875, 32.937255859375, 17.14697265625, 12.368408203125, 29.54931640625, 28.3526611328125, 1.5548095703125, 22.1241455078125, 56.43701171875, 22.08642578125, 25.6475830078125, 20.6697998046875, 32.9251708984375, 12.9107666015625, 26.718505859375, 25.8946533203125, 17.93389892578125, 12.2391357421875, 18.9158935546875, 27.919677734375, 26.964111328125, 17.8792724609375, 22.318115234375, 25.484375, 1.2926025390625, 45.2420654296875, 8.5985107421875, 23.5985107421875, 54.13818359375, 15.54931640625, 25.6475830078125, 32.2366943359375, 4.91094970703125, 23.466796875, 19.7672119140625, 22.54931640625, 0.27337646484375, 12.0247802734375, 24.5279541015625, 20.418212890625, 0.872314453125, 32.1241455078125, 21.7197265625, 18.731201171875, 13.4888916015625, 25.8519287109375, 9.6712646484375, 30.6177978515625, 8.18450927734375, 15.70526123046875, 6.909423828125, 12.0579833984375, 12.28680419921875, 12.062255859375, 16.5382080078125, 22.6407470703125, 23.28271484375, 11.91094970703125, 19.796875, 17.1806640625, 23.181640625, 25.7900390625, 18.14697265625, 7.83349609375, 29.9920654296875, 14.7672119140625, 17.007568359375, 15.922119140625, 20.9158935546875, 19.5087890625, 24.2542724609375, 14.120361328125, 32.9241943359375, 26.406005859375, 20.5076904296875, 19.6597900390625, 20.2840576171875, 29.462646484375, 25.216796875, 28.0792236328125, 24.0751953125, 23.5849609375, 30.3052978515625, 11.83349609375, 14.7005615234375, 31.708740234375, 27.0751953125, 15.0220947265625, 32.17431640625, 15.06689453125, 10.21484375, 19.0753173828125, 29.3858642578125, 26.8736572265625, 25.18115234375, 24.2752685546875, 19.2701416015625, 41.001220703125, 23.1607666015625, 44.67919921875, 15.9158935546875, 22.3946533203125, 9.0250244140625, 15.9158935546875, 21.2330322265625, -3.0758056640625, 16.7672119140625, 30.2542724609375, 30.2752685546875, 8.83447265625, 23.67919921875, 20.105224609375, 25.0250244140625, 57.3846435546875, 7.9013671875, 25.5128173828125, 19.5784912109375, 21.5478515625, 11.9241943359375, 26.5775146484375, 29.3052978515625, 8.248779296875, 19.77392578125, 29.67919921875, 13.06689453125, 17.624755859375, 16.2821044921875, 15.95849609375, -1.78515625, 13.5621337890625, 24.6043701171875, 56.47216796875, 22.95849609375, 29.780029296875, 15.06689453125, 23.2542724609375, 30.844970703125, 2.3822021484375, 11.9666748046875, 18.5233154296875, 21.2889404296875, 94.2125244140625, 5.9666748046875, 35.17435709635447, 32.1231689453125, 19.624755859375, 19.752685546875, 25.3052978515625, 14.95849609375, 27.2752685546875, 31.7005615234375, 90.18505859375, 8.2137451171875, 29.3858642578125, 27.94482421875, 6.6043701171875, 22.5233154296875, 17.216796875, 13.4119873046875, 116.7855224609375, 27.5621337890625, -1.832275390625, 60.49462890625, 25.8258056640625, 19.4017333984375, 152.3861083984375, 39.462646484375, -42.271240234375, 24.6043701171875, 9.9853515625, 27.5233154296875, 20.5435791015625, 39.8021240234375, 19.8258056640625, 15.67919921875, 17.6043701171875, 19.5478515625, 27.18115234375, 17.9866943359375, 7.9329833984375, 119.3341064453125, 11.9747314453125, 22.0618896484375, 37.25341796875, 38.67919921875, 16.490234375, 13.88433837890625, 61.4654541015625, 25.77392578125, 17.922119140625, 15.8092041015625, 32.0751953125, 14.0250244140625, 16.7640380859375, 30.5435791015625, 16.2149658203125, 21.2821044921875, 19.0029296875, 23.944091796875, 80.5155029296875, 21.2542724609375, 32.2994384765625, 17.9124755859375, 61.478271484375, 22.4017333984375, 18.8311767578125, 17.48486328125, 202.08447265625, 2.28680419921875, 18.8153076171875, 21.5438232421875, 12.6121826171875, 21.38232421875, -1.529296875, 24.4561767578125, 6.9853515625, 21.6043701171875, 18.8258056640625, 28.54931640625, 18.167724609375, 17.9158935546875, 25.1241455078125, 60.8314208984375, 18.23486328125, 24.462646484375, 22.5435791015625, 31.443359375, 13.9107666015625, 31.718505859375, 24.8946533203125, 18.93389892578125, 15.9293212890625, 19.9158935546875, 51.1983642578125, 26.2730712890625, 21.8792724609375, 33.1961669921875, 4.06689453125, 12.1759033203125, 47.1231689453125, 19.055908203125, 19.2149658203125, 22.83447265625, 17.54931640625, 28.462646484375, 27.6531982421875, 9.91094970703125, 23.88330078125, 20.7672119140625, 23.54931640625, 6.27337646484375, 31.9686279296875, 21.9853515625, 19.1607666015625, 13.2752685546875, 32.1241455078125, 22.459716796875, 13.9847412109375, 14.4888916015625, 16.055908203125, 14.6712646484375, 14.9866943359375, -7.59814453125, 19.70526123046875, 19.6597900390625, 10.30419921875, 15.28680419921875, 14.062255859375, 12.4539794921875, 23.6407470703125, 24.28271484375, 11.91094970703125, 25.2542724609375, 12.1529541015625, 18.705078125, 20.6043701171875, 18.6043701171875, 12.83349609375, 21.1878662109375, 17.1927490234375, 17.624755859375, 16.922119140625, 29.4146728515625, 7.167724609375, 27.2542724609375, 18.120361328125, 25.9241943359375, 23.67919921875, 19.0753173828125, 13.6893310546875, 22.2840576171875, 28.7005615234375, 40.3052978515625, 27.0792236328125, 23.058837890625, 22.5849609375, 13.216796875, 12.83349609375, 20.462646484375, 26.708740234375, 24.0751953125, 13.0220947265625, 22.17431640625, 13.06689453125, 6.21484375, 24.0753173828125, -8.0758056640625, 29.32958984375, 12.597900390625, 26.2752685546875, 49.548828125, 35.001220703125, 28.418212890625, 37.67919921875, 3.4849853515625, 24.3946533203125, 16.0250244140625, 16.9158935546875, 21.2330322265625, 5.9241943359375, 19.7672119140625, 29.2542724609375, 13.6920166015625, 18.309326171875, 286.261962890625, 16.6597900390625, 26.0250244140625, 54.3846435546875, 9.120361328125, 26.5128173828125, 116.5263671875, 17.418212890625, 16.406005859375, 17.5123291015625, 30.3052978515625, 11.248779296875, 20.2149658203125, 29.67919921875, 18.06689453125, 22.2542724609375, 15.462646484375, 17.3052978515625, -0.78515625, 24.5621337890625, 20.6043701171875, 37.466796875, 34.2567138671875, 291.36279296875, 15.6109619140625, 5.248779296875, 23.844970703125, 8.4561767578125, 15.5621337890625, 25.5233154296875, 20.2889404296875, 104.2125244140625, 12.9666748046875, 46.5076904296875, 37.1231689453125, 21.2542724609375, 17.2730712890625, 24.2889404296875, 15.3052978515625, 26.2752685546875, 29.2821044921875, 97.18505859375, 10.2137451171875, 36.3858642578125, 29.94482421875, 12.6043701171875, 28.5233154296875, 19.216796875, 16.708740234375, 124.7855224609375, 30.5621337890625, 9.167724609375, 66.49462890625, 23.8258056640625, 23.4017333984375, 244.4200439453125, 38.462646484375, -32.271240234375, 24.6043701171875, 14.9853515625, 23.421630859375, 26.5435791015625, 35.8021240234375, 18.5438232421875, 24.67919921875, 20.6043701171875, 16.418212890625, 13.597900390625, 7.6043701171875, 10.9329833984375, 127.3341064453125, 13.9747314453125, 29.0618896484375, 33.25341796875, 36.67919921875, 20.490234375, 8.062255859375, 41.23291015625, 25.77392578125, 18.922119140625, 18.8831787109375, 14.9866943359375, 17.5068359375, 17.7640380859375, 31.5435791015625, 16.624755859375, 22.2821044921875, 22.0029296875, 24.944091796875, 83.5155029296875, 4.248779296875, 10.06689453125, 25.0618896484375, 65.49462890625, 20.4017333984375, 20.2567138671875, 22.5435791015625, 240.0916748046875, 7.28680419921875, 13.9906005859375, 20.98486328125, 12.8311767578125, 2.91094970703125, 1.470703125, 21.4561767578125, 10.9853515625, 23.0792236328125, 19.5438232421875, 27.54931640625, 50.462646484375, 19.9158935546875, 28.1241455078125, 65.49462890625, 21.23486328125, 25.462646484375, 28.5435791015625, 22.443359375, 14.9107666015625, 18.827392578125, 22.8946533203125, 1.27337646484375, 19.1893310546875, 4.4849853515625, 41.1983642578125, 28.2730712890625, 25.8792724609375, 28.1961669921875, 11.06689453125, 2.5985107421875, 0.0250244140625, 15.4649658203125, 20.4649658203125, 23.83447265625, 18.54931640625, 32.462646484375, 31.244140625, 14.91094970703125, 26.1922607421875, 20.7672119140625, 25.54931640625, 11.27337646484375, 29.9686279296875, 19.9853515625, 7.83349609375, 20.2752685546875, 32.1241455078125, 21.76953125, 6.6810302734375, 15.4888916015625, 21.055908203125, 12.8902587890625, 19.9866943359375, -2.59814453125, 22.70526123046875, 19.6597900390625, 14.30419921875, 17.28680419921875, 17.062255859375, 14.008544921875, 24.6407470703125, 24.28271484375, 10.91094970703125, 29.2542724609375, 9.53857421875, 22.705078125, 21.6043701171875, 19.6043701171875, 17.523681640625, 17.490234375, 10.89453125, 20.2542724609375, 13.7794189453125, 20.4146728515625, 11.167724609375, 29.2542724609375, 16.5458984375, 17.9241943359375, 25.67919921875, 21.0753173828125, 14.2333984375, 7.7852783203125, 22.0582275390625, 35.3052978515625, 25.0792236328125, 20.0751953125, 20.5849609375, 17.216796875, 14.83349609375, 28.462646484375, 26.4119873046875, 21.0751953125, 8.9041748046875, 13.17431640625, 11.06689453125, 3.21484375, 17.1171875, 3.9241943359375, 25.32958984375, 13.8433837890625, 8.6920166015625, 10.2701416015625, 29.001220703125, 26.418212890625, 30.67919921875, 8.4849853515625, 25.3946533203125, 17.5068359375, 17.9158935546875, 21.2330322265625, 15.9241943359375, 18.1927490234375, 28.2542724609375, 11.54931640625, 14.055908203125, 298.261962890625, 19.6597900390625, 21.5068359375, 52.3846435546875, 15.120361328125, 24.20263671875, 128.5263671875, 16.1607666015625, 21.67919921875, 18.5123291015625, 30.3052978515625, 14.248779296875, 14.2542724609375, 29.67919921875, 16.6109619140625, 30.2542724609375, 23.462646484375, 24.3052978515625, 1.21484375, 10.32958984375, 16.6043701171875, 40.6300048828125, 18.95849609375, 298.7906494140625, 18.1231689453125, 9.4119873046875, 17.844970703125, 16.4561767578125, 26.5621337890625, 7.25146484375, 19.3052978515625, 114.2125244140625, 15.098388671875, 58.5076904296875, 41.1231689453125, 24.2542724609375, 25.2730712890625, 20.3052978515625, 21.3052978515625, 26.2752685546875, 22.2821044921875, 103.18505859375, 11.2137451171875, 42.3858642578125, 32.94482421875, 16.0792236328125, 9.25146484375, 21.216796875, 18.48486328125, 88.789794921875, 7.32958984375, 17.7994384765625, 72.49462890625, 22.8258056640625, 19.9251708984375, 254.4200439453125, 14.5087890625, -34.710693359375, 22.0792236328125, 15.2821044921875, 112.1654052734375, 12.3077392578125, 31.8021240234375, 16.23486328125, -1.5994873046875, 22.0792236328125, 14.1607666015625, 14.8433837890625, 12.6043701171875, 13.9329833984375, 136.3341064453125, 15.9747314453125, 16.0029296875, 29.25341796875, 34.67919921875, 8.6121826171875, 12.062255859375, 47.23291015625, 18.4649658203125, 18.922119140625, 19.9791259765625, 18.9866943359375, 22.780029296875, 18.7640380859375, 32.5435791015625, 22.2542724609375, 22.2821044921875, 25.0029296875, 24.944091796875, 86.5155029296875, 10.4119873046875, 13.06689453125, 16.0029296875, 70.49462890625, 19.4017333984375, 12.95849609375, 11.3077392578125, 248.0916748046875, 11.28680419921875, 13.72216796875, 20.23486328125, 17.8311767578125, 5.91094970703125, 4.470703125, 19.4561767578125, 14.9853515625, 11.8258056640625, 15.3946533203125, 12.6712646484375, 41.462646484375, 21.9158935546875, 15.2330322265625, 52.4061279296875, 21.3946533203125, 25.462646484375, 15.3077392578125, 14.443359375, 15.9107666015625, 23.827392578125, 21.8946533203125, 2.27337646484375, 13.1241455078125, 6.4849853515625, 31.1983642578125, 30.2730712890625, 19.0545654296875, 24.1961669921875, 10.6109619140625, 7.5985107421875, 2.0250244140625, 18.2542724609375, 20.624755859375, 23.83447265625, 20.54931640625, 36.462646484375, 22.244140625, 18.91094970703125, 27.4742431640625, 17.1927490234375, 12.6712646484375, 12.87750244140625, 12.0775146484375, 17.9853515625, 12.83349609375, 8.6920166015625, 31.1241455078125, 19.459716796875, 10.6810302734375, -0.9420166015625, 13.4649658203125, 12.3157958984375, 9.6043701171875, 1.40185546875, -7.71319580078125, 19.6597900390625, 8.5577392578125, 20.28680419921875, 19.062255859375, 10.183837890625, 26.6407470703125, 24.28271484375, 10.91094970703125, 8.248779296875, 15.53857421875, 19.8236083984375, 20.0792236328125, 19.6043701171875, 21.78369140625, 21.490234375, 14.3052978515625, 24.2542724609375], \"yaxis\": \"y\"}],                        {\"legend\": {\"tracegroupgap\": 0}, \"margin\": {\"t\": 60}, \"template\": {\"data\": {\"bar\": [{\"error_x\": {\"color\": \"#2a3f5f\"}, \"error_y\": {\"color\": \"#2a3f5f\"}, \"marker\": {\"line\": {\"color\": \"#E5ECF6\", \"width\": 0.5}}, \"type\": \"bar\"}], \"barpolar\": [{\"marker\": {\"line\": {\"color\": \"#E5ECF6\", \"width\": 0.5}}, \"type\": \"barpolar\"}], \"carpet\": [{\"aaxis\": {\"endlinecolor\": \"#2a3f5f\", \"gridcolor\": \"white\", \"linecolor\": \"white\", \"minorgridcolor\": \"white\", \"startlinecolor\": \"#2a3f5f\"}, \"baxis\": {\"endlinecolor\": \"#2a3f5f\", \"gridcolor\": \"white\", \"linecolor\": \"white\", \"minorgridcolor\": \"white\", \"startlinecolor\": \"#2a3f5f\"}, \"type\": \"carpet\"}], \"choropleth\": [{\"colorbar\": {\"outlinewidth\": 0, \"ticks\": \"\"}, \"type\": \"choropleth\"}], \"contour\": [{\"colorbar\": {\"outlinewidth\": 0, \"ticks\": \"\"}, \"colorscale\": [[0.0, \"#0d0887\"], [0.1111111111111111, \"#46039f\"], [0.2222222222222222, \"#7201a8\"], [0.3333333333333333, \"#9c179e\"], [0.4444444444444444, \"#bd3786\"], [0.5555555555555556, \"#d8576b\"], [0.6666666666666666, \"#ed7953\"], [0.7777777777777778, \"#fb9f3a\"], [0.8888888888888888, \"#fdca26\"], [1.0, \"#f0f921\"]], \"type\": \"contour\"}], \"contourcarpet\": [{\"colorbar\": {\"outlinewidth\": 0, \"ticks\": \"\"}, \"type\": \"contourcarpet\"}], \"heatmap\": [{\"colorbar\": {\"outlinewidth\": 0, \"ticks\": \"\"}, \"colorscale\": [[0.0, \"#0d0887\"], [0.1111111111111111, \"#46039f\"], [0.2222222222222222, \"#7201a8\"], [0.3333333333333333, \"#9c179e\"], [0.4444444444444444, \"#bd3786\"], [0.5555555555555556, \"#d8576b\"], [0.6666666666666666, \"#ed7953\"], [0.7777777777777778, \"#fb9f3a\"], [0.8888888888888888, \"#fdca26\"], [1.0, \"#f0f921\"]], \"type\": \"heatmap\"}], \"heatmapgl\": [{\"colorbar\": {\"outlinewidth\": 0, \"ticks\": \"\"}, \"colorscale\": [[0.0, \"#0d0887\"], [0.1111111111111111, \"#46039f\"], [0.2222222222222222, \"#7201a8\"], [0.3333333333333333, \"#9c179e\"], [0.4444444444444444, \"#bd3786\"], [0.5555555555555556, \"#d8576b\"], [0.6666666666666666, \"#ed7953\"], [0.7777777777777778, \"#fb9f3a\"], [0.8888888888888888, \"#fdca26\"], [1.0, \"#f0f921\"]], \"type\": \"heatmapgl\"}], \"histogram\": [{\"marker\": {\"colorbar\": {\"outlinewidth\": 0, \"ticks\": \"\"}}, \"type\": \"histogram\"}], \"histogram2d\": [{\"colorbar\": {\"outlinewidth\": 0, \"ticks\": \"\"}, \"colorscale\": [[0.0, \"#0d0887\"], [0.1111111111111111, \"#46039f\"], [0.2222222222222222, \"#7201a8\"], [0.3333333333333333, \"#9c179e\"], [0.4444444444444444, \"#bd3786\"], [0.5555555555555556, \"#d8576b\"], [0.6666666666666666, \"#ed7953\"], [0.7777777777777778, \"#fb9f3a\"], [0.8888888888888888, \"#fdca26\"], [1.0, \"#f0f921\"]], \"type\": \"histogram2d\"}], \"histogram2dcontour\": [{\"colorbar\": {\"outlinewidth\": 0, \"ticks\": \"\"}, \"colorscale\": [[0.0, \"#0d0887\"], [0.1111111111111111, \"#46039f\"], [0.2222222222222222, \"#7201a8\"], [0.3333333333333333, \"#9c179e\"], [0.4444444444444444, \"#bd3786\"], [0.5555555555555556, \"#d8576b\"], [0.6666666666666666, \"#ed7953\"], [0.7777777777777778, \"#fb9f3a\"], [0.8888888888888888, \"#fdca26\"], [1.0, \"#f0f921\"]], \"type\": \"histogram2dcontour\"}], \"mesh3d\": [{\"colorbar\": {\"outlinewidth\": 0, \"ticks\": \"\"}, \"type\": \"mesh3d\"}], \"parcoords\": [{\"line\": {\"colorbar\": {\"outlinewidth\": 0, \"ticks\": \"\"}}, \"type\": \"parcoords\"}], \"pie\": [{\"automargin\": true, \"type\": \"pie\"}], \"scatter\": [{\"marker\": {\"colorbar\": {\"outlinewidth\": 0, \"ticks\": \"\"}}, \"type\": \"scatter\"}], \"scatter3d\": [{\"line\": {\"colorbar\": {\"outlinewidth\": 0, \"ticks\": \"\"}}, \"marker\": {\"colorbar\": {\"outlinewidth\": 0, \"ticks\": \"\"}}, \"type\": \"scatter3d\"}], \"scattercarpet\": [{\"marker\": {\"colorbar\": {\"outlinewidth\": 0, \"ticks\": \"\"}}, \"type\": \"scattercarpet\"}], \"scattergeo\": [{\"marker\": {\"colorbar\": {\"outlinewidth\": 0, \"ticks\": \"\"}}, \"type\": \"scattergeo\"}], \"scattergl\": [{\"marker\": {\"colorbar\": {\"outlinewidth\": 0, \"ticks\": \"\"}}, \"type\": \"scattergl\"}], \"scattermapbox\": [{\"marker\": {\"colorbar\": {\"outlinewidth\": 0, \"ticks\": \"\"}}, \"type\": \"scattermapbox\"}], \"scatterpolar\": [{\"marker\": {\"colorbar\": {\"outlinewidth\": 0, \"ticks\": \"\"}}, \"type\": \"scatterpolar\"}], \"scatterpolargl\": [{\"marker\": {\"colorbar\": {\"outlinewidth\": 0, \"ticks\": \"\"}}, \"type\": \"scatterpolargl\"}], \"scatterternary\": [{\"marker\": {\"colorbar\": {\"outlinewidth\": 0, \"ticks\": \"\"}}, \"type\": \"scatterternary\"}], \"surface\": [{\"colorbar\": {\"outlinewidth\": 0, \"ticks\": \"\"}, \"colorscale\": [[0.0, \"#0d0887\"], [0.1111111111111111, \"#46039f\"], [0.2222222222222222, \"#7201a8\"], [0.3333333333333333, \"#9c179e\"], [0.4444444444444444, \"#bd3786\"], [0.5555555555555556, \"#d8576b\"], [0.6666666666666666, \"#ed7953\"], [0.7777777777777778, \"#fb9f3a\"], [0.8888888888888888, \"#fdca26\"], [1.0, \"#f0f921\"]], \"type\": \"surface\"}], \"table\": [{\"cells\": {\"fill\": {\"color\": \"#EBF0F8\"}, \"line\": {\"color\": \"white\"}}, \"header\": {\"fill\": {\"color\": \"#C8D4E3\"}, \"line\": {\"color\": \"white\"}}, \"type\": \"table\"}]}, \"layout\": {\"annotationdefaults\": {\"arrowcolor\": \"#2a3f5f\", \"arrowhead\": 0, \"arrowwidth\": 1}, \"autotypenumbers\": \"strict\", \"coloraxis\": {\"colorbar\": {\"outlinewidth\": 0, \"ticks\": \"\"}}, \"colorscale\": {\"diverging\": [[0, \"#8e0152\"], [0.1, \"#c51b7d\"], [0.2, \"#de77ae\"], [0.3, \"#f1b6da\"], [0.4, \"#fde0ef\"], [0.5, \"#f7f7f7\"], [0.6, \"#e6f5d0\"], [0.7, \"#b8e186\"], [0.8, \"#7fbc41\"], [0.9, \"#4d9221\"], [1, \"#276419\"]], \"sequential\": [[0.0, \"#0d0887\"], [0.1111111111111111, \"#46039f\"], [0.2222222222222222, \"#7201a8\"], [0.3333333333333333, \"#9c179e\"], [0.4444444444444444, \"#bd3786\"], [0.5555555555555556, \"#d8576b\"], [0.6666666666666666, \"#ed7953\"], [0.7777777777777778, \"#fb9f3a\"], [0.8888888888888888, \"#fdca26\"], [1.0, \"#f0f921\"]], \"sequentialminus\": [[0.0, \"#0d0887\"], [0.1111111111111111, \"#46039f\"], [0.2222222222222222, \"#7201a8\"], [0.3333333333333333, \"#9c179e\"], [0.4444444444444444, \"#bd3786\"], [0.5555555555555556, \"#d8576b\"], [0.6666666666666666, \"#ed7953\"], [0.7777777777777778, \"#fb9f3a\"], [0.8888888888888888, \"#fdca26\"], [1.0, \"#f0f921\"]]}, \"colorway\": [\"#636efa\", \"#EF553B\", \"#00cc96\", \"#ab63fa\", \"#FFA15A\", \"#19d3f3\", \"#FF6692\", \"#B6E880\", \"#FF97FF\", \"#FECB52\"], \"font\": {\"color\": \"#2a3f5f\"}, \"geo\": {\"bgcolor\": \"white\", \"lakecolor\": \"white\", \"landcolor\": \"#E5ECF6\", \"showlakes\": true, \"showland\": true, \"subunitcolor\": \"white\"}, \"hoverlabel\": {\"align\": \"left\"}, \"hovermode\": \"closest\", \"mapbox\": {\"style\": \"light\"}, \"paper_bgcolor\": \"white\", \"plot_bgcolor\": \"#E5ECF6\", \"polar\": {\"angularaxis\": {\"gridcolor\": \"white\", \"linecolor\": \"white\", \"ticks\": \"\"}, \"bgcolor\": \"#E5ECF6\", \"radialaxis\": {\"gridcolor\": \"white\", \"linecolor\": \"white\", \"ticks\": \"\"}}, \"scene\": {\"xaxis\": {\"backgroundcolor\": \"#E5ECF6\", \"gridcolor\": \"white\", \"gridwidth\": 2, \"linecolor\": \"white\", \"showbackground\": true, \"ticks\": \"\", \"zerolinecolor\": \"white\"}, \"yaxis\": {\"backgroundcolor\": \"#E5ECF6\", \"gridcolor\": \"white\", \"gridwidth\": 2, \"linecolor\": \"white\", \"showbackground\": true, \"ticks\": \"\", \"zerolinecolor\": \"white\"}, \"zaxis\": {\"backgroundcolor\": \"#E5ECF6\", \"gridcolor\": \"white\", \"gridwidth\": 2, \"linecolor\": \"white\", \"showbackground\": true, \"ticks\": \"\", \"zerolinecolor\": \"white\"}}, \"shapedefaults\": {\"line\": {\"color\": \"#2a3f5f\"}}, \"ternary\": {\"aaxis\": {\"gridcolor\": \"white\", \"linecolor\": \"white\", \"ticks\": \"\"}, \"baxis\": {\"gridcolor\": \"white\", \"linecolor\": \"white\", \"ticks\": \"\"}, \"bgcolor\": \"#E5ECF6\", \"caxis\": {\"gridcolor\": \"white\", \"linecolor\": \"white\", \"ticks\": \"\"}}, \"title\": {\"x\": 0.05}, \"xaxis\": {\"automargin\": true, \"gridcolor\": \"white\", \"linecolor\": \"white\", \"ticks\": \"\", \"title\": {\"standoff\": 15}, \"zerolinecolor\": \"white\", \"zerolinewidth\": 2}, \"yaxis\": {\"automargin\": true, \"gridcolor\": \"white\", \"linecolor\": \"white\", \"ticks\": \"\", \"title\": {\"standoff\": 15}, \"zerolinecolor\": \"white\", \"zerolinewidth\": 2}}}, \"xaxis\": {\"anchor\": \"y\", \"domain\": [0.0, 1.0], \"title\": {\"text\": \"predicted_values\"}}, \"yaxis\": {\"anchor\": \"x\", \"domain\": [0.0, 1.0], \"title\": {\"text\": \"zori_ssa\"}}},                        {\"responsive\": true}                    ).then(function(){\n",
       "                            \n",
       "var gd = document.getElementById('23adece8-8ba5-42cf-9a82-a14aec3600b6');\n",
       "var x = new MutationObserver(function (mutations, observer) {{\n",
       "        var display = window.getComputedStyle(gd).display;\n",
       "        if (!display || display === 'none') {{\n",
       "            console.log([gd, 'removed!']);\n",
       "            Plotly.purge(gd);\n",
       "            observer.disconnect();\n",
       "        }}\n",
       "}});\n",
       "\n",
       "// Listen for the removal of the full notebook cells\n",
       "var notebookContainer = gd.closest('#notebook-container');\n",
       "if (notebookContainer) {{\n",
       "    x.observe(notebookContainer, {childList: true});\n",
       "}}\n",
       "\n",
       "// Listen for the clearing of the current output cell\n",
       "var outputEl = gd.closest('.output');\n",
       "if (outputEl) {{\n",
       "    x.observe(outputEl, {childList: true});\n",
       "}}\n",
       "\n",
       "                        })                };                });            </script>        </div>"
      ]
     },
     "metadata": {},
     "output_type": "display_data"
    }
   ],
   "source": [
    "model_predictions = model.predict(X_test)\n",
    "\n",
    "residuals = y_test - model_predictions\n",
    "\n",
    "residuals = pd.DataFrame(residuals)\n",
    "\n",
    "residuals.loc[:,'predicted_values'] = model_predictions\n",
    "\n",
    "fig = px.scatter(data_frame = residuals, x = 'predicted_values',y = 'zori_ssa' )\n",
    "\n",
    "fig.show()"
   ]
  },
  {
   "cell_type": "code",
   "execution_count": 140,
   "metadata": {},
   "outputs": [],
   "source": [
    "from sklearn.metrics import mean_squared_error"
   ]
  },
  {
   "cell_type": "code",
   "execution_count": 141,
   "metadata": {},
   "outputs": [
    {
     "data": {
      "text/plain": [
       "36.97732252810858"
      ]
     },
     "execution_count": 141,
     "metadata": {},
     "output_type": "execute_result"
    }
   ],
   "source": [
    "from math import sqrt\n",
    "\n",
    "#calculate RMSE\n",
    "sqrt(mean_squared_error(y_test, model_predictions))"
   ]
  },
  {
   "cell_type": "code",
   "execution_count": 138,
   "metadata": {},
   "outputs": [],
   "source": [
    "rmse = (residuals['zori_ssa'].apply(lambda x: x**2).sum())**.5/len(residuals)"
   ]
  },
  {
   "cell_type": "code",
   "execution_count": 139,
   "metadata": {},
   "outputs": [
    {
     "name": "stdout",
     "output_type": "stream",
     "text": [
      "0.955387499707828\n"
     ]
    }
   ],
   "source": [
    "print(rmse)"
   ]
  },
  {
   "cell_type": "code",
   "execution_count": null,
   "metadata": {},
   "outputs": [],
   "source": []
  },
  {
   "cell_type": "code",
   "execution_count": 129,
   "metadata": {},
   "outputs": [
    {
     "data": {
      "application/vnd.plotly.v1+json": {
       "config": {
        "plotlyServerURL": "https://plot.ly"
       },
       "data": [
        {
         "alignmentgroup": "True",
         "hovertemplate": "feature=%{x}<br>importance=%{y}<extra></extra>",
         "legendgroup": "quintile_3_upper_limit",
         "marker": {
          "color": "#636efa"
         },
         "name": "quintile_3_upper_limit",
         "offsetgroup": "quintile_3_upper_limit",
         "orientation": "v",
         "showlegend": true,
         "textposition": "auto",
         "type": "bar",
         "x": [
          "quintile_3_upper_limit"
         ],
         "xaxis": "x",
         "y": [
          0.05860831215977669
         ],
         "yaxis": "y"
        },
        {
         "alignmentgroup": "True",
         "hovertemplate": "feature=%{x}<br>importance=%{y}<extra></extra>",
         "legendgroup": "black_pop",
         "marker": {
          "color": "#EF553B"
         },
         "name": "black_pop",
         "offsetgroup": "black_pop",
         "orientation": "v",
         "showlegend": true,
         "textposition": "auto",
         "type": "bar",
         "x": [
          "black_pop"
         ],
         "xaxis": "x",
         "y": [
          0.04974297434091568
         ],
         "yaxis": "y"
        },
        {
         "alignmentgroup": "True",
         "hovertemplate": "feature=%{x}<br>importance=%{y}<extra></extra>",
         "legendgroup": "average_household_size_owners",
         "marker": {
          "color": "#00cc96"
         },
         "name": "average_household_size_owners",
         "offsetgroup": "average_household_size_owners",
         "orientation": "v",
         "showlegend": true,
         "textposition": "auto",
         "type": "bar",
         "x": [
          "average_household_size_owners"
         ],
         "xaxis": "x",
         "y": [
          0.022997040301561356
         ],
         "yaxis": "y"
        },
        {
         "alignmentgroup": "True",
         "hovertemplate": "feature=%{x}<br>importance=%{y}<extra></extra>",
         "legendgroup": "Total Sales Tax Collections Retail TX",
         "marker": {
          "color": "#ab63fa"
         },
         "name": "Total Sales Tax Collections Retail TX",
         "offsetgroup": "Total Sales Tax Collections Retail TX",
         "orientation": "v",
         "showlegend": true,
         "textposition": "auto",
         "type": "bar",
         "x": [
          "Total Sales Tax Collections Retail TX"
         ],
         "xaxis": "x",
         "y": [
          0.020849978551268578
         ],
         "yaxis": "y"
        },
        {
         "alignmentgroup": "True",
         "hovertemplate": "feature=%{x}<br>importance=%{y}<extra></extra>",
         "legendgroup": "maxtempC",
         "marker": {
          "color": "#FFA15A"
         },
         "name": "maxtempC",
         "offsetgroup": "maxtempC",
         "orientation": "v",
         "showlegend": true,
         "textposition": "auto",
         "type": "bar",
         "x": [
          "maxtempC"
         ],
         "xaxis": "x",
         "y": [
          0.01793123409152031
         ],
         "yaxis": "y"
        },
        {
         "alignmentgroup": "True",
         "hovertemplate": "feature=%{x}<br>importance=%{y}<extra></extra>",
         "legendgroup": "quintile_3_upper_limit_annual_pct_change",
         "marker": {
          "color": "#19d3f3"
         },
         "name": "quintile_3_upper_limit_annual_pct_change",
         "offsetgroup": "quintile_3_upper_limit_annual_pct_change",
         "orientation": "v",
         "showlegend": true,
         "textposition": "auto",
         "type": "bar",
         "x": [
          "quintile_3_upper_limit_annual_pct_change"
         ],
         "xaxis": "x",
         "y": [
          0.017879391089081764
         ],
         "yaxis": "y"
        },
        {
         "alignmentgroup": "True",
         "hovertemplate": "feature=%{x}<br>importance=%{y}<extra></extra>",
         "legendgroup": "precipMM",
         "marker": {
          "color": "#FF6692"
         },
         "name": "precipMM",
         "offsetgroup": "precipMM",
         "orientation": "v",
         "showlegend": true,
         "textposition": "auto",
         "type": "bar",
         "x": [
          "precipMM"
         ],
         "xaxis": "x",
         "y": [
          0.01664985902607441
         ],
         "yaxis": "y"
        },
        {
         "alignmentgroup": "True",
         "hovertemplate": "feature=%{x}<br>importance=%{y}<extra></extra>",
         "legendgroup": "children",
         "marker": {
          "color": "#B6E880"
         },
         "name": "children",
         "offsetgroup": "children",
         "orientation": "v",
         "showlegend": true,
         "textposition": "auto",
         "type": "bar",
         "x": [
          "children"
         ],
         "xaxis": "x",
         "y": [
          0.01612747833132744
         ],
         "yaxis": "y"
        },
        {
         "alignmentgroup": "True",
         "hovertemplate": "feature=%{x}<br>importance=%{y}<extra></extra>",
         "legendgroup": "quintile_4_upper_limit",
         "marker": {
          "color": "#FF97FF"
         },
         "name": "quintile_4_upper_limit",
         "offsetgroup": "quintile_4_upper_limit",
         "orientation": "v",
         "showlegend": true,
         "textposition": "auto",
         "type": "bar",
         "x": [
          "quintile_4_upper_limit"
         ],
         "xaxis": "x",
         "y": [
          0.016018914058804512
         ],
         "yaxis": "y"
        },
        {
         "alignmentgroup": "True",
         "hovertemplate": "feature=%{x}<br>importance=%{y}<extra></extra>",
         "legendgroup": "median_household_income",
         "marker": {
          "color": "#FECB52"
         },
         "name": "median_household_income",
         "offsetgroup": "median_household_income",
         "orientation": "v",
         "showlegend": true,
         "textposition": "auto",
         "type": "bar",
         "x": [
          "median_household_income"
         ],
         "xaxis": "x",
         "y": [
          0.015980366617441177
         ],
         "yaxis": "y"
        },
        {
         "alignmentgroup": "True",
         "hovertemplate": "feature=%{x}<br>importance=%{y}<extra></extra>",
         "legendgroup": "housing_units_10_to_19_units",
         "marker": {
          "color": "#636efa"
         },
         "name": "housing_units_10_to_19_units",
         "offsetgroup": "housing_units_10_to_19_units",
         "orientation": "v",
         "showlegend": true,
         "textposition": "auto",
         "type": "bar",
         "x": [
          "housing_units_10_to_19_units"
         ],
         "xaxis": "x",
         "y": [
          0.015438640490174294
         ],
         "yaxis": "y"
        },
        {
         "alignmentgroup": "True",
         "hovertemplate": "feature=%{x}<br>importance=%{y}<extra></extra>",
         "legendgroup": "walking_to_work_population",
         "marker": {
          "color": "#EF553B"
         },
         "name": "walking_to_work_population",
         "offsetgroup": "walking_to_work_population",
         "orientation": "v",
         "showlegend": true,
         "textposition": "auto",
         "type": "bar",
         "x": [
          "walking_to_work_population"
         ],
         "xaxis": "x",
         "y": [
          0.014096463099122047
         ],
         "yaxis": "y"
        },
        {
         "alignmentgroup": "True",
         "hovertemplate": "feature=%{x}<br>importance=%{y}<extra></extra>",
         "legendgroup": "women_with_associate_degree",
         "marker": {
          "color": "#00cc96"
         },
         "name": "women_with_associate_degree",
         "offsetgroup": "women_with_associate_degree",
         "orientation": "v",
         "showlegend": true,
         "textposition": "auto",
         "type": "bar",
         "x": [
          "women_with_associate_degree"
         ],
         "xaxis": "x",
         "y": [
          0.013658596202731133
         ],
         "yaxis": "y"
        },
        {
         "alignmentgroup": "True",
         "hovertemplate": "feature=%{x}<br>importance=%{y}<extra></extra>",
         "legendgroup": "housing_units_built_1940_to_1949_annual_pct_change",
         "marker": {
          "color": "#ab63fa"
         },
         "name": "housing_units_built_1940_to_1949_annual_pct_change",
         "offsetgroup": "housing_units_built_1940_to_1949_annual_pct_change",
         "orientation": "v",
         "showlegend": true,
         "textposition": "auto",
         "type": "bar",
         "x": [
          "housing_units_built_1940_to_1949_annual_pct_change"
         ],
         "xaxis": "x",
         "y": [
          0.013647063635289669
         ],
         "yaxis": "y"
        },
        {
         "alignmentgroup": "True",
         "hovertemplate": "feature=%{x}<br>importance=%{y}<extra></extra>",
         "legendgroup": "armed_forces",
         "marker": {
          "color": "#FFA15A"
         },
         "name": "armed_forces",
         "offsetgroup": "armed_forces",
         "orientation": "v",
         "showlegend": true,
         "textposition": "auto",
         "type": "bar",
         "x": [
          "armed_forces"
         ],
         "xaxis": "x",
         "y": [
          0.012050842866301537
         ],
         "yaxis": "y"
        },
        {
         "alignmentgroup": "True",
         "hovertemplate": "feature=%{x}<br>importance=%{y}<extra></extra>",
         "legendgroup": "housing_units_built_1950_to_1959_annual_pct_change",
         "marker": {
          "color": "#19d3f3"
         },
         "name": "housing_units_built_1950_to_1959_annual_pct_change",
         "offsetgroup": "housing_units_built_1950_to_1959_annual_pct_change",
         "orientation": "v",
         "showlegend": true,
         "textposition": "auto",
         "type": "bar",
         "x": [
          "housing_units_built_1950_to_1959_annual_pct_change"
         ],
         "xaxis": "x",
         "y": [
          0.011848324909806252
         ],
         "yaxis": "y"
        },
        {
         "alignmentgroup": "True",
         "hovertemplate": "feature=%{x}<br>importance=%{y}<extra></extra>",
         "legendgroup": "housing_units_single_family_attached_owned_annual_pct_change",
         "marker": {
          "color": "#FF6692"
         },
         "name": "housing_units_single_family_attached_owned_annual_pct_change",
         "offsetgroup": "housing_units_single_family_attached_owned_annual_pct_change",
         "orientation": "v",
         "showlegend": true,
         "textposition": "auto",
         "type": "bar",
         "x": [
          "housing_units_single_family_attached_owned_annual_pct_change"
         ],
         "xaxis": "x",
         "y": [
          0.01116484496742487
         ],
         "yaxis": "y"
        },
        {
         "alignmentgroup": "True",
         "hovertemplate": "feature=%{x}<br>importance=%{y}<extra></extra>",
         "legendgroup": "mintempC",
         "marker": {
          "color": "#B6E880"
         },
         "name": "mintempC",
         "offsetgroup": "mintempC",
         "orientation": "v",
         "showlegend": true,
         "textposition": "auto",
         "type": "bar",
         "x": [
          "mintempC"
         ],
         "xaxis": "x",
         "y": [
          0.010212235152721405
         ],
         "yaxis": "y"
        },
        {
         "alignmentgroup": "True",
         "hovertemplate": "feature=%{x}<br>importance=%{y}<extra></extra>",
         "legendgroup": "housing_units_built_1930_to_1939",
         "marker": {
          "color": "#FF97FF"
         },
         "name": "housing_units_built_1930_to_1939",
         "offsetgroup": "housing_units_built_1930_to_1939",
         "orientation": "v",
         "showlegend": true,
         "textposition": "auto",
         "type": "bar",
         "x": [
          "housing_units_built_1930_to_1939"
         ],
         "xaxis": "x",
         "y": [
          0.010170377790927887
         ],
         "yaxis": "y"
        },
        {
         "alignmentgroup": "True",
         "hovertemplate": "feature=%{x}<br>importance=%{y}<extra></extra>",
         "legendgroup": "housing_units_built_1930_to_1939_annual_pct_change",
         "marker": {
          "color": "#FECB52"
         },
         "name": "housing_units_built_1930_to_1939_annual_pct_change",
         "offsetgroup": "housing_units_built_1930_to_1939_annual_pct_change",
         "orientation": "v",
         "showlegend": true,
         "textposition": "auto",
         "type": "bar",
         "x": [
          "housing_units_built_1930_to_1939_annual_pct_change"
         ],
         "xaxis": "x",
         "y": [
          0.009659593924880028
         ],
         "yaxis": "y"
        },
        {
         "alignmentgroup": "True",
         "hovertemplate": "feature=%{x}<br>importance=%{y}<extra></extra>",
         "legendgroup": "female_35_to_39",
         "marker": {
          "color": "#636efa"
         },
         "name": "female_35_to_39",
         "offsetgroup": "female_35_to_39",
         "orientation": "v",
         "showlegend": true,
         "textposition": "auto",
         "type": "bar",
         "x": [
          "female_35_to_39"
         ],
         "xaxis": "x",
         "y": [
          0.009518187493085861
         ],
         "yaxis": "y"
        },
        {
         "alignmentgroup": "True",
         "hovertemplate": "feature=%{x}<br>importance=%{y}<extra></extra>",
         "legendgroup": "hispanic_pop",
         "marker": {
          "color": "#EF553B"
         },
         "name": "hispanic_pop",
         "offsetgroup": "hispanic_pop",
         "orientation": "v",
         "showlegend": true,
         "textposition": "auto",
         "type": "bar",
         "x": [
          "hispanic_pop"
         ],
         "xaxis": "x",
         "y": [
          0.00874983612447977
         ],
         "yaxis": "y"
        },
        {
         "alignmentgroup": "True",
         "hovertemplate": "feature=%{x}<br>importance=%{y}<extra></extra>",
         "legendgroup": "housing_units_built_1980_to_1989",
         "marker": {
          "color": "#00cc96"
         },
         "name": "housing_units_built_1980_to_1989",
         "offsetgroup": "housing_units_built_1980_to_1989",
         "orientation": "v",
         "showlegend": true,
         "textposition": "auto",
         "type": "bar",
         "x": [
          "housing_units_built_1980_to_1989"
         ],
         "xaxis": "x",
         "y": [
          0.008596017956733704
         ],
         "yaxis": "y"
        },
        {
         "alignmentgroup": "True",
         "hovertemplate": "feature=%{x}<br>importance=%{y}<extra></extra>",
         "legendgroup": "white_pop_annual_pct_change",
         "marker": {
          "color": "#ab63fa"
         },
         "name": "white_pop_annual_pct_change",
         "offsetgroup": "white_pop_annual_pct_change",
         "orientation": "v",
         "showlegend": true,
         "textposition": "auto",
         "type": "bar",
         "x": [
          "white_pop_annual_pct_change"
         ],
         "xaxis": "x",
         "y": [
          0.008564049378037453
         ],
         "yaxis": "y"
        },
        {
         "alignmentgroup": "True",
         "hovertemplate": "feature=%{x}<br>importance=%{y}<extra></extra>",
         "legendgroup": "housing_units_built_1990_to_1999_annual_pct_change",
         "marker": {
          "color": "#FFA15A"
         },
         "name": "housing_units_built_1990_to_1999_annual_pct_change",
         "offsetgroup": "housing_units_built_1990_to_1999_annual_pct_change",
         "orientation": "v",
         "showlegend": true,
         "textposition": "auto",
         "type": "bar",
         "x": [
          "housing_units_built_1990_to_1999_annual_pct_change"
         ],
         "xaxis": "x",
         "y": [
          0.008416456170380116
         ],
         "yaxis": "y"
        },
        {
         "alignmentgroup": "True",
         "hovertemplate": "feature=%{x}<br>importance=%{y}<extra></extra>",
         "legendgroup": "housing_units_5_to_9_units",
         "marker": {
          "color": "#19d3f3"
         },
         "name": "housing_units_5_to_9_units",
         "offsetgroup": "housing_units_5_to_9_units",
         "orientation": "v",
         "showlegend": true,
         "textposition": "auto",
         "type": "bar",
         "x": [
          "housing_units_5_to_9_units"
         ],
         "xaxis": "x",
         "y": [
          0.008099926635622978
         ],
         "yaxis": "y"
        },
        {
         "alignmentgroup": "True",
         "hovertemplate": "feature=%{x}<br>importance=%{y}<extra></extra>",
         "legendgroup": "female_50_to_54",
         "marker": {
          "color": "#FF6692"
         },
         "name": "female_50_to_54",
         "offsetgroup": "female_50_to_54",
         "orientation": "v",
         "showlegend": true,
         "textposition": "auto",
         "type": "bar",
         "x": [
          "female_50_to_54"
         ],
         "xaxis": "x",
         "y": [
          0.00806521438062191
         ],
         "yaxis": "y"
        },
        {
         "alignmentgroup": "True",
         "hovertemplate": "feature=%{x}<br>importance=%{y}<extra></extra>",
         "legendgroup": "housing_units_built_1950_to_1959",
         "marker": {
          "color": "#B6E880"
         },
         "name": "housing_units_built_1950_to_1959",
         "offsetgroup": "housing_units_built_1950_to_1959",
         "orientation": "v",
         "showlegend": true,
         "textposition": "auto",
         "type": "bar",
         "x": [
          "housing_units_built_1950_to_1959"
         ],
         "xaxis": "x",
         "y": [
          0.0078109633177518845
         ],
         "yaxis": "y"
        },
        {
         "alignmentgroup": "True",
         "hovertemplate": "feature=%{x}<br>importance=%{y}<extra></extra>",
         "legendgroup": "rent_search_interest",
         "marker": {
          "color": "#FF97FF"
         },
         "name": "rent_search_interest",
         "offsetgroup": "rent_search_interest",
         "orientation": "v",
         "showlegend": true,
         "textposition": "auto",
         "type": "bar",
         "x": [
          "rent_search_interest"
         ],
         "xaxis": "x",
         "y": [
          0.007553431671112776
         ],
         "yaxis": "y"
        },
        {
         "alignmentgroup": "True",
         "hovertemplate": "feature=%{x}<br>importance=%{y}<extra></extra>",
         "legendgroup": "female_21_annual_pct_change",
         "marker": {
          "color": "#FECB52"
         },
         "name": "female_21_annual_pct_change",
         "offsetgroup": "female_21_annual_pct_change",
         "orientation": "v",
         "showlegend": true,
         "textposition": "auto",
         "type": "bar",
         "x": [
          "female_21_annual_pct_change"
         ],
         "xaxis": "x",
         "y": [
          0.006993977818638086
         ],
         "yaxis": "y"
        },
        {
         "alignmentgroup": "True",
         "hovertemplate": "feature=%{x}<br>importance=%{y}<extra></extra>",
         "legendgroup": "quintile_1_upper_limit",
         "marker": {
          "color": "#636efa"
         },
         "name": "quintile_1_upper_limit",
         "offsetgroup": "quintile_1_upper_limit",
         "orientation": "v",
         "showlegend": true,
         "textposition": "auto",
         "type": "bar",
         "x": [
          "quintile_1_upper_limit"
         ],
         "xaxis": "x",
         "y": [
          0.0069687701761722565
         ],
         "yaxis": "y"
        },
        {
         "alignmentgroup": "True",
         "hovertemplate": "feature=%{x}<br>importance=%{y}<extra></extra>",
         "legendgroup": "quintile_1_upper_limit_annual_pct_change",
         "marker": {
          "color": "#EF553B"
         },
         "name": "quintile_1_upper_limit_annual_pct_change",
         "offsetgroup": "quintile_1_upper_limit_annual_pct_change",
         "orientation": "v",
         "showlegend": true,
         "textposition": "auto",
         "type": "bar",
         "x": [
          "quintile_1_upper_limit_annual_pct_change"
         ],
         "xaxis": "x",
         "y": [
          0.00679415138438344
         ],
         "yaxis": "y"
        },
        {
         "alignmentgroup": "True",
         "hovertemplate": "feature=%{x}<br>importance=%{y}<extra></extra>",
         "legendgroup": "delta_monthly_avg_gas_price",
         "marker": {
          "color": "#00cc96"
         },
         "name": "delta_monthly_avg_gas_price",
         "offsetgroup": "delta_monthly_avg_gas_price",
         "orientation": "v",
         "showlegend": true,
         "textposition": "auto",
         "type": "bar",
         "x": [
          "delta_monthly_avg_gas_price"
         ],
         "xaxis": "x",
         "y": [
          0.006612416356801987
         ],
         "yaxis": "y"
        },
        {
         "alignmentgroup": "True",
         "hovertemplate": "feature=%{x}<br>importance=%{y}<extra></extra>",
         "legendgroup": "high_school_diploma",
         "marker": {
          "color": "#ab63fa"
         },
         "name": "high_school_diploma",
         "offsetgroup": "high_school_diploma",
         "orientation": "v",
         "showlegend": true,
         "textposition": "auto",
         "type": "bar",
         "x": [
          "high_school_diploma"
         ],
         "xaxis": "x",
         "y": [
          0.006399800069630146
         ],
         "yaxis": "y"
        },
        {
         "alignmentgroup": "True",
         "hovertemplate": "feature=%{x}<br>importance=%{y}<extra></extra>",
         "legendgroup": "women_with_doctoral_degree_annual_pct_change",
         "marker": {
          "color": "#FFA15A"
         },
         "name": "women_with_doctoral_degree_annual_pct_change",
         "offsetgroup": "women_with_doctoral_degree_annual_pct_change",
         "orientation": "v",
         "showlegend": true,
         "textposition": "auto",
         "type": "bar",
         "x": [
          "women_with_doctoral_degree_annual_pct_change"
         ],
         "xaxis": "x",
         "y": [
          0.00636095367372036
         ],
         "yaxis": "y"
        },
        {
         "alignmentgroup": "True",
         "hovertemplate": "feature=%{x}<br>importance=%{y}<extra></extra>",
         "legendgroup": "female_75_to_79",
         "marker": {
          "color": "#19d3f3"
         },
         "name": "female_75_to_79",
         "offsetgroup": "female_75_to_79",
         "orientation": "v",
         "showlegend": true,
         "textposition": "auto",
         "type": "bar",
         "x": [
          "female_75_to_79"
         ],
         "xaxis": "x",
         "y": [
          0.006097426638007164
         ],
         "yaxis": "y"
        },
        {
         "alignmentgroup": "True",
         "hovertemplate": "feature=%{x}<br>importance=%{y}<extra></extra>",
         "legendgroup": "children_annual_pct_change",
         "marker": {
          "color": "#FF6692"
         },
         "name": "children_annual_pct_change",
         "offsetgroup": "children_annual_pct_change",
         "orientation": "v",
         "showlegend": true,
         "textposition": "auto",
         "type": "bar",
         "x": [
          "children_annual_pct_change"
         ],
         "xaxis": "x",
         "y": [
          0.005968676880002022
         ],
         "yaxis": "y"
        },
        {
         "alignmentgroup": "True",
         "hovertemplate": "feature=%{x}<br>importance=%{y}<extra></extra>",
         "legendgroup": "housing_units_over_50_units",
         "marker": {
          "color": "#B6E880"
         },
         "name": "housing_units_over_50_units",
         "offsetgroup": "housing_units_over_50_units",
         "orientation": "v",
         "showlegend": true,
         "textposition": "auto",
         "type": "bar",
         "x": [
          "housing_units_over_50_units"
         ],
         "xaxis": "x",
         "y": [
          0.005857274867594242
         ],
         "yaxis": "y"
        },
        {
         "alignmentgroup": "True",
         "hovertemplate": "feature=%{x}<br>importance=%{y}<extra></extra>",
         "legendgroup": "average_household_size_owners_annual_pct_change",
         "marker": {
          "color": "#FF97FF"
         },
         "name": "average_household_size_owners_annual_pct_change",
         "offsetgroup": "average_household_size_owners_annual_pct_change",
         "orientation": "v",
         "showlegend": true,
         "textposition": "auto",
         "type": "bar",
         "x": [
          "average_household_size_owners_annual_pct_change"
         ],
         "xaxis": "x",
         "y": [
          0.0058485656045377254
         ],
         "yaxis": "y"
        },
        {
         "alignmentgroup": "True",
         "hovertemplate": "feature=%{x}<br>importance=%{y}<extra></extra>",
         "legendgroup": "total_sales_tax",
         "marker": {
          "color": "#FECB52"
         },
         "name": "total_sales_tax",
         "offsetgroup": "total_sales_tax",
         "orientation": "v",
         "showlegend": true,
         "textposition": "auto",
         "type": "bar",
         "x": [
          "total_sales_tax"
         ],
         "xaxis": "x",
         "y": [
          0.0058224075473845005
         ],
         "yaxis": "y"
        },
        {
         "alignmentgroup": "True",
         "hovertemplate": "feature=%{x}<br>importance=%{y}<extra></extra>",
         "legendgroup": "housing_units_built_1970_to_1979",
         "marker": {
          "color": "#636efa"
         },
         "name": "housing_units_built_1970_to_1979",
         "offsetgroup": "housing_units_built_1970_to_1979",
         "orientation": "v",
         "showlegend": true,
         "textposition": "auto",
         "type": "bar",
         "x": [
          "housing_units_built_1970_to_1979"
         ],
         "xaxis": "x",
         "y": [
          0.005738377571105957
         ],
         "yaxis": "y"
        },
        {
         "alignmentgroup": "True",
         "hovertemplate": "feature=%{x}<br>importance=%{y}<extra></extra>",
         "legendgroup": "black_pop_annual_pct_change",
         "marker": {
          "color": "#EF553B"
         },
         "name": "black_pop_annual_pct_change",
         "offsetgroup": "black_pop_annual_pct_change",
         "orientation": "v",
         "showlegend": true,
         "textposition": "auto",
         "type": "bar",
         "x": [
          "black_pop_annual_pct_change"
         ],
         "xaxis": "x",
         "y": [
          0.005159836728125811
         ],
         "yaxis": "y"
        },
        {
         "alignmentgroup": "True",
         "hovertemplate": "feature=%{x}<br>importance=%{y}<extra></extra>",
         "legendgroup": "quintile_2_upper_limit",
         "marker": {
          "color": "#00cc96"
         },
         "name": "quintile_2_upper_limit",
         "offsetgroup": "quintile_2_upper_limit",
         "orientation": "v",
         "showlegend": true,
         "textposition": "auto",
         "type": "bar",
         "x": [
          "quintile_2_upper_limit"
         ],
         "xaxis": "x",
         "y": [
          0.005150185897946358
         ],
         "yaxis": "y"
        },
        {
         "alignmentgroup": "True",
         "hovertemplate": "feature=%{x}<br>importance=%{y}<extra></extra>",
         "legendgroup": "outlet_org_type_cl",
         "marker": {
          "color": "#ab63fa"
         },
         "name": "outlet_org_type_cl",
         "offsetgroup": "outlet_org_type_cl",
         "orientation": "v",
         "showlegend": true,
         "textposition": "auto",
         "type": "bar",
         "x": [
          "outlet_org_type_cl"
         ],
         "xaxis": "x",
         "y": [
          0.005069822072982788
         ],
         "yaxis": "y"
        },
        {
         "alignmentgroup": "True",
         "hovertemplate": "feature=%{x}<br>importance=%{y}<extra></extra>",
         "legendgroup": "housing_units_single_family_attached_owned",
         "marker": {
          "color": "#FFA15A"
         },
         "name": "housing_units_single_family_attached_owned",
         "offsetgroup": "housing_units_single_family_attached_owned",
         "orientation": "v",
         "showlegend": true,
         "textposition": "auto",
         "type": "bar",
         "x": [
          "housing_units_single_family_attached_owned"
         ],
         "xaxis": "x",
         "y": [
          0.004978089593350887
         ],
         "yaxis": "y"
        },
        {
         "alignmentgroup": "True",
         "hovertemplate": "feature=%{x}<br>importance=%{y}<extra></extra>",
         "legendgroup": "Consumer Price Index TX",
         "marker": {
          "color": "#19d3f3"
         },
         "name": "Consumer Price Index TX",
         "offsetgroup": "Consumer Price Index TX",
         "orientation": "v",
         "showlegend": true,
         "textposition": "auto",
         "type": "bar",
         "x": [
          "Consumer Price Index TX"
         ],
         "xaxis": "x",
         "y": [
          0.004625285509973764
         ],
         "yaxis": "y"
        },
        {
         "alignmentgroup": "True",
         "hovertemplate": "feature=%{x}<br>importance=%{y}<extra></extra>",
         "legendgroup": "housing_units_10_to_19_units_annual_pct_change",
         "marker": {
          "color": "#FF6692"
         },
         "name": "housing_units_10_to_19_units_annual_pct_change",
         "offsetgroup": "housing_units_10_to_19_units_annual_pct_change",
         "orientation": "v",
         "showlegend": true,
         "textposition": "auto",
         "type": "bar",
         "x": [
          "housing_units_10_to_19_units_annual_pct_change"
         ],
         "xaxis": "x",
         "y": [
          0.004437839146703482
         ],
         "yaxis": "y"
        },
        {
         "alignmentgroup": "True",
         "hovertemplate": "feature=%{x}<br>importance=%{y}<extra></extra>",
         "legendgroup": "bicycle_population",
         "marker": {
          "color": "#B6E880"
         },
         "name": "bicycle_population",
         "offsetgroup": "bicycle_population",
         "orientation": "v",
         "showlegend": true,
         "textposition": "auto",
         "type": "bar",
         "x": [
          "bicycle_population"
         ],
         "xaxis": "x",
         "y": [
          0.004169768188148737
         ],
         "yaxis": "y"
        },
        {
         "alignmentgroup": "True",
         "hovertemplate": "feature=%{x}<br>importance=%{y}<extra></extra>",
         "legendgroup": "single_women",
         "marker": {
          "color": "#FF97FF"
         },
         "name": "single_women",
         "offsetgroup": "single_women",
         "orientation": "v",
         "showlegend": true,
         "textposition": "auto",
         "type": "bar",
         "x": [
          "single_women"
         ],
         "xaxis": "x",
         "y": [
          0.0040879398584365845
         ],
         "yaxis": "y"
        },
        {
         "alignmentgroup": "True",
         "hovertemplate": "feature=%{x}<br>importance=%{y}<extra></extra>",
         "legendgroup": "Existing Single Family Home Price TX",
         "marker": {
          "color": "#FECB52"
         },
         "name": "Existing Single Family Home Price TX",
         "offsetgroup": "Existing Single Family Home Price TX",
         "orientation": "v",
         "showlegend": true,
         "textposition": "auto",
         "type": "bar",
         "x": [
          "Existing Single Family Home Price TX"
         ],
         "xaxis": "x",
         "y": [
          0.004039387684315443
         ],
         "yaxis": "y"
        },
        {
         "alignmentgroup": "True",
         "hovertemplate": "feature=%{x}<br>importance=%{y}<extra></extra>",
         "legendgroup": "housing_units_built_1940_to_1949",
         "marker": {
          "color": "#636efa"
         },
         "name": "housing_units_built_1940_to_1949",
         "offsetgroup": "housing_units_built_1940_to_1949",
         "orientation": "v",
         "showlegend": true,
         "textposition": "auto",
         "type": "bar",
         "x": [
          "housing_units_built_1940_to_1949"
         ],
         "xaxis": "x",
         "y": [
          0.004001094028353691
         ],
         "yaxis": "y"
        },
        {
         "alignmentgroup": "True",
         "hovertemplate": "feature=%{x}<br>importance=%{y}<extra></extra>",
         "legendgroup": "units_paying_cash_rent",
         "marker": {
          "color": "#EF553B"
         },
         "name": "units_paying_cash_rent",
         "offsetgroup": "units_paying_cash_rent",
         "orientation": "v",
         "showlegend": true,
         "textposition": "auto",
         "type": "bar",
         "x": [
          "units_paying_cash_rent"
         ],
         "xaxis": "x",
         "y": [
          0.003909524064511061
         ],
         "yaxis": "y"
        },
        {
         "alignmentgroup": "True",
         "hovertemplate": "feature=%{x}<br>importance=%{y}<extra></extra>",
         "legendgroup": "rent_search_4_period_rsi",
         "marker": {
          "color": "#00cc96"
         },
         "name": "rent_search_4_period_rsi",
         "offsetgroup": "rent_search_4_period_rsi",
         "orientation": "v",
         "showlegend": true,
         "textposition": "auto",
         "type": "bar",
         "x": [
          "rent_search_4_period_rsi"
         ],
         "xaxis": "x",
         "y": [
          0.003250484587624669
         ],
         "yaxis": "y"
        },
        {
         "alignmentgroup": "True",
         "hovertemplate": "feature=%{x}<br>importance=%{y}<extra></extra>",
         "legendgroup": "housing_units_built_1970_to_1979_annual_pct_change",
         "marker": {
          "color": "#ab63fa"
         },
         "name": "housing_units_built_1970_to_1979_annual_pct_change",
         "offsetgroup": "housing_units_built_1970_to_1979_annual_pct_change",
         "orientation": "v",
         "showlegend": true,
         "textposition": "auto",
         "type": "bar",
         "x": [
          "housing_units_built_1970_to_1979_annual_pct_change"
         ],
         "xaxis": "x",
         "y": [
          0.0031572580337524414
         ],
         "yaxis": "y"
        },
        {
         "alignmentgroup": "True",
         "hovertemplate": "feature=%{x}<br>importance=%{y}<extra></extra>",
         "legendgroup": "men_with_bachelors_degree_annual_pct_change",
         "marker": {
          "color": "#FFA15A"
         },
         "name": "men_with_bachelors_degree_annual_pct_change",
         "offsetgroup": "men_with_bachelors_degree_annual_pct_change",
         "orientation": "v",
         "showlegend": true,
         "textposition": "auto",
         "type": "bar",
         "x": [
          "men_with_bachelors_degree_annual_pct_change"
         ],
         "xaxis": "x",
         "y": [
          0.0030276053585112095
         ],
         "yaxis": "y"
        },
        {
         "alignmentgroup": "True",
         "hovertemplate": "feature=%{x}<br>importance=%{y}<extra></extra>",
         "legendgroup": "walking_to_work_population_annual_pct_change",
         "marker": {
          "color": "#19d3f3"
         },
         "name": "walking_to_work_population_annual_pct_change",
         "offsetgroup": "walking_to_work_population_annual_pct_change",
         "orientation": "v",
         "showlegend": true,
         "textposition": "auto",
         "type": "bar",
         "x": [
          "walking_to_work_population_annual_pct_change"
         ],
         "xaxis": "x",
         "y": [
          0.002884048968553543
         ],
         "yaxis": "y"
        },
        {
         "alignmentgroup": "True",
         "hovertemplate": "feature=%{x}<br>importance=%{y}<extra></extra>",
         "legendgroup": "ur",
         "marker": {
          "color": "#FF6692"
         },
         "name": "ur",
         "offsetgroup": "ur",
         "orientation": "v",
         "showlegend": true,
         "textposition": "auto",
         "type": "bar",
         "x": [
          "ur"
         ],
         "xaxis": "x",
         "y": [
          0.0028026006184518337
         ],
         "yaxis": "y"
        },
        {
         "alignmentgroup": "True",
         "hovertemplate": "feature=%{x}<br>importance=%{y}<extra></extra>",
         "legendgroup": "quintile_2_upper_limit_annual_pct_change",
         "marker": {
          "color": "#B6E880"
         },
         "name": "quintile_2_upper_limit_annual_pct_change",
         "offsetgroup": "quintile_2_upper_limit_annual_pct_change",
         "orientation": "v",
         "showlegend": true,
         "textposition": "auto",
         "type": "bar",
         "x": [
          "quintile_2_upper_limit_annual_pct_change"
         ],
         "xaxis": "x",
         "y": [
          0.002767625730484724
         ],
         "yaxis": "y"
        },
        {
         "alignmentgroup": "True",
         "hovertemplate": "feature=%{x}<br>importance=%{y}<extra></extra>",
         "legendgroup": "motorcycle_population",
         "marker": {
          "color": "#FF97FF"
         },
         "name": "motorcycle_population",
         "offsetgroup": "motorcycle_population",
         "orientation": "v",
         "showlegend": true,
         "textposition": "auto",
         "type": "bar",
         "x": [
          "motorcycle_population"
         ],
         "xaxis": "x",
         "y": [
          0.0025216175708919764
         ],
         "yaxis": "y"
        },
        {
         "alignmentgroup": "True",
         "hovertemplate": "feature=%{x}<br>importance=%{y}<extra></extra>",
         "legendgroup": "taxpayer_org_type_cl",
         "marker": {
          "color": "#FECB52"
         },
         "name": "taxpayer_org_type_cl",
         "offsetgroup": "taxpayer_org_type_cl",
         "orientation": "v",
         "showlegend": true,
         "textposition": "auto",
         "type": "bar",
         "x": [
          "taxpayer_org_type_cl"
         ],
         "xaxis": "x",
         "y": [
          0.002470683539286256
         ],
         "yaxis": "y"
        },
        {
         "alignmentgroup": "True",
         "hovertemplate": "feature=%{x}<br>importance=%{y}<extra></extra>",
         "legendgroup": "female_25_to_29_annual_pct_change",
         "marker": {
          "color": "#636efa"
         },
         "name": "female_25_to_29_annual_pct_change",
         "offsetgroup": "female_25_to_29_annual_pct_change",
         "orientation": "v",
         "showlegend": true,
         "textposition": "auto",
         "type": "bar",
         "x": [
          "female_25_to_29_annual_pct_change"
         ],
         "xaxis": "x",
         "y": [
          0.002424461767077446
         ],
         "yaxis": "y"
        },
        {
         "alignmentgroup": "True",
         "hovertemplate": "feature=%{x}<br>importance=%{y}<extra></extra>",
         "legendgroup": "white_pop",
         "marker": {
          "color": "#EF553B"
         },
         "name": "white_pop",
         "offsetgroup": "white_pop",
         "orientation": "v",
         "showlegend": true,
         "textposition": "auto",
         "type": "bar",
         "x": [
          "white_pop"
         ],
         "xaxis": "x",
         "y": [
          0.0023506679572165012
         ],
         "yaxis": "y"
        },
        {
         "alignmentgroup": "True",
         "hovertemplate": "feature=%{x}<br>importance=%{y}<extra></extra>",
         "legendgroup": "men_with_bachelors_degree",
         "marker": {
          "color": "#00cc96"
         },
         "name": "men_with_bachelors_degree",
         "offsetgroup": "men_with_bachelors_degree",
         "orientation": "v",
         "showlegend": true,
         "textposition": "auto",
         "type": "bar",
         "x": [
          "men_with_bachelors_degree"
         ],
         "xaxis": "x",
         "y": [
          0.0022634330671280622
         ],
         "yaxis": "y"
        },
        {
         "alignmentgroup": "True",
         "hovertemplate": "feature=%{x}<br>importance=%{y}<extra></extra>",
         "legendgroup": "outlet_non_tx_ratio",
         "marker": {
          "color": "#ab63fa"
         },
         "name": "outlet_non_tx_ratio",
         "offsetgroup": "outlet_non_tx_ratio",
         "orientation": "v",
         "showlegend": true,
         "textposition": "auto",
         "type": "bar",
         "x": [
          "outlet_non_tx_ratio"
         ],
         "xaxis": "x",
         "y": [
          0.00222456781193614
         ],
         "yaxis": "y"
        },
        {
         "alignmentgroup": "True",
         "hovertemplate": "feature=%{x}<br>importance=%{y}<extra></extra>",
         "legendgroup": "women_with_doctoral_degree",
         "marker": {
          "color": "#FFA15A"
         },
         "name": "women_with_doctoral_degree",
         "offsetgroup": "women_with_doctoral_degree",
         "orientation": "v",
         "showlegend": true,
         "textposition": "auto",
         "type": "bar",
         "x": [
          "women_with_doctoral_degree"
         ],
         "xaxis": "x",
         "y": [
          0.0019642615225166082
         ],
         "yaxis": "y"
        },
        {
         "alignmentgroup": "True",
         "hovertemplate": "feature=%{x}<br>importance=%{y}<extra></extra>",
         "legendgroup": "monthly_avg_gas_price",
         "marker": {
          "color": "#19d3f3"
         },
         "name": "monthly_avg_gas_price",
         "offsetgroup": "monthly_avg_gas_price",
         "orientation": "v",
         "showlegend": true,
         "textposition": "auto",
         "type": "bar",
         "x": [
          "monthly_avg_gas_price"
         ],
         "xaxis": "x",
         "y": [
          0.00172111252322793
         ],
         "yaxis": "y"
        },
        {
         "alignmentgroup": "True",
         "hovertemplate": "feature=%{x}<br>importance=%{y}<extra></extra>",
         "legendgroup": "taxpayer_cl_ratio",
         "marker": {
          "color": "#FF6692"
         },
         "name": "taxpayer_cl_ratio",
         "offsetgroup": "taxpayer_cl_ratio",
         "orientation": "v",
         "showlegend": true,
         "textposition": "auto",
         "type": "bar",
         "x": [
          "taxpayer_cl_ratio"
         ],
         "xaxis": "x",
         "y": [
          0.001684041228145361
         ],
         "yaxis": "y"
        },
        {
         "alignmentgroup": "True",
         "hovertemplate": "feature=%{x}<br>importance=%{y}<extra></extra>",
         "legendgroup": "Consumer Price Index U.S.",
         "marker": {
          "color": "#B6E880"
         },
         "name": "Consumer Price Index U.S.",
         "offsetgroup": "Consumer Price Index U.S.",
         "orientation": "v",
         "showlegend": true,
         "textposition": "auto",
         "type": "bar",
         "x": [
          "Consumer Price Index U.S."
         ],
         "xaxis": "x",
         "y": [
          0.0014819997595623136
         ],
         "yaxis": "y"
        },
        {
         "alignmentgroup": "True",
         "hovertemplate": "feature=%{x}<br>importance=%{y}<extra></extra>",
         "legendgroup": "outlet_foreign_ratio",
         "marker": {
          "color": "#FF97FF"
         },
         "name": "outlet_foreign_ratio",
         "offsetgroup": "outlet_foreign_ratio",
         "orientation": "v",
         "showlegend": true,
         "textposition": "auto",
         "type": "bar",
         "x": [
          "outlet_foreign_ratio"
         ],
         "xaxis": "x",
         "y": [
          0.0014007129939273
         ],
         "yaxis": "y"
        },
        {
         "alignmentgroup": "True",
         "hovertemplate": "feature=%{x}<br>importance=%{y}<extra></extra>",
         "legendgroup": "housing_units_built_1990_to_1999",
         "marker": {
          "color": "#FECB52"
         },
         "name": "housing_units_built_1990_to_1999",
         "offsetgroup": "housing_units_built_1990_to_1999",
         "orientation": "v",
         "showlegend": true,
         "textposition": "auto",
         "type": "bar",
         "x": [
          "housing_units_built_1990_to_1999"
         ],
         "xaxis": "x",
         "y": [
          0.0013064899249002337
         ],
         "yaxis": "y"
        },
        {
         "alignmentgroup": "True",
         "hovertemplate": "feature=%{x}<br>importance=%{y}<extra></extra>",
         "legendgroup": "taxpayer_count",
         "marker": {
          "color": "#636efa"
         },
         "name": "taxpayer_count",
         "offsetgroup": "taxpayer_count",
         "orientation": "v",
         "showlegend": true,
         "textposition": "auto",
         "type": "bar",
         "x": [
          "taxpayer_count"
         ],
         "xaxis": "x",
         "y": [
          0.0012888923520222306
         ],
         "yaxis": "y"
        },
        {
         "alignmentgroup": "True",
         "hovertemplate": "feature=%{x}<br>importance=%{y}<extra></extra>",
         "legendgroup": "women_with_associate_degree_annual_pct_change",
         "marker": {
          "color": "#EF553B"
         },
         "name": "women_with_associate_degree_annual_pct_change",
         "offsetgroup": "women_with_associate_degree_annual_pct_change",
         "orientation": "v",
         "showlegend": true,
         "textposition": "auto",
         "type": "bar",
         "x": [
          "women_with_associate_degree_annual_pct_change"
         ],
         "xaxis": "x",
         "y": [
          0.0012732004979625344
         ],
         "yaxis": "y"
        },
        {
         "alignmentgroup": "True",
         "hovertemplate": "feature=%{x}<br>importance=%{y}<extra></extra>",
         "legendgroup": "outlet_taxpayer_non_tx",
         "marker": {
          "color": "#00cc96"
         },
         "name": "outlet_taxpayer_non_tx",
         "offsetgroup": "outlet_taxpayer_non_tx",
         "orientation": "v",
         "showlegend": true,
         "textposition": "auto",
         "type": "bar",
         "x": [
          "outlet_taxpayer_non_tx"
         ],
         "xaxis": "x",
         "y": [
          0.0012069580843672156
         ],
         "yaxis": "y"
        },
        {
         "alignmentgroup": "True",
         "hovertemplate": "feature=%{x}<br>importance=%{y}<extra></extra>",
         "legendgroup": "driving_alone_population_annual_pct_change",
         "marker": {
          "color": "#ab63fa"
         },
         "name": "driving_alone_population_annual_pct_change",
         "offsetgroup": "driving_alone_population_annual_pct_change",
         "orientation": "v",
         "showlegend": true,
         "textposition": "auto",
         "type": "bar",
         "x": [
          "driving_alone_population_annual_pct_change"
         ],
         "xaxis": "x",
         "y": [
          0.001053398591466248
         ],
         "yaxis": "y"
        },
        {
         "alignmentgroup": "True",
         "hovertemplate": "feature=%{x}<br>importance=%{y}<extra></extra>",
         "legendgroup": "female_female_households",
         "marker": {
          "color": "#FFA15A"
         },
         "name": "female_female_households",
         "offsetgroup": "female_female_households",
         "orientation": "v",
         "showlegend": true,
         "textposition": "auto",
         "type": "bar",
         "x": [
          "female_female_households"
         ],
         "xaxis": "x",
         "y": [
          0.0009242044179700315
         ],
         "yaxis": "y"
        },
        {
         "alignmentgroup": "True",
         "hovertemplate": "feature=%{x}<br>importance=%{y}<extra></extra>",
         "legendgroup": "female_30_to_34_annual_pct_change",
         "marker": {
          "color": "#19d3f3"
         },
         "name": "female_30_to_34_annual_pct_change",
         "offsetgroup": "female_30_to_34_annual_pct_change",
         "orientation": "v",
         "showlegend": true,
         "textposition": "auto",
         "type": "bar",
         "x": [
          "female_30_to_34_annual_pct_change"
         ],
         "xaxis": "x",
         "y": [
          0.0009059474687092006
         ],
         "yaxis": "y"
        },
        {
         "alignmentgroup": "True",
         "hovertemplate": "feature=%{x}<br>importance=%{y}<extra></extra>",
         "legendgroup": "outlet_is_ratio",
         "marker": {
          "color": "#FF6692"
         },
         "name": "outlet_is_ratio",
         "offsetgroup": "outlet_is_ratio",
         "orientation": "v",
         "showlegend": true,
         "textposition": "auto",
         "type": "bar",
         "x": [
          "outlet_is_ratio"
         ],
         "xaxis": "x",
         "y": [
          0.0008968168986029923
         ],
         "yaxis": "y"
        },
        {
         "alignmentgroup": "True",
         "hovertemplate": "feature=%{x}<br>importance=%{y}<extra></extra>",
         "legendgroup": "taxpayer_org_type_foreign",
         "marker": {
          "color": "#B6E880"
         },
         "name": "taxpayer_org_type_foreign",
         "offsetgroup": "taxpayer_org_type_foreign",
         "orientation": "v",
         "showlegend": true,
         "textposition": "auto",
         "type": "bar",
         "x": [
          "taxpayer_org_type_foreign"
         ],
         "xaxis": "x",
         "y": [
          0.0007859574980102479
         ],
         "yaxis": "y"
        },
        {
         "alignmentgroup": "True",
         "hovertemplate": "feature=%{x}<br>importance=%{y}<extra></extra>",
         "legendgroup": "housing_units_built_1960_to_1969",
         "marker": {
          "color": "#FF97FF"
         },
         "name": "housing_units_built_1960_to_1969",
         "offsetgroup": "housing_units_built_1960_to_1969",
         "orientation": "v",
         "showlegend": true,
         "textposition": "auto",
         "type": "bar",
         "x": [
          "housing_units_built_1960_to_1969"
         ],
         "xaxis": "x",
         "y": [
          0.0007743215537630022
         ],
         "yaxis": "y"
        },
        {
         "alignmentgroup": "True",
         "hovertemplate": "feature=%{x}<br>importance=%{y}<extra></extra>",
         "legendgroup": "tx_is_abt_same",
         "marker": {
          "color": "#FECB52"
         },
         "name": "tx_is_abt_same",
         "offsetgroup": "tx_is_abt_same",
         "orientation": "v",
         "showlegend": true,
         "textposition": "auto",
         "type": "bar",
         "x": [
          "tx_is_abt_same"
         ],
         "xaxis": "x",
         "y": [
          0.000574012054130435
         ],
         "yaxis": "y"
        },
        {
         "alignmentgroup": "True",
         "hovertemplate": "feature=%{x}<br>importance=%{y}<extra></extra>",
         "legendgroup": "housing_units_single_family_attached",
         "marker": {
          "color": "#636efa"
         },
         "name": "housing_units_single_family_attached",
         "offsetgroup": "housing_units_single_family_attached",
         "orientation": "v",
         "showlegend": true,
         "textposition": "auto",
         "type": "bar",
         "x": [
          "housing_units_single_family_attached"
         ],
         "xaxis": "x",
         "y": [
          0.0005061723059043288
         ],
         "yaxis": "y"
        },
        {
         "alignmentgroup": "True",
         "hovertemplate": "feature=%{x}<br>importance=%{y}<extra></extra>",
         "legendgroup": "delta_sap_case_shiller_index",
         "marker": {
          "color": "#EF553B"
         },
         "name": "delta_sap_case_shiller_index",
         "offsetgroup": "delta_sap_case_shiller_index",
         "orientation": "v",
         "showlegend": true,
         "textposition": "auto",
         "type": "bar",
         "x": [
          "delta_sap_case_shiller_index"
         ],
         "xaxis": "x",
         "y": [
          0.0004701405414380133
         ],
         "yaxis": "y"
        },
        {
         "alignmentgroup": "True",
         "hovertemplate": "feature=%{x}<br>importance=%{y}<extra></extra>",
         "legendgroup": "quintile_4_upper_limit_annual_pct_change",
         "marker": {
          "color": "#00cc96"
         },
         "name": "quintile_4_upper_limit_annual_pct_change",
         "offsetgroup": "quintile_4_upper_limit_annual_pct_change",
         "orientation": "v",
         "showlegend": true,
         "textposition": "auto",
         "type": "bar",
         "x": [
          "quintile_4_upper_limit_annual_pct_change"
         ],
         "xaxis": "x",
         "y": [
          0.00036862585693597794
         ],
         "yaxis": "y"
        },
        {
         "alignmentgroup": "True",
         "hovertemplate": "feature=%{x}<br>importance=%{y}<extra></extra>",
         "legendgroup": "housing_units_5_to_9_units_annual_pct_change",
         "marker": {
          "color": "#ab63fa"
         },
         "name": "housing_units_5_to_9_units_annual_pct_change",
         "offsetgroup": "housing_units_5_to_9_units_annual_pct_change",
         "orientation": "v",
         "showlegend": true,
         "textposition": "auto",
         "type": "bar",
         "x": [
          "housing_units_5_to_9_units_annual_pct_change"
         ],
         "xaxis": "x",
         "y": [
          0.0003181485226377845
         ],
         "yaxis": "y"
        },
        {
         "alignmentgroup": "True",
         "hovertemplate": "feature=%{x}<br>importance=%{y}<extra></extra>",
         "legendgroup": "Retail Diesel Price TX",
         "marker": {
          "color": "#FFA15A"
         },
         "name": "Retail Diesel Price TX",
         "offsetgroup": "Retail Diesel Price TX",
         "orientation": "v",
         "showlegend": true,
         "textposition": "auto",
         "type": "bar",
         "x": [
          "Retail Diesel Price TX"
         ],
         "xaxis": "x",
         "y": [
          0.00030462004360742867
         ],
         "yaxis": "y"
        },
        {
         "alignmentgroup": "True",
         "hovertemplate": "feature=%{x}<br>importance=%{y}<extra></extra>",
         "legendgroup": "female_40_to_44",
         "marker": {
          "color": "#19d3f3"
         },
         "name": "female_40_to_44",
         "offsetgroup": "female_40_to_44",
         "orientation": "v",
         "showlegend": true,
         "textposition": "auto",
         "type": "bar",
         "x": [
          "female_40_to_44"
         ],
         "xaxis": "x",
         "y": [
          0.00029876729240641
         ],
         "yaxis": "y"
        },
        {
         "alignmentgroup": "True",
         "hovertemplate": "feature=%{x}<br>importance=%{y}<extra></extra>",
         "legendgroup": "TNX",
         "marker": {
          "color": "#FF6692"
         },
         "name": "TNX",
         "offsetgroup": "TNX",
         "orientation": "v",
         "showlegend": true,
         "textposition": "auto",
         "type": "bar",
         "x": [
          "TNX"
         ],
         "xaxis": "x",
         "y": [
          0.00014551229833159596
         ],
         "yaxis": "y"
        },
        {
         "alignmentgroup": "True",
         "hovertemplate": "feature=%{x}<br>importance=%{y}<extra></extra>",
         "legendgroup": "taxpayer_is_ratio",
         "marker": {
          "color": "#B6E880"
         },
         "name": "taxpayer_is_ratio",
         "offsetgroup": "taxpayer_is_ratio",
         "orientation": "v",
         "showlegend": true,
         "textposition": "auto",
         "type": "bar",
         "x": [
          "taxpayer_is_ratio"
         ],
         "xaxis": "x",
         "y": [
          0.00011434194311732426
         ],
         "yaxis": "y"
        },
        {
         "alignmentgroup": "True",
         "hovertemplate": "feature=%{x}<br>importance=%{y}<extra></extra>",
         "legendgroup": "total_sales_tax_last_year",
         "marker": {
          "color": "#FF97FF"
         },
         "name": "total_sales_tax_last_year",
         "offsetgroup": "total_sales_tax_last_year",
         "orientation": "v",
         "showlegend": true,
         "textposition": "auto",
         "type": "bar",
         "x": [
          "total_sales_tax_last_year"
         ],
         "xaxis": "x",
         "y": [
          8.596472616773099e-05
         ],
         "yaxis": "y"
        },
        {
         "alignmentgroup": "True",
         "hovertemplate": "feature=%{x}<br>importance=%{y}<extra></extra>",
         "legendgroup": "sap_case_shiller_index",
         "marker": {
          "color": "#FECB52"
         },
         "name": "sap_case_shiller_index",
         "offsetgroup": "sap_case_shiller_index",
         "orientation": "v",
         "showlegend": true,
         "textposition": "auto",
         "type": "bar",
         "x": [
          "sap_case_shiller_index"
         ],
         "xaxis": "x",
         "y": [
          5.3921457947581075e-06
         ],
         "yaxis": "y"
        },
        {
         "alignmentgroup": "True",
         "hovertemplate": "feature=%{x}<br>importance=%{y}<extra></extra>",
         "legendgroup": "housing_units_20_to_49_units_annual_pct_change",
         "marker": {
          "color": "#636efa"
         },
         "name": "housing_units_20_to_49_units_annual_pct_change",
         "offsetgroup": "housing_units_20_to_49_units_annual_pct_change",
         "orientation": "v",
         "showlegend": true,
         "textposition": "auto",
         "type": "bar",
         "x": [
          "housing_units_20_to_49_units_annual_pct_change"
         ],
         "xaxis": "x",
         "y": [
          4.287195224605966e-06
         ],
         "yaxis": "y"
        },
        {
         "alignmentgroup": "True",
         "hovertemplate": "feature=%{x}<br>importance=%{y}<extra></extra>",
         "legendgroup": "delta_TNX",
         "marker": {
          "color": "#EF553B"
         },
         "name": "delta_TNX",
         "offsetgroup": "delta_TNX",
         "orientation": "v",
         "showlegend": true,
         "textposition": "auto",
         "type": "bar",
         "x": [
          "delta_TNX"
         ],
         "xaxis": "x",
         "y": [
          0
         ],
         "yaxis": "y"
        },
        {
         "alignmentgroup": "True",
         "hovertemplate": "feature=%{x}<br>importance=%{y}<extra></extra>",
         "legendgroup": "tx_is_a_lot_better",
         "marker": {
          "color": "#00cc96"
         },
         "name": "tx_is_a_lot_better",
         "offsetgroup": "tx_is_a_lot_better",
         "orientation": "v",
         "showlegend": true,
         "textposition": "auto",
         "type": "bar",
         "x": [
          "tx_is_a_lot_better"
         ],
         "xaxis": "x",
         "y": [
          0
         ],
         "yaxis": "y"
        },
        {
         "alignmentgroup": "True",
         "hovertemplate": "feature=%{x}<br>importance=%{y}<extra></extra>",
         "legendgroup": "tx_is_a_little_better",
         "marker": {
          "color": "#ab63fa"
         },
         "name": "tx_is_a_little_better",
         "offsetgroup": "tx_is_a_little_better",
         "orientation": "v",
         "showlegend": true,
         "textposition": "auto",
         "type": "bar",
         "x": [
          "tx_is_a_little_better"
         ],
         "xaxis": "x",
         "y": [
          0
         ],
         "yaxis": "y"
        },
        {
         "alignmentgroup": "True",
         "hovertemplate": "feature=%{x}<br>importance=%{y}<extra></extra>",
         "legendgroup": "tx_is_a_little_worse",
         "marker": {
          "color": "#FFA15A"
         },
         "name": "tx_is_a_little_worse",
         "offsetgroup": "tx_is_a_little_worse",
         "orientation": "v",
         "showlegend": true,
         "textposition": "auto",
         "type": "bar",
         "x": [
          "tx_is_a_little_worse"
         ],
         "xaxis": "x",
         "y": [
          0
         ],
         "yaxis": "y"
        },
        {
         "alignmentgroup": "True",
         "hovertemplate": "feature=%{x}<br>importance=%{y}<extra></extra>",
         "legendgroup": "tx_is_a_lot_worse",
         "marker": {
          "color": "#19d3f3"
         },
         "name": "tx_is_a_lot_worse",
         "offsetgroup": "tx_is_a_lot_worse",
         "orientation": "v",
         "showlegend": true,
         "textposition": "auto",
         "type": "bar",
         "x": [
          "tx_is_a_lot_worse"
         ],
         "xaxis": "x",
         "y": [
          0
         ],
         "yaxis": "y"
        },
        {
         "alignmentgroup": "True",
         "hovertemplate": "feature=%{x}<br>importance=%{y}<extra></extra>",
         "legendgroup": "tx_is_dont_know",
         "marker": {
          "color": "#FF6692"
         },
         "name": "tx_is_dont_know",
         "offsetgroup": "tx_is_dont_know",
         "orientation": "v",
         "showlegend": true,
         "textposition": "auto",
         "type": "bar",
         "x": [
          "tx_is_dont_know"
         ],
         "xaxis": "x",
         "y": [
          0
         ],
         "yaxis": "y"
        },
        {
         "alignmentgroup": "True",
         "hovertemplate": "feature=%{x}<br>importance=%{y}<extra></extra>",
         "legendgroup": "tx_is_better",
         "marker": {
          "color": "#B6E880"
         },
         "name": "tx_is_better",
         "offsetgroup": "tx_is_better",
         "orientation": "v",
         "showlegend": true,
         "textposition": "auto",
         "type": "bar",
         "x": [
          "tx_is_better"
         ],
         "xaxis": "x",
         "y": [
          0
         ],
         "yaxis": "y"
        },
        {
         "alignmentgroup": "True",
         "hovertemplate": "feature=%{x}<br>importance=%{y}<extra></extra>",
         "legendgroup": "tx_is_worse",
         "marker": {
          "color": "#FF97FF"
         },
         "name": "tx_is_worse",
         "offsetgroup": "tx_is_worse",
         "orientation": "v",
         "showlegend": true,
         "textposition": "auto",
         "type": "bar",
         "x": [
          "tx_is_worse"
         ],
         "xaxis": "x",
         "y": [
          0
         ],
         "yaxis": "y"
        },
        {
         "alignmentgroup": "True",
         "hovertemplate": "feature=%{x}<br>importance=%{y}<extra></extra>",
         "legendgroup": "delta_ur",
         "marker": {
          "color": "#FECB52"
         },
         "name": "delta_ur",
         "offsetgroup": "delta_ur",
         "orientation": "v",
         "showlegend": true,
         "textposition": "auto",
         "type": "bar",
         "x": [
          "delta_ur"
         ],
         "xaxis": "x",
         "y": [
          0
         ],
         "yaxis": "y"
        },
        {
         "alignmentgroup": "True",
         "hovertemplate": "feature=%{x}<br>importance=%{y}<extra></extra>",
         "legendgroup": "taxpayer_org_type_is",
         "marker": {
          "color": "#636efa"
         },
         "name": "taxpayer_org_type_is",
         "offsetgroup": "taxpayer_org_type_is",
         "orientation": "v",
         "showlegend": true,
         "textposition": "auto",
         "type": "bar",
         "x": [
          "taxpayer_org_type_is"
         ],
         "xaxis": "x",
         "y": [
          0
         ],
         "yaxis": "y"
        },
        {
         "alignmentgroup": "True",
         "hovertemplate": "feature=%{x}<br>importance=%{y}<extra></extra>",
         "legendgroup": "payer_outlet_same_zipcode",
         "marker": {
          "color": "#EF553B"
         },
         "name": "payer_outlet_same_zipcode",
         "offsetgroup": "payer_outlet_same_zipcode",
         "orientation": "v",
         "showlegend": true,
         "textposition": "auto",
         "type": "bar",
         "x": [
          "payer_outlet_same_zipcode"
         ],
         "xaxis": "x",
         "y": [
          0
         ],
         "yaxis": "y"
        },
        {
         "alignmentgroup": "True",
         "hovertemplate": "feature=%{x}<br>importance=%{y}<extra></extra>",
         "legendgroup": "taxpayer_same_zip_ratio",
         "marker": {
          "color": "#00cc96"
         },
         "name": "taxpayer_same_zip_ratio",
         "offsetgroup": "taxpayer_same_zip_ratio",
         "orientation": "v",
         "showlegend": true,
         "textposition": "auto",
         "type": "bar",
         "x": [
          "taxpayer_same_zip_ratio"
         ],
         "xaxis": "x",
         "y": [
          0
         ],
         "yaxis": "y"
        },
        {
         "alignmentgroup": "True",
         "hovertemplate": "feature=%{x}<br>importance=%{y}<extra></extra>",
         "legendgroup": "taxpayer_foreign_ratio",
         "marker": {
          "color": "#ab63fa"
         },
         "name": "taxpayer_foreign_ratio",
         "offsetgroup": "taxpayer_foreign_ratio",
         "orientation": "v",
         "showlegend": true,
         "textposition": "auto",
         "type": "bar",
         "x": [
          "taxpayer_foreign_ratio"
         ],
         "xaxis": "x",
         "y": [
          0
         ],
         "yaxis": "y"
        },
        {
         "alignmentgroup": "True",
         "hovertemplate": "feature=%{x}<br>importance=%{y}<extra></extra>",
         "legendgroup": "outlet_count",
         "marker": {
          "color": "#FFA15A"
         },
         "name": "outlet_count",
         "offsetgroup": "outlet_count",
         "orientation": "v",
         "showlegend": true,
         "textposition": "auto",
         "type": "bar",
         "x": [
          "outlet_count"
         ],
         "xaxis": "x",
         "y": [
          0
         ],
         "yaxis": "y"
        },
        {
         "alignmentgroup": "True",
         "hovertemplate": "feature=%{x}<br>importance=%{y}<extra></extra>",
         "legendgroup": "outlet_org_type_is",
         "marker": {
          "color": "#19d3f3"
         },
         "name": "outlet_org_type_is",
         "offsetgroup": "outlet_org_type_is",
         "orientation": "v",
         "showlegend": true,
         "textposition": "auto",
         "type": "bar",
         "x": [
          "outlet_org_type_is"
         ],
         "xaxis": "x",
         "y": [
          0
         ],
         "yaxis": "y"
        },
        {
         "alignmentgroup": "True",
         "hovertemplate": "feature=%{x}<br>importance=%{y}<extra></extra>",
         "legendgroup": "outlet_org_type_foreign",
         "marker": {
          "color": "#FF6692"
         },
         "name": "outlet_org_type_foreign",
         "offsetgroup": "outlet_org_type_foreign",
         "orientation": "v",
         "showlegend": true,
         "textposition": "auto",
         "type": "bar",
         "x": [
          "outlet_org_type_foreign"
         ],
         "xaxis": "x",
         "y": [
          0
         ],
         "yaxis": "y"
        },
        {
         "alignmentgroup": "True",
         "hovertemplate": "feature=%{x}<br>importance=%{y}<extra></extra>",
         "legendgroup": "outlet_cl_ratio",
         "marker": {
          "color": "#B6E880"
         },
         "name": "outlet_cl_ratio",
         "offsetgroup": "outlet_cl_ratio",
         "orientation": "v",
         "showlegend": true,
         "textposition": "auto",
         "type": "bar",
         "x": [
          "outlet_cl_ratio"
         ],
         "xaxis": "x",
         "y": [
          0
         ],
         "yaxis": "y"
        },
        {
         "alignmentgroup": "True",
         "hovertemplate": "feature=%{x}<br>importance=%{y}<extra></extra>",
         "legendgroup": "fatalities",
         "marker": {
          "color": "#FF97FF"
         },
         "name": "fatalities",
         "offsetgroup": "fatalities",
         "orientation": "v",
         "showlegend": true,
         "textposition": "auto",
         "type": "bar",
         "x": [
          "fatalities"
         ],
         "xaxis": "x",
         "y": [
          0
         ],
         "yaxis": "y"
        },
        {
         "alignmentgroup": "True",
         "hovertemplate": "feature=%{x}<br>importance=%{y}<extra></extra>",
         "legendgroup": "caseCount",
         "marker": {
          "color": "#FECB52"
         },
         "name": "caseCount",
         "offsetgroup": "caseCount",
         "orientation": "v",
         "showlegend": true,
         "textposition": "auto",
         "type": "bar",
         "x": [
          "caseCount"
         ],
         "xaxis": "x",
         "y": [
          0
         ],
         "yaxis": "y"
        },
        {
         "alignmentgroup": "True",
         "hovertemplate": "feature=%{x}<br>importance=%{y}<extra></extra>",
         "legendgroup": "env_violation_count",
         "marker": {
          "color": "#636efa"
         },
         "name": "env_violation_count",
         "offsetgroup": "env_violation_count",
         "orientation": "v",
         "showlegend": true,
         "textposition": "auto",
         "type": "bar",
         "x": [
          "env_violation_count"
         ],
         "xaxis": "x",
         "y": [
          0
         ],
         "yaxis": "y"
        },
        {
         "alignmentgroup": "True",
         "hovertemplate": "feature=%{x}<br>importance=%{y}<extra></extra>",
         "legendgroup": "Consumer Confidence Index TX",
         "marker": {
          "color": "#EF553B"
         },
         "name": "Consumer Confidence Index TX",
         "offsetgroup": "Consumer Confidence Index TX",
         "orientation": "v",
         "showlegend": true,
         "textposition": "auto",
         "type": "bar",
         "x": [
          "Consumer Confidence Index TX"
         ],
         "xaxis": "x",
         "y": [
          0
         ],
         "yaxis": "y"
        },
        {
         "alignmentgroup": "True",
         "hovertemplate": "feature=%{x}<br>importance=%{y}<extra></extra>",
         "legendgroup": "Consumer Confidence West South Central",
         "marker": {
          "color": "#00cc96"
         },
         "name": "Consumer Confidence West South Central",
         "offsetgroup": "Consumer Confidence West South Central",
         "orientation": "v",
         "showlegend": true,
         "textposition": "auto",
         "type": "bar",
         "x": [
          "Consumer Confidence West South Central"
         ],
         "xaxis": "x",
         "y": [
          0
         ],
         "yaxis": "y"
        },
        {
         "alignmentgroup": "True",
         "hovertemplate": "feature=%{x}<br>importance=%{y}<extra></extra>",
         "legendgroup": "Consumer Confidence Index US",
         "marker": {
          "color": "#ab63fa"
         },
         "name": "Consumer Confidence Index US",
         "offsetgroup": "Consumer Confidence Index US",
         "orientation": "v",
         "showlegend": true,
         "textposition": "auto",
         "type": "bar",
         "x": [
          "Consumer Confidence Index US"
         ],
         "xaxis": "x",
         "y": [
          0
         ],
         "yaxis": "y"
        },
        {
         "alignmentgroup": "True",
         "hovertemplate": "feature=%{x}<br>importance=%{y}<extra></extra>",
         "legendgroup": "Nonfarm Employment TX",
         "marker": {
          "color": "#FFA15A"
         },
         "name": "Nonfarm Employment TX",
         "offsetgroup": "Nonfarm Employment TX",
         "orientation": "v",
         "showlegend": true,
         "textposition": "auto",
         "type": "bar",
         "x": [
          "Nonfarm Employment TX"
         ],
         "xaxis": "x",
         "y": [
          0
         ],
         "yaxis": "y"
        },
        {
         "alignmentgroup": "True",
         "hovertemplate": "feature=%{x}<br>importance=%{y}<extra></extra>",
         "legendgroup": "Nonfarm Employment U.S.",
         "marker": {
          "color": "#19d3f3"
         },
         "name": "Nonfarm Employment U.S.",
         "offsetgroup": "Nonfarm Employment U.S.",
         "orientation": "v",
         "showlegend": true,
         "textposition": "auto",
         "type": "bar",
         "x": [
          "Nonfarm Employment U.S."
         ],
         "xaxis": "x",
         "y": [
          0
         ],
         "yaxis": "y"
        },
        {
         "alignmentgroup": "True",
         "hovertemplate": "feature=%{x}<br>importance=%{y}<extra></extra>",
         "legendgroup": "Unemployment TX",
         "marker": {
          "color": "#FF6692"
         },
         "name": "Unemployment TX",
         "offsetgroup": "Unemployment TX",
         "orientation": "v",
         "showlegend": true,
         "textposition": "auto",
         "type": "bar",
         "x": [
          "Unemployment TX"
         ],
         "xaxis": "x",
         "y": [
          0
         ],
         "yaxis": "y"
        },
        {
         "alignmentgroup": "True",
         "hovertemplate": "feature=%{x}<br>importance=%{y}<extra></extra>",
         "legendgroup": "Unemployment U.S.",
         "marker": {
          "color": "#B6E880"
         },
         "name": "Unemployment U.S.",
         "offsetgroup": "Unemployment U.S.",
         "orientation": "v",
         "showlegend": true,
         "textposition": "auto",
         "type": "bar",
         "x": [
          "Unemployment U.S."
         ],
         "xaxis": "x",
         "y": [
          0
         ],
         "yaxis": "y"
        },
        {
         "alignmentgroup": "True",
         "hovertemplate": "feature=%{x}<br>importance=%{y}<extra></extra>",
         "legendgroup": "Single Family Building Permits TX",
         "marker": {
          "color": "#FF97FF"
         },
         "name": "Single Family Building Permits TX",
         "offsetgroup": "Single Family Building Permits TX",
         "orientation": "v",
         "showlegend": true,
         "textposition": "auto",
         "type": "bar",
         "x": [
          "Single Family Building Permits TX"
         ],
         "xaxis": "x",
         "y": [
          0
         ],
         "yaxis": "y"
        },
        {
         "alignmentgroup": "True",
         "hovertemplate": "feature=%{x}<br>importance=%{y}<extra></extra>",
         "legendgroup": "Multi Family Building Permits TX",
         "marker": {
          "color": "#FECB52"
         },
         "name": "Multi Family Building Permits TX",
         "offsetgroup": "Multi Family Building Permits TX",
         "orientation": "v",
         "showlegend": true,
         "textposition": "auto",
         "type": "bar",
         "x": [
          "Multi Family Building Permits TX"
         ],
         "xaxis": "x",
         "y": [
          0
         ],
         "yaxis": "y"
        },
        {
         "alignmentgroup": "True",
         "hovertemplate": "feature=%{x}<br>importance=%{y}<extra></extra>",
         "legendgroup": "Existing Single Family Home Sales TX",
         "marker": {
          "color": "#636efa"
         },
         "name": "Existing Single Family Home Sales TX",
         "offsetgroup": "Existing Single Family Home Sales TX",
         "orientation": "v",
         "showlegend": true,
         "textposition": "auto",
         "type": "bar",
         "x": [
          "Existing Single Family Home Sales TX"
         ],
         "xaxis": "x",
         "y": [
          0
         ],
         "yaxis": "y"
        },
        {
         "alignmentgroup": "True",
         "hovertemplate": "feature=%{x}<br>importance=%{y}<extra></extra>",
         "legendgroup": "Non Residential Building Construction",
         "marker": {
          "color": "#EF553B"
         },
         "name": "Non Residential Building Construction",
         "offsetgroup": "Non Residential Building Construction",
         "orientation": "v",
         "showlegend": true,
         "textposition": "auto",
         "type": "bar",
         "x": [
          "Non Residential Building Construction"
         ],
         "xaxis": "x",
         "y": [
          0
         ],
         "yaxis": "y"
        },
        {
         "alignmentgroup": "True",
         "hovertemplate": "feature=%{x}<br>importance=%{y}<extra></extra>",
         "legendgroup": "Total Sales Tax Collections TX",
         "marker": {
          "color": "#00cc96"
         },
         "name": "Total Sales Tax Collections TX",
         "offsetgroup": "Total Sales Tax Collections TX",
         "orientation": "v",
         "showlegend": true,
         "textposition": "auto",
         "type": "bar",
         "x": [
          "Total Sales Tax Collections TX"
         ],
         "xaxis": "x",
         "y": [
          0
         ],
         "yaxis": "y"
        },
        {
         "alignmentgroup": "True",
         "hovertemplate": "feature=%{x}<br>importance=%{y}<extra></extra>",
         "legendgroup": "Retail Gasoline Price TX",
         "marker": {
          "color": "#ab63fa"
         },
         "name": "Retail Gasoline Price TX",
         "offsetgroup": "Retail Gasoline Price TX",
         "orientation": "v",
         "showlegend": true,
         "textposition": "auto",
         "type": "bar",
         "x": [
          "Retail Gasoline Price TX"
         ],
         "xaxis": "x",
         "y": [
          0
         ],
         "yaxis": "y"
        },
        {
         "alignmentgroup": "True",
         "hovertemplate": "feature=%{x}<br>importance=%{y}<extra></extra>",
         "legendgroup": "Nonfarm Employment Illinois",
         "marker": {
          "color": "#FFA15A"
         },
         "name": "Nonfarm Employment Illinois",
         "offsetgroup": "Nonfarm Employment Illinois",
         "orientation": "v",
         "showlegend": true,
         "textposition": "auto",
         "type": "bar",
         "x": [
          "Nonfarm Employment Illinois"
         ],
         "xaxis": "x",
         "y": [
          0
         ],
         "yaxis": "y"
        },
        {
         "alignmentgroup": "True",
         "hovertemplate": "feature=%{x}<br>importance=%{y}<extra></extra>",
         "legendgroup": "Nonfarm Employment Florida",
         "marker": {
          "color": "#19d3f3"
         },
         "name": "Nonfarm Employment Florida",
         "offsetgroup": "Nonfarm Employment Florida",
         "orientation": "v",
         "showlegend": true,
         "textposition": "auto",
         "type": "bar",
         "x": [
          "Nonfarm Employment Florida"
         ],
         "xaxis": "x",
         "y": [
          0
         ],
         "yaxis": "y"
        },
        {
         "alignmentgroup": "True",
         "hovertemplate": "feature=%{x}<br>importance=%{y}<extra></extra>",
         "legendgroup": "Nonfarm Employment New York",
         "marker": {
          "color": "#FF6692"
         },
         "name": "Nonfarm Employment New York",
         "offsetgroup": "Nonfarm Employment New York",
         "orientation": "v",
         "showlegend": true,
         "textposition": "auto",
         "type": "bar",
         "x": [
          "Nonfarm Employment New York"
         ],
         "xaxis": "x",
         "y": [
          0
         ],
         "yaxis": "y"
        },
        {
         "alignmentgroup": "True",
         "hovertemplate": "feature=%{x}<br>importance=%{y}<extra></extra>",
         "legendgroup": "Nonfarm Employment Texas",
         "marker": {
          "color": "#B6E880"
         },
         "name": "Nonfarm Employment Texas",
         "offsetgroup": "Nonfarm Employment Texas",
         "orientation": "v",
         "showlegend": true,
         "textposition": "auto",
         "type": "bar",
         "x": [
          "Nonfarm Employment Texas"
         ],
         "xaxis": "x",
         "y": [
          0
         ],
         "yaxis": "y"
        },
        {
         "alignmentgroup": "True",
         "hovertemplate": "feature=%{x}<br>importance=%{y}<extra></extra>",
         "legendgroup": "Nonfarm Employment California",
         "marker": {
          "color": "#FF97FF"
         },
         "name": "Nonfarm Employment California",
         "offsetgroup": "Nonfarm Employment California",
         "orientation": "v",
         "showlegend": true,
         "textposition": "auto",
         "type": "bar",
         "x": [
          "Nonfarm Employment California"
         ],
         "xaxis": "x",
         "y": [
          0
         ],
         "yaxis": "y"
        },
        {
         "alignmentgroup": "True",
         "hovertemplate": "feature=%{x}<br>importance=%{y}<extra></extra>",
         "legendgroup": "Gross Value Crude Oil Production",
         "marker": {
          "color": "#FECB52"
         },
         "name": "Gross Value Crude Oil Production",
         "offsetgroup": "Gross Value Crude Oil Production",
         "orientation": "v",
         "showlegend": true,
         "textposition": "auto",
         "type": "bar",
         "x": [
          "Gross Value Crude Oil Production"
         ],
         "xaxis": "x",
         "y": [
          0
         ],
         "yaxis": "y"
        },
        {
         "alignmentgroup": "True",
         "hovertemplate": "feature=%{x}<br>importance=%{y}<extra></extra>",
         "legendgroup": "Gross Value Natural Gas Production",
         "marker": {
          "color": "#636efa"
         },
         "name": "Gross Value Natural Gas Production",
         "offsetgroup": "Gross Value Natural Gas Production",
         "orientation": "v",
         "showlegend": true,
         "textposition": "auto",
         "type": "bar",
         "x": [
          "Gross Value Natural Gas Production"
         ],
         "xaxis": "x",
         "y": [
          0
         ],
         "yaxis": "y"
        },
        {
         "alignmentgroup": "True",
         "hovertemplate": "feature=%{x}<br>importance=%{y}<extra></extra>",
         "legendgroup": "Motor Fuel Taxed Gasoline",
         "marker": {
          "color": "#EF553B"
         },
         "name": "Motor Fuel Taxed Gasoline",
         "offsetgroup": "Motor Fuel Taxed Gasoline",
         "orientation": "v",
         "showlegend": true,
         "textposition": "auto",
         "type": "bar",
         "x": [
          "Motor Fuel Taxed Gasoline"
         ],
         "xaxis": "x",
         "y": [
          0
         ],
         "yaxis": "y"
        },
        {
         "alignmentgroup": "True",
         "hovertemplate": "feature=%{x}<br>importance=%{y}<extra></extra>",
         "legendgroup": "Motor Fuel Taxed Diesel",
         "marker": {
          "color": "#00cc96"
         },
         "name": "Motor Fuel Taxed Diesel",
         "offsetgroup": "Motor Fuel Taxed Diesel",
         "orientation": "v",
         "showlegend": true,
         "textposition": "auto",
         "type": "bar",
         "x": [
          "Motor Fuel Taxed Diesel"
         ],
         "xaxis": "x",
         "y": [
          0
         ],
         "yaxis": "y"
        },
        {
         "alignmentgroup": "True",
         "hovertemplate": "feature=%{x}<br>importance=%{y}<extra></extra>",
         "legendgroup": "driving_alone_population",
         "marker": {
          "color": "#ab63fa"
         },
         "name": "driving_alone_population",
         "offsetgroup": "driving_alone_population",
         "orientation": "v",
         "showlegend": true,
         "textposition": "auto",
         "type": "bar",
         "x": [
          "driving_alone_population"
         ],
         "xaxis": "x",
         "y": [
          0
         ],
         "yaxis": "y"
        },
        {
         "alignmentgroup": "True",
         "hovertemplate": "feature=%{x}<br>importance=%{y}<extra></extra>",
         "legendgroup": "female_45_to_49",
         "marker": {
          "color": "#FFA15A"
         },
         "name": "female_45_to_49",
         "offsetgroup": "female_45_to_49",
         "orientation": "v",
         "showlegend": true,
         "textposition": "auto",
         "type": "bar",
         "x": [
          "female_45_to_49"
         ],
         "xaxis": "x",
         "y": [
          0
         ],
         "yaxis": "y"
        },
        {
         "alignmentgroup": "True",
         "hovertemplate": "feature=%{x}<br>importance=%{y}<extra></extra>",
         "legendgroup": "female_21",
         "marker": {
          "color": "#19d3f3"
         },
         "name": "female_21",
         "offsetgroup": "female_21",
         "orientation": "v",
         "showlegend": true,
         "textposition": "auto",
         "type": "bar",
         "x": [
          "female_21"
         ],
         "xaxis": "x",
         "y": [
          0
         ],
         "yaxis": "y"
        },
        {
         "alignmentgroup": "True",
         "hovertemplate": "feature=%{x}<br>importance=%{y}<extra></extra>",
         "legendgroup": "housing_units_20_to_49_units",
         "marker": {
          "color": "#FF6692"
         },
         "name": "housing_units_20_to_49_units",
         "offsetgroup": "housing_units_20_to_49_units",
         "orientation": "v",
         "showlegend": true,
         "textposition": "auto",
         "type": "bar",
         "x": [
          "housing_units_20_to_49_units"
         ],
         "xaxis": "x",
         "y": [
          0
         ],
         "yaxis": "y"
        },
        {
         "alignmentgroup": "True",
         "hovertemplate": "feature=%{x}<br>importance=%{y}<extra></extra>",
         "legendgroup": "female_25_to_29",
         "marker": {
          "color": "#B6E880"
         },
         "name": "female_25_to_29",
         "offsetgroup": "female_25_to_29",
         "orientation": "v",
         "showlegend": true,
         "textposition": "auto",
         "type": "bar",
         "x": [
          "female_25_to_29"
         ],
         "xaxis": "x",
         "y": [
          0
         ],
         "yaxis": "y"
        },
        {
         "alignmentgroup": "True",
         "hovertemplate": "feature=%{x}<br>importance=%{y}<extra></extra>",
         "legendgroup": "female_30_to_34",
         "marker": {
          "color": "#FF97FF"
         },
         "name": "female_30_to_34",
         "offsetgroup": "female_30_to_34",
         "orientation": "v",
         "showlegend": true,
         "textposition": "auto",
         "type": "bar",
         "x": [
          "female_30_to_34"
         ],
         "xaxis": "x",
         "y": [
          0
         ],
         "yaxis": "y"
        },
        {
         "alignmentgroup": "True",
         "hovertemplate": "feature=%{x}<br>importance=%{y}<extra></extra>",
         "legendgroup": "hispanic_pop_annual_pct_change",
         "marker": {
          "color": "#FECB52"
         },
         "name": "hispanic_pop_annual_pct_change",
         "offsetgroup": "hispanic_pop_annual_pct_change",
         "orientation": "v",
         "showlegend": true,
         "textposition": "auto",
         "type": "bar",
         "x": [
          "hispanic_pop_annual_pct_change"
         ],
         "xaxis": "x",
         "y": [
          0
         ],
         "yaxis": "y"
        },
        {
         "alignmentgroup": "True",
         "hovertemplate": "feature=%{x}<br>importance=%{y}<extra></extra>",
         "legendgroup": "high_school_diploma_annual_pct_change",
         "marker": {
          "color": "#636efa"
         },
         "name": "high_school_diploma_annual_pct_change",
         "offsetgroup": "high_school_diploma_annual_pct_change",
         "orientation": "v",
         "showlegend": true,
         "textposition": "auto",
         "type": "bar",
         "x": [
          "high_school_diploma_annual_pct_change"
         ],
         "xaxis": "x",
         "y": [
          0
         ],
         "yaxis": "y"
        },
        {
         "alignmentgroup": "True",
         "hovertemplate": "feature=%{x}<br>importance=%{y}<extra></extra>",
         "legendgroup": "female_45_to_49_annual_pct_change",
         "marker": {
          "color": "#EF553B"
         },
         "name": "female_45_to_49_annual_pct_change",
         "offsetgroup": "female_45_to_49_annual_pct_change",
         "orientation": "v",
         "showlegend": true,
         "textposition": "auto",
         "type": "bar",
         "x": [
          "female_45_to_49_annual_pct_change"
         ],
         "xaxis": "x",
         "y": [
          0
         ],
         "yaxis": "y"
        },
        {
         "alignmentgroup": "True",
         "hovertemplate": "feature=%{x}<br>importance=%{y}<extra></extra>",
         "legendgroup": "female_75_to_79_annual_pct_change",
         "marker": {
          "color": "#00cc96"
         },
         "name": "female_75_to_79_annual_pct_change",
         "offsetgroup": "female_75_to_79_annual_pct_change",
         "orientation": "v",
         "showlegend": true,
         "textposition": "auto",
         "type": "bar",
         "x": [
          "female_75_to_79_annual_pct_change"
         ],
         "xaxis": "x",
         "y": [
          0
         ],
         "yaxis": "y"
        },
        {
         "alignmentgroup": "True",
         "hovertemplate": "feature=%{x}<br>importance=%{y}<extra></extra>",
         "legendgroup": "median_household_income_annual_pct_change",
         "marker": {
          "color": "#ab63fa"
         },
         "name": "median_household_income_annual_pct_change",
         "offsetgroup": "median_household_income_annual_pct_change",
         "orientation": "v",
         "showlegend": true,
         "textposition": "auto",
         "type": "bar",
         "x": [
          "median_household_income_annual_pct_change"
         ],
         "xaxis": "x",
         "y": [
          0
         ],
         "yaxis": "y"
        },
        {
         "alignmentgroup": "True",
         "hovertemplate": "feature=%{x}<br>importance=%{y}<extra></extra>",
         "legendgroup": "female_50_to_54_annual_pct_change",
         "marker": {
          "color": "#FFA15A"
         },
         "name": "female_50_to_54_annual_pct_change",
         "offsetgroup": "female_50_to_54_annual_pct_change",
         "orientation": "v",
         "showlegend": true,
         "textposition": "auto",
         "type": "bar",
         "x": [
          "female_50_to_54_annual_pct_change"
         ],
         "xaxis": "x",
         "y": [
          0
         ],
         "yaxis": "y"
        },
        {
         "alignmentgroup": "True",
         "hovertemplate": "feature=%{x}<br>importance=%{y}<extra></extra>",
         "legendgroup": "housing_units_built_1980_to_1989_annual_pct_change",
         "marker": {
          "color": "#19d3f3"
         },
         "name": "housing_units_built_1980_to_1989_annual_pct_change",
         "offsetgroup": "housing_units_built_1980_to_1989_annual_pct_change",
         "orientation": "v",
         "showlegend": true,
         "textposition": "auto",
         "type": "bar",
         "x": [
          "housing_units_built_1980_to_1989_annual_pct_change"
         ],
         "xaxis": "x",
         "y": [
          0
         ],
         "yaxis": "y"
        },
        {
         "alignmentgroup": "True",
         "hovertemplate": "feature=%{x}<br>importance=%{y}<extra></extra>",
         "legendgroup": "female_35_to_39_annual_pct_change",
         "marker": {
          "color": "#FF6692"
         },
         "name": "female_35_to_39_annual_pct_change",
         "offsetgroup": "female_35_to_39_annual_pct_change",
         "orientation": "v",
         "showlegend": true,
         "textposition": "auto",
         "type": "bar",
         "x": [
          "female_35_to_39_annual_pct_change"
         ],
         "xaxis": "x",
         "y": [
          0
         ],
         "yaxis": "y"
        },
        {
         "alignmentgroup": "True",
         "hovertemplate": "feature=%{x}<br>importance=%{y}<extra></extra>",
         "legendgroup": "units_paying_cash_rent_annual_pct_change",
         "marker": {
          "color": "#B6E880"
         },
         "name": "units_paying_cash_rent_annual_pct_change",
         "offsetgroup": "units_paying_cash_rent_annual_pct_change",
         "orientation": "v",
         "showlegend": true,
         "textposition": "auto",
         "type": "bar",
         "x": [
          "units_paying_cash_rent_annual_pct_change"
         ],
         "xaxis": "x",
         "y": [
          0
         ],
         "yaxis": "y"
        },
        {
         "alignmentgroup": "True",
         "hovertemplate": "feature=%{x}<br>importance=%{y}<extra></extra>",
         "legendgroup": "housing_units_single_family_attached_annual_pct_change",
         "marker": {
          "color": "#FF97FF"
         },
         "name": "housing_units_single_family_attached_annual_pct_change",
         "offsetgroup": "housing_units_single_family_attached_annual_pct_change",
         "orientation": "v",
         "showlegend": true,
         "textposition": "auto",
         "type": "bar",
         "x": [
          "housing_units_single_family_attached_annual_pct_change"
         ],
         "xaxis": "x",
         "y": [
          0
         ],
         "yaxis": "y"
        },
        {
         "alignmentgroup": "True",
         "hovertemplate": "feature=%{x}<br>importance=%{y}<extra></extra>",
         "legendgroup": "female_40_to_44_annual_pct_change",
         "marker": {
          "color": "#FECB52"
         },
         "name": "female_40_to_44_annual_pct_change",
         "offsetgroup": "female_40_to_44_annual_pct_change",
         "orientation": "v",
         "showlegend": true,
         "textposition": "auto",
         "type": "bar",
         "x": [
          "female_40_to_44_annual_pct_change"
         ],
         "xaxis": "x",
         "y": [
          0
         ],
         "yaxis": "y"
        },
        {
         "alignmentgroup": "True",
         "hovertemplate": "feature=%{x}<br>importance=%{y}<extra></extra>",
         "legendgroup": "single_women_annual_pct_change",
         "marker": {
          "color": "#636efa"
         },
         "name": "single_women_annual_pct_change",
         "offsetgroup": "single_women_annual_pct_change",
         "orientation": "v",
         "showlegend": true,
         "textposition": "auto",
         "type": "bar",
         "x": [
          "single_women_annual_pct_change"
         ],
         "xaxis": "x",
         "y": [
          0
         ],
         "yaxis": "y"
        },
        {
         "alignmentgroup": "True",
         "hovertemplate": "feature=%{x}<br>importance=%{y}<extra></extra>",
         "legendgroup": "housing_units_over_50_units_annual_pct_change",
         "marker": {
          "color": "#EF553B"
         },
         "name": "housing_units_over_50_units_annual_pct_change",
         "offsetgroup": "housing_units_over_50_units_annual_pct_change",
         "orientation": "v",
         "showlegend": true,
         "textposition": "auto",
         "type": "bar",
         "x": [
          "housing_units_over_50_units_annual_pct_change"
         ],
         "xaxis": "x",
         "y": [
          0
         ],
         "yaxis": "y"
        },
        {
         "alignmentgroup": "True",
         "hovertemplate": "feature=%{x}<br>importance=%{y}<extra></extra>",
         "legendgroup": "housing_units_built_1960_to_1969_annual_pct_change",
         "marker": {
          "color": "#00cc96"
         },
         "name": "housing_units_built_1960_to_1969_annual_pct_change",
         "offsetgroup": "housing_units_built_1960_to_1969_annual_pct_change",
         "orientation": "v",
         "showlegend": true,
         "textposition": "auto",
         "type": "bar",
         "x": [
          "housing_units_built_1960_to_1969_annual_pct_change"
         ],
         "xaxis": "x",
         "y": [
          0
         ],
         "yaxis": "y"
        },
        {
         "alignmentgroup": "True",
         "hovertemplate": "feature=%{x}<br>importance=%{y}<extra></extra>",
         "legendgroup": "sales_tax_rate",
         "marker": {
          "color": "#ab63fa"
         },
         "name": "sales_tax_rate",
         "offsetgroup": "sales_tax_rate",
         "orientation": "v",
         "showlegend": true,
         "textposition": "auto",
         "type": "bar",
         "x": [
          "sales_tax_rate"
         ],
         "xaxis": "x",
         "y": [
          0
         ],
         "yaxis": "y"
        },
        {
         "alignmentgroup": "True",
         "hovertemplate": "feature=%{x}<br>importance=%{y}<extra></extra>",
         "legendgroup": "per_diff_total_sales_tax",
         "marker": {
          "color": "#FFA15A"
         },
         "name": "per_diff_total_sales_tax",
         "offsetgroup": "per_diff_total_sales_tax",
         "orientation": "v",
         "showlegend": true,
         "textposition": "auto",
         "type": "bar",
         "x": [
          "per_diff_total_sales_tax"
         ],
         "xaxis": "x",
         "y": [
          0
         ],
         "yaxis": "y"
        }
       ],
       "layout": {
        "barmode": "relative",
        "height": 1000,
        "legend": {
         "title": {
          "text": "feature"
         },
         "tracegroupgap": 0
        },
        "template": {
         "data": {
          "bar": [
           {
            "error_x": {
             "color": "#2a3f5f"
            },
            "error_y": {
             "color": "#2a3f5f"
            },
            "marker": {
             "line": {
              "color": "#E5ECF6",
              "width": 0.5
             }
            },
            "type": "bar"
           }
          ],
          "barpolar": [
           {
            "marker": {
             "line": {
              "color": "#E5ECF6",
              "width": 0.5
             }
            },
            "type": "barpolar"
           }
          ],
          "carpet": [
           {
            "aaxis": {
             "endlinecolor": "#2a3f5f",
             "gridcolor": "white",
             "linecolor": "white",
             "minorgridcolor": "white",
             "startlinecolor": "#2a3f5f"
            },
            "baxis": {
             "endlinecolor": "#2a3f5f",
             "gridcolor": "white",
             "linecolor": "white",
             "minorgridcolor": "white",
             "startlinecolor": "#2a3f5f"
            },
            "type": "carpet"
           }
          ],
          "choropleth": [
           {
            "colorbar": {
             "outlinewidth": 0,
             "ticks": ""
            },
            "type": "choropleth"
           }
          ],
          "contour": [
           {
            "colorbar": {
             "outlinewidth": 0,
             "ticks": ""
            },
            "colorscale": [
             [
              0,
              "#0d0887"
             ],
             [
              0.1111111111111111,
              "#46039f"
             ],
             [
              0.2222222222222222,
              "#7201a8"
             ],
             [
              0.3333333333333333,
              "#9c179e"
             ],
             [
              0.4444444444444444,
              "#bd3786"
             ],
             [
              0.5555555555555556,
              "#d8576b"
             ],
             [
              0.6666666666666666,
              "#ed7953"
             ],
             [
              0.7777777777777778,
              "#fb9f3a"
             ],
             [
              0.8888888888888888,
              "#fdca26"
             ],
             [
              1,
              "#f0f921"
             ]
            ],
            "type": "contour"
           }
          ],
          "contourcarpet": [
           {
            "colorbar": {
             "outlinewidth": 0,
             "ticks": ""
            },
            "type": "contourcarpet"
           }
          ],
          "heatmap": [
           {
            "colorbar": {
             "outlinewidth": 0,
             "ticks": ""
            },
            "colorscale": [
             [
              0,
              "#0d0887"
             ],
             [
              0.1111111111111111,
              "#46039f"
             ],
             [
              0.2222222222222222,
              "#7201a8"
             ],
             [
              0.3333333333333333,
              "#9c179e"
             ],
             [
              0.4444444444444444,
              "#bd3786"
             ],
             [
              0.5555555555555556,
              "#d8576b"
             ],
             [
              0.6666666666666666,
              "#ed7953"
             ],
             [
              0.7777777777777778,
              "#fb9f3a"
             ],
             [
              0.8888888888888888,
              "#fdca26"
             ],
             [
              1,
              "#f0f921"
             ]
            ],
            "type": "heatmap"
           }
          ],
          "heatmapgl": [
           {
            "colorbar": {
             "outlinewidth": 0,
             "ticks": ""
            },
            "colorscale": [
             [
              0,
              "#0d0887"
             ],
             [
              0.1111111111111111,
              "#46039f"
             ],
             [
              0.2222222222222222,
              "#7201a8"
             ],
             [
              0.3333333333333333,
              "#9c179e"
             ],
             [
              0.4444444444444444,
              "#bd3786"
             ],
             [
              0.5555555555555556,
              "#d8576b"
             ],
             [
              0.6666666666666666,
              "#ed7953"
             ],
             [
              0.7777777777777778,
              "#fb9f3a"
             ],
             [
              0.8888888888888888,
              "#fdca26"
             ],
             [
              1,
              "#f0f921"
             ]
            ],
            "type": "heatmapgl"
           }
          ],
          "histogram": [
           {
            "marker": {
             "colorbar": {
              "outlinewidth": 0,
              "ticks": ""
             }
            },
            "type": "histogram"
           }
          ],
          "histogram2d": [
           {
            "colorbar": {
             "outlinewidth": 0,
             "ticks": ""
            },
            "colorscale": [
             [
              0,
              "#0d0887"
             ],
             [
              0.1111111111111111,
              "#46039f"
             ],
             [
              0.2222222222222222,
              "#7201a8"
             ],
             [
              0.3333333333333333,
              "#9c179e"
             ],
             [
              0.4444444444444444,
              "#bd3786"
             ],
             [
              0.5555555555555556,
              "#d8576b"
             ],
             [
              0.6666666666666666,
              "#ed7953"
             ],
             [
              0.7777777777777778,
              "#fb9f3a"
             ],
             [
              0.8888888888888888,
              "#fdca26"
             ],
             [
              1,
              "#f0f921"
             ]
            ],
            "type": "histogram2d"
           }
          ],
          "histogram2dcontour": [
           {
            "colorbar": {
             "outlinewidth": 0,
             "ticks": ""
            },
            "colorscale": [
             [
              0,
              "#0d0887"
             ],
             [
              0.1111111111111111,
              "#46039f"
             ],
             [
              0.2222222222222222,
              "#7201a8"
             ],
             [
              0.3333333333333333,
              "#9c179e"
             ],
             [
              0.4444444444444444,
              "#bd3786"
             ],
             [
              0.5555555555555556,
              "#d8576b"
             ],
             [
              0.6666666666666666,
              "#ed7953"
             ],
             [
              0.7777777777777778,
              "#fb9f3a"
             ],
             [
              0.8888888888888888,
              "#fdca26"
             ],
             [
              1,
              "#f0f921"
             ]
            ],
            "type": "histogram2dcontour"
           }
          ],
          "mesh3d": [
           {
            "colorbar": {
             "outlinewidth": 0,
             "ticks": ""
            },
            "type": "mesh3d"
           }
          ],
          "parcoords": [
           {
            "line": {
             "colorbar": {
              "outlinewidth": 0,
              "ticks": ""
             }
            },
            "type": "parcoords"
           }
          ],
          "pie": [
           {
            "automargin": true,
            "type": "pie"
           }
          ],
          "scatter": [
           {
            "marker": {
             "colorbar": {
              "outlinewidth": 0,
              "ticks": ""
             }
            },
            "type": "scatter"
           }
          ],
          "scatter3d": [
           {
            "line": {
             "colorbar": {
              "outlinewidth": 0,
              "ticks": ""
             }
            },
            "marker": {
             "colorbar": {
              "outlinewidth": 0,
              "ticks": ""
             }
            },
            "type": "scatter3d"
           }
          ],
          "scattercarpet": [
           {
            "marker": {
             "colorbar": {
              "outlinewidth": 0,
              "ticks": ""
             }
            },
            "type": "scattercarpet"
           }
          ],
          "scattergeo": [
           {
            "marker": {
             "colorbar": {
              "outlinewidth": 0,
              "ticks": ""
             }
            },
            "type": "scattergeo"
           }
          ],
          "scattergl": [
           {
            "marker": {
             "colorbar": {
              "outlinewidth": 0,
              "ticks": ""
             }
            },
            "type": "scattergl"
           }
          ],
          "scattermapbox": [
           {
            "marker": {
             "colorbar": {
              "outlinewidth": 0,
              "ticks": ""
             }
            },
            "type": "scattermapbox"
           }
          ],
          "scatterpolar": [
           {
            "marker": {
             "colorbar": {
              "outlinewidth": 0,
              "ticks": ""
             }
            },
            "type": "scatterpolar"
           }
          ],
          "scatterpolargl": [
           {
            "marker": {
             "colorbar": {
              "outlinewidth": 0,
              "ticks": ""
             }
            },
            "type": "scatterpolargl"
           }
          ],
          "scatterternary": [
           {
            "marker": {
             "colorbar": {
              "outlinewidth": 0,
              "ticks": ""
             }
            },
            "type": "scatterternary"
           }
          ],
          "surface": [
           {
            "colorbar": {
             "outlinewidth": 0,
             "ticks": ""
            },
            "colorscale": [
             [
              0,
              "#0d0887"
             ],
             [
              0.1111111111111111,
              "#46039f"
             ],
             [
              0.2222222222222222,
              "#7201a8"
             ],
             [
              0.3333333333333333,
              "#9c179e"
             ],
             [
              0.4444444444444444,
              "#bd3786"
             ],
             [
              0.5555555555555556,
              "#d8576b"
             ],
             [
              0.6666666666666666,
              "#ed7953"
             ],
             [
              0.7777777777777778,
              "#fb9f3a"
             ],
             [
              0.8888888888888888,
              "#fdca26"
             ],
             [
              1,
              "#f0f921"
             ]
            ],
            "type": "surface"
           }
          ],
          "table": [
           {
            "cells": {
             "fill": {
              "color": "#EBF0F8"
             },
             "line": {
              "color": "white"
             }
            },
            "header": {
             "fill": {
              "color": "#C8D4E3"
             },
             "line": {
              "color": "white"
             }
            },
            "type": "table"
           }
          ]
         },
         "layout": {
          "annotationdefaults": {
           "arrowcolor": "#2a3f5f",
           "arrowhead": 0,
           "arrowwidth": 1
          },
          "autotypenumbers": "strict",
          "coloraxis": {
           "colorbar": {
            "outlinewidth": 0,
            "ticks": ""
           }
          },
          "colorscale": {
           "diverging": [
            [
             0,
             "#8e0152"
            ],
            [
             0.1,
             "#c51b7d"
            ],
            [
             0.2,
             "#de77ae"
            ],
            [
             0.3,
             "#f1b6da"
            ],
            [
             0.4,
             "#fde0ef"
            ],
            [
             0.5,
             "#f7f7f7"
            ],
            [
             0.6,
             "#e6f5d0"
            ],
            [
             0.7,
             "#b8e186"
            ],
            [
             0.8,
             "#7fbc41"
            ],
            [
             0.9,
             "#4d9221"
            ],
            [
             1,
             "#276419"
            ]
           ],
           "sequential": [
            [
             0,
             "#0d0887"
            ],
            [
             0.1111111111111111,
             "#46039f"
            ],
            [
             0.2222222222222222,
             "#7201a8"
            ],
            [
             0.3333333333333333,
             "#9c179e"
            ],
            [
             0.4444444444444444,
             "#bd3786"
            ],
            [
             0.5555555555555556,
             "#d8576b"
            ],
            [
             0.6666666666666666,
             "#ed7953"
            ],
            [
             0.7777777777777778,
             "#fb9f3a"
            ],
            [
             0.8888888888888888,
             "#fdca26"
            ],
            [
             1,
             "#f0f921"
            ]
           ],
           "sequentialminus": [
            [
             0,
             "#0d0887"
            ],
            [
             0.1111111111111111,
             "#46039f"
            ],
            [
             0.2222222222222222,
             "#7201a8"
            ],
            [
             0.3333333333333333,
             "#9c179e"
            ],
            [
             0.4444444444444444,
             "#bd3786"
            ],
            [
             0.5555555555555556,
             "#d8576b"
            ],
            [
             0.6666666666666666,
             "#ed7953"
            ],
            [
             0.7777777777777778,
             "#fb9f3a"
            ],
            [
             0.8888888888888888,
             "#fdca26"
            ],
            [
             1,
             "#f0f921"
            ]
           ]
          },
          "colorway": [
           "#636efa",
           "#EF553B",
           "#00cc96",
           "#ab63fa",
           "#FFA15A",
           "#19d3f3",
           "#FF6692",
           "#B6E880",
           "#FF97FF",
           "#FECB52"
          ],
          "font": {
           "color": "#2a3f5f"
          },
          "geo": {
           "bgcolor": "white",
           "lakecolor": "white",
           "landcolor": "#E5ECF6",
           "showlakes": true,
           "showland": true,
           "subunitcolor": "white"
          },
          "hoverlabel": {
           "align": "left"
          },
          "hovermode": "closest",
          "mapbox": {
           "style": "light"
          },
          "paper_bgcolor": "white",
          "plot_bgcolor": "#E5ECF6",
          "polar": {
           "angularaxis": {
            "gridcolor": "white",
            "linecolor": "white",
            "ticks": ""
           },
           "bgcolor": "#E5ECF6",
           "radialaxis": {
            "gridcolor": "white",
            "linecolor": "white",
            "ticks": ""
           }
          },
          "scene": {
           "xaxis": {
            "backgroundcolor": "#E5ECF6",
            "gridcolor": "white",
            "gridwidth": 2,
            "linecolor": "white",
            "showbackground": true,
            "ticks": "",
            "zerolinecolor": "white"
           },
           "yaxis": {
            "backgroundcolor": "#E5ECF6",
            "gridcolor": "white",
            "gridwidth": 2,
            "linecolor": "white",
            "showbackground": true,
            "ticks": "",
            "zerolinecolor": "white"
           },
           "zaxis": {
            "backgroundcolor": "#E5ECF6",
            "gridcolor": "white",
            "gridwidth": 2,
            "linecolor": "white",
            "showbackground": true,
            "ticks": "",
            "zerolinecolor": "white"
           }
          },
          "shapedefaults": {
           "line": {
            "color": "#2a3f5f"
           }
          },
          "ternary": {
           "aaxis": {
            "gridcolor": "white",
            "linecolor": "white",
            "ticks": ""
           },
           "baxis": {
            "gridcolor": "white",
            "linecolor": "white",
            "ticks": ""
           },
           "bgcolor": "#E5ECF6",
           "caxis": {
            "gridcolor": "white",
            "linecolor": "white",
            "ticks": ""
           }
          },
          "title": {
           "x": 0.05
          },
          "xaxis": {
           "automargin": true,
           "gridcolor": "white",
           "linecolor": "white",
           "ticks": "",
           "title": {
            "standoff": 15
           },
           "zerolinecolor": "white",
           "zerolinewidth": 2
          },
          "yaxis": {
           "automargin": true,
           "gridcolor": "white",
           "linecolor": "white",
           "ticks": "",
           "title": {
            "standoff": 15
           },
           "zerolinecolor": "white",
           "zerolinewidth": 2
          }
         }
        },
        "title": {
         "text": "Feature Importance"
        },
        "width": 3200,
        "xaxis": {
         "anchor": "y",
         "categoryarray": [
          "quintile_3_upper_limit",
          "black_pop",
          "average_household_size_owners",
          "Total Sales Tax Collections Retail TX",
          "maxtempC",
          "quintile_3_upper_limit_annual_pct_change",
          "precipMM",
          "children",
          "quintile_4_upper_limit",
          "median_household_income",
          "housing_units_10_to_19_units",
          "walking_to_work_population",
          "women_with_associate_degree",
          "housing_units_built_1940_to_1949_annual_pct_change",
          "armed_forces",
          "housing_units_built_1950_to_1959_annual_pct_change",
          "housing_units_single_family_attached_owned_annual_pct_change",
          "mintempC",
          "housing_units_built_1930_to_1939",
          "housing_units_built_1930_to_1939_annual_pct_change",
          "female_35_to_39",
          "hispanic_pop",
          "housing_units_built_1980_to_1989",
          "white_pop_annual_pct_change",
          "housing_units_built_1990_to_1999_annual_pct_change",
          "housing_units_5_to_9_units",
          "female_50_to_54",
          "housing_units_built_1950_to_1959",
          "rent_search_interest",
          "female_21_annual_pct_change",
          "quintile_1_upper_limit",
          "quintile_1_upper_limit_annual_pct_change",
          "delta_monthly_avg_gas_price",
          "high_school_diploma",
          "women_with_doctoral_degree_annual_pct_change",
          "female_75_to_79",
          "children_annual_pct_change",
          "housing_units_over_50_units",
          "average_household_size_owners_annual_pct_change",
          "total_sales_tax",
          "housing_units_built_1970_to_1979",
          "black_pop_annual_pct_change",
          "quintile_2_upper_limit",
          "outlet_org_type_cl",
          "housing_units_single_family_attached_owned",
          "Consumer Price Index TX",
          "housing_units_10_to_19_units_annual_pct_change",
          "bicycle_population",
          "single_women",
          "Existing Single Family Home Price TX",
          "housing_units_built_1940_to_1949",
          "units_paying_cash_rent",
          "rent_search_4_period_rsi",
          "housing_units_built_1970_to_1979_annual_pct_change",
          "men_with_bachelors_degree_annual_pct_change",
          "walking_to_work_population_annual_pct_change",
          "ur",
          "quintile_2_upper_limit_annual_pct_change",
          "motorcycle_population",
          "taxpayer_org_type_cl",
          "female_25_to_29_annual_pct_change",
          "white_pop",
          "men_with_bachelors_degree",
          "outlet_non_tx_ratio",
          "women_with_doctoral_degree",
          "monthly_avg_gas_price",
          "taxpayer_cl_ratio",
          "Consumer Price Index U.S.",
          "outlet_foreign_ratio",
          "housing_units_built_1990_to_1999",
          "taxpayer_count",
          "women_with_associate_degree_annual_pct_change",
          "outlet_taxpayer_non_tx",
          "driving_alone_population_annual_pct_change",
          "female_female_households",
          "female_30_to_34_annual_pct_change",
          "outlet_is_ratio",
          "taxpayer_org_type_foreign",
          "housing_units_built_1960_to_1969",
          "tx_is_abt_same",
          "housing_units_single_family_attached",
          "delta_sap_case_shiller_index",
          "quintile_4_upper_limit_annual_pct_change",
          "housing_units_5_to_9_units_annual_pct_change",
          "Retail Diesel Price TX",
          "female_40_to_44",
          "TNX",
          "taxpayer_is_ratio",
          "total_sales_tax_last_year",
          "sap_case_shiller_index",
          "housing_units_20_to_49_units_annual_pct_change",
          "delta_TNX",
          "tx_is_a_lot_better",
          "tx_is_a_little_better",
          "tx_is_a_little_worse",
          "tx_is_a_lot_worse",
          "tx_is_dont_know",
          "tx_is_better",
          "tx_is_worse",
          "delta_ur",
          "taxpayer_org_type_is",
          "payer_outlet_same_zipcode",
          "taxpayer_same_zip_ratio",
          "taxpayer_foreign_ratio",
          "outlet_count",
          "outlet_org_type_is",
          "outlet_org_type_foreign",
          "outlet_cl_ratio",
          "fatalities",
          "caseCount",
          "env_violation_count",
          "Consumer Confidence Index TX",
          "Consumer Confidence West South Central",
          "Consumer Confidence Index US",
          "Nonfarm Employment TX",
          "Nonfarm Employment U.S.",
          "Unemployment TX",
          "Unemployment U.S.",
          "Single Family Building Permits TX",
          "Multi Family Building Permits TX",
          "Existing Single Family Home Sales TX",
          "Non Residential Building Construction",
          "Total Sales Tax Collections TX",
          "Retail Gasoline Price TX",
          "Nonfarm Employment Illinois",
          "Nonfarm Employment Florida",
          "Nonfarm Employment New York",
          "Nonfarm Employment Texas",
          "Nonfarm Employment California",
          "Gross Value Crude Oil Production",
          "Gross Value Natural Gas Production",
          "Motor Fuel Taxed Gasoline",
          "Motor Fuel Taxed Diesel",
          "driving_alone_population",
          "female_45_to_49",
          "female_21",
          "housing_units_20_to_49_units",
          "female_25_to_29",
          "female_30_to_34",
          "hispanic_pop_annual_pct_change",
          "high_school_diploma_annual_pct_change",
          "female_45_to_49_annual_pct_change",
          "female_75_to_79_annual_pct_change",
          "median_household_income_annual_pct_change",
          "female_50_to_54_annual_pct_change",
          "housing_units_built_1980_to_1989_annual_pct_change",
          "female_35_to_39_annual_pct_change",
          "units_paying_cash_rent_annual_pct_change",
          "housing_units_single_family_attached_annual_pct_change",
          "female_40_to_44_annual_pct_change",
          "single_women_annual_pct_change",
          "housing_units_over_50_units_annual_pct_change",
          "housing_units_built_1960_to_1969_annual_pct_change",
          "sales_tax_rate",
          "per_diff_total_sales_tax"
         ],
         "categoryorder": "array",
         "domain": [
          0,
          1
         ],
         "title": {
          "text": "feature"
         }
        },
        "yaxis": {
         "anchor": "x",
         "domain": [
          0,
          1
         ],
         "title": {
          "text": "importance"
         }
        }
       }
      },
      "text/html": [
       "<div>                            <div id=\"381cf9c7-42ae-4e23-87c1-33ac652064cf\" class=\"plotly-graph-div\" style=\"height:1000px; width:3200px;\"></div>            <script type=\"text/javascript\">                require([\"plotly\"], function(Plotly) {                    window.PLOTLYENV=window.PLOTLYENV || {};                                    if (document.getElementById(\"381cf9c7-42ae-4e23-87c1-33ac652064cf\")) {                    Plotly.newPlot(                        \"381cf9c7-42ae-4e23-87c1-33ac652064cf\",                        [{\"alignmentgroup\": \"True\", \"hovertemplate\": \"feature=%{x}<br>importance=%{y}<extra></extra>\", \"legendgroup\": \"quintile_3_upper_limit\", \"marker\": {\"color\": \"#636efa\"}, \"name\": \"quintile_3_upper_limit\", \"offsetgroup\": \"quintile_3_upper_limit\", \"orientation\": \"v\", \"showlegend\": true, \"textposition\": \"auto\", \"type\": \"bar\", \"x\": [\"quintile_3_upper_limit\"], \"xaxis\": \"x\", \"y\": [0.05860831215977669], \"yaxis\": \"y\"}, {\"alignmentgroup\": \"True\", \"hovertemplate\": \"feature=%{x}<br>importance=%{y}<extra></extra>\", \"legendgroup\": \"black_pop\", \"marker\": {\"color\": \"#EF553B\"}, \"name\": \"black_pop\", \"offsetgroup\": \"black_pop\", \"orientation\": \"v\", \"showlegend\": true, \"textposition\": \"auto\", \"type\": \"bar\", \"x\": [\"black_pop\"], \"xaxis\": \"x\", \"y\": [0.04974297434091568], \"yaxis\": \"y\"}, {\"alignmentgroup\": \"True\", \"hovertemplate\": \"feature=%{x}<br>importance=%{y}<extra></extra>\", \"legendgroup\": \"average_household_size_owners\", \"marker\": {\"color\": \"#00cc96\"}, \"name\": \"average_household_size_owners\", \"offsetgroup\": \"average_household_size_owners\", \"orientation\": \"v\", \"showlegend\": true, \"textposition\": \"auto\", \"type\": \"bar\", \"x\": [\"average_household_size_owners\"], \"xaxis\": \"x\", \"y\": [0.022997040301561356], \"yaxis\": \"y\"}, {\"alignmentgroup\": \"True\", \"hovertemplate\": \"feature=%{x}<br>importance=%{y}<extra></extra>\", \"legendgroup\": \"Total Sales Tax Collections Retail TX\", \"marker\": {\"color\": \"#ab63fa\"}, \"name\": \"Total Sales Tax Collections Retail TX\", \"offsetgroup\": \"Total Sales Tax Collections Retail TX\", \"orientation\": \"v\", \"showlegend\": true, \"textposition\": \"auto\", \"type\": \"bar\", \"x\": [\"Total Sales Tax Collections Retail TX\"], \"xaxis\": \"x\", \"y\": [0.020849978551268578], \"yaxis\": \"y\"}, {\"alignmentgroup\": \"True\", \"hovertemplate\": \"feature=%{x}<br>importance=%{y}<extra></extra>\", \"legendgroup\": \"maxtempC\", \"marker\": {\"color\": \"#FFA15A\"}, \"name\": \"maxtempC\", \"offsetgroup\": \"maxtempC\", \"orientation\": \"v\", \"showlegend\": true, \"textposition\": \"auto\", \"type\": \"bar\", \"x\": [\"maxtempC\"], \"xaxis\": \"x\", \"y\": [0.01793123409152031], \"yaxis\": \"y\"}, {\"alignmentgroup\": \"True\", \"hovertemplate\": \"feature=%{x}<br>importance=%{y}<extra></extra>\", \"legendgroup\": \"quintile_3_upper_limit_annual_pct_change\", \"marker\": {\"color\": \"#19d3f3\"}, \"name\": \"quintile_3_upper_limit_annual_pct_change\", \"offsetgroup\": \"quintile_3_upper_limit_annual_pct_change\", \"orientation\": \"v\", \"showlegend\": true, \"textposition\": \"auto\", \"type\": \"bar\", \"x\": [\"quintile_3_upper_limit_annual_pct_change\"], \"xaxis\": \"x\", \"y\": [0.017879391089081764], \"yaxis\": \"y\"}, {\"alignmentgroup\": \"True\", \"hovertemplate\": \"feature=%{x}<br>importance=%{y}<extra></extra>\", \"legendgroup\": \"precipMM\", \"marker\": {\"color\": \"#FF6692\"}, \"name\": \"precipMM\", \"offsetgroup\": \"precipMM\", \"orientation\": \"v\", \"showlegend\": true, \"textposition\": \"auto\", \"type\": \"bar\", \"x\": [\"precipMM\"], \"xaxis\": \"x\", \"y\": [0.01664985902607441], \"yaxis\": \"y\"}, {\"alignmentgroup\": \"True\", \"hovertemplate\": \"feature=%{x}<br>importance=%{y}<extra></extra>\", \"legendgroup\": \"children\", \"marker\": {\"color\": \"#B6E880\"}, \"name\": \"children\", \"offsetgroup\": \"children\", \"orientation\": \"v\", \"showlegend\": true, \"textposition\": \"auto\", \"type\": \"bar\", \"x\": [\"children\"], \"xaxis\": \"x\", \"y\": [0.01612747833132744], \"yaxis\": \"y\"}, {\"alignmentgroup\": \"True\", \"hovertemplate\": \"feature=%{x}<br>importance=%{y}<extra></extra>\", \"legendgroup\": \"quintile_4_upper_limit\", \"marker\": {\"color\": \"#FF97FF\"}, \"name\": \"quintile_4_upper_limit\", \"offsetgroup\": \"quintile_4_upper_limit\", \"orientation\": \"v\", \"showlegend\": true, \"textposition\": \"auto\", \"type\": \"bar\", \"x\": [\"quintile_4_upper_limit\"], \"xaxis\": \"x\", \"y\": [0.016018914058804512], \"yaxis\": \"y\"}, {\"alignmentgroup\": \"True\", \"hovertemplate\": \"feature=%{x}<br>importance=%{y}<extra></extra>\", \"legendgroup\": \"median_household_income\", \"marker\": {\"color\": \"#FECB52\"}, \"name\": \"median_household_income\", \"offsetgroup\": \"median_household_income\", \"orientation\": \"v\", \"showlegend\": true, \"textposition\": \"auto\", \"type\": \"bar\", \"x\": [\"median_household_income\"], \"xaxis\": \"x\", \"y\": [0.015980366617441177], \"yaxis\": \"y\"}, {\"alignmentgroup\": \"True\", \"hovertemplate\": \"feature=%{x}<br>importance=%{y}<extra></extra>\", \"legendgroup\": \"housing_units_10_to_19_units\", \"marker\": {\"color\": \"#636efa\"}, \"name\": \"housing_units_10_to_19_units\", \"offsetgroup\": \"housing_units_10_to_19_units\", \"orientation\": \"v\", \"showlegend\": true, \"textposition\": \"auto\", \"type\": \"bar\", \"x\": [\"housing_units_10_to_19_units\"], \"xaxis\": \"x\", \"y\": [0.015438640490174294], \"yaxis\": \"y\"}, {\"alignmentgroup\": \"True\", \"hovertemplate\": \"feature=%{x}<br>importance=%{y}<extra></extra>\", \"legendgroup\": \"walking_to_work_population\", \"marker\": {\"color\": \"#EF553B\"}, \"name\": \"walking_to_work_population\", \"offsetgroup\": \"walking_to_work_population\", \"orientation\": \"v\", \"showlegend\": true, \"textposition\": \"auto\", \"type\": \"bar\", \"x\": [\"walking_to_work_population\"], \"xaxis\": \"x\", \"y\": [0.014096463099122047], \"yaxis\": \"y\"}, {\"alignmentgroup\": \"True\", \"hovertemplate\": \"feature=%{x}<br>importance=%{y}<extra></extra>\", \"legendgroup\": \"women_with_associate_degree\", \"marker\": {\"color\": \"#00cc96\"}, \"name\": \"women_with_associate_degree\", \"offsetgroup\": \"women_with_associate_degree\", \"orientation\": \"v\", \"showlegend\": true, \"textposition\": \"auto\", \"type\": \"bar\", \"x\": [\"women_with_associate_degree\"], \"xaxis\": \"x\", \"y\": [0.013658596202731133], \"yaxis\": \"y\"}, {\"alignmentgroup\": \"True\", \"hovertemplate\": \"feature=%{x}<br>importance=%{y}<extra></extra>\", \"legendgroup\": \"housing_units_built_1940_to_1949_annual_pct_change\", \"marker\": {\"color\": \"#ab63fa\"}, \"name\": \"housing_units_built_1940_to_1949_annual_pct_change\", \"offsetgroup\": \"housing_units_built_1940_to_1949_annual_pct_change\", \"orientation\": \"v\", \"showlegend\": true, \"textposition\": \"auto\", \"type\": \"bar\", \"x\": [\"housing_units_built_1940_to_1949_annual_pct_change\"], \"xaxis\": \"x\", \"y\": [0.013647063635289669], \"yaxis\": \"y\"}, {\"alignmentgroup\": \"True\", \"hovertemplate\": \"feature=%{x}<br>importance=%{y}<extra></extra>\", \"legendgroup\": \"armed_forces\", \"marker\": {\"color\": \"#FFA15A\"}, \"name\": \"armed_forces\", \"offsetgroup\": \"armed_forces\", \"orientation\": \"v\", \"showlegend\": true, \"textposition\": \"auto\", \"type\": \"bar\", \"x\": [\"armed_forces\"], \"xaxis\": \"x\", \"y\": [0.012050842866301537], \"yaxis\": \"y\"}, {\"alignmentgroup\": \"True\", \"hovertemplate\": \"feature=%{x}<br>importance=%{y}<extra></extra>\", \"legendgroup\": \"housing_units_built_1950_to_1959_annual_pct_change\", \"marker\": {\"color\": \"#19d3f3\"}, \"name\": \"housing_units_built_1950_to_1959_annual_pct_change\", \"offsetgroup\": \"housing_units_built_1950_to_1959_annual_pct_change\", \"orientation\": \"v\", \"showlegend\": true, \"textposition\": \"auto\", \"type\": \"bar\", \"x\": [\"housing_units_built_1950_to_1959_annual_pct_change\"], \"xaxis\": \"x\", \"y\": [0.011848324909806252], \"yaxis\": \"y\"}, {\"alignmentgroup\": \"True\", \"hovertemplate\": \"feature=%{x}<br>importance=%{y}<extra></extra>\", \"legendgroup\": \"housing_units_single_family_attached_owned_annual_pct_change\", \"marker\": {\"color\": \"#FF6692\"}, \"name\": \"housing_units_single_family_attached_owned_annual_pct_change\", \"offsetgroup\": \"housing_units_single_family_attached_owned_annual_pct_change\", \"orientation\": \"v\", \"showlegend\": true, \"textposition\": \"auto\", \"type\": \"bar\", \"x\": [\"housing_units_single_family_attached_owned_annual_pct_change\"], \"xaxis\": \"x\", \"y\": [0.01116484496742487], \"yaxis\": \"y\"}, {\"alignmentgroup\": \"True\", \"hovertemplate\": \"feature=%{x}<br>importance=%{y}<extra></extra>\", \"legendgroup\": \"mintempC\", \"marker\": {\"color\": \"#B6E880\"}, \"name\": \"mintempC\", \"offsetgroup\": \"mintempC\", \"orientation\": \"v\", \"showlegend\": true, \"textposition\": \"auto\", \"type\": \"bar\", \"x\": [\"mintempC\"], \"xaxis\": \"x\", \"y\": [0.010212235152721405], \"yaxis\": \"y\"}, {\"alignmentgroup\": \"True\", \"hovertemplate\": \"feature=%{x}<br>importance=%{y}<extra></extra>\", \"legendgroup\": \"housing_units_built_1930_to_1939\", \"marker\": {\"color\": \"#FF97FF\"}, \"name\": \"housing_units_built_1930_to_1939\", \"offsetgroup\": \"housing_units_built_1930_to_1939\", \"orientation\": \"v\", \"showlegend\": true, \"textposition\": \"auto\", \"type\": \"bar\", \"x\": [\"housing_units_built_1930_to_1939\"], \"xaxis\": \"x\", \"y\": [0.010170377790927887], \"yaxis\": \"y\"}, {\"alignmentgroup\": \"True\", \"hovertemplate\": \"feature=%{x}<br>importance=%{y}<extra></extra>\", \"legendgroup\": \"housing_units_built_1930_to_1939_annual_pct_change\", \"marker\": {\"color\": \"#FECB52\"}, \"name\": \"housing_units_built_1930_to_1939_annual_pct_change\", \"offsetgroup\": \"housing_units_built_1930_to_1939_annual_pct_change\", \"orientation\": \"v\", \"showlegend\": true, \"textposition\": \"auto\", \"type\": \"bar\", \"x\": [\"housing_units_built_1930_to_1939_annual_pct_change\"], \"xaxis\": \"x\", \"y\": [0.009659593924880028], \"yaxis\": \"y\"}, {\"alignmentgroup\": \"True\", \"hovertemplate\": \"feature=%{x}<br>importance=%{y}<extra></extra>\", \"legendgroup\": \"female_35_to_39\", \"marker\": {\"color\": \"#636efa\"}, \"name\": \"female_35_to_39\", \"offsetgroup\": \"female_35_to_39\", \"orientation\": \"v\", \"showlegend\": true, \"textposition\": \"auto\", \"type\": \"bar\", \"x\": [\"female_35_to_39\"], \"xaxis\": \"x\", \"y\": [0.009518187493085861], \"yaxis\": \"y\"}, {\"alignmentgroup\": \"True\", \"hovertemplate\": \"feature=%{x}<br>importance=%{y}<extra></extra>\", \"legendgroup\": \"hispanic_pop\", \"marker\": {\"color\": \"#EF553B\"}, \"name\": \"hispanic_pop\", \"offsetgroup\": \"hispanic_pop\", \"orientation\": \"v\", \"showlegend\": true, \"textposition\": \"auto\", \"type\": \"bar\", \"x\": [\"hispanic_pop\"], \"xaxis\": \"x\", \"y\": [0.00874983612447977], \"yaxis\": \"y\"}, {\"alignmentgroup\": \"True\", \"hovertemplate\": \"feature=%{x}<br>importance=%{y}<extra></extra>\", \"legendgroup\": \"housing_units_built_1980_to_1989\", \"marker\": {\"color\": \"#00cc96\"}, \"name\": \"housing_units_built_1980_to_1989\", \"offsetgroup\": \"housing_units_built_1980_to_1989\", \"orientation\": \"v\", \"showlegend\": true, \"textposition\": \"auto\", \"type\": \"bar\", \"x\": [\"housing_units_built_1980_to_1989\"], \"xaxis\": \"x\", \"y\": [0.008596017956733704], \"yaxis\": \"y\"}, {\"alignmentgroup\": \"True\", \"hovertemplate\": \"feature=%{x}<br>importance=%{y}<extra></extra>\", \"legendgroup\": \"white_pop_annual_pct_change\", \"marker\": {\"color\": \"#ab63fa\"}, \"name\": \"white_pop_annual_pct_change\", \"offsetgroup\": \"white_pop_annual_pct_change\", \"orientation\": \"v\", \"showlegend\": true, \"textposition\": \"auto\", \"type\": \"bar\", \"x\": [\"white_pop_annual_pct_change\"], \"xaxis\": \"x\", \"y\": [0.008564049378037453], \"yaxis\": \"y\"}, {\"alignmentgroup\": \"True\", \"hovertemplate\": \"feature=%{x}<br>importance=%{y}<extra></extra>\", \"legendgroup\": \"housing_units_built_1990_to_1999_annual_pct_change\", \"marker\": {\"color\": \"#FFA15A\"}, \"name\": \"housing_units_built_1990_to_1999_annual_pct_change\", \"offsetgroup\": \"housing_units_built_1990_to_1999_annual_pct_change\", \"orientation\": \"v\", \"showlegend\": true, \"textposition\": \"auto\", \"type\": \"bar\", \"x\": [\"housing_units_built_1990_to_1999_annual_pct_change\"], \"xaxis\": \"x\", \"y\": [0.008416456170380116], \"yaxis\": \"y\"}, {\"alignmentgroup\": \"True\", \"hovertemplate\": \"feature=%{x}<br>importance=%{y}<extra></extra>\", \"legendgroup\": \"housing_units_5_to_9_units\", \"marker\": {\"color\": \"#19d3f3\"}, \"name\": \"housing_units_5_to_9_units\", \"offsetgroup\": \"housing_units_5_to_9_units\", \"orientation\": \"v\", \"showlegend\": true, \"textposition\": \"auto\", \"type\": \"bar\", \"x\": [\"housing_units_5_to_9_units\"], \"xaxis\": \"x\", \"y\": [0.008099926635622978], \"yaxis\": \"y\"}, {\"alignmentgroup\": \"True\", \"hovertemplate\": \"feature=%{x}<br>importance=%{y}<extra></extra>\", \"legendgroup\": \"female_50_to_54\", \"marker\": {\"color\": \"#FF6692\"}, \"name\": \"female_50_to_54\", \"offsetgroup\": \"female_50_to_54\", \"orientation\": \"v\", \"showlegend\": true, \"textposition\": \"auto\", \"type\": \"bar\", \"x\": [\"female_50_to_54\"], \"xaxis\": \"x\", \"y\": [0.00806521438062191], \"yaxis\": \"y\"}, {\"alignmentgroup\": \"True\", \"hovertemplate\": \"feature=%{x}<br>importance=%{y}<extra></extra>\", \"legendgroup\": \"housing_units_built_1950_to_1959\", \"marker\": {\"color\": \"#B6E880\"}, \"name\": \"housing_units_built_1950_to_1959\", \"offsetgroup\": \"housing_units_built_1950_to_1959\", \"orientation\": \"v\", \"showlegend\": true, \"textposition\": \"auto\", \"type\": \"bar\", \"x\": [\"housing_units_built_1950_to_1959\"], \"xaxis\": \"x\", \"y\": [0.0078109633177518845], \"yaxis\": \"y\"}, {\"alignmentgroup\": \"True\", \"hovertemplate\": \"feature=%{x}<br>importance=%{y}<extra></extra>\", \"legendgroup\": \"rent_search_interest\", \"marker\": {\"color\": \"#FF97FF\"}, \"name\": \"rent_search_interest\", \"offsetgroup\": \"rent_search_interest\", \"orientation\": \"v\", \"showlegend\": true, \"textposition\": \"auto\", \"type\": \"bar\", \"x\": [\"rent_search_interest\"], \"xaxis\": \"x\", \"y\": [0.007553431671112776], \"yaxis\": \"y\"}, {\"alignmentgroup\": \"True\", \"hovertemplate\": \"feature=%{x}<br>importance=%{y}<extra></extra>\", \"legendgroup\": \"female_21_annual_pct_change\", \"marker\": {\"color\": \"#FECB52\"}, \"name\": \"female_21_annual_pct_change\", \"offsetgroup\": \"female_21_annual_pct_change\", \"orientation\": \"v\", \"showlegend\": true, \"textposition\": \"auto\", \"type\": \"bar\", \"x\": [\"female_21_annual_pct_change\"], \"xaxis\": \"x\", \"y\": [0.006993977818638086], \"yaxis\": \"y\"}, {\"alignmentgroup\": \"True\", \"hovertemplate\": \"feature=%{x}<br>importance=%{y}<extra></extra>\", \"legendgroup\": \"quintile_1_upper_limit\", \"marker\": {\"color\": \"#636efa\"}, \"name\": \"quintile_1_upper_limit\", \"offsetgroup\": \"quintile_1_upper_limit\", \"orientation\": \"v\", \"showlegend\": true, \"textposition\": \"auto\", \"type\": \"bar\", \"x\": [\"quintile_1_upper_limit\"], \"xaxis\": \"x\", \"y\": [0.0069687701761722565], \"yaxis\": \"y\"}, {\"alignmentgroup\": \"True\", \"hovertemplate\": \"feature=%{x}<br>importance=%{y}<extra></extra>\", \"legendgroup\": \"quintile_1_upper_limit_annual_pct_change\", \"marker\": {\"color\": \"#EF553B\"}, \"name\": \"quintile_1_upper_limit_annual_pct_change\", \"offsetgroup\": \"quintile_1_upper_limit_annual_pct_change\", \"orientation\": \"v\", \"showlegend\": true, \"textposition\": \"auto\", \"type\": \"bar\", \"x\": [\"quintile_1_upper_limit_annual_pct_change\"], \"xaxis\": \"x\", \"y\": [0.00679415138438344], \"yaxis\": \"y\"}, {\"alignmentgroup\": \"True\", \"hovertemplate\": \"feature=%{x}<br>importance=%{y}<extra></extra>\", \"legendgroup\": \"delta_monthly_avg_gas_price\", \"marker\": {\"color\": \"#00cc96\"}, \"name\": \"delta_monthly_avg_gas_price\", \"offsetgroup\": \"delta_monthly_avg_gas_price\", \"orientation\": \"v\", \"showlegend\": true, \"textposition\": \"auto\", \"type\": \"bar\", \"x\": [\"delta_monthly_avg_gas_price\"], \"xaxis\": \"x\", \"y\": [0.006612416356801987], \"yaxis\": \"y\"}, {\"alignmentgroup\": \"True\", \"hovertemplate\": \"feature=%{x}<br>importance=%{y}<extra></extra>\", \"legendgroup\": \"high_school_diploma\", \"marker\": {\"color\": \"#ab63fa\"}, \"name\": \"high_school_diploma\", \"offsetgroup\": \"high_school_diploma\", \"orientation\": \"v\", \"showlegend\": true, \"textposition\": \"auto\", \"type\": \"bar\", \"x\": [\"high_school_diploma\"], \"xaxis\": \"x\", \"y\": [0.006399800069630146], \"yaxis\": \"y\"}, {\"alignmentgroup\": \"True\", \"hovertemplate\": \"feature=%{x}<br>importance=%{y}<extra></extra>\", \"legendgroup\": \"women_with_doctoral_degree_annual_pct_change\", \"marker\": {\"color\": \"#FFA15A\"}, \"name\": \"women_with_doctoral_degree_annual_pct_change\", \"offsetgroup\": \"women_with_doctoral_degree_annual_pct_change\", \"orientation\": \"v\", \"showlegend\": true, \"textposition\": \"auto\", \"type\": \"bar\", \"x\": [\"women_with_doctoral_degree_annual_pct_change\"], \"xaxis\": \"x\", \"y\": [0.00636095367372036], \"yaxis\": \"y\"}, {\"alignmentgroup\": \"True\", \"hovertemplate\": \"feature=%{x}<br>importance=%{y}<extra></extra>\", \"legendgroup\": \"female_75_to_79\", \"marker\": {\"color\": \"#19d3f3\"}, \"name\": \"female_75_to_79\", \"offsetgroup\": \"female_75_to_79\", \"orientation\": \"v\", \"showlegend\": true, \"textposition\": \"auto\", \"type\": \"bar\", \"x\": [\"female_75_to_79\"], \"xaxis\": \"x\", \"y\": [0.006097426638007164], \"yaxis\": \"y\"}, {\"alignmentgroup\": \"True\", \"hovertemplate\": \"feature=%{x}<br>importance=%{y}<extra></extra>\", \"legendgroup\": \"children_annual_pct_change\", \"marker\": {\"color\": \"#FF6692\"}, \"name\": \"children_annual_pct_change\", \"offsetgroup\": \"children_annual_pct_change\", \"orientation\": \"v\", \"showlegend\": true, \"textposition\": \"auto\", \"type\": \"bar\", \"x\": [\"children_annual_pct_change\"], \"xaxis\": \"x\", \"y\": [0.005968676880002022], \"yaxis\": \"y\"}, {\"alignmentgroup\": \"True\", \"hovertemplate\": \"feature=%{x}<br>importance=%{y}<extra></extra>\", \"legendgroup\": \"housing_units_over_50_units\", \"marker\": {\"color\": \"#B6E880\"}, \"name\": \"housing_units_over_50_units\", \"offsetgroup\": \"housing_units_over_50_units\", \"orientation\": \"v\", \"showlegend\": true, \"textposition\": \"auto\", \"type\": \"bar\", \"x\": [\"housing_units_over_50_units\"], \"xaxis\": \"x\", \"y\": [0.005857274867594242], \"yaxis\": \"y\"}, {\"alignmentgroup\": \"True\", \"hovertemplate\": \"feature=%{x}<br>importance=%{y}<extra></extra>\", \"legendgroup\": \"average_household_size_owners_annual_pct_change\", \"marker\": {\"color\": \"#FF97FF\"}, \"name\": \"average_household_size_owners_annual_pct_change\", \"offsetgroup\": \"average_household_size_owners_annual_pct_change\", \"orientation\": \"v\", \"showlegend\": true, \"textposition\": \"auto\", \"type\": \"bar\", \"x\": [\"average_household_size_owners_annual_pct_change\"], \"xaxis\": \"x\", \"y\": [0.0058485656045377254], \"yaxis\": \"y\"}, {\"alignmentgroup\": \"True\", \"hovertemplate\": \"feature=%{x}<br>importance=%{y}<extra></extra>\", \"legendgroup\": \"total_sales_tax\", \"marker\": {\"color\": \"#FECB52\"}, \"name\": \"total_sales_tax\", \"offsetgroup\": \"total_sales_tax\", \"orientation\": \"v\", \"showlegend\": true, \"textposition\": \"auto\", \"type\": \"bar\", \"x\": [\"total_sales_tax\"], \"xaxis\": \"x\", \"y\": [0.0058224075473845005], \"yaxis\": \"y\"}, {\"alignmentgroup\": \"True\", \"hovertemplate\": \"feature=%{x}<br>importance=%{y}<extra></extra>\", \"legendgroup\": \"housing_units_built_1970_to_1979\", \"marker\": {\"color\": \"#636efa\"}, \"name\": \"housing_units_built_1970_to_1979\", \"offsetgroup\": \"housing_units_built_1970_to_1979\", \"orientation\": \"v\", \"showlegend\": true, \"textposition\": \"auto\", \"type\": \"bar\", \"x\": [\"housing_units_built_1970_to_1979\"], \"xaxis\": \"x\", \"y\": [0.005738377571105957], \"yaxis\": \"y\"}, {\"alignmentgroup\": \"True\", \"hovertemplate\": \"feature=%{x}<br>importance=%{y}<extra></extra>\", \"legendgroup\": \"black_pop_annual_pct_change\", \"marker\": {\"color\": \"#EF553B\"}, \"name\": \"black_pop_annual_pct_change\", \"offsetgroup\": \"black_pop_annual_pct_change\", \"orientation\": \"v\", \"showlegend\": true, \"textposition\": \"auto\", \"type\": \"bar\", \"x\": [\"black_pop_annual_pct_change\"], \"xaxis\": \"x\", \"y\": [0.005159836728125811], \"yaxis\": \"y\"}, {\"alignmentgroup\": \"True\", \"hovertemplate\": \"feature=%{x}<br>importance=%{y}<extra></extra>\", \"legendgroup\": \"quintile_2_upper_limit\", \"marker\": {\"color\": \"#00cc96\"}, \"name\": \"quintile_2_upper_limit\", \"offsetgroup\": \"quintile_2_upper_limit\", \"orientation\": \"v\", \"showlegend\": true, \"textposition\": \"auto\", \"type\": \"bar\", \"x\": [\"quintile_2_upper_limit\"], \"xaxis\": \"x\", \"y\": [0.005150185897946358], \"yaxis\": \"y\"}, {\"alignmentgroup\": \"True\", \"hovertemplate\": \"feature=%{x}<br>importance=%{y}<extra></extra>\", \"legendgroup\": \"outlet_org_type_cl\", \"marker\": {\"color\": \"#ab63fa\"}, \"name\": \"outlet_org_type_cl\", \"offsetgroup\": \"outlet_org_type_cl\", \"orientation\": \"v\", \"showlegend\": true, \"textposition\": \"auto\", \"type\": \"bar\", \"x\": [\"outlet_org_type_cl\"], \"xaxis\": \"x\", \"y\": [0.005069822072982788], \"yaxis\": \"y\"}, {\"alignmentgroup\": \"True\", \"hovertemplate\": \"feature=%{x}<br>importance=%{y}<extra></extra>\", \"legendgroup\": \"housing_units_single_family_attached_owned\", \"marker\": {\"color\": \"#FFA15A\"}, \"name\": \"housing_units_single_family_attached_owned\", \"offsetgroup\": \"housing_units_single_family_attached_owned\", \"orientation\": \"v\", \"showlegend\": true, \"textposition\": \"auto\", \"type\": \"bar\", \"x\": [\"housing_units_single_family_attached_owned\"], \"xaxis\": \"x\", \"y\": [0.004978089593350887], \"yaxis\": \"y\"}, {\"alignmentgroup\": \"True\", \"hovertemplate\": \"feature=%{x}<br>importance=%{y}<extra></extra>\", \"legendgroup\": \"Consumer Price Index TX\", \"marker\": {\"color\": \"#19d3f3\"}, \"name\": \"Consumer Price Index TX\", \"offsetgroup\": \"Consumer Price Index TX\", \"orientation\": \"v\", \"showlegend\": true, \"textposition\": \"auto\", \"type\": \"bar\", \"x\": [\"Consumer Price Index TX\"], \"xaxis\": \"x\", \"y\": [0.004625285509973764], \"yaxis\": \"y\"}, {\"alignmentgroup\": \"True\", \"hovertemplate\": \"feature=%{x}<br>importance=%{y}<extra></extra>\", \"legendgroup\": \"housing_units_10_to_19_units_annual_pct_change\", \"marker\": {\"color\": \"#FF6692\"}, \"name\": \"housing_units_10_to_19_units_annual_pct_change\", \"offsetgroup\": \"housing_units_10_to_19_units_annual_pct_change\", \"orientation\": \"v\", \"showlegend\": true, \"textposition\": \"auto\", \"type\": \"bar\", \"x\": [\"housing_units_10_to_19_units_annual_pct_change\"], \"xaxis\": \"x\", \"y\": [0.004437839146703482], \"yaxis\": \"y\"}, {\"alignmentgroup\": \"True\", \"hovertemplate\": \"feature=%{x}<br>importance=%{y}<extra></extra>\", \"legendgroup\": \"bicycle_population\", \"marker\": {\"color\": \"#B6E880\"}, \"name\": \"bicycle_population\", \"offsetgroup\": \"bicycle_population\", \"orientation\": \"v\", \"showlegend\": true, \"textposition\": \"auto\", \"type\": \"bar\", \"x\": [\"bicycle_population\"], \"xaxis\": \"x\", \"y\": [0.004169768188148737], \"yaxis\": \"y\"}, {\"alignmentgroup\": \"True\", \"hovertemplate\": \"feature=%{x}<br>importance=%{y}<extra></extra>\", \"legendgroup\": \"single_women\", \"marker\": {\"color\": \"#FF97FF\"}, \"name\": \"single_women\", \"offsetgroup\": \"single_women\", \"orientation\": \"v\", \"showlegend\": true, \"textposition\": \"auto\", \"type\": \"bar\", \"x\": [\"single_women\"], \"xaxis\": \"x\", \"y\": [0.0040879398584365845], \"yaxis\": \"y\"}, {\"alignmentgroup\": \"True\", \"hovertemplate\": \"feature=%{x}<br>importance=%{y}<extra></extra>\", \"legendgroup\": \"Existing Single Family Home Price TX\", \"marker\": {\"color\": \"#FECB52\"}, \"name\": \"Existing Single Family Home Price TX\", \"offsetgroup\": \"Existing Single Family Home Price TX\", \"orientation\": \"v\", \"showlegend\": true, \"textposition\": \"auto\", \"type\": \"bar\", \"x\": [\"Existing Single Family Home Price TX\"], \"xaxis\": \"x\", \"y\": [0.004039387684315443], \"yaxis\": \"y\"}, {\"alignmentgroup\": \"True\", \"hovertemplate\": \"feature=%{x}<br>importance=%{y}<extra></extra>\", \"legendgroup\": \"housing_units_built_1940_to_1949\", \"marker\": {\"color\": \"#636efa\"}, \"name\": \"housing_units_built_1940_to_1949\", \"offsetgroup\": \"housing_units_built_1940_to_1949\", \"orientation\": \"v\", \"showlegend\": true, \"textposition\": \"auto\", \"type\": \"bar\", \"x\": [\"housing_units_built_1940_to_1949\"], \"xaxis\": \"x\", \"y\": [0.004001094028353691], \"yaxis\": \"y\"}, {\"alignmentgroup\": \"True\", \"hovertemplate\": \"feature=%{x}<br>importance=%{y}<extra></extra>\", \"legendgroup\": \"units_paying_cash_rent\", \"marker\": {\"color\": \"#EF553B\"}, \"name\": \"units_paying_cash_rent\", \"offsetgroup\": \"units_paying_cash_rent\", \"orientation\": \"v\", \"showlegend\": true, \"textposition\": \"auto\", \"type\": \"bar\", \"x\": [\"units_paying_cash_rent\"], \"xaxis\": \"x\", \"y\": [0.003909524064511061], \"yaxis\": \"y\"}, {\"alignmentgroup\": \"True\", \"hovertemplate\": \"feature=%{x}<br>importance=%{y}<extra></extra>\", \"legendgroup\": \"rent_search_4_period_rsi\", \"marker\": {\"color\": \"#00cc96\"}, \"name\": \"rent_search_4_period_rsi\", \"offsetgroup\": \"rent_search_4_period_rsi\", \"orientation\": \"v\", \"showlegend\": true, \"textposition\": \"auto\", \"type\": \"bar\", \"x\": [\"rent_search_4_period_rsi\"], \"xaxis\": \"x\", \"y\": [0.003250484587624669], \"yaxis\": \"y\"}, {\"alignmentgroup\": \"True\", \"hovertemplate\": \"feature=%{x}<br>importance=%{y}<extra></extra>\", \"legendgroup\": \"housing_units_built_1970_to_1979_annual_pct_change\", \"marker\": {\"color\": \"#ab63fa\"}, \"name\": \"housing_units_built_1970_to_1979_annual_pct_change\", \"offsetgroup\": \"housing_units_built_1970_to_1979_annual_pct_change\", \"orientation\": \"v\", \"showlegend\": true, \"textposition\": \"auto\", \"type\": \"bar\", \"x\": [\"housing_units_built_1970_to_1979_annual_pct_change\"], \"xaxis\": \"x\", \"y\": [0.0031572580337524414], \"yaxis\": \"y\"}, {\"alignmentgroup\": \"True\", \"hovertemplate\": \"feature=%{x}<br>importance=%{y}<extra></extra>\", \"legendgroup\": \"men_with_bachelors_degree_annual_pct_change\", \"marker\": {\"color\": \"#FFA15A\"}, \"name\": \"men_with_bachelors_degree_annual_pct_change\", \"offsetgroup\": \"men_with_bachelors_degree_annual_pct_change\", \"orientation\": \"v\", \"showlegend\": true, \"textposition\": \"auto\", \"type\": \"bar\", \"x\": [\"men_with_bachelors_degree_annual_pct_change\"], \"xaxis\": \"x\", \"y\": [0.0030276053585112095], \"yaxis\": \"y\"}, {\"alignmentgroup\": \"True\", \"hovertemplate\": \"feature=%{x}<br>importance=%{y}<extra></extra>\", \"legendgroup\": \"walking_to_work_population_annual_pct_change\", \"marker\": {\"color\": \"#19d3f3\"}, \"name\": \"walking_to_work_population_annual_pct_change\", \"offsetgroup\": \"walking_to_work_population_annual_pct_change\", \"orientation\": \"v\", \"showlegend\": true, \"textposition\": \"auto\", \"type\": \"bar\", \"x\": [\"walking_to_work_population_annual_pct_change\"], \"xaxis\": \"x\", \"y\": [0.002884048968553543], \"yaxis\": \"y\"}, {\"alignmentgroup\": \"True\", \"hovertemplate\": \"feature=%{x}<br>importance=%{y}<extra></extra>\", \"legendgroup\": \"ur\", \"marker\": {\"color\": \"#FF6692\"}, \"name\": \"ur\", \"offsetgroup\": \"ur\", \"orientation\": \"v\", \"showlegend\": true, \"textposition\": \"auto\", \"type\": \"bar\", \"x\": [\"ur\"], \"xaxis\": \"x\", \"y\": [0.0028026006184518337], \"yaxis\": \"y\"}, {\"alignmentgroup\": \"True\", \"hovertemplate\": \"feature=%{x}<br>importance=%{y}<extra></extra>\", \"legendgroup\": \"quintile_2_upper_limit_annual_pct_change\", \"marker\": {\"color\": \"#B6E880\"}, \"name\": \"quintile_2_upper_limit_annual_pct_change\", \"offsetgroup\": \"quintile_2_upper_limit_annual_pct_change\", \"orientation\": \"v\", \"showlegend\": true, \"textposition\": \"auto\", \"type\": \"bar\", \"x\": [\"quintile_2_upper_limit_annual_pct_change\"], \"xaxis\": \"x\", \"y\": [0.002767625730484724], \"yaxis\": \"y\"}, {\"alignmentgroup\": \"True\", \"hovertemplate\": \"feature=%{x}<br>importance=%{y}<extra></extra>\", \"legendgroup\": \"motorcycle_population\", \"marker\": {\"color\": \"#FF97FF\"}, \"name\": \"motorcycle_population\", \"offsetgroup\": \"motorcycle_population\", \"orientation\": \"v\", \"showlegend\": true, \"textposition\": \"auto\", \"type\": \"bar\", \"x\": [\"motorcycle_population\"], \"xaxis\": \"x\", \"y\": [0.0025216175708919764], \"yaxis\": \"y\"}, {\"alignmentgroup\": \"True\", \"hovertemplate\": \"feature=%{x}<br>importance=%{y}<extra></extra>\", \"legendgroup\": \"taxpayer_org_type_cl\", \"marker\": {\"color\": \"#FECB52\"}, \"name\": \"taxpayer_org_type_cl\", \"offsetgroup\": \"taxpayer_org_type_cl\", \"orientation\": \"v\", \"showlegend\": true, \"textposition\": \"auto\", \"type\": \"bar\", \"x\": [\"taxpayer_org_type_cl\"], \"xaxis\": \"x\", \"y\": [0.002470683539286256], \"yaxis\": \"y\"}, {\"alignmentgroup\": \"True\", \"hovertemplate\": \"feature=%{x}<br>importance=%{y}<extra></extra>\", \"legendgroup\": \"female_25_to_29_annual_pct_change\", \"marker\": {\"color\": \"#636efa\"}, \"name\": \"female_25_to_29_annual_pct_change\", \"offsetgroup\": \"female_25_to_29_annual_pct_change\", \"orientation\": \"v\", \"showlegend\": true, \"textposition\": \"auto\", \"type\": \"bar\", \"x\": [\"female_25_to_29_annual_pct_change\"], \"xaxis\": \"x\", \"y\": [0.002424461767077446], \"yaxis\": \"y\"}, {\"alignmentgroup\": \"True\", \"hovertemplate\": \"feature=%{x}<br>importance=%{y}<extra></extra>\", \"legendgroup\": \"white_pop\", \"marker\": {\"color\": \"#EF553B\"}, \"name\": \"white_pop\", \"offsetgroup\": \"white_pop\", \"orientation\": \"v\", \"showlegend\": true, \"textposition\": \"auto\", \"type\": \"bar\", \"x\": [\"white_pop\"], \"xaxis\": \"x\", \"y\": [0.0023506679572165012], \"yaxis\": \"y\"}, {\"alignmentgroup\": \"True\", \"hovertemplate\": \"feature=%{x}<br>importance=%{y}<extra></extra>\", \"legendgroup\": \"men_with_bachelors_degree\", \"marker\": {\"color\": \"#00cc96\"}, \"name\": \"men_with_bachelors_degree\", \"offsetgroup\": \"men_with_bachelors_degree\", \"orientation\": \"v\", \"showlegend\": true, \"textposition\": \"auto\", \"type\": \"bar\", \"x\": [\"men_with_bachelors_degree\"], \"xaxis\": \"x\", \"y\": [0.0022634330671280622], \"yaxis\": \"y\"}, {\"alignmentgroup\": \"True\", \"hovertemplate\": \"feature=%{x}<br>importance=%{y}<extra></extra>\", \"legendgroup\": \"outlet_non_tx_ratio\", \"marker\": {\"color\": \"#ab63fa\"}, \"name\": \"outlet_non_tx_ratio\", \"offsetgroup\": \"outlet_non_tx_ratio\", \"orientation\": \"v\", \"showlegend\": true, \"textposition\": \"auto\", \"type\": \"bar\", \"x\": [\"outlet_non_tx_ratio\"], \"xaxis\": \"x\", \"y\": [0.00222456781193614], \"yaxis\": \"y\"}, {\"alignmentgroup\": \"True\", \"hovertemplate\": \"feature=%{x}<br>importance=%{y}<extra></extra>\", \"legendgroup\": \"women_with_doctoral_degree\", \"marker\": {\"color\": \"#FFA15A\"}, \"name\": \"women_with_doctoral_degree\", \"offsetgroup\": \"women_with_doctoral_degree\", \"orientation\": \"v\", \"showlegend\": true, \"textposition\": \"auto\", \"type\": \"bar\", \"x\": [\"women_with_doctoral_degree\"], \"xaxis\": \"x\", \"y\": [0.0019642615225166082], \"yaxis\": \"y\"}, {\"alignmentgroup\": \"True\", \"hovertemplate\": \"feature=%{x}<br>importance=%{y}<extra></extra>\", \"legendgroup\": \"monthly_avg_gas_price\", \"marker\": {\"color\": \"#19d3f3\"}, \"name\": \"monthly_avg_gas_price\", \"offsetgroup\": \"monthly_avg_gas_price\", \"orientation\": \"v\", \"showlegend\": true, \"textposition\": \"auto\", \"type\": \"bar\", \"x\": [\"monthly_avg_gas_price\"], \"xaxis\": \"x\", \"y\": [0.00172111252322793], \"yaxis\": \"y\"}, {\"alignmentgroup\": \"True\", \"hovertemplate\": \"feature=%{x}<br>importance=%{y}<extra></extra>\", \"legendgroup\": \"taxpayer_cl_ratio\", \"marker\": {\"color\": \"#FF6692\"}, \"name\": \"taxpayer_cl_ratio\", \"offsetgroup\": \"taxpayer_cl_ratio\", \"orientation\": \"v\", \"showlegend\": true, \"textposition\": \"auto\", \"type\": \"bar\", \"x\": [\"taxpayer_cl_ratio\"], \"xaxis\": \"x\", \"y\": [0.001684041228145361], \"yaxis\": \"y\"}, {\"alignmentgroup\": \"True\", \"hovertemplate\": \"feature=%{x}<br>importance=%{y}<extra></extra>\", \"legendgroup\": \"Consumer Price Index U.S.\", \"marker\": {\"color\": \"#B6E880\"}, \"name\": \"Consumer Price Index U.S.\", \"offsetgroup\": \"Consumer Price Index U.S.\", \"orientation\": \"v\", \"showlegend\": true, \"textposition\": \"auto\", \"type\": \"bar\", \"x\": [\"Consumer Price Index U.S.\"], \"xaxis\": \"x\", \"y\": [0.0014819997595623136], \"yaxis\": \"y\"}, {\"alignmentgroup\": \"True\", \"hovertemplate\": \"feature=%{x}<br>importance=%{y}<extra></extra>\", \"legendgroup\": \"outlet_foreign_ratio\", \"marker\": {\"color\": \"#FF97FF\"}, \"name\": \"outlet_foreign_ratio\", \"offsetgroup\": \"outlet_foreign_ratio\", \"orientation\": \"v\", \"showlegend\": true, \"textposition\": \"auto\", \"type\": \"bar\", \"x\": [\"outlet_foreign_ratio\"], \"xaxis\": \"x\", \"y\": [0.0014007129939273], \"yaxis\": \"y\"}, {\"alignmentgroup\": \"True\", \"hovertemplate\": \"feature=%{x}<br>importance=%{y}<extra></extra>\", \"legendgroup\": \"housing_units_built_1990_to_1999\", \"marker\": {\"color\": \"#FECB52\"}, \"name\": \"housing_units_built_1990_to_1999\", \"offsetgroup\": \"housing_units_built_1990_to_1999\", \"orientation\": \"v\", \"showlegend\": true, \"textposition\": \"auto\", \"type\": \"bar\", \"x\": [\"housing_units_built_1990_to_1999\"], \"xaxis\": \"x\", \"y\": [0.0013064899249002337], \"yaxis\": \"y\"}, {\"alignmentgroup\": \"True\", \"hovertemplate\": \"feature=%{x}<br>importance=%{y}<extra></extra>\", \"legendgroup\": \"taxpayer_count\", \"marker\": {\"color\": \"#636efa\"}, \"name\": \"taxpayer_count\", \"offsetgroup\": \"taxpayer_count\", \"orientation\": \"v\", \"showlegend\": true, \"textposition\": \"auto\", \"type\": \"bar\", \"x\": [\"taxpayer_count\"], \"xaxis\": \"x\", \"y\": [0.0012888923520222306], \"yaxis\": \"y\"}, {\"alignmentgroup\": \"True\", \"hovertemplate\": \"feature=%{x}<br>importance=%{y}<extra></extra>\", \"legendgroup\": \"women_with_associate_degree_annual_pct_change\", \"marker\": {\"color\": \"#EF553B\"}, \"name\": \"women_with_associate_degree_annual_pct_change\", \"offsetgroup\": \"women_with_associate_degree_annual_pct_change\", \"orientation\": \"v\", \"showlegend\": true, \"textposition\": \"auto\", \"type\": \"bar\", \"x\": [\"women_with_associate_degree_annual_pct_change\"], \"xaxis\": \"x\", \"y\": [0.0012732004979625344], \"yaxis\": \"y\"}, {\"alignmentgroup\": \"True\", \"hovertemplate\": \"feature=%{x}<br>importance=%{y}<extra></extra>\", \"legendgroup\": \"outlet_taxpayer_non_tx\", \"marker\": {\"color\": \"#00cc96\"}, \"name\": \"outlet_taxpayer_non_tx\", \"offsetgroup\": \"outlet_taxpayer_non_tx\", \"orientation\": \"v\", \"showlegend\": true, \"textposition\": \"auto\", \"type\": \"bar\", \"x\": [\"outlet_taxpayer_non_tx\"], \"xaxis\": \"x\", \"y\": [0.0012069580843672156], \"yaxis\": \"y\"}, {\"alignmentgroup\": \"True\", \"hovertemplate\": \"feature=%{x}<br>importance=%{y}<extra></extra>\", \"legendgroup\": \"driving_alone_population_annual_pct_change\", \"marker\": {\"color\": \"#ab63fa\"}, \"name\": \"driving_alone_population_annual_pct_change\", \"offsetgroup\": \"driving_alone_population_annual_pct_change\", \"orientation\": \"v\", \"showlegend\": true, \"textposition\": \"auto\", \"type\": \"bar\", \"x\": [\"driving_alone_population_annual_pct_change\"], \"xaxis\": \"x\", \"y\": [0.001053398591466248], \"yaxis\": \"y\"}, {\"alignmentgroup\": \"True\", \"hovertemplate\": \"feature=%{x}<br>importance=%{y}<extra></extra>\", \"legendgroup\": \"female_female_households\", \"marker\": {\"color\": \"#FFA15A\"}, \"name\": \"female_female_households\", \"offsetgroup\": \"female_female_households\", \"orientation\": \"v\", \"showlegend\": true, \"textposition\": \"auto\", \"type\": \"bar\", \"x\": [\"female_female_households\"], \"xaxis\": \"x\", \"y\": [0.0009242044179700315], \"yaxis\": \"y\"}, {\"alignmentgroup\": \"True\", \"hovertemplate\": \"feature=%{x}<br>importance=%{y}<extra></extra>\", \"legendgroup\": \"female_30_to_34_annual_pct_change\", \"marker\": {\"color\": \"#19d3f3\"}, \"name\": \"female_30_to_34_annual_pct_change\", \"offsetgroup\": \"female_30_to_34_annual_pct_change\", \"orientation\": \"v\", \"showlegend\": true, \"textposition\": \"auto\", \"type\": \"bar\", \"x\": [\"female_30_to_34_annual_pct_change\"], \"xaxis\": \"x\", \"y\": [0.0009059474687092006], \"yaxis\": \"y\"}, {\"alignmentgroup\": \"True\", \"hovertemplate\": \"feature=%{x}<br>importance=%{y}<extra></extra>\", \"legendgroup\": \"outlet_is_ratio\", \"marker\": {\"color\": \"#FF6692\"}, \"name\": \"outlet_is_ratio\", \"offsetgroup\": \"outlet_is_ratio\", \"orientation\": \"v\", \"showlegend\": true, \"textposition\": \"auto\", \"type\": \"bar\", \"x\": [\"outlet_is_ratio\"], \"xaxis\": \"x\", \"y\": [0.0008968168986029923], \"yaxis\": \"y\"}, {\"alignmentgroup\": \"True\", \"hovertemplate\": \"feature=%{x}<br>importance=%{y}<extra></extra>\", \"legendgroup\": \"taxpayer_org_type_foreign\", \"marker\": {\"color\": \"#B6E880\"}, \"name\": \"taxpayer_org_type_foreign\", \"offsetgroup\": \"taxpayer_org_type_foreign\", \"orientation\": \"v\", \"showlegend\": true, \"textposition\": \"auto\", \"type\": \"bar\", \"x\": [\"taxpayer_org_type_foreign\"], \"xaxis\": \"x\", \"y\": [0.0007859574980102479], \"yaxis\": \"y\"}, {\"alignmentgroup\": \"True\", \"hovertemplate\": \"feature=%{x}<br>importance=%{y}<extra></extra>\", \"legendgroup\": \"housing_units_built_1960_to_1969\", \"marker\": {\"color\": \"#FF97FF\"}, \"name\": \"housing_units_built_1960_to_1969\", \"offsetgroup\": \"housing_units_built_1960_to_1969\", \"orientation\": \"v\", \"showlegend\": true, \"textposition\": \"auto\", \"type\": \"bar\", \"x\": [\"housing_units_built_1960_to_1969\"], \"xaxis\": \"x\", \"y\": [0.0007743215537630022], \"yaxis\": \"y\"}, {\"alignmentgroup\": \"True\", \"hovertemplate\": \"feature=%{x}<br>importance=%{y}<extra></extra>\", \"legendgroup\": \"tx_is_abt_same\", \"marker\": {\"color\": \"#FECB52\"}, \"name\": \"tx_is_abt_same\", \"offsetgroup\": \"tx_is_abt_same\", \"orientation\": \"v\", \"showlegend\": true, \"textposition\": \"auto\", \"type\": \"bar\", \"x\": [\"tx_is_abt_same\"], \"xaxis\": \"x\", \"y\": [0.000574012054130435], \"yaxis\": \"y\"}, {\"alignmentgroup\": \"True\", \"hovertemplate\": \"feature=%{x}<br>importance=%{y}<extra></extra>\", \"legendgroup\": \"housing_units_single_family_attached\", \"marker\": {\"color\": \"#636efa\"}, \"name\": \"housing_units_single_family_attached\", \"offsetgroup\": \"housing_units_single_family_attached\", \"orientation\": \"v\", \"showlegend\": true, \"textposition\": \"auto\", \"type\": \"bar\", \"x\": [\"housing_units_single_family_attached\"], \"xaxis\": \"x\", \"y\": [0.0005061723059043288], \"yaxis\": \"y\"}, {\"alignmentgroup\": \"True\", \"hovertemplate\": \"feature=%{x}<br>importance=%{y}<extra></extra>\", \"legendgroup\": \"delta_sap_case_shiller_index\", \"marker\": {\"color\": \"#EF553B\"}, \"name\": \"delta_sap_case_shiller_index\", \"offsetgroup\": \"delta_sap_case_shiller_index\", \"orientation\": \"v\", \"showlegend\": true, \"textposition\": \"auto\", \"type\": \"bar\", \"x\": [\"delta_sap_case_shiller_index\"], \"xaxis\": \"x\", \"y\": [0.0004701405414380133], \"yaxis\": \"y\"}, {\"alignmentgroup\": \"True\", \"hovertemplate\": \"feature=%{x}<br>importance=%{y}<extra></extra>\", \"legendgroup\": \"quintile_4_upper_limit_annual_pct_change\", \"marker\": {\"color\": \"#00cc96\"}, \"name\": \"quintile_4_upper_limit_annual_pct_change\", \"offsetgroup\": \"quintile_4_upper_limit_annual_pct_change\", \"orientation\": \"v\", \"showlegend\": true, \"textposition\": \"auto\", \"type\": \"bar\", \"x\": [\"quintile_4_upper_limit_annual_pct_change\"], \"xaxis\": \"x\", \"y\": [0.00036862585693597794], \"yaxis\": \"y\"}, {\"alignmentgroup\": \"True\", \"hovertemplate\": \"feature=%{x}<br>importance=%{y}<extra></extra>\", \"legendgroup\": \"housing_units_5_to_9_units_annual_pct_change\", \"marker\": {\"color\": \"#ab63fa\"}, \"name\": \"housing_units_5_to_9_units_annual_pct_change\", \"offsetgroup\": \"housing_units_5_to_9_units_annual_pct_change\", \"orientation\": \"v\", \"showlegend\": true, \"textposition\": \"auto\", \"type\": \"bar\", \"x\": [\"housing_units_5_to_9_units_annual_pct_change\"], \"xaxis\": \"x\", \"y\": [0.0003181485226377845], \"yaxis\": \"y\"}, {\"alignmentgroup\": \"True\", \"hovertemplate\": \"feature=%{x}<br>importance=%{y}<extra></extra>\", \"legendgroup\": \"Retail Diesel Price TX\", \"marker\": {\"color\": \"#FFA15A\"}, \"name\": \"Retail Diesel Price TX\", \"offsetgroup\": \"Retail Diesel Price TX\", \"orientation\": \"v\", \"showlegend\": true, \"textposition\": \"auto\", \"type\": \"bar\", \"x\": [\"Retail Diesel Price TX\"], \"xaxis\": \"x\", \"y\": [0.00030462004360742867], \"yaxis\": \"y\"}, {\"alignmentgroup\": \"True\", \"hovertemplate\": \"feature=%{x}<br>importance=%{y}<extra></extra>\", \"legendgroup\": \"female_40_to_44\", \"marker\": {\"color\": \"#19d3f3\"}, \"name\": \"female_40_to_44\", \"offsetgroup\": \"female_40_to_44\", \"orientation\": \"v\", \"showlegend\": true, \"textposition\": \"auto\", \"type\": \"bar\", \"x\": [\"female_40_to_44\"], \"xaxis\": \"x\", \"y\": [0.00029876729240641], \"yaxis\": \"y\"}, {\"alignmentgroup\": \"True\", \"hovertemplate\": \"feature=%{x}<br>importance=%{y}<extra></extra>\", \"legendgroup\": \"TNX\", \"marker\": {\"color\": \"#FF6692\"}, \"name\": \"TNX\", \"offsetgroup\": \"TNX\", \"orientation\": \"v\", \"showlegend\": true, \"textposition\": \"auto\", \"type\": \"bar\", \"x\": [\"TNX\"], \"xaxis\": \"x\", \"y\": [0.00014551229833159596], \"yaxis\": \"y\"}, {\"alignmentgroup\": \"True\", \"hovertemplate\": \"feature=%{x}<br>importance=%{y}<extra></extra>\", \"legendgroup\": \"taxpayer_is_ratio\", \"marker\": {\"color\": \"#B6E880\"}, \"name\": \"taxpayer_is_ratio\", \"offsetgroup\": \"taxpayer_is_ratio\", \"orientation\": \"v\", \"showlegend\": true, \"textposition\": \"auto\", \"type\": \"bar\", \"x\": [\"taxpayer_is_ratio\"], \"xaxis\": \"x\", \"y\": [0.00011434194311732426], \"yaxis\": \"y\"}, {\"alignmentgroup\": \"True\", \"hovertemplate\": \"feature=%{x}<br>importance=%{y}<extra></extra>\", \"legendgroup\": \"total_sales_tax_last_year\", \"marker\": {\"color\": \"#FF97FF\"}, \"name\": \"total_sales_tax_last_year\", \"offsetgroup\": \"total_sales_tax_last_year\", \"orientation\": \"v\", \"showlegend\": true, \"textposition\": \"auto\", \"type\": \"bar\", \"x\": [\"total_sales_tax_last_year\"], \"xaxis\": \"x\", \"y\": [8.596472616773099e-05], \"yaxis\": \"y\"}, {\"alignmentgroup\": \"True\", \"hovertemplate\": \"feature=%{x}<br>importance=%{y}<extra></extra>\", \"legendgroup\": \"sap_case_shiller_index\", \"marker\": {\"color\": \"#FECB52\"}, \"name\": \"sap_case_shiller_index\", \"offsetgroup\": \"sap_case_shiller_index\", \"orientation\": \"v\", \"showlegend\": true, \"textposition\": \"auto\", \"type\": \"bar\", \"x\": [\"sap_case_shiller_index\"], \"xaxis\": \"x\", \"y\": [5.3921457947581075e-06], \"yaxis\": \"y\"}, {\"alignmentgroup\": \"True\", \"hovertemplate\": \"feature=%{x}<br>importance=%{y}<extra></extra>\", \"legendgroup\": \"housing_units_20_to_49_units_annual_pct_change\", \"marker\": {\"color\": \"#636efa\"}, \"name\": \"housing_units_20_to_49_units_annual_pct_change\", \"offsetgroup\": \"housing_units_20_to_49_units_annual_pct_change\", \"orientation\": \"v\", \"showlegend\": true, \"textposition\": \"auto\", \"type\": \"bar\", \"x\": [\"housing_units_20_to_49_units_annual_pct_change\"], \"xaxis\": \"x\", \"y\": [4.287195224605966e-06], \"yaxis\": \"y\"}, {\"alignmentgroup\": \"True\", \"hovertemplate\": \"feature=%{x}<br>importance=%{y}<extra></extra>\", \"legendgroup\": \"delta_TNX\", \"marker\": {\"color\": \"#EF553B\"}, \"name\": \"delta_TNX\", \"offsetgroup\": \"delta_TNX\", \"orientation\": \"v\", \"showlegend\": true, \"textposition\": \"auto\", \"type\": \"bar\", \"x\": [\"delta_TNX\"], \"xaxis\": \"x\", \"y\": [0.0], \"yaxis\": \"y\"}, {\"alignmentgroup\": \"True\", \"hovertemplate\": \"feature=%{x}<br>importance=%{y}<extra></extra>\", \"legendgroup\": \"tx_is_a_lot_better\", \"marker\": {\"color\": \"#00cc96\"}, \"name\": \"tx_is_a_lot_better\", \"offsetgroup\": \"tx_is_a_lot_better\", \"orientation\": \"v\", \"showlegend\": true, \"textposition\": \"auto\", \"type\": \"bar\", \"x\": [\"tx_is_a_lot_better\"], \"xaxis\": \"x\", \"y\": [0.0], \"yaxis\": \"y\"}, {\"alignmentgroup\": \"True\", \"hovertemplate\": \"feature=%{x}<br>importance=%{y}<extra></extra>\", \"legendgroup\": \"tx_is_a_little_better\", \"marker\": {\"color\": \"#ab63fa\"}, \"name\": \"tx_is_a_little_better\", \"offsetgroup\": \"tx_is_a_little_better\", \"orientation\": \"v\", \"showlegend\": true, \"textposition\": \"auto\", \"type\": \"bar\", \"x\": [\"tx_is_a_little_better\"], \"xaxis\": \"x\", \"y\": [0.0], \"yaxis\": \"y\"}, {\"alignmentgroup\": \"True\", \"hovertemplate\": \"feature=%{x}<br>importance=%{y}<extra></extra>\", \"legendgroup\": \"tx_is_a_little_worse\", \"marker\": {\"color\": \"#FFA15A\"}, \"name\": \"tx_is_a_little_worse\", \"offsetgroup\": \"tx_is_a_little_worse\", \"orientation\": \"v\", \"showlegend\": true, \"textposition\": \"auto\", \"type\": \"bar\", \"x\": [\"tx_is_a_little_worse\"], \"xaxis\": \"x\", \"y\": [0.0], \"yaxis\": \"y\"}, {\"alignmentgroup\": \"True\", \"hovertemplate\": \"feature=%{x}<br>importance=%{y}<extra></extra>\", \"legendgroup\": \"tx_is_a_lot_worse\", \"marker\": {\"color\": \"#19d3f3\"}, \"name\": \"tx_is_a_lot_worse\", \"offsetgroup\": \"tx_is_a_lot_worse\", \"orientation\": \"v\", \"showlegend\": true, \"textposition\": \"auto\", \"type\": \"bar\", \"x\": [\"tx_is_a_lot_worse\"], \"xaxis\": \"x\", \"y\": [0.0], \"yaxis\": \"y\"}, {\"alignmentgroup\": \"True\", \"hovertemplate\": \"feature=%{x}<br>importance=%{y}<extra></extra>\", \"legendgroup\": \"tx_is_dont_know\", \"marker\": {\"color\": \"#FF6692\"}, \"name\": \"tx_is_dont_know\", \"offsetgroup\": \"tx_is_dont_know\", \"orientation\": \"v\", \"showlegend\": true, \"textposition\": \"auto\", \"type\": \"bar\", \"x\": [\"tx_is_dont_know\"], \"xaxis\": \"x\", \"y\": [0.0], \"yaxis\": \"y\"}, {\"alignmentgroup\": \"True\", \"hovertemplate\": \"feature=%{x}<br>importance=%{y}<extra></extra>\", \"legendgroup\": \"tx_is_better\", \"marker\": {\"color\": \"#B6E880\"}, \"name\": \"tx_is_better\", \"offsetgroup\": \"tx_is_better\", \"orientation\": \"v\", \"showlegend\": true, \"textposition\": \"auto\", \"type\": \"bar\", \"x\": [\"tx_is_better\"], \"xaxis\": \"x\", \"y\": [0.0], \"yaxis\": \"y\"}, {\"alignmentgroup\": \"True\", \"hovertemplate\": \"feature=%{x}<br>importance=%{y}<extra></extra>\", \"legendgroup\": \"tx_is_worse\", \"marker\": {\"color\": \"#FF97FF\"}, \"name\": \"tx_is_worse\", \"offsetgroup\": \"tx_is_worse\", \"orientation\": \"v\", \"showlegend\": true, \"textposition\": \"auto\", \"type\": \"bar\", \"x\": [\"tx_is_worse\"], \"xaxis\": \"x\", \"y\": [0.0], \"yaxis\": \"y\"}, {\"alignmentgroup\": \"True\", \"hovertemplate\": \"feature=%{x}<br>importance=%{y}<extra></extra>\", \"legendgroup\": \"delta_ur\", \"marker\": {\"color\": \"#FECB52\"}, \"name\": \"delta_ur\", \"offsetgroup\": \"delta_ur\", \"orientation\": \"v\", \"showlegend\": true, \"textposition\": \"auto\", \"type\": \"bar\", \"x\": [\"delta_ur\"], \"xaxis\": \"x\", \"y\": [0.0], \"yaxis\": \"y\"}, {\"alignmentgroup\": \"True\", \"hovertemplate\": \"feature=%{x}<br>importance=%{y}<extra></extra>\", \"legendgroup\": \"taxpayer_org_type_is\", \"marker\": {\"color\": \"#636efa\"}, \"name\": \"taxpayer_org_type_is\", \"offsetgroup\": \"taxpayer_org_type_is\", \"orientation\": \"v\", \"showlegend\": true, \"textposition\": \"auto\", \"type\": \"bar\", \"x\": [\"taxpayer_org_type_is\"], \"xaxis\": \"x\", \"y\": [0.0], \"yaxis\": \"y\"}, {\"alignmentgroup\": \"True\", \"hovertemplate\": \"feature=%{x}<br>importance=%{y}<extra></extra>\", \"legendgroup\": \"payer_outlet_same_zipcode\", \"marker\": {\"color\": \"#EF553B\"}, \"name\": \"payer_outlet_same_zipcode\", \"offsetgroup\": \"payer_outlet_same_zipcode\", \"orientation\": \"v\", \"showlegend\": true, \"textposition\": \"auto\", \"type\": \"bar\", \"x\": [\"payer_outlet_same_zipcode\"], \"xaxis\": \"x\", \"y\": [0.0], \"yaxis\": \"y\"}, {\"alignmentgroup\": \"True\", \"hovertemplate\": \"feature=%{x}<br>importance=%{y}<extra></extra>\", \"legendgroup\": \"taxpayer_same_zip_ratio\", \"marker\": {\"color\": \"#00cc96\"}, \"name\": \"taxpayer_same_zip_ratio\", \"offsetgroup\": \"taxpayer_same_zip_ratio\", \"orientation\": \"v\", \"showlegend\": true, \"textposition\": \"auto\", \"type\": \"bar\", \"x\": [\"taxpayer_same_zip_ratio\"], \"xaxis\": \"x\", \"y\": [0.0], \"yaxis\": \"y\"}, {\"alignmentgroup\": \"True\", \"hovertemplate\": \"feature=%{x}<br>importance=%{y}<extra></extra>\", \"legendgroup\": \"taxpayer_foreign_ratio\", \"marker\": {\"color\": \"#ab63fa\"}, \"name\": \"taxpayer_foreign_ratio\", \"offsetgroup\": \"taxpayer_foreign_ratio\", \"orientation\": \"v\", \"showlegend\": true, \"textposition\": \"auto\", \"type\": \"bar\", \"x\": [\"taxpayer_foreign_ratio\"], \"xaxis\": \"x\", \"y\": [0.0], \"yaxis\": \"y\"}, {\"alignmentgroup\": \"True\", \"hovertemplate\": \"feature=%{x}<br>importance=%{y}<extra></extra>\", \"legendgroup\": \"outlet_count\", \"marker\": {\"color\": \"#FFA15A\"}, \"name\": \"outlet_count\", \"offsetgroup\": \"outlet_count\", \"orientation\": \"v\", \"showlegend\": true, \"textposition\": \"auto\", \"type\": \"bar\", \"x\": [\"outlet_count\"], \"xaxis\": \"x\", \"y\": [0.0], \"yaxis\": \"y\"}, {\"alignmentgroup\": \"True\", \"hovertemplate\": \"feature=%{x}<br>importance=%{y}<extra></extra>\", \"legendgroup\": \"outlet_org_type_is\", \"marker\": {\"color\": \"#19d3f3\"}, \"name\": \"outlet_org_type_is\", \"offsetgroup\": \"outlet_org_type_is\", \"orientation\": \"v\", \"showlegend\": true, \"textposition\": \"auto\", \"type\": \"bar\", \"x\": [\"outlet_org_type_is\"], \"xaxis\": \"x\", \"y\": [0.0], \"yaxis\": \"y\"}, {\"alignmentgroup\": \"True\", \"hovertemplate\": \"feature=%{x}<br>importance=%{y}<extra></extra>\", \"legendgroup\": \"outlet_org_type_foreign\", \"marker\": {\"color\": \"#FF6692\"}, \"name\": \"outlet_org_type_foreign\", \"offsetgroup\": \"outlet_org_type_foreign\", \"orientation\": \"v\", \"showlegend\": true, \"textposition\": \"auto\", \"type\": \"bar\", \"x\": [\"outlet_org_type_foreign\"], \"xaxis\": \"x\", \"y\": [0.0], \"yaxis\": \"y\"}, {\"alignmentgroup\": \"True\", \"hovertemplate\": \"feature=%{x}<br>importance=%{y}<extra></extra>\", \"legendgroup\": \"outlet_cl_ratio\", \"marker\": {\"color\": \"#B6E880\"}, \"name\": \"outlet_cl_ratio\", \"offsetgroup\": \"outlet_cl_ratio\", \"orientation\": \"v\", \"showlegend\": true, \"textposition\": \"auto\", \"type\": \"bar\", \"x\": [\"outlet_cl_ratio\"], \"xaxis\": \"x\", \"y\": [0.0], \"yaxis\": \"y\"}, {\"alignmentgroup\": \"True\", \"hovertemplate\": \"feature=%{x}<br>importance=%{y}<extra></extra>\", \"legendgroup\": \"fatalities\", \"marker\": {\"color\": \"#FF97FF\"}, \"name\": \"fatalities\", \"offsetgroup\": \"fatalities\", \"orientation\": \"v\", \"showlegend\": true, \"textposition\": \"auto\", \"type\": \"bar\", \"x\": [\"fatalities\"], \"xaxis\": \"x\", \"y\": [0.0], \"yaxis\": \"y\"}, {\"alignmentgroup\": \"True\", \"hovertemplate\": \"feature=%{x}<br>importance=%{y}<extra></extra>\", \"legendgroup\": \"caseCount\", \"marker\": {\"color\": \"#FECB52\"}, \"name\": \"caseCount\", \"offsetgroup\": \"caseCount\", \"orientation\": \"v\", \"showlegend\": true, \"textposition\": \"auto\", \"type\": \"bar\", \"x\": [\"caseCount\"], \"xaxis\": \"x\", \"y\": [0.0], \"yaxis\": \"y\"}, {\"alignmentgroup\": \"True\", \"hovertemplate\": \"feature=%{x}<br>importance=%{y}<extra></extra>\", \"legendgroup\": \"env_violation_count\", \"marker\": {\"color\": \"#636efa\"}, \"name\": \"env_violation_count\", \"offsetgroup\": \"env_violation_count\", \"orientation\": \"v\", \"showlegend\": true, \"textposition\": \"auto\", \"type\": \"bar\", \"x\": [\"env_violation_count\"], \"xaxis\": \"x\", \"y\": [0.0], \"yaxis\": \"y\"}, {\"alignmentgroup\": \"True\", \"hovertemplate\": \"feature=%{x}<br>importance=%{y}<extra></extra>\", \"legendgroup\": \"Consumer Confidence Index TX\", \"marker\": {\"color\": \"#EF553B\"}, \"name\": \"Consumer Confidence Index TX\", \"offsetgroup\": \"Consumer Confidence Index TX\", \"orientation\": \"v\", \"showlegend\": true, \"textposition\": \"auto\", \"type\": \"bar\", \"x\": [\"Consumer Confidence Index TX\"], \"xaxis\": \"x\", \"y\": [0.0], \"yaxis\": \"y\"}, {\"alignmentgroup\": \"True\", \"hovertemplate\": \"feature=%{x}<br>importance=%{y}<extra></extra>\", \"legendgroup\": \"Consumer Confidence West South Central\", \"marker\": {\"color\": \"#00cc96\"}, \"name\": \"Consumer Confidence West South Central\", \"offsetgroup\": \"Consumer Confidence West South Central\", \"orientation\": \"v\", \"showlegend\": true, \"textposition\": \"auto\", \"type\": \"bar\", \"x\": [\"Consumer Confidence West South Central\"], \"xaxis\": \"x\", \"y\": [0.0], \"yaxis\": \"y\"}, {\"alignmentgroup\": \"True\", \"hovertemplate\": \"feature=%{x}<br>importance=%{y}<extra></extra>\", \"legendgroup\": \"Consumer Confidence Index US\", \"marker\": {\"color\": \"#ab63fa\"}, \"name\": \"Consumer Confidence Index US\", \"offsetgroup\": \"Consumer Confidence Index US\", \"orientation\": \"v\", \"showlegend\": true, \"textposition\": \"auto\", \"type\": \"bar\", \"x\": [\"Consumer Confidence Index US\"], \"xaxis\": \"x\", \"y\": [0.0], \"yaxis\": \"y\"}, {\"alignmentgroup\": \"True\", \"hovertemplate\": \"feature=%{x}<br>importance=%{y}<extra></extra>\", \"legendgroup\": \"Nonfarm Employment TX\", \"marker\": {\"color\": \"#FFA15A\"}, \"name\": \"Nonfarm Employment TX\", \"offsetgroup\": \"Nonfarm Employment TX\", \"orientation\": \"v\", \"showlegend\": true, \"textposition\": \"auto\", \"type\": \"bar\", \"x\": [\"Nonfarm Employment TX\"], \"xaxis\": \"x\", \"y\": [0.0], \"yaxis\": \"y\"}, {\"alignmentgroup\": \"True\", \"hovertemplate\": \"feature=%{x}<br>importance=%{y}<extra></extra>\", \"legendgroup\": \"Nonfarm Employment U.S.\", \"marker\": {\"color\": \"#19d3f3\"}, \"name\": \"Nonfarm Employment U.S.\", \"offsetgroup\": \"Nonfarm Employment U.S.\", \"orientation\": \"v\", \"showlegend\": true, \"textposition\": \"auto\", \"type\": \"bar\", \"x\": [\"Nonfarm Employment U.S.\"], \"xaxis\": \"x\", \"y\": [0.0], \"yaxis\": \"y\"}, {\"alignmentgroup\": \"True\", \"hovertemplate\": \"feature=%{x}<br>importance=%{y}<extra></extra>\", \"legendgroup\": \"Unemployment TX\", \"marker\": {\"color\": \"#FF6692\"}, \"name\": \"Unemployment TX\", \"offsetgroup\": \"Unemployment TX\", \"orientation\": \"v\", \"showlegend\": true, \"textposition\": \"auto\", \"type\": \"bar\", \"x\": [\"Unemployment TX\"], \"xaxis\": \"x\", \"y\": [0.0], \"yaxis\": \"y\"}, {\"alignmentgroup\": \"True\", \"hovertemplate\": \"feature=%{x}<br>importance=%{y}<extra></extra>\", \"legendgroup\": \"Unemployment U.S.\", \"marker\": {\"color\": \"#B6E880\"}, \"name\": \"Unemployment U.S.\", \"offsetgroup\": \"Unemployment U.S.\", \"orientation\": \"v\", \"showlegend\": true, \"textposition\": \"auto\", \"type\": \"bar\", \"x\": [\"Unemployment U.S.\"], \"xaxis\": \"x\", \"y\": [0.0], \"yaxis\": \"y\"}, {\"alignmentgroup\": \"True\", \"hovertemplate\": \"feature=%{x}<br>importance=%{y}<extra></extra>\", \"legendgroup\": \"Single Family Building Permits TX\", \"marker\": {\"color\": \"#FF97FF\"}, \"name\": \"Single Family Building Permits TX\", \"offsetgroup\": \"Single Family Building Permits TX\", \"orientation\": \"v\", \"showlegend\": true, \"textposition\": \"auto\", \"type\": \"bar\", \"x\": [\"Single Family Building Permits TX\"], \"xaxis\": \"x\", \"y\": [0.0], \"yaxis\": \"y\"}, {\"alignmentgroup\": \"True\", \"hovertemplate\": \"feature=%{x}<br>importance=%{y}<extra></extra>\", \"legendgroup\": \"Multi Family Building Permits TX\", \"marker\": {\"color\": \"#FECB52\"}, \"name\": \"Multi Family Building Permits TX\", \"offsetgroup\": \"Multi Family Building Permits TX\", \"orientation\": \"v\", \"showlegend\": true, \"textposition\": \"auto\", \"type\": \"bar\", \"x\": [\"Multi Family Building Permits TX\"], \"xaxis\": \"x\", \"y\": [0.0], \"yaxis\": \"y\"}, {\"alignmentgroup\": \"True\", \"hovertemplate\": \"feature=%{x}<br>importance=%{y}<extra></extra>\", \"legendgroup\": \"Existing Single Family Home Sales TX\", \"marker\": {\"color\": \"#636efa\"}, \"name\": \"Existing Single Family Home Sales TX\", \"offsetgroup\": \"Existing Single Family Home Sales TX\", \"orientation\": \"v\", \"showlegend\": true, \"textposition\": \"auto\", \"type\": \"bar\", \"x\": [\"Existing Single Family Home Sales TX\"], \"xaxis\": \"x\", \"y\": [0.0], \"yaxis\": \"y\"}, {\"alignmentgroup\": \"True\", \"hovertemplate\": \"feature=%{x}<br>importance=%{y}<extra></extra>\", \"legendgroup\": \"Non Residential Building Construction\", \"marker\": {\"color\": \"#EF553B\"}, \"name\": \"Non Residential Building Construction\", \"offsetgroup\": \"Non Residential Building Construction\", \"orientation\": \"v\", \"showlegend\": true, \"textposition\": \"auto\", \"type\": \"bar\", \"x\": [\"Non Residential Building Construction\"], \"xaxis\": \"x\", \"y\": [0.0], \"yaxis\": \"y\"}, {\"alignmentgroup\": \"True\", \"hovertemplate\": \"feature=%{x}<br>importance=%{y}<extra></extra>\", \"legendgroup\": \"Total Sales Tax Collections TX\", \"marker\": {\"color\": \"#00cc96\"}, \"name\": \"Total Sales Tax Collections TX\", \"offsetgroup\": \"Total Sales Tax Collections TX\", \"orientation\": \"v\", \"showlegend\": true, \"textposition\": \"auto\", \"type\": \"bar\", \"x\": [\"Total Sales Tax Collections TX\"], \"xaxis\": \"x\", \"y\": [0.0], \"yaxis\": \"y\"}, {\"alignmentgroup\": \"True\", \"hovertemplate\": \"feature=%{x}<br>importance=%{y}<extra></extra>\", \"legendgroup\": \"Retail Gasoline Price TX\", \"marker\": {\"color\": \"#ab63fa\"}, \"name\": \"Retail Gasoline Price TX\", \"offsetgroup\": \"Retail Gasoline Price TX\", \"orientation\": \"v\", \"showlegend\": true, \"textposition\": \"auto\", \"type\": \"bar\", \"x\": [\"Retail Gasoline Price TX\"], \"xaxis\": \"x\", \"y\": [0.0], \"yaxis\": \"y\"}, {\"alignmentgroup\": \"True\", \"hovertemplate\": \"feature=%{x}<br>importance=%{y}<extra></extra>\", \"legendgroup\": \"Nonfarm Employment Illinois\", \"marker\": {\"color\": \"#FFA15A\"}, \"name\": \"Nonfarm Employment Illinois\", \"offsetgroup\": \"Nonfarm Employment Illinois\", \"orientation\": \"v\", \"showlegend\": true, \"textposition\": \"auto\", \"type\": \"bar\", \"x\": [\"Nonfarm Employment Illinois\"], \"xaxis\": \"x\", \"y\": [0.0], \"yaxis\": \"y\"}, {\"alignmentgroup\": \"True\", \"hovertemplate\": \"feature=%{x}<br>importance=%{y}<extra></extra>\", \"legendgroup\": \"Nonfarm Employment Florida\", \"marker\": {\"color\": \"#19d3f3\"}, \"name\": \"Nonfarm Employment Florida\", \"offsetgroup\": \"Nonfarm Employment Florida\", \"orientation\": \"v\", \"showlegend\": true, \"textposition\": \"auto\", \"type\": \"bar\", \"x\": [\"Nonfarm Employment Florida\"], \"xaxis\": \"x\", \"y\": [0.0], \"yaxis\": \"y\"}, {\"alignmentgroup\": \"True\", \"hovertemplate\": \"feature=%{x}<br>importance=%{y}<extra></extra>\", \"legendgroup\": \"Nonfarm Employment New York\", \"marker\": {\"color\": \"#FF6692\"}, \"name\": \"Nonfarm Employment New York\", \"offsetgroup\": \"Nonfarm Employment New York\", \"orientation\": \"v\", \"showlegend\": true, \"textposition\": \"auto\", \"type\": \"bar\", \"x\": [\"Nonfarm Employment New York\"], \"xaxis\": \"x\", \"y\": [0.0], \"yaxis\": \"y\"}, {\"alignmentgroup\": \"True\", \"hovertemplate\": \"feature=%{x}<br>importance=%{y}<extra></extra>\", \"legendgroup\": \"Nonfarm Employment Texas\", \"marker\": {\"color\": \"#B6E880\"}, \"name\": \"Nonfarm Employment Texas\", \"offsetgroup\": \"Nonfarm Employment Texas\", \"orientation\": \"v\", \"showlegend\": true, \"textposition\": \"auto\", \"type\": \"bar\", \"x\": [\"Nonfarm Employment Texas\"], \"xaxis\": \"x\", \"y\": [0.0], \"yaxis\": \"y\"}, {\"alignmentgroup\": \"True\", \"hovertemplate\": \"feature=%{x}<br>importance=%{y}<extra></extra>\", \"legendgroup\": \"Nonfarm Employment California\", \"marker\": {\"color\": \"#FF97FF\"}, \"name\": \"Nonfarm Employment California\", \"offsetgroup\": \"Nonfarm Employment California\", \"orientation\": \"v\", \"showlegend\": true, \"textposition\": \"auto\", \"type\": \"bar\", \"x\": [\"Nonfarm Employment California\"], \"xaxis\": \"x\", \"y\": [0.0], \"yaxis\": \"y\"}, {\"alignmentgroup\": \"True\", \"hovertemplate\": \"feature=%{x}<br>importance=%{y}<extra></extra>\", \"legendgroup\": \"Gross Value Crude Oil Production\", \"marker\": {\"color\": \"#FECB52\"}, \"name\": \"Gross Value Crude Oil Production\", \"offsetgroup\": \"Gross Value Crude Oil Production\", \"orientation\": \"v\", \"showlegend\": true, \"textposition\": \"auto\", \"type\": \"bar\", \"x\": [\"Gross Value Crude Oil Production\"], \"xaxis\": \"x\", \"y\": [0.0], \"yaxis\": \"y\"}, {\"alignmentgroup\": \"True\", \"hovertemplate\": \"feature=%{x}<br>importance=%{y}<extra></extra>\", \"legendgroup\": \"Gross Value Natural Gas Production\", \"marker\": {\"color\": \"#636efa\"}, \"name\": \"Gross Value Natural Gas Production\", \"offsetgroup\": \"Gross Value Natural Gas Production\", \"orientation\": \"v\", \"showlegend\": true, \"textposition\": \"auto\", \"type\": \"bar\", \"x\": [\"Gross Value Natural Gas Production\"], \"xaxis\": \"x\", \"y\": [0.0], \"yaxis\": \"y\"}, {\"alignmentgroup\": \"True\", \"hovertemplate\": \"feature=%{x}<br>importance=%{y}<extra></extra>\", \"legendgroup\": \"Motor Fuel Taxed Gasoline\", \"marker\": {\"color\": \"#EF553B\"}, \"name\": \"Motor Fuel Taxed Gasoline\", \"offsetgroup\": \"Motor Fuel Taxed Gasoline\", \"orientation\": \"v\", \"showlegend\": true, \"textposition\": \"auto\", \"type\": \"bar\", \"x\": [\"Motor Fuel Taxed Gasoline\"], \"xaxis\": \"x\", \"y\": [0.0], \"yaxis\": \"y\"}, {\"alignmentgroup\": \"True\", \"hovertemplate\": \"feature=%{x}<br>importance=%{y}<extra></extra>\", \"legendgroup\": \"Motor Fuel Taxed Diesel\", \"marker\": {\"color\": \"#00cc96\"}, \"name\": \"Motor Fuel Taxed Diesel\", \"offsetgroup\": \"Motor Fuel Taxed Diesel\", \"orientation\": \"v\", \"showlegend\": true, \"textposition\": \"auto\", \"type\": \"bar\", \"x\": [\"Motor Fuel Taxed Diesel\"], \"xaxis\": \"x\", \"y\": [0.0], \"yaxis\": \"y\"}, {\"alignmentgroup\": \"True\", \"hovertemplate\": \"feature=%{x}<br>importance=%{y}<extra></extra>\", \"legendgroup\": \"driving_alone_population\", \"marker\": {\"color\": \"#ab63fa\"}, \"name\": \"driving_alone_population\", \"offsetgroup\": \"driving_alone_population\", \"orientation\": \"v\", \"showlegend\": true, \"textposition\": \"auto\", \"type\": \"bar\", \"x\": [\"driving_alone_population\"], \"xaxis\": \"x\", \"y\": [0.0], \"yaxis\": \"y\"}, {\"alignmentgroup\": \"True\", \"hovertemplate\": \"feature=%{x}<br>importance=%{y}<extra></extra>\", \"legendgroup\": \"female_45_to_49\", \"marker\": {\"color\": \"#FFA15A\"}, \"name\": \"female_45_to_49\", \"offsetgroup\": \"female_45_to_49\", \"orientation\": \"v\", \"showlegend\": true, \"textposition\": \"auto\", \"type\": \"bar\", \"x\": [\"female_45_to_49\"], \"xaxis\": \"x\", \"y\": [0.0], \"yaxis\": \"y\"}, {\"alignmentgroup\": \"True\", \"hovertemplate\": \"feature=%{x}<br>importance=%{y}<extra></extra>\", \"legendgroup\": \"female_21\", \"marker\": {\"color\": \"#19d3f3\"}, \"name\": \"female_21\", \"offsetgroup\": \"female_21\", \"orientation\": \"v\", \"showlegend\": true, \"textposition\": \"auto\", \"type\": \"bar\", \"x\": [\"female_21\"], \"xaxis\": \"x\", \"y\": [0.0], \"yaxis\": \"y\"}, {\"alignmentgroup\": \"True\", \"hovertemplate\": \"feature=%{x}<br>importance=%{y}<extra></extra>\", \"legendgroup\": \"housing_units_20_to_49_units\", \"marker\": {\"color\": \"#FF6692\"}, \"name\": \"housing_units_20_to_49_units\", \"offsetgroup\": \"housing_units_20_to_49_units\", \"orientation\": \"v\", \"showlegend\": true, \"textposition\": \"auto\", \"type\": \"bar\", \"x\": [\"housing_units_20_to_49_units\"], \"xaxis\": \"x\", \"y\": [0.0], \"yaxis\": \"y\"}, {\"alignmentgroup\": \"True\", \"hovertemplate\": \"feature=%{x}<br>importance=%{y}<extra></extra>\", \"legendgroup\": \"female_25_to_29\", \"marker\": {\"color\": \"#B6E880\"}, \"name\": \"female_25_to_29\", \"offsetgroup\": \"female_25_to_29\", \"orientation\": \"v\", \"showlegend\": true, \"textposition\": \"auto\", \"type\": \"bar\", \"x\": [\"female_25_to_29\"], \"xaxis\": \"x\", \"y\": [0.0], \"yaxis\": \"y\"}, {\"alignmentgroup\": \"True\", \"hovertemplate\": \"feature=%{x}<br>importance=%{y}<extra></extra>\", \"legendgroup\": \"female_30_to_34\", \"marker\": {\"color\": \"#FF97FF\"}, \"name\": \"female_30_to_34\", \"offsetgroup\": \"female_30_to_34\", \"orientation\": \"v\", \"showlegend\": true, \"textposition\": \"auto\", \"type\": \"bar\", \"x\": [\"female_30_to_34\"], \"xaxis\": \"x\", \"y\": [0.0], \"yaxis\": \"y\"}, {\"alignmentgroup\": \"True\", \"hovertemplate\": \"feature=%{x}<br>importance=%{y}<extra></extra>\", \"legendgroup\": \"hispanic_pop_annual_pct_change\", \"marker\": {\"color\": \"#FECB52\"}, \"name\": \"hispanic_pop_annual_pct_change\", \"offsetgroup\": \"hispanic_pop_annual_pct_change\", \"orientation\": \"v\", \"showlegend\": true, \"textposition\": \"auto\", \"type\": \"bar\", \"x\": [\"hispanic_pop_annual_pct_change\"], \"xaxis\": \"x\", \"y\": [0.0], \"yaxis\": \"y\"}, {\"alignmentgroup\": \"True\", \"hovertemplate\": \"feature=%{x}<br>importance=%{y}<extra></extra>\", \"legendgroup\": \"high_school_diploma_annual_pct_change\", \"marker\": {\"color\": \"#636efa\"}, \"name\": \"high_school_diploma_annual_pct_change\", \"offsetgroup\": \"high_school_diploma_annual_pct_change\", \"orientation\": \"v\", \"showlegend\": true, \"textposition\": \"auto\", \"type\": \"bar\", \"x\": [\"high_school_diploma_annual_pct_change\"], \"xaxis\": \"x\", \"y\": [0.0], \"yaxis\": \"y\"}, {\"alignmentgroup\": \"True\", \"hovertemplate\": \"feature=%{x}<br>importance=%{y}<extra></extra>\", \"legendgroup\": \"female_45_to_49_annual_pct_change\", \"marker\": {\"color\": \"#EF553B\"}, \"name\": \"female_45_to_49_annual_pct_change\", \"offsetgroup\": \"female_45_to_49_annual_pct_change\", \"orientation\": \"v\", \"showlegend\": true, \"textposition\": \"auto\", \"type\": \"bar\", \"x\": [\"female_45_to_49_annual_pct_change\"], \"xaxis\": \"x\", \"y\": [0.0], \"yaxis\": \"y\"}, {\"alignmentgroup\": \"True\", \"hovertemplate\": \"feature=%{x}<br>importance=%{y}<extra></extra>\", \"legendgroup\": \"female_75_to_79_annual_pct_change\", \"marker\": {\"color\": \"#00cc96\"}, \"name\": \"female_75_to_79_annual_pct_change\", \"offsetgroup\": \"female_75_to_79_annual_pct_change\", \"orientation\": \"v\", \"showlegend\": true, \"textposition\": \"auto\", \"type\": \"bar\", \"x\": [\"female_75_to_79_annual_pct_change\"], \"xaxis\": \"x\", \"y\": [0.0], \"yaxis\": \"y\"}, {\"alignmentgroup\": \"True\", \"hovertemplate\": \"feature=%{x}<br>importance=%{y}<extra></extra>\", \"legendgroup\": \"median_household_income_annual_pct_change\", \"marker\": {\"color\": \"#ab63fa\"}, \"name\": \"median_household_income_annual_pct_change\", \"offsetgroup\": \"median_household_income_annual_pct_change\", \"orientation\": \"v\", \"showlegend\": true, \"textposition\": \"auto\", \"type\": \"bar\", \"x\": [\"median_household_income_annual_pct_change\"], \"xaxis\": \"x\", \"y\": [0.0], \"yaxis\": \"y\"}, {\"alignmentgroup\": \"True\", \"hovertemplate\": \"feature=%{x}<br>importance=%{y}<extra></extra>\", \"legendgroup\": \"female_50_to_54_annual_pct_change\", \"marker\": {\"color\": \"#FFA15A\"}, \"name\": \"female_50_to_54_annual_pct_change\", \"offsetgroup\": \"female_50_to_54_annual_pct_change\", \"orientation\": \"v\", \"showlegend\": true, \"textposition\": \"auto\", \"type\": \"bar\", \"x\": [\"female_50_to_54_annual_pct_change\"], \"xaxis\": \"x\", \"y\": [0.0], \"yaxis\": \"y\"}, {\"alignmentgroup\": \"True\", \"hovertemplate\": \"feature=%{x}<br>importance=%{y}<extra></extra>\", \"legendgroup\": \"housing_units_built_1980_to_1989_annual_pct_change\", \"marker\": {\"color\": \"#19d3f3\"}, \"name\": \"housing_units_built_1980_to_1989_annual_pct_change\", \"offsetgroup\": \"housing_units_built_1980_to_1989_annual_pct_change\", \"orientation\": \"v\", \"showlegend\": true, \"textposition\": \"auto\", \"type\": \"bar\", \"x\": [\"housing_units_built_1980_to_1989_annual_pct_change\"], \"xaxis\": \"x\", \"y\": [0.0], \"yaxis\": \"y\"}, {\"alignmentgroup\": \"True\", \"hovertemplate\": \"feature=%{x}<br>importance=%{y}<extra></extra>\", \"legendgroup\": \"female_35_to_39_annual_pct_change\", \"marker\": {\"color\": \"#FF6692\"}, \"name\": \"female_35_to_39_annual_pct_change\", \"offsetgroup\": \"female_35_to_39_annual_pct_change\", \"orientation\": \"v\", \"showlegend\": true, \"textposition\": \"auto\", \"type\": \"bar\", \"x\": [\"female_35_to_39_annual_pct_change\"], \"xaxis\": \"x\", \"y\": [0.0], \"yaxis\": \"y\"}, {\"alignmentgroup\": \"True\", \"hovertemplate\": \"feature=%{x}<br>importance=%{y}<extra></extra>\", \"legendgroup\": \"units_paying_cash_rent_annual_pct_change\", \"marker\": {\"color\": \"#B6E880\"}, \"name\": \"units_paying_cash_rent_annual_pct_change\", \"offsetgroup\": \"units_paying_cash_rent_annual_pct_change\", \"orientation\": \"v\", \"showlegend\": true, \"textposition\": \"auto\", \"type\": \"bar\", \"x\": [\"units_paying_cash_rent_annual_pct_change\"], \"xaxis\": \"x\", \"y\": [0.0], \"yaxis\": \"y\"}, {\"alignmentgroup\": \"True\", \"hovertemplate\": \"feature=%{x}<br>importance=%{y}<extra></extra>\", \"legendgroup\": \"housing_units_single_family_attached_annual_pct_change\", \"marker\": {\"color\": \"#FF97FF\"}, \"name\": \"housing_units_single_family_attached_annual_pct_change\", \"offsetgroup\": \"housing_units_single_family_attached_annual_pct_change\", \"orientation\": \"v\", \"showlegend\": true, \"textposition\": \"auto\", \"type\": \"bar\", \"x\": [\"housing_units_single_family_attached_annual_pct_change\"], \"xaxis\": \"x\", \"y\": [0.0], \"yaxis\": \"y\"}, {\"alignmentgroup\": \"True\", \"hovertemplate\": \"feature=%{x}<br>importance=%{y}<extra></extra>\", \"legendgroup\": \"female_40_to_44_annual_pct_change\", \"marker\": {\"color\": \"#FECB52\"}, \"name\": \"female_40_to_44_annual_pct_change\", \"offsetgroup\": \"female_40_to_44_annual_pct_change\", \"orientation\": \"v\", \"showlegend\": true, \"textposition\": \"auto\", \"type\": \"bar\", \"x\": [\"female_40_to_44_annual_pct_change\"], \"xaxis\": \"x\", \"y\": [0.0], \"yaxis\": \"y\"}, {\"alignmentgroup\": \"True\", \"hovertemplate\": \"feature=%{x}<br>importance=%{y}<extra></extra>\", \"legendgroup\": \"single_women_annual_pct_change\", \"marker\": {\"color\": \"#636efa\"}, \"name\": \"single_women_annual_pct_change\", \"offsetgroup\": \"single_women_annual_pct_change\", \"orientation\": \"v\", \"showlegend\": true, \"textposition\": \"auto\", \"type\": \"bar\", \"x\": [\"single_women_annual_pct_change\"], \"xaxis\": \"x\", \"y\": [0.0], \"yaxis\": \"y\"}, {\"alignmentgroup\": \"True\", \"hovertemplate\": \"feature=%{x}<br>importance=%{y}<extra></extra>\", \"legendgroup\": \"housing_units_over_50_units_annual_pct_change\", \"marker\": {\"color\": \"#EF553B\"}, \"name\": \"housing_units_over_50_units_annual_pct_change\", \"offsetgroup\": \"housing_units_over_50_units_annual_pct_change\", \"orientation\": \"v\", \"showlegend\": true, \"textposition\": \"auto\", \"type\": \"bar\", \"x\": [\"housing_units_over_50_units_annual_pct_change\"], \"xaxis\": \"x\", \"y\": [0.0], \"yaxis\": \"y\"}, {\"alignmentgroup\": \"True\", \"hovertemplate\": \"feature=%{x}<br>importance=%{y}<extra></extra>\", \"legendgroup\": \"housing_units_built_1960_to_1969_annual_pct_change\", \"marker\": {\"color\": \"#00cc96\"}, \"name\": \"housing_units_built_1960_to_1969_annual_pct_change\", \"offsetgroup\": \"housing_units_built_1960_to_1969_annual_pct_change\", \"orientation\": \"v\", \"showlegend\": true, \"textposition\": \"auto\", \"type\": \"bar\", \"x\": [\"housing_units_built_1960_to_1969_annual_pct_change\"], \"xaxis\": \"x\", \"y\": [0.0], \"yaxis\": \"y\"}, {\"alignmentgroup\": \"True\", \"hovertemplate\": \"feature=%{x}<br>importance=%{y}<extra></extra>\", \"legendgroup\": \"sales_tax_rate\", \"marker\": {\"color\": \"#ab63fa\"}, \"name\": \"sales_tax_rate\", \"offsetgroup\": \"sales_tax_rate\", \"orientation\": \"v\", \"showlegend\": true, \"textposition\": \"auto\", \"type\": \"bar\", \"x\": [\"sales_tax_rate\"], \"xaxis\": \"x\", \"y\": [0.0], \"yaxis\": \"y\"}, {\"alignmentgroup\": \"True\", \"hovertemplate\": \"feature=%{x}<br>importance=%{y}<extra></extra>\", \"legendgroup\": \"per_diff_total_sales_tax\", \"marker\": {\"color\": \"#FFA15A\"}, \"name\": \"per_diff_total_sales_tax\", \"offsetgroup\": \"per_diff_total_sales_tax\", \"orientation\": \"v\", \"showlegend\": true, \"textposition\": \"auto\", \"type\": \"bar\", \"x\": [\"per_diff_total_sales_tax\"], \"xaxis\": \"x\", \"y\": [0.0], \"yaxis\": \"y\"}],                        {\"barmode\": \"relative\", \"height\": 1000, \"legend\": {\"title\": {\"text\": \"feature\"}, \"tracegroupgap\": 0}, \"template\": {\"data\": {\"bar\": [{\"error_x\": {\"color\": \"#2a3f5f\"}, \"error_y\": {\"color\": \"#2a3f5f\"}, \"marker\": {\"line\": {\"color\": \"#E5ECF6\", \"width\": 0.5}}, \"type\": \"bar\"}], \"barpolar\": [{\"marker\": {\"line\": {\"color\": \"#E5ECF6\", \"width\": 0.5}}, \"type\": \"barpolar\"}], \"carpet\": [{\"aaxis\": {\"endlinecolor\": \"#2a3f5f\", \"gridcolor\": \"white\", \"linecolor\": \"white\", \"minorgridcolor\": \"white\", \"startlinecolor\": \"#2a3f5f\"}, \"baxis\": {\"endlinecolor\": \"#2a3f5f\", \"gridcolor\": \"white\", \"linecolor\": \"white\", \"minorgridcolor\": \"white\", \"startlinecolor\": \"#2a3f5f\"}, \"type\": \"carpet\"}], \"choropleth\": [{\"colorbar\": {\"outlinewidth\": 0, \"ticks\": \"\"}, \"type\": \"choropleth\"}], \"contour\": [{\"colorbar\": {\"outlinewidth\": 0, \"ticks\": \"\"}, \"colorscale\": [[0.0, \"#0d0887\"], [0.1111111111111111, \"#46039f\"], [0.2222222222222222, \"#7201a8\"], [0.3333333333333333, \"#9c179e\"], [0.4444444444444444, \"#bd3786\"], [0.5555555555555556, \"#d8576b\"], [0.6666666666666666, \"#ed7953\"], [0.7777777777777778, \"#fb9f3a\"], [0.8888888888888888, \"#fdca26\"], [1.0, \"#f0f921\"]], \"type\": \"contour\"}], \"contourcarpet\": [{\"colorbar\": {\"outlinewidth\": 0, \"ticks\": \"\"}, \"type\": \"contourcarpet\"}], \"heatmap\": [{\"colorbar\": {\"outlinewidth\": 0, \"ticks\": \"\"}, \"colorscale\": [[0.0, \"#0d0887\"], [0.1111111111111111, \"#46039f\"], [0.2222222222222222, \"#7201a8\"], [0.3333333333333333, \"#9c179e\"], [0.4444444444444444, \"#bd3786\"], [0.5555555555555556, \"#d8576b\"], [0.6666666666666666, \"#ed7953\"], [0.7777777777777778, \"#fb9f3a\"], [0.8888888888888888, \"#fdca26\"], [1.0, \"#f0f921\"]], \"type\": \"heatmap\"}], \"heatmapgl\": [{\"colorbar\": {\"outlinewidth\": 0, \"ticks\": \"\"}, \"colorscale\": [[0.0, \"#0d0887\"], [0.1111111111111111, \"#46039f\"], [0.2222222222222222, \"#7201a8\"], [0.3333333333333333, \"#9c179e\"], [0.4444444444444444, \"#bd3786\"], [0.5555555555555556, \"#d8576b\"], [0.6666666666666666, \"#ed7953\"], [0.7777777777777778, \"#fb9f3a\"], [0.8888888888888888, \"#fdca26\"], [1.0, \"#f0f921\"]], \"type\": \"heatmapgl\"}], \"histogram\": [{\"marker\": {\"colorbar\": {\"outlinewidth\": 0, \"ticks\": \"\"}}, \"type\": \"histogram\"}], \"histogram2d\": [{\"colorbar\": {\"outlinewidth\": 0, \"ticks\": \"\"}, \"colorscale\": [[0.0, \"#0d0887\"], [0.1111111111111111, \"#46039f\"], [0.2222222222222222, \"#7201a8\"], [0.3333333333333333, \"#9c179e\"], [0.4444444444444444, \"#bd3786\"], [0.5555555555555556, \"#d8576b\"], [0.6666666666666666, \"#ed7953\"], [0.7777777777777778, \"#fb9f3a\"], [0.8888888888888888, \"#fdca26\"], [1.0, \"#f0f921\"]], \"type\": \"histogram2d\"}], \"histogram2dcontour\": [{\"colorbar\": {\"outlinewidth\": 0, \"ticks\": \"\"}, \"colorscale\": [[0.0, \"#0d0887\"], [0.1111111111111111, \"#46039f\"], [0.2222222222222222, \"#7201a8\"], [0.3333333333333333, \"#9c179e\"], [0.4444444444444444, \"#bd3786\"], [0.5555555555555556, \"#d8576b\"], [0.6666666666666666, \"#ed7953\"], [0.7777777777777778, \"#fb9f3a\"], [0.8888888888888888, \"#fdca26\"], [1.0, \"#f0f921\"]], \"type\": \"histogram2dcontour\"}], \"mesh3d\": [{\"colorbar\": {\"outlinewidth\": 0, \"ticks\": \"\"}, \"type\": \"mesh3d\"}], \"parcoords\": [{\"line\": {\"colorbar\": {\"outlinewidth\": 0, \"ticks\": \"\"}}, \"type\": \"parcoords\"}], \"pie\": [{\"automargin\": true, \"type\": \"pie\"}], \"scatter\": [{\"marker\": {\"colorbar\": {\"outlinewidth\": 0, \"ticks\": \"\"}}, \"type\": \"scatter\"}], \"scatter3d\": [{\"line\": {\"colorbar\": {\"outlinewidth\": 0, \"ticks\": \"\"}}, \"marker\": {\"colorbar\": {\"outlinewidth\": 0, \"ticks\": \"\"}}, \"type\": \"scatter3d\"}], \"scattercarpet\": [{\"marker\": {\"colorbar\": {\"outlinewidth\": 0, \"ticks\": \"\"}}, \"type\": \"scattercarpet\"}], \"scattergeo\": [{\"marker\": {\"colorbar\": {\"outlinewidth\": 0, \"ticks\": \"\"}}, \"type\": \"scattergeo\"}], \"scattergl\": [{\"marker\": {\"colorbar\": {\"outlinewidth\": 0, \"ticks\": \"\"}}, \"type\": \"scattergl\"}], \"scattermapbox\": [{\"marker\": {\"colorbar\": {\"outlinewidth\": 0, \"ticks\": \"\"}}, \"type\": \"scattermapbox\"}], \"scatterpolar\": [{\"marker\": {\"colorbar\": {\"outlinewidth\": 0, \"ticks\": \"\"}}, \"type\": \"scatterpolar\"}], \"scatterpolargl\": [{\"marker\": {\"colorbar\": {\"outlinewidth\": 0, \"ticks\": \"\"}}, \"type\": \"scatterpolargl\"}], \"scatterternary\": [{\"marker\": {\"colorbar\": {\"outlinewidth\": 0, \"ticks\": \"\"}}, \"type\": \"scatterternary\"}], \"surface\": [{\"colorbar\": {\"outlinewidth\": 0, \"ticks\": \"\"}, \"colorscale\": [[0.0, \"#0d0887\"], [0.1111111111111111, \"#46039f\"], [0.2222222222222222, \"#7201a8\"], [0.3333333333333333, \"#9c179e\"], [0.4444444444444444, \"#bd3786\"], [0.5555555555555556, \"#d8576b\"], [0.6666666666666666, \"#ed7953\"], [0.7777777777777778, \"#fb9f3a\"], [0.8888888888888888, \"#fdca26\"], [1.0, \"#f0f921\"]], \"type\": \"surface\"}], \"table\": [{\"cells\": {\"fill\": {\"color\": \"#EBF0F8\"}, \"line\": {\"color\": \"white\"}}, \"header\": {\"fill\": {\"color\": \"#C8D4E3\"}, \"line\": {\"color\": \"white\"}}, \"type\": \"table\"}]}, \"layout\": {\"annotationdefaults\": {\"arrowcolor\": \"#2a3f5f\", \"arrowhead\": 0, \"arrowwidth\": 1}, \"autotypenumbers\": \"strict\", \"coloraxis\": {\"colorbar\": {\"outlinewidth\": 0, \"ticks\": \"\"}}, \"colorscale\": {\"diverging\": [[0, \"#8e0152\"], [0.1, \"#c51b7d\"], [0.2, \"#de77ae\"], [0.3, \"#f1b6da\"], [0.4, \"#fde0ef\"], [0.5, \"#f7f7f7\"], [0.6, \"#e6f5d0\"], [0.7, \"#b8e186\"], [0.8, \"#7fbc41\"], [0.9, \"#4d9221\"], [1, \"#276419\"]], \"sequential\": [[0.0, \"#0d0887\"], [0.1111111111111111, \"#46039f\"], [0.2222222222222222, \"#7201a8\"], [0.3333333333333333, \"#9c179e\"], [0.4444444444444444, \"#bd3786\"], [0.5555555555555556, \"#d8576b\"], [0.6666666666666666, \"#ed7953\"], [0.7777777777777778, \"#fb9f3a\"], [0.8888888888888888, \"#fdca26\"], [1.0, \"#f0f921\"]], \"sequentialminus\": [[0.0, \"#0d0887\"], [0.1111111111111111, \"#46039f\"], [0.2222222222222222, \"#7201a8\"], [0.3333333333333333, \"#9c179e\"], [0.4444444444444444, \"#bd3786\"], [0.5555555555555556, \"#d8576b\"], [0.6666666666666666, \"#ed7953\"], [0.7777777777777778, \"#fb9f3a\"], [0.8888888888888888, \"#fdca26\"], [1.0, \"#f0f921\"]]}, \"colorway\": [\"#636efa\", \"#EF553B\", \"#00cc96\", \"#ab63fa\", \"#FFA15A\", \"#19d3f3\", \"#FF6692\", \"#B6E880\", \"#FF97FF\", \"#FECB52\"], \"font\": {\"color\": \"#2a3f5f\"}, \"geo\": {\"bgcolor\": \"white\", \"lakecolor\": \"white\", \"landcolor\": \"#E5ECF6\", \"showlakes\": true, \"showland\": true, \"subunitcolor\": \"white\"}, \"hoverlabel\": {\"align\": \"left\"}, \"hovermode\": \"closest\", \"mapbox\": {\"style\": \"light\"}, \"paper_bgcolor\": \"white\", \"plot_bgcolor\": \"#E5ECF6\", \"polar\": {\"angularaxis\": {\"gridcolor\": \"white\", \"linecolor\": \"white\", \"ticks\": \"\"}, \"bgcolor\": \"#E5ECF6\", \"radialaxis\": {\"gridcolor\": \"white\", \"linecolor\": \"white\", \"ticks\": \"\"}}, \"scene\": {\"xaxis\": {\"backgroundcolor\": \"#E5ECF6\", \"gridcolor\": \"white\", \"gridwidth\": 2, \"linecolor\": \"white\", \"showbackground\": true, \"ticks\": \"\", \"zerolinecolor\": \"white\"}, \"yaxis\": {\"backgroundcolor\": \"#E5ECF6\", \"gridcolor\": \"white\", \"gridwidth\": 2, \"linecolor\": \"white\", \"showbackground\": true, \"ticks\": \"\", \"zerolinecolor\": \"white\"}, \"zaxis\": {\"backgroundcolor\": \"#E5ECF6\", \"gridcolor\": \"white\", \"gridwidth\": 2, \"linecolor\": \"white\", \"showbackground\": true, \"ticks\": \"\", \"zerolinecolor\": \"white\"}}, \"shapedefaults\": {\"line\": {\"color\": \"#2a3f5f\"}}, \"ternary\": {\"aaxis\": {\"gridcolor\": \"white\", \"linecolor\": \"white\", \"ticks\": \"\"}, \"baxis\": {\"gridcolor\": \"white\", \"linecolor\": \"white\", \"ticks\": \"\"}, \"bgcolor\": \"#E5ECF6\", \"caxis\": {\"gridcolor\": \"white\", \"linecolor\": \"white\", \"ticks\": \"\"}}, \"title\": {\"x\": 0.05}, \"xaxis\": {\"automargin\": true, \"gridcolor\": \"white\", \"linecolor\": \"white\", \"ticks\": \"\", \"title\": {\"standoff\": 15}, \"zerolinecolor\": \"white\", \"zerolinewidth\": 2}, \"yaxis\": {\"automargin\": true, \"gridcolor\": \"white\", \"linecolor\": \"white\", \"ticks\": \"\", \"title\": {\"standoff\": 15}, \"zerolinecolor\": \"white\", \"zerolinewidth\": 2}}}, \"title\": {\"text\": \"Feature Importance\"}, \"width\": 3200, \"xaxis\": {\"anchor\": \"y\", \"categoryarray\": [\"quintile_3_upper_limit\", \"black_pop\", \"average_household_size_owners\", \"Total Sales Tax Collections Retail TX\", \"maxtempC\", \"quintile_3_upper_limit_annual_pct_change\", \"precipMM\", \"children\", \"quintile_4_upper_limit\", \"median_household_income\", \"housing_units_10_to_19_units\", \"walking_to_work_population\", \"women_with_associate_degree\", \"housing_units_built_1940_to_1949_annual_pct_change\", \"armed_forces\", \"housing_units_built_1950_to_1959_annual_pct_change\", \"housing_units_single_family_attached_owned_annual_pct_change\", \"mintempC\", \"housing_units_built_1930_to_1939\", \"housing_units_built_1930_to_1939_annual_pct_change\", \"female_35_to_39\", \"hispanic_pop\", \"housing_units_built_1980_to_1989\", \"white_pop_annual_pct_change\", \"housing_units_built_1990_to_1999_annual_pct_change\", \"housing_units_5_to_9_units\", \"female_50_to_54\", \"housing_units_built_1950_to_1959\", \"rent_search_interest\", \"female_21_annual_pct_change\", \"quintile_1_upper_limit\", \"quintile_1_upper_limit_annual_pct_change\", \"delta_monthly_avg_gas_price\", \"high_school_diploma\", \"women_with_doctoral_degree_annual_pct_change\", \"female_75_to_79\", \"children_annual_pct_change\", \"housing_units_over_50_units\", \"average_household_size_owners_annual_pct_change\", \"total_sales_tax\", \"housing_units_built_1970_to_1979\", \"black_pop_annual_pct_change\", \"quintile_2_upper_limit\", \"outlet_org_type_cl\", \"housing_units_single_family_attached_owned\", \"Consumer Price Index TX\", \"housing_units_10_to_19_units_annual_pct_change\", \"bicycle_population\", \"single_women\", \"Existing Single Family Home Price TX\", \"housing_units_built_1940_to_1949\", \"units_paying_cash_rent\", \"rent_search_4_period_rsi\", \"housing_units_built_1970_to_1979_annual_pct_change\", \"men_with_bachelors_degree_annual_pct_change\", \"walking_to_work_population_annual_pct_change\", \"ur\", \"quintile_2_upper_limit_annual_pct_change\", \"motorcycle_population\", \"taxpayer_org_type_cl\", \"female_25_to_29_annual_pct_change\", \"white_pop\", \"men_with_bachelors_degree\", \"outlet_non_tx_ratio\", \"women_with_doctoral_degree\", \"monthly_avg_gas_price\", \"taxpayer_cl_ratio\", \"Consumer Price Index U.S.\", \"outlet_foreign_ratio\", \"housing_units_built_1990_to_1999\", \"taxpayer_count\", \"women_with_associate_degree_annual_pct_change\", \"outlet_taxpayer_non_tx\", \"driving_alone_population_annual_pct_change\", \"female_female_households\", \"female_30_to_34_annual_pct_change\", \"outlet_is_ratio\", \"taxpayer_org_type_foreign\", \"housing_units_built_1960_to_1969\", \"tx_is_abt_same\", \"housing_units_single_family_attached\", \"delta_sap_case_shiller_index\", \"quintile_4_upper_limit_annual_pct_change\", \"housing_units_5_to_9_units_annual_pct_change\", \"Retail Diesel Price TX\", \"female_40_to_44\", \"TNX\", \"taxpayer_is_ratio\", \"total_sales_tax_last_year\", \"sap_case_shiller_index\", \"housing_units_20_to_49_units_annual_pct_change\", \"delta_TNX\", \"tx_is_a_lot_better\", \"tx_is_a_little_better\", \"tx_is_a_little_worse\", \"tx_is_a_lot_worse\", \"tx_is_dont_know\", \"tx_is_better\", \"tx_is_worse\", \"delta_ur\", \"taxpayer_org_type_is\", \"payer_outlet_same_zipcode\", \"taxpayer_same_zip_ratio\", \"taxpayer_foreign_ratio\", \"outlet_count\", \"outlet_org_type_is\", \"outlet_org_type_foreign\", \"outlet_cl_ratio\", \"fatalities\", \"caseCount\", \"env_violation_count\", \"Consumer Confidence Index TX\", \"Consumer Confidence West South Central\", \"Consumer Confidence Index US\", \"Nonfarm Employment TX\", \"Nonfarm Employment U.S.\", \"Unemployment TX\", \"Unemployment U.S.\", \"Single Family Building Permits TX\", \"Multi Family Building Permits TX\", \"Existing Single Family Home Sales TX\", \"Non Residential Building Construction\", \"Total Sales Tax Collections TX\", \"Retail Gasoline Price TX\", \"Nonfarm Employment Illinois\", \"Nonfarm Employment Florida\", \"Nonfarm Employment New York\", \"Nonfarm Employment Texas\", \"Nonfarm Employment California\", \"Gross Value Crude Oil Production\", \"Gross Value Natural Gas Production\", \"Motor Fuel Taxed Gasoline\", \"Motor Fuel Taxed Diesel\", \"driving_alone_population\", \"female_45_to_49\", \"female_21\", \"housing_units_20_to_49_units\", \"female_25_to_29\", \"female_30_to_34\", \"hispanic_pop_annual_pct_change\", \"high_school_diploma_annual_pct_change\", \"female_45_to_49_annual_pct_change\", \"female_75_to_79_annual_pct_change\", \"median_household_income_annual_pct_change\", \"female_50_to_54_annual_pct_change\", \"housing_units_built_1980_to_1989_annual_pct_change\", \"female_35_to_39_annual_pct_change\", \"units_paying_cash_rent_annual_pct_change\", \"housing_units_single_family_attached_annual_pct_change\", \"female_40_to_44_annual_pct_change\", \"single_women_annual_pct_change\", \"housing_units_over_50_units_annual_pct_change\", \"housing_units_built_1960_to_1969_annual_pct_change\", \"sales_tax_rate\", \"per_diff_total_sales_tax\"], \"categoryorder\": \"array\", \"domain\": [0.0, 1.0], \"title\": {\"text\": \"feature\"}}, \"yaxis\": {\"anchor\": \"x\", \"domain\": [0.0, 1.0], \"title\": {\"text\": \"importance\"}}},                        {\"responsive\": true}                    ).then(function(){\n",
       "                            \n",
       "var gd = document.getElementById('381cf9c7-42ae-4e23-87c1-33ac652064cf');\n",
       "var x = new MutationObserver(function (mutations, observer) {{\n",
       "        var display = window.getComputedStyle(gd).display;\n",
       "        if (!display || display === 'none') {{\n",
       "            console.log([gd, 'removed!']);\n",
       "            Plotly.purge(gd);\n",
       "            observer.disconnect();\n",
       "        }}\n",
       "}});\n",
       "\n",
       "// Listen for the removal of the full notebook cells\n",
       "var notebookContainer = gd.closest('#notebook-container');\n",
       "if (notebookContainer) {{\n",
       "    x.observe(notebookContainer, {childList: true});\n",
       "}}\n",
       "\n",
       "// Listen for the clearing of the current output cell\n",
       "var outputEl = gd.closest('.output');\n",
       "if (outputEl) {{\n",
       "    x.observe(outputEl, {childList: true});\n",
       "}}\n",
       "\n",
       "                        })                };                });            </script>        </div>"
      ]
     },
     "metadata": {},
     "output_type": "display_data"
    }
   ],
   "source": [
    "feature_importance = [i for i in zip(X_train.columns,model.feature_importances_)]\n",
    "feature_importance = sorted(feature_importance,key = lambda x: x[1],reverse = True)\n",
    "\n",
    "FI = pd.DataFrame(feature_importance,columns = ['feature','importance'])\n",
    "\n",
    "fig = px.bar(data_frame = FI.iloc[1:,:],\n",
    "             x = 'feature',\n",
    "             y = 'importance',\n",
    "             title = \"Feature Importance\",\n",
    "             color = 'feature',\n",
    "            height = 1000,width = 3200)\n",
    "fig.show()"
   ]
  },
  {
   "cell_type": "code",
   "execution_count": null,
   "metadata": {},
   "outputs": [],
   "source": []
  }
 ],
 "metadata": {
  "kernelspec": {
   "display_name": "Python 3",
   "language": "python",
   "name": "python3"
  },
  "language_info": {
   "codemirror_mode": {
    "name": "ipython",
    "version": 3
   },
   "file_extension": ".py",
   "mimetype": "text/x-python",
   "name": "python",
   "nbconvert_exporter": "python",
   "pygments_lexer": "ipython3",
   "version": "3.7.3"
  }
 },
 "nbformat": 4,
 "nbformat_minor": 2
}
