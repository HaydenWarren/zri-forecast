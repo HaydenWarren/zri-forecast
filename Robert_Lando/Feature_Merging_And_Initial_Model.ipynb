{
 "cells": [
  {
   "cell_type": "code",
   "execution_count": 1,
   "metadata": {},
   "outputs": [],
   "source": [
    "import numpy as np\n",
    "import pandas as pd\n",
    "import matplotlib.pyplot as plt\n",
    "import seaborn as sns\n",
    "import plotly.express as px"
   ]
  },
  {
   "cell_type": "code",
   "execution_count": 2,
   "metadata": {},
   "outputs": [],
   "source": [
    "pd.set_option('display.max_columns', None)\n",
    "pd.set_option('display.max_rows', None)"
   ]
  },
  {
   "cell_type": "markdown",
   "metadata": {},
   "source": [
    "# Reading in Data"
   ]
  },
  {
   "cell_type": "code",
   "execution_count": 3,
   "metadata": {},
   "outputs": [],
   "source": [
    "zori_diff_6 = pd.read_csv\\\n",
    "(r'C:\\Users\\robla\\Desktop\\nycdsa\\Capstone\\cleaned_data\\cleaned_data\\long_differenced_interpolated_target_6_month.csv',\n",
    " index_col = 0) \n",
    "\n",
    "zori_diff_6.loc[:,'Time'] = zori_diff_6['Time'].apply(lambda x: pd.to_datetime(x, format = '%Y-%m')) #converting time to datetime format\n",
    "\n",
    "zori_diff_12 = pd.read_csv\\\n",
    "(r'C:\\Users\\robla\\Desktop\\nycdsa\\Capstone\\cleaned_data\\cleaned_data\\long_differenced_interpolated_target_annual.csv',\n",
    " index_col = 0) \n",
    "\n",
    "zori_diff_12.loc[:,'Time'] = zori_diff_12['Time'].apply(lambda x: pd.to_datetime(x, format = '%Y-%m')) #converting time to datetime format\n",
    "\n",
    "############################################################################################## differenced zori\n",
    "\n",
    "zori_diff = pd.read_csv\\\n",
    "(r'C:\\Users\\robla\\Desktop\\nycdsa\\Capstone\\cleaned_data\\cleaned_data\\long_differenced_interpolated_target.csv',\n",
    " index_col = 0) \n",
    "\n",
    "zori_diff.loc[:,'Time'] = zori_diff['Time'].apply(lambda x: pd.to_datetime(x, format = '%Y-%m')) #converting time to datetime format\n",
    "\n",
    "############################################################################################## zori\n",
    "\n",
    "zori = pd.read_csv\\\n",
    "(r'C:\\Users\\robla\\Desktop\\nycdsa\\Capstone\\cleaned_data\\cleaned_data\\long_interpolated_target.csv',\n",
    " index_col = 0)\n",
    "\n",
    "\n",
    "zori.loc[:,'Time'] = zori['Time'].apply(lambda x: pd.to_datetime(x, format = '%Y-%m')) #converting time to datetime format"
   ]
  },
  {
   "cell_type": "code",
   "execution_count": 4,
   "metadata": {},
   "outputs": [],
   "source": [
    "############################################################################################## acs\n",
    "acs = pd.read_csv\\\n",
    "(r'C:\\Users\\robla\\Desktop\\nycdsa\\Capstone\\cleaned_data\\cleaned_data\\acs_clean.csv',\n",
    " index_col = 0)\n",
    "acs = acs.drop('median_age', axis = 1)\n",
    "\n",
    "#acs.rename(columns = {'geo_id':'zip_code'}, inplace = True)\n",
    "\n",
    "# cols_to_take_percent_change = list(acs.drop(['zip_code','year','Time'],axis = 1).columns)\n",
    "# percent_change_cols = []\n",
    "\n",
    "# for col in cols_to_take_percent_change:\n",
    "#     acs.loc[:,col+'_12_month_percent_change'] = acs[col].pct_change(periods = 2568) # converting values to 12 month percent change in each zip_code\n",
    "#                                                          # periods are 2568 because data is stacked according to zip_code\n",
    "#     percent_change_cols.append(col+'_12_month_percent_change')\n",
    "\n",
    "acs2 = pd.read_csv\\\n",
    "(r'C:\\Users\\robla\\Desktop\\nycdsa\\Capstone\\cleaned_data\\cleaned_data\\acs2_clean.csv',\n",
    " index_col = 0)\n",
    "\n",
    "acs2.loc[:,'Time'] = acs2['Time'].apply(lambda x: str(x))\n",
    "\n",
    "\n",
    "# cols_to_take_percent_change2 = list(acs2.drop(['zip_code','Time'],axis = 1).columns)\n",
    "\n",
    "# for col in cols_to_take_percent_change2:\n",
    "#     acs2.loc[:,col] = acs2[col].pct_change(periods = 2568) # converting values to 12 month percent change in each zip_code\n",
    "#                                                            # periods are 2568 because data is stacked according to zip_code"
   ]
  },
  {
   "cell_type": "code",
   "execution_count": 5,
   "metadata": {},
   "outputs": [
    {
     "data": {
      "text/html": [
       "<div>\n",
       "<style scoped>\n",
       "    .dataframe tbody tr th:only-of-type {\n",
       "        vertical-align: middle;\n",
       "    }\n",
       "\n",
       "    .dataframe tbody tr th {\n",
       "        vertical-align: top;\n",
       "    }\n",
       "\n",
       "    .dataframe thead th {\n",
       "        text-align: right;\n",
       "    }\n",
       "</style>\n",
       "<table border=\"1\" class=\"dataframe\">\n",
       "  <thead>\n",
       "    <tr style=\"text-align: right;\">\n",
       "      <th></th>\n",
       "      <th>zip_code</th>\n",
       "      <th>male_pop</th>\n",
       "      <th>female_pop</th>\n",
       "      <th>white_pop</th>\n",
       "      <th>not_us_citizen_pop</th>\n",
       "      <th>black_pop</th>\n",
       "      <th>asian_pop</th>\n",
       "      <th>hispanic_pop</th>\n",
       "      <th>amerindian_pop</th>\n",
       "      <th>other_race_pop</th>\n",
       "      <th>median_income</th>\n",
       "      <th>income_per_capita</th>\n",
       "      <th>pop_determined_poverty_status</th>\n",
       "      <th>poverty</th>\n",
       "      <th>gini_index</th>\n",
       "      <th>housing_units</th>\n",
       "      <th>renter_occupied_housing_units_paying_cash_median_gross_rent</th>\n",
       "      <th>occupied_housing_units</th>\n",
       "      <th>vacant_housing_units_for_rent</th>\n",
       "      <th>median_year_structure_built</th>\n",
       "      <th>married_households</th>\n",
       "      <th>households_public_asst_or_food_stamps</th>\n",
       "      <th>male_male_households</th>\n",
       "      <th>female_female_households</th>\n",
       "      <th>children</th>\n",
       "      <th>median_rent</th>\n",
       "      <th>percent_income_spent_on_rent</th>\n",
       "      <th>owner_occupied_housing_units</th>\n",
       "      <th>aggregate_travel_time_to_work</th>\n",
       "      <th>commuters_by_public_transportation</th>\n",
       "      <th>high_school_diploma</th>\n",
       "      <th>bachelors_degree</th>\n",
       "      <th>employed_pop</th>\n",
       "      <th>unemployed_pop</th>\n",
       "      <th>pop_in_labor_force</th>\n",
       "      <th>armed_forces</th>\n",
       "      <th>year</th>\n",
       "      <th>Time</th>\n",
       "    </tr>\n",
       "  </thead>\n",
       "  <tbody>\n",
       "    <tr>\n",
       "      <th>0</th>\n",
       "      <td>77494.0</td>\n",
       "      <td>27525.0</td>\n",
       "      <td>28283.0</td>\n",
       "      <td>36390.0</td>\n",
       "      <td>6630.0</td>\n",
       "      <td>3717.0</td>\n",
       "      <td>6882.0</td>\n",
       "      <td>7852.0</td>\n",
       "      <td>22.0</td>\n",
       "      <td>52.0</td>\n",
       "      <td>120111.0</td>\n",
       "      <td>42344.0</td>\n",
       "      <td>55713.0</td>\n",
       "      <td>1421.0</td>\n",
       "      <td>0.3568</td>\n",
       "      <td>18581.0</td>\n",
       "      <td>1207.0</td>\n",
       "      <td>17440.0</td>\n",
       "      <td>160.0</td>\n",
       "      <td>2004.0</td>\n",
       "      <td>13615.0</td>\n",
       "      <td>253.0</td>\n",
       "      <td>46.0</td>\n",
       "      <td>41.0</td>\n",
       "      <td>19418.0</td>\n",
       "      <td>1005.0</td>\n",
       "      <td>28.1</td>\n",
       "      <td>15334.0</td>\n",
       "      <td>767465.0</td>\n",
       "      <td>672.0</td>\n",
       "      <td>3952.591278</td>\n",
       "      <td>5649.188452</td>\n",
       "      <td>25437.0</td>\n",
       "      <td>1097.0</td>\n",
       "      <td>26534.0</td>\n",
       "      <td>0.0</td>\n",
       "      <td>2011</td>\n",
       "      <td>2011-01-01</td>\n",
       "    </tr>\n",
       "  </tbody>\n",
       "</table>\n",
       "</div>"
      ],
      "text/plain": [
       "   zip_code  male_pop  female_pop  white_pop  not_us_citizen_pop  black_pop  \\\n",
       "0   77494.0   27525.0     28283.0    36390.0              6630.0     3717.0   \n",
       "\n",
       "   asian_pop  hispanic_pop  amerindian_pop  other_race_pop  median_income  \\\n",
       "0     6882.0        7852.0            22.0            52.0       120111.0   \n",
       "\n",
       "   income_per_capita  pop_determined_poverty_status  poverty  gini_index  \\\n",
       "0            42344.0                        55713.0   1421.0      0.3568   \n",
       "\n",
       "   housing_units  renter_occupied_housing_units_paying_cash_median_gross_rent  \\\n",
       "0        18581.0                                             1207.0             \n",
       "\n",
       "   occupied_housing_units  vacant_housing_units_for_rent  \\\n",
       "0                 17440.0                          160.0   \n",
       "\n",
       "   median_year_structure_built  married_households  \\\n",
       "0                       2004.0             13615.0   \n",
       "\n",
       "   households_public_asst_or_food_stamps  male_male_households  \\\n",
       "0                                  253.0                  46.0   \n",
       "\n",
       "   female_female_households  children  median_rent  \\\n",
       "0                      41.0   19418.0       1005.0   \n",
       "\n",
       "   percent_income_spent_on_rent  owner_occupied_housing_units  \\\n",
       "0                          28.1                       15334.0   \n",
       "\n",
       "   aggregate_travel_time_to_work  commuters_by_public_transportation  \\\n",
       "0                       767465.0                               672.0   \n",
       "\n",
       "   high_school_diploma  bachelors_degree  employed_pop  unemployed_pop  \\\n",
       "0          3952.591278       5649.188452       25437.0          1097.0   \n",
       "\n",
       "   pop_in_labor_force  armed_forces  year        Time  \n",
       "0             26534.0           0.0  2011  2011-01-01  "
      ]
     },
     "execution_count": 5,
     "metadata": {},
     "output_type": "execute_result"
    }
   ],
   "source": [
    "acs.head(1)"
   ]
  },
  {
   "cell_type": "code",
   "execution_count": 6,
   "metadata": {},
   "outputs": [],
   "source": [
    "acs2 = acs2.set_index('Time')"
   ]
  },
  {
   "cell_type": "code",
   "execution_count": 7,
   "metadata": {},
   "outputs": [],
   "source": [
    "acs2 = acs2.reset_index()"
   ]
  },
  {
   "cell_type": "code",
   "execution_count": 8,
   "metadata": {},
   "outputs": [
    {
     "data": {
      "text/plain": [
       "Index(['zip_code', 'male_pop', 'female_pop', 'white_pop', 'not_us_citizen_pop',\n",
       "       'black_pop', 'asian_pop', 'hispanic_pop', 'amerindian_pop',\n",
       "       'other_race_pop', 'median_income', 'income_per_capita',\n",
       "       'pop_determined_poverty_status', 'poverty', 'gini_index',\n",
       "       'housing_units',\n",
       "       'renter_occupied_housing_units_paying_cash_median_gross_rent',\n",
       "       'occupied_housing_units', 'vacant_housing_units_for_rent',\n",
       "       'median_year_structure_built', 'married_households',\n",
       "       'households_public_asst_or_food_stamps', 'male_male_households',\n",
       "       'female_female_households', 'children', 'median_rent',\n",
       "       'percent_income_spent_on_rent', 'owner_occupied_housing_units',\n",
       "       'aggregate_travel_time_to_work', 'commuters_by_public_transportation',\n",
       "       'high_school_diploma', 'bachelors_degree', 'employed_pop',\n",
       "       'unemployed_pop', 'pop_in_labor_force', 'armed_forces', 'year', 'Time'],\n",
       "      dtype='object')"
      ]
     },
     "execution_count": 8,
     "metadata": {},
     "output_type": "execute_result"
    }
   ],
   "source": [
    "acs.columns"
   ]
  },
  {
   "cell_type": "code",
   "execution_count": 9,
   "metadata": {},
   "outputs": [
    {
     "data": {
      "text/plain": [
       "['Time',\n",
       " 'zip_code',\n",
       " 'commuting_population',\n",
       " 'divorced_men',\n",
       " 'driving_alone_population',\n",
       " 'housing_units_built_1940_to_1949',\n",
       " 'quintile_2_income_share',\n",
       " 'housing_units_10_to_19_units_rented',\n",
       " 'quintile_3_income_share',\n",
       " 'married_women_spouse_absent',\n",
       " 'female_80_to_84',\n",
       " 'female_45_to_49',\n",
       " 'female_75_to_79',\n",
       " 'married_men',\n",
       " 'motorcycle_population',\n",
       " 'female_60_to_61',\n",
       " 'male_20',\n",
       " 'housing_units_10_to_19_units_owned',\n",
       " 'male_21',\n",
       " 'men_with_professional_degree',\n",
       " 'housing_units_over_50_units_rented',\n",
       " 'quintile_5_income_share',\n",
       " 'housing_units_single_family_detached_rented',\n",
       " 'housing_units_built_1950_to_1959',\n",
       " 'women_with_professional_degree',\n",
       " 'total_contract_rent',\n",
       " 'bicycle_population',\n",
       " 'male_30_to_34',\n",
       " 'housing_units_other_type',\n",
       " 'male_18_to_19',\n",
       " 'average_household_size_renters',\n",
       " 'other_commute_method_population',\n",
       " 'male_50_to_54',\n",
       " 'married_men_spouse_absent',\n",
       " 'marital_status_population',\n",
       " 'housing_units_3_to_4_units_owned',\n",
       " 'quintile_4_upper_limit',\n",
       " 'quintile_3_upper_limit',\n",
       " 'men_with_associate_degree',\n",
       " 'women_with_one_year_or_more_college',\n",
       " 'housing_units_10_to_19_units',\n",
       " 'housing_units_built_1970_to_1979',\n",
       " 'quintile_4_income_share',\n",
       " 'total_units',\n",
       " 'median_household_income',\n",
       " 'women_with_doctoral_degree',\n",
       " 'female_21',\n",
       " 'housing_units_single_family_detached',\n",
       " 'housing_units_20_to_49_units_rented',\n",
       " 'renter_occupied_units',\n",
       " 'housing_units_single_family_detached_owned',\n",
       " 'women_with_less_one_year_college',\n",
       " 'taxi_population',\n",
       " 'female_62_to_64',\n",
       " 'working_from_home_population',\n",
       " 'total_households',\n",
       " 'median_contract_rent',\n",
       " 'female_22_to_24',\n",
       " 'male_62_to_64',\n",
       " 'occupied_units',\n",
       " 'married_men_spouse_present',\n",
       " 'male_67_to_69',\n",
       " 'quintile_1_mean_income',\n",
       " 'median_rooms',\n",
       " 'female_50_to_54',\n",
       " 'median_gross_rent',\n",
       " 'male_22_to_24',\n",
       " 'median_age',\n",
       " 'female_55_to_59',\n",
       " 'housing_units_mobile_home_rented',\n",
       " 'housing_units_built_1980_to_1989',\n",
       " 'housing_units_5_to_9_units_owned',\n",
       " 'women_with_hs_diploma',\n",
       " 'housing_units_other_type_owned',\n",
       " 'total_population_in_owner_occupied_units',\n",
       " 'housing_units_20_to_49_units_owned',\n",
       " 'housing_units_built_1930_to_1939',\n",
       " 'married_women',\n",
       " 'men_with_masters_degree',\n",
       " 'total_population_in_occupied_units',\n",
       " 'top_5_percent_mean_income',\n",
       " 'top_5_percent_lower_limit',\n",
       " 'female_35_to_39',\n",
       " 'male_70_to_74',\n",
       " 'female_18_to_19',\n",
       " 'men_with_less_one_year_college',\n",
       " 'housing_units_other_type_rented',\n",
       " 'housing_units_3_to_4_units',\n",
       " 'units_paying_cash_rent',\n",
       " 'female_85_over',\n",
       " 'housing_units_single_family_attached',\n",
       " 'male_60_to_61',\n",
       " 'housing_units_duplex',\n",
       " 'housing_units_20_to_49_units',\n",
       " 'men_with_doctoral_degree',\n",
       " 'top_5_percent_income_share',\n",
       " 'housing_units_duplex_rented',\n",
       " 'male_population',\n",
       " 'female_25_to_29',\n",
       " 'walking_to_work_population',\n",
       " 'owner_occupied_units',\n",
       " 'single_men',\n",
       " 'housing_units_5_to_9_units_rented',\n",
       " 'male_80_to_84',\n",
       " 'carpool_population',\n",
       " 'transit_population',\n",
       " 'female_population',\n",
       " 'male_55_to_59',\n",
       " 'female_20',\n",
       " 'women_with_masters_degree',\n",
       " 'quintile_1_income_share',\n",
       " 'total_household_income',\n",
       " 'housing_units_mobile_home',\n",
       " 'men_with_bachelors_degree',\n",
       " 'housing_units_single_family_attached_rented',\n",
       " 'quintile_1_upper_limit',\n",
       " 'female_70_to_74',\n",
       " 'quintile_2_upper_limit',\n",
       " 'total_population_in_renter_occupied_units',\n",
       " 'average_household_size',\n",
       " 'women_with_associate_degree',\n",
       " 'education_population',\n",
       " 'total_gross_rent',\n",
       " 'female_40_to_44',\n",
       " 'male_85_over',\n",
       " 'average_household_size_owners',\n",
       " 'divorced_women',\n",
       " 'female_30_to_34',\n",
       " 'housing_units_over_50_units_owned',\n",
       " 'female_67_to_69',\n",
       " 'male_25_to_29',\n",
       " 'housing_units_5_to_9_units',\n",
       " 'widowed_men',\n",
       " 'housing_units_3_to_4_units_rented',\n",
       " 'total_population',\n",
       " 'quintile_3_mean_income',\n",
       " 'men_with_one_year_or_more_college',\n",
       " 'widowed_women',\n",
       " 'male_40_to_44',\n",
       " 'male_35_to_39',\n",
       " 'housing_units_mobile_home_owned',\n",
       " 'quintile_4_mean_income',\n",
       " 'single_women',\n",
       " 'housing_units_built_1990_to_1999',\n",
       " 'housing_units_single_family_attached_owned',\n",
       " 'gini_coeficient',\n",
       " 'housing_units_over_50_units',\n",
       " 'women_with_bachelors_degree',\n",
       " 'male_45_to_49',\n",
       " 'housing_units_built_1960_to_1969',\n",
       " 'housing_units_duplex_owned',\n",
       " 'married_women_spouse_present',\n",
       " 'men_with_hs_diploma',\n",
       " 'quintile_5_mean_income',\n",
       " 'quintile_2_mean_income',\n",
       " 'male_75_to_79']"
      ]
     },
     "execution_count": 9,
     "metadata": {},
     "output_type": "execute_result"
    }
   ],
   "source": [
    "list(acs2.columns)"
   ]
  },
  {
   "cell_type": "markdown",
   "metadata": {},
   "source": [
    "# census feature engineering"
   ]
  },
  {
   "cell_type": "code",
   "execution_count": 10,
   "metadata": {},
   "outputs": [],
   "source": [
    "acs.loc[:,'diff_from_med_income_ratio_to_median_rent'] = (acs['income_per_capita'] - acs['median_income'])/acs['median_rent']\n",
    "\n",
    "acs.loc[:,'occupied_ratio'] = acs['occupied_housing_units']/acs['housing_units']\n",
    "\n",
    "acs.loc[:,'batch_high_school_ratio'] = acs['bachelors_degree']/acs['high_school_diploma']\n",
    "\n",
    "acs.loc[:,'minority_ratio'] = (acs['black_pop'] + acs['asian_pop'] + acs['hispanic_pop'] + acs['amerindian_pop'] + acs['other_race_pop'])/acs['white_pop']\n",
    "\n",
    "acs.loc[:,'married_household_ratio'] = acs['married_households']/acs['occupied_housing_units']\n",
    "\n",
    "acs.loc[:,'food_stamp_ratio'] = acs['households_public_asst_or_food_stamps']/acs['occupied_housing_units']"
   ]
  },
  {
   "cell_type": "code",
   "execution_count": 15,
   "metadata": {},
   "outputs": [],
   "source": [
    "engineered_acs = acs[['Time','zip_code','diff_from_med_income_ratio_to_median_rent',\n",
    "                      'occupied_ratio','batch_high_school_ratio',\n",
    "                      'minority_ratio','married_household_ratio',\n",
    "                      'food_stamp_ratio']]\n",
    "engineered_acs.to_csv(r'C:\\Users\\robla\\Desktop\\nycdsa\\Capstone\\data_dump\\engineered_acs.csv')"
   ]
  },
  {
   "cell_type": "code",
   "execution_count": null,
   "metadata": {},
   "outputs": [],
   "source": [
    "############################################################################################## city unemployment rates\n",
    "\n",
    "unemployment_rates = pd.read_csv\\\n",
    "(r'C:\\Users\\robla\\Desktop\\nycdsa\\Capstone\\cleaned_data\\cleaned_data\\city_unemployment_rates.csv',\n",
    " index_col = 0) \n",
    "\n",
    "unemployment_rates.loc[:,'Time'] = unemployment_rates['Time'].apply(lambda x: pd.to_datetime(x, format = '%Y-%m')) #converting time to datetime format\n",
    "\n",
    "############################################################################################## spc housing index\n",
    "\n",
    "sap_case = pd.read_csv\\\n",
    "(r'C:\\Users\\robla\\Desktop\\nycdsa\\Capstone\\cleaned_data\\cleaned_data\\sap_case_shiller.csv',\n",
    " index_col = 0)\n",
    "\n",
    "sap_case.loc[:,'Time'] = sap_case['Time'].apply(lambda x: pd.to_datetime(x, format = '%Y-%m')) #converting time to datetime format\n",
    "\n",
    "############################################################################################## ten year note\n",
    "\n",
    "tnx = pd.read_csv\\\n",
    "(r'C:\\Users\\robla\\Desktop\\nycdsa\\Capstone\\cleaned_data\\cleaned_data\\monthly_tnx.csv',\n",
    " index_col = 0)\n",
    "\n",
    "tnx.loc[:,'Time'] = tnx['Time'].apply(lambda x: pd.to_datetime(x, format = '%Y-%m')) #converting time to datetime format\n",
    "\n",
    "############################################################################################## state monthly gas prices \n",
    "\n",
    "monthly_gas = pd.read_csv\\\n",
    "(r'C:\\Users\\robla\\Desktop\\nycdsa\\Capstone\\cleaned_data\\cleaned_data\\monthly_avg_gas_prices.csv',\n",
    " index_col = 0)\n",
    "\n",
    "\n",
    "monthly_gas.loc[:,'Time'] = monthly_gas['Time'].apply(lambda x: pd.to_datetime(x, format = '%Y-%m')) #converting time to datetime format\n",
    "\n",
    "############################################################################################## weather\n",
    "\n",
    "weather = pd.read_csv\\\n",
    "(r'C:\\Users\\robla\\Desktop\\nycdsa\\Capstone\\cleaned_data\\cleaned_data\\weather.csv',\n",
    " index_col = 0)\n",
    "\n",
    "# weather.rename(columns = {'date_time':'Time','zip':'zip_code'},inplace = True)\n",
    "\n",
    "\n",
    "# weather.loc[:,'Time'] = weather['Time'].apply(lambda x: pd.to_datetime(x, format = '%Y-%m')) #converting time to datetime format\n",
    "\n",
    "############################################################################################## key econ\n",
    "\n",
    "key_econ = pd.read_csv\\\n",
    "(r'C:\\Users\\robla\\Desktop\\nycdsa\\Capstone\\cleaned_data\\cleaned_data\\key_econ.csv',index_col = 0)#,parse_dates= {'Time':['Month', 'Year']})\n",
    "\n",
    "#key_econ.loc[:,'Time'] = key_econ['Time'].apply(lambda x: pd.to_datetime(x, format = '%Y-%m')) #converting time to datetime format\n",
    "\n",
    "############################################################################################## poll_clean\n",
    "\n",
    "poll = pd.read_csv\\\n",
    "(r'C:\\Users\\robla\\Desktop\\nycdsa\\Capstone\\cleaned_data\\cleaned_data\\poll_clean.csv',\n",
    " index_col = 0)#.drop(['month','year'], axis = 1)\n",
    "\n",
    "# poll.rename(columns = {'date':'Time','zip_codes':'zip_code'},inplace = True)\n",
    "\n",
    "# poll.loc[:,'Time'] = poll['Time'].apply(lambda x: pd.to_datetime(x, format = '%Y-%m')) #converting time to datetime format\n",
    "\n",
    "############################################################################################## new biz outlet !\n",
    "\n",
    "new_biz_out = pd.read_csv\\\n",
    "(r'C:\\Users\\robla\\Desktop\\nycdsa\\Capstone\\cleaned_data\\cleaned_data\\new_biz_outlet.csv',index_col = 0)#,\n",
    " #index_col = 1,parse_dates= {'Time':['month', 'year']})\n",
    "\n",
    "#new_biz_out.loc[:,'Time'] = new_biz_out['Time'].apply(lambda x: pd.to_datetime(x, format = '%Y-%m')) #converting time to datetime format\n",
    "\n",
    "############################################################################################## covid_clean\n",
    "\n",
    "covid = pd.read_csv\\\n",
    "(r'C:\\Users\\robla\\Desktop\\nycdsa\\Capstone\\cleaned_data\\cleaned_data\\covid_clean.csv',\n",
    " index_col = 0)#,parse_dates= {'Time':['month', 'year']})\n",
    "\n",
    "# covid.loc[:,'Time'] = covid['Time'].apply(lambda x: pd.to_datetime(x, format = '%Y-%m')) #converting time to datetime format\n",
    "\n",
    "############################################################################################## env_violation\n",
    "env_vio = pd.read_csv\\\n",
    "(r'C:\\Users\\robla\\Desktop\\nycdsa\\Capstone\\cleaned_data\\cleaned_data\\env_violation.csv',\n",
    " index_col = 0)\n",
    "\n",
    "#env_vio.rename(columns = {'date':'Time','zip':'zip_code'},inplace = True)\n",
    "\n",
    "#env_vio.loc[:,'Time'] = env_vio['Time'].apply(lambda x: pd.to_datetime(x, format = '%Y-%m')) #converting time to datetime format\n",
    "\n",
    "############################################################################################## new_biz_taxpayer\n",
    "\n",
    "new_biz_taxpayer = pd.read_csv\\\n",
    "(r'C:\\Users\\robla\\Desktop\\nycdsa\\Capstone\\cleaned_data\\cleaned_data\\new_biz_taxpayer.csv',index_col = 0)#,\n",
    " #index_col = 1,parse_dates= {'Time':['month', 'year']})\n",
    "\n",
    "#new_biz_taxpayer.loc[:,'Time'] = new_biz_taxpayer['Time'].apply(lambda x: pd.to_datetime(x, format = '%Y-%m')) #converting time to datetime format\n",
    "\n",
    "############################################################################################## sales_tax_allocation \n",
    "\n",
    "sales_tax_alloc = pd.read_csv\\\n",
    "(r'C:\\Users\\robla\\Desktop\\nycdsa\\Capstone\\cleaned_data\\cleaned_data\\sales_tax_allocation.csv',\n",
    " index_col = 0)#,parse_dates= {'Time':['month', 'year']})\n",
    "\n",
    "#sales_tax_alloc.loc[:,'Time'] = sales_tax_alloc['Time'].apply(lambda x: pd.to_datetime(x, format = '%Y-%m')) #converting time to datetime format\n",
    "\n",
    "rent_search = pd.read_csv\\\n",
    "(r'C:\\Users\\robla\\Desktop\\nycdsa\\Capstone\\cleaned_data\\cleaned_data\\rent_search_trend.csv',\n",
    " index_col = 0)\n",
    "\n",
    "real_dispos = pd.read_csv\\\n",
    "(r'C:\\Users\\robla\\Desktop\\nycdsa\\Capstone\\cleaned_data\\cleaned_data\\real_dispos.csv',\n",
    " index_col = 0)"
   ]
  },
  {
   "cell_type": "code",
   "execution_count": null,
   "metadata": {},
   "outputs": [],
   "source": [
    "acs.shape"
   ]
  },
  {
   "cell_type": "code",
   "execution_count": null,
   "metadata": {},
   "outputs": [],
   "source": [
    "acs2.shape"
   ]
  },
  {
   "cell_type": "code",
   "execution_count": null,
   "metadata": {
    "scrolled": true
   },
   "outputs": [],
   "source": [
    "print(zori.shape,zori.columns,'\\n')\n",
    "print(zori_diff.shape,zori_diff.columns,'\\n')\n",
    "print(zori_diff_6.shape,zori_diff_6.columns,'\\n')\n",
    "print(zori_diff_12.shape,zori_diff_12.columns,'\\n')\n",
    "print(sales_tax_alloc.shape,sales_tax_alloc.columns,'\\n')\n",
    "print(new_biz_taxpayer.shape,new_biz_taxpayer.columns,'\\n')\n",
    "print(new_biz_out.shape,new_biz_out.columns,'\\n')\n",
    "print(covid.shape,covid.columns,'\\n')\n",
    "print(env_vio.shape,env_vio.columns,'\\n')\n",
    "print(poll.shape,poll.columns,'\\n')\n",
    "print(key_econ.shape,key_econ.columns,'\\n')\n",
    "print(weather.shape,weather.columns,'\\n')\n",
    "print(unemployment_rates.shape,unemployment_rates.columns,'\\n')\n",
    "print(sap_case.shape,sap_case.columns,'\\n')\n",
    "print(acs.shape,acs.columns,'\\n')\n",
    "print(tnx.shape,tnx.columns,'\\n')\n",
    "print(monthly_gas.shape,monthly_gas.columns,'\\n')\n",
    "print(rent_search.shape,rent_search.columns,'\\n')\n",
    "print(real_dispos.shape,real_dispos.columns,'\\n')"
   ]
  },
  {
   "cell_type": "code",
   "execution_count": null,
   "metadata": {},
   "outputs": [],
   "source": [
    "##############################################################################################\n",
    "\n",
    "dfs = [zori,zori_diff,zori_diff_6,zori_diff_12,\n",
    "       sales_tax_alloc,new_biz_taxpayer,new_biz_out,\n",
    "       covid,env_vio,poll,key_econ,weather,\n",
    "       unemployment_rates,sap_case,tnx,acs,acs2,monthly_gas,\n",
    "       rent_search] \n",
    "\n",
    "df_names = ['zori','zori_diff','zori_diff_6','zori_diff_12',\n",
    "            'sales_tax_alloc','new_biz_taxpayer','new_biz_out',\n",
    "            'covid','env_vio','poll','key_econ','weather',\n",
    "            'unemployment_rates','sap_case','tnx','acs','acs2','monthly_gas',\n",
    "            'rent_search']\n",
    "\n",
    "# Finding order to left merge everything\n",
    "\n",
    "row_counts = [df.shape[0] for df in dfs]\n",
    "row_counts = pd.DataFrame(list(enumerate(row_counts))).sort_values(by = 1, ascending = False)\n",
    "merge_index_order = list(row_counts[0])\n",
    "merge_index_order"
   ]
  },
  {
   "cell_type": "markdown",
   "metadata": {},
   "source": [
    "### Making sure Time is the same dtype for all dataframes"
   ]
  },
  {
   "cell_type": "code",
   "execution_count": null,
   "metadata": {
    "scrolled": true
   },
   "outputs": [],
   "source": [
    "for df in dfs:\n",
    "    \n",
    "    df.loc[:,'Time'] = df['Time'].apply(lambda x: pd.to_datetime(x, format = '%Y-%m'))\n",
    "\n",
    "for name,df in list(zip(df_names,dfs)):\n",
    "    print('\\n',f'########## {name} ################\\n','\\n',df.dtypes)"
   ]
  },
  {
   "cell_type": "code",
   "execution_count": null,
   "metadata": {},
   "outputs": [],
   "source": [
    "time_window = pd.DataFrame({name:(df['Time'].min(),df['Time'].max()) for name,df in list(zip(df_names,dfs))})\n",
    "time_window.loc[:,'feature'] = ['start_date','end_date']\n",
    "time_window = time_window.set_index('feature').T\n",
    "time_window.loc[:,'lag_steps'] = [0]*time_window.shape[0]\n",
    "time_window.loc['sap_case','lag_steps'] = 1\n",
    "time_window.loc['acs','lag_steps'] = 31\n",
    "time_window.loc['acs2','lag_steps'] = 19\n",
    "time_window"
   ]
  },
  {
   "cell_type": "code",
   "execution_count": null,
   "metadata": {},
   "outputs": [],
   "source": [
    "def df_lagger(df,level,steps):\n",
    "    \n",
    "    \"\"\"\n",
    "    Function to lag all columns in a multivariate time series dataframe,\n",
    "    'Time' column is assumed to be in datetime[64] format.\n",
    "    \n",
    "    df: dataframe to be lagged\n",
    "    level: string, 'days','months',or 'years'\n",
    "    steps: number of lags to shift w.r.t. chosen level\n",
    "    \n",
    "    \"\"\"\n",
    "    if (level == 'days'):\n",
    "        \n",
    "        df.loc[:,'Time'] = df.Time + pd.DateOffset(days = steps)\n",
    "    \n",
    "    \n",
    "    elif (level == 'months'):\n",
    "        \n",
    "        df.loc[:,'Time'] = df.Time + pd.DateOffset(months = steps)\n",
    "        \n",
    "        \n",
    "    elif (level == 'years'):\n",
    "        \n",
    "        df.loc[:,'Time'] = df.Time + pd.DateOffset(years = steps)\n",
    "        \n",
    "    else:\n",
    "        \n",
    "        print('level not days,months,or years')\n",
    "    \n",
    "    return df"
   ]
  },
  {
   "cell_type": "markdown",
   "metadata": {},
   "source": [
    "# Lagging acs and case_shiller"
   ]
  },
  {
   "cell_type": "code",
   "execution_count": null,
   "metadata": {},
   "outputs": [],
   "source": [
    "acs = df_lagger(acs,'months',31)\n",
    "sap_case = df_lagger(sap_case,'months',1)\n",
    "\n",
    "acs2 = df_lagger(acs2,'months',19)"
   ]
  },
  {
   "cell_type": "code",
   "execution_count": null,
   "metadata": {},
   "outputs": [],
   "source": [
    "time_window_post_lag = pd.DataFrame({name:(df['Time'].min(),df['Time'].max()) for name,df in list(zip(df_names,dfs))})\n",
    "time_window_post_lag.loc[:,'feature'] = ['start_date','end_date']\n",
    "time_window_post_lag = time_window_post_lag.set_index('feature').T\n",
    "time_window_post_lag"
   ]
  },
  {
   "cell_type": "markdown",
   "metadata": {},
   "source": [
    "# merging all feature df's"
   ]
  },
  {
   "cell_type": "code",
   "execution_count": null,
   "metadata": {},
   "outputs": [],
   "source": [
    "def left_merger(df_1,df_2):\n",
    "    \n",
    "    \"\"\"\n",
    "    left merges onto the larger of two dataframes by their shared columns\n",
    "    \n",
    "    df_1: dataframe 1\n",
    "    \n",
    "    df_2: dataframe 2\n",
    "    \n",
    "    \"\"\"\n",
    "    if (len(list(set(list(df_1.columns)).intersection(list(df_2.columns)))) == 0):\n",
    "        \n",
    "        raise ValueError('dataframes have no shared columns to merge on!!')\n",
    "    \n",
    "    \n",
    "    if (df_1.shape[0]>= df_2.shape[0]):\n",
    "        \n",
    "        a = list(df_1.columns)\n",
    "        b = list(df_2.columns)\n",
    "        shared_columns = list(set(a).intersection(b))\n",
    "        merged = pd.merge(df_1,df_2,how = 'left', on = shared_columns)\n",
    "        \n",
    "    else:\n",
    "        \n",
    "        a = list(df_1.columns)\n",
    "        b = list(df_2.columns)\n",
    "        shared_columns = list(set(a).intersection(b))\n",
    "        merged = pd.merge(df_2,df_1,how = 'left', on = shared_columns)\n",
    "        \n",
    "    return merged"
   ]
  },
  {
   "cell_type": "code",
   "execution_count": null,
   "metadata": {},
   "outputs": [],
   "source": [
    "def shared_columns(df_1,df_2):\n",
    "    \n",
    "    return list(set(list(df_1.columns)).intersection(list(df_2.columns)))"
   ]
  },
  {
   "cell_type": "code",
   "execution_count": null,
   "metadata": {
    "scrolled": true
   },
   "outputs": [],
   "source": [
    "print(shared_columns(dfs[merge_index_order[0]],dfs[merge_index_order[1]]))\n",
    "merged = left_merger(dfs[merge_index_order[0]],dfs[merge_index_order[1]])\n",
    "\n",
    "for i in range(2,len(merge_index_order)):\n",
    "    \n",
    "    print(shared_columns(merged,dfs[merge_index_order[i]]))\n",
    "    \n",
    "    merged = left_merger(merged,dfs[merge_index_order[i]])"
   ]
  },
  {
   "cell_type": "code",
   "execution_count": null,
   "metadata": {},
   "outputs": [],
   "source": [
    "set(merged.columns)"
   ]
  },
  {
   "cell_type": "code",
   "execution_count": null,
   "metadata": {},
   "outputs": [],
   "source": [
    "set(acs2.columns)"
   ]
  },
  {
   "cell_type": "code",
   "execution_count": null,
   "metadata": {},
   "outputs": [],
   "source": [
    "corrs = merged.drop(['Time','zip_code'], axis = 1).corr()\n",
    "\n",
    "px.imshow(corrs[['zori_ssa']].sort_values(by = 'zori_ssa',ascending = False).T\n",
    "          ,aspect = 1,width = 2000,height = 600,color_continuous_scale = 'spectral',title = 'Correlation Heat Map')"
   ]
  },
  {
   "cell_type": "markdown",
   "metadata": {},
   "source": [
    "# Trying a Random Forest Model"
   ]
  },
  {
   "cell_type": "code",
   "execution_count": null,
   "metadata": {},
   "outputs": [],
   "source": [
    "from sklearn.ensemble import RandomForestRegressor\n",
    "from sklearn.model_selection import GridSearchCV"
   ]
  },
  {
   "cell_type": "code",
   "execution_count": null,
   "metadata": {},
   "outputs": [],
   "source": [
    "# data = merged[['Time','zip_code','delta_zori_ssa','delta_sap_case_shiller_index','Single Family Building Permits TX','Total Sales Tax Collections TX','Gross Value Natural Gas Production']]\n",
    "\n",
    "data = merged.copy()\n",
    "# data = data.set_index('Time')"
   ]
  },
  {
   "cell_type": "code",
   "execution_count": null,
   "metadata": {},
   "outputs": [],
   "source": [
    "data.head(5)"
   ]
  },
  {
   "cell_type": "markdown",
   "metadata": {},
   "source": [
    "# Adding shifted versions of historical target data"
   ]
  },
  {
   "cell_type": "code",
   "execution_count": null,
   "metadata": {},
   "outputs": [],
   "source": []
  },
  {
   "cell_type": "markdown",
   "metadata": {},
   "source": [
    "### Shifting has to be done by integer multiples of the number of zip codes!!!"
   ]
  },
  {
   "cell_type": "code",
   "execution_count": null,
   "metadata": {},
   "outputs": [],
   "source": [
    "num_zips = len(np.unique(data['zip_code']))"
   ]
  },
  {
   "cell_type": "code",
   "execution_count": null,
   "metadata": {
    "scrolled": true
   },
   "outputs": [],
   "source": [
    "data.loc[:,'delta_zori_ssa_6_shift_back_1'] = data.loc[:,'delta_zori_ssa_6'].shift(-1*num_zips)\n",
    "data.loc[:,'zori_ssa_shift_back_1'] = data.loc[:,'zori_ssa'].shift(-1*num_zips)\n",
    "data.loc[:,'rent_search_4_period_rsi'] = data.loc[:,'rent_search_4_period_rsi'].shift(-1*num_zips)"
   ]
  },
  {
   "cell_type": "code",
   "execution_count": null,
   "metadata": {},
   "outputs": [],
   "source": [
    "acs_cols = np.unique(list(set(acs.drop(['Time','zip_code','year'],axis = 1).columns).union(set(acs2.drop(['Time','zip_code'],axis = 1).columns))))"
   ]
  },
  {
   "cell_type": "code",
   "execution_count": null,
   "metadata": {},
   "outputs": [],
   "source": [
    "for col in acs_cols:\n",
    "    data.loc[:,col+'_backshift_1_year'] = data.loc[:,col].shift(-12*num_zips)"
   ]
  },
  {
   "cell_type": "code",
   "execution_count": null,
   "metadata": {},
   "outputs": [],
   "source": [
    "data = data.loc[~data.isna().any(axis = 1)]"
   ]
  },
  {
   "cell_type": "code",
   "execution_count": null,
   "metadata": {},
   "outputs": [],
   "source": [
    "data.isna().any()"
   ]
  },
  {
   "cell_type": "code",
   "execution_count": null,
   "metadata": {},
   "outputs": [],
   "source": [
    "data.loc[:,'Date'] = data.loc[:,'Time'].apply(lambda x: str(x)[:-9])\n",
    "\n",
    "data = data.set_index('Date')"
   ]
  },
  {
   "cell_type": "code",
   "execution_count": null,
   "metadata": {},
   "outputs": [],
   "source": [
    "data.head(1)"
   ]
  },
  {
   "cell_type": "code",
   "execution_count": null,
   "metadata": {},
   "outputs": [],
   "source": [
    "data.tail(1)"
   ]
  },
  {
   "cell_type": "markdown",
   "metadata": {},
   "source": [
    "# Train Test Split"
   ]
  },
  {
   "cell_type": "code",
   "execution_count": null,
   "metadata": {
    "scrolled": false
   },
   "outputs": [],
   "source": [
    "train = data.loc['2015-01-01':'2019-12-01',:]\n",
    "test = data.loc['2020-01-01':,:]"
   ]
  },
  {
   "cell_type": "code",
   "execution_count": null,
   "metadata": {},
   "outputs": [],
   "source": [
    "train.tail(1)"
   ]
  },
  {
   "cell_type": "code",
   "execution_count": null,
   "metadata": {},
   "outputs": [],
   "source": [
    "test.head(1)"
   ]
  },
  {
   "cell_type": "code",
   "execution_count": null,
   "metadata": {},
   "outputs": [],
   "source": [
    "train = train.reset_index().drop(['Time','Date','State','metro','city','county','zip_code'],axis = 1).drop(acs_cols,axis = 1)\n",
    "\n",
    "test = test.reset_index().drop(['Time','Date','State','metro','city','county','zip_code'],axis = 1).drop(acs_cols,axis = 1)\n"
   ]
  },
  {
   "cell_type": "code",
   "execution_count": null,
   "metadata": {},
   "outputs": [],
   "source": [
    "import time\n",
    "\n",
    "X_train = train.drop(['zori_ssa_shift_back_1','zori_ssa','delta_zori_ssa','delta_zori_ssa_12','delta_zori_ssa_6'],axis = 1)\n",
    "# X_train = train[['zori_ssa_shift_back_6','delta_zori_ssa_shift_back_6',\n",
    "#                  'delta_zori_ssa_6_shift_back_6','delta_zori_ssa_12_shift_back_6',\n",
    "#                  'delta_zori_ssa_6_shift_back_1']]\n",
    "X_test = test.drop(['zori_ssa_shift_back_1','zori_ssa','delta_zori_ssa','delta_zori_ssa_12','delta_zori_ssa_6'],axis = 1)\n",
    "# X_test = test[['zori_ssa_shift_back_6','delta_zori_ssa_shift_back_6',\n",
    "#                'delta_zori_ssa_6_shift_back_6','delta_zori_ssa_12_shift_back_6',\n",
    "#               'delta_zori_ssa_6_shift_back_1']]\n",
    "y_train = train['zori_ssa']\n",
    "y_test = test['zori_ssa']"
   ]
  },
  {
   "cell_type": "code",
   "execution_count": null,
   "metadata": {},
   "outputs": [],
   "source": [
    "X_train = X_train.drop('year',axis = 1)"
   ]
  },
  {
   "cell_type": "code",
   "execution_count": null,
   "metadata": {},
   "outputs": [],
   "source": [
    "X_test = X_test.drop('year',axis = 1)"
   ]
  },
  {
   "cell_type": "code",
   "execution_count": null,
   "metadata": {
    "scrolled": true
   },
   "outputs": [],
   "source": [
    "set(X_train.columns)"
   ]
  },
  {
   "cell_type": "code",
   "execution_count": null,
   "metadata": {},
   "outputs": [],
   "source": [
    "randomForest = RandomForestRegressor()\n",
    "\n",
    "da_grid = {'n_estimators':[10,20,30],\n",
    "           'criterion':['mse'],\n",
    "          'max_depth':[5,10,15],\n",
    "          'min_samples_split':[2,4]}\n",
    "\n",
    "grid_search_forest = GridSearchCV(estimator = randomForest, param_grid = da_grid, cv = 4)\n",
    "\n",
    "start_time = time.time()\n",
    "\n",
    "grid_search_forest.fit(X_train,y_train)\n",
    "\n",
    "print(time.time() - start_time)"
   ]
  },
  {
   "cell_type": "code",
   "execution_count": null,
   "metadata": {
    "scrolled": false
   },
   "outputs": [],
   "source": [
    "print(\"Best Parameters: \",grid_search_forest.best_params_,\"\\n\\n\",\n",
    "      \"Mean cross-validated score of the best_estimator: \",grid_search_forest.best_score_,\"\\n\")\n",
    "\n",
    "best_forest = grid_search_forest.best_estimator_\n",
    "feature_importance = [i for i in zip(X_train.columns,best_forest.feature_importances_)]\n",
    "feature_importance = sorted(feature_importance,key = lambda x: x[1],reverse = True)\n",
    "\n",
    "FI = pd.DataFrame(feature_importance,columns = ['feature','importance'])\n",
    "\n",
    "fig = px.bar(data_frame = FI.iloc[:,:],\n",
    "             x = 'feature',\n",
    "             y = 'importance',\n",
    "             title = \"Feature Importance\",\n",
    "             color = 'feature',\n",
    "            height = 1000,width = 3200)\n",
    "fig.show()"
   ]
  },
  {
   "cell_type": "code",
   "execution_count": null,
   "metadata": {},
   "outputs": [],
   "source": [
    "best_forest.score(X_train,y_train)"
   ]
  },
  {
   "cell_type": "code",
   "execution_count": null,
   "metadata": {},
   "outputs": [],
   "source": [
    "best_forest.score(X_test,y_test)"
   ]
  },
  {
   "cell_type": "code",
   "execution_count": null,
   "metadata": {},
   "outputs": [],
   "source": [
    "cv_results = pd.DataFrame(grid_search_forest.cv_results_)"
   ]
  },
  {
   "cell_type": "code",
   "execution_count": null,
   "metadata": {},
   "outputs": [],
   "source": [
    "fig = px.line(data_frame = cv_results, x = 'param_max_depth', y = 'mean_test_score', color = 'param_n_estimators')\n",
    "fig.show()"
   ]
  },
  {
   "cell_type": "code",
   "execution_count": null,
   "metadata": {},
   "outputs": [],
   "source": []
  }
 ],
 "metadata": {
  "kernelspec": {
   "display_name": "Python 3",
   "language": "python",
   "name": "python3"
  },
  "language_info": {
   "codemirror_mode": {
    "name": "ipython",
    "version": 3
   },
   "file_extension": ".py",
   "mimetype": "text/x-python",
   "name": "python",
   "nbconvert_exporter": "python",
   "pygments_lexer": "ipython3",
   "version": "3.7.3"
  }
 },
 "nbformat": 4,
 "nbformat_minor": 2
}
