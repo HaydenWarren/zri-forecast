{
 "cells": [
  {
   "cell_type": "code",
   "execution_count": 1,
   "metadata": {},
   "outputs": [],
   "source": [
    "import numpy as np\n",
    "import pandas as pd\n",
    "import matplotlib.pyplot as plt\n",
    "import seaborn as sns\n",
    "import plotly.express as px"
   ]
  },
  {
   "cell_type": "code",
   "execution_count": 2,
   "metadata": {},
   "outputs": [],
   "source": [
    "pd.set_option('display.max_columns', None)\n",
    "pd.set_option('display.max_rows', None)"
   ]
  },
  {
   "cell_type": "code",
   "execution_count": 3,
   "metadata": {},
   "outputs": [],
   "source": [
    "zori_diff_6 = pd.read_csv\\\n",
    "(r'C:\\Users\\robla\\Desktop\\nycdsa\\Capstone\\cleaned_data\\cleaned_data\\long_differenced_interpolated_target_6_month.csv',\n",
    " index_col = 0) \n",
    "\n",
    "zori_diff_6.loc[:,'Time'] = zori_diff_6['Time'].apply(lambda x: pd.to_datetime(x, format = '%Y-%m')) #converting time to datetime format"
   ]
  },
  {
   "cell_type": "code",
   "execution_count": 4,
   "metadata": {},
   "outputs": [
    {
     "data": {
      "text/html": [
       "<div>\n",
       "<style scoped>\n",
       "    .dataframe tbody tr th:only-of-type {\n",
       "        vertical-align: middle;\n",
       "    }\n",
       "\n",
       "    .dataframe tbody tr th {\n",
       "        vertical-align: top;\n",
       "    }\n",
       "\n",
       "    .dataframe thead th {\n",
       "        text-align: right;\n",
       "    }\n",
       "</style>\n",
       "<table border=\"1\" class=\"dataframe\">\n",
       "  <thead>\n",
       "    <tr style=\"text-align: right;\">\n",
       "      <th></th>\n",
       "      <th>Time</th>\n",
       "      <th>zip_code</th>\n",
       "      <th>delta_zori_ssa_6</th>\n",
       "    </tr>\n",
       "  </thead>\n",
       "  <tbody>\n",
       "    <tr>\n",
       "      <th>0</th>\n",
       "      <td>2014-01-01</td>\n",
       "      <td>77494</td>\n",
       "      <td>NaN</td>\n",
       "    </tr>\n",
       "    <tr>\n",
       "      <th>1</th>\n",
       "      <td>2014-02-01</td>\n",
       "      <td>77494</td>\n",
       "      <td>NaN</td>\n",
       "    </tr>\n",
       "    <tr>\n",
       "      <th>2</th>\n",
       "      <td>2014-03-01</td>\n",
       "      <td>77494</td>\n",
       "      <td>NaN</td>\n",
       "    </tr>\n",
       "    <tr>\n",
       "      <th>3</th>\n",
       "      <td>2014-04-01</td>\n",
       "      <td>77494</td>\n",
       "      <td>NaN</td>\n",
       "    </tr>\n",
       "    <tr>\n",
       "      <th>4</th>\n",
       "      <td>2014-05-01</td>\n",
       "      <td>77494</td>\n",
       "      <td>NaN</td>\n",
       "    </tr>\n",
       "    <tr>\n",
       "      <th>5</th>\n",
       "      <td>2014-06-01</td>\n",
       "      <td>77494</td>\n",
       "      <td>NaN</td>\n",
       "    </tr>\n",
       "    <tr>\n",
       "      <th>6</th>\n",
       "      <td>2014-07-01</td>\n",
       "      <td>77494</td>\n",
       "      <td>-17.0</td>\n",
       "    </tr>\n",
       "  </tbody>\n",
       "</table>\n",
       "</div>"
      ],
      "text/plain": [
       "        Time  zip_code  delta_zori_ssa_6\n",
       "0 2014-01-01     77494               NaN\n",
       "1 2014-02-01     77494               NaN\n",
       "2 2014-03-01     77494               NaN\n",
       "3 2014-04-01     77494               NaN\n",
       "4 2014-05-01     77494               NaN\n",
       "5 2014-06-01     77494               NaN\n",
       "6 2014-07-01     77494             -17.0"
      ]
     },
     "execution_count": 4,
     "metadata": {},
     "output_type": "execute_result"
    }
   ],
   "source": [
    "zori_diff_6.head(7)"
   ]
  },
  {
   "cell_type": "code",
   "execution_count": 5,
   "metadata": {},
   "outputs": [],
   "source": [
    "zori_diff_12 = pd.read_csv\\\n",
    "(r'C:\\Users\\robla\\Desktop\\nycdsa\\Capstone\\cleaned_data\\cleaned_data\\long_differenced_interpolated_target_annual.csv',\n",
    " index_col = 0) \n",
    "\n",
    "zori_diff_12.loc[:,'Time'] = zori_diff_12['Time'].apply(lambda x: pd.to_datetime(x, format = '%Y-%m')) #converting time to datetime format"
   ]
  },
  {
   "cell_type": "code",
   "execution_count": 6,
   "metadata": {},
   "outputs": [
    {
     "data": {
      "text/html": [
       "<div>\n",
       "<style scoped>\n",
       "    .dataframe tbody tr th:only-of-type {\n",
       "        vertical-align: middle;\n",
       "    }\n",
       "\n",
       "    .dataframe tbody tr th {\n",
       "        vertical-align: top;\n",
       "    }\n",
       "\n",
       "    .dataframe thead th {\n",
       "        text-align: right;\n",
       "    }\n",
       "</style>\n",
       "<table border=\"1\" class=\"dataframe\">\n",
       "  <thead>\n",
       "    <tr style=\"text-align: right;\">\n",
       "      <th></th>\n",
       "      <th>Time</th>\n",
       "      <th>zip_code</th>\n",
       "      <th>delta_zori_ssa_12</th>\n",
       "    </tr>\n",
       "  </thead>\n",
       "  <tbody>\n",
       "    <tr>\n",
       "      <th>0</th>\n",
       "      <td>2014-01-01</td>\n",
       "      <td>77494</td>\n",
       "      <td>NaN</td>\n",
       "    </tr>\n",
       "    <tr>\n",
       "      <th>1</th>\n",
       "      <td>2014-02-01</td>\n",
       "      <td>77494</td>\n",
       "      <td>NaN</td>\n",
       "    </tr>\n",
       "    <tr>\n",
       "      <th>2</th>\n",
       "      <td>2014-03-01</td>\n",
       "      <td>77494</td>\n",
       "      <td>NaN</td>\n",
       "    </tr>\n",
       "    <tr>\n",
       "      <th>3</th>\n",
       "      <td>2014-04-01</td>\n",
       "      <td>77494</td>\n",
       "      <td>NaN</td>\n",
       "    </tr>\n",
       "    <tr>\n",
       "      <th>4</th>\n",
       "      <td>2014-05-01</td>\n",
       "      <td>77494</td>\n",
       "      <td>NaN</td>\n",
       "    </tr>\n",
       "    <tr>\n",
       "      <th>5</th>\n",
       "      <td>2014-06-01</td>\n",
       "      <td>77494</td>\n",
       "      <td>NaN</td>\n",
       "    </tr>\n",
       "    <tr>\n",
       "      <th>6</th>\n",
       "      <td>2014-07-01</td>\n",
       "      <td>77494</td>\n",
       "      <td>NaN</td>\n",
       "    </tr>\n",
       "    <tr>\n",
       "      <th>7</th>\n",
       "      <td>2014-08-01</td>\n",
       "      <td>77494</td>\n",
       "      <td>NaN</td>\n",
       "    </tr>\n",
       "    <tr>\n",
       "      <th>8</th>\n",
       "      <td>2014-09-01</td>\n",
       "      <td>77494</td>\n",
       "      <td>NaN</td>\n",
       "    </tr>\n",
       "    <tr>\n",
       "      <th>9</th>\n",
       "      <td>2014-10-01</td>\n",
       "      <td>77494</td>\n",
       "      <td>NaN</td>\n",
       "    </tr>\n",
       "    <tr>\n",
       "      <th>10</th>\n",
       "      <td>2014-11-01</td>\n",
       "      <td>77494</td>\n",
       "      <td>NaN</td>\n",
       "    </tr>\n",
       "    <tr>\n",
       "      <th>11</th>\n",
       "      <td>2014-12-01</td>\n",
       "      <td>77494</td>\n",
       "      <td>NaN</td>\n",
       "    </tr>\n",
       "    <tr>\n",
       "      <th>12</th>\n",
       "      <td>2015-01-01</td>\n",
       "      <td>77494</td>\n",
       "      <td>-32.0</td>\n",
       "    </tr>\n",
       "  </tbody>\n",
       "</table>\n",
       "</div>"
      ],
      "text/plain": [
       "         Time  zip_code  delta_zori_ssa_12\n",
       "0  2014-01-01     77494                NaN\n",
       "1  2014-02-01     77494                NaN\n",
       "2  2014-03-01     77494                NaN\n",
       "3  2014-04-01     77494                NaN\n",
       "4  2014-05-01     77494                NaN\n",
       "5  2014-06-01     77494                NaN\n",
       "6  2014-07-01     77494                NaN\n",
       "7  2014-08-01     77494                NaN\n",
       "8  2014-09-01     77494                NaN\n",
       "9  2014-10-01     77494                NaN\n",
       "10 2014-11-01     77494                NaN\n",
       "11 2014-12-01     77494                NaN\n",
       "12 2015-01-01     77494              -32.0"
      ]
     },
     "execution_count": 6,
     "metadata": {},
     "output_type": "execute_result"
    }
   ],
   "source": [
    "zori_diff_12.head(13)"
   ]
  },
  {
   "cell_type": "code",
   "execution_count": 7,
   "metadata": {},
   "outputs": [],
   "source": [
    "############################################################################################## differenced zori\n",
    "\n",
    "zori_diff = pd.read_csv\\\n",
    "(r'C:\\Users\\robla\\Desktop\\nycdsa\\Capstone\\cleaned_data\\cleaned_data\\long_differenced_interpolated_target.csv',\n",
    " index_col = 0) \n",
    "\n",
    "zori_diff.loc[:,'Time'] = zori_diff['Time'].apply(lambda x: pd.to_datetime(x, format = '%Y-%m')) #converting time to datetime format"
   ]
  },
  {
   "cell_type": "code",
   "execution_count": 8,
   "metadata": {},
   "outputs": [
    {
     "data": {
      "text/html": [
       "<div>\n",
       "<style scoped>\n",
       "    .dataframe tbody tr th:only-of-type {\n",
       "        vertical-align: middle;\n",
       "    }\n",
       "\n",
       "    .dataframe tbody tr th {\n",
       "        vertical-align: top;\n",
       "    }\n",
       "\n",
       "    .dataframe thead th {\n",
       "        text-align: right;\n",
       "    }\n",
       "</style>\n",
       "<table border=\"1\" class=\"dataframe\">\n",
       "  <thead>\n",
       "    <tr style=\"text-align: right;\">\n",
       "      <th></th>\n",
       "      <th>Time</th>\n",
       "      <th>zip_code</th>\n",
       "      <th>delta_zori_ssa</th>\n",
       "    </tr>\n",
       "  </thead>\n",
       "  <tbody>\n",
       "    <tr>\n",
       "      <th>0</th>\n",
       "      <td>2014-01-01</td>\n",
       "      <td>77494</td>\n",
       "      <td>NaN</td>\n",
       "    </tr>\n",
       "    <tr>\n",
       "      <th>1</th>\n",
       "      <td>2014-02-01</td>\n",
       "      <td>77494</td>\n",
       "      <td>-3.0</td>\n",
       "    </tr>\n",
       "  </tbody>\n",
       "</table>\n",
       "</div>"
      ],
      "text/plain": [
       "        Time  zip_code  delta_zori_ssa\n",
       "0 2014-01-01     77494             NaN\n",
       "1 2014-02-01     77494            -3.0"
      ]
     },
     "execution_count": 8,
     "metadata": {},
     "output_type": "execute_result"
    }
   ],
   "source": [
    "zori_diff.head(2)"
   ]
  },
  {
   "cell_type": "code",
   "execution_count": 9,
   "metadata": {},
   "outputs": [],
   "source": [
    "############################################################################################## zori\n",
    "\n",
    "zori = pd.read_csv\\\n",
    "(r'C:\\Users\\robla\\Desktop\\nycdsa\\Capstone\\cleaned_data\\cleaned_data\\long_interpolated_target.csv',\n",
    " index_col = 0)\n",
    "\n",
    "\n",
    "zori.loc[:,'Time'] = zori['Time'].apply(lambda x: pd.to_datetime(x, format = '%Y-%m')) #converting time to datetime format"
   ]
  },
  {
   "cell_type": "code",
   "execution_count": 10,
   "metadata": {},
   "outputs": [
    {
     "data": {
      "text/html": [
       "<div>\n",
       "<style scoped>\n",
       "    .dataframe tbody tr th:only-of-type {\n",
       "        vertical-align: middle;\n",
       "    }\n",
       "\n",
       "    .dataframe tbody tr th {\n",
       "        vertical-align: top;\n",
       "    }\n",
       "\n",
       "    .dataframe thead th {\n",
       "        text-align: right;\n",
       "    }\n",
       "</style>\n",
       "<table border=\"1\" class=\"dataframe\">\n",
       "  <thead>\n",
       "    <tr style=\"text-align: right;\">\n",
       "      <th></th>\n",
       "      <th>Time</th>\n",
       "      <th>zip_code</th>\n",
       "      <th>zori_ssa</th>\n",
       "    </tr>\n",
       "  </thead>\n",
       "  <tbody>\n",
       "    <tr>\n",
       "      <th>0</th>\n",
       "      <td>2014-01-01</td>\n",
       "      <td>77494</td>\n",
       "      <td>1390.0</td>\n",
       "    </tr>\n",
       "  </tbody>\n",
       "</table>\n",
       "</div>"
      ],
      "text/plain": [
       "        Time  zip_code  zori_ssa\n",
       "0 2014-01-01     77494    1390.0"
      ]
     },
     "execution_count": 10,
     "metadata": {},
     "output_type": "execute_result"
    }
   ],
   "source": [
    "zori.head(1)"
   ]
  },
  {
   "cell_type": "code",
   "execution_count": 11,
   "metadata": {},
   "outputs": [],
   "source": [
    "############################################################################################## acs\n",
    "\n",
    "acs = pd.read_csv\\\n",
    "(r'C:\\Users\\robla\\Desktop\\nycdsa\\Capstone\\cleaned_data\\cleaned_data\\acs_master11to18_clean.csv',\n",
    " index_col = 0)"
   ]
  },
  {
   "cell_type": "code",
   "execution_count": 12,
   "metadata": {},
   "outputs": [
    {
     "data": {
      "text/html": [
       "<div>\n",
       "<style scoped>\n",
       "    .dataframe tbody tr th:only-of-type {\n",
       "        vertical-align: middle;\n",
       "    }\n",
       "\n",
       "    .dataframe tbody tr th {\n",
       "        vertical-align: top;\n",
       "    }\n",
       "\n",
       "    .dataframe thead th {\n",
       "        text-align: right;\n",
       "    }\n",
       "</style>\n",
       "<table border=\"1\" class=\"dataframe\">\n",
       "  <thead>\n",
       "    <tr style=\"text-align: right;\">\n",
       "      <th></th>\n",
       "      <th>geo_id</th>\n",
       "      <th>male_pop</th>\n",
       "      <th>female_pop</th>\n",
       "      <th>median_age</th>\n",
       "      <th>white_pop</th>\n",
       "      <th>not_us_citizen_pop</th>\n",
       "      <th>black_pop</th>\n",
       "      <th>asian_pop</th>\n",
       "      <th>hispanic_pop</th>\n",
       "      <th>amerindian_pop</th>\n",
       "      <th>other_race_pop</th>\n",
       "      <th>median_income</th>\n",
       "      <th>income_per_capita</th>\n",
       "      <th>pop_determined_poverty_status</th>\n",
       "      <th>poverty</th>\n",
       "      <th>gini_index</th>\n",
       "      <th>housing_units</th>\n",
       "      <th>renter_occupied_housing_units_paying_cash_median_gross_rent</th>\n",
       "      <th>occupied_housing_units</th>\n",
       "      <th>vacant_housing_units_for_rent</th>\n",
       "      <th>median_year_structure_built</th>\n",
       "      <th>married_households</th>\n",
       "      <th>households_public_asst_or_food_stamps</th>\n",
       "      <th>male_male_households</th>\n",
       "      <th>female_female_households</th>\n",
       "      <th>children</th>\n",
       "      <th>median_rent</th>\n",
       "      <th>percent_income_spent_on_rent</th>\n",
       "      <th>owner_occupied_housing_units</th>\n",
       "      <th>aggregate_travel_time_to_work</th>\n",
       "      <th>commuters_by_public_transportation</th>\n",
       "      <th>high_school_diploma</th>\n",
       "      <th>bachelors_degree</th>\n",
       "      <th>employed_pop</th>\n",
       "      <th>unemployed_pop</th>\n",
       "      <th>pop_in_labor_force</th>\n",
       "      <th>armed_forces</th>\n",
       "      <th>year</th>\n",
       "      <th>Time</th>\n",
       "    </tr>\n",
       "  </thead>\n",
       "  <tbody>\n",
       "    <tr>\n",
       "      <th>0</th>\n",
       "      <td>77494.0</td>\n",
       "      <td>27525.0</td>\n",
       "      <td>28283.0</td>\n",
       "      <td>33.9</td>\n",
       "      <td>36390.0</td>\n",
       "      <td>6630.0</td>\n",
       "      <td>3717.0</td>\n",
       "      <td>6882.0</td>\n",
       "      <td>7852.0</td>\n",
       "      <td>22.0</td>\n",
       "      <td>52.0</td>\n",
       "      <td>120111.0</td>\n",
       "      <td>42344.0</td>\n",
       "      <td>55713.0</td>\n",
       "      <td>1421.0</td>\n",
       "      <td>0.3568</td>\n",
       "      <td>18581.0</td>\n",
       "      <td>1207.0</td>\n",
       "      <td>17440.0</td>\n",
       "      <td>160.0</td>\n",
       "      <td>2004.0</td>\n",
       "      <td>13615.0</td>\n",
       "      <td>253.0</td>\n",
       "      <td>46.0</td>\n",
       "      <td>41.0</td>\n",
       "      <td>19418.0</td>\n",
       "      <td>1005.0</td>\n",
       "      <td>28.1</td>\n",
       "      <td>15334.0</td>\n",
       "      <td>767465.0</td>\n",
       "      <td>672.0</td>\n",
       "      <td>NaN</td>\n",
       "      <td>NaN</td>\n",
       "      <td>25437.0</td>\n",
       "      <td>1097.0</td>\n",
       "      <td>26534.0</td>\n",
       "      <td>0.0</td>\n",
       "      <td>2011</td>\n",
       "      <td>2011-01-01</td>\n",
       "    </tr>\n",
       "  </tbody>\n",
       "</table>\n",
       "</div>"
      ],
      "text/plain": [
       "    geo_id  male_pop  female_pop  median_age  white_pop  not_us_citizen_pop  \\\n",
       "0  77494.0   27525.0     28283.0        33.9    36390.0              6630.0   \n",
       "\n",
       "   black_pop  asian_pop  hispanic_pop  amerindian_pop  other_race_pop  \\\n",
       "0     3717.0     6882.0        7852.0            22.0            52.0   \n",
       "\n",
       "   median_income  income_per_capita  pop_determined_poverty_status  poverty  \\\n",
       "0       120111.0            42344.0                        55713.0   1421.0   \n",
       "\n",
       "   gini_index  housing_units  \\\n",
       "0      0.3568        18581.0   \n",
       "\n",
       "   renter_occupied_housing_units_paying_cash_median_gross_rent  \\\n",
       "0                                             1207.0             \n",
       "\n",
       "   occupied_housing_units  vacant_housing_units_for_rent  \\\n",
       "0                 17440.0                          160.0   \n",
       "\n",
       "   median_year_structure_built  married_households  \\\n",
       "0                       2004.0             13615.0   \n",
       "\n",
       "   households_public_asst_or_food_stamps  male_male_households  \\\n",
       "0                                  253.0                  46.0   \n",
       "\n",
       "   female_female_households  children  median_rent  \\\n",
       "0                      41.0   19418.0       1005.0   \n",
       "\n",
       "   percent_income_spent_on_rent  owner_occupied_housing_units  \\\n",
       "0                          28.1                       15334.0   \n",
       "\n",
       "   aggregate_travel_time_to_work  commuters_by_public_transportation  \\\n",
       "0                       767465.0                               672.0   \n",
       "\n",
       "   high_school_diploma  bachelors_degree  employed_pop  unemployed_pop  \\\n",
       "0                  NaN               NaN       25437.0          1097.0   \n",
       "\n",
       "   pop_in_labor_force  armed_forces  year        Time  \n",
       "0             26534.0           0.0  2011  2011-01-01  "
      ]
     },
     "execution_count": 12,
     "metadata": {},
     "output_type": "execute_result"
    }
   ],
   "source": [
    "acs.head(1)"
   ]
  },
  {
   "cell_type": "code",
   "execution_count": 13,
   "metadata": {},
   "outputs": [],
   "source": [
    "############################################################################################## city unemployment rates\n",
    "\n",
    "unemployment_rates = pd.read_csv\\\n",
    "(r'C:\\Users\\robla\\Desktop\\nycdsa\\Capstone\\cleaned_data\\cleaned_data\\city_unemployment_rates.csv',\n",
    " index_col = 0) \n",
    "\n",
    "unemployment_rates.loc[:,'Time'] = unemployment_rates['Time'].apply(lambda x: pd.to_datetime(x, format = '%Y-%m')) #converting time to datetime format"
   ]
  },
  {
   "cell_type": "code",
   "execution_count": 14,
   "metadata": {},
   "outputs": [
    {
     "data": {
      "text/html": [
       "<div>\n",
       "<style scoped>\n",
       "    .dataframe tbody tr th:only-of-type {\n",
       "        vertical-align: middle;\n",
       "    }\n",
       "\n",
       "    .dataframe tbody tr th {\n",
       "        vertical-align: top;\n",
       "    }\n",
       "\n",
       "    .dataframe thead th {\n",
       "        text-align: right;\n",
       "    }\n",
       "</style>\n",
       "<table border=\"1\" class=\"dataframe\">\n",
       "  <thead>\n",
       "    <tr style=\"text-align: right;\">\n",
       "      <th></th>\n",
       "      <th>Time</th>\n",
       "      <th>ur</th>\n",
       "      <th>metro</th>\n",
       "      <th>delta_ur</th>\n",
       "      <th>zip_code</th>\n",
       "    </tr>\n",
       "  </thead>\n",
       "  <tbody>\n",
       "    <tr>\n",
       "      <th>0</th>\n",
       "      <td>2011-07-01</td>\n",
       "      <td>8.7</td>\n",
       "      <td>Houston</td>\n",
       "      <td>NaN</td>\n",
       "      <td>77450</td>\n",
       "    </tr>\n",
       "  </tbody>\n",
       "</table>\n",
       "</div>"
      ],
      "text/plain": [
       "        Time   ur    metro  delta_ur  zip_code\n",
       "0 2011-07-01  8.7  Houston       NaN     77450"
      ]
     },
     "execution_count": 14,
     "metadata": {},
     "output_type": "execute_result"
    }
   ],
   "source": [
    "unemployment_rates.head(1)"
   ]
  },
  {
   "cell_type": "code",
   "execution_count": 15,
   "metadata": {},
   "outputs": [],
   "source": [
    "############################################################################################## spc housing index\n",
    "\n",
    "sap_case = pd.read_csv\\\n",
    "(r'C:\\Users\\robla\\Desktop\\nycdsa\\Capstone\\cleaned_data\\cleaned_data\\sap_case_shiller.csv',\n",
    " index_col = 0)\n",
    "\n",
    "sap_case.loc[:,'Time'] = sap_case['Time'].apply(lambda x: pd.to_datetime(x, format = '%Y-%m')) #converting time to datetime format"
   ]
  },
  {
   "cell_type": "code",
   "execution_count": 16,
   "metadata": {},
   "outputs": [
    {
     "data": {
      "text/html": [
       "<div>\n",
       "<style scoped>\n",
       "    .dataframe tbody tr th:only-of-type {\n",
       "        vertical-align: middle;\n",
       "    }\n",
       "\n",
       "    .dataframe tbody tr th {\n",
       "        vertical-align: top;\n",
       "    }\n",
       "\n",
       "    .dataframe thead th {\n",
       "        text-align: right;\n",
       "    }\n",
       "</style>\n",
       "<table border=\"1\" class=\"dataframe\">\n",
       "  <thead>\n",
       "    <tr style=\"text-align: right;\">\n",
       "      <th></th>\n",
       "      <th>metro</th>\n",
       "      <th>zip_code</th>\n",
       "      <th>State</th>\n",
       "      <th>Time</th>\n",
       "      <th>sap_case_shiller_index</th>\n",
       "      <th>delta_sap_case_shiller_index</th>\n",
       "    </tr>\n",
       "  </thead>\n",
       "  <tbody>\n",
       "    <tr>\n",
       "      <th>0</th>\n",
       "      <td>Austin</td>\n",
       "      <td>78727</td>\n",
       "      <td>TX</td>\n",
       "      <td>2011-06-01</td>\n",
       "      <td>141.946</td>\n",
       "      <td>NaN</td>\n",
       "    </tr>\n",
       "  </tbody>\n",
       "</table>\n",
       "</div>"
      ],
      "text/plain": [
       "    metro  zip_code State       Time  sap_case_shiller_index  \\\n",
       "0  Austin     78727    TX 2011-06-01                 141.946   \n",
       "\n",
       "   delta_sap_case_shiller_index  \n",
       "0                           NaN  "
      ]
     },
     "execution_count": 16,
     "metadata": {},
     "output_type": "execute_result"
    }
   ],
   "source": [
    "sap_case.head(1)"
   ]
  },
  {
   "cell_type": "code",
   "execution_count": 17,
   "metadata": {},
   "outputs": [],
   "source": [
    "############################################################################################## ten year note\n",
    "\n",
    "tnx = pd.read_csv\\\n",
    "(r'C:\\Users\\robla\\Desktop\\nycdsa\\Capstone\\cleaned_data\\cleaned_data\\monthly_tnx.csv',\n",
    " index_col = 0)\n",
    "\n",
    "tnx.loc[:,'Time'] = tnx['Time'].apply(lambda x: pd.to_datetime(x, format = '%Y-%m')) #converting time to datetime format"
   ]
  },
  {
   "cell_type": "code",
   "execution_count": 18,
   "metadata": {},
   "outputs": [
    {
     "data": {
      "text/html": [
       "<div>\n",
       "<style scoped>\n",
       "    .dataframe tbody tr th:only-of-type {\n",
       "        vertical-align: middle;\n",
       "    }\n",
       "\n",
       "    .dataframe tbody tr th {\n",
       "        vertical-align: top;\n",
       "    }\n",
       "\n",
       "    .dataframe thead th {\n",
       "        text-align: right;\n",
       "    }\n",
       "</style>\n",
       "<table border=\"1\" class=\"dataframe\">\n",
       "  <thead>\n",
       "    <tr style=\"text-align: right;\">\n",
       "      <th></th>\n",
       "      <th>metro</th>\n",
       "      <th>zip_code</th>\n",
       "      <th>State</th>\n",
       "      <th>Time</th>\n",
       "      <th>TNX</th>\n",
       "      <th>delta_TNX</th>\n",
       "    </tr>\n",
       "  </thead>\n",
       "  <tbody>\n",
       "    <tr>\n",
       "      <th>0</th>\n",
       "      <td>Austin</td>\n",
       "      <td>78727</td>\n",
       "      <td>TX</td>\n",
       "      <td>2010-01-01</td>\n",
       "      <td>3.609</td>\n",
       "      <td>NaN</td>\n",
       "    </tr>\n",
       "  </tbody>\n",
       "</table>\n",
       "</div>"
      ],
      "text/plain": [
       "    metro  zip_code State       Time    TNX  delta_TNX\n",
       "0  Austin     78727    TX 2010-01-01  3.609        NaN"
      ]
     },
     "execution_count": 18,
     "metadata": {},
     "output_type": "execute_result"
    }
   ],
   "source": [
    "tnx.head(1)"
   ]
  },
  {
   "cell_type": "code",
   "execution_count": 19,
   "metadata": {},
   "outputs": [],
   "source": [
    "############################################################################################## state monthly gas prices \n",
    "\n",
    "monthly_gas = pd.read_csv\\\n",
    "(r'C:\\Users\\robla\\Desktop\\nycdsa\\Capstone\\cleaned_data\\cleaned_data\\monthly_avg_gas_prices.csv',\n",
    " index_col = 0)\n",
    "\n",
    "\n",
    "monthly_gas.loc[:,'Time'] = monthly_gas['Time'].apply(lambda x: pd.to_datetime(x, format = '%Y-%m')) #converting time to datetime format"
   ]
  },
  {
   "cell_type": "code",
   "execution_count": 20,
   "metadata": {},
   "outputs": [
    {
     "data": {
      "text/html": [
       "<div>\n",
       "<style scoped>\n",
       "    .dataframe tbody tr th:only-of-type {\n",
       "        vertical-align: middle;\n",
       "    }\n",
       "\n",
       "    .dataframe tbody tr th {\n",
       "        vertical-align: top;\n",
       "    }\n",
       "\n",
       "    .dataframe thead th {\n",
       "        text-align: right;\n",
       "    }\n",
       "</style>\n",
       "<table border=\"1\" class=\"dataframe\">\n",
       "  <thead>\n",
       "    <tr style=\"text-align: right;\">\n",
       "      <th></th>\n",
       "      <th>Time</th>\n",
       "      <th>monthly_avg_gas_price</th>\n",
       "      <th>delta_monthly_avg_gas_price</th>\n",
       "      <th>State</th>\n",
       "      <th>metro</th>\n",
       "      <th>zip_code</th>\n",
       "    </tr>\n",
       "  </thead>\n",
       "  <tbody>\n",
       "    <tr>\n",
       "      <th>0</th>\n",
       "      <td>2000-06-01</td>\n",
       "      <td>1.499</td>\n",
       "      <td>NaN</td>\n",
       "      <td>TX</td>\n",
       "      <td>Austin</td>\n",
       "      <td>78727</td>\n",
       "    </tr>\n",
       "  </tbody>\n",
       "</table>\n",
       "</div>"
      ],
      "text/plain": [
       "        Time  monthly_avg_gas_price  delta_monthly_avg_gas_price State  \\\n",
       "0 2000-06-01                  1.499                          NaN    TX   \n",
       "\n",
       "    metro  zip_code  \n",
       "0  Austin     78727  "
      ]
     },
     "execution_count": 20,
     "metadata": {},
     "output_type": "execute_result"
    }
   ],
   "source": [
    "monthly_gas.head(1)"
   ]
  },
  {
   "cell_type": "code",
   "execution_count": 21,
   "metadata": {},
   "outputs": [],
   "source": [
    "############################################################################################## weather\n",
    "\n",
    "weather = pd.read_csv\\\n",
    "(r'C:\\Users\\robla\\Desktop\\nycdsa\\Capstone\\cleaned_data\\cleaned_data\\weather.csv',\n",
    " index_col = 0)\n",
    "\n",
    "# weather.rename(columns = {'date_time':'Time','zip':'zip_code'},inplace = True)\n",
    "\n",
    "\n",
    "# weather.loc[:,'Time'] = weather['Time'].apply(lambda x: pd.to_datetime(x, format = '%Y-%m')) #converting time to datetime format"
   ]
  },
  {
   "cell_type": "code",
   "execution_count": 22,
   "metadata": {},
   "outputs": [
    {
     "data": {
      "text/html": [
       "<div>\n",
       "<style scoped>\n",
       "    .dataframe tbody tr th:only-of-type {\n",
       "        vertical-align: middle;\n",
       "    }\n",
       "\n",
       "    .dataframe tbody tr th {\n",
       "        vertical-align: top;\n",
       "    }\n",
       "\n",
       "    .dataframe thead th {\n",
       "        text-align: right;\n",
       "    }\n",
       "</style>\n",
       "<table border=\"1\" class=\"dataframe\">\n",
       "  <thead>\n",
       "    <tr style=\"text-align: right;\">\n",
       "      <th></th>\n",
       "      <th>Time</th>\n",
       "      <th>zip_code</th>\n",
       "      <th>mintempC</th>\n",
       "      <th>maxtempC</th>\n",
       "      <th>precipMM</th>\n",
       "    </tr>\n",
       "  </thead>\n",
       "  <tbody>\n",
       "    <tr>\n",
       "      <th>0</th>\n",
       "      <td>2012-01-01</td>\n",
       "      <td>78727</td>\n",
       "      <td>6.806452</td>\n",
       "      <td>16.967742</td>\n",
       "      <td>2.419355</td>\n",
       "    </tr>\n",
       "  </tbody>\n",
       "</table>\n",
       "</div>"
      ],
      "text/plain": [
       "         Time  zip_code  mintempC   maxtempC  precipMM\n",
       "0  2012-01-01     78727  6.806452  16.967742  2.419355"
      ]
     },
     "execution_count": 22,
     "metadata": {},
     "output_type": "execute_result"
    }
   ],
   "source": [
    "weather.head(1)"
   ]
  },
  {
   "cell_type": "code",
   "execution_count": 23,
   "metadata": {},
   "outputs": [],
   "source": [
    "############################################################################################## key econ\n",
    "\n",
    "key_econ = pd.read_csv\\\n",
    "(r'C:\\Users\\robla\\Desktop\\nycdsa\\Capstone\\cleaned_data\\cleaned_data\\key_econ.csv',index_col = 0)#,parse_dates= {'Time':['Month', 'Year']})\n",
    "\n",
    "#key_econ.loc[:,'Time'] = key_econ['Time'].apply(lambda x: pd.to_datetime(x, format = '%Y-%m')) #converting time to datetime format"
   ]
  },
  {
   "cell_type": "code",
   "execution_count": 24,
   "metadata": {},
   "outputs": [
    {
     "data": {
      "text/html": [
       "<div>\n",
       "<style scoped>\n",
       "    .dataframe tbody tr th:only-of-type {\n",
       "        vertical-align: middle;\n",
       "    }\n",
       "\n",
       "    .dataframe tbody tr th {\n",
       "        vertical-align: top;\n",
       "    }\n",
       "\n",
       "    .dataframe thead th {\n",
       "        text-align: right;\n",
       "    }\n",
       "</style>\n",
       "<table border=\"1\" class=\"dataframe\">\n",
       "  <thead>\n",
       "    <tr style=\"text-align: right;\">\n",
       "      <th></th>\n",
       "      <th>Time</th>\n",
       "      <th>zip_code</th>\n",
       "      <th>Consumer Confidence Index TX</th>\n",
       "      <th>Consumer Confidence West South Central</th>\n",
       "      <th>Consumer Confidence Index US</th>\n",
       "      <th>Consumer Price Index TX</th>\n",
       "      <th>Consumer Price Index U.S.</th>\n",
       "      <th>Nonfarm Employment TX</th>\n",
       "      <th>Nonfarm Employment U.S.</th>\n",
       "      <th>Unemployment TX</th>\n",
       "      <th>Unemployment U.S.</th>\n",
       "      <th>Single Family Building Permits TX</th>\n",
       "      <th>Multi Family Building Permits TX</th>\n",
       "      <th>Existing Single Family Home Sales TX</th>\n",
       "      <th>Existing Single Family Home Price TX</th>\n",
       "      <th>Non Residential Building Construction</th>\n",
       "      <th>Total Sales Tax Collections Retail TX</th>\n",
       "      <th>Total Sales Tax Collections TX</th>\n",
       "      <th>Retail Gasoline Price TX</th>\n",
       "      <th>Retail Diesel Price TX</th>\n",
       "      <th>Nonfarm Employment Illinois</th>\n",
       "      <th>Nonfarm Employment Florida</th>\n",
       "      <th>Nonfarm Employment New York</th>\n",
       "      <th>Nonfarm Employment Texas</th>\n",
       "      <th>Nonfarm Employment California</th>\n",
       "      <th>Gross Value Crude Oil Production</th>\n",
       "      <th>Gross Value Natural Gas Production</th>\n",
       "      <th>Motor Fuel Taxed Gasoline</th>\n",
       "      <th>Motor Fuel Taxed Diesel</th>\n",
       "    </tr>\n",
       "  </thead>\n",
       "  <tbody>\n",
       "    <tr>\n",
       "      <th>0</th>\n",
       "      <td>2012-01-01</td>\n",
       "      <td>77494</td>\n",
       "      <td>NaN</td>\n",
       "      <td>89.855</td>\n",
       "      <td>61.511</td>\n",
       "      <td>205.281</td>\n",
       "      <td>226.665</td>\n",
       "      <td>10.753</td>\n",
       "      <td>133.25</td>\n",
       "      <td>7.1</td>\n",
       "      <td>8.3</td>\n",
       "      <td>5230.0</td>\n",
       "      <td>4654.0</td>\n",
       "      <td>12613.0</td>\n",
       "      <td>137000.0</td>\n",
       "      <td>1050.07</td>\n",
       "      <td>888.271</td>\n",
       "      <td>2009.91</td>\n",
       "      <td>3.208</td>\n",
       "      <td>3.757</td>\n",
       "      <td>5719.5</td>\n",
       "      <td>7325.1</td>\n",
       "      <td>8779.4</td>\n",
       "      <td>10752.8</td>\n",
       "      <td>14594.8</td>\n",
       "      <td>4552.64</td>\n",
       "      <td>2757.83</td>\n",
       "      <td>1019.4</td>\n",
       "      <td>321.8</td>\n",
       "    </tr>\n",
       "  </tbody>\n",
       "</table>\n",
       "</div>"
      ],
      "text/plain": [
       "         Time  zip_code  Consumer Confidence Index TX  \\\n",
       "0  2012-01-01     77494                           NaN   \n",
       "\n",
       "   Consumer Confidence West South Central  Consumer Confidence Index US  \\\n",
       "0                                  89.855                        61.511   \n",
       "\n",
       "   Consumer Price Index TX  Consumer Price Index U.S.  Nonfarm Employment TX  \\\n",
       "0                  205.281                    226.665                 10.753   \n",
       "\n",
       "   Nonfarm Employment U.S.  Unemployment TX  Unemployment U.S.  \\\n",
       "0                   133.25              7.1                8.3   \n",
       "\n",
       "   Single Family Building Permits TX  Multi Family Building Permits TX  \\\n",
       "0                             5230.0                            4654.0   \n",
       "\n",
       "   Existing Single Family Home Sales TX  Existing Single Family Home Price TX  \\\n",
       "0                               12613.0                              137000.0   \n",
       "\n",
       "   Non Residential Building Construction  \\\n",
       "0                                1050.07   \n",
       "\n",
       "   Total Sales Tax Collections Retail TX  Total Sales Tax Collections TX  \\\n",
       "0                                888.271                         2009.91   \n",
       "\n",
       "   Retail Gasoline Price TX  Retail Diesel Price TX  \\\n",
       "0                     3.208                   3.757   \n",
       "\n",
       "   Nonfarm Employment Illinois  Nonfarm Employment Florida  \\\n",
       "0                       5719.5                      7325.1   \n",
       "\n",
       "   Nonfarm Employment New York  Nonfarm Employment Texas  \\\n",
       "0                       8779.4                   10752.8   \n",
       "\n",
       "   Nonfarm Employment California  Gross Value Crude Oil Production  \\\n",
       "0                        14594.8                           4552.64   \n",
       "\n",
       "   Gross Value Natural Gas Production  Motor Fuel Taxed Gasoline  \\\n",
       "0                             2757.83                     1019.4   \n",
       "\n",
       "   Motor Fuel Taxed Diesel  \n",
       "0                    321.8  "
      ]
     },
     "execution_count": 24,
     "metadata": {},
     "output_type": "execute_result"
    }
   ],
   "source": [
    "key_econ.head(1)"
   ]
  },
  {
   "cell_type": "code",
   "execution_count": 25,
   "metadata": {},
   "outputs": [],
   "source": [
    "############################################################################################## poll_clean\n",
    "\n",
    "poll = pd.read_csv\\\n",
    "(r'C:\\Users\\robla\\Desktop\\nycdsa\\Capstone\\cleaned_data\\cleaned_data\\poll_clean.csv',\n",
    " index_col = 0)#.drop(['month','year'], axis = 1)\n",
    "\n",
    "# poll.rename(columns = {'date':'Time','zip_codes':'zip_code'},inplace = True)\n",
    "\n",
    "# poll.loc[:,'Time'] = poll['Time'].apply(lambda x: pd.to_datetime(x, format = '%Y-%m')) #converting time to datetime format"
   ]
  },
  {
   "cell_type": "code",
   "execution_count": 26,
   "metadata": {},
   "outputs": [
    {
     "data": {
      "text/html": [
       "<div>\n",
       "<style scoped>\n",
       "    .dataframe tbody tr th:only-of-type {\n",
       "        vertical-align: middle;\n",
       "    }\n",
       "\n",
       "    .dataframe tbody tr th {\n",
       "        vertical-align: top;\n",
       "    }\n",
       "\n",
       "    .dataframe thead th {\n",
       "        text-align: right;\n",
       "    }\n",
       "</style>\n",
       "<table border=\"1\" class=\"dataframe\">\n",
       "  <thead>\n",
       "    <tr style=\"text-align: right;\">\n",
       "      <th></th>\n",
       "      <th>Time</th>\n",
       "      <th>tx_is_a_lot_better</th>\n",
       "      <th>tx_is_a_little_better</th>\n",
       "      <th>tx_is_abt_same</th>\n",
       "      <th>tx_is_a_little_worse</th>\n",
       "      <th>tx_is_a_lot_worse</th>\n",
       "      <th>tx_is_dont_know</th>\n",
       "      <th>tx_is_better</th>\n",
       "      <th>tx_is_worse</th>\n",
       "      <th>zip_code</th>\n",
       "    </tr>\n",
       "  </thead>\n",
       "  <tbody>\n",
       "    <tr>\n",
       "      <th>0</th>\n",
       "      <td>2011-02-01</td>\n",
       "      <td>3.0</td>\n",
       "      <td>17.0</td>\n",
       "      <td>45.0</td>\n",
       "      <td>24.0</td>\n",
       "      <td>11.0</td>\n",
       "      <td>1.0</td>\n",
       "      <td>20.0</td>\n",
       "      <td>35.0</td>\n",
       "      <td>77494</td>\n",
       "    </tr>\n",
       "  </tbody>\n",
       "</table>\n",
       "</div>"
      ],
      "text/plain": [
       "         Time  tx_is_a_lot_better  tx_is_a_little_better  tx_is_abt_same  \\\n",
       "0  2011-02-01                 3.0                   17.0            45.0   \n",
       "\n",
       "   tx_is_a_little_worse  tx_is_a_lot_worse  tx_is_dont_know  tx_is_better  \\\n",
       "0                  24.0               11.0              1.0          20.0   \n",
       "\n",
       "   tx_is_worse  zip_code  \n",
       "0         35.0     77494  "
      ]
     },
     "execution_count": 26,
     "metadata": {},
     "output_type": "execute_result"
    }
   ],
   "source": [
    "poll.head(1)"
   ]
  },
  {
   "cell_type": "code",
   "execution_count": 27,
   "metadata": {},
   "outputs": [],
   "source": [
    "############################################################################################## new biz outlet !\n",
    "\n",
    "new_biz_out = pd.read_csv\\\n",
    "(r'C:\\Users\\robla\\Desktop\\nycdsa\\Capstone\\cleaned_data\\cleaned_data\\new_biz_outlet.csv',index_col = 0)#,\n",
    " #index_col = 1,parse_dates= {'Time':['month', 'year']})\n",
    "\n",
    "#new_biz_out.loc[:,'Time'] = new_biz_out['Time'].apply(lambda x: pd.to_datetime(x, format = '%Y-%m')) #converting time to datetime format"
   ]
  },
  {
   "cell_type": "code",
   "execution_count": 28,
   "metadata": {},
   "outputs": [
    {
     "data": {
      "text/html": [
       "<div>\n",
       "<style scoped>\n",
       "    .dataframe tbody tr th:only-of-type {\n",
       "        vertical-align: middle;\n",
       "    }\n",
       "\n",
       "    .dataframe tbody tr th {\n",
       "        vertical-align: top;\n",
       "    }\n",
       "\n",
       "    .dataframe thead th {\n",
       "        text-align: right;\n",
       "    }\n",
       "</style>\n",
       "<table border=\"1\" class=\"dataframe\">\n",
       "  <thead>\n",
       "    <tr style=\"text-align: right;\">\n",
       "      <th></th>\n",
       "      <th>Time</th>\n",
       "      <th>zip_code</th>\n",
       "      <th>outlet_count</th>\n",
       "      <th>outlet_taxpayer_non_tx</th>\n",
       "      <th>outlet_org_type_cl</th>\n",
       "      <th>outlet_org_type_is</th>\n",
       "      <th>outlet_org_type_foreign</th>\n",
       "      <th>outlet_non_tx_ratio</th>\n",
       "      <th>outlet_cl_ratio</th>\n",
       "      <th>outlet_is_ratio</th>\n",
       "      <th>outlet_foreign_ratio</th>\n",
       "    </tr>\n",
       "  </thead>\n",
       "  <tbody>\n",
       "    <tr>\n",
       "      <th>0</th>\n",
       "      <td>2012-01-01</td>\n",
       "      <td>77494</td>\n",
       "      <td>11.0</td>\n",
       "      <td>2.0</td>\n",
       "      <td>1.0</td>\n",
       "      <td>3.0</td>\n",
       "      <td>2.0</td>\n",
       "      <td>0.181818</td>\n",
       "      <td>0.090909</td>\n",
       "      <td>0.272727</td>\n",
       "      <td>0.181818</td>\n",
       "    </tr>\n",
       "  </tbody>\n",
       "</table>\n",
       "</div>"
      ],
      "text/plain": [
       "         Time  zip_code  outlet_count  outlet_taxpayer_non_tx  \\\n",
       "0  2012-01-01     77494          11.0                     2.0   \n",
       "\n",
       "   outlet_org_type_cl  outlet_org_type_is  outlet_org_type_foreign  \\\n",
       "0                 1.0                 3.0                      2.0   \n",
       "\n",
       "   outlet_non_tx_ratio  outlet_cl_ratio  outlet_is_ratio  outlet_foreign_ratio  \n",
       "0             0.181818         0.090909         0.272727              0.181818  "
      ]
     },
     "execution_count": 28,
     "metadata": {},
     "output_type": "execute_result"
    }
   ],
   "source": [
    "new_biz_out.head(1)"
   ]
  },
  {
   "cell_type": "code",
   "execution_count": 29,
   "metadata": {},
   "outputs": [],
   "source": [
    "############################################################################################## covid_clean\n",
    "\n",
    "covid = pd.read_csv\\\n",
    "(r'C:\\Users\\robla\\Desktop\\nycdsa\\Capstone\\cleaned_data\\cleaned_data\\covid_clean.csv',\n",
    " index_col = 0)#,parse_dates= {'Time':['month', 'year']})\n",
    "\n",
    "# covid.loc[:,'Time'] = covid['Time'].apply(lambda x: pd.to_datetime(x, format = '%Y-%m')) #converting time to datetime format"
   ]
  },
  {
   "cell_type": "code",
   "execution_count": 30,
   "metadata": {},
   "outputs": [
    {
     "data": {
      "text/html": [
       "<div>\n",
       "<style scoped>\n",
       "    .dataframe tbody tr th:only-of-type {\n",
       "        vertical-align: middle;\n",
       "    }\n",
       "\n",
       "    .dataframe tbody tr th {\n",
       "        vertical-align: top;\n",
       "    }\n",
       "\n",
       "    .dataframe thead th {\n",
       "        text-align: right;\n",
       "    }\n",
       "</style>\n",
       "<table border=\"1\" class=\"dataframe\">\n",
       "  <thead>\n",
       "    <tr style=\"text-align: right;\">\n",
       "      <th></th>\n",
       "      <th>Time</th>\n",
       "      <th>zip_code</th>\n",
       "      <th>county</th>\n",
       "      <th>fatalities</th>\n",
       "      <th>caseCount</th>\n",
       "    </tr>\n",
       "  </thead>\n",
       "  <tbody>\n",
       "    <tr>\n",
       "      <th>0</th>\n",
       "      <td>2012-01-01</td>\n",
       "      <td>75002.0</td>\n",
       "      <td>collin</td>\n",
       "      <td>0.0</td>\n",
       "      <td>0.0</td>\n",
       "    </tr>\n",
       "  </tbody>\n",
       "</table>\n",
       "</div>"
      ],
      "text/plain": [
       "         Time  zip_code  county  fatalities  caseCount\n",
       "0  2012-01-01   75002.0  collin         0.0        0.0"
      ]
     },
     "execution_count": 30,
     "metadata": {},
     "output_type": "execute_result"
    }
   ],
   "source": [
    "covid.head(1)"
   ]
  },
  {
   "cell_type": "code",
   "execution_count": 31,
   "metadata": {},
   "outputs": [],
   "source": [
    "############################################################################################## env_violation\n",
    "\n",
    "\n",
    "env_vio = pd.read_csv\\\n",
    "(r'C:\\Users\\robla\\Desktop\\nycdsa\\Capstone\\cleaned_data\\cleaned_data\\env_violation.csv',\n",
    " index_col = 0)\n",
    "\n",
    "#env_vio.rename(columns = {'date':'Time','zip':'zip_code'},inplace = True)\n",
    "\n",
    "#env_vio.loc[:,'Time'] = env_vio['Time'].apply(lambda x: pd.to_datetime(x, format = '%Y-%m')) #converting time to datetime format"
   ]
  },
  {
   "cell_type": "code",
   "execution_count": 32,
   "metadata": {},
   "outputs": [
    {
     "data": {
      "text/html": [
       "<div>\n",
       "<style scoped>\n",
       "    .dataframe tbody tr th:only-of-type {\n",
       "        vertical-align: middle;\n",
       "    }\n",
       "\n",
       "    .dataframe tbody tr th {\n",
       "        vertical-align: top;\n",
       "    }\n",
       "\n",
       "    .dataframe thead th {\n",
       "        text-align: right;\n",
       "    }\n",
       "</style>\n",
       "<table border=\"1\" class=\"dataframe\">\n",
       "  <thead>\n",
       "    <tr style=\"text-align: right;\">\n",
       "      <th></th>\n",
       "      <th>Time</th>\n",
       "      <th>zip_code</th>\n",
       "      <th>env_violation_count</th>\n",
       "    </tr>\n",
       "  </thead>\n",
       "  <tbody>\n",
       "    <tr>\n",
       "      <th>0</th>\n",
       "      <td>2012-01-01</td>\n",
       "      <td>78727</td>\n",
       "      <td>0.0</td>\n",
       "    </tr>\n",
       "  </tbody>\n",
       "</table>\n",
       "</div>"
      ],
      "text/plain": [
       "         Time  zip_code  env_violation_count\n",
       "0  2012-01-01     78727                  0.0"
      ]
     },
     "execution_count": 32,
     "metadata": {},
     "output_type": "execute_result"
    }
   ],
   "source": [
    "env_vio.head(1)"
   ]
  },
  {
   "cell_type": "code",
   "execution_count": 33,
   "metadata": {},
   "outputs": [],
   "source": [
    "############################################################################################## new_biz_taxpayer\n",
    "\n",
    "new_biz_taxpayer = pd.read_csv\\\n",
    "(r'C:\\Users\\robla\\Desktop\\nycdsa\\Capstone\\cleaned_data\\cleaned_data\\new_biz_taxpayer.csv',index_col = 0)#,\n",
    " #index_col = 1,parse_dates= {'Time':['month', 'year']})\n",
    "\n",
    "#new_biz_taxpayer.loc[:,'Time'] = new_biz_taxpayer['Time'].apply(lambda x: pd.to_datetime(x, format = '%Y-%m')) #converting time to datetime format"
   ]
  },
  {
   "cell_type": "code",
   "execution_count": 34,
   "metadata": {},
   "outputs": [
    {
     "data": {
      "text/html": [
       "<div>\n",
       "<style scoped>\n",
       "    .dataframe tbody tr th:only-of-type {\n",
       "        vertical-align: middle;\n",
       "    }\n",
       "\n",
       "    .dataframe tbody tr th {\n",
       "        vertical-align: top;\n",
       "    }\n",
       "\n",
       "    .dataframe thead th {\n",
       "        text-align: right;\n",
       "    }\n",
       "</style>\n",
       "<table border=\"1\" class=\"dataframe\">\n",
       "  <thead>\n",
       "    <tr style=\"text-align: right;\">\n",
       "      <th></th>\n",
       "      <th>Time</th>\n",
       "      <th>zip_code</th>\n",
       "      <th>taxpayer_count</th>\n",
       "      <th>taxpayer_org_type_cl</th>\n",
       "      <th>taxpayer_org_type_is</th>\n",
       "      <th>taxpayer_org_type_foreign</th>\n",
       "      <th>payer_outlet_same_zipcode</th>\n",
       "      <th>taxpayer_same_zip_ratio</th>\n",
       "      <th>taxpayer_cl_ratio</th>\n",
       "      <th>taxpayer_is_ratio</th>\n",
       "      <th>taxpayer_foreign_ratio</th>\n",
       "    </tr>\n",
       "  </thead>\n",
       "  <tbody>\n",
       "    <tr>\n",
       "      <th>0</th>\n",
       "      <td>2012-01-01</td>\n",
       "      <td>77494</td>\n",
       "      <td>10.0</td>\n",
       "      <td>4.0</td>\n",
       "      <td>3.0</td>\n",
       "      <td>0.0</td>\n",
       "      <td>6.0</td>\n",
       "      <td>0.6</td>\n",
       "      <td>0.4</td>\n",
       "      <td>0.3</td>\n",
       "      <td>0.0</td>\n",
       "    </tr>\n",
       "  </tbody>\n",
       "</table>\n",
       "</div>"
      ],
      "text/plain": [
       "         Time  zip_code  taxpayer_count  taxpayer_org_type_cl  \\\n",
       "0  2012-01-01     77494            10.0                   4.0   \n",
       "\n",
       "   taxpayer_org_type_is  taxpayer_org_type_foreign  payer_outlet_same_zipcode  \\\n",
       "0                   3.0                        0.0                        6.0   \n",
       "\n",
       "   taxpayer_same_zip_ratio  taxpayer_cl_ratio  taxpayer_is_ratio  \\\n",
       "0                      0.6                0.4                0.3   \n",
       "\n",
       "   taxpayer_foreign_ratio  \n",
       "0                     0.0  "
      ]
     },
     "execution_count": 34,
     "metadata": {},
     "output_type": "execute_result"
    }
   ],
   "source": [
    "new_biz_taxpayer.head(1)"
   ]
  },
  {
   "cell_type": "code",
   "execution_count": 35,
   "metadata": {},
   "outputs": [],
   "source": [
    "############################################################################################## sales_tax_allocation \n",
    "\n",
    "sales_tax_alloc = pd.read_csv\\\n",
    "(r'C:\\Users\\robla\\Desktop\\nycdsa\\Capstone\\cleaned_data\\cleaned_data\\sales_tax_allocation.csv',\n",
    " index_col = 0)#,parse_dates= {'Time':['month', 'year']})\n",
    "\n",
    "#sales_tax_alloc.loc[:,'Time'] = sales_tax_alloc['Time'].apply(lambda x: pd.to_datetime(x, format = '%Y-%m')) #converting time to datetime format"
   ]
  },
  {
   "cell_type": "code",
   "execution_count": 36,
   "metadata": {},
   "outputs": [
    {
     "data": {
      "text/html": [
       "<div>\n",
       "<style scoped>\n",
       "    .dataframe tbody tr th:only-of-type {\n",
       "        vertical-align: middle;\n",
       "    }\n",
       "\n",
       "    .dataframe tbody tr th {\n",
       "        vertical-align: top;\n",
       "    }\n",
       "\n",
       "    .dataframe thead th {\n",
       "        text-align: right;\n",
       "    }\n",
       "</style>\n",
       "<table border=\"1\" class=\"dataframe\">\n",
       "  <thead>\n",
       "    <tr style=\"text-align: right;\">\n",
       "      <th></th>\n",
       "      <th>Time</th>\n",
       "      <th>zip_code</th>\n",
       "      <th>sales_tax_rate</th>\n",
       "      <th>total_sales_tax</th>\n",
       "      <th>total_sales_tax_last_year</th>\n",
       "      <th>per_diff_total_sales_tax</th>\n",
       "      <th>city</th>\n",
       "    </tr>\n",
       "  </thead>\n",
       "  <tbody>\n",
       "    <tr>\n",
       "      <th>2580</th>\n",
       "      <td>2013-01-01</td>\n",
       "      <td>77494</td>\n",
       "      <td>1.0</td>\n",
       "      <td>832941.14</td>\n",
       "      <td>716157.82</td>\n",
       "      <td>16.3</td>\n",
       "      <td>KATY</td>\n",
       "    </tr>\n",
       "  </tbody>\n",
       "</table>\n",
       "</div>"
      ],
      "text/plain": [
       "            Time  zip_code  sales_tax_rate  total_sales_tax  \\\n",
       "2580  2013-01-01     77494             1.0        832941.14   \n",
       "\n",
       "      total_sales_tax_last_year  per_diff_total_sales_tax  city  \n",
       "2580                  716157.82                      16.3  KATY  "
      ]
     },
     "execution_count": 36,
     "metadata": {},
     "output_type": "execute_result"
    }
   ],
   "source": [
    "sales_tax_alloc.head(1)"
   ]
  },
  {
   "cell_type": "code",
   "execution_count": 37,
   "metadata": {},
   "outputs": [
    {
     "name": "stdout",
     "output_type": "stream",
     "text": [
      "(19565, 3) Index(['Time', 'zip_code', 'zori_ssa'], dtype='object') \n",
      "\n",
      "(19565, 3) Index(['Time', 'zip_code', 'delta_zori_ssa'], dtype='object') \n",
      "\n",
      "(19565, 3) Index(['Time', 'zip_code', 'delta_zori_ssa_6'], dtype='object') \n",
      "\n",
      "(19565, 3) Index(['Time', 'zip_code', 'delta_zori_ssa_12'], dtype='object') \n",
      "\n",
      "(22360, 7) Index(['Time', 'zip_code', 'sales_tax_rate', 'total_sales_tax',\n",
      "       'total_sales_tax_last_year', 'per_diff_total_sales_tax', 'city'],\n",
      "      dtype='object') \n",
      "\n",
      "(24940, 11) Index(['Time', 'zip_code', 'taxpayer_count', 'taxpayer_org_type_cl',\n",
      "       'taxpayer_org_type_is', 'taxpayer_org_type_foreign',\n",
      "       'payer_outlet_same_zipcode', 'taxpayer_same_zip_ratio',\n",
      "       'taxpayer_cl_ratio', 'taxpayer_is_ratio', 'taxpayer_foreign_ratio'],\n",
      "      dtype='object') \n",
      "\n",
      "(24940, 11) Index(['Time', 'zip_code', 'outlet_count', 'outlet_taxpayer_non_tx',\n",
      "       'outlet_org_type_cl', 'outlet_org_type_is', 'outlet_org_type_foreign',\n",
      "       'outlet_non_tx_ratio', 'outlet_cl_ratio', 'outlet_is_ratio',\n",
      "       'outlet_foreign_ratio'],\n",
      "      dtype='object') \n",
      "\n",
      "(24940, 5) Index(['Time', 'zip_code', 'county', 'fatalities', 'caseCount'], dtype='object') \n",
      "\n",
      "(24940, 3) Index(['Time', 'zip_code', 'env_violation_count'], dtype='object') \n",
      "\n",
      "(27305, 10) Index(['Time', 'tx_is_a_lot_better', 'tx_is_a_little_better', 'tx_is_abt_same',\n",
      "       'tx_is_a_little_worse', 'tx_is_a_lot_worse', 'tx_is_dont_know',\n",
      "       'tx_is_better', 'tx_is_worse', 'zip_code'],\n",
      "      dtype='object') \n",
      "\n",
      "(24940, 29) Index(['Time', 'zip_code', 'Consumer Confidence Index TX',\n",
      "       'Consumer Confidence West South Central',\n",
      "       'Consumer Confidence Index US', 'Consumer Price Index TX',\n",
      "       'Consumer Price Index U.S.', 'Nonfarm Employment TX',\n",
      "       'Nonfarm Employment U.S.', 'Unemployment TX', 'Unemployment U.S.',\n",
      "       'Single Family Building Permits TX', 'Multi Family Building Permits TX',\n",
      "       'Existing Single Family Home Sales TX',\n",
      "       'Existing Single Family Home Price TX',\n",
      "       'Non Residential Building Construction',\n",
      "       'Total Sales Tax Collections Retail TX',\n",
      "       'Total Sales Tax Collections TX', 'Retail Gasoline Price TX',\n",
      "       'Retail Diesel Price TX', 'Nonfarm Employment Illinois',\n",
      "       'Nonfarm Employment Florida', 'Nonfarm Employment New York',\n",
      "       'Nonfarm Employment Texas', 'Nonfarm Employment California',\n",
      "       'Gross Value Crude Oil Production',\n",
      "       'Gross Value Natural Gas Production', 'Motor Fuel Taxed Gasoline',\n",
      "       'Motor Fuel Taxed Diesel'],\n",
      "      dtype='object') \n",
      "\n",
      "(24940, 5) Index(['Time', 'zip_code', 'mintempC', 'maxtempC', 'precipMM'], dtype='object') \n",
      "\n",
      "(26015, 5) Index(['Time', 'ur', 'metro', 'delta_ur', 'zip_code'], dtype='object') \n",
      "\n",
      "(26015, 6) Index(['metro', 'zip_code', 'State', 'Time', 'sap_case_shiller_index',\n",
      "       'delta_sap_case_shiller_index'],\n",
      "      dtype='object') \n",
      "\n",
      "(30100, 6) Index(['metro', 'zip_code', 'State', 'Time', 'TNX', 'delta_TNX'], dtype='object') \n",
      "\n",
      "(54825, 6) Index(['Time', 'monthly_avg_gas_price', 'delta_monthly_avg_gas_price', 'State',\n",
      "       'metro', 'zip_code'],\n",
      "      dtype='object') \n",
      "\n"
     ]
    }
   ],
   "source": [
    "print(zori.shape,zori.columns,'\\n')\n",
    "print(zori_diff.shape,zori_diff.columns,'\\n')\n",
    "print(zori_diff_6.shape,zori_diff_6.columns,'\\n')\n",
    "print(zori_diff_12.shape,zori_diff_12.columns,'\\n')\n",
    "print(sales_tax_alloc.shape,sales_tax_alloc.columns,'\\n')\n",
    "print(new_biz_taxpayer.shape,new_biz_taxpayer.columns,'\\n')\n",
    "print(new_biz_out.shape,new_biz_out.columns,'\\n')\n",
    "print(covid.shape,covid.columns,'\\n')\n",
    "print(env_vio.shape,env_vio.columns,'\\n')\n",
    "print(poll.shape,poll.columns,'\\n')\n",
    "print(key_econ.shape,key_econ.columns,'\\n')\n",
    "print(weather.shape,weather.columns,'\\n')\n",
    "print(unemployment_rates.shape,unemployment_rates.columns,'\\n')\n",
    "print(sap_case.shape,sap_case.columns,'\\n')\n",
    "print(tnx.shape,tnx.columns,'\\n')\n",
    "print(monthly_gas.shape,monthly_gas.columns,'\\n')"
   ]
  },
  {
   "cell_type": "code",
   "execution_count": 39,
   "metadata": {},
   "outputs": [
    {
     "data": {
      "text/plain": [
       "[15, 14, 9, 12, 13, 5, 6, 7, 8, 10, 11, 4, 0, 1, 2, 3]"
      ]
     },
     "execution_count": 39,
     "metadata": {},
     "output_type": "execute_result"
    }
   ],
   "source": [
    "##############################################################################################\n",
    "\n",
    "dfs = [zori,zori_diff,zori_diff_6,zori_diff_12,\n",
    "       sales_tax_alloc,new_biz_taxpayer,new_biz_out,\n",
    "       covid,env_vio,poll,key_econ,weather,\n",
    "       unemployment_rates,sap_case,tnx,monthly_gas] \n",
    "\n",
    "# Finding order to left merge everything\n",
    "\n",
    "row_counts = [df.shape[0] for df in dfs]\n",
    "row_counts = pd.DataFrame(list(enumerate(row_counts))).sort_values(by = 1, ascending = False)\n",
    "merge_index_order = list(row_counts[0])\n",
    "merge_index_order"
   ]
  },
  {
   "cell_type": "markdown",
   "metadata": {},
   "source": [
    "### Making sure Time is the same dtype for all dataframes"
   ]
  },
  {
   "cell_type": "code",
   "execution_count": 40,
   "metadata": {},
   "outputs": [
    {
     "name": "stdout",
     "output_type": "stream",
     "text": [
      "Time        datetime64[ns]\n",
      "zip_code             int64\n",
      "zori_ssa           float64\n",
      "dtype: object\n",
      "Time              datetime64[ns]\n",
      "zip_code                   int64\n",
      "delta_zori_ssa           float64\n",
      "dtype: object\n",
      "Time                datetime64[ns]\n",
      "zip_code                     int64\n",
      "delta_zori_ssa_6           float64\n",
      "dtype: object\n",
      "Time                 datetime64[ns]\n",
      "zip_code                      int64\n",
      "delta_zori_ssa_12           float64\n",
      "dtype: object\n",
      "Time                         datetime64[ns]\n",
      "zip_code                              int64\n",
      "sales_tax_rate                      float64\n",
      "total_sales_tax                     float64\n",
      "total_sales_tax_last_year           float64\n",
      "per_diff_total_sales_tax            float64\n",
      "city                                 object\n",
      "dtype: object\n",
      "Time                         datetime64[ns]\n",
      "zip_code                              int64\n",
      "taxpayer_count                      float64\n",
      "taxpayer_org_type_cl                float64\n",
      "taxpayer_org_type_is                float64\n",
      "taxpayer_org_type_foreign           float64\n",
      "payer_outlet_same_zipcode           float64\n",
      "taxpayer_same_zip_ratio             float64\n",
      "taxpayer_cl_ratio                   float64\n",
      "taxpayer_is_ratio                   float64\n",
      "taxpayer_foreign_ratio              float64\n",
      "dtype: object\n",
      "Time                       datetime64[ns]\n",
      "zip_code                            int64\n",
      "outlet_count                      float64\n",
      "outlet_taxpayer_non_tx            float64\n",
      "outlet_org_type_cl                float64\n",
      "outlet_org_type_is                float64\n",
      "outlet_org_type_foreign           float64\n",
      "outlet_non_tx_ratio               float64\n",
      "outlet_cl_ratio                   float64\n",
      "outlet_is_ratio                   float64\n",
      "outlet_foreign_ratio              float64\n",
      "dtype: object\n",
      "Time          datetime64[ns]\n",
      "zip_code             float64\n",
      "county                object\n",
      "fatalities           float64\n",
      "caseCount            float64\n",
      "dtype: object\n",
      "Time                   datetime64[ns]\n",
      "zip_code                        int64\n",
      "env_violation_count           float64\n",
      "dtype: object\n",
      "Time                     datetime64[ns]\n",
      "tx_is_a_lot_better              float64\n",
      "tx_is_a_little_better           float64\n",
      "tx_is_abt_same                  float64\n",
      "tx_is_a_little_worse            float64\n",
      "tx_is_a_lot_worse               float64\n",
      "tx_is_dont_know                 float64\n",
      "tx_is_better                    float64\n",
      "tx_is_worse                     float64\n",
      "zip_code                          int64\n",
      "dtype: object\n",
      "Time                                      datetime64[ns]\n",
      "zip_code                                           int64\n",
      "Consumer Confidence Index TX                     float64\n",
      "Consumer Confidence West South Central           float64\n",
      "Consumer Confidence Index US                     float64\n",
      "Consumer Price Index TX                          float64\n",
      "Consumer Price Index U.S.                        float64\n",
      "Nonfarm Employment TX                            float64\n",
      "Nonfarm Employment U.S.                          float64\n",
      "Unemployment TX                                  float64\n",
      "Unemployment U.S.                                float64\n",
      "Single Family Building Permits TX                float64\n",
      "Multi Family Building Permits TX                 float64\n",
      "Existing Single Family Home Sales TX             float64\n",
      "Existing Single Family Home Price TX             float64\n",
      "Non Residential Building Construction            float64\n",
      "Total Sales Tax Collections Retail TX            float64\n",
      "Total Sales Tax Collections TX                   float64\n",
      "Retail Gasoline Price TX                         float64\n",
      "Retail Diesel Price TX                           float64\n",
      "Nonfarm Employment Illinois                      float64\n",
      "Nonfarm Employment Florida                       float64\n",
      "Nonfarm Employment New York                      float64\n",
      "Nonfarm Employment Texas                         float64\n",
      "Nonfarm Employment California                    float64\n",
      "Gross Value Crude Oil Production                 float64\n",
      "Gross Value Natural Gas Production               float64\n",
      "Motor Fuel Taxed Gasoline                        float64\n",
      "Motor Fuel Taxed Diesel                          float64\n",
      "dtype: object\n",
      "Time        datetime64[ns]\n",
      "zip_code             int64\n",
      "mintempC           float64\n",
      "maxtempC           float64\n",
      "precipMM           float64\n",
      "dtype: object\n",
      "Time        datetime64[ns]\n",
      "ur                 float64\n",
      "metro               object\n",
      "delta_ur           float64\n",
      "zip_code             int64\n",
      "dtype: object\n",
      "metro                                   object\n",
      "zip_code                                 int64\n",
      "State                                   object\n",
      "Time                            datetime64[ns]\n",
      "sap_case_shiller_index                 float64\n",
      "delta_sap_case_shiller_index           float64\n",
      "dtype: object\n",
      "metro                object\n",
      "zip_code              int64\n",
      "State                object\n",
      "Time         datetime64[ns]\n",
      "TNX                 float64\n",
      "delta_TNX           float64\n",
      "dtype: object\n",
      "Time                           datetime64[ns]\n",
      "monthly_avg_gas_price                 float64\n",
      "delta_monthly_avg_gas_price           float64\n",
      "State                                  object\n",
      "metro                                  object\n",
      "zip_code                                int64\n",
      "dtype: object\n"
     ]
    }
   ],
   "source": [
    "for df in dfs:\n",
    "    \n",
    "    df.loc[:,'Time'] = df['Time'].apply(lambda x: pd.to_datetime(x, format = '%Y-%m'))\n",
    "\n",
    "for df in dfs:\n",
    "    print(df.dtypes)"
   ]
  },
  {
   "cell_type": "markdown",
   "metadata": {},
   "source": [
    "# merging all feature df's"
   ]
  },
  {
   "cell_type": "code",
   "execution_count": null,
   "metadata": {},
   "outputs": [],
   "source": [
    "def time_lag_merge(df_1, df_2,lag_dictionary = {},return_cols = False):\n",
    "    '''\n",
    "    Parameters\n",
    "    ----------\n",
    "    df_1 : pandas Dataframe\n",
    "        left dataframe that has a 'zip_code' and 'Time' column.\n",
    "    df_2 : pandas Dataframe\n",
    "        right dataframe that has a 'zip_code' and 'Time' column.\n",
    "    lag_dictionary : dictionary\n",
    "        keys are number of months you want to lag. \n",
    "        values are lists of columns that you want to have that lag.\n",
    "\n",
    "    Returns\n",
    "    -------\n",
    "    df_1_ : pandas Dataframe\n",
    "        dataframe to have new lagged columns.\n",
    "    '''\n",
    "    if lag_dictionary:\n",
    "        df_1_ = df_1.copy()\n",
    "        for lag in lag_dictionary.keys():\n",
    "            df_2_ = df_2.copy()\n",
    "            df_2_.loc[:,'Time'] = df_2_.loc[:,'Time'] + pd.DateOffset(months=lag)\n",
    "            df_1_ = df_1_.merge(df_2_[lag_dictionary[lag]+['zip_code','Time']], \n",
    "                                how = 'left', on = ['zip_code','Time'], \n",
    "                                suffixes = (None,f'_{lag}_month_shift'))\n",
    "    else:\n",
    "        df_1_ = df_1.merge(df_2, how = 'left', on = ['zip_code','Time'],\n",
    "                          suffixes = (None,'_right'))\n",
    "    if return_cols:\n",
    "        return df_1_, list(set(df_1_.columns) - set(df_1.columns))\n",
    "    else:\n",
    "        return df_1_"
   ]
  },
  {
   "cell_type": "code",
   "execution_count": null,
   "metadata": {},
   "outputs": [],
   "source": [
    "def left_merger(bigger_df,smaller_df):\n",
    "    \n",
    "    \"\"\"\n",
    "    left merges two dataframes on their shared columns\n",
    "    \"\"\"\n",
    "    \n",
    "    \n",
    "    \n",
    "    a = list(bigger_df.columns)\n",
    "    b = list(smaller_df.columns)\n",
    "    shared_columns = list(set(a).intersection(b))\n",
    "    \n",
    "    merged = pd.merge(bigger_df,smaller_df,how = 'left', on = shared_columns)\n",
    "    \n",
    "    return merged"
   ]
  },
  {
   "cell_type": "code",
   "execution_count": null,
   "metadata": {},
   "outputs": [],
   "source": [
    "def left_merger(df_1,df_2):\n",
    "    \n",
    "    \"\"\"\n",
    "    left merges onto the larger of two dataframes by their shared columns\n",
    "    \n",
    "    df_1: dataframe 1\n",
    "    \n",
    "    df_2: dataframe 2\n",
    "    \n",
    "    \"\"\"\n",
    "    if (len(list(set(list(df_1.columns)).intersection(list(df_2.columns)))) == 0):\n",
    "        \n",
    "        raise ValueError('dataframes have no shared columns to merge on!!')\n",
    "    \n",
    "    \n",
    "    if (df_1.shape[0]>= df_2.shape[0]):\n",
    "        \n",
    "        a = list(df_1.columns)\n",
    "        b = list(df_2.columns)\n",
    "        shared_columns = list(set(a).intersection(b))\n",
    "        merged = pd.merge(df_1,df_2,how = 'left', on = shared_columns)\n",
    "        \n",
    "    else:\n",
    "        \n",
    "        a = list(df_1.columns)\n",
    "        b = list(df_2.columns)\n",
    "        shared_columns = list(set(a).intersection(b))\n",
    "        merged = pd.merge(df_2,df_1,how = 'left', on = shared_columns)\n",
    "        \n",
    "    return merged"
   ]
  },
  {
   "cell_type": "code",
   "execution_count": null,
   "metadata": {},
   "outputs": [],
   "source": [
    "def shared_columns(df_1,df_2):\n",
    "    \n",
    "    return list(set(list(df_1.columns)).intersection(list(df_2.columns)))"
   ]
  },
  {
   "cell_type": "code",
   "execution_count": null,
   "metadata": {
    "scrolled": true
   },
   "outputs": [],
   "source": [
    "print(shared_columns(dfs[merge_index_order[0]],dfs[merge_index_order[1]]))\n",
    "merged = left_merger(dfs[merge_index_order[0]],dfs[merge_index_order[1]])\n",
    "\n",
    "for i in range(2,len(merge_index_order)):\n",
    "    \n",
    "    print(shared_columns(merged,dfs[merge_index_order[i]]))\n",
    "    \n",
    "    merged = left_merger(merged,dfs[merge_index_order[i]])"
   ]
  },
  {
   "cell_type": "code",
   "execution_count": null,
   "metadata": {},
   "outputs": [],
   "source": [
    "merged.columns"
   ]
  },
  {
   "cell_type": "code",
   "execution_count": null,
   "metadata": {
    "scrolled": true
   },
   "outputs": [],
   "source": [
    "merged['Time']"
   ]
  },
  {
   "cell_type": "code",
   "execution_count": null,
   "metadata": {},
   "outputs": [],
   "source": [
    "corrs = merged.drop(['Time','zip_code'], axis = 1).corr()\n",
    "\n",
    "px.imshow(corrs[['delta_zori_ssa_6']].sort_values(by = 'delta_zori_ssa_6',ascending = False).T\n",
    "          ,aspect = 1,width = 1000,height = 600,color_continuous_scale = 'bluered',title = 'Correlation Heat Map')"
   ]
  },
  {
   "cell_type": "code",
   "execution_count": null,
   "metadata": {},
   "outputs": [],
   "source": [
    "corrs.index"
   ]
  },
  {
   "cell_type": "markdown",
   "metadata": {},
   "source": [
    "# Trying a Random Forest Model"
   ]
  },
  {
   "cell_type": "code",
   "execution_count": null,
   "metadata": {},
   "outputs": [],
   "source": [
    "from sklearn.ensemble import RandomForestRegressor\n",
    "from sklearn.model_selection import GridSearchCV"
   ]
  },
  {
   "cell_type": "code",
   "execution_count": null,
   "metadata": {},
   "outputs": [],
   "source": [
    "data = merged[['Time','zip_code','delta_zori_ssa','delta_sap_case_shiller_index','Single Family Building Permits TX','Total Sales Tax Collections TX','Gross Value Natural Gas Production']]"
   ]
  },
  {
   "cell_type": "code",
   "execution_count": null,
   "metadata": {
    "scrolled": false
   },
   "outputs": [],
   "source": [
    "data = data.loc[~data['delta_zori_ssa'].isna()]"
   ]
  },
  {
   "cell_type": "code",
   "execution_count": null,
   "metadata": {},
   "outputs": [],
   "source": [
    "data = data.loc[~data.isna().any(axis = 1)]"
   ]
  },
  {
   "cell_type": "code",
   "execution_count": null,
   "metadata": {},
   "outputs": [],
   "source": [
    "data.loc[:,'Date'] = data['Time'].apply(lambda x: str(x)[:-9])"
   ]
  },
  {
   "cell_type": "code",
   "execution_count": null,
   "metadata": {},
   "outputs": [],
   "source": [
    "data = data.set_index('Date')"
   ]
  },
  {
   "cell_type": "code",
   "execution_count": null,
   "metadata": {},
   "outputs": [],
   "source": [
    "train = data.loc['2014-02-01':'2021-01-01',:]\n",
    "test = data.loc['2021-01-01':,:]"
   ]
  },
  {
   "cell_type": "code",
   "execution_count": null,
   "metadata": {},
   "outputs": [],
   "source": [
    "train.columns"
   ]
  },
  {
   "cell_type": "code",
   "execution_count": null,
   "metadata": {},
   "outputs": [],
   "source": [
    "train = train.reset_index()\n",
    "test = test.reset_index()"
   ]
  },
  {
   "cell_type": "code",
   "execution_count": null,
   "metadata": {
    "scrolled": true
   },
   "outputs": [],
   "source": [
    "train.head(50)"
   ]
  },
  {
   "cell_type": "code",
   "execution_count": null,
   "metadata": {},
   "outputs": [],
   "source": [
    "import time\n",
    "\n",
    "X_train = train.drop(['delta_zori_ssa','Time','zip_code'],axis = 1)\n",
    "X_test = test.drop(['delta_zori_ssa','Time','zip_code'],axis = 1)\n",
    "y_train = train['delta_zori_ssa']\n",
    "y_test = test['delta_zori_ssa']\n",
    "\n",
    "\n",
    "\n",
    "randomForest = RandomForestRegressor()\n",
    "\n",
    "da_grid = {'n_estimators':[200],\n",
    "           'criterion':['mse'],\n",
    "           'max_depth':[20]}\n",
    "\n",
    "grid_search_forest = GridSearchCV(estimator = randomForest, param_grid = da_grid, cv = 3)\n",
    "\n",
    "start_time = time.time()\n",
    "\n",
    "grid_search_forest.fit(X_train,y_train)\n",
    "\n",
    "print(time.time() - start_time)"
   ]
  },
  {
   "cell_type": "code",
   "execution_count": null,
   "metadata": {},
   "outputs": [],
   "source": [
    "grid_search_forest.score(X_train,y_train)"
   ]
  },
  {
   "cell_type": "code",
   "execution_count": null,
   "metadata": {},
   "outputs": [],
   "source": [
    "grid_search_forest.score(X_test,y_test)"
   ]
  },
  {
   "cell_type": "code",
   "execution_count": null,
   "metadata": {
    "scrolled": false
   },
   "outputs": [],
   "source": [
    "print(\"Best Parameters: \",grid_search_forest.best_params_,\"\\n\\n\",\n",
    "      \"Mean cross-validated score of the best_estimator: \",grid_search_forest.best_score_,\"\\n\")\n",
    "\n",
    "best_forest = grid_search_forest.best_estimator_\n",
    "feature_importance = [i for i in zip(X_train.columns,best_forest.feature_importances_)]\n",
    "feature_importance = sorted(feature_importance,key = lambda x: x[1],reverse = True)\n",
    "\n",
    "FI = pd.DataFrame(feature_importance,columns = ['feature','importance'])\n",
    "\n",
    "fig = px.bar(data_frame = FI.iloc[:,:],\n",
    "             x = 'feature',\n",
    "             y = 'importance',\n",
    "             title = \"Feature Importance\",\n",
    "             color = 'importance')\n",
    "fig.show()"
   ]
  },
  {
   "cell_type": "code",
   "execution_count": null,
   "metadata": {},
   "outputs": [],
   "source": []
  }
 ],
 "metadata": {
  "kernelspec": {
   "display_name": "Python 3",
   "language": "python",
   "name": "python3"
  },
  "language_info": {
   "codemirror_mode": {
    "name": "ipython",
    "version": 3
   },
   "file_extension": ".py",
   "mimetype": "text/x-python",
   "name": "python",
   "nbconvert_exporter": "python",
   "pygments_lexer": "ipython3",
   "version": "3.7.3"
  }
 },
 "nbformat": 4,
 "nbformat_minor": 2
}
