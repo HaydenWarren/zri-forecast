{
 "cells": [
  {
   "cell_type": "code",
   "execution_count": 34,
   "metadata": {},
   "outputs": [],
   "source": [
    "import numpy as np\n",
    "import pandas as pd\n",
    "import matplotlib.pyplot as plt\n",
    "import seaborn as sns\n",
    "import plotly.express as px"
   ]
  },
  {
   "cell_type": "code",
   "execution_count": 35,
   "metadata": {},
   "outputs": [],
   "source": [
    "pd.set_option('display.max_columns', None)\n",
    "pd.set_option('display.max_rows', None)"
   ]
  },
  {
   "cell_type": "markdown",
   "metadata": {},
   "source": [
    "# Reading in Data"
   ]
  },
  {
   "cell_type": "code",
   "execution_count": 36,
   "metadata": {},
   "outputs": [],
   "source": [
    "zori_diff_6 = pd.read_csv\\\n",
    "(r'C:\\Users\\robla\\Desktop\\nycdsa\\Capstone\\cleaned_data\\cleaned_data\\long_differenced_interpolated_target_6_month.csv',\n",
    " index_col = 0) \n",
    "\n",
    "zori_diff_6.loc[:,'Time'] = zori_diff_6['Time'].apply(lambda x: pd.to_datetime(x, format = '%Y-%m')) #converting time to datetime format\n",
    "\n",
    "zori_diff_12 = pd.read_csv\\\n",
    "(r'C:\\Users\\robla\\Desktop\\nycdsa\\Capstone\\cleaned_data\\cleaned_data\\long_differenced_interpolated_target_annual.csv',\n",
    " index_col = 0) \n",
    "\n",
    "zori_diff_12.loc[:,'Time'] = zori_diff_12['Time'].apply(lambda x: pd.to_datetime(x, format = '%Y-%m')) #converting time to datetime format\n",
    "\n",
    "############################################################################################## differenced zori\n",
    "\n",
    "zori_diff = pd.read_csv\\\n",
    "(r'C:\\Users\\robla\\Desktop\\nycdsa\\Capstone\\cleaned_data\\cleaned_data\\long_differenced_interpolated_target.csv',\n",
    " index_col = 0) \n",
    "\n",
    "zori_diff.loc[:,'Time'] = zori_diff['Time'].apply(lambda x: pd.to_datetime(x, format = '%Y-%m')) #converting time to datetime format\n",
    "\n",
    "############################################################################################## zori\n",
    "\n",
    "zori = pd.read_csv\\\n",
    "(r'C:\\Users\\robla\\Desktop\\nycdsa\\Capstone\\cleaned_data\\cleaned_data\\long_interpolated_target.csv',\n",
    " index_col = 0)\n",
    "\n",
    "\n",
    "zori.loc[:,'Time'] = zori['Time'].apply(lambda x: pd.to_datetime(x, format = '%Y-%m')) #converting time to datetime format"
   ]
  },
  {
   "cell_type": "code",
   "execution_count": 37,
   "metadata": {},
   "outputs": [],
   "source": [
    "############################################################################################## acs\n",
    "acs = pd.read_csv\\\n",
    "(r'C:\\Users\\robla\\Desktop\\nycdsa\\Capstone\\cleaned_data\\cleaned_data\\acs_clean.csv',\n",
    " index_col = 0)\n",
    "acs = acs.drop('median_age', axis = 1)\n",
    "\n",
    "#acs.rename(columns = {'geo_id':'zip_code'}, inplace = True)\n",
    "\n",
    "# cols_to_take_percent_change = list(acs.drop(['zip_code','year','Time'],axis = 1).columns)\n",
    "# percent_change_cols = []\n",
    "\n",
    "# for col in cols_to_take_percent_change:\n",
    "#     acs.loc[:,col+'_12_month_percent_change'] = acs[col].pct_change(periods = 2568) # converting values to 12 month percent change in each zip_code\n",
    "#                                                          # periods are 2568 because data is stacked according to zip_code\n",
    "#     percent_change_cols.append(col+'_12_month_percent_change')\n",
    "\n",
    "acs2 = pd.read_csv\\\n",
    "(r'C:\\Users\\robla\\Desktop\\nycdsa\\Capstone\\cleaned_data\\cleaned_data\\acs2_clean.csv',\n",
    " index_col = 0)\n",
    "\n",
    "acs2.loc[:,'Time'] = acs2['Time'].apply(lambda x: str(x))\n",
    "\n",
    "\n",
    "# cols_to_take_percent_change2 = list(acs2.drop(['zip_code','Time'],axis = 1).columns)\n",
    "\n",
    "# for col in cols_to_take_percent_change2:\n",
    "#     acs2.loc[:,col] = acs2[col].pct_change(periods = 2568) # converting values to 12 month percent change in each zip_code\n",
    "#                                                            # periods are 2568 because data is stacked according to zip_code"
   ]
  },
  {
   "cell_type": "code",
   "execution_count": 38,
   "metadata": {},
   "outputs": [
    {
     "data": {
      "text/html": [
       "<div>\n",
       "<style scoped>\n",
       "    .dataframe tbody tr th:only-of-type {\n",
       "        vertical-align: middle;\n",
       "    }\n",
       "\n",
       "    .dataframe tbody tr th {\n",
       "        vertical-align: top;\n",
       "    }\n",
       "\n",
       "    .dataframe thead th {\n",
       "        text-align: right;\n",
       "    }\n",
       "</style>\n",
       "<table border=\"1\" class=\"dataframe\">\n",
       "  <thead>\n",
       "    <tr style=\"text-align: right;\">\n",
       "      <th></th>\n",
       "      <th>zip_code</th>\n",
       "      <th>male_pop</th>\n",
       "      <th>female_pop</th>\n",
       "      <th>white_pop</th>\n",
       "      <th>not_us_citizen_pop</th>\n",
       "      <th>black_pop</th>\n",
       "      <th>asian_pop</th>\n",
       "      <th>hispanic_pop</th>\n",
       "      <th>amerindian_pop</th>\n",
       "      <th>other_race_pop</th>\n",
       "      <th>median_income</th>\n",
       "      <th>income_per_capita</th>\n",
       "      <th>pop_determined_poverty_status</th>\n",
       "      <th>poverty</th>\n",
       "      <th>gini_index</th>\n",
       "      <th>housing_units</th>\n",
       "      <th>renter_occupied_housing_units_paying_cash_median_gross_rent</th>\n",
       "      <th>occupied_housing_units</th>\n",
       "      <th>vacant_housing_units_for_rent</th>\n",
       "      <th>median_year_structure_built</th>\n",
       "      <th>married_households</th>\n",
       "      <th>households_public_asst_or_food_stamps</th>\n",
       "      <th>male_male_households</th>\n",
       "      <th>female_female_households</th>\n",
       "      <th>children</th>\n",
       "      <th>median_rent</th>\n",
       "      <th>percent_income_spent_on_rent</th>\n",
       "      <th>owner_occupied_housing_units</th>\n",
       "      <th>aggregate_travel_time_to_work</th>\n",
       "      <th>commuters_by_public_transportation</th>\n",
       "      <th>high_school_diploma</th>\n",
       "      <th>bachelors_degree</th>\n",
       "      <th>employed_pop</th>\n",
       "      <th>unemployed_pop</th>\n",
       "      <th>pop_in_labor_force</th>\n",
       "      <th>armed_forces</th>\n",
       "      <th>year</th>\n",
       "      <th>Time</th>\n",
       "    </tr>\n",
       "  </thead>\n",
       "  <tbody>\n",
       "    <tr>\n",
       "      <th>0</th>\n",
       "      <td>77494.0</td>\n",
       "      <td>27525.0</td>\n",
       "      <td>28283.0</td>\n",
       "      <td>36390.0</td>\n",
       "      <td>6630.0</td>\n",
       "      <td>3717.0</td>\n",
       "      <td>6882.0</td>\n",
       "      <td>7852.0</td>\n",
       "      <td>22.0</td>\n",
       "      <td>52.0</td>\n",
       "      <td>120111.0</td>\n",
       "      <td>42344.0</td>\n",
       "      <td>55713.0</td>\n",
       "      <td>1421.0</td>\n",
       "      <td>0.3568</td>\n",
       "      <td>18581.0</td>\n",
       "      <td>1207.0</td>\n",
       "      <td>17440.0</td>\n",
       "      <td>160.0</td>\n",
       "      <td>2004.0</td>\n",
       "      <td>13615.0</td>\n",
       "      <td>253.0</td>\n",
       "      <td>46.0</td>\n",
       "      <td>41.0</td>\n",
       "      <td>19418.0</td>\n",
       "      <td>1005.0</td>\n",
       "      <td>28.1</td>\n",
       "      <td>15334.0</td>\n",
       "      <td>767465.0</td>\n",
       "      <td>672.0</td>\n",
       "      <td>3952.591278</td>\n",
       "      <td>5649.188452</td>\n",
       "      <td>25437.0</td>\n",
       "      <td>1097.0</td>\n",
       "      <td>26534.0</td>\n",
       "      <td>0.0</td>\n",
       "      <td>2011</td>\n",
       "      <td>2011-01-01</td>\n",
       "    </tr>\n",
       "  </tbody>\n",
       "</table>\n",
       "</div>"
      ],
      "text/plain": [
       "   zip_code  male_pop  female_pop  white_pop  not_us_citizen_pop  black_pop  \\\n",
       "0   77494.0   27525.0     28283.0    36390.0              6630.0     3717.0   \n",
       "\n",
       "   asian_pop  hispanic_pop  amerindian_pop  other_race_pop  median_income  \\\n",
       "0     6882.0        7852.0            22.0            52.0       120111.0   \n",
       "\n",
       "   income_per_capita  pop_determined_poverty_status  poverty  gini_index  \\\n",
       "0            42344.0                        55713.0   1421.0      0.3568   \n",
       "\n",
       "   housing_units  renter_occupied_housing_units_paying_cash_median_gross_rent  \\\n",
       "0        18581.0                                             1207.0             \n",
       "\n",
       "   occupied_housing_units  vacant_housing_units_for_rent  \\\n",
       "0                 17440.0                          160.0   \n",
       "\n",
       "   median_year_structure_built  married_households  \\\n",
       "0                       2004.0             13615.0   \n",
       "\n",
       "   households_public_asst_or_food_stamps  male_male_households  \\\n",
       "0                                  253.0                  46.0   \n",
       "\n",
       "   female_female_households  children  median_rent  \\\n",
       "0                      41.0   19418.0       1005.0   \n",
       "\n",
       "   percent_income_spent_on_rent  owner_occupied_housing_units  \\\n",
       "0                          28.1                       15334.0   \n",
       "\n",
       "   aggregate_travel_time_to_work  commuters_by_public_transportation  \\\n",
       "0                       767465.0                               672.0   \n",
       "\n",
       "   high_school_diploma  bachelors_degree  employed_pop  unemployed_pop  \\\n",
       "0          3952.591278       5649.188452       25437.0          1097.0   \n",
       "\n",
       "   pop_in_labor_force  armed_forces  year        Time  \n",
       "0             26534.0           0.0  2011  2011-01-01  "
      ]
     },
     "execution_count": 38,
     "metadata": {},
     "output_type": "execute_result"
    }
   ],
   "source": [
    "acs.head(1)"
   ]
  },
  {
   "cell_type": "code",
   "execution_count": 39,
   "metadata": {},
   "outputs": [],
   "source": [
    "acs2 = acs2.set_index('Time')"
   ]
  },
  {
   "cell_type": "code",
   "execution_count": 40,
   "metadata": {},
   "outputs": [],
   "source": [
    "acs2 = acs2.reset_index()"
   ]
  },
  {
   "cell_type": "code",
   "execution_count": 41,
   "metadata": {},
   "outputs": [
    {
     "data": {
      "text/plain": [
       "Index(['zip_code', 'male_pop', 'female_pop', 'white_pop', 'not_us_citizen_pop',\n",
       "       'black_pop', 'asian_pop', 'hispanic_pop', 'amerindian_pop',\n",
       "       'other_race_pop', 'median_income', 'income_per_capita',\n",
       "       'pop_determined_poverty_status', 'poverty', 'gini_index',\n",
       "       'housing_units',\n",
       "       'renter_occupied_housing_units_paying_cash_median_gross_rent',\n",
       "       'occupied_housing_units', 'vacant_housing_units_for_rent',\n",
       "       'median_year_structure_built', 'married_households',\n",
       "       'households_public_asst_or_food_stamps', 'male_male_households',\n",
       "       'female_female_households', 'children', 'median_rent',\n",
       "       'percent_income_spent_on_rent', 'owner_occupied_housing_units',\n",
       "       'aggregate_travel_time_to_work', 'commuters_by_public_transportation',\n",
       "       'high_school_diploma', 'bachelors_degree', 'employed_pop',\n",
       "       'unemployed_pop', 'pop_in_labor_force', 'armed_forces', 'year', 'Time'],\n",
       "      dtype='object')"
      ]
     },
     "execution_count": 41,
     "metadata": {},
     "output_type": "execute_result"
    }
   ],
   "source": [
    "acs.columns"
   ]
  },
  {
   "cell_type": "code",
   "execution_count": 42,
   "metadata": {},
   "outputs": [
    {
     "data": {
      "text/plain": [
       "['Time',\n",
       " 'zip_code',\n",
       " 'commuting_population',\n",
       " 'divorced_men',\n",
       " 'driving_alone_population',\n",
       " 'housing_units_built_1940_to_1949',\n",
       " 'quintile_2_income_share',\n",
       " 'housing_units_10_to_19_units_rented',\n",
       " 'quintile_3_income_share',\n",
       " 'married_women_spouse_absent',\n",
       " 'female_80_to_84',\n",
       " 'female_45_to_49',\n",
       " 'female_75_to_79',\n",
       " 'married_men',\n",
       " 'motorcycle_population',\n",
       " 'female_60_to_61',\n",
       " 'male_20',\n",
       " 'housing_units_10_to_19_units_owned',\n",
       " 'male_21',\n",
       " 'men_with_professional_degree',\n",
       " 'housing_units_over_50_units_rented',\n",
       " 'quintile_5_income_share',\n",
       " 'housing_units_single_family_detached_rented',\n",
       " 'housing_units_built_1950_to_1959',\n",
       " 'women_with_professional_degree',\n",
       " 'total_contract_rent',\n",
       " 'bicycle_population',\n",
       " 'male_30_to_34',\n",
       " 'housing_units_other_type',\n",
       " 'male_18_to_19',\n",
       " 'average_household_size_renters',\n",
       " 'other_commute_method_population',\n",
       " 'male_50_to_54',\n",
       " 'married_men_spouse_absent',\n",
       " 'marital_status_population',\n",
       " 'housing_units_3_to_4_units_owned',\n",
       " 'quintile_4_upper_limit',\n",
       " 'quintile_3_upper_limit',\n",
       " 'men_with_associate_degree',\n",
       " 'women_with_one_year_or_more_college',\n",
       " 'housing_units_10_to_19_units',\n",
       " 'housing_units_built_1970_to_1979',\n",
       " 'quintile_4_income_share',\n",
       " 'total_units',\n",
       " 'median_household_income',\n",
       " 'women_with_doctoral_degree',\n",
       " 'female_21',\n",
       " 'housing_units_single_family_detached',\n",
       " 'housing_units_20_to_49_units_rented',\n",
       " 'renter_occupied_units',\n",
       " 'housing_units_single_family_detached_owned',\n",
       " 'women_with_less_one_year_college',\n",
       " 'taxi_population',\n",
       " 'female_62_to_64',\n",
       " 'working_from_home_population',\n",
       " 'total_households',\n",
       " 'median_contract_rent',\n",
       " 'female_22_to_24',\n",
       " 'male_62_to_64',\n",
       " 'occupied_units',\n",
       " 'married_men_spouse_present',\n",
       " 'male_67_to_69',\n",
       " 'quintile_1_mean_income',\n",
       " 'median_rooms',\n",
       " 'female_50_to_54',\n",
       " 'median_gross_rent',\n",
       " 'male_22_to_24',\n",
       " 'median_age',\n",
       " 'female_55_to_59',\n",
       " 'housing_units_mobile_home_rented',\n",
       " 'housing_units_built_1980_to_1989',\n",
       " 'housing_units_5_to_9_units_owned',\n",
       " 'women_with_hs_diploma',\n",
       " 'housing_units_other_type_owned',\n",
       " 'total_population_in_owner_occupied_units',\n",
       " 'housing_units_20_to_49_units_owned',\n",
       " 'housing_units_built_1930_to_1939',\n",
       " 'married_women',\n",
       " 'men_with_masters_degree',\n",
       " 'total_population_in_occupied_units',\n",
       " 'top_5_percent_mean_income',\n",
       " 'top_5_percent_lower_limit',\n",
       " 'female_35_to_39',\n",
       " 'male_70_to_74',\n",
       " 'female_18_to_19',\n",
       " 'men_with_less_one_year_college',\n",
       " 'housing_units_other_type_rented',\n",
       " 'housing_units_3_to_4_units',\n",
       " 'units_paying_cash_rent',\n",
       " 'female_85_over',\n",
       " 'housing_units_single_family_attached',\n",
       " 'male_60_to_61',\n",
       " 'housing_units_duplex',\n",
       " 'housing_units_20_to_49_units',\n",
       " 'men_with_doctoral_degree',\n",
       " 'top_5_percent_income_share',\n",
       " 'housing_units_duplex_rented',\n",
       " 'male_population',\n",
       " 'female_25_to_29',\n",
       " 'walking_to_work_population',\n",
       " 'owner_occupied_units',\n",
       " 'single_men',\n",
       " 'housing_units_5_to_9_units_rented',\n",
       " 'male_80_to_84',\n",
       " 'carpool_population',\n",
       " 'transit_population',\n",
       " 'female_population',\n",
       " 'male_55_to_59',\n",
       " 'female_20',\n",
       " 'women_with_masters_degree',\n",
       " 'quintile_1_income_share',\n",
       " 'total_household_income',\n",
       " 'housing_units_mobile_home',\n",
       " 'men_with_bachelors_degree',\n",
       " 'housing_units_single_family_attached_rented',\n",
       " 'quintile_1_upper_limit',\n",
       " 'female_70_to_74',\n",
       " 'quintile_2_upper_limit',\n",
       " 'total_population_in_renter_occupied_units',\n",
       " 'average_household_size',\n",
       " 'women_with_associate_degree',\n",
       " 'education_population',\n",
       " 'total_gross_rent',\n",
       " 'female_40_to_44',\n",
       " 'male_85_over',\n",
       " 'average_household_size_owners',\n",
       " 'divorced_women',\n",
       " 'female_30_to_34',\n",
       " 'housing_units_over_50_units_owned',\n",
       " 'female_67_to_69',\n",
       " 'male_25_to_29',\n",
       " 'housing_units_5_to_9_units',\n",
       " 'widowed_men',\n",
       " 'housing_units_3_to_4_units_rented',\n",
       " 'total_population',\n",
       " 'quintile_3_mean_income',\n",
       " 'men_with_one_year_or_more_college',\n",
       " 'widowed_women',\n",
       " 'male_40_to_44',\n",
       " 'male_35_to_39',\n",
       " 'housing_units_mobile_home_owned',\n",
       " 'quintile_4_mean_income',\n",
       " 'single_women',\n",
       " 'housing_units_built_1990_to_1999',\n",
       " 'housing_units_single_family_attached_owned',\n",
       " 'gini_coeficient',\n",
       " 'housing_units_over_50_units',\n",
       " 'women_with_bachelors_degree',\n",
       " 'male_45_to_49',\n",
       " 'housing_units_built_1960_to_1969',\n",
       " 'housing_units_duplex_owned',\n",
       " 'married_women_spouse_present',\n",
       " 'men_with_hs_diploma',\n",
       " 'quintile_5_mean_income',\n",
       " 'quintile_2_mean_income',\n",
       " 'male_75_to_79']"
      ]
     },
     "execution_count": 42,
     "metadata": {},
     "output_type": "execute_result"
    }
   ],
   "source": [
    "list(acs2.columns)"
   ]
  },
  {
   "cell_type": "markdown",
   "metadata": {},
   "source": [
    "# census feature engineering"
   ]
  },
  {
   "cell_type": "code",
   "execution_count": 43,
   "metadata": {},
   "outputs": [],
   "source": [
    "acs.loc[:,'diff_from_med_income_ratio_to_median_rent'] = (acs['income_per_capita'] - acs['median_income'])/acs['median_rent']\n",
    "\n",
    "acs.loc[:,'occupied_ratio'] = acs['occupied_housing_units']/acs['housing_units']\n",
    "\n",
    "acs.loc[:,'batch_high_school_ratio'] = acs['bachelors_degree']/acs['high_school_diploma']\n",
    "\n",
    "acs.loc[:,'minority_ratio'] = (acs['black_pop'] + acs['asian_pop'] + acs['hispanic_pop'] + acs['amerindian_pop'] + acs['other_race_pop'])/acs['white_pop']\n",
    "\n",
    "acs.loc[:,'married_household_ratio'] = acs['married_households']/acs['occupied_housing_units']\n",
    "\n",
    "acs.loc[:,'food_stamp_ratio'] = acs['households_public_asst_or_food_stamps']/acs['occupied_housing_units']"
   ]
  },
  {
   "cell_type": "code",
   "execution_count": 44,
   "metadata": {},
   "outputs": [],
   "source": [
    "engineered_acs = acs[['Time','zip_code','diff_from_med_income_ratio_to_median_rent',\n",
    "                      'occupied_ratio','batch_high_school_ratio',\n",
    "                      'minority_ratio','married_household_ratio',\n",
    "                      'food_stamp_ratio']]\n",
    "engineered_acs.to_csv(r'C:\\Users\\robla\\Desktop\\nycdsa\\Capstone\\data_dump\\engineered_acs.csv')"
   ]
  },
  {
   "cell_type": "code",
   "execution_count": 45,
   "metadata": {},
   "outputs": [],
   "source": [
    "############################################################################################## city unemployment rates\n",
    "\n",
    "unemployment_rates = pd.read_csv\\\n",
    "(r'C:\\Users\\robla\\Desktop\\nycdsa\\Capstone\\cleaned_data\\cleaned_data\\city_unemployment_rates.csv',\n",
    " index_col = 0) \n",
    "\n",
    "unemployment_rates.loc[:,'Time'] = unemployment_rates['Time'].apply(lambda x: pd.to_datetime(x, format = '%Y-%m')) #converting time to datetime format\n",
    "\n",
    "############################################################################################## spc housing index\n",
    "\n",
    "sap_case = pd.read_csv\\\n",
    "(r'C:\\Users\\robla\\Desktop\\nycdsa\\Capstone\\cleaned_data\\cleaned_data\\sap_case_shiller.csv',\n",
    " index_col = 0)\n",
    "\n",
    "sap_case.loc[:,'Time'] = sap_case['Time'].apply(lambda x: pd.to_datetime(x, format = '%Y-%m')) #converting time to datetime format\n",
    "\n",
    "############################################################################################## ten year note\n",
    "\n",
    "tnx = pd.read_csv\\\n",
    "(r'C:\\Users\\robla\\Desktop\\nycdsa\\Capstone\\cleaned_data\\cleaned_data\\monthly_tnx.csv',\n",
    " index_col = 0)\n",
    "\n",
    "tnx.loc[:,'Time'] = tnx['Time'].apply(lambda x: pd.to_datetime(x, format = '%Y-%m')) #converting time to datetime format\n",
    "\n",
    "############################################################################################## state monthly gas prices \n",
    "\n",
    "monthly_gas = pd.read_csv\\\n",
    "(r'C:\\Users\\robla\\Desktop\\nycdsa\\Capstone\\cleaned_data\\cleaned_data\\monthly_avg_gas_prices.csv',\n",
    " index_col = 0)\n",
    "\n",
    "\n",
    "monthly_gas.loc[:,'Time'] = monthly_gas['Time'].apply(lambda x: pd.to_datetime(x, format = '%Y-%m')) #converting time to datetime format\n",
    "\n",
    "############################################################################################## weather\n",
    "\n",
    "weather = pd.read_csv\\\n",
    "(r'C:\\Users\\robla\\Desktop\\nycdsa\\Capstone\\cleaned_data\\cleaned_data\\weather.csv',\n",
    " index_col = 0)\n",
    "\n",
    "# weather.rename(columns = {'date_time':'Time','zip':'zip_code'},inplace = True)\n",
    "\n",
    "\n",
    "# weather.loc[:,'Time'] = weather['Time'].apply(lambda x: pd.to_datetime(x, format = '%Y-%m')) #converting time to datetime format\n",
    "\n",
    "############################################################################################## key econ\n",
    "\n",
    "key_econ = pd.read_csv\\\n",
    "(r'C:\\Users\\robla\\Desktop\\nycdsa\\Capstone\\cleaned_data\\cleaned_data\\key_econ.csv',index_col = 0)#,parse_dates= {'Time':['Month', 'Year']})\n",
    "\n",
    "#key_econ.loc[:,'Time'] = key_econ['Time'].apply(lambda x: pd.to_datetime(x, format = '%Y-%m')) #converting time to datetime format\n",
    "\n",
    "############################################################################################## poll_clean\n",
    "\n",
    "poll = pd.read_csv\\\n",
    "(r'C:\\Users\\robla\\Desktop\\nycdsa\\Capstone\\cleaned_data\\cleaned_data\\poll_clean.csv',\n",
    " index_col = 0)#.drop(['month','year'], axis = 1)\n",
    "\n",
    "# poll.rename(columns = {'date':'Time','zip_codes':'zip_code'},inplace = True)\n",
    "\n",
    "# poll.loc[:,'Time'] = poll['Time'].apply(lambda x: pd.to_datetime(x, format = '%Y-%m')) #converting time to datetime format\n",
    "\n",
    "############################################################################################## new biz outlet !\n",
    "\n",
    "new_biz_out = pd.read_csv\\\n",
    "(r'C:\\Users\\robla\\Desktop\\nycdsa\\Capstone\\cleaned_data\\cleaned_data\\new_biz_outlet.csv',index_col = 0)#,\n",
    " #index_col = 1,parse_dates= {'Time':['month', 'year']})\n",
    "\n",
    "#new_biz_out.loc[:,'Time'] = new_biz_out['Time'].apply(lambda x: pd.to_datetime(x, format = '%Y-%m')) #converting time to datetime format\n",
    "\n",
    "############################################################################################## covid_clean\n",
    "\n",
    "covid = pd.read_csv\\\n",
    "(r'C:\\Users\\robla\\Desktop\\nycdsa\\Capstone\\cleaned_data\\cleaned_data\\covid_clean.csv',\n",
    " index_col = 0)#,parse_dates= {'Time':['month', 'year']})\n",
    "\n",
    "# covid.loc[:,'Time'] = covid['Time'].apply(lambda x: pd.to_datetime(x, format = '%Y-%m')) #converting time to datetime format\n",
    "\n",
    "############################################################################################## env_violation\n",
    "env_vio = pd.read_csv\\\n",
    "(r'C:\\Users\\robla\\Desktop\\nycdsa\\Capstone\\cleaned_data\\cleaned_data\\env_violation.csv',\n",
    " index_col = 0)\n",
    "\n",
    "#env_vio.rename(columns = {'date':'Time','zip':'zip_code'},inplace = True)\n",
    "\n",
    "#env_vio.loc[:,'Time'] = env_vio['Time'].apply(lambda x: pd.to_datetime(x, format = '%Y-%m')) #converting time to datetime format\n",
    "\n",
    "############################################################################################## new_biz_taxpayer\n",
    "\n",
    "new_biz_taxpayer = pd.read_csv\\\n",
    "(r'C:\\Users\\robla\\Desktop\\nycdsa\\Capstone\\cleaned_data\\cleaned_data\\new_biz_taxpayer.csv',index_col = 0)#,\n",
    " #index_col = 1,parse_dates= {'Time':['month', 'year']})\n",
    "\n",
    "#new_biz_taxpayer.loc[:,'Time'] = new_biz_taxpayer['Time'].apply(lambda x: pd.to_datetime(x, format = '%Y-%m')) #converting time to datetime format\n",
    "\n",
    "############################################################################################## sales_tax_allocation \n",
    "\n",
    "sales_tax_alloc = pd.read_csv\\\n",
    "(r'C:\\Users\\robla\\Desktop\\nycdsa\\Capstone\\cleaned_data\\cleaned_data\\sales_tax_allocation.csv',\n",
    " index_col = 0)#,parse_dates= {'Time':['month', 'year']})\n",
    "\n",
    "#sales_tax_alloc.loc[:,'Time'] = sales_tax_alloc['Time'].apply(lambda x: pd.to_datetime(x, format = '%Y-%m')) #converting time to datetime format\n",
    "\n",
    "rent_search = pd.read_csv\\\n",
    "(r'C:\\Users\\robla\\Desktop\\nycdsa\\Capstone\\cleaned_data\\cleaned_data\\rent_search_trend.csv',\n",
    " index_col = 0)\n",
    "\n",
    "real_dispos = pd.read_csv\\\n",
    "(r'C:\\Users\\robla\\Desktop\\nycdsa\\Capstone\\cleaned_data\\cleaned_data\\real_dispos.csv',\n",
    " index_col = 0)"
   ]
  },
  {
   "cell_type": "code",
   "execution_count": 46,
   "metadata": {},
   "outputs": [
    {
     "data": {
      "text/plain": [
       "(20544, 44)"
      ]
     },
     "execution_count": 46,
     "metadata": {},
     "output_type": "execute_result"
    }
   ],
   "source": [
    "acs.shape"
   ]
  },
  {
   "cell_type": "code",
   "execution_count": 47,
   "metadata": {},
   "outputs": [
    {
     "data": {
      "text/plain": [
       "(23112, 156)"
      ]
     },
     "execution_count": 47,
     "metadata": {},
     "output_type": "execute_result"
    }
   ],
   "source": [
    "acs2.shape"
   ]
  },
  {
   "cell_type": "code",
   "execution_count": 48,
   "metadata": {
    "scrolled": true
   },
   "outputs": [
    {
     "name": "stdout",
     "output_type": "stream",
     "text": [
      "(19565, 3) Index(['Time', 'zip_code', 'zori_ssa'], dtype='object') \n",
      "\n",
      "(19565, 3) Index(['Time', 'zip_code', 'delta_zori_ssa'], dtype='object') \n",
      "\n",
      "(19565, 3) Index(['Time', 'zip_code', 'delta_zori_ssa_6'], dtype='object') \n",
      "\n",
      "(19565, 3) Index(['Time', 'zip_code', 'delta_zori_ssa_12'], dtype='object') \n",
      "\n",
      "(22360, 7) Index(['Time', 'zip_code', 'sales_tax_rate', 'total_sales_tax',\n",
      "       'total_sales_tax_last_year', 'per_diff_total_sales_tax', 'city'],\n",
      "      dtype='object') \n",
      "\n",
      "(24940, 11) Index(['Time', 'zip_code', 'taxpayer_count', 'taxpayer_org_type_cl',\n",
      "       'taxpayer_org_type_is', 'taxpayer_org_type_foreign',\n",
      "       'payer_outlet_same_zipcode', 'taxpayer_same_zip_ratio',\n",
      "       'taxpayer_cl_ratio', 'taxpayer_is_ratio', 'taxpayer_foreign_ratio'],\n",
      "      dtype='object') \n",
      "\n",
      "(24940, 11) Index(['Time', 'zip_code', 'outlet_count', 'outlet_taxpayer_non_tx',\n",
      "       'outlet_org_type_cl', 'outlet_org_type_is', 'outlet_org_type_foreign',\n",
      "       'outlet_non_tx_ratio', 'outlet_cl_ratio', 'outlet_is_ratio',\n",
      "       'outlet_foreign_ratio'],\n",
      "      dtype='object') \n",
      "\n",
      "(24940, 5) Index(['Time', 'zip_code', 'county', 'fatalities', 'caseCount'], dtype='object') \n",
      "\n",
      "(24940, 3) Index(['Time', 'zip_code', 'env_violation_count'], dtype='object') \n",
      "\n",
      "(27305, 10) Index(['Time', 'tx_is_a_lot_better', 'tx_is_a_little_better', 'tx_is_abt_same',\n",
      "       'tx_is_a_little_worse', 'tx_is_a_lot_worse', 'tx_is_dont_know',\n",
      "       'tx_is_better', 'tx_is_worse', 'zip_code'],\n",
      "      dtype='object') \n",
      "\n",
      "(24940, 29) Index(['Time', 'zip_code', 'Consumer Confidence Index TX',\n",
      "       'Consumer Confidence West South Central',\n",
      "       'Consumer Confidence Index US', 'Consumer Price Index TX',\n",
      "       'Consumer Price Index U.S.', 'Nonfarm Employment TX',\n",
      "       'Nonfarm Employment U.S.', 'Unemployment TX', 'Unemployment U.S.',\n",
      "       'Single Family Building Permits TX', 'Multi Family Building Permits TX',\n",
      "       'Existing Single Family Home Sales TX',\n",
      "       'Existing Single Family Home Price TX',\n",
      "       'Non Residential Building Construction',\n",
      "       'Total Sales Tax Collections Retail TX',\n",
      "       'Total Sales Tax Collections TX', 'Retail Gasoline Price TX',\n",
      "       'Retail Diesel Price TX', 'Nonfarm Employment Illinois',\n",
      "       'Nonfarm Employment Florida', 'Nonfarm Employment New York',\n",
      "       'Nonfarm Employment Texas', 'Nonfarm Employment California',\n",
      "       'Gross Value Crude Oil Production',\n",
      "       'Gross Value Natural Gas Production', 'Motor Fuel Taxed Gasoline',\n",
      "       'Motor Fuel Taxed Diesel'],\n",
      "      dtype='object') \n",
      "\n",
      "(24940, 5) Index(['Time', 'zip_code', 'mintempC', 'maxtempC', 'precipMM'], dtype='object') \n",
      "\n",
      "(26015, 5) Index(['Time', 'ur', 'metro', 'delta_ur', 'zip_code'], dtype='object') \n",
      "\n",
      "(26015, 6) Index(['metro', 'zip_code', 'State', 'Time', 'sap_case_shiller_index',\n",
      "       'delta_sap_case_shiller_index'],\n",
      "      dtype='object') \n",
      "\n",
      "(20544, 44) Index(['zip_code', 'male_pop', 'female_pop', 'white_pop', 'not_us_citizen_pop',\n",
      "       'black_pop', 'asian_pop', 'hispanic_pop', 'amerindian_pop',\n",
      "       'other_race_pop', 'median_income', 'income_per_capita',\n",
      "       'pop_determined_poverty_status', 'poverty', 'gini_index',\n",
      "       'housing_units',\n",
      "       'renter_occupied_housing_units_paying_cash_median_gross_rent',\n",
      "       'occupied_housing_units', 'vacant_housing_units_for_rent',\n",
      "       'median_year_structure_built', 'married_households',\n",
      "       'households_public_asst_or_food_stamps', 'male_male_households',\n",
      "       'female_female_households', 'children', 'median_rent',\n",
      "       'percent_income_spent_on_rent', 'owner_occupied_housing_units',\n",
      "       'aggregate_travel_time_to_work', 'commuters_by_public_transportation',\n",
      "       'high_school_diploma', 'bachelors_degree', 'employed_pop',\n",
      "       'unemployed_pop', 'pop_in_labor_force', 'armed_forces', 'year', 'Time',\n",
      "       'diff_from_med_income_ratio_to_median_rent', 'occupied_ratio',\n",
      "       'batch_high_school_ratio', 'minority_ratio', 'married_household_ratio',\n",
      "       'food_stamp_ratio'],\n",
      "      dtype='object') \n",
      "\n",
      "(30100, 6) Index(['metro', 'zip_code', 'State', 'Time', 'TNX', 'delta_TNX'], dtype='object') \n",
      "\n",
      "(54825, 6) Index(['Time', 'monthly_avg_gas_price', 'delta_monthly_avg_gas_price', 'State',\n",
      "       'metro', 'zip_code'],\n",
      "      dtype='object') \n",
      "\n",
      "(18705, 4) Index(['Time', 'rent_search_interest', 'rent_search_4_period_rsi', 'zip_code'], dtype='object') \n",
      "\n",
      "(19565, 3) Index(['zip_code', 'Time', 'real_disposable_income_per_capita'], dtype='object') \n",
      "\n"
     ]
    }
   ],
   "source": [
    "print(zori.shape,zori.columns,'\\n')\n",
    "print(zori_diff.shape,zori_diff.columns,'\\n')\n",
    "print(zori_diff_6.shape,zori_diff_6.columns,'\\n')\n",
    "print(zori_diff_12.shape,zori_diff_12.columns,'\\n')\n",
    "print(sales_tax_alloc.shape,sales_tax_alloc.columns,'\\n')\n",
    "print(new_biz_taxpayer.shape,new_biz_taxpayer.columns,'\\n')\n",
    "print(new_biz_out.shape,new_biz_out.columns,'\\n')\n",
    "print(covid.shape,covid.columns,'\\n')\n",
    "print(env_vio.shape,env_vio.columns,'\\n')\n",
    "print(poll.shape,poll.columns,'\\n')\n",
    "print(key_econ.shape,key_econ.columns,'\\n')\n",
    "print(weather.shape,weather.columns,'\\n')\n",
    "print(unemployment_rates.shape,unemployment_rates.columns,'\\n')\n",
    "print(sap_case.shape,sap_case.columns,'\\n')\n",
    "print(acs.shape,acs.columns,'\\n')\n",
    "print(tnx.shape,tnx.columns,'\\n')\n",
    "print(monthly_gas.shape,monthly_gas.columns,'\\n')\n",
    "print(rent_search.shape,rent_search.columns,'\\n')\n",
    "print(real_dispos.shape,real_dispos.columns,'\\n')"
   ]
  },
  {
   "cell_type": "code",
   "execution_count": 49,
   "metadata": {},
   "outputs": [
    {
     "data": {
      "text/plain": [
       "[17, 14, 9, 12, 13, 5, 6, 7, 8, 10, 11, 16, 4, 15, 0, 1, 3, 2, 18]"
      ]
     },
     "execution_count": 49,
     "metadata": {},
     "output_type": "execute_result"
    }
   ],
   "source": [
    "##############################################################################################\n",
    "\n",
    "dfs = [zori,zori_diff,zori_diff_6,zori_diff_12,\n",
    "       sales_tax_alloc,new_biz_taxpayer,new_biz_out,\n",
    "       covid,env_vio,poll,key_econ,weather,\n",
    "       unemployment_rates,sap_case,tnx,acs,acs2,monthly_gas,\n",
    "       rent_search] \n",
    "\n",
    "df_names = ['zori','zori_diff','zori_diff_6','zori_diff_12',\n",
    "            'sales_tax_alloc','new_biz_taxpayer','new_biz_out',\n",
    "            'covid','env_vio','poll','key_econ','weather',\n",
    "            'unemployment_rates','sap_case','tnx','acs','acs2','monthly_gas',\n",
    "            'rent_search']\n",
    "\n",
    "# Finding order to left merge everything\n",
    "\n",
    "row_counts = [df.shape[0] for df in dfs]\n",
    "row_counts = pd.DataFrame(list(enumerate(row_counts))).sort_values(by = 1, ascending = False)\n",
    "merge_index_order = list(row_counts[0])\n",
    "merge_index_order"
   ]
  },
  {
   "cell_type": "markdown",
   "metadata": {},
   "source": [
    "### Making sure Time is the same dtype for all dataframes"
   ]
  },
  {
   "cell_type": "code",
   "execution_count": 50,
   "metadata": {
    "scrolled": true
   },
   "outputs": [
    {
     "name": "stdout",
     "output_type": "stream",
     "text": [
      "\n",
      " ########## zori ################\n",
      " \n",
      " Time        datetime64[ns]\n",
      "zip_code             int64\n",
      "zori_ssa           float64\n",
      "dtype: object\n",
      "\n",
      " ########## zori_diff ################\n",
      " \n",
      " Time              datetime64[ns]\n",
      "zip_code                   int64\n",
      "delta_zori_ssa           float64\n",
      "dtype: object\n",
      "\n",
      " ########## zori_diff_6 ################\n",
      " \n",
      " Time                datetime64[ns]\n",
      "zip_code                     int64\n",
      "delta_zori_ssa_6           float64\n",
      "dtype: object\n",
      "\n",
      " ########## zori_diff_12 ################\n",
      " \n",
      " Time                 datetime64[ns]\n",
      "zip_code                      int64\n",
      "delta_zori_ssa_12           float64\n",
      "dtype: object\n",
      "\n",
      " ########## sales_tax_alloc ################\n",
      " \n",
      " Time                         datetime64[ns]\n",
      "zip_code                              int64\n",
      "sales_tax_rate                      float64\n",
      "total_sales_tax                     float64\n",
      "total_sales_tax_last_year           float64\n",
      "per_diff_total_sales_tax            float64\n",
      "city                                 object\n",
      "dtype: object\n",
      "\n",
      " ########## new_biz_taxpayer ################\n",
      " \n",
      " Time                         datetime64[ns]\n",
      "zip_code                              int64\n",
      "taxpayer_count                      float64\n",
      "taxpayer_org_type_cl                float64\n",
      "taxpayer_org_type_is                float64\n",
      "taxpayer_org_type_foreign           float64\n",
      "payer_outlet_same_zipcode           float64\n",
      "taxpayer_same_zip_ratio             float64\n",
      "taxpayer_cl_ratio                   float64\n",
      "taxpayer_is_ratio                   float64\n",
      "taxpayer_foreign_ratio              float64\n",
      "dtype: object\n",
      "\n",
      " ########## new_biz_out ################\n",
      " \n",
      " Time                       datetime64[ns]\n",
      "zip_code                            int64\n",
      "outlet_count                      float64\n",
      "outlet_taxpayer_non_tx            float64\n",
      "outlet_org_type_cl                float64\n",
      "outlet_org_type_is                float64\n",
      "outlet_org_type_foreign           float64\n",
      "outlet_non_tx_ratio               float64\n",
      "outlet_cl_ratio                   float64\n",
      "outlet_is_ratio                   float64\n",
      "outlet_foreign_ratio              float64\n",
      "dtype: object\n",
      "\n",
      " ########## covid ################\n",
      " \n",
      " Time          datetime64[ns]\n",
      "zip_code             float64\n",
      "county                object\n",
      "fatalities           float64\n",
      "caseCount            float64\n",
      "dtype: object\n",
      "\n",
      " ########## env_vio ################\n",
      " \n",
      " Time                   datetime64[ns]\n",
      "zip_code                        int64\n",
      "env_violation_count           float64\n",
      "dtype: object\n",
      "\n",
      " ########## poll ################\n",
      " \n",
      " Time                     datetime64[ns]\n",
      "tx_is_a_lot_better              float64\n",
      "tx_is_a_little_better           float64\n",
      "tx_is_abt_same                  float64\n",
      "tx_is_a_little_worse            float64\n",
      "tx_is_a_lot_worse               float64\n",
      "tx_is_dont_know                 float64\n",
      "tx_is_better                    float64\n",
      "tx_is_worse                     float64\n",
      "zip_code                          int64\n",
      "dtype: object\n",
      "\n",
      " ########## key_econ ################\n",
      " \n",
      " Time                                      datetime64[ns]\n",
      "zip_code                                           int64\n",
      "Consumer Confidence Index TX                     float64\n",
      "Consumer Confidence West South Central           float64\n",
      "Consumer Confidence Index US                     float64\n",
      "Consumer Price Index TX                          float64\n",
      "Consumer Price Index U.S.                        float64\n",
      "Nonfarm Employment TX                            float64\n",
      "Nonfarm Employment U.S.                          float64\n",
      "Unemployment TX                                  float64\n",
      "Unemployment U.S.                                float64\n",
      "Single Family Building Permits TX                float64\n",
      "Multi Family Building Permits TX                 float64\n",
      "Existing Single Family Home Sales TX             float64\n",
      "Existing Single Family Home Price TX             float64\n",
      "Non Residential Building Construction            float64\n",
      "Total Sales Tax Collections Retail TX            float64\n",
      "Total Sales Tax Collections TX                   float64\n",
      "Retail Gasoline Price TX                         float64\n",
      "Retail Diesel Price TX                           float64\n",
      "Nonfarm Employment Illinois                      float64\n",
      "Nonfarm Employment Florida                       float64\n",
      "Nonfarm Employment New York                      float64\n",
      "Nonfarm Employment Texas                         float64\n",
      "Nonfarm Employment California                    float64\n",
      "Gross Value Crude Oil Production                 float64\n",
      "Gross Value Natural Gas Production               float64\n",
      "Motor Fuel Taxed Gasoline                        float64\n",
      "Motor Fuel Taxed Diesel                          float64\n",
      "dtype: object\n",
      "\n",
      " ########## weather ################\n",
      " \n",
      " Time        datetime64[ns]\n",
      "zip_code             int64\n",
      "mintempC           float64\n",
      "maxtempC           float64\n",
      "precipMM           float64\n",
      "dtype: object\n",
      "\n",
      " ########## unemployment_rates ################\n",
      " \n",
      " Time        datetime64[ns]\n",
      "ur                 float64\n",
      "metro               object\n",
      "delta_ur           float64\n",
      "zip_code             int64\n",
      "dtype: object\n",
      "\n",
      " ########## sap_case ################\n",
      " \n",
      " metro                                   object\n",
      "zip_code                                 int64\n",
      "State                                   object\n",
      "Time                            datetime64[ns]\n",
      "sap_case_shiller_index                 float64\n",
      "delta_sap_case_shiller_index           float64\n",
      "dtype: object\n",
      "\n",
      " ########## tnx ################\n",
      " \n",
      " metro                object\n",
      "zip_code              int64\n",
      "State                object\n",
      "Time         datetime64[ns]\n",
      "TNX                 float64\n",
      "delta_TNX           float64\n",
      "dtype: object\n",
      "\n",
      " ########## acs ################\n",
      " \n",
      " zip_code                                                              float64\n",
      "male_pop                                                              float64\n",
      "female_pop                                                            float64\n",
      "white_pop                                                             float64\n",
      "not_us_citizen_pop                                                    float64\n",
      "black_pop                                                             float64\n",
      "asian_pop                                                             float64\n",
      "hispanic_pop                                                          float64\n",
      "amerindian_pop                                                        float64\n",
      "other_race_pop                                                        float64\n",
      "median_income                                                         float64\n",
      "income_per_capita                                                     float64\n",
      "pop_determined_poverty_status                                         float64\n",
      "poverty                                                               float64\n",
      "gini_index                                                            float64\n",
      "housing_units                                                         float64\n",
      "renter_occupied_housing_units_paying_cash_median_gross_rent           float64\n",
      "occupied_housing_units                                                float64\n",
      "vacant_housing_units_for_rent                                         float64\n",
      "median_year_structure_built                                           float64\n",
      "married_households                                                    float64\n",
      "households_public_asst_or_food_stamps                                 float64\n",
      "male_male_households                                                  float64\n",
      "female_female_households                                              float64\n",
      "children                                                              float64\n",
      "median_rent                                                           float64\n",
      "percent_income_spent_on_rent                                          float64\n",
      "owner_occupied_housing_units                                          float64\n",
      "aggregate_travel_time_to_work                                         float64\n",
      "commuters_by_public_transportation                                    float64\n",
      "high_school_diploma                                                   float64\n",
      "bachelors_degree                                                      float64\n",
      "employed_pop                                                          float64\n",
      "unemployed_pop                                                        float64\n",
      "pop_in_labor_force                                                    float64\n",
      "armed_forces                                                          float64\n",
      "year                                                                    int64\n",
      "Time                                                           datetime64[ns]\n",
      "diff_from_med_income_ratio_to_median_rent                             float64\n",
      "occupied_ratio                                                        float64\n",
      "batch_high_school_ratio                                               float64\n",
      "minority_ratio                                                        float64\n",
      "married_household_ratio                                               float64\n",
      "food_stamp_ratio                                                      float64\n",
      "dtype: object\n",
      "\n",
      " ########## acs2 ################\n",
      " \n",
      " Time                                           datetime64[ns]\n",
      "zip_code                                                int64\n",
      "commuting_population                                    int64\n",
      "divorced_men                                            int64\n",
      "driving_alone_population                                int64\n",
      "housing_units_built_1940_to_1949                        int64\n",
      "quintile_2_income_share                               float64\n",
      "housing_units_10_to_19_units_rented                     int64\n",
      "quintile_3_income_share                               float64\n",
      "married_women_spouse_absent                             int64\n",
      "female_80_to_84                                         int64\n",
      "female_45_to_49                                         int64\n",
      "female_75_to_79                                         int64\n",
      "married_men                                             int64\n",
      "motorcycle_population                                   int64\n",
      "female_60_to_61                                         int64\n",
      "male_20                                                 int64\n",
      "housing_units_10_to_19_units_owned                      int64\n",
      "male_21                                                 int64\n",
      "men_with_professional_degree                            int64\n",
      "housing_units_over_50_units_rented                      int64\n",
      "quintile_5_income_share                               float64\n",
      "housing_units_single_family_detached_rented             int64\n",
      "housing_units_built_1950_to_1959                        int64\n",
      "women_with_professional_degree                          int64\n",
      "total_contract_rent                                     int64\n",
      "bicycle_population                                      int64\n",
      "male_30_to_34                                           int64\n",
      "housing_units_other_type                                int64\n",
      "male_18_to_19                                           int64\n",
      "average_household_size_renters                        float64\n",
      "other_commute_method_population                         int64\n",
      "male_50_to_54                                           int64\n",
      "married_men_spouse_absent                               int64\n",
      "marital_status_population                               int64\n",
      "housing_units_3_to_4_units_owned                        int64\n",
      "quintile_4_upper_limit                                  int64\n",
      "quintile_3_upper_limit                                  int64\n",
      "men_with_associate_degree                               int64\n",
      "women_with_one_year_or_more_college                     int64\n",
      "housing_units_10_to_19_units                            int64\n",
      "housing_units_built_1970_to_1979                        int64\n",
      "quintile_4_income_share                               float64\n",
      "total_units                                             int64\n",
      "median_household_income                                 int64\n",
      "women_with_doctoral_degree                              int64\n",
      "female_21                                               int64\n",
      "housing_units_single_family_detached                    int64\n",
      "housing_units_20_to_49_units_rented                     int64\n",
      "renter_occupied_units                                   int64\n",
      "housing_units_single_family_detached_owned              int64\n",
      "women_with_less_one_year_college                        int64\n",
      "taxi_population                                         int64\n",
      "female_62_to_64                                         int64\n",
      "working_from_home_population                            int64\n",
      "total_households                                        int64\n",
      "median_contract_rent                                    int64\n",
      "female_22_to_24                                         int64\n",
      "male_62_to_64                                           int64\n",
      "occupied_units                                          int64\n",
      "married_men_spouse_present                              int64\n",
      "male_67_to_69                                           int64\n",
      "quintile_1_mean_income                                  int64\n",
      "median_rooms                                          float64\n",
      "female_50_to_54                                         int64\n",
      "median_gross_rent                                       int64\n",
      "male_22_to_24                                           int64\n",
      "median_age                                            float64\n",
      "female_55_to_59                                         int64\n",
      "housing_units_mobile_home_rented                        int64\n",
      "housing_units_built_1980_to_1989                        int64\n",
      "housing_units_5_to_9_units_owned                        int64\n",
      "women_with_hs_diploma                                   int64\n",
      "housing_units_other_type_owned                          int64\n",
      "total_population_in_owner_occupied_units                int64\n",
      "housing_units_20_to_49_units_owned                      int64\n",
      "housing_units_built_1930_to_1939                        int64\n",
      "married_women                                           int64\n",
      "men_with_masters_degree                                 int64\n",
      "total_population_in_occupied_units                      int64\n",
      "top_5_percent_mean_income                               int64\n",
      "top_5_percent_lower_limit                               int64\n",
      "female_35_to_39                                         int64\n",
      "male_70_to_74                                           int64\n",
      "female_18_to_19                                         int64\n",
      "men_with_less_one_year_college                          int64\n",
      "housing_units_other_type_rented                         int64\n",
      "housing_units_3_to_4_units                              int64\n",
      "units_paying_cash_rent                                  int64\n",
      "female_85_over                                          int64\n",
      "housing_units_single_family_attached                    int64\n",
      "male_60_to_61                                           int64\n",
      "housing_units_duplex                                    int64\n",
      "housing_units_20_to_49_units                            int64\n",
      "men_with_doctoral_degree                                int64\n",
      "top_5_percent_income_share                            float64\n",
      "housing_units_duplex_rented                             int64\n",
      "male_population                                         int64\n",
      "female_25_to_29                                         int64\n",
      "walking_to_work_population                              int64\n",
      "owner_occupied_units                                    int64\n",
      "single_men                                              int64\n",
      "housing_units_5_to_9_units_rented                       int64\n",
      "male_80_to_84                                           int64\n",
      "carpool_population                                      int64\n",
      "transit_population                                      int64\n",
      "female_population                                       int64\n",
      "male_55_to_59                                           int64\n",
      "female_20                                               int64\n",
      "women_with_masters_degree                               int64\n",
      "quintile_1_income_share                               float64\n",
      "total_household_income                                  int64\n",
      "housing_units_mobile_home                               int64\n",
      "men_with_bachelors_degree                               int64\n",
      "housing_units_single_family_attached_rented             int64\n",
      "quintile_1_upper_limit                                  int64\n",
      "female_70_to_74                                         int64\n",
      "quintile_2_upper_limit                                  int64\n",
      "total_population_in_renter_occupied_units               int64\n",
      "average_household_size                                float64\n",
      "women_with_associate_degree                             int64\n",
      "education_population                                    int64\n",
      "total_gross_rent                                        int64\n",
      "female_40_to_44                                         int64\n",
      "male_85_over                                            int64\n",
      "average_household_size_owners                         float64\n",
      "divorced_women                                          int64\n",
      "female_30_to_34                                         int64\n",
      "housing_units_over_50_units_owned                       int64\n",
      "female_67_to_69                                         int64\n",
      "male_25_to_29                                           int64\n",
      "housing_units_5_to_9_units                              int64\n",
      "widowed_men                                             int64\n",
      "housing_units_3_to_4_units_rented                       int64\n",
      "total_population                                        int64\n",
      "quintile_3_mean_income                                  int64\n",
      "men_with_one_year_or_more_college                       int64\n",
      "widowed_women                                           int64\n",
      "male_40_to_44                                           int64\n",
      "male_35_to_39                                           int64\n",
      "housing_units_mobile_home_owned                         int64\n",
      "quintile_4_mean_income                                  int64\n",
      "single_women                                            int64\n",
      "housing_units_built_1990_to_1999                        int64\n",
      "housing_units_single_family_attached_owned              int64\n",
      "gini_coeficient                                       float64\n",
      "housing_units_over_50_units                             int64\n",
      "women_with_bachelors_degree                             int64\n",
      "male_45_to_49                                           int64\n",
      "housing_units_built_1960_to_1969                        int64\n",
      "housing_units_duplex_owned                              int64\n",
      "married_women_spouse_present                            int64\n",
      "men_with_hs_diploma                                     int64\n",
      "quintile_5_mean_income                                  int64\n",
      "quintile_2_mean_income                                  int64\n",
      "male_75_to_79                                           int64\n",
      "dtype: object\n",
      "\n",
      " ########## monthly_gas ################\n",
      " \n",
      " Time                           datetime64[ns]\n",
      "monthly_avg_gas_price                 float64\n",
      "delta_monthly_avg_gas_price           float64\n",
      "State                                  object\n",
      "metro                                  object\n",
      "zip_code                                int64\n",
      "dtype: object\n",
      "\n",
      " ########## rent_search ################\n",
      " \n",
      " Time                        datetime64[ns]\n",
      "rent_search_interest                 int64\n",
      "rent_search_4_period_rsi           float64\n",
      "zip_code                             int64\n",
      "dtype: object\n"
     ]
    }
   ],
   "source": [
    "for df in dfs:\n",
    "    \n",
    "    df.loc[:,'Time'] = df['Time'].apply(lambda x: pd.to_datetime(x, format = '%Y-%m'))\n",
    "\n",
    "for name,df in list(zip(df_names,dfs)):\n",
    "    print('\\n',f'########## {name} ################\\n','\\n',df.dtypes)"
   ]
  },
  {
   "cell_type": "code",
   "execution_count": 51,
   "metadata": {},
   "outputs": [
    {
     "data": {
      "text/html": [
       "<div>\n",
       "<style scoped>\n",
       "    .dataframe tbody tr th:only-of-type {\n",
       "        vertical-align: middle;\n",
       "    }\n",
       "\n",
       "    .dataframe tbody tr th {\n",
       "        vertical-align: top;\n",
       "    }\n",
       "\n",
       "    .dataframe thead th {\n",
       "        text-align: right;\n",
       "    }\n",
       "</style>\n",
       "<table border=\"1\" class=\"dataframe\">\n",
       "  <thead>\n",
       "    <tr style=\"text-align: right;\">\n",
       "      <th>feature</th>\n",
       "      <th>start_date</th>\n",
       "      <th>end_date</th>\n",
       "      <th>lag_steps</th>\n",
       "    </tr>\n",
       "  </thead>\n",
       "  <tbody>\n",
       "    <tr>\n",
       "      <th>zori</th>\n",
       "      <td>2014-01-01</td>\n",
       "      <td>2021-07-01</td>\n",
       "      <td>0</td>\n",
       "    </tr>\n",
       "    <tr>\n",
       "      <th>zori_diff</th>\n",
       "      <td>2014-01-01</td>\n",
       "      <td>2021-07-01</td>\n",
       "      <td>0</td>\n",
       "    </tr>\n",
       "    <tr>\n",
       "      <th>zori_diff_6</th>\n",
       "      <td>2014-01-01</td>\n",
       "      <td>2021-07-01</td>\n",
       "      <td>0</td>\n",
       "    </tr>\n",
       "    <tr>\n",
       "      <th>zori_diff_12</th>\n",
       "      <td>2014-01-01</td>\n",
       "      <td>2021-07-01</td>\n",
       "      <td>0</td>\n",
       "    </tr>\n",
       "    <tr>\n",
       "      <th>sales_tax_alloc</th>\n",
       "      <td>2013-01-01</td>\n",
       "      <td>2021-08-01</td>\n",
       "      <td>0</td>\n",
       "    </tr>\n",
       "    <tr>\n",
       "      <th>new_biz_taxpayer</th>\n",
       "      <td>2012-01-01</td>\n",
       "      <td>2021-08-01</td>\n",
       "      <td>0</td>\n",
       "    </tr>\n",
       "    <tr>\n",
       "      <th>new_biz_out</th>\n",
       "      <td>2012-01-01</td>\n",
       "      <td>2021-08-01</td>\n",
       "      <td>0</td>\n",
       "    </tr>\n",
       "    <tr>\n",
       "      <th>covid</th>\n",
       "      <td>2012-01-01</td>\n",
       "      <td>2021-08-01</td>\n",
       "      <td>0</td>\n",
       "    </tr>\n",
       "    <tr>\n",
       "      <th>env_vio</th>\n",
       "      <td>2012-01-01</td>\n",
       "      <td>2021-08-01</td>\n",
       "      <td>0</td>\n",
       "    </tr>\n",
       "    <tr>\n",
       "      <th>poll</th>\n",
       "      <td>2011-02-01</td>\n",
       "      <td>2021-07-01</td>\n",
       "      <td>0</td>\n",
       "    </tr>\n",
       "    <tr>\n",
       "      <th>key_econ</th>\n",
       "      <td>2012-01-01</td>\n",
       "      <td>2021-08-01</td>\n",
       "      <td>0</td>\n",
       "    </tr>\n",
       "    <tr>\n",
       "      <th>weather</th>\n",
       "      <td>2012-01-01</td>\n",
       "      <td>2021-08-01</td>\n",
       "      <td>0</td>\n",
       "    </tr>\n",
       "    <tr>\n",
       "      <th>unemployment_rates</th>\n",
       "      <td>2011-07-01</td>\n",
       "      <td>2021-07-01</td>\n",
       "      <td>0</td>\n",
       "    </tr>\n",
       "    <tr>\n",
       "      <th>sap_case</th>\n",
       "      <td>2011-06-01</td>\n",
       "      <td>2021-06-01</td>\n",
       "      <td>1</td>\n",
       "    </tr>\n",
       "    <tr>\n",
       "      <th>tnx</th>\n",
       "      <td>2010-01-01</td>\n",
       "      <td>2021-08-01</td>\n",
       "      <td>0</td>\n",
       "    </tr>\n",
       "    <tr>\n",
       "      <th>acs</th>\n",
       "      <td>2011-01-01</td>\n",
       "      <td>2018-12-01</td>\n",
       "      <td>31</td>\n",
       "    </tr>\n",
       "    <tr>\n",
       "      <th>acs2</th>\n",
       "      <td>2011-01-01</td>\n",
       "      <td>2019-12-01</td>\n",
       "      <td>19</td>\n",
       "    </tr>\n",
       "    <tr>\n",
       "      <th>monthly_gas</th>\n",
       "      <td>2000-06-01</td>\n",
       "      <td>2021-08-01</td>\n",
       "      <td>0</td>\n",
       "    </tr>\n",
       "    <tr>\n",
       "      <th>rent_search</th>\n",
       "      <td>2014-07-01</td>\n",
       "      <td>2021-09-01</td>\n",
       "      <td>0</td>\n",
       "    </tr>\n",
       "  </tbody>\n",
       "</table>\n",
       "</div>"
      ],
      "text/plain": [
       "feature            start_date   end_date  lag_steps\n",
       "zori               2014-01-01 2021-07-01          0\n",
       "zori_diff          2014-01-01 2021-07-01          0\n",
       "zori_diff_6        2014-01-01 2021-07-01          0\n",
       "zori_diff_12       2014-01-01 2021-07-01          0\n",
       "sales_tax_alloc    2013-01-01 2021-08-01          0\n",
       "new_biz_taxpayer   2012-01-01 2021-08-01          0\n",
       "new_biz_out        2012-01-01 2021-08-01          0\n",
       "covid              2012-01-01 2021-08-01          0\n",
       "env_vio            2012-01-01 2021-08-01          0\n",
       "poll               2011-02-01 2021-07-01          0\n",
       "key_econ           2012-01-01 2021-08-01          0\n",
       "weather            2012-01-01 2021-08-01          0\n",
       "unemployment_rates 2011-07-01 2021-07-01          0\n",
       "sap_case           2011-06-01 2021-06-01          1\n",
       "tnx                2010-01-01 2021-08-01          0\n",
       "acs                2011-01-01 2018-12-01         31\n",
       "acs2               2011-01-01 2019-12-01         19\n",
       "monthly_gas        2000-06-01 2021-08-01          0\n",
       "rent_search        2014-07-01 2021-09-01          0"
      ]
     },
     "execution_count": 51,
     "metadata": {},
     "output_type": "execute_result"
    }
   ],
   "source": [
    "time_window = pd.DataFrame({name:(df['Time'].min(),df['Time'].max()) for name,df in list(zip(df_names,dfs))})\n",
    "time_window.loc[:,'feature'] = ['start_date','end_date']\n",
    "time_window = time_window.set_index('feature').T\n",
    "time_window.loc[:,'lag_steps'] = [0]*time_window.shape[0]\n",
    "time_window.loc['sap_case','lag_steps'] = 1\n",
    "time_window.loc['acs','lag_steps'] = 31\n",
    "time_window.loc['acs2','lag_steps'] = 19\n",
    "time_window"
   ]
  },
  {
   "cell_type": "code",
   "execution_count": 52,
   "metadata": {},
   "outputs": [],
   "source": [
    "def df_lagger(df,level,steps):\n",
    "    \n",
    "    \"\"\"\n",
    "    Function to lag all columns in a multivariate time series dataframe,\n",
    "    'Time' column is assumed to be in datetime[64] format.\n",
    "    \n",
    "    df: dataframe to be lagged\n",
    "    level: string, 'days','months',or 'years'\n",
    "    steps: number of lags to shift w.r.t. chosen level\n",
    "    \n",
    "    \"\"\"\n",
    "    if (level == 'days'):\n",
    "        \n",
    "        df.loc[:,'Time'] = df.Time + pd.DateOffset(days = steps)\n",
    "    \n",
    "    \n",
    "    elif (level == 'months'):\n",
    "        \n",
    "        df.loc[:,'Time'] = df.Time + pd.DateOffset(months = steps)\n",
    "        \n",
    "        \n",
    "    elif (level == 'years'):\n",
    "        \n",
    "        df.loc[:,'Time'] = df.Time + pd.DateOffset(years = steps)\n",
    "        \n",
    "    else:\n",
    "        \n",
    "        print('level not days,months,or years')\n",
    "    \n",
    "    return df"
   ]
  },
  {
   "cell_type": "markdown",
   "metadata": {},
   "source": [
    "# Lagging acs and case_shiller"
   ]
  },
  {
   "cell_type": "code",
   "execution_count": 53,
   "metadata": {},
   "outputs": [],
   "source": [
    "acs = df_lagger(acs,'months',31)\n",
    "sap_case = df_lagger(sap_case,'months',1)\n",
    "\n",
    "acs2 = df_lagger(acs2,'months',19)"
   ]
  },
  {
   "cell_type": "code",
   "execution_count": 54,
   "metadata": {},
   "outputs": [
    {
     "data": {
      "text/html": [
       "<div>\n",
       "<style scoped>\n",
       "    .dataframe tbody tr th:only-of-type {\n",
       "        vertical-align: middle;\n",
       "    }\n",
       "\n",
       "    .dataframe tbody tr th {\n",
       "        vertical-align: top;\n",
       "    }\n",
       "\n",
       "    .dataframe thead th {\n",
       "        text-align: right;\n",
       "    }\n",
       "</style>\n",
       "<table border=\"1\" class=\"dataframe\">\n",
       "  <thead>\n",
       "    <tr style=\"text-align: right;\">\n",
       "      <th>feature</th>\n",
       "      <th>start_date</th>\n",
       "      <th>end_date</th>\n",
       "    </tr>\n",
       "  </thead>\n",
       "  <tbody>\n",
       "    <tr>\n",
       "      <th>zori</th>\n",
       "      <td>2014-01-01</td>\n",
       "      <td>2021-07-01</td>\n",
       "    </tr>\n",
       "    <tr>\n",
       "      <th>zori_diff</th>\n",
       "      <td>2014-01-01</td>\n",
       "      <td>2021-07-01</td>\n",
       "    </tr>\n",
       "    <tr>\n",
       "      <th>zori_diff_6</th>\n",
       "      <td>2014-01-01</td>\n",
       "      <td>2021-07-01</td>\n",
       "    </tr>\n",
       "    <tr>\n",
       "      <th>zori_diff_12</th>\n",
       "      <td>2014-01-01</td>\n",
       "      <td>2021-07-01</td>\n",
       "    </tr>\n",
       "    <tr>\n",
       "      <th>sales_tax_alloc</th>\n",
       "      <td>2013-01-01</td>\n",
       "      <td>2021-08-01</td>\n",
       "    </tr>\n",
       "    <tr>\n",
       "      <th>new_biz_taxpayer</th>\n",
       "      <td>2012-01-01</td>\n",
       "      <td>2021-08-01</td>\n",
       "    </tr>\n",
       "    <tr>\n",
       "      <th>new_biz_out</th>\n",
       "      <td>2012-01-01</td>\n",
       "      <td>2021-08-01</td>\n",
       "    </tr>\n",
       "    <tr>\n",
       "      <th>covid</th>\n",
       "      <td>2012-01-01</td>\n",
       "      <td>2021-08-01</td>\n",
       "    </tr>\n",
       "    <tr>\n",
       "      <th>env_vio</th>\n",
       "      <td>2012-01-01</td>\n",
       "      <td>2021-08-01</td>\n",
       "    </tr>\n",
       "    <tr>\n",
       "      <th>poll</th>\n",
       "      <td>2011-02-01</td>\n",
       "      <td>2021-07-01</td>\n",
       "    </tr>\n",
       "    <tr>\n",
       "      <th>key_econ</th>\n",
       "      <td>2012-01-01</td>\n",
       "      <td>2021-08-01</td>\n",
       "    </tr>\n",
       "    <tr>\n",
       "      <th>weather</th>\n",
       "      <td>2012-01-01</td>\n",
       "      <td>2021-08-01</td>\n",
       "    </tr>\n",
       "    <tr>\n",
       "      <th>unemployment_rates</th>\n",
       "      <td>2011-07-01</td>\n",
       "      <td>2021-07-01</td>\n",
       "    </tr>\n",
       "    <tr>\n",
       "      <th>sap_case</th>\n",
       "      <td>2011-07-01</td>\n",
       "      <td>2021-07-01</td>\n",
       "    </tr>\n",
       "    <tr>\n",
       "      <th>tnx</th>\n",
       "      <td>2010-01-01</td>\n",
       "      <td>2021-08-01</td>\n",
       "    </tr>\n",
       "    <tr>\n",
       "      <th>acs</th>\n",
       "      <td>2013-08-01</td>\n",
       "      <td>2021-07-01</td>\n",
       "    </tr>\n",
       "    <tr>\n",
       "      <th>acs2</th>\n",
       "      <td>2012-08-01</td>\n",
       "      <td>2021-07-01</td>\n",
       "    </tr>\n",
       "    <tr>\n",
       "      <th>monthly_gas</th>\n",
       "      <td>2000-06-01</td>\n",
       "      <td>2021-08-01</td>\n",
       "    </tr>\n",
       "    <tr>\n",
       "      <th>rent_search</th>\n",
       "      <td>2014-07-01</td>\n",
       "      <td>2021-09-01</td>\n",
       "    </tr>\n",
       "  </tbody>\n",
       "</table>\n",
       "</div>"
      ],
      "text/plain": [
       "feature            start_date   end_date\n",
       "zori               2014-01-01 2021-07-01\n",
       "zori_diff          2014-01-01 2021-07-01\n",
       "zori_diff_6        2014-01-01 2021-07-01\n",
       "zori_diff_12       2014-01-01 2021-07-01\n",
       "sales_tax_alloc    2013-01-01 2021-08-01\n",
       "new_biz_taxpayer   2012-01-01 2021-08-01\n",
       "new_biz_out        2012-01-01 2021-08-01\n",
       "covid              2012-01-01 2021-08-01\n",
       "env_vio            2012-01-01 2021-08-01\n",
       "poll               2011-02-01 2021-07-01\n",
       "key_econ           2012-01-01 2021-08-01\n",
       "weather            2012-01-01 2021-08-01\n",
       "unemployment_rates 2011-07-01 2021-07-01\n",
       "sap_case           2011-07-01 2021-07-01\n",
       "tnx                2010-01-01 2021-08-01\n",
       "acs                2013-08-01 2021-07-01\n",
       "acs2               2012-08-01 2021-07-01\n",
       "monthly_gas        2000-06-01 2021-08-01\n",
       "rent_search        2014-07-01 2021-09-01"
      ]
     },
     "execution_count": 54,
     "metadata": {},
     "output_type": "execute_result"
    }
   ],
   "source": [
    "time_window_post_lag = pd.DataFrame({name:(df['Time'].min(),df['Time'].max()) for name,df in list(zip(df_names,dfs))})\n",
    "time_window_post_lag.loc[:,'feature'] = ['start_date','end_date']\n",
    "time_window_post_lag = time_window_post_lag.set_index('feature').T\n",
    "time_window_post_lag"
   ]
  },
  {
   "cell_type": "markdown",
   "metadata": {},
   "source": [
    "# merging all feature df's"
   ]
  },
  {
   "cell_type": "code",
   "execution_count": 55,
   "metadata": {},
   "outputs": [],
   "source": [
    "def left_merger(df_1,df_2):\n",
    "    \n",
    "    \"\"\"\n",
    "    left merges onto the larger of two dataframes by their shared columns\n",
    "    \n",
    "    df_1: dataframe 1\n",
    "    \n",
    "    df_2: dataframe 2\n",
    "    \n",
    "    \"\"\"\n",
    "    if (len(list(set(list(df_1.columns)).intersection(list(df_2.columns)))) == 0):\n",
    "        \n",
    "        raise ValueError('dataframes have no shared columns to merge on!!')\n",
    "    \n",
    "    \n",
    "    if (df_1.shape[0]>= df_2.shape[0]):\n",
    "        \n",
    "        a = list(df_1.columns)\n",
    "        b = list(df_2.columns)\n",
    "        shared_columns = list(set(a).intersection(b))\n",
    "        merged = pd.merge(df_1,df_2,how = 'left', on = shared_columns)\n",
    "        \n",
    "    else:\n",
    "        \n",
    "        a = list(df_1.columns)\n",
    "        b = list(df_2.columns)\n",
    "        shared_columns = list(set(a).intersection(b))\n",
    "        merged = pd.merge(df_2,df_1,how = 'left', on = shared_columns)\n",
    "        \n",
    "    return merged"
   ]
  },
  {
   "cell_type": "code",
   "execution_count": 56,
   "metadata": {},
   "outputs": [],
   "source": [
    "def shared_columns(df_1,df_2):\n",
    "    \n",
    "    return list(set(list(df_1.columns)).intersection(list(df_2.columns)))"
   ]
  },
  {
   "cell_type": "code",
   "execution_count": 57,
   "metadata": {
    "scrolled": true
   },
   "outputs": [
    {
     "name": "stdout",
     "output_type": "stream",
     "text": [
      "['State', 'zip_code', 'metro', 'Time']\n",
      "['zip_code', 'Time']\n",
      "['zip_code', 'metro', 'Time']\n",
      "['State', 'zip_code', 'metro', 'Time']\n",
      "['zip_code', 'Time']\n",
      "['zip_code', 'Time']\n",
      "['zip_code', 'Time']\n",
      "['zip_code', 'Time']\n",
      "['zip_code', 'Time']\n",
      "['zip_code', 'Time']\n",
      "['zip_code', 'Time']\n",
      "['zip_code', 'Time']\n",
      "['zip_code', 'Time']\n",
      "['zip_code', 'Time']\n",
      "['zip_code', 'Time']\n",
      "['zip_code', 'Time']\n",
      "['zip_code', 'Time']\n",
      "['zip_code', 'Time']\n"
     ]
    }
   ],
   "source": [
    "print(shared_columns(dfs[merge_index_order[0]],dfs[merge_index_order[1]]))\n",
    "merged = left_merger(dfs[merge_index_order[0]],dfs[merge_index_order[1]])\n",
    "\n",
    "for i in range(2,len(merge_index_order)):\n",
    "    \n",
    "    print(shared_columns(merged,dfs[merge_index_order[i]]))\n",
    "    \n",
    "    merged = left_merger(merged,dfs[merge_index_order[i]])"
   ]
  },
  {
   "cell_type": "code",
   "execution_count": 58,
   "metadata": {},
   "outputs": [
    {
     "data": {
      "text/plain": [
       "{'Consumer Confidence Index TX',\n",
       " 'Consumer Confidence Index US',\n",
       " 'Consumer Confidence West South Central',\n",
       " 'Consumer Price Index TX',\n",
       " 'Consumer Price Index U.S.',\n",
       " 'Existing Single Family Home Price TX',\n",
       " 'Existing Single Family Home Sales TX',\n",
       " 'Gross Value Crude Oil Production',\n",
       " 'Gross Value Natural Gas Production',\n",
       " 'Motor Fuel Taxed Diesel',\n",
       " 'Motor Fuel Taxed Gasoline',\n",
       " 'Multi Family Building Permits TX',\n",
       " 'Non Residential Building Construction',\n",
       " 'Nonfarm Employment California',\n",
       " 'Nonfarm Employment Florida',\n",
       " 'Nonfarm Employment Illinois',\n",
       " 'Nonfarm Employment New York',\n",
       " 'Nonfarm Employment TX',\n",
       " 'Nonfarm Employment Texas',\n",
       " 'Nonfarm Employment U.S.',\n",
       " 'Retail Diesel Price TX',\n",
       " 'Retail Gasoline Price TX',\n",
       " 'Single Family Building Permits TX',\n",
       " 'State',\n",
       " 'TNX',\n",
       " 'Time',\n",
       " 'Total Sales Tax Collections Retail TX',\n",
       " 'Total Sales Tax Collections TX',\n",
       " 'Unemployment TX',\n",
       " 'Unemployment U.S.',\n",
       " 'aggregate_travel_time_to_work',\n",
       " 'amerindian_pop',\n",
       " 'armed_forces',\n",
       " 'asian_pop',\n",
       " 'average_household_size',\n",
       " 'average_household_size_owners',\n",
       " 'average_household_size_renters',\n",
       " 'bachelors_degree',\n",
       " 'batch_high_school_ratio',\n",
       " 'bicycle_population',\n",
       " 'black_pop',\n",
       " 'carpool_population',\n",
       " 'caseCount',\n",
       " 'children',\n",
       " 'city',\n",
       " 'commuters_by_public_transportation',\n",
       " 'commuting_population',\n",
       " 'county',\n",
       " 'delta_TNX',\n",
       " 'delta_monthly_avg_gas_price',\n",
       " 'delta_sap_case_shiller_index',\n",
       " 'delta_ur',\n",
       " 'delta_zori_ssa',\n",
       " 'delta_zori_ssa_12',\n",
       " 'delta_zori_ssa_6',\n",
       " 'diff_from_med_income_ratio_to_median_rent',\n",
       " 'divorced_men',\n",
       " 'divorced_women',\n",
       " 'driving_alone_population',\n",
       " 'education_population',\n",
       " 'employed_pop',\n",
       " 'env_violation_count',\n",
       " 'fatalities',\n",
       " 'female_18_to_19',\n",
       " 'female_20',\n",
       " 'female_21',\n",
       " 'female_22_to_24',\n",
       " 'female_25_to_29',\n",
       " 'female_30_to_34',\n",
       " 'female_35_to_39',\n",
       " 'female_40_to_44',\n",
       " 'female_45_to_49',\n",
       " 'female_50_to_54',\n",
       " 'female_55_to_59',\n",
       " 'female_60_to_61',\n",
       " 'female_62_to_64',\n",
       " 'female_67_to_69',\n",
       " 'female_70_to_74',\n",
       " 'female_75_to_79',\n",
       " 'female_80_to_84',\n",
       " 'female_85_over',\n",
       " 'female_female_households',\n",
       " 'female_pop',\n",
       " 'female_population',\n",
       " 'food_stamp_ratio',\n",
       " 'gini_coeficient',\n",
       " 'gini_index',\n",
       " 'high_school_diploma',\n",
       " 'hispanic_pop',\n",
       " 'households_public_asst_or_food_stamps',\n",
       " 'housing_units',\n",
       " 'housing_units_10_to_19_units',\n",
       " 'housing_units_10_to_19_units_owned',\n",
       " 'housing_units_10_to_19_units_rented',\n",
       " 'housing_units_20_to_49_units',\n",
       " 'housing_units_20_to_49_units_owned',\n",
       " 'housing_units_20_to_49_units_rented',\n",
       " 'housing_units_3_to_4_units',\n",
       " 'housing_units_3_to_4_units_owned',\n",
       " 'housing_units_3_to_4_units_rented',\n",
       " 'housing_units_5_to_9_units',\n",
       " 'housing_units_5_to_9_units_owned',\n",
       " 'housing_units_5_to_9_units_rented',\n",
       " 'housing_units_built_1930_to_1939',\n",
       " 'housing_units_built_1940_to_1949',\n",
       " 'housing_units_built_1950_to_1959',\n",
       " 'housing_units_built_1960_to_1969',\n",
       " 'housing_units_built_1970_to_1979',\n",
       " 'housing_units_built_1980_to_1989',\n",
       " 'housing_units_built_1990_to_1999',\n",
       " 'housing_units_duplex',\n",
       " 'housing_units_duplex_owned',\n",
       " 'housing_units_duplex_rented',\n",
       " 'housing_units_mobile_home',\n",
       " 'housing_units_mobile_home_owned',\n",
       " 'housing_units_mobile_home_rented',\n",
       " 'housing_units_other_type',\n",
       " 'housing_units_other_type_owned',\n",
       " 'housing_units_other_type_rented',\n",
       " 'housing_units_over_50_units',\n",
       " 'housing_units_over_50_units_owned',\n",
       " 'housing_units_over_50_units_rented',\n",
       " 'housing_units_single_family_attached',\n",
       " 'housing_units_single_family_attached_owned',\n",
       " 'housing_units_single_family_attached_rented',\n",
       " 'housing_units_single_family_detached',\n",
       " 'housing_units_single_family_detached_owned',\n",
       " 'housing_units_single_family_detached_rented',\n",
       " 'income_per_capita',\n",
       " 'male_18_to_19',\n",
       " 'male_20',\n",
       " 'male_21',\n",
       " 'male_22_to_24',\n",
       " 'male_25_to_29',\n",
       " 'male_30_to_34',\n",
       " 'male_35_to_39',\n",
       " 'male_40_to_44',\n",
       " 'male_45_to_49',\n",
       " 'male_50_to_54',\n",
       " 'male_55_to_59',\n",
       " 'male_60_to_61',\n",
       " 'male_62_to_64',\n",
       " 'male_67_to_69',\n",
       " 'male_70_to_74',\n",
       " 'male_75_to_79',\n",
       " 'male_80_to_84',\n",
       " 'male_85_over',\n",
       " 'male_male_households',\n",
       " 'male_pop',\n",
       " 'male_population',\n",
       " 'marital_status_population',\n",
       " 'married_household_ratio',\n",
       " 'married_households',\n",
       " 'married_men',\n",
       " 'married_men_spouse_absent',\n",
       " 'married_men_spouse_present',\n",
       " 'married_women',\n",
       " 'married_women_spouse_absent',\n",
       " 'married_women_spouse_present',\n",
       " 'maxtempC',\n",
       " 'median_age',\n",
       " 'median_contract_rent',\n",
       " 'median_gross_rent',\n",
       " 'median_household_income',\n",
       " 'median_income',\n",
       " 'median_rent',\n",
       " 'median_rooms',\n",
       " 'median_year_structure_built',\n",
       " 'men_with_associate_degree',\n",
       " 'men_with_bachelors_degree',\n",
       " 'men_with_doctoral_degree',\n",
       " 'men_with_hs_diploma',\n",
       " 'men_with_less_one_year_college',\n",
       " 'men_with_masters_degree',\n",
       " 'men_with_one_year_or_more_college',\n",
       " 'men_with_professional_degree',\n",
       " 'metro',\n",
       " 'minority_ratio',\n",
       " 'mintempC',\n",
       " 'monthly_avg_gas_price',\n",
       " 'motorcycle_population',\n",
       " 'not_us_citizen_pop',\n",
       " 'occupied_housing_units',\n",
       " 'occupied_ratio',\n",
       " 'occupied_units',\n",
       " 'other_commute_method_population',\n",
       " 'other_race_pop',\n",
       " 'outlet_cl_ratio',\n",
       " 'outlet_count',\n",
       " 'outlet_foreign_ratio',\n",
       " 'outlet_is_ratio',\n",
       " 'outlet_non_tx_ratio',\n",
       " 'outlet_org_type_cl',\n",
       " 'outlet_org_type_foreign',\n",
       " 'outlet_org_type_is',\n",
       " 'outlet_taxpayer_non_tx',\n",
       " 'owner_occupied_housing_units',\n",
       " 'owner_occupied_units',\n",
       " 'payer_outlet_same_zipcode',\n",
       " 'per_diff_total_sales_tax',\n",
       " 'percent_income_spent_on_rent',\n",
       " 'pop_determined_poverty_status',\n",
       " 'pop_in_labor_force',\n",
       " 'poverty',\n",
       " 'precipMM',\n",
       " 'quintile_1_income_share',\n",
       " 'quintile_1_mean_income',\n",
       " 'quintile_1_upper_limit',\n",
       " 'quintile_2_income_share',\n",
       " 'quintile_2_mean_income',\n",
       " 'quintile_2_upper_limit',\n",
       " 'quintile_3_income_share',\n",
       " 'quintile_3_mean_income',\n",
       " 'quintile_3_upper_limit',\n",
       " 'quintile_4_income_share',\n",
       " 'quintile_4_mean_income',\n",
       " 'quintile_4_upper_limit',\n",
       " 'quintile_5_income_share',\n",
       " 'quintile_5_mean_income',\n",
       " 'rent_search_4_period_rsi',\n",
       " 'rent_search_interest',\n",
       " 'renter_occupied_housing_units_paying_cash_median_gross_rent',\n",
       " 'renter_occupied_units',\n",
       " 'sales_tax_rate',\n",
       " 'sap_case_shiller_index',\n",
       " 'single_men',\n",
       " 'single_women',\n",
       " 'taxi_population',\n",
       " 'taxpayer_cl_ratio',\n",
       " 'taxpayer_count',\n",
       " 'taxpayer_foreign_ratio',\n",
       " 'taxpayer_is_ratio',\n",
       " 'taxpayer_org_type_cl',\n",
       " 'taxpayer_org_type_foreign',\n",
       " 'taxpayer_org_type_is',\n",
       " 'taxpayer_same_zip_ratio',\n",
       " 'top_5_percent_income_share',\n",
       " 'top_5_percent_lower_limit',\n",
       " 'top_5_percent_mean_income',\n",
       " 'total_contract_rent',\n",
       " 'total_gross_rent',\n",
       " 'total_household_income',\n",
       " 'total_households',\n",
       " 'total_population',\n",
       " 'total_population_in_occupied_units',\n",
       " 'total_population_in_owner_occupied_units',\n",
       " 'total_population_in_renter_occupied_units',\n",
       " 'total_sales_tax',\n",
       " 'total_sales_tax_last_year',\n",
       " 'total_units',\n",
       " 'transit_population',\n",
       " 'tx_is_a_little_better',\n",
       " 'tx_is_a_little_worse',\n",
       " 'tx_is_a_lot_better',\n",
       " 'tx_is_a_lot_worse',\n",
       " 'tx_is_abt_same',\n",
       " 'tx_is_better',\n",
       " 'tx_is_dont_know',\n",
       " 'tx_is_worse',\n",
       " 'unemployed_pop',\n",
       " 'units_paying_cash_rent',\n",
       " 'ur',\n",
       " 'vacant_housing_units_for_rent',\n",
       " 'walking_to_work_population',\n",
       " 'white_pop',\n",
       " 'widowed_men',\n",
       " 'widowed_women',\n",
       " 'women_with_associate_degree',\n",
       " 'women_with_bachelors_degree',\n",
       " 'women_with_doctoral_degree',\n",
       " 'women_with_hs_diploma',\n",
       " 'women_with_less_one_year_college',\n",
       " 'women_with_masters_degree',\n",
       " 'women_with_one_year_or_more_college',\n",
       " 'women_with_professional_degree',\n",
       " 'working_from_home_population',\n",
       " 'year',\n",
       " 'zip_code',\n",
       " 'zori_ssa'}"
      ]
     },
     "execution_count": 58,
     "metadata": {},
     "output_type": "execute_result"
    }
   ],
   "source": [
    "set(merged.columns)"
   ]
  },
  {
   "cell_type": "code",
   "execution_count": 65,
   "metadata": {},
   "outputs": [
    {
     "data": {
      "application/vnd.plotly.v1+json": {
       "config": {
        "plotlyServerURL": "https://plot.ly"
       },
       "data": [
        {
         "coloraxis": "coloraxis",
         "hovertemplate": "x: %{x}<br>y: %{y}<br>color: %{z}<extra></extra>",
         "name": "0",
         "type": "heatmap",
         "x": [
          "zori_ssa",
          "median_contract_rent",
          "median_gross_rent",
          "median_rent",
          "renter_occupied_housing_units_paying_cash_median_gross_rent",
          "quintile_4_mean_income",
          "quintile_4_upper_limit",
          "quintile_3_upper_limit",
          "income_per_capita",
          "quintile_5_mean_income",
          "quintile_3_mean_income",
          "median_household_income",
          "top_5_percent_mean_income",
          "quintile_2_upper_limit",
          "top_5_percent_lower_limit",
          "median_income",
          "quintile_2_mean_income",
          "quintile_1_upper_limit",
          "batch_high_school_ratio",
          "quintile_1_mean_income",
          "sap_case_shiller_index",
          "year",
          "Consumer Price Index U.S.",
          "Existing Single Family Home Price TX",
          "Consumer Price Index TX",
          "Total Sales Tax Collections Retail TX",
          "Total Sales Tax Collections TX",
          "Single Family Building Permits TX",
          "Nonfarm Employment TX",
          "Nonfarm Employment Texas"
         ],
         "xaxis": "x",
         "y": [
          "zori_ssa"
         ],
         "yaxis": "y",
         "z": [
          [
           1,
           0.616125054905211,
           0.6057718995953061,
           0.5934560803596834,
           0.5809306170755438,
           0.5280995674821769,
           0.5219075215187648,
           0.5139027877231055,
           0.5088834331468955,
           0.5085158530712812,
           0.4964488156622412,
           0.4916141244552676,
           0.4804221914931618,
           0.4770043748008715,
           0.46639801139044107,
           0.46363059831403264,
           0.4600037786921951,
           0.4282774094677415,
           0.3893730117808787,
           0.3800942976835954,
           0.37710656818415184,
           0.37389385227944194,
           0.3714290494364816,
           0.3695165665743252,
           0.3677992018994232,
           0.3208818241802983,
           0.30151632449087484,
           0.2971628313511428,
           0.2862120504382073,
           0.28619909338947286
          ]
         ]
        }
       ],
       "layout": {
        "coloraxis": {
         "colorscale": [
          [
           0,
           "rgb(158,1,66)"
          ],
          [
           0.1,
           "rgb(213,62,79)"
          ],
          [
           0.2,
           "rgb(244,109,67)"
          ],
          [
           0.3,
           "rgb(253,174,97)"
          ],
          [
           0.4,
           "rgb(254,224,139)"
          ],
          [
           0.5,
           "rgb(255,255,191)"
          ],
          [
           0.6,
           "rgb(230,245,152)"
          ],
          [
           0.7,
           "rgb(171,221,164)"
          ],
          [
           0.8,
           "rgb(102,194,165)"
          ],
          [
           0.9,
           "rgb(50,136,189)"
          ],
          [
           1,
           "rgb(94,79,162)"
          ]
         ]
        },
        "height": 600,
        "template": {
         "data": {
          "bar": [
           {
            "error_x": {
             "color": "#2a3f5f"
            },
            "error_y": {
             "color": "#2a3f5f"
            },
            "marker": {
             "line": {
              "color": "#E5ECF6",
              "width": 0.5
             }
            },
            "type": "bar"
           }
          ],
          "barpolar": [
           {
            "marker": {
             "line": {
              "color": "#E5ECF6",
              "width": 0.5
             }
            },
            "type": "barpolar"
           }
          ],
          "carpet": [
           {
            "aaxis": {
             "endlinecolor": "#2a3f5f",
             "gridcolor": "white",
             "linecolor": "white",
             "minorgridcolor": "white",
             "startlinecolor": "#2a3f5f"
            },
            "baxis": {
             "endlinecolor": "#2a3f5f",
             "gridcolor": "white",
             "linecolor": "white",
             "minorgridcolor": "white",
             "startlinecolor": "#2a3f5f"
            },
            "type": "carpet"
           }
          ],
          "choropleth": [
           {
            "colorbar": {
             "outlinewidth": 0,
             "ticks": ""
            },
            "type": "choropleth"
           }
          ],
          "contour": [
           {
            "colorbar": {
             "outlinewidth": 0,
             "ticks": ""
            },
            "colorscale": [
             [
              0,
              "#0d0887"
             ],
             [
              0.1111111111111111,
              "#46039f"
             ],
             [
              0.2222222222222222,
              "#7201a8"
             ],
             [
              0.3333333333333333,
              "#9c179e"
             ],
             [
              0.4444444444444444,
              "#bd3786"
             ],
             [
              0.5555555555555556,
              "#d8576b"
             ],
             [
              0.6666666666666666,
              "#ed7953"
             ],
             [
              0.7777777777777778,
              "#fb9f3a"
             ],
             [
              0.8888888888888888,
              "#fdca26"
             ],
             [
              1,
              "#f0f921"
             ]
            ],
            "type": "contour"
           }
          ],
          "contourcarpet": [
           {
            "colorbar": {
             "outlinewidth": 0,
             "ticks": ""
            },
            "type": "contourcarpet"
           }
          ],
          "heatmap": [
           {
            "colorbar": {
             "outlinewidth": 0,
             "ticks": ""
            },
            "colorscale": [
             [
              0,
              "#0d0887"
             ],
             [
              0.1111111111111111,
              "#46039f"
             ],
             [
              0.2222222222222222,
              "#7201a8"
             ],
             [
              0.3333333333333333,
              "#9c179e"
             ],
             [
              0.4444444444444444,
              "#bd3786"
             ],
             [
              0.5555555555555556,
              "#d8576b"
             ],
             [
              0.6666666666666666,
              "#ed7953"
             ],
             [
              0.7777777777777778,
              "#fb9f3a"
             ],
             [
              0.8888888888888888,
              "#fdca26"
             ],
             [
              1,
              "#f0f921"
             ]
            ],
            "type": "heatmap"
           }
          ],
          "heatmapgl": [
           {
            "colorbar": {
             "outlinewidth": 0,
             "ticks": ""
            },
            "colorscale": [
             [
              0,
              "#0d0887"
             ],
             [
              0.1111111111111111,
              "#46039f"
             ],
             [
              0.2222222222222222,
              "#7201a8"
             ],
             [
              0.3333333333333333,
              "#9c179e"
             ],
             [
              0.4444444444444444,
              "#bd3786"
             ],
             [
              0.5555555555555556,
              "#d8576b"
             ],
             [
              0.6666666666666666,
              "#ed7953"
             ],
             [
              0.7777777777777778,
              "#fb9f3a"
             ],
             [
              0.8888888888888888,
              "#fdca26"
             ],
             [
              1,
              "#f0f921"
             ]
            ],
            "type": "heatmapgl"
           }
          ],
          "histogram": [
           {
            "marker": {
             "colorbar": {
              "outlinewidth": 0,
              "ticks": ""
             }
            },
            "type": "histogram"
           }
          ],
          "histogram2d": [
           {
            "colorbar": {
             "outlinewidth": 0,
             "ticks": ""
            },
            "colorscale": [
             [
              0,
              "#0d0887"
             ],
             [
              0.1111111111111111,
              "#46039f"
             ],
             [
              0.2222222222222222,
              "#7201a8"
             ],
             [
              0.3333333333333333,
              "#9c179e"
             ],
             [
              0.4444444444444444,
              "#bd3786"
             ],
             [
              0.5555555555555556,
              "#d8576b"
             ],
             [
              0.6666666666666666,
              "#ed7953"
             ],
             [
              0.7777777777777778,
              "#fb9f3a"
             ],
             [
              0.8888888888888888,
              "#fdca26"
             ],
             [
              1,
              "#f0f921"
             ]
            ],
            "type": "histogram2d"
           }
          ],
          "histogram2dcontour": [
           {
            "colorbar": {
             "outlinewidth": 0,
             "ticks": ""
            },
            "colorscale": [
             [
              0,
              "#0d0887"
             ],
             [
              0.1111111111111111,
              "#46039f"
             ],
             [
              0.2222222222222222,
              "#7201a8"
             ],
             [
              0.3333333333333333,
              "#9c179e"
             ],
             [
              0.4444444444444444,
              "#bd3786"
             ],
             [
              0.5555555555555556,
              "#d8576b"
             ],
             [
              0.6666666666666666,
              "#ed7953"
             ],
             [
              0.7777777777777778,
              "#fb9f3a"
             ],
             [
              0.8888888888888888,
              "#fdca26"
             ],
             [
              1,
              "#f0f921"
             ]
            ],
            "type": "histogram2dcontour"
           }
          ],
          "mesh3d": [
           {
            "colorbar": {
             "outlinewidth": 0,
             "ticks": ""
            },
            "type": "mesh3d"
           }
          ],
          "parcoords": [
           {
            "line": {
             "colorbar": {
              "outlinewidth": 0,
              "ticks": ""
             }
            },
            "type": "parcoords"
           }
          ],
          "pie": [
           {
            "automargin": true,
            "type": "pie"
           }
          ],
          "scatter": [
           {
            "marker": {
             "colorbar": {
              "outlinewidth": 0,
              "ticks": ""
             }
            },
            "type": "scatter"
           }
          ],
          "scatter3d": [
           {
            "line": {
             "colorbar": {
              "outlinewidth": 0,
              "ticks": ""
             }
            },
            "marker": {
             "colorbar": {
              "outlinewidth": 0,
              "ticks": ""
             }
            },
            "type": "scatter3d"
           }
          ],
          "scattercarpet": [
           {
            "marker": {
             "colorbar": {
              "outlinewidth": 0,
              "ticks": ""
             }
            },
            "type": "scattercarpet"
           }
          ],
          "scattergeo": [
           {
            "marker": {
             "colorbar": {
              "outlinewidth": 0,
              "ticks": ""
             }
            },
            "type": "scattergeo"
           }
          ],
          "scattergl": [
           {
            "marker": {
             "colorbar": {
              "outlinewidth": 0,
              "ticks": ""
             }
            },
            "type": "scattergl"
           }
          ],
          "scattermapbox": [
           {
            "marker": {
             "colorbar": {
              "outlinewidth": 0,
              "ticks": ""
             }
            },
            "type": "scattermapbox"
           }
          ],
          "scatterpolar": [
           {
            "marker": {
             "colorbar": {
              "outlinewidth": 0,
              "ticks": ""
             }
            },
            "type": "scatterpolar"
           }
          ],
          "scatterpolargl": [
           {
            "marker": {
             "colorbar": {
              "outlinewidth": 0,
              "ticks": ""
             }
            },
            "type": "scatterpolargl"
           }
          ],
          "scatterternary": [
           {
            "marker": {
             "colorbar": {
              "outlinewidth": 0,
              "ticks": ""
             }
            },
            "type": "scatterternary"
           }
          ],
          "surface": [
           {
            "colorbar": {
             "outlinewidth": 0,
             "ticks": ""
            },
            "colorscale": [
             [
              0,
              "#0d0887"
             ],
             [
              0.1111111111111111,
              "#46039f"
             ],
             [
              0.2222222222222222,
              "#7201a8"
             ],
             [
              0.3333333333333333,
              "#9c179e"
             ],
             [
              0.4444444444444444,
              "#bd3786"
             ],
             [
              0.5555555555555556,
              "#d8576b"
             ],
             [
              0.6666666666666666,
              "#ed7953"
             ],
             [
              0.7777777777777778,
              "#fb9f3a"
             ],
             [
              0.8888888888888888,
              "#fdca26"
             ],
             [
              1,
              "#f0f921"
             ]
            ],
            "type": "surface"
           }
          ],
          "table": [
           {
            "cells": {
             "fill": {
              "color": "#EBF0F8"
             },
             "line": {
              "color": "white"
             }
            },
            "header": {
             "fill": {
              "color": "#C8D4E3"
             },
             "line": {
              "color": "white"
             }
            },
            "type": "table"
           }
          ]
         },
         "layout": {
          "annotationdefaults": {
           "arrowcolor": "#2a3f5f",
           "arrowhead": 0,
           "arrowwidth": 1
          },
          "autotypenumbers": "strict",
          "coloraxis": {
           "colorbar": {
            "outlinewidth": 0,
            "ticks": ""
           }
          },
          "colorscale": {
           "diverging": [
            [
             0,
             "#8e0152"
            ],
            [
             0.1,
             "#c51b7d"
            ],
            [
             0.2,
             "#de77ae"
            ],
            [
             0.3,
             "#f1b6da"
            ],
            [
             0.4,
             "#fde0ef"
            ],
            [
             0.5,
             "#f7f7f7"
            ],
            [
             0.6,
             "#e6f5d0"
            ],
            [
             0.7,
             "#b8e186"
            ],
            [
             0.8,
             "#7fbc41"
            ],
            [
             0.9,
             "#4d9221"
            ],
            [
             1,
             "#276419"
            ]
           ],
           "sequential": [
            [
             0,
             "#0d0887"
            ],
            [
             0.1111111111111111,
             "#46039f"
            ],
            [
             0.2222222222222222,
             "#7201a8"
            ],
            [
             0.3333333333333333,
             "#9c179e"
            ],
            [
             0.4444444444444444,
             "#bd3786"
            ],
            [
             0.5555555555555556,
             "#d8576b"
            ],
            [
             0.6666666666666666,
             "#ed7953"
            ],
            [
             0.7777777777777778,
             "#fb9f3a"
            ],
            [
             0.8888888888888888,
             "#fdca26"
            ],
            [
             1,
             "#f0f921"
            ]
           ],
           "sequentialminus": [
            [
             0,
             "#0d0887"
            ],
            [
             0.1111111111111111,
             "#46039f"
            ],
            [
             0.2222222222222222,
             "#7201a8"
            ],
            [
             0.3333333333333333,
             "#9c179e"
            ],
            [
             0.4444444444444444,
             "#bd3786"
            ],
            [
             0.5555555555555556,
             "#d8576b"
            ],
            [
             0.6666666666666666,
             "#ed7953"
            ],
            [
             0.7777777777777778,
             "#fb9f3a"
            ],
            [
             0.8888888888888888,
             "#fdca26"
            ],
            [
             1,
             "#f0f921"
            ]
           ]
          },
          "colorway": [
           "#636efa",
           "#EF553B",
           "#00cc96",
           "#ab63fa",
           "#FFA15A",
           "#19d3f3",
           "#FF6692",
           "#B6E880",
           "#FF97FF",
           "#FECB52"
          ],
          "font": {
           "color": "#2a3f5f"
          },
          "geo": {
           "bgcolor": "white",
           "lakecolor": "white",
           "landcolor": "#E5ECF6",
           "showlakes": true,
           "showland": true,
           "subunitcolor": "white"
          },
          "hoverlabel": {
           "align": "left"
          },
          "hovermode": "closest",
          "mapbox": {
           "style": "light"
          },
          "paper_bgcolor": "white",
          "plot_bgcolor": "#E5ECF6",
          "polar": {
           "angularaxis": {
            "gridcolor": "white",
            "linecolor": "white",
            "ticks": ""
           },
           "bgcolor": "#E5ECF6",
           "radialaxis": {
            "gridcolor": "white",
            "linecolor": "white",
            "ticks": ""
           }
          },
          "scene": {
           "xaxis": {
            "backgroundcolor": "#E5ECF6",
            "gridcolor": "white",
            "gridwidth": 2,
            "linecolor": "white",
            "showbackground": true,
            "ticks": "",
            "zerolinecolor": "white"
           },
           "yaxis": {
            "backgroundcolor": "#E5ECF6",
            "gridcolor": "white",
            "gridwidth": 2,
            "linecolor": "white",
            "showbackground": true,
            "ticks": "",
            "zerolinecolor": "white"
           },
           "zaxis": {
            "backgroundcolor": "#E5ECF6",
            "gridcolor": "white",
            "gridwidth": 2,
            "linecolor": "white",
            "showbackground": true,
            "ticks": "",
            "zerolinecolor": "white"
           }
          },
          "shapedefaults": {
           "line": {
            "color": "#2a3f5f"
           }
          },
          "ternary": {
           "aaxis": {
            "gridcolor": "white",
            "linecolor": "white",
            "ticks": ""
           },
           "baxis": {
            "gridcolor": "white",
            "linecolor": "white",
            "ticks": ""
           },
           "bgcolor": "#E5ECF6",
           "caxis": {
            "gridcolor": "white",
            "linecolor": "white",
            "ticks": ""
           }
          },
          "title": {
           "x": 0.05
          },
          "xaxis": {
           "automargin": true,
           "gridcolor": "white",
           "linecolor": "white",
           "ticks": "",
           "title": {
            "standoff": 15
           },
           "zerolinecolor": "white",
           "zerolinewidth": 2
          },
          "yaxis": {
           "automargin": true,
           "gridcolor": "white",
           "linecolor": "white",
           "ticks": "",
           "title": {
            "standoff": 15
           },
           "zerolinecolor": "white",
           "zerolinewidth": 2
          }
         }
        },
        "title": {
         "text": "Correlation Heat Map"
        },
        "width": 1200,
        "xaxis": {
         "anchor": "y",
         "domain": [
          0,
          1
         ]
        },
        "yaxis": {
         "anchor": "x",
         "autorange": "reversed",
         "domain": [
          0,
          1
         ]
        }
       }
      },
      "text/html": [
       "<div>                            <div id=\"571a96bd-b5ce-4f1b-8041-1448324635da\" class=\"plotly-graph-div\" style=\"height:600px; width:1200px;\"></div>            <script type=\"text/javascript\">                require([\"plotly\"], function(Plotly) {                    window.PLOTLYENV=window.PLOTLYENV || {};                                    if (document.getElementById(\"571a96bd-b5ce-4f1b-8041-1448324635da\")) {                    Plotly.newPlot(                        \"571a96bd-b5ce-4f1b-8041-1448324635da\",                        [{\"coloraxis\": \"coloraxis\", \"hovertemplate\": \"x: %{x}<br>y: %{y}<br>color: %{z}<extra></extra>\", \"name\": \"0\", \"type\": \"heatmap\", \"x\": [\"zori_ssa\", \"median_contract_rent\", \"median_gross_rent\", \"median_rent\", \"renter_occupied_housing_units_paying_cash_median_gross_rent\", \"quintile_4_mean_income\", \"quintile_4_upper_limit\", \"quintile_3_upper_limit\", \"income_per_capita\", \"quintile_5_mean_income\", \"quintile_3_mean_income\", \"median_household_income\", \"top_5_percent_mean_income\", \"quintile_2_upper_limit\", \"top_5_percent_lower_limit\", \"median_income\", \"quintile_2_mean_income\", \"quintile_1_upper_limit\", \"batch_high_school_ratio\", \"quintile_1_mean_income\", \"sap_case_shiller_index\", \"year\", \"Consumer Price Index U.S.\", \"Existing Single Family Home Price TX\", \"Consumer Price Index TX\", \"Total Sales Tax Collections Retail TX\", \"Total Sales Tax Collections TX\", \"Single Family Building Permits TX\", \"Nonfarm Employment TX\", \"Nonfarm Employment Texas\"], \"xaxis\": \"x\", \"y\": [\"zori_ssa\"], \"yaxis\": \"y\", \"z\": [[1.0, 0.616125054905211, 0.6057718995953061, 0.5934560803596834, 0.5809306170755438, 0.5280995674821769, 0.5219075215187648, 0.5139027877231055, 0.5088834331468955, 0.5085158530712812, 0.4964488156622412, 0.4916141244552676, 0.4804221914931618, 0.4770043748008715, 0.46639801139044107, 0.46363059831403264, 0.4600037786921951, 0.4282774094677415, 0.3893730117808787, 0.3800942976835954, 0.37710656818415184, 0.37389385227944194, 0.3714290494364816, 0.3695165665743252, 0.3677992018994232, 0.3208818241802983, 0.30151632449087484, 0.2971628313511428, 0.2862120504382073, 0.28619909338947286]]}],                        {\"coloraxis\": {\"colorscale\": [[0.0, \"rgb(158,1,66)\"], [0.1, \"rgb(213,62,79)\"], [0.2, \"rgb(244,109,67)\"], [0.3, \"rgb(253,174,97)\"], [0.4, \"rgb(254,224,139)\"], [0.5, \"rgb(255,255,191)\"], [0.6, \"rgb(230,245,152)\"], [0.7, \"rgb(171,221,164)\"], [0.8, \"rgb(102,194,165)\"], [0.9, \"rgb(50,136,189)\"], [1.0, \"rgb(94,79,162)\"]]}, \"height\": 600, \"template\": {\"data\": {\"bar\": [{\"error_x\": {\"color\": \"#2a3f5f\"}, \"error_y\": {\"color\": \"#2a3f5f\"}, \"marker\": {\"line\": {\"color\": \"#E5ECF6\", \"width\": 0.5}}, \"type\": \"bar\"}], \"barpolar\": [{\"marker\": {\"line\": {\"color\": \"#E5ECF6\", \"width\": 0.5}}, \"type\": \"barpolar\"}], \"carpet\": [{\"aaxis\": {\"endlinecolor\": \"#2a3f5f\", \"gridcolor\": \"white\", \"linecolor\": \"white\", \"minorgridcolor\": \"white\", \"startlinecolor\": \"#2a3f5f\"}, \"baxis\": {\"endlinecolor\": \"#2a3f5f\", \"gridcolor\": \"white\", \"linecolor\": \"white\", \"minorgridcolor\": \"white\", \"startlinecolor\": \"#2a3f5f\"}, \"type\": \"carpet\"}], \"choropleth\": [{\"colorbar\": {\"outlinewidth\": 0, \"ticks\": \"\"}, \"type\": \"choropleth\"}], \"contour\": [{\"colorbar\": {\"outlinewidth\": 0, \"ticks\": \"\"}, \"colorscale\": [[0.0, \"#0d0887\"], [0.1111111111111111, \"#46039f\"], [0.2222222222222222, \"#7201a8\"], [0.3333333333333333, \"#9c179e\"], [0.4444444444444444, \"#bd3786\"], [0.5555555555555556, \"#d8576b\"], [0.6666666666666666, \"#ed7953\"], [0.7777777777777778, \"#fb9f3a\"], [0.8888888888888888, \"#fdca26\"], [1.0, \"#f0f921\"]], \"type\": \"contour\"}], \"contourcarpet\": [{\"colorbar\": {\"outlinewidth\": 0, \"ticks\": \"\"}, \"type\": \"contourcarpet\"}], \"heatmap\": [{\"colorbar\": {\"outlinewidth\": 0, \"ticks\": \"\"}, \"colorscale\": [[0.0, \"#0d0887\"], [0.1111111111111111, \"#46039f\"], [0.2222222222222222, \"#7201a8\"], [0.3333333333333333, \"#9c179e\"], [0.4444444444444444, \"#bd3786\"], [0.5555555555555556, \"#d8576b\"], [0.6666666666666666, \"#ed7953\"], [0.7777777777777778, \"#fb9f3a\"], [0.8888888888888888, \"#fdca26\"], [1.0, \"#f0f921\"]], \"type\": \"heatmap\"}], \"heatmapgl\": [{\"colorbar\": {\"outlinewidth\": 0, \"ticks\": \"\"}, \"colorscale\": [[0.0, \"#0d0887\"], [0.1111111111111111, \"#46039f\"], [0.2222222222222222, \"#7201a8\"], [0.3333333333333333, \"#9c179e\"], [0.4444444444444444, \"#bd3786\"], [0.5555555555555556, \"#d8576b\"], [0.6666666666666666, \"#ed7953\"], [0.7777777777777778, \"#fb9f3a\"], [0.8888888888888888, \"#fdca26\"], [1.0, \"#f0f921\"]], \"type\": \"heatmapgl\"}], \"histogram\": [{\"marker\": {\"colorbar\": {\"outlinewidth\": 0, \"ticks\": \"\"}}, \"type\": \"histogram\"}], \"histogram2d\": [{\"colorbar\": {\"outlinewidth\": 0, \"ticks\": \"\"}, \"colorscale\": [[0.0, \"#0d0887\"], [0.1111111111111111, \"#46039f\"], [0.2222222222222222, \"#7201a8\"], [0.3333333333333333, \"#9c179e\"], [0.4444444444444444, \"#bd3786\"], [0.5555555555555556, \"#d8576b\"], [0.6666666666666666, \"#ed7953\"], [0.7777777777777778, \"#fb9f3a\"], [0.8888888888888888, \"#fdca26\"], [1.0, \"#f0f921\"]], \"type\": \"histogram2d\"}], \"histogram2dcontour\": [{\"colorbar\": {\"outlinewidth\": 0, \"ticks\": \"\"}, \"colorscale\": [[0.0, \"#0d0887\"], [0.1111111111111111, \"#46039f\"], [0.2222222222222222, \"#7201a8\"], [0.3333333333333333, \"#9c179e\"], [0.4444444444444444, \"#bd3786\"], [0.5555555555555556, \"#d8576b\"], [0.6666666666666666, \"#ed7953\"], [0.7777777777777778, \"#fb9f3a\"], [0.8888888888888888, \"#fdca26\"], [1.0, \"#f0f921\"]], \"type\": \"histogram2dcontour\"}], \"mesh3d\": [{\"colorbar\": {\"outlinewidth\": 0, \"ticks\": \"\"}, \"type\": \"mesh3d\"}], \"parcoords\": [{\"line\": {\"colorbar\": {\"outlinewidth\": 0, \"ticks\": \"\"}}, \"type\": \"parcoords\"}], \"pie\": [{\"automargin\": true, \"type\": \"pie\"}], \"scatter\": [{\"marker\": {\"colorbar\": {\"outlinewidth\": 0, \"ticks\": \"\"}}, \"type\": \"scatter\"}], \"scatter3d\": [{\"line\": {\"colorbar\": {\"outlinewidth\": 0, \"ticks\": \"\"}}, \"marker\": {\"colorbar\": {\"outlinewidth\": 0, \"ticks\": \"\"}}, \"type\": \"scatter3d\"}], \"scattercarpet\": [{\"marker\": {\"colorbar\": {\"outlinewidth\": 0, \"ticks\": \"\"}}, \"type\": \"scattercarpet\"}], \"scattergeo\": [{\"marker\": {\"colorbar\": {\"outlinewidth\": 0, \"ticks\": \"\"}}, \"type\": \"scattergeo\"}], \"scattergl\": [{\"marker\": {\"colorbar\": {\"outlinewidth\": 0, \"ticks\": \"\"}}, \"type\": \"scattergl\"}], \"scattermapbox\": [{\"marker\": {\"colorbar\": {\"outlinewidth\": 0, \"ticks\": \"\"}}, \"type\": \"scattermapbox\"}], \"scatterpolar\": [{\"marker\": {\"colorbar\": {\"outlinewidth\": 0, \"ticks\": \"\"}}, \"type\": \"scatterpolar\"}], \"scatterpolargl\": [{\"marker\": {\"colorbar\": {\"outlinewidth\": 0, \"ticks\": \"\"}}, \"type\": \"scatterpolargl\"}], \"scatterternary\": [{\"marker\": {\"colorbar\": {\"outlinewidth\": 0, \"ticks\": \"\"}}, \"type\": \"scatterternary\"}], \"surface\": [{\"colorbar\": {\"outlinewidth\": 0, \"ticks\": \"\"}, \"colorscale\": [[0.0, \"#0d0887\"], [0.1111111111111111, \"#46039f\"], [0.2222222222222222, \"#7201a8\"], [0.3333333333333333, \"#9c179e\"], [0.4444444444444444, \"#bd3786\"], [0.5555555555555556, \"#d8576b\"], [0.6666666666666666, \"#ed7953\"], [0.7777777777777778, \"#fb9f3a\"], [0.8888888888888888, \"#fdca26\"], [1.0, \"#f0f921\"]], \"type\": \"surface\"}], \"table\": [{\"cells\": {\"fill\": {\"color\": \"#EBF0F8\"}, \"line\": {\"color\": \"white\"}}, \"header\": {\"fill\": {\"color\": \"#C8D4E3\"}, \"line\": {\"color\": \"white\"}}, \"type\": \"table\"}]}, \"layout\": {\"annotationdefaults\": {\"arrowcolor\": \"#2a3f5f\", \"arrowhead\": 0, \"arrowwidth\": 1}, \"autotypenumbers\": \"strict\", \"coloraxis\": {\"colorbar\": {\"outlinewidth\": 0, \"ticks\": \"\"}}, \"colorscale\": {\"diverging\": [[0, \"#8e0152\"], [0.1, \"#c51b7d\"], [0.2, \"#de77ae\"], [0.3, \"#f1b6da\"], [0.4, \"#fde0ef\"], [0.5, \"#f7f7f7\"], [0.6, \"#e6f5d0\"], [0.7, \"#b8e186\"], [0.8, \"#7fbc41\"], [0.9, \"#4d9221\"], [1, \"#276419\"]], \"sequential\": [[0.0, \"#0d0887\"], [0.1111111111111111, \"#46039f\"], [0.2222222222222222, \"#7201a8\"], [0.3333333333333333, \"#9c179e\"], [0.4444444444444444, \"#bd3786\"], [0.5555555555555556, \"#d8576b\"], [0.6666666666666666, \"#ed7953\"], [0.7777777777777778, \"#fb9f3a\"], [0.8888888888888888, \"#fdca26\"], [1.0, \"#f0f921\"]], \"sequentialminus\": [[0.0, \"#0d0887\"], [0.1111111111111111, \"#46039f\"], [0.2222222222222222, \"#7201a8\"], [0.3333333333333333, \"#9c179e\"], [0.4444444444444444, \"#bd3786\"], [0.5555555555555556, \"#d8576b\"], [0.6666666666666666, \"#ed7953\"], [0.7777777777777778, \"#fb9f3a\"], [0.8888888888888888, \"#fdca26\"], [1.0, \"#f0f921\"]]}, \"colorway\": [\"#636efa\", \"#EF553B\", \"#00cc96\", \"#ab63fa\", \"#FFA15A\", \"#19d3f3\", \"#FF6692\", \"#B6E880\", \"#FF97FF\", \"#FECB52\"], \"font\": {\"color\": \"#2a3f5f\"}, \"geo\": {\"bgcolor\": \"white\", \"lakecolor\": \"white\", \"landcolor\": \"#E5ECF6\", \"showlakes\": true, \"showland\": true, \"subunitcolor\": \"white\"}, \"hoverlabel\": {\"align\": \"left\"}, \"hovermode\": \"closest\", \"mapbox\": {\"style\": \"light\"}, \"paper_bgcolor\": \"white\", \"plot_bgcolor\": \"#E5ECF6\", \"polar\": {\"angularaxis\": {\"gridcolor\": \"white\", \"linecolor\": \"white\", \"ticks\": \"\"}, \"bgcolor\": \"#E5ECF6\", \"radialaxis\": {\"gridcolor\": \"white\", \"linecolor\": \"white\", \"ticks\": \"\"}}, \"scene\": {\"xaxis\": {\"backgroundcolor\": \"#E5ECF6\", \"gridcolor\": \"white\", \"gridwidth\": 2, \"linecolor\": \"white\", \"showbackground\": true, \"ticks\": \"\", \"zerolinecolor\": \"white\"}, \"yaxis\": {\"backgroundcolor\": \"#E5ECF6\", \"gridcolor\": \"white\", \"gridwidth\": 2, \"linecolor\": \"white\", \"showbackground\": true, \"ticks\": \"\", \"zerolinecolor\": \"white\"}, \"zaxis\": {\"backgroundcolor\": \"#E5ECF6\", \"gridcolor\": \"white\", \"gridwidth\": 2, \"linecolor\": \"white\", \"showbackground\": true, \"ticks\": \"\", \"zerolinecolor\": \"white\"}}, \"shapedefaults\": {\"line\": {\"color\": \"#2a3f5f\"}}, \"ternary\": {\"aaxis\": {\"gridcolor\": \"white\", \"linecolor\": \"white\", \"ticks\": \"\"}, \"baxis\": {\"gridcolor\": \"white\", \"linecolor\": \"white\", \"ticks\": \"\"}, \"bgcolor\": \"#E5ECF6\", \"caxis\": {\"gridcolor\": \"white\", \"linecolor\": \"white\", \"ticks\": \"\"}}, \"title\": {\"x\": 0.05}, \"xaxis\": {\"automargin\": true, \"gridcolor\": \"white\", \"linecolor\": \"white\", \"ticks\": \"\", \"title\": {\"standoff\": 15}, \"zerolinecolor\": \"white\", \"zerolinewidth\": 2}, \"yaxis\": {\"automargin\": true, \"gridcolor\": \"white\", \"linecolor\": \"white\", \"ticks\": \"\", \"title\": {\"standoff\": 15}, \"zerolinecolor\": \"white\", \"zerolinewidth\": 2}}}, \"title\": {\"text\": \"Correlation Heat Map\"}, \"width\": 1200, \"xaxis\": {\"anchor\": \"y\", \"domain\": [0.0, 1.0]}, \"yaxis\": {\"anchor\": \"x\", \"autorange\": \"reversed\", \"domain\": [0.0, 1.0]}},                        {\"responsive\": true}                    ).then(function(){\n",
       "                            \n",
       "var gd = document.getElementById('571a96bd-b5ce-4f1b-8041-1448324635da');\n",
       "var x = new MutationObserver(function (mutations, observer) {{\n",
       "        var display = window.getComputedStyle(gd).display;\n",
       "        if (!display || display === 'none') {{\n",
       "            console.log([gd, 'removed!']);\n",
       "            Plotly.purge(gd);\n",
       "            observer.disconnect();\n",
       "        }}\n",
       "}});\n",
       "\n",
       "// Listen for the removal of the full notebook cells\n",
       "var notebookContainer = gd.closest('#notebook-container');\n",
       "if (notebookContainer) {{\n",
       "    x.observe(notebookContainer, {childList: true});\n",
       "}}\n",
       "\n",
       "// Listen for the clearing of the current output cell\n",
       "var outputEl = gd.closest('.output');\n",
       "if (outputEl) {{\n",
       "    x.observe(outputEl, {childList: true});\n",
       "}}\n",
       "\n",
       "                        })                };                });            </script>        </div>"
      ]
     },
     "metadata": {},
     "output_type": "display_data"
    }
   ],
   "source": [
    "corrs = merged.drop(['Time','zip_code'], axis = 1).corr()\n",
    "\n",
    "px.imshow(corrs[['zori_ssa']].sort_values(by = 'zori_ssa',ascending = False)[:30].T\n",
    "          ,aspect = 1,width = 1200,height = 600,color_continuous_scale = 'spectral',title = 'Correlation Heat Map')"
   ]
  },
  {
   "cell_type": "code",
   "execution_count": 171,
   "metadata": {},
   "outputs": [
    {
     "data": {
      "application/vnd.plotly.v1+json": {
       "config": {
        "plotlyServerURL": "https://plot.ly"
       },
       "data": [
        {
         "hovertemplate": "variable=Gross_Value_Natural_Gas_Production_percent_change<br>Time=%{x}<br>value=%{y}<extra></extra>",
         "legendgroup": "Gross_Value_Natural_Gas_Production_percent_change",
         "line": {
          "color": "#636efa",
          "dash": "solid"
         },
         "mode": "lines",
         "name": "Gross_Value_Natural_Gas_Production_percent_change",
         "orientation": "v",
         "showlegend": true,
         "type": "scatter",
         "x": [
          "2014-01-01T00:00:00",
          "2014-02-01T00:00:00",
          "2014-03-01T00:00:00",
          "2014-04-01T00:00:00",
          "2014-05-01T00:00:00",
          "2014-06-01T00:00:00",
          "2014-07-01T00:00:00",
          "2014-08-01T00:00:00",
          "2014-09-01T00:00:00",
          "2014-10-01T00:00:00",
          "2014-11-01T00:00:00",
          "2014-12-01T00:00:00",
          "2015-01-01T00:00:00",
          "2015-02-01T00:00:00",
          "2015-03-01T00:00:00",
          "2015-04-01T00:00:00",
          "2015-05-01T00:00:00",
          "2015-06-01T00:00:00",
          "2015-07-01T00:00:00",
          "2015-08-01T00:00:00",
          "2015-09-01T00:00:00",
          "2015-10-01T00:00:00",
          "2015-11-01T00:00:00",
          "2015-12-01T00:00:00",
          "2016-01-01T00:00:00",
          "2016-02-01T00:00:00",
          "2016-03-01T00:00:00",
          "2016-04-01T00:00:00",
          "2016-05-01T00:00:00",
          "2016-06-01T00:00:00",
          "2016-07-01T00:00:00",
          "2016-08-01T00:00:00",
          "2016-09-01T00:00:00",
          "2016-10-01T00:00:00",
          "2016-11-01T00:00:00",
          "2016-12-01T00:00:00",
          "2017-01-01T00:00:00",
          "2017-02-01T00:00:00",
          "2017-03-01T00:00:00",
          "2017-04-01T00:00:00",
          "2017-05-01T00:00:00",
          "2017-06-01T00:00:00",
          "2017-07-01T00:00:00",
          "2017-08-01T00:00:00",
          "2017-09-01T00:00:00",
          "2017-10-01T00:00:00",
          "2017-11-01T00:00:00",
          "2017-12-01T00:00:00",
          "2018-01-01T00:00:00",
          "2018-02-01T00:00:00",
          "2018-03-01T00:00:00",
          "2018-04-01T00:00:00",
          "2018-05-01T00:00:00",
          "2018-06-01T00:00:00",
          "2018-07-01T00:00:00",
          "2018-08-01T00:00:00",
          "2018-09-01T00:00:00",
          "2018-10-01T00:00:00",
          "2018-11-01T00:00:00",
          "2018-12-01T00:00:00",
          "2019-01-01T00:00:00",
          "2019-02-01T00:00:00",
          "2019-03-01T00:00:00",
          "2019-04-01T00:00:00",
          "2019-05-01T00:00:00",
          "2019-06-01T00:00:00",
          "2019-07-01T00:00:00",
          "2019-08-01T00:00:00",
          "2019-09-01T00:00:00",
          "2019-10-01T00:00:00",
          "2019-11-01T00:00:00",
          "2019-12-01T00:00:00",
          "2020-01-01T00:00:00",
          "2020-02-01T00:00:00",
          "2020-03-01T00:00:00",
          "2020-04-01T00:00:00",
          "2020-05-01T00:00:00",
          "2020-06-01T00:00:00",
          "2020-07-01T00:00:00",
          "2020-08-01T00:00:00",
          "2020-09-01T00:00:00",
          "2020-10-01T00:00:00",
          "2020-11-01T00:00:00",
          "2020-12-01T00:00:00",
          "2021-01-01T00:00:00",
          "2021-02-01T00:00:00",
          "2021-03-01T00:00:00",
          "2021-04-01T00:00:00",
          "2021-05-01T00:00:00",
          "2021-06-01T00:00:00",
          "2021-07-01T00:00:00",
          "2021-08-01T00:00:00"
         ],
         "xaxis": "x",
         "y": [
          null,
          0.06859213651348961,
          -0.0182909402686523,
          -0.04298970679974301,
          0.05157246028446938,
          -0.03190079784279398,
          -0.001003153530514278,
          -0.08121685067380136,
          -0.015966584406640782,
          -0.02248787433020938,
          -0.10353705522399448,
          -0.027752121943490637,
          -0.2611145203845687,
          -0.0962574372642071,
          0.10069988889003434,
          -0.05602909475133466,
          0.007120763145928244,
          -0.021895963164373144,
          0.03220700955202105,
          -0.019928248476505095,
          -0.044994358781494825,
          -0.012192048390141763,
          -0.17437941848722371,
          -0.13362390873270968,
          0.10945314299727138,
          -0.10039652239145902,
          0.01320090239671634,
          0.037852177363642436,
          0.12569300375974501,
          0.031776582696480205,
          0.003736961783014525,
          -0.017570604312173943,
          0.017872487743957333,
          0.10099120548078733,
          -0.12703281184492443,
          0.2670618270057088,
          -0.05104483566904072,
          -0.24256470897385318,
          0.13303404777929728,
          0.10115497201366508,
          0.058188552488156464,
          -0.08734200499277467,
          0.036082830423362244,
          -0.07365969697979691,
          -0.033947524734660006,
          -0.028227885051328783,
          0.060632980967117556,
          -0.07923327689165505,
          0.13880526687783767,
          -0.23916466491202282,
          0.17986948246170487,
          -0.030004481147172468,
          0.06533661556331305,
          0.029054100097262836,
          -0.07824191965710459,
          0.0885603072180623,
          -0.08142144039934407,
          0.28628718853074986,
          0.2026384072063685,
          0.020996943135562995,
          -0.098620030849772,
          0.11258940491537239,
          0.031000783472856286,
          -0.12567392452045933,
          -0.015370117929055183,
          -0.16532246824564256,
          0.03886207913793416,
          0.01137465642965374,
          -0.08807200449233377,
          -0.041448579943184294,
          0.05446468613262345,
          -0.03008166995223338,
          -0.16135435739723814,
          -0.2130376106663655,
          -0.1541507299466699,
          -0.10981965629610224,
          0.44929229815294214,
          -0.08472791298481441,
          -0.0013304088310417406,
          0.4409339670195227,
          -0.028116840119443487,
          0.05897892416169581,
          0.23005395825366226,
          -0.06685581762558135,
          -0.1112415459703543,
          1.9725716053643119,
          -0.35389862533325844,
          -0.06507125154894733,
          0.13307377524479103,
          -0.12016165822503966,
          0,
          0
         ],
         "yaxis": "y"
        },
        {
         "hovertemplate": "variable=Unemployment_percent_change<br>Time=%{x}<br>value=%{y}<extra></extra>",
         "legendgroup": "Unemployment_percent_change",
         "line": {
          "color": "#EF553B",
          "dash": "solid"
         },
         "mode": "lines",
         "name": "Unemployment_percent_change",
         "orientation": "v",
         "showlegend": true,
         "type": "scatter",
         "x": [
          "2014-01-01T00:00:00",
          "2014-02-01T00:00:00",
          "2014-03-01T00:00:00",
          "2014-04-01T00:00:00",
          "2014-05-01T00:00:00",
          "2014-06-01T00:00:00",
          "2014-07-01T00:00:00",
          "2014-08-01T00:00:00",
          "2014-09-01T00:00:00",
          "2014-10-01T00:00:00",
          "2014-11-01T00:00:00",
          "2014-12-01T00:00:00",
          "2015-01-01T00:00:00",
          "2015-02-01T00:00:00",
          "2015-03-01T00:00:00",
          "2015-04-01T00:00:00",
          "2015-05-01T00:00:00",
          "2015-06-01T00:00:00",
          "2015-07-01T00:00:00",
          "2015-08-01T00:00:00",
          "2015-09-01T00:00:00",
          "2015-10-01T00:00:00",
          "2015-11-01T00:00:00",
          "2015-12-01T00:00:00",
          "2016-01-01T00:00:00",
          "2016-02-01T00:00:00",
          "2016-03-01T00:00:00",
          "2016-04-01T00:00:00",
          "2016-05-01T00:00:00",
          "2016-06-01T00:00:00",
          "2016-07-01T00:00:00",
          "2016-08-01T00:00:00",
          "2016-09-01T00:00:00",
          "2016-10-01T00:00:00",
          "2016-11-01T00:00:00",
          "2016-12-01T00:00:00",
          "2017-01-01T00:00:00",
          "2017-02-01T00:00:00",
          "2017-03-01T00:00:00",
          "2017-04-01T00:00:00",
          "2017-05-01T00:00:00",
          "2017-06-01T00:00:00",
          "2017-07-01T00:00:00",
          "2017-08-01T00:00:00",
          "2017-09-01T00:00:00",
          "2017-10-01T00:00:00",
          "2017-11-01T00:00:00",
          "2017-12-01T00:00:00",
          "2018-01-01T00:00:00",
          "2018-02-01T00:00:00",
          "2018-03-01T00:00:00",
          "2018-04-01T00:00:00",
          "2018-05-01T00:00:00",
          "2018-06-01T00:00:00",
          "2018-07-01T00:00:00",
          "2018-08-01T00:00:00",
          "2018-09-01T00:00:00",
          "2018-10-01T00:00:00",
          "2018-11-01T00:00:00",
          "2018-12-01T00:00:00",
          "2019-01-01T00:00:00",
          "2019-02-01T00:00:00",
          "2019-03-01T00:00:00",
          "2019-04-01T00:00:00",
          "2019-05-01T00:00:00",
          "2019-06-01T00:00:00",
          "2019-07-01T00:00:00",
          "2019-08-01T00:00:00",
          "2019-09-01T00:00:00",
          "2019-10-01T00:00:00",
          "2019-11-01T00:00:00",
          "2019-12-01T00:00:00",
          "2020-01-01T00:00:00",
          "2020-02-01T00:00:00",
          "2020-03-01T00:00:00",
          "2020-04-01T00:00:00",
          "2020-05-01T00:00:00",
          "2020-06-01T00:00:00",
          "2020-07-01T00:00:00",
          "2020-08-01T00:00:00",
          "2020-09-01T00:00:00",
          "2020-10-01T00:00:00",
          "2020-11-01T00:00:00",
          "2020-12-01T00:00:00",
          "2021-01-01T00:00:00",
          "2021-02-01T00:00:00",
          "2021-03-01T00:00:00",
          "2021-04-01T00:00:00",
          "2021-05-01T00:00:00",
          "2021-06-01T00:00:00",
          "2021-07-01T00:00:00",
          "2021-08-01T00:00:00"
         ],
         "xaxis": "x",
         "y": [
          null,
          -0.01754385964912686,
          -0.017857142857142794,
          -0.018181818181818743,
          -0.01851851851852193,
          -0.01886792452829389,
          0,
          -0.019230769230771605,
          -0.019607843137256498,
          -0.02000000000000257,
          -0.020408163265307366,
          -0.041666666666659635,
          0,
          -0.021739130434785925,
          0,
          0,
          -0.022222222222225696,
          0,
          0,
          0.02272727272727626,
          0,
          0,
          0,
          0,
          0,
          -0.022222222222225696,
          0.02272727272727626,
          0,
          0.022222222222225696,
          0.02173913043478315,
          0,
          0,
          0.021276595744672777,
          0,
          0,
          0,
          0,
          -0.0208333333333256,
          -0.021276595744681437,
          -0.021739130434785925,
          -0.022222222222225696,
          -0.02272727272727293,
          -0.023255813953481197,
          0,
          -0.023809523809523836,
          0,
          0,
          0,
          0,
          -0.024390243902442488,
          0,
          0,
          -0.025000000000003575,
          0,
          -0.025641025641025217,
          0,
          0,
          0,
          0,
          0,
          -0.026315789473678075,
          -0.027027027027026196,
          -0.027777777777781565,
          0,
          -0.028571428571432356,
          0,
          0.029411764705886467,
          0,
          0,
          0,
          0,
          0,
          0.028571428571432467,
          0.027777777777777013,
          0.3243243243243168,
          1.6326530612245072,
          -0.10077519379845667,
          -0.12068965517240882,
          -0.08823529411765163,
          -0.2580645161290279,
          0.14492753623188492,
          -0.0759493670886141,
          -0.013698630136978807,
          -0.04166666666666796,
          -0.014492753623194798,
          0.014705882352947786,
          0,
          -0.028985507246375386,
          -0.014925373134334396,
          -0.01515151515151314,
          -0.04615384615384244,
          0
         ],
         "yaxis": "y"
        },
        {
         "hovertemplate": "variable=zori_diff<br>Time=%{x}<br>value=%{y}<extra></extra>",
         "legendgroup": "zori_diff",
         "line": {
          "color": "#00cc96",
          "dash": "solid"
         },
         "mode": "lines",
         "name": "zori_diff",
         "orientation": "v",
         "showlegend": true,
         "type": "scatter",
         "x": [
          "2014-01-01T00:00:00",
          "2014-02-01T00:00:00",
          "2014-03-01T00:00:00",
          "2014-04-01T00:00:00",
          "2014-05-01T00:00:00",
          "2014-06-01T00:00:00",
          "2014-07-01T00:00:00",
          "2014-08-01T00:00:00",
          "2014-09-01T00:00:00",
          "2014-10-01T00:00:00",
          "2014-11-01T00:00:00",
          "2014-12-01T00:00:00",
          "2015-01-01T00:00:00",
          "2015-02-01T00:00:00",
          "2015-03-01T00:00:00",
          "2015-04-01T00:00:00",
          "2015-05-01T00:00:00",
          "2015-06-01T00:00:00",
          "2015-07-01T00:00:00",
          "2015-08-01T00:00:00",
          "2015-09-01T00:00:00",
          "2015-10-01T00:00:00",
          "2015-11-01T00:00:00",
          "2015-12-01T00:00:00",
          "2016-01-01T00:00:00",
          "2016-02-01T00:00:00",
          "2016-03-01T00:00:00",
          "2016-04-01T00:00:00",
          "2016-05-01T00:00:00",
          "2016-06-01T00:00:00",
          "2016-07-01T00:00:00",
          "2016-08-01T00:00:00",
          "2016-09-01T00:00:00",
          "2016-10-01T00:00:00",
          "2016-11-01T00:00:00",
          "2016-12-01T00:00:00",
          "2017-01-01T00:00:00",
          "2017-02-01T00:00:00",
          "2017-03-01T00:00:00",
          "2017-04-01T00:00:00",
          "2017-05-01T00:00:00",
          "2017-06-01T00:00:00",
          "2017-07-01T00:00:00",
          "2017-08-01T00:00:00",
          "2017-09-01T00:00:00",
          "2017-10-01T00:00:00",
          "2017-11-01T00:00:00",
          "2017-12-01T00:00:00",
          "2018-01-01T00:00:00",
          "2018-02-01T00:00:00",
          "2018-03-01T00:00:00",
          "2018-04-01T00:00:00",
          "2018-05-01T00:00:00",
          "2018-06-01T00:00:00",
          "2018-07-01T00:00:00",
          "2018-08-01T00:00:00",
          "2018-09-01T00:00:00",
          "2018-10-01T00:00:00",
          "2018-11-01T00:00:00",
          "2018-12-01T00:00:00",
          "2019-01-01T00:00:00",
          "2019-02-01T00:00:00",
          "2019-03-01T00:00:00",
          "2019-04-01T00:00:00",
          "2019-05-01T00:00:00",
          "2019-06-01T00:00:00",
          "2019-07-01T00:00:00",
          "2019-08-01T00:00:00",
          "2019-09-01T00:00:00",
          "2019-10-01T00:00:00",
          "2019-11-01T00:00:00",
          "2019-12-01T00:00:00",
          "2020-01-01T00:00:00",
          "2020-02-01T00:00:00",
          "2020-03-01T00:00:00",
          "2020-04-01T00:00:00",
          "2020-05-01T00:00:00",
          "2020-06-01T00:00:00",
          "2020-07-01T00:00:00",
          "2020-08-01T00:00:00",
          "2020-09-01T00:00:00",
          "2020-10-01T00:00:00",
          "2020-11-01T00:00:00",
          "2020-12-01T00:00:00",
          "2021-01-01T00:00:00",
          "2021-02-01T00:00:00",
          "2021-03-01T00:00:00",
          "2021-04-01T00:00:00",
          "2021-05-01T00:00:00",
          "2021-06-01T00:00:00",
          "2021-07-01T00:00:00",
          "2021-08-01T00:00:00"
         ],
         "xaxis": "x",
         "y": [
          null,
          3.858914728682066,
          4.686821705426382,
          4.756589147286832,
          4.692248062015551,
          4.751937984495953,
          4.7666666666666515,
          4.829457364341351,
          4.903875968991997,
          4.841472868217124,
          4.8724806201548745,
          4.7085271317830575,
          4.594019933555046,
          4.285880398670997,
          4.223089700996752,
          4.179291251384029,
          4.069988925803273,
          4.038205980066095,
          4.051384274640441,
          3.972093023255411,
          3.8453488372097127,
          3.9461240310074572,
          3.7430232558140233,
          3.737441860464969,
          3.719534883721053,
          3.421085271317679,
          3.392403100775482,
          3.4226356589142597,
          3.1103875968995,
          3.118604651162741,
          3.0930232558139323,
          3.018604651162832,
          3.046511627906966,
          3.005426356589396,
          2.94728682170512,
          2.9775193798450346,
          2.934883720930202,
          2.953488372093034,
          2.934883720930202,
          2.975968992248454,
          3.0596899224801746,
          3.0434108527133503,
          3.041860465116315,
          3.0279069767441342,
          3.041860465116315,
          3.0279069767441342,
          3.0069767441859767,
          3.035658914728856,
          3.0891472868215715,
          3.29147286821717,
          3.3953488372092124,
          3.300775193798245,
          3.644961240310522,
          3.5937984496122226,
          3.6666666666667425,
          3.7224806201547835,
          3.7317829457365406,
          3.7116279069766733,
          3.8325581395349673,
          3.7813953488371226,
          3.8186046511627865,
          3.744186046511686,
          3.767441860465169,
          3.690697674418516,
          3.6720930232559112,
          3.683720930232539,
          3.6697674418605857,
          3.1813953488372135,
          3.2279069767441797,
          3.13488372093002,
          2.1593023255813932,
          2.059302325581484,
          2.0825581395349673,
          1.9500000000000455,
          1.9457364341085395,
          2.003100775193616,
          2.8124031007753274,
          2.8248062015502455,
          2.867441860465078,
          5.737209302325709,
          5.981395348837168,
          5.953488372093034,
          10.255813953488314,
          10.348837209302474,
          10.381395348837032,
          10.869767441860631,
          10.809302325581257,
          10.869767441860631,
          11.45581395348836,
          11.441860465116179,
          11.465116279069889,
          null
         ],
         "yaxis": "y"
        },
        {
         "hovertemplate": "variable=Retail_gas_price_differenced<br>Time=%{x}<br>value=%{y}<extra></extra>",
         "legendgroup": "Retail_gas_price_differenced",
         "line": {
          "color": "#ab63fa",
          "dash": "solid"
         },
         "mode": "lines",
         "name": "Retail_gas_price_differenced",
         "orientation": "v",
         "showlegend": true,
         "type": "scatter",
         "x": [
          "2014-01-01T00:00:00",
          "2014-02-01T00:00:00",
          "2014-03-01T00:00:00",
          "2014-04-01T00:00:00",
          "2014-05-01T00:00:00",
          "2014-06-01T00:00:00",
          "2014-07-01T00:00:00",
          "2014-08-01T00:00:00",
          "2014-09-01T00:00:00",
          "2014-10-01T00:00:00",
          "2014-11-01T00:00:00",
          "2014-12-01T00:00:00",
          "2015-01-01T00:00:00",
          "2015-02-01T00:00:00",
          "2015-03-01T00:00:00",
          "2015-04-01T00:00:00",
          "2015-05-01T00:00:00",
          "2015-06-01T00:00:00",
          "2015-07-01T00:00:00",
          "2015-08-01T00:00:00",
          "2015-09-01T00:00:00",
          "2015-10-01T00:00:00",
          "2015-11-01T00:00:00",
          "2015-12-01T00:00:00",
          "2016-01-01T00:00:00",
          "2016-02-01T00:00:00",
          "2016-03-01T00:00:00",
          "2016-04-01T00:00:00",
          "2016-05-01T00:00:00",
          "2016-06-01T00:00:00",
          "2016-07-01T00:00:00",
          "2016-08-01T00:00:00",
          "2016-09-01T00:00:00",
          "2016-10-01T00:00:00",
          "2016-11-01T00:00:00",
          "2016-12-01T00:00:00",
          "2017-01-01T00:00:00",
          "2017-02-01T00:00:00",
          "2017-03-01T00:00:00",
          "2017-04-01T00:00:00",
          "2017-05-01T00:00:00",
          "2017-06-01T00:00:00",
          "2017-07-01T00:00:00",
          "2017-08-01T00:00:00",
          "2017-09-01T00:00:00",
          "2017-10-01T00:00:00",
          "2017-11-01T00:00:00",
          "2017-12-01T00:00:00",
          "2018-01-01T00:00:00",
          "2018-02-01T00:00:00",
          "2018-03-01T00:00:00",
          "2018-04-01T00:00:00",
          "2018-05-01T00:00:00",
          "2018-06-01T00:00:00",
          "2018-07-01T00:00:00",
          "2018-08-01T00:00:00",
          "2018-09-01T00:00:00",
          "2018-10-01T00:00:00",
          "2018-11-01T00:00:00",
          "2018-12-01T00:00:00",
          "2019-01-01T00:00:00",
          "2019-02-01T00:00:00",
          "2019-03-01T00:00:00",
          "2019-04-01T00:00:00",
          "2019-05-01T00:00:00",
          "2019-06-01T00:00:00",
          "2019-07-01T00:00:00",
          "2019-08-01T00:00:00",
          "2019-09-01T00:00:00",
          "2019-10-01T00:00:00",
          "2019-11-01T00:00:00",
          "2019-12-01T00:00:00",
          "2020-01-01T00:00:00",
          "2020-02-01T00:00:00",
          "2020-03-01T00:00:00",
          "2020-04-01T00:00:00",
          "2020-05-01T00:00:00",
          "2020-06-01T00:00:00",
          "2020-07-01T00:00:00",
          "2020-08-01T00:00:00",
          "2020-09-01T00:00:00",
          "2020-10-01T00:00:00",
          "2020-11-01T00:00:00",
          "2020-12-01T00:00:00",
          "2021-01-01T00:00:00",
          "2021-02-01T00:00:00",
          "2021-03-01T00:00:00",
          "2021-04-01T00:00:00",
          "2021-05-01T00:00:00",
          "2021-06-01T00:00:00",
          "2021-07-01T00:00:00",
          "2021-08-01T00:00:00"
         ],
         "xaxis": "x",
         "y": [
          null,
          0.025999999999989587,
          0.16200000000002346,
          0.16800000000000548,
          -0.019000000000005457,
          0.027999999999997804,
          -0.04000000000001558,
          -0.14899999999999824,
          -0.08999999999999098,
          -0.2280000000000162,
          -0.2779999999999885,
          -0.39000000000001256,
          -0.41499999999998205,
          0.11599999999999011,
          0.21600000000000685,
          0.02100000000000346,
          0.20499999999999563,
          0.11200000000000676,
          -0.040000000000004476,
          -0.18500000000000183,
          -0.2680000000000127,
          -0.06000000000000982,
          -0.1119999999999759,
          -0.10500000000001242,
          -0.09499999999999043,
          -0.14500000000000268,
          0.20800000000000507,
          0.1329999999999869,
          0.13300000000001777,
          0.10699999999998777,
          -0.08699999999999086,
          -0.07400000000001028,
          -0.0029999999999903437,
          0.05399999999999028,
          -0.07599999999999163,
          0.07399999999998563,
          0.11400000000001498,
          -0.06400000000000805,
          0.013999999999998458,
          0.1260000000000172,
          -0.034000000000018904,
          -0.03899999999999881,
          -0.07899999999999796,
          0.09800000000000075,
          0.3500000000000112,
          -0.21800000000000708,
          -0.02499999999999103,
          -0.07500000000001661,
          0.09099999999999708,
          0.010000000000001119,
          0.026000000000000245,
          0.17200000000001836,
          0.1799999999999944,
          0.03799999999998205,
          -0.0889999999999933,
          -0.03999999999998849,
          -0.01600000000000934,
          0.014000000000006896,
          -0.26200000000000045,
          -0.31200000000000805,
          -0.09600000000000253,
          0.10500000000001286,
          0.2529999999999899,
          0.2610000000000081,
          0.012999999999992351,
          -0.1659999999999986,
          0.08100000000001151,
          -0.11599999999999477,
          -0.04800000000000226,
          -0.035000000000010356,
          -0.024999999999991473,
          -0.013999999999999346,
          0.006999999999997009,
          -0.13300000000001333,
          -0.15600000000000214,
          -0.4099999999999866,
          -0.033000000000009466,
          0.2430000000000052,
          0.12999999999999545,
          -0.015999999999991577,
          -0.006999999999995454,
          -0.036000000000001364,
          -0.06499999999999795,
          0.11999999999999478,
          0.15399999999999792,
          0.1750000000000087,
          0.3279999999999865,
          0.017999999999989136,
          0.13800000000001944,
          0.04199999999999138,
          0.07500000000000773,
          0.0060000000000011156
         ],
         "yaxis": "y"
        },
        {
         "hovertemplate": "variable=Gross_Value_Crude_Oil_Production_percent_change<br>Time=%{x}<br>value=%{y}<extra></extra>",
         "legendgroup": "Gross_Value_Crude_Oil_Production_percent_change",
         "line": {
          "color": "#FFA15A",
          "dash": "solid"
         },
         "mode": "lines",
         "name": "Gross_Value_Crude_Oil_Production_percent_change",
         "orientation": "v",
         "showlegend": true,
         "type": "scatter",
         "x": [
          "2014-01-01T00:00:00",
          "2014-02-01T00:00:00",
          "2014-03-01T00:00:00",
          "2014-04-01T00:00:00",
          "2014-05-01T00:00:00",
          "2014-06-01T00:00:00",
          "2014-07-01T00:00:00",
          "2014-08-01T00:00:00",
          "2014-09-01T00:00:00",
          "2014-10-01T00:00:00",
          "2014-11-01T00:00:00",
          "2014-12-01T00:00:00",
          "2015-01-01T00:00:00",
          "2015-02-01T00:00:00",
          "2015-03-01T00:00:00",
          "2015-04-01T00:00:00",
          "2015-05-01T00:00:00",
          "2015-06-01T00:00:00",
          "2015-07-01T00:00:00",
          "2015-08-01T00:00:00",
          "2015-09-01T00:00:00",
          "2015-10-01T00:00:00",
          "2015-11-01T00:00:00",
          "2015-12-01T00:00:00",
          "2016-01-01T00:00:00",
          "2016-02-01T00:00:00",
          "2016-03-01T00:00:00",
          "2016-04-01T00:00:00",
          "2016-05-01T00:00:00",
          "2016-06-01T00:00:00",
          "2016-07-01T00:00:00",
          "2016-08-01T00:00:00",
          "2016-09-01T00:00:00",
          "2016-10-01T00:00:00",
          "2016-11-01T00:00:00",
          "2016-12-01T00:00:00",
          "2017-01-01T00:00:00",
          "2017-02-01T00:00:00",
          "2017-03-01T00:00:00",
          "2017-04-01T00:00:00",
          "2017-05-01T00:00:00",
          "2017-06-01T00:00:00",
          "2017-07-01T00:00:00",
          "2017-08-01T00:00:00",
          "2017-09-01T00:00:00",
          "2017-10-01T00:00:00",
          "2017-11-01T00:00:00",
          "2017-12-01T00:00:00",
          "2018-01-01T00:00:00",
          "2018-02-01T00:00:00",
          "2018-03-01T00:00:00",
          "2018-04-01T00:00:00",
          "2018-05-01T00:00:00",
          "2018-06-01T00:00:00",
          "2018-07-01T00:00:00",
          "2018-08-01T00:00:00",
          "2018-09-01T00:00:00",
          "2018-10-01T00:00:00",
          "2018-11-01T00:00:00",
          "2018-12-01T00:00:00",
          "2019-01-01T00:00:00",
          "2019-02-01T00:00:00",
          "2019-03-01T00:00:00",
          "2019-04-01T00:00:00",
          "2019-05-01T00:00:00",
          "2019-06-01T00:00:00",
          "2019-07-01T00:00:00",
          "2019-08-01T00:00:00",
          "2019-09-01T00:00:00",
          "2019-10-01T00:00:00",
          "2019-11-01T00:00:00",
          "2019-12-01T00:00:00",
          "2020-01-01T00:00:00",
          "2020-02-01T00:00:00",
          "2020-03-01T00:00:00",
          "2020-04-01T00:00:00",
          "2020-05-01T00:00:00",
          "2020-06-01T00:00:00",
          "2020-07-01T00:00:00",
          "2020-08-01T00:00:00",
          "2020-09-01T00:00:00",
          "2020-10-01T00:00:00",
          "2020-11-01T00:00:00",
          "2020-12-01T00:00:00",
          "2021-01-01T00:00:00",
          "2021-02-01T00:00:00",
          "2021-03-01T00:00:00",
          "2021-04-01T00:00:00",
          "2021-05-01T00:00:00",
          "2021-06-01T00:00:00",
          "2021-07-01T00:00:00",
          "2021-08-01T00:00:00"
         ],
         "xaxis": "x",
         "y": [
          null,
          -0.023806093275025364,
          0.1285924103751379,
          0.008321131571325413,
          0.016609191894525033,
          0.037822672840579274,
          0.03970554383157032,
          -0.04905306499064421,
          -0.07087001941828697,
          -0.041070711682422045,
          -0.11466691840523113,
          -0.17802365922068275,
          -0.23265432737048963,
          -0.040950129240119204,
          0.11250737659060173,
          0.11191992302763043,
          0.10188757176491059,
          -0.017334637788731455,
          -0.12307293246132012,
          -0.18428418870805696,
          0.03948817354532408,
          0.03893202414207364,
          -0.19262684643625994,
          -0.14575127822491374,
          -0.08900208696523915,
          -0.1154898031356889,
          0.325016992523288,
          0.04801180178368414,
          0.180200268731199,
          0.026280336236510715,
          -0.055879261070997055,
          0.0034214958343328217,
          -0.02452400402599464,
          0.1586432791327228,
          -0.11049933642181375,
          0.19937656690258332,
          0.02749747962893001,
          -0.04250081013935225,
          0.039089785231815055,
          -0.01403031797229315,
          0.022818878165496326,
          -0.0879472836643046,
          0.06614844360942795,
          0.005547290362019064,
          0.05719004472989542,
          0.14592889286195154,
          0.12843234154709782,
          0.068282189647769,
          0.09391953658298724,
          -0.09342141725906983,
          0.13296789796528974,
          0.026311669285436823,
          0.06586213002438424,
          -0.07799377399287488,
          0.11697565600172699,
          -0.05573472277199254,
          -0.010532568172585965,
          0.0666531200943421,
          -0.14219848221678477,
          -0.10331829087915934,
          0.007175937541984645,
          0.022703602746419804,
          0.22178061912439562,
          0.08518074040345058,
          -0.04263308615752104,
          -0.12287667637328747,
          0.11663507182592303,
          -0.042596251448972056,
          0.026393550414449685,
          0.004503635325173727,
          0.03196806651018136,
          0.08935192768751032,
          -0.03797849036098455,
          -0.18999881586737954,
          -0.3605269236279397,
          -0.5365144972098348,
          -0.053338726065633946,
          1.1838606143970432,
          0.1700942874048128,
          0.033957401343291505,
          -0.11426723355920132,
          0.03485710723414681,
          0.025591432087499033,
          0.1793752451756765,
          0.12476721207669517,
          -0.17032918374576822,
          0.5207626504830076,
          -0.05445072374944049,
          0.0865120656402727,
          0.052028777048630515,
          0.034253787421948845,
          0
         ],
         "yaxis": "y"
        }
       ],
       "layout": {
        "height": 600,
        "legend": {
         "title": {
          "text": "variable"
         },
         "tracegroupgap": 0
        },
        "template": {
         "data": {
          "bar": [
           {
            "error_x": {
             "color": "#2a3f5f"
            },
            "error_y": {
             "color": "#2a3f5f"
            },
            "marker": {
             "line": {
              "color": "#E5ECF6",
              "width": 0.5
             }
            },
            "type": "bar"
           }
          ],
          "barpolar": [
           {
            "marker": {
             "line": {
              "color": "#E5ECF6",
              "width": 0.5
             }
            },
            "type": "barpolar"
           }
          ],
          "carpet": [
           {
            "aaxis": {
             "endlinecolor": "#2a3f5f",
             "gridcolor": "white",
             "linecolor": "white",
             "minorgridcolor": "white",
             "startlinecolor": "#2a3f5f"
            },
            "baxis": {
             "endlinecolor": "#2a3f5f",
             "gridcolor": "white",
             "linecolor": "white",
             "minorgridcolor": "white",
             "startlinecolor": "#2a3f5f"
            },
            "type": "carpet"
           }
          ],
          "choropleth": [
           {
            "colorbar": {
             "outlinewidth": 0,
             "ticks": ""
            },
            "type": "choropleth"
           }
          ],
          "contour": [
           {
            "colorbar": {
             "outlinewidth": 0,
             "ticks": ""
            },
            "colorscale": [
             [
              0,
              "#0d0887"
             ],
             [
              0.1111111111111111,
              "#46039f"
             ],
             [
              0.2222222222222222,
              "#7201a8"
             ],
             [
              0.3333333333333333,
              "#9c179e"
             ],
             [
              0.4444444444444444,
              "#bd3786"
             ],
             [
              0.5555555555555556,
              "#d8576b"
             ],
             [
              0.6666666666666666,
              "#ed7953"
             ],
             [
              0.7777777777777778,
              "#fb9f3a"
             ],
             [
              0.8888888888888888,
              "#fdca26"
             ],
             [
              1,
              "#f0f921"
             ]
            ],
            "type": "contour"
           }
          ],
          "contourcarpet": [
           {
            "colorbar": {
             "outlinewidth": 0,
             "ticks": ""
            },
            "type": "contourcarpet"
           }
          ],
          "heatmap": [
           {
            "colorbar": {
             "outlinewidth": 0,
             "ticks": ""
            },
            "colorscale": [
             [
              0,
              "#0d0887"
             ],
             [
              0.1111111111111111,
              "#46039f"
             ],
             [
              0.2222222222222222,
              "#7201a8"
             ],
             [
              0.3333333333333333,
              "#9c179e"
             ],
             [
              0.4444444444444444,
              "#bd3786"
             ],
             [
              0.5555555555555556,
              "#d8576b"
             ],
             [
              0.6666666666666666,
              "#ed7953"
             ],
             [
              0.7777777777777778,
              "#fb9f3a"
             ],
             [
              0.8888888888888888,
              "#fdca26"
             ],
             [
              1,
              "#f0f921"
             ]
            ],
            "type": "heatmap"
           }
          ],
          "heatmapgl": [
           {
            "colorbar": {
             "outlinewidth": 0,
             "ticks": ""
            },
            "colorscale": [
             [
              0,
              "#0d0887"
             ],
             [
              0.1111111111111111,
              "#46039f"
             ],
             [
              0.2222222222222222,
              "#7201a8"
             ],
             [
              0.3333333333333333,
              "#9c179e"
             ],
             [
              0.4444444444444444,
              "#bd3786"
             ],
             [
              0.5555555555555556,
              "#d8576b"
             ],
             [
              0.6666666666666666,
              "#ed7953"
             ],
             [
              0.7777777777777778,
              "#fb9f3a"
             ],
             [
              0.8888888888888888,
              "#fdca26"
             ],
             [
              1,
              "#f0f921"
             ]
            ],
            "type": "heatmapgl"
           }
          ],
          "histogram": [
           {
            "marker": {
             "colorbar": {
              "outlinewidth": 0,
              "ticks": ""
             }
            },
            "type": "histogram"
           }
          ],
          "histogram2d": [
           {
            "colorbar": {
             "outlinewidth": 0,
             "ticks": ""
            },
            "colorscale": [
             [
              0,
              "#0d0887"
             ],
             [
              0.1111111111111111,
              "#46039f"
             ],
             [
              0.2222222222222222,
              "#7201a8"
             ],
             [
              0.3333333333333333,
              "#9c179e"
             ],
             [
              0.4444444444444444,
              "#bd3786"
             ],
             [
              0.5555555555555556,
              "#d8576b"
             ],
             [
              0.6666666666666666,
              "#ed7953"
             ],
             [
              0.7777777777777778,
              "#fb9f3a"
             ],
             [
              0.8888888888888888,
              "#fdca26"
             ],
             [
              1,
              "#f0f921"
             ]
            ],
            "type": "histogram2d"
           }
          ],
          "histogram2dcontour": [
           {
            "colorbar": {
             "outlinewidth": 0,
             "ticks": ""
            },
            "colorscale": [
             [
              0,
              "#0d0887"
             ],
             [
              0.1111111111111111,
              "#46039f"
             ],
             [
              0.2222222222222222,
              "#7201a8"
             ],
             [
              0.3333333333333333,
              "#9c179e"
             ],
             [
              0.4444444444444444,
              "#bd3786"
             ],
             [
              0.5555555555555556,
              "#d8576b"
             ],
             [
              0.6666666666666666,
              "#ed7953"
             ],
             [
              0.7777777777777778,
              "#fb9f3a"
             ],
             [
              0.8888888888888888,
              "#fdca26"
             ],
             [
              1,
              "#f0f921"
             ]
            ],
            "type": "histogram2dcontour"
           }
          ],
          "mesh3d": [
           {
            "colorbar": {
             "outlinewidth": 0,
             "ticks": ""
            },
            "type": "mesh3d"
           }
          ],
          "parcoords": [
           {
            "line": {
             "colorbar": {
              "outlinewidth": 0,
              "ticks": ""
             }
            },
            "type": "parcoords"
           }
          ],
          "pie": [
           {
            "automargin": true,
            "type": "pie"
           }
          ],
          "scatter": [
           {
            "marker": {
             "colorbar": {
              "outlinewidth": 0,
              "ticks": ""
             }
            },
            "type": "scatter"
           }
          ],
          "scatter3d": [
           {
            "line": {
             "colorbar": {
              "outlinewidth": 0,
              "ticks": ""
             }
            },
            "marker": {
             "colorbar": {
              "outlinewidth": 0,
              "ticks": ""
             }
            },
            "type": "scatter3d"
           }
          ],
          "scattercarpet": [
           {
            "marker": {
             "colorbar": {
              "outlinewidth": 0,
              "ticks": ""
             }
            },
            "type": "scattercarpet"
           }
          ],
          "scattergeo": [
           {
            "marker": {
             "colorbar": {
              "outlinewidth": 0,
              "ticks": ""
             }
            },
            "type": "scattergeo"
           }
          ],
          "scattergl": [
           {
            "marker": {
             "colorbar": {
              "outlinewidth": 0,
              "ticks": ""
             }
            },
            "type": "scattergl"
           }
          ],
          "scattermapbox": [
           {
            "marker": {
             "colorbar": {
              "outlinewidth": 0,
              "ticks": ""
             }
            },
            "type": "scattermapbox"
           }
          ],
          "scatterpolar": [
           {
            "marker": {
             "colorbar": {
              "outlinewidth": 0,
              "ticks": ""
             }
            },
            "type": "scatterpolar"
           }
          ],
          "scatterpolargl": [
           {
            "marker": {
             "colorbar": {
              "outlinewidth": 0,
              "ticks": ""
             }
            },
            "type": "scatterpolargl"
           }
          ],
          "scatterternary": [
           {
            "marker": {
             "colorbar": {
              "outlinewidth": 0,
              "ticks": ""
             }
            },
            "type": "scatterternary"
           }
          ],
          "surface": [
           {
            "colorbar": {
             "outlinewidth": 0,
             "ticks": ""
            },
            "colorscale": [
             [
              0,
              "#0d0887"
             ],
             [
              0.1111111111111111,
              "#46039f"
             ],
             [
              0.2222222222222222,
              "#7201a8"
             ],
             [
              0.3333333333333333,
              "#9c179e"
             ],
             [
              0.4444444444444444,
              "#bd3786"
             ],
             [
              0.5555555555555556,
              "#d8576b"
             ],
             [
              0.6666666666666666,
              "#ed7953"
             ],
             [
              0.7777777777777778,
              "#fb9f3a"
             ],
             [
              0.8888888888888888,
              "#fdca26"
             ],
             [
              1,
              "#f0f921"
             ]
            ],
            "type": "surface"
           }
          ],
          "table": [
           {
            "cells": {
             "fill": {
              "color": "#EBF0F8"
             },
             "line": {
              "color": "white"
             }
            },
            "header": {
             "fill": {
              "color": "#C8D4E3"
             },
             "line": {
              "color": "white"
             }
            },
            "type": "table"
           }
          ]
         },
         "layout": {
          "annotationdefaults": {
           "arrowcolor": "#2a3f5f",
           "arrowhead": 0,
           "arrowwidth": 1
          },
          "autotypenumbers": "strict",
          "coloraxis": {
           "colorbar": {
            "outlinewidth": 0,
            "ticks": ""
           }
          },
          "colorscale": {
           "diverging": [
            [
             0,
             "#8e0152"
            ],
            [
             0.1,
             "#c51b7d"
            ],
            [
             0.2,
             "#de77ae"
            ],
            [
             0.3,
             "#f1b6da"
            ],
            [
             0.4,
             "#fde0ef"
            ],
            [
             0.5,
             "#f7f7f7"
            ],
            [
             0.6,
             "#e6f5d0"
            ],
            [
             0.7,
             "#b8e186"
            ],
            [
             0.8,
             "#7fbc41"
            ],
            [
             0.9,
             "#4d9221"
            ],
            [
             1,
             "#276419"
            ]
           ],
           "sequential": [
            [
             0,
             "#0d0887"
            ],
            [
             0.1111111111111111,
             "#46039f"
            ],
            [
             0.2222222222222222,
             "#7201a8"
            ],
            [
             0.3333333333333333,
             "#9c179e"
            ],
            [
             0.4444444444444444,
             "#bd3786"
            ],
            [
             0.5555555555555556,
             "#d8576b"
            ],
            [
             0.6666666666666666,
             "#ed7953"
            ],
            [
             0.7777777777777778,
             "#fb9f3a"
            ],
            [
             0.8888888888888888,
             "#fdca26"
            ],
            [
             1,
             "#f0f921"
            ]
           ],
           "sequentialminus": [
            [
             0,
             "#0d0887"
            ],
            [
             0.1111111111111111,
             "#46039f"
            ],
            [
             0.2222222222222222,
             "#7201a8"
            ],
            [
             0.3333333333333333,
             "#9c179e"
            ],
            [
             0.4444444444444444,
             "#bd3786"
            ],
            [
             0.5555555555555556,
             "#d8576b"
            ],
            [
             0.6666666666666666,
             "#ed7953"
            ],
            [
             0.7777777777777778,
             "#fb9f3a"
            ],
            [
             0.8888888888888888,
             "#fdca26"
            ],
            [
             1,
             "#f0f921"
            ]
           ]
          },
          "colorway": [
           "#636efa",
           "#EF553B",
           "#00cc96",
           "#ab63fa",
           "#FFA15A",
           "#19d3f3",
           "#FF6692",
           "#B6E880",
           "#FF97FF",
           "#FECB52"
          ],
          "font": {
           "color": "#2a3f5f"
          },
          "geo": {
           "bgcolor": "white",
           "lakecolor": "white",
           "landcolor": "#E5ECF6",
           "showlakes": true,
           "showland": true,
           "subunitcolor": "white"
          },
          "hoverlabel": {
           "align": "left"
          },
          "hovermode": "closest",
          "mapbox": {
           "style": "light"
          },
          "paper_bgcolor": "white",
          "plot_bgcolor": "#E5ECF6",
          "polar": {
           "angularaxis": {
            "gridcolor": "white",
            "linecolor": "white",
            "ticks": ""
           },
           "bgcolor": "#E5ECF6",
           "radialaxis": {
            "gridcolor": "white",
            "linecolor": "white",
            "ticks": ""
           }
          },
          "scene": {
           "xaxis": {
            "backgroundcolor": "#E5ECF6",
            "gridcolor": "white",
            "gridwidth": 2,
            "linecolor": "white",
            "showbackground": true,
            "ticks": "",
            "zerolinecolor": "white"
           },
           "yaxis": {
            "backgroundcolor": "#E5ECF6",
            "gridcolor": "white",
            "gridwidth": 2,
            "linecolor": "white",
            "showbackground": true,
            "ticks": "",
            "zerolinecolor": "white"
           },
           "zaxis": {
            "backgroundcolor": "#E5ECF6",
            "gridcolor": "white",
            "gridwidth": 2,
            "linecolor": "white",
            "showbackground": true,
            "ticks": "",
            "zerolinecolor": "white"
           }
          },
          "shapedefaults": {
           "line": {
            "color": "#2a3f5f"
           }
          },
          "ternary": {
           "aaxis": {
            "gridcolor": "white",
            "linecolor": "white",
            "ticks": ""
           },
           "baxis": {
            "gridcolor": "white",
            "linecolor": "white",
            "ticks": ""
           },
           "bgcolor": "#E5ECF6",
           "caxis": {
            "gridcolor": "white",
            "linecolor": "white",
            "ticks": ""
           }
          },
          "title": {
           "x": 0.05
          },
          "xaxis": {
           "automargin": true,
           "gridcolor": "white",
           "linecolor": "white",
           "ticks": "",
           "title": {
            "standoff": 15
           },
           "zerolinecolor": "white",
           "zerolinewidth": 2
          },
          "yaxis": {
           "automargin": true,
           "gridcolor": "white",
           "linecolor": "white",
           "ticks": "",
           "title": {
            "standoff": 15
           },
           "zerolinecolor": "white",
           "zerolinewidth": 2
          }
         }
        },
        "title": {
         "text": "Averaged-Differenced-Zori Trends"
        },
        "width": 1200,
        "xaxis": {
         "anchor": "y",
         "domain": [
          0,
          1
         ],
         "title": {
          "text": "Time"
         }
        },
        "yaxis": {
         "anchor": "x",
         "domain": [
          0,
          1
         ],
         "title": {
          "text": "value"
         }
        }
       }
      },
      "text/html": [
       "<div>                            <div id=\"834542fa-b666-4881-9a41-f5c3e8fde523\" class=\"plotly-graph-div\" style=\"height:600px; width:1200px;\"></div>            <script type=\"text/javascript\">                require([\"plotly\"], function(Plotly) {                    window.PLOTLYENV=window.PLOTLYENV || {};                                    if (document.getElementById(\"834542fa-b666-4881-9a41-f5c3e8fde523\")) {                    Plotly.newPlot(                        \"834542fa-b666-4881-9a41-f5c3e8fde523\",                        [{\"hovertemplate\": \"variable=Gross_Value_Natural_Gas_Production_percent_change<br>Time=%{x}<br>value=%{y}<extra></extra>\", \"legendgroup\": \"Gross_Value_Natural_Gas_Production_percent_change\", \"line\": {\"color\": \"#636efa\", \"dash\": \"solid\"}, \"mode\": \"lines\", \"name\": \"Gross_Value_Natural_Gas_Production_percent_change\", \"orientation\": \"v\", \"showlegend\": true, \"type\": \"scatter\", \"x\": [\"2014-01-01T00:00:00\", \"2014-02-01T00:00:00\", \"2014-03-01T00:00:00\", \"2014-04-01T00:00:00\", \"2014-05-01T00:00:00\", \"2014-06-01T00:00:00\", \"2014-07-01T00:00:00\", \"2014-08-01T00:00:00\", \"2014-09-01T00:00:00\", \"2014-10-01T00:00:00\", \"2014-11-01T00:00:00\", \"2014-12-01T00:00:00\", \"2015-01-01T00:00:00\", \"2015-02-01T00:00:00\", \"2015-03-01T00:00:00\", \"2015-04-01T00:00:00\", \"2015-05-01T00:00:00\", \"2015-06-01T00:00:00\", \"2015-07-01T00:00:00\", \"2015-08-01T00:00:00\", \"2015-09-01T00:00:00\", \"2015-10-01T00:00:00\", \"2015-11-01T00:00:00\", \"2015-12-01T00:00:00\", \"2016-01-01T00:00:00\", \"2016-02-01T00:00:00\", \"2016-03-01T00:00:00\", \"2016-04-01T00:00:00\", \"2016-05-01T00:00:00\", \"2016-06-01T00:00:00\", \"2016-07-01T00:00:00\", \"2016-08-01T00:00:00\", \"2016-09-01T00:00:00\", \"2016-10-01T00:00:00\", \"2016-11-01T00:00:00\", \"2016-12-01T00:00:00\", \"2017-01-01T00:00:00\", \"2017-02-01T00:00:00\", \"2017-03-01T00:00:00\", \"2017-04-01T00:00:00\", \"2017-05-01T00:00:00\", \"2017-06-01T00:00:00\", \"2017-07-01T00:00:00\", \"2017-08-01T00:00:00\", \"2017-09-01T00:00:00\", \"2017-10-01T00:00:00\", \"2017-11-01T00:00:00\", \"2017-12-01T00:00:00\", \"2018-01-01T00:00:00\", \"2018-02-01T00:00:00\", \"2018-03-01T00:00:00\", \"2018-04-01T00:00:00\", \"2018-05-01T00:00:00\", \"2018-06-01T00:00:00\", \"2018-07-01T00:00:00\", \"2018-08-01T00:00:00\", \"2018-09-01T00:00:00\", \"2018-10-01T00:00:00\", \"2018-11-01T00:00:00\", \"2018-12-01T00:00:00\", \"2019-01-01T00:00:00\", \"2019-02-01T00:00:00\", \"2019-03-01T00:00:00\", \"2019-04-01T00:00:00\", \"2019-05-01T00:00:00\", \"2019-06-01T00:00:00\", \"2019-07-01T00:00:00\", \"2019-08-01T00:00:00\", \"2019-09-01T00:00:00\", \"2019-10-01T00:00:00\", \"2019-11-01T00:00:00\", \"2019-12-01T00:00:00\", \"2020-01-01T00:00:00\", \"2020-02-01T00:00:00\", \"2020-03-01T00:00:00\", \"2020-04-01T00:00:00\", \"2020-05-01T00:00:00\", \"2020-06-01T00:00:00\", \"2020-07-01T00:00:00\", \"2020-08-01T00:00:00\", \"2020-09-01T00:00:00\", \"2020-10-01T00:00:00\", \"2020-11-01T00:00:00\", \"2020-12-01T00:00:00\", \"2021-01-01T00:00:00\", \"2021-02-01T00:00:00\", \"2021-03-01T00:00:00\", \"2021-04-01T00:00:00\", \"2021-05-01T00:00:00\", \"2021-06-01T00:00:00\", \"2021-07-01T00:00:00\", \"2021-08-01T00:00:00\"], \"xaxis\": \"x\", \"y\": [null, 0.06859213651348961, -0.0182909402686523, -0.04298970679974301, 0.05157246028446938, -0.03190079784279398, -0.001003153530514278, -0.08121685067380136, -0.015966584406640782, -0.02248787433020938, -0.10353705522399448, -0.027752121943490637, -0.2611145203845687, -0.0962574372642071, 0.10069988889003434, -0.05602909475133466, 0.007120763145928244, -0.021895963164373144, 0.03220700955202105, -0.019928248476505095, -0.044994358781494825, -0.012192048390141763, -0.17437941848722371, -0.13362390873270968, 0.10945314299727138, -0.10039652239145902, 0.01320090239671634, 0.037852177363642436, 0.12569300375974501, 0.031776582696480205, 0.003736961783014525, -0.017570604312173943, 0.017872487743957333, 0.10099120548078733, -0.12703281184492443, 0.2670618270057088, -0.05104483566904072, -0.24256470897385318, 0.13303404777929728, 0.10115497201366508, 0.058188552488156464, -0.08734200499277467, 0.036082830423362244, -0.07365969697979691, -0.033947524734660006, -0.028227885051328783, 0.060632980967117556, -0.07923327689165505, 0.13880526687783767, -0.23916466491202282, 0.17986948246170487, -0.030004481147172468, 0.06533661556331305, 0.029054100097262836, -0.07824191965710459, 0.0885603072180623, -0.08142144039934407, 0.28628718853074986, 0.2026384072063685, 0.020996943135562995, -0.098620030849772, 0.11258940491537239, 0.031000783472856286, -0.12567392452045933, -0.015370117929055183, -0.16532246824564256, 0.03886207913793416, 0.01137465642965374, -0.08807200449233377, -0.041448579943184294, 0.05446468613262345, -0.03008166995223338, -0.16135435739723814, -0.2130376106663655, -0.1541507299466699, -0.10981965629610224, 0.44929229815294214, -0.08472791298481441, -0.0013304088310417406, 0.4409339670195227, -0.028116840119443487, 0.05897892416169581, 0.23005395825366226, -0.06685581762558135, -0.1112415459703543, 1.9725716053643119, -0.35389862533325844, -0.06507125154894733, 0.13307377524479103, -0.12016165822503966, 0.0, 0.0], \"yaxis\": \"y\"}, {\"hovertemplate\": \"variable=Unemployment_percent_change<br>Time=%{x}<br>value=%{y}<extra></extra>\", \"legendgroup\": \"Unemployment_percent_change\", \"line\": {\"color\": \"#EF553B\", \"dash\": \"solid\"}, \"mode\": \"lines\", \"name\": \"Unemployment_percent_change\", \"orientation\": \"v\", \"showlegend\": true, \"type\": \"scatter\", \"x\": [\"2014-01-01T00:00:00\", \"2014-02-01T00:00:00\", \"2014-03-01T00:00:00\", \"2014-04-01T00:00:00\", \"2014-05-01T00:00:00\", \"2014-06-01T00:00:00\", \"2014-07-01T00:00:00\", \"2014-08-01T00:00:00\", \"2014-09-01T00:00:00\", \"2014-10-01T00:00:00\", \"2014-11-01T00:00:00\", \"2014-12-01T00:00:00\", \"2015-01-01T00:00:00\", \"2015-02-01T00:00:00\", \"2015-03-01T00:00:00\", \"2015-04-01T00:00:00\", \"2015-05-01T00:00:00\", \"2015-06-01T00:00:00\", \"2015-07-01T00:00:00\", \"2015-08-01T00:00:00\", \"2015-09-01T00:00:00\", \"2015-10-01T00:00:00\", \"2015-11-01T00:00:00\", \"2015-12-01T00:00:00\", \"2016-01-01T00:00:00\", \"2016-02-01T00:00:00\", \"2016-03-01T00:00:00\", \"2016-04-01T00:00:00\", \"2016-05-01T00:00:00\", \"2016-06-01T00:00:00\", \"2016-07-01T00:00:00\", \"2016-08-01T00:00:00\", \"2016-09-01T00:00:00\", \"2016-10-01T00:00:00\", \"2016-11-01T00:00:00\", \"2016-12-01T00:00:00\", \"2017-01-01T00:00:00\", \"2017-02-01T00:00:00\", \"2017-03-01T00:00:00\", \"2017-04-01T00:00:00\", \"2017-05-01T00:00:00\", \"2017-06-01T00:00:00\", \"2017-07-01T00:00:00\", \"2017-08-01T00:00:00\", \"2017-09-01T00:00:00\", \"2017-10-01T00:00:00\", \"2017-11-01T00:00:00\", \"2017-12-01T00:00:00\", \"2018-01-01T00:00:00\", \"2018-02-01T00:00:00\", \"2018-03-01T00:00:00\", \"2018-04-01T00:00:00\", \"2018-05-01T00:00:00\", \"2018-06-01T00:00:00\", \"2018-07-01T00:00:00\", \"2018-08-01T00:00:00\", \"2018-09-01T00:00:00\", \"2018-10-01T00:00:00\", \"2018-11-01T00:00:00\", \"2018-12-01T00:00:00\", \"2019-01-01T00:00:00\", \"2019-02-01T00:00:00\", \"2019-03-01T00:00:00\", \"2019-04-01T00:00:00\", \"2019-05-01T00:00:00\", \"2019-06-01T00:00:00\", \"2019-07-01T00:00:00\", \"2019-08-01T00:00:00\", \"2019-09-01T00:00:00\", \"2019-10-01T00:00:00\", \"2019-11-01T00:00:00\", \"2019-12-01T00:00:00\", \"2020-01-01T00:00:00\", \"2020-02-01T00:00:00\", \"2020-03-01T00:00:00\", \"2020-04-01T00:00:00\", \"2020-05-01T00:00:00\", \"2020-06-01T00:00:00\", \"2020-07-01T00:00:00\", \"2020-08-01T00:00:00\", \"2020-09-01T00:00:00\", \"2020-10-01T00:00:00\", \"2020-11-01T00:00:00\", \"2020-12-01T00:00:00\", \"2021-01-01T00:00:00\", \"2021-02-01T00:00:00\", \"2021-03-01T00:00:00\", \"2021-04-01T00:00:00\", \"2021-05-01T00:00:00\", \"2021-06-01T00:00:00\", \"2021-07-01T00:00:00\", \"2021-08-01T00:00:00\"], \"xaxis\": \"x\", \"y\": [null, -0.01754385964912686, -0.017857142857142794, -0.018181818181818743, -0.01851851851852193, -0.01886792452829389, 0.0, -0.019230769230771605, -0.019607843137256498, -0.02000000000000257, -0.020408163265307366, -0.041666666666659635, 0.0, -0.021739130434785925, 0.0, 0.0, -0.022222222222225696, 0.0, 0.0, 0.02272727272727626, 0.0, 0.0, 0.0, 0.0, 0.0, -0.022222222222225696, 0.02272727272727626, 0.0, 0.022222222222225696, 0.02173913043478315, 0.0, 0.0, 0.021276595744672777, 0.0, 0.0, 0.0, 0.0, -0.0208333333333256, -0.021276595744681437, -0.021739130434785925, -0.022222222222225696, -0.02272727272727293, -0.023255813953481197, 0.0, -0.023809523809523836, 0.0, 0.0, 0.0, 0.0, -0.024390243902442488, 0.0, 0.0, -0.025000000000003575, 0.0, -0.025641025641025217, 0.0, 0.0, 0.0, 0.0, 0.0, -0.026315789473678075, -0.027027027027026196, -0.027777777777781565, 0.0, -0.028571428571432356, 0.0, 0.029411764705886467, 0.0, 0.0, 0.0, 0.0, 0.0, 0.028571428571432467, 0.027777777777777013, 0.3243243243243168, 1.6326530612245072, -0.10077519379845667, -0.12068965517240882, -0.08823529411765163, -0.2580645161290279, 0.14492753623188492, -0.0759493670886141, -0.013698630136978807, -0.04166666666666796, -0.014492753623194798, 0.014705882352947786, 0.0, -0.028985507246375386, -0.014925373134334396, -0.01515151515151314, -0.04615384615384244, 0.0], \"yaxis\": \"y\"}, {\"hovertemplate\": \"variable=zori_diff<br>Time=%{x}<br>value=%{y}<extra></extra>\", \"legendgroup\": \"zori_diff\", \"line\": {\"color\": \"#00cc96\", \"dash\": \"solid\"}, \"mode\": \"lines\", \"name\": \"zori_diff\", \"orientation\": \"v\", \"showlegend\": true, \"type\": \"scatter\", \"x\": [\"2014-01-01T00:00:00\", \"2014-02-01T00:00:00\", \"2014-03-01T00:00:00\", \"2014-04-01T00:00:00\", \"2014-05-01T00:00:00\", \"2014-06-01T00:00:00\", \"2014-07-01T00:00:00\", \"2014-08-01T00:00:00\", \"2014-09-01T00:00:00\", \"2014-10-01T00:00:00\", \"2014-11-01T00:00:00\", \"2014-12-01T00:00:00\", \"2015-01-01T00:00:00\", \"2015-02-01T00:00:00\", \"2015-03-01T00:00:00\", \"2015-04-01T00:00:00\", \"2015-05-01T00:00:00\", \"2015-06-01T00:00:00\", \"2015-07-01T00:00:00\", \"2015-08-01T00:00:00\", \"2015-09-01T00:00:00\", \"2015-10-01T00:00:00\", \"2015-11-01T00:00:00\", \"2015-12-01T00:00:00\", \"2016-01-01T00:00:00\", \"2016-02-01T00:00:00\", \"2016-03-01T00:00:00\", \"2016-04-01T00:00:00\", \"2016-05-01T00:00:00\", \"2016-06-01T00:00:00\", \"2016-07-01T00:00:00\", \"2016-08-01T00:00:00\", \"2016-09-01T00:00:00\", \"2016-10-01T00:00:00\", \"2016-11-01T00:00:00\", \"2016-12-01T00:00:00\", \"2017-01-01T00:00:00\", \"2017-02-01T00:00:00\", \"2017-03-01T00:00:00\", \"2017-04-01T00:00:00\", \"2017-05-01T00:00:00\", \"2017-06-01T00:00:00\", \"2017-07-01T00:00:00\", \"2017-08-01T00:00:00\", \"2017-09-01T00:00:00\", \"2017-10-01T00:00:00\", \"2017-11-01T00:00:00\", \"2017-12-01T00:00:00\", \"2018-01-01T00:00:00\", \"2018-02-01T00:00:00\", \"2018-03-01T00:00:00\", \"2018-04-01T00:00:00\", \"2018-05-01T00:00:00\", \"2018-06-01T00:00:00\", \"2018-07-01T00:00:00\", \"2018-08-01T00:00:00\", \"2018-09-01T00:00:00\", \"2018-10-01T00:00:00\", \"2018-11-01T00:00:00\", \"2018-12-01T00:00:00\", \"2019-01-01T00:00:00\", \"2019-02-01T00:00:00\", \"2019-03-01T00:00:00\", \"2019-04-01T00:00:00\", \"2019-05-01T00:00:00\", \"2019-06-01T00:00:00\", \"2019-07-01T00:00:00\", \"2019-08-01T00:00:00\", \"2019-09-01T00:00:00\", \"2019-10-01T00:00:00\", \"2019-11-01T00:00:00\", \"2019-12-01T00:00:00\", \"2020-01-01T00:00:00\", \"2020-02-01T00:00:00\", \"2020-03-01T00:00:00\", \"2020-04-01T00:00:00\", \"2020-05-01T00:00:00\", \"2020-06-01T00:00:00\", \"2020-07-01T00:00:00\", \"2020-08-01T00:00:00\", \"2020-09-01T00:00:00\", \"2020-10-01T00:00:00\", \"2020-11-01T00:00:00\", \"2020-12-01T00:00:00\", \"2021-01-01T00:00:00\", \"2021-02-01T00:00:00\", \"2021-03-01T00:00:00\", \"2021-04-01T00:00:00\", \"2021-05-01T00:00:00\", \"2021-06-01T00:00:00\", \"2021-07-01T00:00:00\", \"2021-08-01T00:00:00\"], \"xaxis\": \"x\", \"y\": [null, 3.858914728682066, 4.686821705426382, 4.756589147286832, 4.692248062015551, 4.751937984495953, 4.7666666666666515, 4.829457364341351, 4.903875968991997, 4.841472868217124, 4.8724806201548745, 4.7085271317830575, 4.594019933555046, 4.285880398670997, 4.223089700996752, 4.179291251384029, 4.069988925803273, 4.038205980066095, 4.051384274640441, 3.972093023255411, 3.8453488372097127, 3.9461240310074572, 3.7430232558140233, 3.737441860464969, 3.719534883721053, 3.421085271317679, 3.392403100775482, 3.4226356589142597, 3.1103875968995, 3.118604651162741, 3.0930232558139323, 3.018604651162832, 3.046511627906966, 3.005426356589396, 2.94728682170512, 2.9775193798450346, 2.934883720930202, 2.953488372093034, 2.934883720930202, 2.975968992248454, 3.0596899224801746, 3.0434108527133503, 3.041860465116315, 3.0279069767441342, 3.041860465116315, 3.0279069767441342, 3.0069767441859767, 3.035658914728856, 3.0891472868215715, 3.29147286821717, 3.3953488372092124, 3.300775193798245, 3.644961240310522, 3.5937984496122226, 3.6666666666667425, 3.7224806201547835, 3.7317829457365406, 3.7116279069766733, 3.8325581395349673, 3.7813953488371226, 3.8186046511627865, 3.744186046511686, 3.767441860465169, 3.690697674418516, 3.6720930232559112, 3.683720930232539, 3.6697674418605857, 3.1813953488372135, 3.2279069767441797, 3.13488372093002, 2.1593023255813932, 2.059302325581484, 2.0825581395349673, 1.9500000000000455, 1.9457364341085395, 2.003100775193616, 2.8124031007753274, 2.8248062015502455, 2.867441860465078, 5.737209302325709, 5.981395348837168, 5.953488372093034, 10.255813953488314, 10.348837209302474, 10.381395348837032, 10.869767441860631, 10.809302325581257, 10.869767441860631, 11.45581395348836, 11.441860465116179, 11.465116279069889, null], \"yaxis\": \"y\"}, {\"hovertemplate\": \"variable=Retail_gas_price_differenced<br>Time=%{x}<br>value=%{y}<extra></extra>\", \"legendgroup\": \"Retail_gas_price_differenced\", \"line\": {\"color\": \"#ab63fa\", \"dash\": \"solid\"}, \"mode\": \"lines\", \"name\": \"Retail_gas_price_differenced\", \"orientation\": \"v\", \"showlegend\": true, \"type\": \"scatter\", \"x\": [\"2014-01-01T00:00:00\", \"2014-02-01T00:00:00\", \"2014-03-01T00:00:00\", \"2014-04-01T00:00:00\", \"2014-05-01T00:00:00\", \"2014-06-01T00:00:00\", \"2014-07-01T00:00:00\", \"2014-08-01T00:00:00\", \"2014-09-01T00:00:00\", \"2014-10-01T00:00:00\", \"2014-11-01T00:00:00\", \"2014-12-01T00:00:00\", \"2015-01-01T00:00:00\", \"2015-02-01T00:00:00\", \"2015-03-01T00:00:00\", \"2015-04-01T00:00:00\", \"2015-05-01T00:00:00\", \"2015-06-01T00:00:00\", \"2015-07-01T00:00:00\", \"2015-08-01T00:00:00\", \"2015-09-01T00:00:00\", \"2015-10-01T00:00:00\", \"2015-11-01T00:00:00\", \"2015-12-01T00:00:00\", \"2016-01-01T00:00:00\", \"2016-02-01T00:00:00\", \"2016-03-01T00:00:00\", \"2016-04-01T00:00:00\", \"2016-05-01T00:00:00\", \"2016-06-01T00:00:00\", \"2016-07-01T00:00:00\", \"2016-08-01T00:00:00\", \"2016-09-01T00:00:00\", \"2016-10-01T00:00:00\", \"2016-11-01T00:00:00\", \"2016-12-01T00:00:00\", \"2017-01-01T00:00:00\", \"2017-02-01T00:00:00\", \"2017-03-01T00:00:00\", \"2017-04-01T00:00:00\", \"2017-05-01T00:00:00\", \"2017-06-01T00:00:00\", \"2017-07-01T00:00:00\", \"2017-08-01T00:00:00\", \"2017-09-01T00:00:00\", \"2017-10-01T00:00:00\", \"2017-11-01T00:00:00\", \"2017-12-01T00:00:00\", \"2018-01-01T00:00:00\", \"2018-02-01T00:00:00\", \"2018-03-01T00:00:00\", \"2018-04-01T00:00:00\", \"2018-05-01T00:00:00\", \"2018-06-01T00:00:00\", \"2018-07-01T00:00:00\", \"2018-08-01T00:00:00\", \"2018-09-01T00:00:00\", \"2018-10-01T00:00:00\", \"2018-11-01T00:00:00\", \"2018-12-01T00:00:00\", \"2019-01-01T00:00:00\", \"2019-02-01T00:00:00\", \"2019-03-01T00:00:00\", \"2019-04-01T00:00:00\", \"2019-05-01T00:00:00\", \"2019-06-01T00:00:00\", \"2019-07-01T00:00:00\", \"2019-08-01T00:00:00\", \"2019-09-01T00:00:00\", \"2019-10-01T00:00:00\", \"2019-11-01T00:00:00\", \"2019-12-01T00:00:00\", \"2020-01-01T00:00:00\", \"2020-02-01T00:00:00\", \"2020-03-01T00:00:00\", \"2020-04-01T00:00:00\", \"2020-05-01T00:00:00\", \"2020-06-01T00:00:00\", \"2020-07-01T00:00:00\", \"2020-08-01T00:00:00\", \"2020-09-01T00:00:00\", \"2020-10-01T00:00:00\", \"2020-11-01T00:00:00\", \"2020-12-01T00:00:00\", \"2021-01-01T00:00:00\", \"2021-02-01T00:00:00\", \"2021-03-01T00:00:00\", \"2021-04-01T00:00:00\", \"2021-05-01T00:00:00\", \"2021-06-01T00:00:00\", \"2021-07-01T00:00:00\", \"2021-08-01T00:00:00\"], \"xaxis\": \"x\", \"y\": [null, 0.025999999999989587, 0.16200000000002346, 0.16800000000000548, -0.019000000000005457, 0.027999999999997804, -0.04000000000001558, -0.14899999999999824, -0.08999999999999098, -0.2280000000000162, -0.2779999999999885, -0.39000000000001256, -0.41499999999998205, 0.11599999999999011, 0.21600000000000685, 0.02100000000000346, 0.20499999999999563, 0.11200000000000676, -0.040000000000004476, -0.18500000000000183, -0.2680000000000127, -0.06000000000000982, -0.1119999999999759, -0.10500000000001242, -0.09499999999999043, -0.14500000000000268, 0.20800000000000507, 0.1329999999999869, 0.13300000000001777, 0.10699999999998777, -0.08699999999999086, -0.07400000000001028, -0.0029999999999903437, 0.05399999999999028, -0.07599999999999163, 0.07399999999998563, 0.11400000000001498, -0.06400000000000805, 0.013999999999998458, 0.1260000000000172, -0.034000000000018904, -0.03899999999999881, -0.07899999999999796, 0.09800000000000075, 0.3500000000000112, -0.21800000000000708, -0.02499999999999103, -0.07500000000001661, 0.09099999999999708, 0.010000000000001119, 0.026000000000000245, 0.17200000000001836, 0.1799999999999944, 0.03799999999998205, -0.0889999999999933, -0.03999999999998849, -0.01600000000000934, 0.014000000000006896, -0.26200000000000045, -0.31200000000000805, -0.09600000000000253, 0.10500000000001286, 0.2529999999999899, 0.2610000000000081, 0.012999999999992351, -0.1659999999999986, 0.08100000000001151, -0.11599999999999477, -0.04800000000000226, -0.035000000000010356, -0.024999999999991473, -0.013999999999999346, 0.006999999999997009, -0.13300000000001333, -0.15600000000000214, -0.4099999999999866, -0.033000000000009466, 0.2430000000000052, 0.12999999999999545, -0.015999999999991577, -0.006999999999995454, -0.036000000000001364, -0.06499999999999795, 0.11999999999999478, 0.15399999999999792, 0.1750000000000087, 0.3279999999999865, 0.017999999999989136, 0.13800000000001944, 0.04199999999999138, 0.07500000000000773, 0.0060000000000011156], \"yaxis\": \"y\"}, {\"hovertemplate\": \"variable=Gross_Value_Crude_Oil_Production_percent_change<br>Time=%{x}<br>value=%{y}<extra></extra>\", \"legendgroup\": \"Gross_Value_Crude_Oil_Production_percent_change\", \"line\": {\"color\": \"#FFA15A\", \"dash\": \"solid\"}, \"mode\": \"lines\", \"name\": \"Gross_Value_Crude_Oil_Production_percent_change\", \"orientation\": \"v\", \"showlegend\": true, \"type\": \"scatter\", \"x\": [\"2014-01-01T00:00:00\", \"2014-02-01T00:00:00\", \"2014-03-01T00:00:00\", \"2014-04-01T00:00:00\", \"2014-05-01T00:00:00\", \"2014-06-01T00:00:00\", \"2014-07-01T00:00:00\", \"2014-08-01T00:00:00\", \"2014-09-01T00:00:00\", \"2014-10-01T00:00:00\", \"2014-11-01T00:00:00\", \"2014-12-01T00:00:00\", \"2015-01-01T00:00:00\", \"2015-02-01T00:00:00\", \"2015-03-01T00:00:00\", \"2015-04-01T00:00:00\", \"2015-05-01T00:00:00\", \"2015-06-01T00:00:00\", \"2015-07-01T00:00:00\", \"2015-08-01T00:00:00\", \"2015-09-01T00:00:00\", \"2015-10-01T00:00:00\", \"2015-11-01T00:00:00\", \"2015-12-01T00:00:00\", \"2016-01-01T00:00:00\", \"2016-02-01T00:00:00\", \"2016-03-01T00:00:00\", \"2016-04-01T00:00:00\", \"2016-05-01T00:00:00\", \"2016-06-01T00:00:00\", \"2016-07-01T00:00:00\", \"2016-08-01T00:00:00\", \"2016-09-01T00:00:00\", \"2016-10-01T00:00:00\", \"2016-11-01T00:00:00\", \"2016-12-01T00:00:00\", \"2017-01-01T00:00:00\", \"2017-02-01T00:00:00\", \"2017-03-01T00:00:00\", \"2017-04-01T00:00:00\", \"2017-05-01T00:00:00\", \"2017-06-01T00:00:00\", \"2017-07-01T00:00:00\", \"2017-08-01T00:00:00\", \"2017-09-01T00:00:00\", \"2017-10-01T00:00:00\", \"2017-11-01T00:00:00\", \"2017-12-01T00:00:00\", \"2018-01-01T00:00:00\", \"2018-02-01T00:00:00\", \"2018-03-01T00:00:00\", \"2018-04-01T00:00:00\", \"2018-05-01T00:00:00\", \"2018-06-01T00:00:00\", \"2018-07-01T00:00:00\", \"2018-08-01T00:00:00\", \"2018-09-01T00:00:00\", \"2018-10-01T00:00:00\", \"2018-11-01T00:00:00\", \"2018-12-01T00:00:00\", \"2019-01-01T00:00:00\", \"2019-02-01T00:00:00\", \"2019-03-01T00:00:00\", \"2019-04-01T00:00:00\", \"2019-05-01T00:00:00\", \"2019-06-01T00:00:00\", \"2019-07-01T00:00:00\", \"2019-08-01T00:00:00\", \"2019-09-01T00:00:00\", \"2019-10-01T00:00:00\", \"2019-11-01T00:00:00\", \"2019-12-01T00:00:00\", \"2020-01-01T00:00:00\", \"2020-02-01T00:00:00\", \"2020-03-01T00:00:00\", \"2020-04-01T00:00:00\", \"2020-05-01T00:00:00\", \"2020-06-01T00:00:00\", \"2020-07-01T00:00:00\", \"2020-08-01T00:00:00\", \"2020-09-01T00:00:00\", \"2020-10-01T00:00:00\", \"2020-11-01T00:00:00\", \"2020-12-01T00:00:00\", \"2021-01-01T00:00:00\", \"2021-02-01T00:00:00\", \"2021-03-01T00:00:00\", \"2021-04-01T00:00:00\", \"2021-05-01T00:00:00\", \"2021-06-01T00:00:00\", \"2021-07-01T00:00:00\", \"2021-08-01T00:00:00\"], \"xaxis\": \"x\", \"y\": [null, -0.023806093275025364, 0.1285924103751379, 0.008321131571325413, 0.016609191894525033, 0.037822672840579274, 0.03970554383157032, -0.04905306499064421, -0.07087001941828697, -0.041070711682422045, -0.11466691840523113, -0.17802365922068275, -0.23265432737048963, -0.040950129240119204, 0.11250737659060173, 0.11191992302763043, 0.10188757176491059, -0.017334637788731455, -0.12307293246132012, -0.18428418870805696, 0.03948817354532408, 0.03893202414207364, -0.19262684643625994, -0.14575127822491374, -0.08900208696523915, -0.1154898031356889, 0.325016992523288, 0.04801180178368414, 0.180200268731199, 0.026280336236510715, -0.055879261070997055, 0.0034214958343328217, -0.02452400402599464, 0.1586432791327228, -0.11049933642181375, 0.19937656690258332, 0.02749747962893001, -0.04250081013935225, 0.039089785231815055, -0.01403031797229315, 0.022818878165496326, -0.0879472836643046, 0.06614844360942795, 0.005547290362019064, 0.05719004472989542, 0.14592889286195154, 0.12843234154709782, 0.068282189647769, 0.09391953658298724, -0.09342141725906983, 0.13296789796528974, 0.026311669285436823, 0.06586213002438424, -0.07799377399287488, 0.11697565600172699, -0.05573472277199254, -0.010532568172585965, 0.0666531200943421, -0.14219848221678477, -0.10331829087915934, 0.007175937541984645, 0.022703602746419804, 0.22178061912439562, 0.08518074040345058, -0.04263308615752104, -0.12287667637328747, 0.11663507182592303, -0.042596251448972056, 0.026393550414449685, 0.004503635325173727, 0.03196806651018136, 0.08935192768751032, -0.03797849036098455, -0.18999881586737954, -0.3605269236279397, -0.5365144972098348, -0.053338726065633946, 1.1838606143970432, 0.1700942874048128, 0.033957401343291505, -0.11426723355920132, 0.03485710723414681, 0.025591432087499033, 0.1793752451756765, 0.12476721207669517, -0.17032918374576822, 0.5207626504830076, -0.05445072374944049, 0.0865120656402727, 0.052028777048630515, 0.034253787421948845, 0.0], \"yaxis\": \"y\"}],                        {\"height\": 600, \"legend\": {\"title\": {\"text\": \"variable\"}, \"tracegroupgap\": 0}, \"template\": {\"data\": {\"bar\": [{\"error_x\": {\"color\": \"#2a3f5f\"}, \"error_y\": {\"color\": \"#2a3f5f\"}, \"marker\": {\"line\": {\"color\": \"#E5ECF6\", \"width\": 0.5}}, \"type\": \"bar\"}], \"barpolar\": [{\"marker\": {\"line\": {\"color\": \"#E5ECF6\", \"width\": 0.5}}, \"type\": \"barpolar\"}], \"carpet\": [{\"aaxis\": {\"endlinecolor\": \"#2a3f5f\", \"gridcolor\": \"white\", \"linecolor\": \"white\", \"minorgridcolor\": \"white\", \"startlinecolor\": \"#2a3f5f\"}, \"baxis\": {\"endlinecolor\": \"#2a3f5f\", \"gridcolor\": \"white\", \"linecolor\": \"white\", \"minorgridcolor\": \"white\", \"startlinecolor\": \"#2a3f5f\"}, \"type\": \"carpet\"}], \"choropleth\": [{\"colorbar\": {\"outlinewidth\": 0, \"ticks\": \"\"}, \"type\": \"choropleth\"}], \"contour\": [{\"colorbar\": {\"outlinewidth\": 0, \"ticks\": \"\"}, \"colorscale\": [[0.0, \"#0d0887\"], [0.1111111111111111, \"#46039f\"], [0.2222222222222222, \"#7201a8\"], [0.3333333333333333, \"#9c179e\"], [0.4444444444444444, \"#bd3786\"], [0.5555555555555556, \"#d8576b\"], [0.6666666666666666, \"#ed7953\"], [0.7777777777777778, \"#fb9f3a\"], [0.8888888888888888, \"#fdca26\"], [1.0, \"#f0f921\"]], \"type\": \"contour\"}], \"contourcarpet\": [{\"colorbar\": {\"outlinewidth\": 0, \"ticks\": \"\"}, \"type\": \"contourcarpet\"}], \"heatmap\": [{\"colorbar\": {\"outlinewidth\": 0, \"ticks\": \"\"}, \"colorscale\": [[0.0, \"#0d0887\"], [0.1111111111111111, \"#46039f\"], [0.2222222222222222, \"#7201a8\"], [0.3333333333333333, \"#9c179e\"], [0.4444444444444444, \"#bd3786\"], [0.5555555555555556, \"#d8576b\"], [0.6666666666666666, \"#ed7953\"], [0.7777777777777778, \"#fb9f3a\"], [0.8888888888888888, \"#fdca26\"], [1.0, \"#f0f921\"]], \"type\": \"heatmap\"}], \"heatmapgl\": [{\"colorbar\": {\"outlinewidth\": 0, \"ticks\": \"\"}, \"colorscale\": [[0.0, \"#0d0887\"], [0.1111111111111111, \"#46039f\"], [0.2222222222222222, \"#7201a8\"], [0.3333333333333333, \"#9c179e\"], [0.4444444444444444, \"#bd3786\"], [0.5555555555555556, \"#d8576b\"], [0.6666666666666666, \"#ed7953\"], [0.7777777777777778, \"#fb9f3a\"], [0.8888888888888888, \"#fdca26\"], [1.0, \"#f0f921\"]], \"type\": \"heatmapgl\"}], \"histogram\": [{\"marker\": {\"colorbar\": {\"outlinewidth\": 0, \"ticks\": \"\"}}, \"type\": \"histogram\"}], \"histogram2d\": [{\"colorbar\": {\"outlinewidth\": 0, \"ticks\": \"\"}, \"colorscale\": [[0.0, \"#0d0887\"], [0.1111111111111111, \"#46039f\"], [0.2222222222222222, \"#7201a8\"], [0.3333333333333333, \"#9c179e\"], [0.4444444444444444, \"#bd3786\"], [0.5555555555555556, \"#d8576b\"], [0.6666666666666666, \"#ed7953\"], [0.7777777777777778, \"#fb9f3a\"], [0.8888888888888888, \"#fdca26\"], [1.0, \"#f0f921\"]], \"type\": \"histogram2d\"}], \"histogram2dcontour\": [{\"colorbar\": {\"outlinewidth\": 0, \"ticks\": \"\"}, \"colorscale\": [[0.0, \"#0d0887\"], [0.1111111111111111, \"#46039f\"], [0.2222222222222222, \"#7201a8\"], [0.3333333333333333, \"#9c179e\"], [0.4444444444444444, \"#bd3786\"], [0.5555555555555556, \"#d8576b\"], [0.6666666666666666, \"#ed7953\"], [0.7777777777777778, \"#fb9f3a\"], [0.8888888888888888, \"#fdca26\"], [1.0, \"#f0f921\"]], \"type\": \"histogram2dcontour\"}], \"mesh3d\": [{\"colorbar\": {\"outlinewidth\": 0, \"ticks\": \"\"}, \"type\": \"mesh3d\"}], \"parcoords\": [{\"line\": {\"colorbar\": {\"outlinewidth\": 0, \"ticks\": \"\"}}, \"type\": \"parcoords\"}], \"pie\": [{\"automargin\": true, \"type\": \"pie\"}], \"scatter\": [{\"marker\": {\"colorbar\": {\"outlinewidth\": 0, \"ticks\": \"\"}}, \"type\": \"scatter\"}], \"scatter3d\": [{\"line\": {\"colorbar\": {\"outlinewidth\": 0, \"ticks\": \"\"}}, \"marker\": {\"colorbar\": {\"outlinewidth\": 0, \"ticks\": \"\"}}, \"type\": \"scatter3d\"}], \"scattercarpet\": [{\"marker\": {\"colorbar\": {\"outlinewidth\": 0, \"ticks\": \"\"}}, \"type\": \"scattercarpet\"}], \"scattergeo\": [{\"marker\": {\"colorbar\": {\"outlinewidth\": 0, \"ticks\": \"\"}}, \"type\": \"scattergeo\"}], \"scattergl\": [{\"marker\": {\"colorbar\": {\"outlinewidth\": 0, \"ticks\": \"\"}}, \"type\": \"scattergl\"}], \"scattermapbox\": [{\"marker\": {\"colorbar\": {\"outlinewidth\": 0, \"ticks\": \"\"}}, \"type\": \"scattermapbox\"}], \"scatterpolar\": [{\"marker\": {\"colorbar\": {\"outlinewidth\": 0, \"ticks\": \"\"}}, \"type\": \"scatterpolar\"}], \"scatterpolargl\": [{\"marker\": {\"colorbar\": {\"outlinewidth\": 0, \"ticks\": \"\"}}, \"type\": \"scatterpolargl\"}], \"scatterternary\": [{\"marker\": {\"colorbar\": {\"outlinewidth\": 0, \"ticks\": \"\"}}, \"type\": \"scatterternary\"}], \"surface\": [{\"colorbar\": {\"outlinewidth\": 0, \"ticks\": \"\"}, \"colorscale\": [[0.0, \"#0d0887\"], [0.1111111111111111, \"#46039f\"], [0.2222222222222222, \"#7201a8\"], [0.3333333333333333, \"#9c179e\"], [0.4444444444444444, \"#bd3786\"], [0.5555555555555556, \"#d8576b\"], [0.6666666666666666, \"#ed7953\"], [0.7777777777777778, \"#fb9f3a\"], [0.8888888888888888, \"#fdca26\"], [1.0, \"#f0f921\"]], \"type\": \"surface\"}], \"table\": [{\"cells\": {\"fill\": {\"color\": \"#EBF0F8\"}, \"line\": {\"color\": \"white\"}}, \"header\": {\"fill\": {\"color\": \"#C8D4E3\"}, \"line\": {\"color\": \"white\"}}, \"type\": \"table\"}]}, \"layout\": {\"annotationdefaults\": {\"arrowcolor\": \"#2a3f5f\", \"arrowhead\": 0, \"arrowwidth\": 1}, \"autotypenumbers\": \"strict\", \"coloraxis\": {\"colorbar\": {\"outlinewidth\": 0, \"ticks\": \"\"}}, \"colorscale\": {\"diverging\": [[0, \"#8e0152\"], [0.1, \"#c51b7d\"], [0.2, \"#de77ae\"], [0.3, \"#f1b6da\"], [0.4, \"#fde0ef\"], [0.5, \"#f7f7f7\"], [0.6, \"#e6f5d0\"], [0.7, \"#b8e186\"], [0.8, \"#7fbc41\"], [0.9, \"#4d9221\"], [1, \"#276419\"]], \"sequential\": [[0.0, \"#0d0887\"], [0.1111111111111111, \"#46039f\"], [0.2222222222222222, \"#7201a8\"], [0.3333333333333333, \"#9c179e\"], [0.4444444444444444, \"#bd3786\"], [0.5555555555555556, \"#d8576b\"], [0.6666666666666666, \"#ed7953\"], [0.7777777777777778, \"#fb9f3a\"], [0.8888888888888888, \"#fdca26\"], [1.0, \"#f0f921\"]], \"sequentialminus\": [[0.0, \"#0d0887\"], [0.1111111111111111, \"#46039f\"], [0.2222222222222222, \"#7201a8\"], [0.3333333333333333, \"#9c179e\"], [0.4444444444444444, \"#bd3786\"], [0.5555555555555556, \"#d8576b\"], [0.6666666666666666, \"#ed7953\"], [0.7777777777777778, \"#fb9f3a\"], [0.8888888888888888, \"#fdca26\"], [1.0, \"#f0f921\"]]}, \"colorway\": [\"#636efa\", \"#EF553B\", \"#00cc96\", \"#ab63fa\", \"#FFA15A\", \"#19d3f3\", \"#FF6692\", \"#B6E880\", \"#FF97FF\", \"#FECB52\"], \"font\": {\"color\": \"#2a3f5f\"}, \"geo\": {\"bgcolor\": \"white\", \"lakecolor\": \"white\", \"landcolor\": \"#E5ECF6\", \"showlakes\": true, \"showland\": true, \"subunitcolor\": \"white\"}, \"hoverlabel\": {\"align\": \"left\"}, \"hovermode\": \"closest\", \"mapbox\": {\"style\": \"light\"}, \"paper_bgcolor\": \"white\", \"plot_bgcolor\": \"#E5ECF6\", \"polar\": {\"angularaxis\": {\"gridcolor\": \"white\", \"linecolor\": \"white\", \"ticks\": \"\"}, \"bgcolor\": \"#E5ECF6\", \"radialaxis\": {\"gridcolor\": \"white\", \"linecolor\": \"white\", \"ticks\": \"\"}}, \"scene\": {\"xaxis\": {\"backgroundcolor\": \"#E5ECF6\", \"gridcolor\": \"white\", \"gridwidth\": 2, \"linecolor\": \"white\", \"showbackground\": true, \"ticks\": \"\", \"zerolinecolor\": \"white\"}, \"yaxis\": {\"backgroundcolor\": \"#E5ECF6\", \"gridcolor\": \"white\", \"gridwidth\": 2, \"linecolor\": \"white\", \"showbackground\": true, \"ticks\": \"\", \"zerolinecolor\": \"white\"}, \"zaxis\": {\"backgroundcolor\": \"#E5ECF6\", \"gridcolor\": \"white\", \"gridwidth\": 2, \"linecolor\": \"white\", \"showbackground\": true, \"ticks\": \"\", \"zerolinecolor\": \"white\"}}, \"shapedefaults\": {\"line\": {\"color\": \"#2a3f5f\"}}, \"ternary\": {\"aaxis\": {\"gridcolor\": \"white\", \"linecolor\": \"white\", \"ticks\": \"\"}, \"baxis\": {\"gridcolor\": \"white\", \"linecolor\": \"white\", \"ticks\": \"\"}, \"bgcolor\": \"#E5ECF6\", \"caxis\": {\"gridcolor\": \"white\", \"linecolor\": \"white\", \"ticks\": \"\"}}, \"title\": {\"x\": 0.05}, \"xaxis\": {\"automargin\": true, \"gridcolor\": \"white\", \"linecolor\": \"white\", \"ticks\": \"\", \"title\": {\"standoff\": 15}, \"zerolinecolor\": \"white\", \"zerolinewidth\": 2}, \"yaxis\": {\"automargin\": true, \"gridcolor\": \"white\", \"linecolor\": \"white\", \"ticks\": \"\", \"title\": {\"standoff\": 15}, \"zerolinecolor\": \"white\", \"zerolinewidth\": 2}}}, \"title\": {\"text\": \"Averaged-Differenced-Zori Trends\"}, \"width\": 1200, \"xaxis\": {\"anchor\": \"y\", \"domain\": [0.0, 1.0], \"title\": {\"text\": \"Time\"}}, \"yaxis\": {\"anchor\": \"x\", \"domain\": [0.0, 1.0], \"title\": {\"text\": \"value\"}}},                        {\"responsive\": true}                    ).then(function(){\n",
       "                            \n",
       "var gd = document.getElementById('834542fa-b666-4881-9a41-f5c3e8fde523');\n",
       "var x = new MutationObserver(function (mutations, observer) {{\n",
       "        var display = window.getComputedStyle(gd).display;\n",
       "        if (!display || display === 'none') {{\n",
       "            console.log([gd, 'removed!']);\n",
       "            Plotly.purge(gd);\n",
       "            observer.disconnect();\n",
       "        }}\n",
       "}});\n",
       "\n",
       "// Listen for the removal of the full notebook cells\n",
       "var notebookContainer = gd.closest('#notebook-container');\n",
       "if (notebookContainer) {{\n",
       "    x.observe(notebookContainer, {childList: true});\n",
       "}}\n",
       "\n",
       "// Listen for the clearing of the current output cell\n",
       "var outputEl = gd.closest('.output');\n",
       "if (outputEl) {{\n",
       "    x.observe(outputEl, {childList: true});\n",
       "}}\n",
       "\n",
       "                        })                };                });            </script>        </div>"
      ]
     },
     "metadata": {},
     "output_type": "display_data"
    }
   ],
   "source": [
    "agg = merged.groupby(by = 'Time').mean()\n",
    "\n",
    "set(agg.columns)\n",
    "\n",
    "agg = agg.reset_index()\n",
    "\n",
    "agg.head()\n",
    "\n",
    "agg = agg.loc[:,['Time','zori_ssa'] + \n",
    "              list(key_econ.drop('Time', axis = 1).columns) + \n",
    "              list(acs.drop('Time', axis = 1).columns) +\n",
    "              list(acs2.drop('Time', axis = 1).columns)]\n",
    "\n",
    "\n",
    "agg.loc[:,'Date'] = agg.loc[:,'Time'].apply(lambda x : str(x))\n",
    "agg = agg.set_index('Date')\n",
    "agg = agg.loc['2014-01-01':,:]\n",
    "agg.loc[:,'Gross_Value_Natural_Gas_Production_percent_change'] = agg.loc[:,'Gross Value Natural Gas Production'].pct_change(1)\n",
    "agg.loc[:,'Gross_Value_Crude_Oil_Production_percent_change'] = agg.loc[:,'Gross Value Crude Oil Production'].pct_change(1)\n",
    "agg.loc[:,'Unemployment_percent_change'] = agg.loc[:,'Unemployment TX'].pct_change(1)\n",
    "agg.loc[:,'Retail_gas_price_differenced'] = agg.loc[:,'Retail Gasoline Price TX'].diff(1)\n",
    "agg.loc[:,'zori_diff'] = agg.loc[:,'zori_ssa'].apply(lambda x: x).diff(1)\n",
    "agg.loc[:,'housing_units_over_50_units_diff'] = agg.loc[:,'housing_units_over_50_units'].apply(lambda x: x).diff(12)\n",
    "\n",
    "\n",
    "'housing_units_over_50_units'\n",
    "fig = px.line(data_frame = agg, x = 'Time', y = ['Gross_Value_Natural_Gas_Production_percent_change',\n",
    "                                                 'Unemployment_percent_change',\n",
    "                                                'zori_diff',\n",
    "                                                'Retail_gas_price_differenced',\n",
    "                                                'Gross_Value_Crude_Oil_Production_percent_change'],\n",
    "              title = 'Averaged-Differenced-Zori Trends',\n",
    "             height = 600, width = 1200)\n",
    "fig.show()"
   ]
  },
  {
   "cell_type": "code",
   "execution_count": 172,
   "metadata": {},
   "outputs": [
    {
     "data": {
      "application/vnd.plotly.v1+json": {
       "config": {
        "plotlyServerURL": "https://plot.ly"
       },
       "data": [
        {
         "hovertemplate": "variable=zori_diff<br>Time=%{x}<br>value=%{y}<extra></extra>",
         "legendgroup": "zori_diff",
         "line": {
          "color": "#636efa",
          "dash": "solid"
         },
         "mode": "lines",
         "name": "zori_diff",
         "orientation": "v",
         "showlegend": true,
         "type": "scatter",
         "x": [
          "2014-01-01T00:00:00",
          "2014-02-01T00:00:00",
          "2014-03-01T00:00:00",
          "2014-04-01T00:00:00",
          "2014-05-01T00:00:00",
          "2014-06-01T00:00:00",
          "2014-07-01T00:00:00",
          "2014-08-01T00:00:00",
          "2014-09-01T00:00:00",
          "2014-10-01T00:00:00",
          "2014-11-01T00:00:00",
          "2014-12-01T00:00:00",
          "2015-01-01T00:00:00",
          "2015-02-01T00:00:00",
          "2015-03-01T00:00:00",
          "2015-04-01T00:00:00",
          "2015-05-01T00:00:00",
          "2015-06-01T00:00:00",
          "2015-07-01T00:00:00",
          "2015-08-01T00:00:00",
          "2015-09-01T00:00:00",
          "2015-10-01T00:00:00",
          "2015-11-01T00:00:00",
          "2015-12-01T00:00:00",
          "2016-01-01T00:00:00",
          "2016-02-01T00:00:00",
          "2016-03-01T00:00:00",
          "2016-04-01T00:00:00",
          "2016-05-01T00:00:00",
          "2016-06-01T00:00:00",
          "2016-07-01T00:00:00",
          "2016-08-01T00:00:00",
          "2016-09-01T00:00:00",
          "2016-10-01T00:00:00",
          "2016-11-01T00:00:00",
          "2016-12-01T00:00:00",
          "2017-01-01T00:00:00",
          "2017-02-01T00:00:00",
          "2017-03-01T00:00:00",
          "2017-04-01T00:00:00",
          "2017-05-01T00:00:00",
          "2017-06-01T00:00:00",
          "2017-07-01T00:00:00",
          "2017-08-01T00:00:00",
          "2017-09-01T00:00:00",
          "2017-10-01T00:00:00",
          "2017-11-01T00:00:00",
          "2017-12-01T00:00:00",
          "2018-01-01T00:00:00",
          "2018-02-01T00:00:00",
          "2018-03-01T00:00:00",
          "2018-04-01T00:00:00",
          "2018-05-01T00:00:00",
          "2018-06-01T00:00:00",
          "2018-07-01T00:00:00",
          "2018-08-01T00:00:00",
          "2018-09-01T00:00:00",
          "2018-10-01T00:00:00",
          "2018-11-01T00:00:00",
          "2018-12-01T00:00:00",
          "2019-01-01T00:00:00",
          "2019-02-01T00:00:00",
          "2019-03-01T00:00:00",
          "2019-04-01T00:00:00",
          "2019-05-01T00:00:00",
          "2019-06-01T00:00:00",
          "2019-07-01T00:00:00",
          "2019-08-01T00:00:00",
          "2019-09-01T00:00:00",
          "2019-10-01T00:00:00",
          "2019-11-01T00:00:00",
          "2019-12-01T00:00:00",
          "2020-01-01T00:00:00",
          "2020-02-01T00:00:00",
          "2020-03-01T00:00:00",
          "2020-04-01T00:00:00",
          "2020-05-01T00:00:00",
          "2020-06-01T00:00:00",
          "2020-07-01T00:00:00",
          "2020-08-01T00:00:00",
          "2020-09-01T00:00:00",
          "2020-10-01T00:00:00",
          "2020-11-01T00:00:00",
          "2020-12-01T00:00:00",
          "2021-01-01T00:00:00",
          "2021-02-01T00:00:00",
          "2021-03-01T00:00:00",
          "2021-04-01T00:00:00",
          "2021-05-01T00:00:00",
          "2021-06-01T00:00:00",
          "2021-07-01T00:00:00",
          "2021-08-01T00:00:00"
         ],
         "xaxis": "x",
         "y": [
          null,
          3.858914728682066,
          4.686821705426382,
          4.756589147286832,
          4.692248062015551,
          4.751937984495953,
          4.7666666666666515,
          4.829457364341351,
          4.903875968991997,
          4.841472868217124,
          4.8724806201548745,
          4.7085271317830575,
          4.594019933555046,
          4.285880398670997,
          4.223089700996752,
          4.179291251384029,
          4.069988925803273,
          4.038205980066095,
          4.051384274640441,
          3.972093023255411,
          3.8453488372097127,
          3.9461240310074572,
          3.7430232558140233,
          3.737441860464969,
          3.719534883721053,
          3.421085271317679,
          3.392403100775482,
          3.4226356589142597,
          3.1103875968995,
          3.118604651162741,
          3.0930232558139323,
          3.018604651162832,
          3.046511627906966,
          3.005426356589396,
          2.94728682170512,
          2.9775193798450346,
          2.934883720930202,
          2.953488372093034,
          2.934883720930202,
          2.975968992248454,
          3.0596899224801746,
          3.0434108527133503,
          3.041860465116315,
          3.0279069767441342,
          3.041860465116315,
          3.0279069767441342,
          3.0069767441859767,
          3.035658914728856,
          3.0891472868215715,
          3.29147286821717,
          3.3953488372092124,
          3.300775193798245,
          3.644961240310522,
          3.5937984496122226,
          3.6666666666667425,
          3.7224806201547835,
          3.7317829457365406,
          3.7116279069766733,
          3.8325581395349673,
          3.7813953488371226,
          3.8186046511627865,
          3.744186046511686,
          3.767441860465169,
          3.690697674418516,
          3.6720930232559112,
          3.683720930232539,
          3.6697674418605857,
          3.1813953488372135,
          3.2279069767441797,
          3.13488372093002,
          2.1593023255813932,
          2.059302325581484,
          2.0825581395349673,
          1.9500000000000455,
          1.9457364341085395,
          2.003100775193616,
          2.8124031007753274,
          2.8248062015502455,
          2.867441860465078,
          5.737209302325709,
          5.981395348837168,
          5.953488372093034,
          10.255813953488314,
          10.348837209302474,
          10.381395348837032,
          10.869767441860631,
          10.809302325581257,
          10.869767441860631,
          11.45581395348836,
          11.441860465116179,
          11.465116279069889,
          null
         ],
         "yaxis": "y"
        },
        {
         "hovertemplate": "variable=housing_units_over_50_units_diff<br>Time=%{x}<br>value=%{y}<extra></extra>",
         "legendgroup": "housing_units_over_50_units_diff",
         "line": {
          "color": "#EF553B",
          "dash": "solid"
         },
         "mode": "lines",
         "name": "housing_units_over_50_units_diff",
         "orientation": "v",
         "showlegend": true,
         "type": "scatter",
         "x": [
          "2014-01-01T00:00:00",
          "2014-02-01T00:00:00",
          "2014-03-01T00:00:00",
          "2014-04-01T00:00:00",
          "2014-05-01T00:00:00",
          "2014-06-01T00:00:00",
          "2014-07-01T00:00:00",
          "2014-08-01T00:00:00",
          "2014-09-01T00:00:00",
          "2014-10-01T00:00:00",
          "2014-11-01T00:00:00",
          "2014-12-01T00:00:00",
          "2015-01-01T00:00:00",
          "2015-02-01T00:00:00",
          "2015-03-01T00:00:00",
          "2015-04-01T00:00:00",
          "2015-05-01T00:00:00",
          "2015-06-01T00:00:00",
          "2015-07-01T00:00:00",
          "2015-08-01T00:00:00",
          "2015-09-01T00:00:00",
          "2015-10-01T00:00:00",
          "2015-11-01T00:00:00",
          "2015-12-01T00:00:00",
          "2016-01-01T00:00:00",
          "2016-02-01T00:00:00",
          "2016-03-01T00:00:00",
          "2016-04-01T00:00:00",
          "2016-05-01T00:00:00",
          "2016-06-01T00:00:00",
          "2016-07-01T00:00:00",
          "2016-08-01T00:00:00",
          "2016-09-01T00:00:00",
          "2016-10-01T00:00:00",
          "2016-11-01T00:00:00",
          "2016-12-01T00:00:00",
          "2017-01-01T00:00:00",
          "2017-02-01T00:00:00",
          "2017-03-01T00:00:00",
          "2017-04-01T00:00:00",
          "2017-05-01T00:00:00",
          "2017-06-01T00:00:00",
          "2017-07-01T00:00:00",
          "2017-08-01T00:00:00",
          "2017-09-01T00:00:00",
          "2017-10-01T00:00:00",
          "2017-11-01T00:00:00",
          "2017-12-01T00:00:00",
          "2018-01-01T00:00:00",
          "2018-02-01T00:00:00",
          "2018-03-01T00:00:00",
          "2018-04-01T00:00:00",
          "2018-05-01T00:00:00",
          "2018-06-01T00:00:00",
          "2018-07-01T00:00:00",
          "2018-08-01T00:00:00",
          "2018-09-01T00:00:00",
          "2018-10-01T00:00:00",
          "2018-11-01T00:00:00",
          "2018-12-01T00:00:00",
          "2019-01-01T00:00:00",
          "2019-02-01T00:00:00",
          "2019-03-01T00:00:00",
          "2019-04-01T00:00:00",
          "2019-05-01T00:00:00",
          "2019-06-01T00:00:00",
          "2019-07-01T00:00:00",
          "2019-08-01T00:00:00",
          "2019-09-01T00:00:00",
          "2019-10-01T00:00:00",
          "2019-11-01T00:00:00",
          "2019-12-01T00:00:00",
          "2020-01-01T00:00:00",
          "2020-02-01T00:00:00",
          "2020-03-01T00:00:00",
          "2020-04-01T00:00:00",
          "2020-05-01T00:00:00",
          "2020-06-01T00:00:00",
          "2020-07-01T00:00:00",
          "2020-08-01T00:00:00",
          "2020-09-01T00:00:00",
          "2020-10-01T00:00:00",
          "2020-11-01T00:00:00",
          "2020-12-01T00:00:00",
          "2021-01-01T00:00:00",
          "2021-02-01T00:00:00",
          "2021-03-01T00:00:00",
          "2021-04-01T00:00:00",
          "2021-05-01T00:00:00",
          "2021-06-01T00:00:00",
          "2021-07-01T00:00:00",
          "2021-08-01T00:00:00"
         ],
         "xaxis": "x",
         "y": [
          null,
          null,
          null,
          null,
          null,
          null,
          null,
          null,
          null,
          null,
          null,
          null,
          57.34579439252343,
          57.34579439252343,
          57.34579439252343,
          57.34579439252343,
          57.34579439252343,
          57.34579439252343,
          57.34579439252343,
          59.03271028037375,
          59.03271028037375,
          59.03271028037375,
          59.03271028037375,
          59.03271028037375,
          59.03271028037375,
          59.03271028037375,
          59.03271028037375,
          59.03271028037375,
          59.03271028037375,
          59.03271028037375,
          59.03271028037375,
          44.47196261682245,
          44.47196261682245,
          44.47196261682245,
          44.47196261682245,
          44.47196261682245,
          44.47196261682245,
          44.47196261682245,
          44.47196261682245,
          44.47196261682245,
          44.47196261682245,
          44.47196261682245,
          44.47196261682245,
          70.85981308411215,
          70.85981308411215,
          70.85981308411215,
          70.85981308411215,
          70.85981308411215,
          70.85981308411215,
          70.85981308411215,
          70.85981308411215,
          70.85981308411215,
          70.85981308411215,
          70.85981308411215,
          70.85981308411215,
          71.80373831775705,
          71.80373831775705,
          71.80373831775705,
          71.80373831775705,
          71.80373831775705,
          71.80373831775705,
          71.80373831775705,
          71.80373831775705,
          71.80373831775705,
          71.80373831775705,
          71.80373831775705,
          71.80373831775705,
          76.07476635514013,
          76.07476635514013,
          76.07476635514013,
          76.07476635514013,
          76.07476635514013,
          76.07476635514013,
          76.07476635514013,
          76.07476635514013,
          76.07476635514013,
          76.07476635514013,
          76.07476635514013,
          76.07476635514013,
          109.52803738317766,
          109.52803738317766,
          109.52803738317766,
          109.52803738317766,
          109.52803738317766,
          109.52803738317766,
          109.52803738317766,
          109.52803738317766,
          109.52803738317766,
          109.52803738317766,
          109.52803738317766,
          109.52803738317766,
          null
         ],
         "yaxis": "y"
        }
       ],
       "layout": {
        "height": 600,
        "legend": {
         "title": {
          "text": "variable"
         },
         "tracegroupgap": 0
        },
        "template": {
         "data": {
          "bar": [
           {
            "error_x": {
             "color": "#2a3f5f"
            },
            "error_y": {
             "color": "#2a3f5f"
            },
            "marker": {
             "line": {
              "color": "#E5ECF6",
              "width": 0.5
             }
            },
            "type": "bar"
           }
          ],
          "barpolar": [
           {
            "marker": {
             "line": {
              "color": "#E5ECF6",
              "width": 0.5
             }
            },
            "type": "barpolar"
           }
          ],
          "carpet": [
           {
            "aaxis": {
             "endlinecolor": "#2a3f5f",
             "gridcolor": "white",
             "linecolor": "white",
             "minorgridcolor": "white",
             "startlinecolor": "#2a3f5f"
            },
            "baxis": {
             "endlinecolor": "#2a3f5f",
             "gridcolor": "white",
             "linecolor": "white",
             "minorgridcolor": "white",
             "startlinecolor": "#2a3f5f"
            },
            "type": "carpet"
           }
          ],
          "choropleth": [
           {
            "colorbar": {
             "outlinewidth": 0,
             "ticks": ""
            },
            "type": "choropleth"
           }
          ],
          "contour": [
           {
            "colorbar": {
             "outlinewidth": 0,
             "ticks": ""
            },
            "colorscale": [
             [
              0,
              "#0d0887"
             ],
             [
              0.1111111111111111,
              "#46039f"
             ],
             [
              0.2222222222222222,
              "#7201a8"
             ],
             [
              0.3333333333333333,
              "#9c179e"
             ],
             [
              0.4444444444444444,
              "#bd3786"
             ],
             [
              0.5555555555555556,
              "#d8576b"
             ],
             [
              0.6666666666666666,
              "#ed7953"
             ],
             [
              0.7777777777777778,
              "#fb9f3a"
             ],
             [
              0.8888888888888888,
              "#fdca26"
             ],
             [
              1,
              "#f0f921"
             ]
            ],
            "type": "contour"
           }
          ],
          "contourcarpet": [
           {
            "colorbar": {
             "outlinewidth": 0,
             "ticks": ""
            },
            "type": "contourcarpet"
           }
          ],
          "heatmap": [
           {
            "colorbar": {
             "outlinewidth": 0,
             "ticks": ""
            },
            "colorscale": [
             [
              0,
              "#0d0887"
             ],
             [
              0.1111111111111111,
              "#46039f"
             ],
             [
              0.2222222222222222,
              "#7201a8"
             ],
             [
              0.3333333333333333,
              "#9c179e"
             ],
             [
              0.4444444444444444,
              "#bd3786"
             ],
             [
              0.5555555555555556,
              "#d8576b"
             ],
             [
              0.6666666666666666,
              "#ed7953"
             ],
             [
              0.7777777777777778,
              "#fb9f3a"
             ],
             [
              0.8888888888888888,
              "#fdca26"
             ],
             [
              1,
              "#f0f921"
             ]
            ],
            "type": "heatmap"
           }
          ],
          "heatmapgl": [
           {
            "colorbar": {
             "outlinewidth": 0,
             "ticks": ""
            },
            "colorscale": [
             [
              0,
              "#0d0887"
             ],
             [
              0.1111111111111111,
              "#46039f"
             ],
             [
              0.2222222222222222,
              "#7201a8"
             ],
             [
              0.3333333333333333,
              "#9c179e"
             ],
             [
              0.4444444444444444,
              "#bd3786"
             ],
             [
              0.5555555555555556,
              "#d8576b"
             ],
             [
              0.6666666666666666,
              "#ed7953"
             ],
             [
              0.7777777777777778,
              "#fb9f3a"
             ],
             [
              0.8888888888888888,
              "#fdca26"
             ],
             [
              1,
              "#f0f921"
             ]
            ],
            "type": "heatmapgl"
           }
          ],
          "histogram": [
           {
            "marker": {
             "colorbar": {
              "outlinewidth": 0,
              "ticks": ""
             }
            },
            "type": "histogram"
           }
          ],
          "histogram2d": [
           {
            "colorbar": {
             "outlinewidth": 0,
             "ticks": ""
            },
            "colorscale": [
             [
              0,
              "#0d0887"
             ],
             [
              0.1111111111111111,
              "#46039f"
             ],
             [
              0.2222222222222222,
              "#7201a8"
             ],
             [
              0.3333333333333333,
              "#9c179e"
             ],
             [
              0.4444444444444444,
              "#bd3786"
             ],
             [
              0.5555555555555556,
              "#d8576b"
             ],
             [
              0.6666666666666666,
              "#ed7953"
             ],
             [
              0.7777777777777778,
              "#fb9f3a"
             ],
             [
              0.8888888888888888,
              "#fdca26"
             ],
             [
              1,
              "#f0f921"
             ]
            ],
            "type": "histogram2d"
           }
          ],
          "histogram2dcontour": [
           {
            "colorbar": {
             "outlinewidth": 0,
             "ticks": ""
            },
            "colorscale": [
             [
              0,
              "#0d0887"
             ],
             [
              0.1111111111111111,
              "#46039f"
             ],
             [
              0.2222222222222222,
              "#7201a8"
             ],
             [
              0.3333333333333333,
              "#9c179e"
             ],
             [
              0.4444444444444444,
              "#bd3786"
             ],
             [
              0.5555555555555556,
              "#d8576b"
             ],
             [
              0.6666666666666666,
              "#ed7953"
             ],
             [
              0.7777777777777778,
              "#fb9f3a"
             ],
             [
              0.8888888888888888,
              "#fdca26"
             ],
             [
              1,
              "#f0f921"
             ]
            ],
            "type": "histogram2dcontour"
           }
          ],
          "mesh3d": [
           {
            "colorbar": {
             "outlinewidth": 0,
             "ticks": ""
            },
            "type": "mesh3d"
           }
          ],
          "parcoords": [
           {
            "line": {
             "colorbar": {
              "outlinewidth": 0,
              "ticks": ""
             }
            },
            "type": "parcoords"
           }
          ],
          "pie": [
           {
            "automargin": true,
            "type": "pie"
           }
          ],
          "scatter": [
           {
            "marker": {
             "colorbar": {
              "outlinewidth": 0,
              "ticks": ""
             }
            },
            "type": "scatter"
           }
          ],
          "scatter3d": [
           {
            "line": {
             "colorbar": {
              "outlinewidth": 0,
              "ticks": ""
             }
            },
            "marker": {
             "colorbar": {
              "outlinewidth": 0,
              "ticks": ""
             }
            },
            "type": "scatter3d"
           }
          ],
          "scattercarpet": [
           {
            "marker": {
             "colorbar": {
              "outlinewidth": 0,
              "ticks": ""
             }
            },
            "type": "scattercarpet"
           }
          ],
          "scattergeo": [
           {
            "marker": {
             "colorbar": {
              "outlinewidth": 0,
              "ticks": ""
             }
            },
            "type": "scattergeo"
           }
          ],
          "scattergl": [
           {
            "marker": {
             "colorbar": {
              "outlinewidth": 0,
              "ticks": ""
             }
            },
            "type": "scattergl"
           }
          ],
          "scattermapbox": [
           {
            "marker": {
             "colorbar": {
              "outlinewidth": 0,
              "ticks": ""
             }
            },
            "type": "scattermapbox"
           }
          ],
          "scatterpolar": [
           {
            "marker": {
             "colorbar": {
              "outlinewidth": 0,
              "ticks": ""
             }
            },
            "type": "scatterpolar"
           }
          ],
          "scatterpolargl": [
           {
            "marker": {
             "colorbar": {
              "outlinewidth": 0,
              "ticks": ""
             }
            },
            "type": "scatterpolargl"
           }
          ],
          "scatterternary": [
           {
            "marker": {
             "colorbar": {
              "outlinewidth": 0,
              "ticks": ""
             }
            },
            "type": "scatterternary"
           }
          ],
          "surface": [
           {
            "colorbar": {
             "outlinewidth": 0,
             "ticks": ""
            },
            "colorscale": [
             [
              0,
              "#0d0887"
             ],
             [
              0.1111111111111111,
              "#46039f"
             ],
             [
              0.2222222222222222,
              "#7201a8"
             ],
             [
              0.3333333333333333,
              "#9c179e"
             ],
             [
              0.4444444444444444,
              "#bd3786"
             ],
             [
              0.5555555555555556,
              "#d8576b"
             ],
             [
              0.6666666666666666,
              "#ed7953"
             ],
             [
              0.7777777777777778,
              "#fb9f3a"
             ],
             [
              0.8888888888888888,
              "#fdca26"
             ],
             [
              1,
              "#f0f921"
             ]
            ],
            "type": "surface"
           }
          ],
          "table": [
           {
            "cells": {
             "fill": {
              "color": "#EBF0F8"
             },
             "line": {
              "color": "white"
             }
            },
            "header": {
             "fill": {
              "color": "#C8D4E3"
             },
             "line": {
              "color": "white"
             }
            },
            "type": "table"
           }
          ]
         },
         "layout": {
          "annotationdefaults": {
           "arrowcolor": "#2a3f5f",
           "arrowhead": 0,
           "arrowwidth": 1
          },
          "autotypenumbers": "strict",
          "coloraxis": {
           "colorbar": {
            "outlinewidth": 0,
            "ticks": ""
           }
          },
          "colorscale": {
           "diverging": [
            [
             0,
             "#8e0152"
            ],
            [
             0.1,
             "#c51b7d"
            ],
            [
             0.2,
             "#de77ae"
            ],
            [
             0.3,
             "#f1b6da"
            ],
            [
             0.4,
             "#fde0ef"
            ],
            [
             0.5,
             "#f7f7f7"
            ],
            [
             0.6,
             "#e6f5d0"
            ],
            [
             0.7,
             "#b8e186"
            ],
            [
             0.8,
             "#7fbc41"
            ],
            [
             0.9,
             "#4d9221"
            ],
            [
             1,
             "#276419"
            ]
           ],
           "sequential": [
            [
             0,
             "#0d0887"
            ],
            [
             0.1111111111111111,
             "#46039f"
            ],
            [
             0.2222222222222222,
             "#7201a8"
            ],
            [
             0.3333333333333333,
             "#9c179e"
            ],
            [
             0.4444444444444444,
             "#bd3786"
            ],
            [
             0.5555555555555556,
             "#d8576b"
            ],
            [
             0.6666666666666666,
             "#ed7953"
            ],
            [
             0.7777777777777778,
             "#fb9f3a"
            ],
            [
             0.8888888888888888,
             "#fdca26"
            ],
            [
             1,
             "#f0f921"
            ]
           ],
           "sequentialminus": [
            [
             0,
             "#0d0887"
            ],
            [
             0.1111111111111111,
             "#46039f"
            ],
            [
             0.2222222222222222,
             "#7201a8"
            ],
            [
             0.3333333333333333,
             "#9c179e"
            ],
            [
             0.4444444444444444,
             "#bd3786"
            ],
            [
             0.5555555555555556,
             "#d8576b"
            ],
            [
             0.6666666666666666,
             "#ed7953"
            ],
            [
             0.7777777777777778,
             "#fb9f3a"
            ],
            [
             0.8888888888888888,
             "#fdca26"
            ],
            [
             1,
             "#f0f921"
            ]
           ]
          },
          "colorway": [
           "#636efa",
           "#EF553B",
           "#00cc96",
           "#ab63fa",
           "#FFA15A",
           "#19d3f3",
           "#FF6692",
           "#B6E880",
           "#FF97FF",
           "#FECB52"
          ],
          "font": {
           "color": "#2a3f5f"
          },
          "geo": {
           "bgcolor": "white",
           "lakecolor": "white",
           "landcolor": "#E5ECF6",
           "showlakes": true,
           "showland": true,
           "subunitcolor": "white"
          },
          "hoverlabel": {
           "align": "left"
          },
          "hovermode": "closest",
          "mapbox": {
           "style": "light"
          },
          "paper_bgcolor": "white",
          "plot_bgcolor": "#E5ECF6",
          "polar": {
           "angularaxis": {
            "gridcolor": "white",
            "linecolor": "white",
            "ticks": ""
           },
           "bgcolor": "#E5ECF6",
           "radialaxis": {
            "gridcolor": "white",
            "linecolor": "white",
            "ticks": ""
           }
          },
          "scene": {
           "xaxis": {
            "backgroundcolor": "#E5ECF6",
            "gridcolor": "white",
            "gridwidth": 2,
            "linecolor": "white",
            "showbackground": true,
            "ticks": "",
            "zerolinecolor": "white"
           },
           "yaxis": {
            "backgroundcolor": "#E5ECF6",
            "gridcolor": "white",
            "gridwidth": 2,
            "linecolor": "white",
            "showbackground": true,
            "ticks": "",
            "zerolinecolor": "white"
           },
           "zaxis": {
            "backgroundcolor": "#E5ECF6",
            "gridcolor": "white",
            "gridwidth": 2,
            "linecolor": "white",
            "showbackground": true,
            "ticks": "",
            "zerolinecolor": "white"
           }
          },
          "shapedefaults": {
           "line": {
            "color": "#2a3f5f"
           }
          },
          "ternary": {
           "aaxis": {
            "gridcolor": "white",
            "linecolor": "white",
            "ticks": ""
           },
           "baxis": {
            "gridcolor": "white",
            "linecolor": "white",
            "ticks": ""
           },
           "bgcolor": "#E5ECF6",
           "caxis": {
            "gridcolor": "white",
            "linecolor": "white",
            "ticks": ""
           }
          },
          "title": {
           "x": 0.05
          },
          "xaxis": {
           "automargin": true,
           "gridcolor": "white",
           "linecolor": "white",
           "ticks": "",
           "title": {
            "standoff": 15
           },
           "zerolinecolor": "white",
           "zerolinewidth": 2
          },
          "yaxis": {
           "automargin": true,
           "gridcolor": "white",
           "linecolor": "white",
           "ticks": "",
           "title": {
            "standoff": 15
           },
           "zerolinecolor": "white",
           "zerolinewidth": 2
          }
         }
        },
        "title": {
         "text": "Averaged-Differenced-Zori vs. Differenced Housing Units Over 50"
        },
        "width": 1000,
        "xaxis": {
         "anchor": "y",
         "domain": [
          0,
          1
         ],
         "title": {
          "text": "Time"
         }
        },
        "yaxis": {
         "anchor": "x",
         "domain": [
          0,
          1
         ],
         "title": {
          "text": "value"
         }
        }
       }
      },
      "text/html": [
       "<div>                            <div id=\"a55a8b39-5ede-4fa0-a056-ed7a87df8024\" class=\"plotly-graph-div\" style=\"height:600px; width:1000px;\"></div>            <script type=\"text/javascript\">                require([\"plotly\"], function(Plotly) {                    window.PLOTLYENV=window.PLOTLYENV || {};                                    if (document.getElementById(\"a55a8b39-5ede-4fa0-a056-ed7a87df8024\")) {                    Plotly.newPlot(                        \"a55a8b39-5ede-4fa0-a056-ed7a87df8024\",                        [{\"hovertemplate\": \"variable=zori_diff<br>Time=%{x}<br>value=%{y}<extra></extra>\", \"legendgroup\": \"zori_diff\", \"line\": {\"color\": \"#636efa\", \"dash\": \"solid\"}, \"mode\": \"lines\", \"name\": \"zori_diff\", \"orientation\": \"v\", \"showlegend\": true, \"type\": \"scatter\", \"x\": [\"2014-01-01T00:00:00\", \"2014-02-01T00:00:00\", \"2014-03-01T00:00:00\", \"2014-04-01T00:00:00\", \"2014-05-01T00:00:00\", \"2014-06-01T00:00:00\", \"2014-07-01T00:00:00\", \"2014-08-01T00:00:00\", \"2014-09-01T00:00:00\", \"2014-10-01T00:00:00\", \"2014-11-01T00:00:00\", \"2014-12-01T00:00:00\", \"2015-01-01T00:00:00\", \"2015-02-01T00:00:00\", \"2015-03-01T00:00:00\", \"2015-04-01T00:00:00\", \"2015-05-01T00:00:00\", \"2015-06-01T00:00:00\", \"2015-07-01T00:00:00\", \"2015-08-01T00:00:00\", \"2015-09-01T00:00:00\", \"2015-10-01T00:00:00\", \"2015-11-01T00:00:00\", \"2015-12-01T00:00:00\", \"2016-01-01T00:00:00\", \"2016-02-01T00:00:00\", \"2016-03-01T00:00:00\", \"2016-04-01T00:00:00\", \"2016-05-01T00:00:00\", \"2016-06-01T00:00:00\", \"2016-07-01T00:00:00\", \"2016-08-01T00:00:00\", \"2016-09-01T00:00:00\", \"2016-10-01T00:00:00\", \"2016-11-01T00:00:00\", \"2016-12-01T00:00:00\", \"2017-01-01T00:00:00\", \"2017-02-01T00:00:00\", \"2017-03-01T00:00:00\", \"2017-04-01T00:00:00\", \"2017-05-01T00:00:00\", \"2017-06-01T00:00:00\", \"2017-07-01T00:00:00\", \"2017-08-01T00:00:00\", \"2017-09-01T00:00:00\", \"2017-10-01T00:00:00\", \"2017-11-01T00:00:00\", \"2017-12-01T00:00:00\", \"2018-01-01T00:00:00\", \"2018-02-01T00:00:00\", \"2018-03-01T00:00:00\", \"2018-04-01T00:00:00\", \"2018-05-01T00:00:00\", \"2018-06-01T00:00:00\", \"2018-07-01T00:00:00\", \"2018-08-01T00:00:00\", \"2018-09-01T00:00:00\", \"2018-10-01T00:00:00\", \"2018-11-01T00:00:00\", \"2018-12-01T00:00:00\", \"2019-01-01T00:00:00\", \"2019-02-01T00:00:00\", \"2019-03-01T00:00:00\", \"2019-04-01T00:00:00\", \"2019-05-01T00:00:00\", \"2019-06-01T00:00:00\", \"2019-07-01T00:00:00\", \"2019-08-01T00:00:00\", \"2019-09-01T00:00:00\", \"2019-10-01T00:00:00\", \"2019-11-01T00:00:00\", \"2019-12-01T00:00:00\", \"2020-01-01T00:00:00\", \"2020-02-01T00:00:00\", \"2020-03-01T00:00:00\", \"2020-04-01T00:00:00\", \"2020-05-01T00:00:00\", \"2020-06-01T00:00:00\", \"2020-07-01T00:00:00\", \"2020-08-01T00:00:00\", \"2020-09-01T00:00:00\", \"2020-10-01T00:00:00\", \"2020-11-01T00:00:00\", \"2020-12-01T00:00:00\", \"2021-01-01T00:00:00\", \"2021-02-01T00:00:00\", \"2021-03-01T00:00:00\", \"2021-04-01T00:00:00\", \"2021-05-01T00:00:00\", \"2021-06-01T00:00:00\", \"2021-07-01T00:00:00\", \"2021-08-01T00:00:00\"], \"xaxis\": \"x\", \"y\": [null, 3.858914728682066, 4.686821705426382, 4.756589147286832, 4.692248062015551, 4.751937984495953, 4.7666666666666515, 4.829457364341351, 4.903875968991997, 4.841472868217124, 4.8724806201548745, 4.7085271317830575, 4.594019933555046, 4.285880398670997, 4.223089700996752, 4.179291251384029, 4.069988925803273, 4.038205980066095, 4.051384274640441, 3.972093023255411, 3.8453488372097127, 3.9461240310074572, 3.7430232558140233, 3.737441860464969, 3.719534883721053, 3.421085271317679, 3.392403100775482, 3.4226356589142597, 3.1103875968995, 3.118604651162741, 3.0930232558139323, 3.018604651162832, 3.046511627906966, 3.005426356589396, 2.94728682170512, 2.9775193798450346, 2.934883720930202, 2.953488372093034, 2.934883720930202, 2.975968992248454, 3.0596899224801746, 3.0434108527133503, 3.041860465116315, 3.0279069767441342, 3.041860465116315, 3.0279069767441342, 3.0069767441859767, 3.035658914728856, 3.0891472868215715, 3.29147286821717, 3.3953488372092124, 3.300775193798245, 3.644961240310522, 3.5937984496122226, 3.6666666666667425, 3.7224806201547835, 3.7317829457365406, 3.7116279069766733, 3.8325581395349673, 3.7813953488371226, 3.8186046511627865, 3.744186046511686, 3.767441860465169, 3.690697674418516, 3.6720930232559112, 3.683720930232539, 3.6697674418605857, 3.1813953488372135, 3.2279069767441797, 3.13488372093002, 2.1593023255813932, 2.059302325581484, 2.0825581395349673, 1.9500000000000455, 1.9457364341085395, 2.003100775193616, 2.8124031007753274, 2.8248062015502455, 2.867441860465078, 5.737209302325709, 5.981395348837168, 5.953488372093034, 10.255813953488314, 10.348837209302474, 10.381395348837032, 10.869767441860631, 10.809302325581257, 10.869767441860631, 11.45581395348836, 11.441860465116179, 11.465116279069889, null], \"yaxis\": \"y\"}, {\"hovertemplate\": \"variable=housing_units_over_50_units_diff<br>Time=%{x}<br>value=%{y}<extra></extra>\", \"legendgroup\": \"housing_units_over_50_units_diff\", \"line\": {\"color\": \"#EF553B\", \"dash\": \"solid\"}, \"mode\": \"lines\", \"name\": \"housing_units_over_50_units_diff\", \"orientation\": \"v\", \"showlegend\": true, \"type\": \"scatter\", \"x\": [\"2014-01-01T00:00:00\", \"2014-02-01T00:00:00\", \"2014-03-01T00:00:00\", \"2014-04-01T00:00:00\", \"2014-05-01T00:00:00\", \"2014-06-01T00:00:00\", \"2014-07-01T00:00:00\", \"2014-08-01T00:00:00\", \"2014-09-01T00:00:00\", \"2014-10-01T00:00:00\", \"2014-11-01T00:00:00\", \"2014-12-01T00:00:00\", \"2015-01-01T00:00:00\", \"2015-02-01T00:00:00\", \"2015-03-01T00:00:00\", \"2015-04-01T00:00:00\", \"2015-05-01T00:00:00\", \"2015-06-01T00:00:00\", \"2015-07-01T00:00:00\", \"2015-08-01T00:00:00\", \"2015-09-01T00:00:00\", \"2015-10-01T00:00:00\", \"2015-11-01T00:00:00\", \"2015-12-01T00:00:00\", \"2016-01-01T00:00:00\", \"2016-02-01T00:00:00\", \"2016-03-01T00:00:00\", \"2016-04-01T00:00:00\", \"2016-05-01T00:00:00\", \"2016-06-01T00:00:00\", \"2016-07-01T00:00:00\", \"2016-08-01T00:00:00\", \"2016-09-01T00:00:00\", \"2016-10-01T00:00:00\", \"2016-11-01T00:00:00\", \"2016-12-01T00:00:00\", \"2017-01-01T00:00:00\", \"2017-02-01T00:00:00\", \"2017-03-01T00:00:00\", \"2017-04-01T00:00:00\", \"2017-05-01T00:00:00\", \"2017-06-01T00:00:00\", \"2017-07-01T00:00:00\", \"2017-08-01T00:00:00\", \"2017-09-01T00:00:00\", \"2017-10-01T00:00:00\", \"2017-11-01T00:00:00\", \"2017-12-01T00:00:00\", \"2018-01-01T00:00:00\", \"2018-02-01T00:00:00\", \"2018-03-01T00:00:00\", \"2018-04-01T00:00:00\", \"2018-05-01T00:00:00\", \"2018-06-01T00:00:00\", \"2018-07-01T00:00:00\", \"2018-08-01T00:00:00\", \"2018-09-01T00:00:00\", \"2018-10-01T00:00:00\", \"2018-11-01T00:00:00\", \"2018-12-01T00:00:00\", \"2019-01-01T00:00:00\", \"2019-02-01T00:00:00\", \"2019-03-01T00:00:00\", \"2019-04-01T00:00:00\", \"2019-05-01T00:00:00\", \"2019-06-01T00:00:00\", \"2019-07-01T00:00:00\", \"2019-08-01T00:00:00\", \"2019-09-01T00:00:00\", \"2019-10-01T00:00:00\", \"2019-11-01T00:00:00\", \"2019-12-01T00:00:00\", \"2020-01-01T00:00:00\", \"2020-02-01T00:00:00\", \"2020-03-01T00:00:00\", \"2020-04-01T00:00:00\", \"2020-05-01T00:00:00\", \"2020-06-01T00:00:00\", \"2020-07-01T00:00:00\", \"2020-08-01T00:00:00\", \"2020-09-01T00:00:00\", \"2020-10-01T00:00:00\", \"2020-11-01T00:00:00\", \"2020-12-01T00:00:00\", \"2021-01-01T00:00:00\", \"2021-02-01T00:00:00\", \"2021-03-01T00:00:00\", \"2021-04-01T00:00:00\", \"2021-05-01T00:00:00\", \"2021-06-01T00:00:00\", \"2021-07-01T00:00:00\", \"2021-08-01T00:00:00\"], \"xaxis\": \"x\", \"y\": [null, null, null, null, null, null, null, null, null, null, null, null, 57.34579439252343, 57.34579439252343, 57.34579439252343, 57.34579439252343, 57.34579439252343, 57.34579439252343, 57.34579439252343, 59.03271028037375, 59.03271028037375, 59.03271028037375, 59.03271028037375, 59.03271028037375, 59.03271028037375, 59.03271028037375, 59.03271028037375, 59.03271028037375, 59.03271028037375, 59.03271028037375, 59.03271028037375, 44.47196261682245, 44.47196261682245, 44.47196261682245, 44.47196261682245, 44.47196261682245, 44.47196261682245, 44.47196261682245, 44.47196261682245, 44.47196261682245, 44.47196261682245, 44.47196261682245, 44.47196261682245, 70.85981308411215, 70.85981308411215, 70.85981308411215, 70.85981308411215, 70.85981308411215, 70.85981308411215, 70.85981308411215, 70.85981308411215, 70.85981308411215, 70.85981308411215, 70.85981308411215, 70.85981308411215, 71.80373831775705, 71.80373831775705, 71.80373831775705, 71.80373831775705, 71.80373831775705, 71.80373831775705, 71.80373831775705, 71.80373831775705, 71.80373831775705, 71.80373831775705, 71.80373831775705, 71.80373831775705, 76.07476635514013, 76.07476635514013, 76.07476635514013, 76.07476635514013, 76.07476635514013, 76.07476635514013, 76.07476635514013, 76.07476635514013, 76.07476635514013, 76.07476635514013, 76.07476635514013, 76.07476635514013, 109.52803738317766, 109.52803738317766, 109.52803738317766, 109.52803738317766, 109.52803738317766, 109.52803738317766, 109.52803738317766, 109.52803738317766, 109.52803738317766, 109.52803738317766, 109.52803738317766, 109.52803738317766, null], \"yaxis\": \"y\"}],                        {\"height\": 600, \"legend\": {\"title\": {\"text\": \"variable\"}, \"tracegroupgap\": 0}, \"template\": {\"data\": {\"bar\": [{\"error_x\": {\"color\": \"#2a3f5f\"}, \"error_y\": {\"color\": \"#2a3f5f\"}, \"marker\": {\"line\": {\"color\": \"#E5ECF6\", \"width\": 0.5}}, \"type\": \"bar\"}], \"barpolar\": [{\"marker\": {\"line\": {\"color\": \"#E5ECF6\", \"width\": 0.5}}, \"type\": \"barpolar\"}], \"carpet\": [{\"aaxis\": {\"endlinecolor\": \"#2a3f5f\", \"gridcolor\": \"white\", \"linecolor\": \"white\", \"minorgridcolor\": \"white\", \"startlinecolor\": \"#2a3f5f\"}, \"baxis\": {\"endlinecolor\": \"#2a3f5f\", \"gridcolor\": \"white\", \"linecolor\": \"white\", \"minorgridcolor\": \"white\", \"startlinecolor\": \"#2a3f5f\"}, \"type\": \"carpet\"}], \"choropleth\": [{\"colorbar\": {\"outlinewidth\": 0, \"ticks\": \"\"}, \"type\": \"choropleth\"}], \"contour\": [{\"colorbar\": {\"outlinewidth\": 0, \"ticks\": \"\"}, \"colorscale\": [[0.0, \"#0d0887\"], [0.1111111111111111, \"#46039f\"], [0.2222222222222222, \"#7201a8\"], [0.3333333333333333, \"#9c179e\"], [0.4444444444444444, \"#bd3786\"], [0.5555555555555556, \"#d8576b\"], [0.6666666666666666, \"#ed7953\"], [0.7777777777777778, \"#fb9f3a\"], [0.8888888888888888, \"#fdca26\"], [1.0, \"#f0f921\"]], \"type\": \"contour\"}], \"contourcarpet\": [{\"colorbar\": {\"outlinewidth\": 0, \"ticks\": \"\"}, \"type\": \"contourcarpet\"}], \"heatmap\": [{\"colorbar\": {\"outlinewidth\": 0, \"ticks\": \"\"}, \"colorscale\": [[0.0, \"#0d0887\"], [0.1111111111111111, \"#46039f\"], [0.2222222222222222, \"#7201a8\"], [0.3333333333333333, \"#9c179e\"], [0.4444444444444444, \"#bd3786\"], [0.5555555555555556, \"#d8576b\"], [0.6666666666666666, \"#ed7953\"], [0.7777777777777778, \"#fb9f3a\"], [0.8888888888888888, \"#fdca26\"], [1.0, \"#f0f921\"]], \"type\": \"heatmap\"}], \"heatmapgl\": [{\"colorbar\": {\"outlinewidth\": 0, \"ticks\": \"\"}, \"colorscale\": [[0.0, \"#0d0887\"], [0.1111111111111111, \"#46039f\"], [0.2222222222222222, \"#7201a8\"], [0.3333333333333333, \"#9c179e\"], [0.4444444444444444, \"#bd3786\"], [0.5555555555555556, \"#d8576b\"], [0.6666666666666666, \"#ed7953\"], [0.7777777777777778, \"#fb9f3a\"], [0.8888888888888888, \"#fdca26\"], [1.0, \"#f0f921\"]], \"type\": \"heatmapgl\"}], \"histogram\": [{\"marker\": {\"colorbar\": {\"outlinewidth\": 0, \"ticks\": \"\"}}, \"type\": \"histogram\"}], \"histogram2d\": [{\"colorbar\": {\"outlinewidth\": 0, \"ticks\": \"\"}, \"colorscale\": [[0.0, \"#0d0887\"], [0.1111111111111111, \"#46039f\"], [0.2222222222222222, \"#7201a8\"], [0.3333333333333333, \"#9c179e\"], [0.4444444444444444, \"#bd3786\"], [0.5555555555555556, \"#d8576b\"], [0.6666666666666666, \"#ed7953\"], [0.7777777777777778, \"#fb9f3a\"], [0.8888888888888888, \"#fdca26\"], [1.0, \"#f0f921\"]], \"type\": \"histogram2d\"}], \"histogram2dcontour\": [{\"colorbar\": {\"outlinewidth\": 0, \"ticks\": \"\"}, \"colorscale\": [[0.0, \"#0d0887\"], [0.1111111111111111, \"#46039f\"], [0.2222222222222222, \"#7201a8\"], [0.3333333333333333, \"#9c179e\"], [0.4444444444444444, \"#bd3786\"], [0.5555555555555556, \"#d8576b\"], [0.6666666666666666, \"#ed7953\"], [0.7777777777777778, \"#fb9f3a\"], [0.8888888888888888, \"#fdca26\"], [1.0, \"#f0f921\"]], \"type\": \"histogram2dcontour\"}], \"mesh3d\": [{\"colorbar\": {\"outlinewidth\": 0, \"ticks\": \"\"}, \"type\": \"mesh3d\"}], \"parcoords\": [{\"line\": {\"colorbar\": {\"outlinewidth\": 0, \"ticks\": \"\"}}, \"type\": \"parcoords\"}], \"pie\": [{\"automargin\": true, \"type\": \"pie\"}], \"scatter\": [{\"marker\": {\"colorbar\": {\"outlinewidth\": 0, \"ticks\": \"\"}}, \"type\": \"scatter\"}], \"scatter3d\": [{\"line\": {\"colorbar\": {\"outlinewidth\": 0, \"ticks\": \"\"}}, \"marker\": {\"colorbar\": {\"outlinewidth\": 0, \"ticks\": \"\"}}, \"type\": \"scatter3d\"}], \"scattercarpet\": [{\"marker\": {\"colorbar\": {\"outlinewidth\": 0, \"ticks\": \"\"}}, \"type\": \"scattercarpet\"}], \"scattergeo\": [{\"marker\": {\"colorbar\": {\"outlinewidth\": 0, \"ticks\": \"\"}}, \"type\": \"scattergeo\"}], \"scattergl\": [{\"marker\": {\"colorbar\": {\"outlinewidth\": 0, \"ticks\": \"\"}}, \"type\": \"scattergl\"}], \"scattermapbox\": [{\"marker\": {\"colorbar\": {\"outlinewidth\": 0, \"ticks\": \"\"}}, \"type\": \"scattermapbox\"}], \"scatterpolar\": [{\"marker\": {\"colorbar\": {\"outlinewidth\": 0, \"ticks\": \"\"}}, \"type\": \"scatterpolar\"}], \"scatterpolargl\": [{\"marker\": {\"colorbar\": {\"outlinewidth\": 0, \"ticks\": \"\"}}, \"type\": \"scatterpolargl\"}], \"scatterternary\": [{\"marker\": {\"colorbar\": {\"outlinewidth\": 0, \"ticks\": \"\"}}, \"type\": \"scatterternary\"}], \"surface\": [{\"colorbar\": {\"outlinewidth\": 0, \"ticks\": \"\"}, \"colorscale\": [[0.0, \"#0d0887\"], [0.1111111111111111, \"#46039f\"], [0.2222222222222222, \"#7201a8\"], [0.3333333333333333, \"#9c179e\"], [0.4444444444444444, \"#bd3786\"], [0.5555555555555556, \"#d8576b\"], [0.6666666666666666, \"#ed7953\"], [0.7777777777777778, \"#fb9f3a\"], [0.8888888888888888, \"#fdca26\"], [1.0, \"#f0f921\"]], \"type\": \"surface\"}], \"table\": [{\"cells\": {\"fill\": {\"color\": \"#EBF0F8\"}, \"line\": {\"color\": \"white\"}}, \"header\": {\"fill\": {\"color\": \"#C8D4E3\"}, \"line\": {\"color\": \"white\"}}, \"type\": \"table\"}]}, \"layout\": {\"annotationdefaults\": {\"arrowcolor\": \"#2a3f5f\", \"arrowhead\": 0, \"arrowwidth\": 1}, \"autotypenumbers\": \"strict\", \"coloraxis\": {\"colorbar\": {\"outlinewidth\": 0, \"ticks\": \"\"}}, \"colorscale\": {\"diverging\": [[0, \"#8e0152\"], [0.1, \"#c51b7d\"], [0.2, \"#de77ae\"], [0.3, \"#f1b6da\"], [0.4, \"#fde0ef\"], [0.5, \"#f7f7f7\"], [0.6, \"#e6f5d0\"], [0.7, \"#b8e186\"], [0.8, \"#7fbc41\"], [0.9, \"#4d9221\"], [1, \"#276419\"]], \"sequential\": [[0.0, \"#0d0887\"], [0.1111111111111111, \"#46039f\"], [0.2222222222222222, \"#7201a8\"], [0.3333333333333333, \"#9c179e\"], [0.4444444444444444, \"#bd3786\"], [0.5555555555555556, \"#d8576b\"], [0.6666666666666666, \"#ed7953\"], [0.7777777777777778, \"#fb9f3a\"], [0.8888888888888888, \"#fdca26\"], [1.0, \"#f0f921\"]], \"sequentialminus\": [[0.0, \"#0d0887\"], [0.1111111111111111, \"#46039f\"], [0.2222222222222222, \"#7201a8\"], [0.3333333333333333, \"#9c179e\"], [0.4444444444444444, \"#bd3786\"], [0.5555555555555556, \"#d8576b\"], [0.6666666666666666, \"#ed7953\"], [0.7777777777777778, \"#fb9f3a\"], [0.8888888888888888, \"#fdca26\"], [1.0, \"#f0f921\"]]}, \"colorway\": [\"#636efa\", \"#EF553B\", \"#00cc96\", \"#ab63fa\", \"#FFA15A\", \"#19d3f3\", \"#FF6692\", \"#B6E880\", \"#FF97FF\", \"#FECB52\"], \"font\": {\"color\": \"#2a3f5f\"}, \"geo\": {\"bgcolor\": \"white\", \"lakecolor\": \"white\", \"landcolor\": \"#E5ECF6\", \"showlakes\": true, \"showland\": true, \"subunitcolor\": \"white\"}, \"hoverlabel\": {\"align\": \"left\"}, \"hovermode\": \"closest\", \"mapbox\": {\"style\": \"light\"}, \"paper_bgcolor\": \"white\", \"plot_bgcolor\": \"#E5ECF6\", \"polar\": {\"angularaxis\": {\"gridcolor\": \"white\", \"linecolor\": \"white\", \"ticks\": \"\"}, \"bgcolor\": \"#E5ECF6\", \"radialaxis\": {\"gridcolor\": \"white\", \"linecolor\": \"white\", \"ticks\": \"\"}}, \"scene\": {\"xaxis\": {\"backgroundcolor\": \"#E5ECF6\", \"gridcolor\": \"white\", \"gridwidth\": 2, \"linecolor\": \"white\", \"showbackground\": true, \"ticks\": \"\", \"zerolinecolor\": \"white\"}, \"yaxis\": {\"backgroundcolor\": \"#E5ECF6\", \"gridcolor\": \"white\", \"gridwidth\": 2, \"linecolor\": \"white\", \"showbackground\": true, \"ticks\": \"\", \"zerolinecolor\": \"white\"}, \"zaxis\": {\"backgroundcolor\": \"#E5ECF6\", \"gridcolor\": \"white\", \"gridwidth\": 2, \"linecolor\": \"white\", \"showbackground\": true, \"ticks\": \"\", \"zerolinecolor\": \"white\"}}, \"shapedefaults\": {\"line\": {\"color\": \"#2a3f5f\"}}, \"ternary\": {\"aaxis\": {\"gridcolor\": \"white\", \"linecolor\": \"white\", \"ticks\": \"\"}, \"baxis\": {\"gridcolor\": \"white\", \"linecolor\": \"white\", \"ticks\": \"\"}, \"bgcolor\": \"#E5ECF6\", \"caxis\": {\"gridcolor\": \"white\", \"linecolor\": \"white\", \"ticks\": \"\"}}, \"title\": {\"x\": 0.05}, \"xaxis\": {\"automargin\": true, \"gridcolor\": \"white\", \"linecolor\": \"white\", \"ticks\": \"\", \"title\": {\"standoff\": 15}, \"zerolinecolor\": \"white\", \"zerolinewidth\": 2}, \"yaxis\": {\"automargin\": true, \"gridcolor\": \"white\", \"linecolor\": \"white\", \"ticks\": \"\", \"title\": {\"standoff\": 15}, \"zerolinecolor\": \"white\", \"zerolinewidth\": 2}}}, \"title\": {\"text\": \"Averaged-Differenced-Zori vs. Differenced Housing Units Over 50\"}, \"width\": 1000, \"xaxis\": {\"anchor\": \"y\", \"domain\": [0.0, 1.0], \"title\": {\"text\": \"Time\"}}, \"yaxis\": {\"anchor\": \"x\", \"domain\": [0.0, 1.0], \"title\": {\"text\": \"value\"}}},                        {\"responsive\": true}                    ).then(function(){\n",
       "                            \n",
       "var gd = document.getElementById('a55a8b39-5ede-4fa0-a056-ed7a87df8024');\n",
       "var x = new MutationObserver(function (mutations, observer) {{\n",
       "        var display = window.getComputedStyle(gd).display;\n",
       "        if (!display || display === 'none') {{\n",
       "            console.log([gd, 'removed!']);\n",
       "            Plotly.purge(gd);\n",
       "            observer.disconnect();\n",
       "        }}\n",
       "}});\n",
       "\n",
       "// Listen for the removal of the full notebook cells\n",
       "var notebookContainer = gd.closest('#notebook-container');\n",
       "if (notebookContainer) {{\n",
       "    x.observe(notebookContainer, {childList: true});\n",
       "}}\n",
       "\n",
       "// Listen for the clearing of the current output cell\n",
       "var outputEl = gd.closest('.output');\n",
       "if (outputEl) {{\n",
       "    x.observe(outputEl, {childList: true});\n",
       "}}\n",
       "\n",
       "                        })                };                });            </script>        </div>"
      ]
     },
     "metadata": {},
     "output_type": "display_data"
    }
   ],
   "source": [
    "fig = px.line(data_frame = agg, x = 'Time', y = ['zori_diff',\n",
    "                                                'housing_units_over_50_units_diff'],\n",
    "              title = 'Averaged-Differenced-Zori vs. Differenced Housing Units Over 50',\n",
    "             height = 600, width = 1000)\n",
    "fig.show()"
   ]
  },
  {
   "cell_type": "code",
   "execution_count": 158,
   "metadata": {},
   "outputs": [
    {
     "data": {
      "text/plain": [
       "{'Consumer Confidence Index TX',\n",
       " 'Consumer Confidence Index US',\n",
       " 'Consumer Confidence West South Central',\n",
       " 'Consumer Price Index TX',\n",
       " 'Consumer Price Index U.S.',\n",
       " 'Existing Single Family Home Price TX',\n",
       " 'Existing Single Family Home Sales TX',\n",
       " 'Gross Value Crude Oil Production',\n",
       " 'Gross Value Natural Gas Production',\n",
       " 'Gross_Value_Crude_Oil_Production_percent_change',\n",
       " 'Gross_Value_Natural_Gas_Production_percent_change',\n",
       " 'Motor Fuel Taxed Diesel',\n",
       " 'Motor Fuel Taxed Gasoline',\n",
       " 'Multi Family Building Permits TX',\n",
       " 'Non Residential Building Construction',\n",
       " 'Nonfarm Employment California',\n",
       " 'Nonfarm Employment Florida',\n",
       " 'Nonfarm Employment Illinois',\n",
       " 'Nonfarm Employment New York',\n",
       " 'Nonfarm Employment TX',\n",
       " 'Nonfarm Employment Texas',\n",
       " 'Nonfarm Employment U.S.',\n",
       " 'Retail Diesel Price TX',\n",
       " 'Retail Gasoline Price TX',\n",
       " 'Retail_gas_price_differenced',\n",
       " 'Single Family Building Permits TX',\n",
       " 'Time',\n",
       " 'Total Sales Tax Collections Retail TX',\n",
       " 'Total Sales Tax Collections TX',\n",
       " 'Unemployment TX',\n",
       " 'Unemployment U.S.',\n",
       " 'Unemployment_percent_change',\n",
       " 'aggregate_travel_time_to_work',\n",
       " 'amerindian_pop',\n",
       " 'armed_forces',\n",
       " 'asian_pop',\n",
       " 'average_household_size',\n",
       " 'average_household_size_owners',\n",
       " 'average_household_size_renters',\n",
       " 'bachelors_degree',\n",
       " 'batch_high_school_ratio',\n",
       " 'bicycle_population',\n",
       " 'black_pop',\n",
       " 'carpool_population',\n",
       " 'children',\n",
       " 'commuters_by_public_transportation',\n",
       " 'commuting_population',\n",
       " 'diff_from_med_income_ratio_to_median_rent',\n",
       " 'divorced_men',\n",
       " 'divorced_women',\n",
       " 'driving_alone_population',\n",
       " 'education_population',\n",
       " 'employed_pop',\n",
       " 'female_18_to_19',\n",
       " 'female_20',\n",
       " 'female_21',\n",
       " 'female_22_to_24',\n",
       " 'female_25_to_29',\n",
       " 'female_30_to_34',\n",
       " 'female_35_to_39',\n",
       " 'female_40_to_44',\n",
       " 'female_45_to_49',\n",
       " 'female_50_to_54',\n",
       " 'female_55_to_59',\n",
       " 'female_60_to_61',\n",
       " 'female_62_to_64',\n",
       " 'female_67_to_69',\n",
       " 'female_70_to_74',\n",
       " 'female_75_to_79',\n",
       " 'female_80_to_84',\n",
       " 'female_85_over',\n",
       " 'female_female_households',\n",
       " 'female_pop',\n",
       " 'female_population',\n",
       " 'food_stamp_ratio',\n",
       " 'gini_coeficient',\n",
       " 'gini_index',\n",
       " 'high_school_diploma',\n",
       " 'hispanic_pop',\n",
       " 'households_public_asst_or_food_stamps',\n",
       " 'housing_units',\n",
       " 'housing_units_10_to_19_units',\n",
       " 'housing_units_10_to_19_units_owned',\n",
       " 'housing_units_10_to_19_units_rented',\n",
       " 'housing_units_20_to_49_units',\n",
       " 'housing_units_20_to_49_units_owned',\n",
       " 'housing_units_20_to_49_units_rented',\n",
       " 'housing_units_3_to_4_units',\n",
       " 'housing_units_3_to_4_units_owned',\n",
       " 'housing_units_3_to_4_units_rented',\n",
       " 'housing_units_5_to_9_units',\n",
       " 'housing_units_5_to_9_units_owned',\n",
       " 'housing_units_5_to_9_units_rented',\n",
       " 'housing_units_built_1930_to_1939',\n",
       " 'housing_units_built_1940_to_1949',\n",
       " 'housing_units_built_1950_to_1959',\n",
       " 'housing_units_built_1960_to_1969',\n",
       " 'housing_units_built_1970_to_1979',\n",
       " 'housing_units_built_1980_to_1989',\n",
       " 'housing_units_built_1990_to_1999',\n",
       " 'housing_units_duplex',\n",
       " 'housing_units_duplex_owned',\n",
       " 'housing_units_duplex_rented',\n",
       " 'housing_units_mobile_home',\n",
       " 'housing_units_mobile_home_owned',\n",
       " 'housing_units_mobile_home_rented',\n",
       " 'housing_units_other_type',\n",
       " 'housing_units_other_type_owned',\n",
       " 'housing_units_other_type_rented',\n",
       " 'housing_units_over_50_units',\n",
       " 'housing_units_over_50_units_owned',\n",
       " 'housing_units_over_50_units_rented',\n",
       " 'housing_units_single_family_attached',\n",
       " 'housing_units_single_family_attached_owned',\n",
       " 'housing_units_single_family_attached_rented',\n",
       " 'housing_units_single_family_detached',\n",
       " 'housing_units_single_family_detached_owned',\n",
       " 'housing_units_single_family_detached_rented',\n",
       " 'income_per_capita',\n",
       " 'male_18_to_19',\n",
       " 'male_20',\n",
       " 'male_21',\n",
       " 'male_22_to_24',\n",
       " 'male_25_to_29',\n",
       " 'male_30_to_34',\n",
       " 'male_35_to_39',\n",
       " 'male_40_to_44',\n",
       " 'male_45_to_49',\n",
       " 'male_50_to_54',\n",
       " 'male_55_to_59',\n",
       " 'male_60_to_61',\n",
       " 'male_62_to_64',\n",
       " 'male_67_to_69',\n",
       " 'male_70_to_74',\n",
       " 'male_75_to_79',\n",
       " 'male_80_to_84',\n",
       " 'male_85_over',\n",
       " 'male_male_households',\n",
       " 'male_pop',\n",
       " 'male_population',\n",
       " 'marital_status_population',\n",
       " 'married_household_ratio',\n",
       " 'married_households',\n",
       " 'married_men',\n",
       " 'married_men_spouse_absent',\n",
       " 'married_men_spouse_present',\n",
       " 'married_women',\n",
       " 'married_women_spouse_absent',\n",
       " 'married_women_spouse_present',\n",
       " 'median_age',\n",
       " 'median_contract_rent',\n",
       " 'median_gross_rent',\n",
       " 'median_household_income',\n",
       " 'median_income',\n",
       " 'median_rent',\n",
       " 'median_rooms',\n",
       " 'median_year_structure_built',\n",
       " 'men_with_associate_degree',\n",
       " 'men_with_bachelors_degree',\n",
       " 'men_with_doctoral_degree',\n",
       " 'men_with_hs_diploma',\n",
       " 'men_with_less_one_year_college',\n",
       " 'men_with_masters_degree',\n",
       " 'men_with_one_year_or_more_college',\n",
       " 'men_with_professional_degree',\n",
       " 'minority_ratio',\n",
       " 'motorcycle_population',\n",
       " 'not_us_citizen_pop',\n",
       " 'occupied_housing_units',\n",
       " 'occupied_ratio',\n",
       " 'occupied_units',\n",
       " 'other_commute_method_population',\n",
       " 'other_race_pop',\n",
       " 'owner_occupied_housing_units',\n",
       " 'owner_occupied_units',\n",
       " 'percent_income_spent_on_rent',\n",
       " 'pop_determined_poverty_status',\n",
       " 'pop_in_labor_force',\n",
       " 'poverty',\n",
       " 'quintile_1_income_share',\n",
       " 'quintile_1_mean_income',\n",
       " 'quintile_1_upper_limit',\n",
       " 'quintile_2_income_share',\n",
       " 'quintile_2_mean_income',\n",
       " 'quintile_2_upper_limit',\n",
       " 'quintile_3_income_share',\n",
       " 'quintile_3_mean_income',\n",
       " 'quintile_3_upper_limit',\n",
       " 'quintile_4_income_share',\n",
       " 'quintile_4_mean_income',\n",
       " 'quintile_4_upper_limit',\n",
       " 'quintile_5_income_share',\n",
       " 'quintile_5_mean_income',\n",
       " 'renter_occupied_housing_units_paying_cash_median_gross_rent',\n",
       " 'renter_occupied_units',\n",
       " 'single_men',\n",
       " 'single_women',\n",
       " 'taxi_population',\n",
       " 'top_5_percent_income_share',\n",
       " 'top_5_percent_lower_limit',\n",
       " 'top_5_percent_mean_income',\n",
       " 'total_contract_rent',\n",
       " 'total_gross_rent',\n",
       " 'total_household_income',\n",
       " 'total_households',\n",
       " 'total_population',\n",
       " 'total_population_in_occupied_units',\n",
       " 'total_population_in_owner_occupied_units',\n",
       " 'total_population_in_renter_occupied_units',\n",
       " 'total_units',\n",
       " 'transit_population',\n",
       " 'unemployed_pop',\n",
       " 'units_paying_cash_rent',\n",
       " 'vacant_housing_units_for_rent',\n",
       " 'walking_to_work_population',\n",
       " 'white_pop',\n",
       " 'widowed_men',\n",
       " 'widowed_women',\n",
       " 'women_with_associate_degree',\n",
       " 'women_with_bachelors_degree',\n",
       " 'women_with_doctoral_degree',\n",
       " 'women_with_hs_diploma',\n",
       " 'women_with_less_one_year_college',\n",
       " 'women_with_masters_degree',\n",
       " 'women_with_one_year_or_more_college',\n",
       " 'women_with_professional_degree',\n",
       " 'working_from_home_population',\n",
       " 'year',\n",
       " 'zip_code',\n",
       " 'zori_diff',\n",
       " 'zori_ssa'}"
      ]
     },
     "execution_count": 158,
     "metadata": {},
     "output_type": "execute_result"
    }
   ],
   "source": [
    "set(agg.columns)"
   ]
  },
  {
   "cell_type": "code",
   "execution_count": 173,
   "metadata": {},
   "outputs": [
    {
     "data": {
      "text/html": [
       "<div>\n",
       "<style scoped>\n",
       "    .dataframe tbody tr th:only-of-type {\n",
       "        vertical-align: middle;\n",
       "    }\n",
       "\n",
       "    .dataframe tbody tr th {\n",
       "        vertical-align: top;\n",
       "    }\n",
       "\n",
       "    .dataframe thead th {\n",
       "        text-align: right;\n",
       "    }\n",
       "</style>\n",
       "<table border=\"1\" class=\"dataframe\">\n",
       "  <thead>\n",
       "    <tr style=\"text-align: right;\">\n",
       "      <th></th>\n",
       "      <th>Time</th>\n",
       "      <th>zori_ssa</th>\n",
       "      <th>zip_code</th>\n",
       "      <th>Consumer Confidence Index TX</th>\n",
       "      <th>Consumer Confidence West South Central</th>\n",
       "      <th>Consumer Confidence Index US</th>\n",
       "      <th>Consumer Price Index TX</th>\n",
       "      <th>Consumer Price Index U.S.</th>\n",
       "      <th>Nonfarm Employment TX</th>\n",
       "      <th>Nonfarm Employment U.S.</th>\n",
       "      <th>Unemployment TX</th>\n",
       "      <th>Unemployment U.S.</th>\n",
       "      <th>Single Family Building Permits TX</th>\n",
       "      <th>Multi Family Building Permits TX</th>\n",
       "      <th>Existing Single Family Home Sales TX</th>\n",
       "      <th>Existing Single Family Home Price TX</th>\n",
       "      <th>Non Residential Building Construction</th>\n",
       "      <th>Total Sales Tax Collections Retail TX</th>\n",
       "      <th>Total Sales Tax Collections TX</th>\n",
       "      <th>Retail Gasoline Price TX</th>\n",
       "      <th>Retail Diesel Price TX</th>\n",
       "      <th>Nonfarm Employment Illinois</th>\n",
       "      <th>Nonfarm Employment Florida</th>\n",
       "      <th>Nonfarm Employment New York</th>\n",
       "      <th>Nonfarm Employment Texas</th>\n",
       "      <th>Nonfarm Employment California</th>\n",
       "      <th>Gross Value Crude Oil Production</th>\n",
       "      <th>Gross Value Natural Gas Production</th>\n",
       "      <th>Motor Fuel Taxed Gasoline</th>\n",
       "      <th>Motor Fuel Taxed Diesel</th>\n",
       "      <th>zip_code</th>\n",
       "      <th>male_pop</th>\n",
       "      <th>female_pop</th>\n",
       "      <th>white_pop</th>\n",
       "      <th>not_us_citizen_pop</th>\n",
       "      <th>black_pop</th>\n",
       "      <th>asian_pop</th>\n",
       "      <th>hispanic_pop</th>\n",
       "      <th>amerindian_pop</th>\n",
       "      <th>other_race_pop</th>\n",
       "      <th>median_income</th>\n",
       "      <th>income_per_capita</th>\n",
       "      <th>pop_determined_poverty_status</th>\n",
       "      <th>poverty</th>\n",
       "      <th>gini_index</th>\n",
       "      <th>housing_units</th>\n",
       "      <th>renter_occupied_housing_units_paying_cash_median_gross_rent</th>\n",
       "      <th>occupied_housing_units</th>\n",
       "      <th>vacant_housing_units_for_rent</th>\n",
       "      <th>median_year_structure_built</th>\n",
       "      <th>married_households</th>\n",
       "      <th>households_public_asst_or_food_stamps</th>\n",
       "      <th>male_male_households</th>\n",
       "      <th>female_female_households</th>\n",
       "      <th>children</th>\n",
       "      <th>median_rent</th>\n",
       "      <th>percent_income_spent_on_rent</th>\n",
       "      <th>owner_occupied_housing_units</th>\n",
       "      <th>aggregate_travel_time_to_work</th>\n",
       "      <th>commuters_by_public_transportation</th>\n",
       "      <th>high_school_diploma</th>\n",
       "      <th>bachelors_degree</th>\n",
       "      <th>employed_pop</th>\n",
       "      <th>unemployed_pop</th>\n",
       "      <th>pop_in_labor_force</th>\n",
       "      <th>armed_forces</th>\n",
       "      <th>year</th>\n",
       "      <th>diff_from_med_income_ratio_to_median_rent</th>\n",
       "      <th>occupied_ratio</th>\n",
       "      <th>batch_high_school_ratio</th>\n",
       "      <th>minority_ratio</th>\n",
       "      <th>married_household_ratio</th>\n",
       "      <th>food_stamp_ratio</th>\n",
       "      <th>zip_code</th>\n",
       "      <th>commuting_population</th>\n",
       "      <th>divorced_men</th>\n",
       "      <th>driving_alone_population</th>\n",
       "      <th>housing_units_built_1940_to_1949</th>\n",
       "      <th>quintile_2_income_share</th>\n",
       "      <th>housing_units_10_to_19_units_rented</th>\n",
       "      <th>quintile_3_income_share</th>\n",
       "      <th>married_women_spouse_absent</th>\n",
       "      <th>female_80_to_84</th>\n",
       "      <th>female_45_to_49</th>\n",
       "      <th>female_75_to_79</th>\n",
       "      <th>married_men</th>\n",
       "      <th>motorcycle_population</th>\n",
       "      <th>female_60_to_61</th>\n",
       "      <th>male_20</th>\n",
       "      <th>housing_units_10_to_19_units_owned</th>\n",
       "      <th>male_21</th>\n",
       "      <th>men_with_professional_degree</th>\n",
       "      <th>housing_units_over_50_units_rented</th>\n",
       "      <th>quintile_5_income_share</th>\n",
       "      <th>housing_units_single_family_detached_rented</th>\n",
       "      <th>housing_units_built_1950_to_1959</th>\n",
       "      <th>women_with_professional_degree</th>\n",
       "      <th>total_contract_rent</th>\n",
       "      <th>bicycle_population</th>\n",
       "      <th>male_30_to_34</th>\n",
       "      <th>housing_units_other_type</th>\n",
       "      <th>male_18_to_19</th>\n",
       "      <th>average_household_size_renters</th>\n",
       "      <th>other_commute_method_population</th>\n",
       "      <th>male_50_to_54</th>\n",
       "      <th>married_men_spouse_absent</th>\n",
       "      <th>marital_status_population</th>\n",
       "      <th>housing_units_3_to_4_units_owned</th>\n",
       "      <th>quintile_4_upper_limit</th>\n",
       "      <th>quintile_3_upper_limit</th>\n",
       "      <th>men_with_associate_degree</th>\n",
       "      <th>women_with_one_year_or_more_college</th>\n",
       "      <th>housing_units_10_to_19_units</th>\n",
       "      <th>housing_units_built_1970_to_1979</th>\n",
       "      <th>quintile_4_income_share</th>\n",
       "      <th>total_units</th>\n",
       "      <th>median_household_income</th>\n",
       "      <th>women_with_doctoral_degree</th>\n",
       "      <th>female_21</th>\n",
       "      <th>housing_units_single_family_detached</th>\n",
       "      <th>housing_units_20_to_49_units_rented</th>\n",
       "      <th>renter_occupied_units</th>\n",
       "      <th>housing_units_single_family_detached_owned</th>\n",
       "      <th>women_with_less_one_year_college</th>\n",
       "      <th>taxi_population</th>\n",
       "      <th>female_62_to_64</th>\n",
       "      <th>working_from_home_population</th>\n",
       "      <th>total_households</th>\n",
       "      <th>median_contract_rent</th>\n",
       "      <th>female_22_to_24</th>\n",
       "      <th>male_62_to_64</th>\n",
       "      <th>occupied_units</th>\n",
       "      <th>married_men_spouse_present</th>\n",
       "      <th>male_67_to_69</th>\n",
       "      <th>quintile_1_mean_income</th>\n",
       "      <th>median_rooms</th>\n",
       "      <th>female_50_to_54</th>\n",
       "      <th>median_gross_rent</th>\n",
       "      <th>male_22_to_24</th>\n",
       "      <th>median_age</th>\n",
       "      <th>female_55_to_59</th>\n",
       "      <th>housing_units_mobile_home_rented</th>\n",
       "      <th>housing_units_built_1980_to_1989</th>\n",
       "      <th>housing_units_5_to_9_units_owned</th>\n",
       "      <th>women_with_hs_diploma</th>\n",
       "      <th>housing_units_other_type_owned</th>\n",
       "      <th>total_population_in_owner_occupied_units</th>\n",
       "      <th>housing_units_20_to_49_units_owned</th>\n",
       "      <th>housing_units_built_1930_to_1939</th>\n",
       "      <th>married_women</th>\n",
       "      <th>men_with_masters_degree</th>\n",
       "      <th>total_population_in_occupied_units</th>\n",
       "      <th>top_5_percent_mean_income</th>\n",
       "      <th>top_5_percent_lower_limit</th>\n",
       "      <th>female_35_to_39</th>\n",
       "      <th>male_70_to_74</th>\n",
       "      <th>female_18_to_19</th>\n",
       "      <th>men_with_less_one_year_college</th>\n",
       "      <th>housing_units_other_type_rented</th>\n",
       "      <th>housing_units_3_to_4_units</th>\n",
       "      <th>units_paying_cash_rent</th>\n",
       "      <th>female_85_over</th>\n",
       "      <th>housing_units_single_family_attached</th>\n",
       "      <th>male_60_to_61</th>\n",
       "      <th>housing_units_duplex</th>\n",
       "      <th>housing_units_20_to_49_units</th>\n",
       "      <th>men_with_doctoral_degree</th>\n",
       "      <th>top_5_percent_income_share</th>\n",
       "      <th>housing_units_duplex_rented</th>\n",
       "      <th>male_population</th>\n",
       "      <th>female_25_to_29</th>\n",
       "      <th>walking_to_work_population</th>\n",
       "      <th>owner_occupied_units</th>\n",
       "      <th>single_men</th>\n",
       "      <th>housing_units_5_to_9_units_rented</th>\n",
       "      <th>male_80_to_84</th>\n",
       "      <th>carpool_population</th>\n",
       "      <th>transit_population</th>\n",
       "      <th>female_population</th>\n",
       "      <th>male_55_to_59</th>\n",
       "      <th>female_20</th>\n",
       "      <th>women_with_masters_degree</th>\n",
       "      <th>quintile_1_income_share</th>\n",
       "      <th>total_household_income</th>\n",
       "      <th>housing_units_mobile_home</th>\n",
       "      <th>men_with_bachelors_degree</th>\n",
       "      <th>housing_units_single_family_attached_rented</th>\n",
       "      <th>quintile_1_upper_limit</th>\n",
       "      <th>female_70_to_74</th>\n",
       "      <th>quintile_2_upper_limit</th>\n",
       "      <th>total_population_in_renter_occupied_units</th>\n",
       "      <th>average_household_size</th>\n",
       "      <th>women_with_associate_degree</th>\n",
       "      <th>education_population</th>\n",
       "      <th>total_gross_rent</th>\n",
       "      <th>female_40_to_44</th>\n",
       "      <th>male_85_over</th>\n",
       "      <th>average_household_size_owners</th>\n",
       "      <th>divorced_women</th>\n",
       "      <th>female_30_to_34</th>\n",
       "      <th>housing_units_over_50_units_owned</th>\n",
       "      <th>female_67_to_69</th>\n",
       "      <th>male_25_to_29</th>\n",
       "      <th>housing_units_5_to_9_units</th>\n",
       "      <th>widowed_men</th>\n",
       "      <th>housing_units_3_to_4_units_rented</th>\n",
       "      <th>total_population</th>\n",
       "      <th>quintile_3_mean_income</th>\n",
       "      <th>men_with_one_year_or_more_college</th>\n",
       "      <th>widowed_women</th>\n",
       "      <th>male_40_to_44</th>\n",
       "      <th>male_35_to_39</th>\n",
       "      <th>housing_units_mobile_home_owned</th>\n",
       "      <th>quintile_4_mean_income</th>\n",
       "      <th>single_women</th>\n",
       "      <th>housing_units_built_1990_to_1999</th>\n",
       "      <th>housing_units_single_family_attached_owned</th>\n",
       "      <th>gini_coeficient</th>\n",
       "      <th>housing_units_over_50_units</th>\n",
       "      <th>women_with_bachelors_degree</th>\n",
       "      <th>male_45_to_49</th>\n",
       "      <th>housing_units_built_1960_to_1969</th>\n",
       "      <th>housing_units_duplex_owned</th>\n",
       "      <th>married_women_spouse_present</th>\n",
       "      <th>men_with_hs_diploma</th>\n",
       "      <th>quintile_5_mean_income</th>\n",
       "      <th>quintile_2_mean_income</th>\n",
       "      <th>male_75_to_79</th>\n",
       "      <th>Gross_Value_Natural_Gas_Production_percent_change</th>\n",
       "      <th>Gross_Value_Crude_Oil_Production_percent_change</th>\n",
       "      <th>Unemployment_percent_change</th>\n",
       "      <th>Retail_gas_price_differenced</th>\n",
       "      <th>zori_diff</th>\n",
       "      <th>housing_units_over_50_units_diff</th>\n",
       "    </tr>\n",
       "    <tr>\n",
       "      <th>Date</th>\n",
       "      <th></th>\n",
       "      <th></th>\n",
       "      <th></th>\n",
       "      <th></th>\n",
       "      <th></th>\n",
       "      <th></th>\n",
       "      <th></th>\n",
       "      <th></th>\n",
       "      <th></th>\n",
       "      <th></th>\n",
       "      <th></th>\n",
       "      <th></th>\n",
       "      <th></th>\n",
       "      <th></th>\n",
       "      <th></th>\n",
       "      <th></th>\n",
       "      <th></th>\n",
       "      <th></th>\n",
       "      <th></th>\n",
       "      <th></th>\n",
       "      <th></th>\n",
       "      <th></th>\n",
       "      <th></th>\n",
       "      <th></th>\n",
       "      <th></th>\n",
       "      <th></th>\n",
       "      <th></th>\n",
       "      <th></th>\n",
       "      <th></th>\n",
       "      <th></th>\n",
       "      <th></th>\n",
       "      <th></th>\n",
       "      <th></th>\n",
       "      <th></th>\n",
       "      <th></th>\n",
       "      <th></th>\n",
       "      <th></th>\n",
       "      <th></th>\n",
       "      <th></th>\n",
       "      <th></th>\n",
       "      <th></th>\n",
       "      <th></th>\n",
       "      <th></th>\n",
       "      <th></th>\n",
       "      <th></th>\n",
       "      <th></th>\n",
       "      <th></th>\n",
       "      <th></th>\n",
       "      <th></th>\n",
       "      <th></th>\n",
       "      <th></th>\n",
       "      <th></th>\n",
       "      <th></th>\n",
       "      <th></th>\n",
       "      <th></th>\n",
       "      <th></th>\n",
       "      <th></th>\n",
       "      <th></th>\n",
       "      <th></th>\n",
       "      <th></th>\n",
       "      <th></th>\n",
       "      <th></th>\n",
       "      <th></th>\n",
       "      <th></th>\n",
       "      <th></th>\n",
       "      <th></th>\n",
       "      <th></th>\n",
       "      <th></th>\n",
       "      <th></th>\n",
       "      <th></th>\n",
       "      <th></th>\n",
       "      <th></th>\n",
       "      <th></th>\n",
       "      <th></th>\n",
       "      <th></th>\n",
       "      <th></th>\n",
       "      <th></th>\n",
       "      <th></th>\n",
       "      <th></th>\n",
       "      <th></th>\n",
       "      <th></th>\n",
       "      <th></th>\n",
       "      <th></th>\n",
       "      <th></th>\n",
       "      <th></th>\n",
       "      <th></th>\n",
       "      <th></th>\n",
       "      <th></th>\n",
       "      <th></th>\n",
       "      <th></th>\n",
       "      <th></th>\n",
       "      <th></th>\n",
       "      <th></th>\n",
       "      <th></th>\n",
       "      <th></th>\n",
       "      <th></th>\n",
       "      <th></th>\n",
       "      <th></th>\n",
       "      <th></th>\n",
       "      <th></th>\n",
       "      <th></th>\n",
       "      <th></th>\n",
       "      <th></th>\n",
       "      <th></th>\n",
       "      <th></th>\n",
       "      <th></th>\n",
       "      <th></th>\n",
       "      <th></th>\n",
       "      <th></th>\n",
       "      <th></th>\n",
       "      <th></th>\n",
       "      <th></th>\n",
       "      <th></th>\n",
       "      <th></th>\n",
       "      <th></th>\n",
       "      <th></th>\n",
       "      <th></th>\n",
       "      <th></th>\n",
       "      <th></th>\n",
       "      <th></th>\n",
       "      <th></th>\n",
       "      <th></th>\n",
       "      <th></th>\n",
       "      <th></th>\n",
       "      <th></th>\n",
       "      <th></th>\n",
       "      <th></th>\n",
       "      <th></th>\n",
       "      <th></th>\n",
       "      <th></th>\n",
       "      <th></th>\n",
       "      <th></th>\n",
       "      <th></th>\n",
       "      <th></th>\n",
       "      <th></th>\n",
       "      <th></th>\n",
       "      <th></th>\n",
       "      <th></th>\n",
       "      <th></th>\n",
       "      <th></th>\n",
       "      <th></th>\n",
       "      <th></th>\n",
       "      <th></th>\n",
       "      <th></th>\n",
       "      <th></th>\n",
       "      <th></th>\n",
       "      <th></th>\n",
       "      <th></th>\n",
       "      <th></th>\n",
       "      <th></th>\n",
       "      <th></th>\n",
       "      <th></th>\n",
       "      <th></th>\n",
       "      <th></th>\n",
       "      <th></th>\n",
       "      <th></th>\n",
       "      <th></th>\n",
       "      <th></th>\n",
       "      <th></th>\n",
       "      <th></th>\n",
       "      <th></th>\n",
       "      <th></th>\n",
       "      <th></th>\n",
       "      <th></th>\n",
       "      <th></th>\n",
       "      <th></th>\n",
       "      <th></th>\n",
       "      <th></th>\n",
       "      <th></th>\n",
       "      <th></th>\n",
       "      <th></th>\n",
       "      <th></th>\n",
       "      <th></th>\n",
       "      <th></th>\n",
       "      <th></th>\n",
       "      <th></th>\n",
       "      <th></th>\n",
       "      <th></th>\n",
       "      <th></th>\n",
       "      <th></th>\n",
       "      <th></th>\n",
       "      <th></th>\n",
       "      <th></th>\n",
       "      <th></th>\n",
       "      <th></th>\n",
       "      <th></th>\n",
       "      <th></th>\n",
       "      <th></th>\n",
       "      <th></th>\n",
       "      <th></th>\n",
       "      <th></th>\n",
       "      <th></th>\n",
       "      <th></th>\n",
       "      <th></th>\n",
       "      <th></th>\n",
       "      <th></th>\n",
       "      <th></th>\n",
       "      <th></th>\n",
       "      <th></th>\n",
       "      <th></th>\n",
       "      <th></th>\n",
       "      <th></th>\n",
       "      <th></th>\n",
       "      <th></th>\n",
       "      <th></th>\n",
       "      <th></th>\n",
       "      <th></th>\n",
       "      <th></th>\n",
       "      <th></th>\n",
       "      <th></th>\n",
       "      <th></th>\n",
       "      <th></th>\n",
       "      <th></th>\n",
       "      <th></th>\n",
       "      <th></th>\n",
       "      <th></th>\n",
       "      <th></th>\n",
       "      <th></th>\n",
       "      <th></th>\n",
       "      <th></th>\n",
       "      <th></th>\n",
       "      <th></th>\n",
       "      <th></th>\n",
       "      <th></th>\n",
       "      <th></th>\n",
       "      <th></th>\n",
       "      <th></th>\n",
       "      <th></th>\n",
       "      <th></th>\n",
       "      <th></th>\n",
       "      <th></th>\n",
       "      <th></th>\n",
       "      <th></th>\n",
       "      <th></th>\n",
       "    </tr>\n",
       "  </thead>\n",
       "  <tbody>\n",
       "    <tr>\n",
       "      <th>2014-01-01 00:00:00</th>\n",
       "      <td>2014-01-01</td>\n",
       "      <td>1166.604651</td>\n",
       "      <td>76814.869767</td>\n",
       "      <td>104.509</td>\n",
       "      <td>95.851</td>\n",
       "      <td>79.410</td>\n",
       "      <td>213.443</td>\n",
       "      <td>233.916</td>\n",
       "      <td>11.405</td>\n",
       "      <td>137.548</td>\n",
       "      <td>5.7</td>\n",
       "      <td>6.6</td>\n",
       "      <td>7395.0</td>\n",
       "      <td>4933.0</td>\n",
       "      <td>15910.0</td>\n",
       "      <td>162500.0</td>\n",
       "      <td>2588.69</td>\n",
       "      <td>1096.980</td>\n",
       "      <td>2311.81</td>\n",
       "      <td>3.114</td>\n",
       "      <td>3.781</td>\n",
       "      <td>5844.0</td>\n",
       "      <td>7701.2</td>\n",
       "      <td>9019.9</td>\n",
       "      <td>11405.3</td>\n",
       "      <td>15382.6</td>\n",
       "      <td>7079.28</td>\n",
       "      <td>3667.33</td>\n",
       "      <td>1027.7</td>\n",
       "      <td>314.7</td>\n",
       "      <td>76814.869767</td>\n",
       "      <td>18169.616822</td>\n",
       "      <td>18764.018692</td>\n",
       "      <td>18318.471963</td>\n",
       "      <td>4043.724299</td>\n",
       "      <td>4266.242991</td>\n",
       "      <td>2322.186916</td>\n",
       "      <td>11249.509346</td>\n",
       "      <td>97.672897</td>\n",
       "      <td>81.696262</td>\n",
       "      <td>66965.626168</td>\n",
       "      <td>33112.158879</td>\n",
       "      <td>36541.457944</td>\n",
       "      <td>4381.065421</td>\n",
       "      <td>0.419411</td>\n",
       "      <td>14735.686916</td>\n",
       "      <td>993.317757</td>\n",
       "      <td>13497.85514</td>\n",
       "      <td>531.485981</td>\n",
       "      <td>1986.163551</td>\n",
       "      <td>6859.901869</td>\n",
       "      <td>964.878505</td>\n",
       "      <td>46.663551</td>\n",
       "      <td>40.943925</td>\n",
       "      <td>10085.135514</td>\n",
       "      <td>816.593458</td>\n",
       "      <td>29.212617</td>\n",
       "      <td>8404.71028</td>\n",
       "      <td>462661.028037</td>\n",
       "      <td>366.453271</td>\n",
       "      <td>3957.447263</td>\n",
       "      <td>5649.188452</td>\n",
       "      <td>18614.065421</td>\n",
       "      <td>1288.920561</td>\n",
       "      <td>19996.116822</td>\n",
       "      <td>93.130841</td>\n",
       "      <td>2011.0</td>\n",
       "      <td>-40.406655</td>\n",
       "      <td>0.916178</td>\n",
       "      <td>1.427493</td>\n",
       "      <td>1.594593</td>\n",
       "      <td>0.507159</td>\n",
       "      <td>0.070996</td>\n",
       "      <td>76814.869767</td>\n",
       "      <td>18760.752336</td>\n",
       "      <td>1203.892523</td>\n",
       "      <td>15046.130841</td>\n",
       "      <td>340.621495</td>\n",
       "      <td>10.099813</td>\n",
       "      <td>1047.462617</td>\n",
       "      <td>15.743551</td>\n",
       "      <td>759.799065</td>\n",
       "      <td>255.700935</td>\n",
       "      <td>1394.953271</td>\n",
       "      <td>311.140187</td>\n",
       "      <td>7875.85514</td>\n",
       "      <td>47.028037</td>\n",
       "      <td>380.574766</td>\n",
       "      <td>271.420561</td>\n",
       "      <td>23.154206</td>\n",
       "      <td>258.0</td>\n",
       "      <td>319.570093</td>\n",
       "      <td>742.766355</td>\n",
       "      <td>46.563692</td>\n",
       "      <td>1262.434579</td>\n",
       "      <td>835.308411</td>\n",
       "      <td>204.943925</td>\n",
       "      <td>4.429706e+06</td>\n",
       "      <td>58.439252</td>\n",
       "      <td>1467.598131</td>\n",
       "      <td>7.53271</td>\n",
       "      <td>518.140187</td>\n",
       "      <td>2.538925</td>\n",
       "      <td>210.004673</td>\n",
       "      <td>1237.850467</td>\n",
       "      <td>660.5</td>\n",
       "      <td>29204.126168</td>\n",
       "      <td>35.546729</td>\n",
       "      <td>122689.373832</td>\n",
       "      <td>81498.700935</td>\n",
       "      <td>783.485981</td>\n",
       "      <td>2127.261682</td>\n",
       "      <td>1287.471963</td>\n",
       "      <td>2464.733645</td>\n",
       "      <td>23.310093</td>\n",
       "      <td>14983.584112</td>\n",
       "      <td>67331.130841</td>\n",
       "      <td>121.719626</td>\n",
       "      <td>254.186916</td>\n",
       "      <td>9578.116822</td>\n",
       "      <td>613.196262</td>\n",
       "      <td>5293.948598</td>\n",
       "      <td>7832.883178</td>\n",
       "      <td>812.981308</td>\n",
       "      <td>12.373832</td>\n",
       "      <td>493.546729</td>\n",
       "      <td>876.224299</td>\n",
       "      <td>13759.995327</td>\n",
       "      <td>841.341121</td>\n",
       "      <td>799.130841</td>\n",
       "      <td>439.03271</td>\n",
       "      <td>13759.995327</td>\n",
       "      <td>7215.35514</td>\n",
       "      <td>282.584112</td>\n",
       "      <td>18469.775701</td>\n",
       "      <td>5.684579</td>\n",
       "      <td>1284.71028</td>\n",
       "      <td>1021.780374</td>\n",
       "      <td>788.939252</td>\n",
       "      <td>34.04486</td>\n",
       "      <td>1061.654206</td>\n",
       "      <td>88.88785</td>\n",
       "      <td>2892.841121</td>\n",
       "      <td>33.462617</td>\n",
       "      <td>2588.242991</td>\n",
       "      <td>4.915888</td>\n",
       "      <td>24611.271028</td>\n",
       "      <td>19.803738</td>\n",
       "      <td>392.88785</td>\n",
       "      <td>7832.439252</td>\n",
       "      <td>1098.107477</td>\n",
       "      <td>37466.626168</td>\n",
       "      <td>335034.934579</td>\n",
       "      <td>192664.280374</td>\n",
       "      <td>1513.014019</td>\n",
       "      <td>330.864486</td>\n",
       "      <td>491.528037</td>\n",
       "      <td>630.738318</td>\n",
       "      <td>2.616822</td>\n",
       "      <td>482.093458</td>\n",
       "      <td>5148.775701</td>\n",
       "      <td>259.308411</td>\n",
       "      <td>516.275701</td>\n",
       "      <td>345.266355</td>\n",
       "      <td>251.654206</td>\n",
       "      <td>768.434579</td>\n",
       "      <td>218.182243</td>\n",
       "      <td>19.222056</td>\n",
       "      <td>197.700935</td>\n",
       "      <td>18617.383178</td>\n",
       "      <td>1526.761682</td>\n",
       "      <td>252.490654</td>\n",
       "      <td>8466.046729</td>\n",
       "      <td>4912.53271</td>\n",
       "      <td>744.593458</td>\n",
       "      <td>153.925234</td>\n",
       "      <td>1886.448598</td>\n",
       "      <td>371.61215</td>\n",
       "      <td>19219.242991</td>\n",
       "      <td>984.705607</td>\n",
       "      <td>249.925234</td>\n",
       "      <td>1106.359813</td>\n",
       "      <td>4.283551</td>\n",
       "      <td>1.175915e+09</td>\n",
       "      <td>297.406542</td>\n",
       "      <td>2894.495327</td>\n",
       "      <td>204.892523</td>\n",
       "      <td>31981.065421</td>\n",
       "      <td>400.64486</td>\n",
       "      <td>54949.17757</td>\n",
       "      <td>12855.35514</td>\n",
       "      <td>2.707056</td>\n",
       "      <td>893.03271</td>\n",
       "      <td>23937.107477</td>\n",
       "      <td>5.303824e+06</td>\n",
       "      <td>1421.233645</td>\n",
       "      <td>121.35514</td>\n",
       "      <td>2.808224</td>\n",
       "      <td>1897.794393</td>\n",
       "      <td>1496.275701</td>\n",
       "      <td>41.602804</td>\n",
       "      <td>333.037383</td>\n",
       "      <td>1493.126168</td>\n",
       "      <td>919.429907</td>\n",
       "      <td>223.163551</td>\n",
       "      <td>389.397196</td>\n",
       "      <td>37836.626168</td>\n",
       "      <td>67604.602804</td>\n",
       "      <td>1931.299065</td>\n",
       "      <td>965.584112</td>\n",
       "      <td>1404.985981</td>\n",
       "      <td>1473.102804</td>\n",
       "      <td>173.873832</td>\n",
       "      <td>99934.696262</td>\n",
       "      <td>4292.864486</td>\n",
       "      <td>2693.901869</td>\n",
       "      <td>274.551402</td>\n",
       "      <td>0.4213</td>\n",
       "      <td>875.168224</td>\n",
       "      <td>3037.238318</td>\n",
       "      <td>1346.266355</td>\n",
       "      <td>1181.453271</td>\n",
       "      <td>26.252336</td>\n",
       "      <td>7072.640187</td>\n",
       "      <td>2208.088785</td>\n",
       "      <td>201608.191589</td>\n",
       "      <td>43409.757009</td>\n",
       "      <td>224.771028</td>\n",
       "      <td>NaN</td>\n",
       "      <td>NaN</td>\n",
       "      <td>NaN</td>\n",
       "      <td>NaN</td>\n",
       "      <td>NaN</td>\n",
       "      <td>NaN</td>\n",
       "    </tr>\n",
       "    <tr>\n",
       "      <th>2014-02-01 00:00:00</th>\n",
       "      <td>2014-02-01</td>\n",
       "      <td>1170.463566</td>\n",
       "      <td>76814.869767</td>\n",
       "      <td>111.777</td>\n",
       "      <td>112.340</td>\n",
       "      <td>78.301</td>\n",
       "      <td>214.418</td>\n",
       "      <td>234.781</td>\n",
       "      <td>11.432</td>\n",
       "      <td>137.714</td>\n",
       "      <td>5.6</td>\n",
       "      <td>6.7</td>\n",
       "      <td>7552.0</td>\n",
       "      <td>4611.0</td>\n",
       "      <td>18608.0</td>\n",
       "      <td>172000.0</td>\n",
       "      <td>1303.38</td>\n",
       "      <td>968.346</td>\n",
       "      <td>2213.24</td>\n",
       "      <td>3.140</td>\n",
       "      <td>3.788</td>\n",
       "      <td>5842.2</td>\n",
       "      <td>7721.6</td>\n",
       "      <td>9045.1</td>\n",
       "      <td>11432.1</td>\n",
       "      <td>15416.5</td>\n",
       "      <td>6910.75</td>\n",
       "      <td>3918.88</td>\n",
       "      <td>1015.2</td>\n",
       "      <td>354.6</td>\n",
       "      <td>76814.869767</td>\n",
       "      <td>18169.616822</td>\n",
       "      <td>18764.018692</td>\n",
       "      <td>18318.471963</td>\n",
       "      <td>4043.724299</td>\n",
       "      <td>4266.242991</td>\n",
       "      <td>2322.186916</td>\n",
       "      <td>11249.509346</td>\n",
       "      <td>97.672897</td>\n",
       "      <td>81.696262</td>\n",
       "      <td>66965.626168</td>\n",
       "      <td>33112.158879</td>\n",
       "      <td>36541.457944</td>\n",
       "      <td>4381.065421</td>\n",
       "      <td>0.419411</td>\n",
       "      <td>14735.686916</td>\n",
       "      <td>993.317757</td>\n",
       "      <td>13497.85514</td>\n",
       "      <td>531.485981</td>\n",
       "      <td>1986.163551</td>\n",
       "      <td>6859.901869</td>\n",
       "      <td>964.878505</td>\n",
       "      <td>46.663551</td>\n",
       "      <td>40.943925</td>\n",
       "      <td>10085.135514</td>\n",
       "      <td>816.593458</td>\n",
       "      <td>29.212617</td>\n",
       "      <td>8404.71028</td>\n",
       "      <td>462661.028037</td>\n",
       "      <td>366.453271</td>\n",
       "      <td>3957.447263</td>\n",
       "      <td>5649.188452</td>\n",
       "      <td>18614.065421</td>\n",
       "      <td>1288.920561</td>\n",
       "      <td>19996.116822</td>\n",
       "      <td>93.130841</td>\n",
       "      <td>2011.0</td>\n",
       "      <td>-40.406655</td>\n",
       "      <td>0.916178</td>\n",
       "      <td>1.427493</td>\n",
       "      <td>1.594593</td>\n",
       "      <td>0.507159</td>\n",
       "      <td>0.070996</td>\n",
       "      <td>76814.869767</td>\n",
       "      <td>18760.752336</td>\n",
       "      <td>1203.892523</td>\n",
       "      <td>15046.130841</td>\n",
       "      <td>340.621495</td>\n",
       "      <td>10.099813</td>\n",
       "      <td>1047.462617</td>\n",
       "      <td>15.743551</td>\n",
       "      <td>759.799065</td>\n",
       "      <td>255.700935</td>\n",
       "      <td>1394.953271</td>\n",
       "      <td>311.140187</td>\n",
       "      <td>7875.85514</td>\n",
       "      <td>47.028037</td>\n",
       "      <td>380.574766</td>\n",
       "      <td>271.420561</td>\n",
       "      <td>23.154206</td>\n",
       "      <td>258.0</td>\n",
       "      <td>319.570093</td>\n",
       "      <td>742.766355</td>\n",
       "      <td>46.563692</td>\n",
       "      <td>1262.434579</td>\n",
       "      <td>835.308411</td>\n",
       "      <td>204.943925</td>\n",
       "      <td>4.429706e+06</td>\n",
       "      <td>58.439252</td>\n",
       "      <td>1467.598131</td>\n",
       "      <td>7.53271</td>\n",
       "      <td>518.140187</td>\n",
       "      <td>2.538925</td>\n",
       "      <td>210.004673</td>\n",
       "      <td>1237.850467</td>\n",
       "      <td>660.5</td>\n",
       "      <td>29204.126168</td>\n",
       "      <td>35.546729</td>\n",
       "      <td>122689.373832</td>\n",
       "      <td>81498.700935</td>\n",
       "      <td>783.485981</td>\n",
       "      <td>2127.261682</td>\n",
       "      <td>1287.471963</td>\n",
       "      <td>2464.733645</td>\n",
       "      <td>23.310093</td>\n",
       "      <td>14983.584112</td>\n",
       "      <td>67331.130841</td>\n",
       "      <td>121.719626</td>\n",
       "      <td>254.186916</td>\n",
       "      <td>9578.116822</td>\n",
       "      <td>613.196262</td>\n",
       "      <td>5293.948598</td>\n",
       "      <td>7832.883178</td>\n",
       "      <td>812.981308</td>\n",
       "      <td>12.373832</td>\n",
       "      <td>493.546729</td>\n",
       "      <td>876.224299</td>\n",
       "      <td>13759.995327</td>\n",
       "      <td>841.341121</td>\n",
       "      <td>799.130841</td>\n",
       "      <td>439.03271</td>\n",
       "      <td>13759.995327</td>\n",
       "      <td>7215.35514</td>\n",
       "      <td>282.584112</td>\n",
       "      <td>18469.775701</td>\n",
       "      <td>5.684579</td>\n",
       "      <td>1284.71028</td>\n",
       "      <td>1021.780374</td>\n",
       "      <td>788.939252</td>\n",
       "      <td>34.04486</td>\n",
       "      <td>1061.654206</td>\n",
       "      <td>88.88785</td>\n",
       "      <td>2892.841121</td>\n",
       "      <td>33.462617</td>\n",
       "      <td>2588.242991</td>\n",
       "      <td>4.915888</td>\n",
       "      <td>24611.271028</td>\n",
       "      <td>19.803738</td>\n",
       "      <td>392.88785</td>\n",
       "      <td>7832.439252</td>\n",
       "      <td>1098.107477</td>\n",
       "      <td>37466.626168</td>\n",
       "      <td>335034.934579</td>\n",
       "      <td>192664.280374</td>\n",
       "      <td>1513.014019</td>\n",
       "      <td>330.864486</td>\n",
       "      <td>491.528037</td>\n",
       "      <td>630.738318</td>\n",
       "      <td>2.616822</td>\n",
       "      <td>482.093458</td>\n",
       "      <td>5148.775701</td>\n",
       "      <td>259.308411</td>\n",
       "      <td>516.275701</td>\n",
       "      <td>345.266355</td>\n",
       "      <td>251.654206</td>\n",
       "      <td>768.434579</td>\n",
       "      <td>218.182243</td>\n",
       "      <td>19.222056</td>\n",
       "      <td>197.700935</td>\n",
       "      <td>18617.383178</td>\n",
       "      <td>1526.761682</td>\n",
       "      <td>252.490654</td>\n",
       "      <td>8466.046729</td>\n",
       "      <td>4912.53271</td>\n",
       "      <td>744.593458</td>\n",
       "      <td>153.925234</td>\n",
       "      <td>1886.448598</td>\n",
       "      <td>371.61215</td>\n",
       "      <td>19219.242991</td>\n",
       "      <td>984.705607</td>\n",
       "      <td>249.925234</td>\n",
       "      <td>1106.359813</td>\n",
       "      <td>4.283551</td>\n",
       "      <td>1.175915e+09</td>\n",
       "      <td>297.406542</td>\n",
       "      <td>2894.495327</td>\n",
       "      <td>204.892523</td>\n",
       "      <td>31981.065421</td>\n",
       "      <td>400.64486</td>\n",
       "      <td>54949.17757</td>\n",
       "      <td>12855.35514</td>\n",
       "      <td>2.707056</td>\n",
       "      <td>893.03271</td>\n",
       "      <td>23937.107477</td>\n",
       "      <td>5.303824e+06</td>\n",
       "      <td>1421.233645</td>\n",
       "      <td>121.35514</td>\n",
       "      <td>2.808224</td>\n",
       "      <td>1897.794393</td>\n",
       "      <td>1496.275701</td>\n",
       "      <td>41.602804</td>\n",
       "      <td>333.037383</td>\n",
       "      <td>1493.126168</td>\n",
       "      <td>919.429907</td>\n",
       "      <td>223.163551</td>\n",
       "      <td>389.397196</td>\n",
       "      <td>37836.626168</td>\n",
       "      <td>67604.602804</td>\n",
       "      <td>1931.299065</td>\n",
       "      <td>965.584112</td>\n",
       "      <td>1404.985981</td>\n",
       "      <td>1473.102804</td>\n",
       "      <td>173.873832</td>\n",
       "      <td>99934.696262</td>\n",
       "      <td>4292.864486</td>\n",
       "      <td>2693.901869</td>\n",
       "      <td>274.551402</td>\n",
       "      <td>0.4213</td>\n",
       "      <td>875.168224</td>\n",
       "      <td>3037.238318</td>\n",
       "      <td>1346.266355</td>\n",
       "      <td>1181.453271</td>\n",
       "      <td>26.252336</td>\n",
       "      <td>7072.640187</td>\n",
       "      <td>2208.088785</td>\n",
       "      <td>201608.191589</td>\n",
       "      <td>43409.757009</td>\n",
       "      <td>224.771028</td>\n",
       "      <td>0.068592</td>\n",
       "      <td>-0.023806</td>\n",
       "      <td>-0.017544</td>\n",
       "      <td>0.026</td>\n",
       "      <td>3.858915</td>\n",
       "      <td>NaN</td>\n",
       "    </tr>\n",
       "    <tr>\n",
       "      <th>2014-03-01 00:00:00</th>\n",
       "      <td>2014-03-01</td>\n",
       "      <td>1175.150388</td>\n",
       "      <td>76814.869767</td>\n",
       "      <td>108.685</td>\n",
       "      <td>104.223</td>\n",
       "      <td>83.861</td>\n",
       "      <td>215.912</td>\n",
       "      <td>236.293</td>\n",
       "      <td>11.469</td>\n",
       "      <td>137.968</td>\n",
       "      <td>5.5</td>\n",
       "      <td>6.7</td>\n",
       "      <td>8579.0</td>\n",
       "      <td>3474.0</td>\n",
       "      <td>23306.0</td>\n",
       "      <td>176000.0</td>\n",
       "      <td>2408.05</td>\n",
       "      <td>980.838</td>\n",
       "      <td>2098.30</td>\n",
       "      <td>3.302</td>\n",
       "      <td>3.803</td>\n",
       "      <td>5851.2</td>\n",
       "      <td>7742.6</td>\n",
       "      <td>9062.4</td>\n",
       "      <td>11468.5</td>\n",
       "      <td>15450.6</td>\n",
       "      <td>7799.42</td>\n",
       "      <td>3847.20</td>\n",
       "      <td>963.6</td>\n",
       "      <td>329.8</td>\n",
       "      <td>76814.869767</td>\n",
       "      <td>18169.616822</td>\n",
       "      <td>18764.018692</td>\n",
       "      <td>18318.471963</td>\n",
       "      <td>4043.724299</td>\n",
       "      <td>4266.242991</td>\n",
       "      <td>2322.186916</td>\n",
       "      <td>11249.509346</td>\n",
       "      <td>97.672897</td>\n",
       "      <td>81.696262</td>\n",
       "      <td>66965.626168</td>\n",
       "      <td>33112.158879</td>\n",
       "      <td>36541.457944</td>\n",
       "      <td>4381.065421</td>\n",
       "      <td>0.419411</td>\n",
       "      <td>14735.686916</td>\n",
       "      <td>993.317757</td>\n",
       "      <td>13497.85514</td>\n",
       "      <td>531.485981</td>\n",
       "      <td>1986.163551</td>\n",
       "      <td>6859.901869</td>\n",
       "      <td>964.878505</td>\n",
       "      <td>46.663551</td>\n",
       "      <td>40.943925</td>\n",
       "      <td>10085.135514</td>\n",
       "      <td>816.593458</td>\n",
       "      <td>29.212617</td>\n",
       "      <td>8404.71028</td>\n",
       "      <td>462661.028037</td>\n",
       "      <td>366.453271</td>\n",
       "      <td>3957.447263</td>\n",
       "      <td>5649.188452</td>\n",
       "      <td>18614.065421</td>\n",
       "      <td>1288.920561</td>\n",
       "      <td>19996.116822</td>\n",
       "      <td>93.130841</td>\n",
       "      <td>2011.0</td>\n",
       "      <td>-40.406655</td>\n",
       "      <td>0.916178</td>\n",
       "      <td>1.427493</td>\n",
       "      <td>1.594593</td>\n",
       "      <td>0.507159</td>\n",
       "      <td>0.070996</td>\n",
       "      <td>76814.869767</td>\n",
       "      <td>18760.752336</td>\n",
       "      <td>1203.892523</td>\n",
       "      <td>15046.130841</td>\n",
       "      <td>340.621495</td>\n",
       "      <td>10.099813</td>\n",
       "      <td>1047.462617</td>\n",
       "      <td>15.743551</td>\n",
       "      <td>759.799065</td>\n",
       "      <td>255.700935</td>\n",
       "      <td>1394.953271</td>\n",
       "      <td>311.140187</td>\n",
       "      <td>7875.85514</td>\n",
       "      <td>47.028037</td>\n",
       "      <td>380.574766</td>\n",
       "      <td>271.420561</td>\n",
       "      <td>23.154206</td>\n",
       "      <td>258.0</td>\n",
       "      <td>319.570093</td>\n",
       "      <td>742.766355</td>\n",
       "      <td>46.563692</td>\n",
       "      <td>1262.434579</td>\n",
       "      <td>835.308411</td>\n",
       "      <td>204.943925</td>\n",
       "      <td>4.429706e+06</td>\n",
       "      <td>58.439252</td>\n",
       "      <td>1467.598131</td>\n",
       "      <td>7.53271</td>\n",
       "      <td>518.140187</td>\n",
       "      <td>2.538925</td>\n",
       "      <td>210.004673</td>\n",
       "      <td>1237.850467</td>\n",
       "      <td>660.5</td>\n",
       "      <td>29204.126168</td>\n",
       "      <td>35.546729</td>\n",
       "      <td>122689.373832</td>\n",
       "      <td>81498.700935</td>\n",
       "      <td>783.485981</td>\n",
       "      <td>2127.261682</td>\n",
       "      <td>1287.471963</td>\n",
       "      <td>2464.733645</td>\n",
       "      <td>23.310093</td>\n",
       "      <td>14983.584112</td>\n",
       "      <td>67331.130841</td>\n",
       "      <td>121.719626</td>\n",
       "      <td>254.186916</td>\n",
       "      <td>9578.116822</td>\n",
       "      <td>613.196262</td>\n",
       "      <td>5293.948598</td>\n",
       "      <td>7832.883178</td>\n",
       "      <td>812.981308</td>\n",
       "      <td>12.373832</td>\n",
       "      <td>493.546729</td>\n",
       "      <td>876.224299</td>\n",
       "      <td>13759.995327</td>\n",
       "      <td>841.341121</td>\n",
       "      <td>799.130841</td>\n",
       "      <td>439.03271</td>\n",
       "      <td>13759.995327</td>\n",
       "      <td>7215.35514</td>\n",
       "      <td>282.584112</td>\n",
       "      <td>18469.775701</td>\n",
       "      <td>5.684579</td>\n",
       "      <td>1284.71028</td>\n",
       "      <td>1021.780374</td>\n",
       "      <td>788.939252</td>\n",
       "      <td>34.04486</td>\n",
       "      <td>1061.654206</td>\n",
       "      <td>88.88785</td>\n",
       "      <td>2892.841121</td>\n",
       "      <td>33.462617</td>\n",
       "      <td>2588.242991</td>\n",
       "      <td>4.915888</td>\n",
       "      <td>24611.271028</td>\n",
       "      <td>19.803738</td>\n",
       "      <td>392.88785</td>\n",
       "      <td>7832.439252</td>\n",
       "      <td>1098.107477</td>\n",
       "      <td>37466.626168</td>\n",
       "      <td>335034.934579</td>\n",
       "      <td>192664.280374</td>\n",
       "      <td>1513.014019</td>\n",
       "      <td>330.864486</td>\n",
       "      <td>491.528037</td>\n",
       "      <td>630.738318</td>\n",
       "      <td>2.616822</td>\n",
       "      <td>482.093458</td>\n",
       "      <td>5148.775701</td>\n",
       "      <td>259.308411</td>\n",
       "      <td>516.275701</td>\n",
       "      <td>345.266355</td>\n",
       "      <td>251.654206</td>\n",
       "      <td>768.434579</td>\n",
       "      <td>218.182243</td>\n",
       "      <td>19.222056</td>\n",
       "      <td>197.700935</td>\n",
       "      <td>18617.383178</td>\n",
       "      <td>1526.761682</td>\n",
       "      <td>252.490654</td>\n",
       "      <td>8466.046729</td>\n",
       "      <td>4912.53271</td>\n",
       "      <td>744.593458</td>\n",
       "      <td>153.925234</td>\n",
       "      <td>1886.448598</td>\n",
       "      <td>371.61215</td>\n",
       "      <td>19219.242991</td>\n",
       "      <td>984.705607</td>\n",
       "      <td>249.925234</td>\n",
       "      <td>1106.359813</td>\n",
       "      <td>4.283551</td>\n",
       "      <td>1.175915e+09</td>\n",
       "      <td>297.406542</td>\n",
       "      <td>2894.495327</td>\n",
       "      <td>204.892523</td>\n",
       "      <td>31981.065421</td>\n",
       "      <td>400.64486</td>\n",
       "      <td>54949.17757</td>\n",
       "      <td>12855.35514</td>\n",
       "      <td>2.707056</td>\n",
       "      <td>893.03271</td>\n",
       "      <td>23937.107477</td>\n",
       "      <td>5.303824e+06</td>\n",
       "      <td>1421.233645</td>\n",
       "      <td>121.35514</td>\n",
       "      <td>2.808224</td>\n",
       "      <td>1897.794393</td>\n",
       "      <td>1496.275701</td>\n",
       "      <td>41.602804</td>\n",
       "      <td>333.037383</td>\n",
       "      <td>1493.126168</td>\n",
       "      <td>919.429907</td>\n",
       "      <td>223.163551</td>\n",
       "      <td>389.397196</td>\n",
       "      <td>37836.626168</td>\n",
       "      <td>67604.602804</td>\n",
       "      <td>1931.299065</td>\n",
       "      <td>965.584112</td>\n",
       "      <td>1404.985981</td>\n",
       "      <td>1473.102804</td>\n",
       "      <td>173.873832</td>\n",
       "      <td>99934.696262</td>\n",
       "      <td>4292.864486</td>\n",
       "      <td>2693.901869</td>\n",
       "      <td>274.551402</td>\n",
       "      <td>0.4213</td>\n",
       "      <td>875.168224</td>\n",
       "      <td>3037.238318</td>\n",
       "      <td>1346.266355</td>\n",
       "      <td>1181.453271</td>\n",
       "      <td>26.252336</td>\n",
       "      <td>7072.640187</td>\n",
       "      <td>2208.088785</td>\n",
       "      <td>201608.191589</td>\n",
       "      <td>43409.757009</td>\n",
       "      <td>224.771028</td>\n",
       "      <td>-0.018291</td>\n",
       "      <td>0.128592</td>\n",
       "      <td>-0.017857</td>\n",
       "      <td>0.162</td>\n",
       "      <td>4.686822</td>\n",
       "      <td>NaN</td>\n",
       "    </tr>\n",
       "    <tr>\n",
       "      <th>2014-04-01 00:00:00</th>\n",
       "      <td>2014-04-01</td>\n",
       "      <td>1179.906977</td>\n",
       "      <td>76814.869767</td>\n",
       "      <td>120.100</td>\n",
       "      <td>111.700</td>\n",
       "      <td>81.700</td>\n",
       "      <td>216.373</td>\n",
       "      <td>237.072</td>\n",
       "      <td>11.518</td>\n",
       "      <td>138.293</td>\n",
       "      <td>5.4</td>\n",
       "      <td>6.2</td>\n",
       "      <td>9373.0</td>\n",
       "      <td>8851.0</td>\n",
       "      <td>25515.0</td>\n",
       "      <td>178200.0</td>\n",
       "      <td>5677.74</td>\n",
       "      <td>935.118</td>\n",
       "      <td>2283.61</td>\n",
       "      <td>3.470</td>\n",
       "      <td>3.807</td>\n",
       "      <td>5864.8</td>\n",
       "      <td>7777.5</td>\n",
       "      <td>9089.4</td>\n",
       "      <td>11518.2</td>\n",
       "      <td>15488.8</td>\n",
       "      <td>7864.32</td>\n",
       "      <td>3681.81</td>\n",
       "      <td>1085.6</td>\n",
       "      <td>374.1</td>\n",
       "      <td>76814.869767</td>\n",
       "      <td>18169.616822</td>\n",
       "      <td>18764.018692</td>\n",
       "      <td>18318.471963</td>\n",
       "      <td>4043.724299</td>\n",
       "      <td>4266.242991</td>\n",
       "      <td>2322.186916</td>\n",
       "      <td>11249.509346</td>\n",
       "      <td>97.672897</td>\n",
       "      <td>81.696262</td>\n",
       "      <td>66965.626168</td>\n",
       "      <td>33112.158879</td>\n",
       "      <td>36541.457944</td>\n",
       "      <td>4381.065421</td>\n",
       "      <td>0.419411</td>\n",
       "      <td>14735.686916</td>\n",
       "      <td>993.317757</td>\n",
       "      <td>13497.85514</td>\n",
       "      <td>531.485981</td>\n",
       "      <td>1986.163551</td>\n",
       "      <td>6859.901869</td>\n",
       "      <td>964.878505</td>\n",
       "      <td>46.663551</td>\n",
       "      <td>40.943925</td>\n",
       "      <td>10085.135514</td>\n",
       "      <td>816.593458</td>\n",
       "      <td>29.212617</td>\n",
       "      <td>8404.71028</td>\n",
       "      <td>462661.028037</td>\n",
       "      <td>366.453271</td>\n",
       "      <td>3957.447263</td>\n",
       "      <td>5649.188452</td>\n",
       "      <td>18614.065421</td>\n",
       "      <td>1288.920561</td>\n",
       "      <td>19996.116822</td>\n",
       "      <td>93.130841</td>\n",
       "      <td>2011.0</td>\n",
       "      <td>-40.406655</td>\n",
       "      <td>0.916178</td>\n",
       "      <td>1.427493</td>\n",
       "      <td>1.594593</td>\n",
       "      <td>0.507159</td>\n",
       "      <td>0.070996</td>\n",
       "      <td>76814.869767</td>\n",
       "      <td>18760.752336</td>\n",
       "      <td>1203.892523</td>\n",
       "      <td>15046.130841</td>\n",
       "      <td>340.621495</td>\n",
       "      <td>10.099813</td>\n",
       "      <td>1047.462617</td>\n",
       "      <td>15.743551</td>\n",
       "      <td>759.799065</td>\n",
       "      <td>255.700935</td>\n",
       "      <td>1394.953271</td>\n",
       "      <td>311.140187</td>\n",
       "      <td>7875.85514</td>\n",
       "      <td>47.028037</td>\n",
       "      <td>380.574766</td>\n",
       "      <td>271.420561</td>\n",
       "      <td>23.154206</td>\n",
       "      <td>258.0</td>\n",
       "      <td>319.570093</td>\n",
       "      <td>742.766355</td>\n",
       "      <td>46.563692</td>\n",
       "      <td>1262.434579</td>\n",
       "      <td>835.308411</td>\n",
       "      <td>204.943925</td>\n",
       "      <td>4.429706e+06</td>\n",
       "      <td>58.439252</td>\n",
       "      <td>1467.598131</td>\n",
       "      <td>7.53271</td>\n",
       "      <td>518.140187</td>\n",
       "      <td>2.538925</td>\n",
       "      <td>210.004673</td>\n",
       "      <td>1237.850467</td>\n",
       "      <td>660.5</td>\n",
       "      <td>29204.126168</td>\n",
       "      <td>35.546729</td>\n",
       "      <td>122689.373832</td>\n",
       "      <td>81498.700935</td>\n",
       "      <td>783.485981</td>\n",
       "      <td>2127.261682</td>\n",
       "      <td>1287.471963</td>\n",
       "      <td>2464.733645</td>\n",
       "      <td>23.310093</td>\n",
       "      <td>14983.584112</td>\n",
       "      <td>67331.130841</td>\n",
       "      <td>121.719626</td>\n",
       "      <td>254.186916</td>\n",
       "      <td>9578.116822</td>\n",
       "      <td>613.196262</td>\n",
       "      <td>5293.948598</td>\n",
       "      <td>7832.883178</td>\n",
       "      <td>812.981308</td>\n",
       "      <td>12.373832</td>\n",
       "      <td>493.546729</td>\n",
       "      <td>876.224299</td>\n",
       "      <td>13759.995327</td>\n",
       "      <td>841.341121</td>\n",
       "      <td>799.130841</td>\n",
       "      <td>439.03271</td>\n",
       "      <td>13759.995327</td>\n",
       "      <td>7215.35514</td>\n",
       "      <td>282.584112</td>\n",
       "      <td>18469.775701</td>\n",
       "      <td>5.684579</td>\n",
       "      <td>1284.71028</td>\n",
       "      <td>1021.780374</td>\n",
       "      <td>788.939252</td>\n",
       "      <td>34.04486</td>\n",
       "      <td>1061.654206</td>\n",
       "      <td>88.88785</td>\n",
       "      <td>2892.841121</td>\n",
       "      <td>33.462617</td>\n",
       "      <td>2588.242991</td>\n",
       "      <td>4.915888</td>\n",
       "      <td>24611.271028</td>\n",
       "      <td>19.803738</td>\n",
       "      <td>392.88785</td>\n",
       "      <td>7832.439252</td>\n",
       "      <td>1098.107477</td>\n",
       "      <td>37466.626168</td>\n",
       "      <td>335034.934579</td>\n",
       "      <td>192664.280374</td>\n",
       "      <td>1513.014019</td>\n",
       "      <td>330.864486</td>\n",
       "      <td>491.528037</td>\n",
       "      <td>630.738318</td>\n",
       "      <td>2.616822</td>\n",
       "      <td>482.093458</td>\n",
       "      <td>5148.775701</td>\n",
       "      <td>259.308411</td>\n",
       "      <td>516.275701</td>\n",
       "      <td>345.266355</td>\n",
       "      <td>251.654206</td>\n",
       "      <td>768.434579</td>\n",
       "      <td>218.182243</td>\n",
       "      <td>19.222056</td>\n",
       "      <td>197.700935</td>\n",
       "      <td>18617.383178</td>\n",
       "      <td>1526.761682</td>\n",
       "      <td>252.490654</td>\n",
       "      <td>8466.046729</td>\n",
       "      <td>4912.53271</td>\n",
       "      <td>744.593458</td>\n",
       "      <td>153.925234</td>\n",
       "      <td>1886.448598</td>\n",
       "      <td>371.61215</td>\n",
       "      <td>19219.242991</td>\n",
       "      <td>984.705607</td>\n",
       "      <td>249.925234</td>\n",
       "      <td>1106.359813</td>\n",
       "      <td>4.283551</td>\n",
       "      <td>1.175915e+09</td>\n",
       "      <td>297.406542</td>\n",
       "      <td>2894.495327</td>\n",
       "      <td>204.892523</td>\n",
       "      <td>31981.065421</td>\n",
       "      <td>400.64486</td>\n",
       "      <td>54949.17757</td>\n",
       "      <td>12855.35514</td>\n",
       "      <td>2.707056</td>\n",
       "      <td>893.03271</td>\n",
       "      <td>23937.107477</td>\n",
       "      <td>5.303824e+06</td>\n",
       "      <td>1421.233645</td>\n",
       "      <td>121.35514</td>\n",
       "      <td>2.808224</td>\n",
       "      <td>1897.794393</td>\n",
       "      <td>1496.275701</td>\n",
       "      <td>41.602804</td>\n",
       "      <td>333.037383</td>\n",
       "      <td>1493.126168</td>\n",
       "      <td>919.429907</td>\n",
       "      <td>223.163551</td>\n",
       "      <td>389.397196</td>\n",
       "      <td>37836.626168</td>\n",
       "      <td>67604.602804</td>\n",
       "      <td>1931.299065</td>\n",
       "      <td>965.584112</td>\n",
       "      <td>1404.985981</td>\n",
       "      <td>1473.102804</td>\n",
       "      <td>173.873832</td>\n",
       "      <td>99934.696262</td>\n",
       "      <td>4292.864486</td>\n",
       "      <td>2693.901869</td>\n",
       "      <td>274.551402</td>\n",
       "      <td>0.4213</td>\n",
       "      <td>875.168224</td>\n",
       "      <td>3037.238318</td>\n",
       "      <td>1346.266355</td>\n",
       "      <td>1181.453271</td>\n",
       "      <td>26.252336</td>\n",
       "      <td>7072.640187</td>\n",
       "      <td>2208.088785</td>\n",
       "      <td>201608.191589</td>\n",
       "      <td>43409.757009</td>\n",
       "      <td>224.771028</td>\n",
       "      <td>-0.042990</td>\n",
       "      <td>0.008321</td>\n",
       "      <td>-0.018182</td>\n",
       "      <td>0.168</td>\n",
       "      <td>4.756589</td>\n",
       "      <td>NaN</td>\n",
       "    </tr>\n",
       "    <tr>\n",
       "      <th>2014-05-01 00:00:00</th>\n",
       "      <td>2014-05-01</td>\n",
       "      <td>1184.599225</td>\n",
       "      <td>76814.869767</td>\n",
       "      <td>131.200</td>\n",
       "      <td>122.000</td>\n",
       "      <td>82.200</td>\n",
       "      <td>216.822</td>\n",
       "      <td>237.900</td>\n",
       "      <td>11.553</td>\n",
       "      <td>138.511</td>\n",
       "      <td>5.3</td>\n",
       "      <td>6.3</td>\n",
       "      <td>9067.0</td>\n",
       "      <td>6472.0</td>\n",
       "      <td>28932.0</td>\n",
       "      <td>185000.0</td>\n",
       "      <td>1932.40</td>\n",
       "      <td>1113.820</td>\n",
       "      <td>2461.52</td>\n",
       "      <td>3.451</td>\n",
       "      <td>3.796</td>\n",
       "      <td>5873.6</td>\n",
       "      <td>7795.9</td>\n",
       "      <td>9110.5</td>\n",
       "      <td>11553.2</td>\n",
       "      <td>15521.5</td>\n",
       "      <td>7994.94</td>\n",
       "      <td>3871.69</td>\n",
       "      <td>1073.8</td>\n",
       "      <td>372.3</td>\n",
       "      <td>76814.869767</td>\n",
       "      <td>18169.616822</td>\n",
       "      <td>18764.018692</td>\n",
       "      <td>18318.471963</td>\n",
       "      <td>4043.724299</td>\n",
       "      <td>4266.242991</td>\n",
       "      <td>2322.186916</td>\n",
       "      <td>11249.509346</td>\n",
       "      <td>97.672897</td>\n",
       "      <td>81.696262</td>\n",
       "      <td>66965.626168</td>\n",
       "      <td>33112.158879</td>\n",
       "      <td>36541.457944</td>\n",
       "      <td>4381.065421</td>\n",
       "      <td>0.419411</td>\n",
       "      <td>14735.686916</td>\n",
       "      <td>993.317757</td>\n",
       "      <td>13497.85514</td>\n",
       "      <td>531.485981</td>\n",
       "      <td>1986.163551</td>\n",
       "      <td>6859.901869</td>\n",
       "      <td>964.878505</td>\n",
       "      <td>46.663551</td>\n",
       "      <td>40.943925</td>\n",
       "      <td>10085.135514</td>\n",
       "      <td>816.593458</td>\n",
       "      <td>29.212617</td>\n",
       "      <td>8404.71028</td>\n",
       "      <td>462661.028037</td>\n",
       "      <td>366.453271</td>\n",
       "      <td>3957.447263</td>\n",
       "      <td>5649.188452</td>\n",
       "      <td>18614.065421</td>\n",
       "      <td>1288.920561</td>\n",
       "      <td>19996.116822</td>\n",
       "      <td>93.130841</td>\n",
       "      <td>2011.0</td>\n",
       "      <td>-40.406655</td>\n",
       "      <td>0.916178</td>\n",
       "      <td>1.427493</td>\n",
       "      <td>1.594593</td>\n",
       "      <td>0.507159</td>\n",
       "      <td>0.070996</td>\n",
       "      <td>76814.869767</td>\n",
       "      <td>18760.752336</td>\n",
       "      <td>1203.892523</td>\n",
       "      <td>15046.130841</td>\n",
       "      <td>340.621495</td>\n",
       "      <td>10.099813</td>\n",
       "      <td>1047.462617</td>\n",
       "      <td>15.743551</td>\n",
       "      <td>759.799065</td>\n",
       "      <td>255.700935</td>\n",
       "      <td>1394.953271</td>\n",
       "      <td>311.140187</td>\n",
       "      <td>7875.85514</td>\n",
       "      <td>47.028037</td>\n",
       "      <td>380.574766</td>\n",
       "      <td>271.420561</td>\n",
       "      <td>23.154206</td>\n",
       "      <td>258.0</td>\n",
       "      <td>319.570093</td>\n",
       "      <td>742.766355</td>\n",
       "      <td>46.563692</td>\n",
       "      <td>1262.434579</td>\n",
       "      <td>835.308411</td>\n",
       "      <td>204.943925</td>\n",
       "      <td>4.429706e+06</td>\n",
       "      <td>58.439252</td>\n",
       "      <td>1467.598131</td>\n",
       "      <td>7.53271</td>\n",
       "      <td>518.140187</td>\n",
       "      <td>2.538925</td>\n",
       "      <td>210.004673</td>\n",
       "      <td>1237.850467</td>\n",
       "      <td>660.5</td>\n",
       "      <td>29204.126168</td>\n",
       "      <td>35.546729</td>\n",
       "      <td>122689.373832</td>\n",
       "      <td>81498.700935</td>\n",
       "      <td>783.485981</td>\n",
       "      <td>2127.261682</td>\n",
       "      <td>1287.471963</td>\n",
       "      <td>2464.733645</td>\n",
       "      <td>23.310093</td>\n",
       "      <td>14983.584112</td>\n",
       "      <td>67331.130841</td>\n",
       "      <td>121.719626</td>\n",
       "      <td>254.186916</td>\n",
       "      <td>9578.116822</td>\n",
       "      <td>613.196262</td>\n",
       "      <td>5293.948598</td>\n",
       "      <td>7832.883178</td>\n",
       "      <td>812.981308</td>\n",
       "      <td>12.373832</td>\n",
       "      <td>493.546729</td>\n",
       "      <td>876.224299</td>\n",
       "      <td>13759.995327</td>\n",
       "      <td>841.341121</td>\n",
       "      <td>799.130841</td>\n",
       "      <td>439.03271</td>\n",
       "      <td>13759.995327</td>\n",
       "      <td>7215.35514</td>\n",
       "      <td>282.584112</td>\n",
       "      <td>18469.775701</td>\n",
       "      <td>5.684579</td>\n",
       "      <td>1284.71028</td>\n",
       "      <td>1021.780374</td>\n",
       "      <td>788.939252</td>\n",
       "      <td>34.04486</td>\n",
       "      <td>1061.654206</td>\n",
       "      <td>88.88785</td>\n",
       "      <td>2892.841121</td>\n",
       "      <td>33.462617</td>\n",
       "      <td>2588.242991</td>\n",
       "      <td>4.915888</td>\n",
       "      <td>24611.271028</td>\n",
       "      <td>19.803738</td>\n",
       "      <td>392.88785</td>\n",
       "      <td>7832.439252</td>\n",
       "      <td>1098.107477</td>\n",
       "      <td>37466.626168</td>\n",
       "      <td>335034.934579</td>\n",
       "      <td>192664.280374</td>\n",
       "      <td>1513.014019</td>\n",
       "      <td>330.864486</td>\n",
       "      <td>491.528037</td>\n",
       "      <td>630.738318</td>\n",
       "      <td>2.616822</td>\n",
       "      <td>482.093458</td>\n",
       "      <td>5148.775701</td>\n",
       "      <td>259.308411</td>\n",
       "      <td>516.275701</td>\n",
       "      <td>345.266355</td>\n",
       "      <td>251.654206</td>\n",
       "      <td>768.434579</td>\n",
       "      <td>218.182243</td>\n",
       "      <td>19.222056</td>\n",
       "      <td>197.700935</td>\n",
       "      <td>18617.383178</td>\n",
       "      <td>1526.761682</td>\n",
       "      <td>252.490654</td>\n",
       "      <td>8466.046729</td>\n",
       "      <td>4912.53271</td>\n",
       "      <td>744.593458</td>\n",
       "      <td>153.925234</td>\n",
       "      <td>1886.448598</td>\n",
       "      <td>371.61215</td>\n",
       "      <td>19219.242991</td>\n",
       "      <td>984.705607</td>\n",
       "      <td>249.925234</td>\n",
       "      <td>1106.359813</td>\n",
       "      <td>4.283551</td>\n",
       "      <td>1.175915e+09</td>\n",
       "      <td>297.406542</td>\n",
       "      <td>2894.495327</td>\n",
       "      <td>204.892523</td>\n",
       "      <td>31981.065421</td>\n",
       "      <td>400.64486</td>\n",
       "      <td>54949.17757</td>\n",
       "      <td>12855.35514</td>\n",
       "      <td>2.707056</td>\n",
       "      <td>893.03271</td>\n",
       "      <td>23937.107477</td>\n",
       "      <td>5.303824e+06</td>\n",
       "      <td>1421.233645</td>\n",
       "      <td>121.35514</td>\n",
       "      <td>2.808224</td>\n",
       "      <td>1897.794393</td>\n",
       "      <td>1496.275701</td>\n",
       "      <td>41.602804</td>\n",
       "      <td>333.037383</td>\n",
       "      <td>1493.126168</td>\n",
       "      <td>919.429907</td>\n",
       "      <td>223.163551</td>\n",
       "      <td>389.397196</td>\n",
       "      <td>37836.626168</td>\n",
       "      <td>67604.602804</td>\n",
       "      <td>1931.299065</td>\n",
       "      <td>965.584112</td>\n",
       "      <td>1404.985981</td>\n",
       "      <td>1473.102804</td>\n",
       "      <td>173.873832</td>\n",
       "      <td>99934.696262</td>\n",
       "      <td>4292.864486</td>\n",
       "      <td>2693.901869</td>\n",
       "      <td>274.551402</td>\n",
       "      <td>0.4213</td>\n",
       "      <td>875.168224</td>\n",
       "      <td>3037.238318</td>\n",
       "      <td>1346.266355</td>\n",
       "      <td>1181.453271</td>\n",
       "      <td>26.252336</td>\n",
       "      <td>7072.640187</td>\n",
       "      <td>2208.088785</td>\n",
       "      <td>201608.191589</td>\n",
       "      <td>43409.757009</td>\n",
       "      <td>224.771028</td>\n",
       "      <td>0.051572</td>\n",
       "      <td>0.016609</td>\n",
       "      <td>-0.018519</td>\n",
       "      <td>-0.019</td>\n",
       "      <td>4.692248</td>\n",
       "      <td>NaN</td>\n",
       "    </tr>\n",
       "  </tbody>\n",
       "</table>\n",
       "</div>"
      ],
      "text/plain": [
       "                          Time     zori_ssa      zip_code  \\\n",
       "Date                                                        \n",
       "2014-01-01 00:00:00 2014-01-01  1166.604651  76814.869767   \n",
       "2014-02-01 00:00:00 2014-02-01  1170.463566  76814.869767   \n",
       "2014-03-01 00:00:00 2014-03-01  1175.150388  76814.869767   \n",
       "2014-04-01 00:00:00 2014-04-01  1179.906977  76814.869767   \n",
       "2014-05-01 00:00:00 2014-05-01  1184.599225  76814.869767   \n",
       "\n",
       "                     Consumer Confidence Index TX  \\\n",
       "Date                                                \n",
       "2014-01-01 00:00:00                       104.509   \n",
       "2014-02-01 00:00:00                       111.777   \n",
       "2014-03-01 00:00:00                       108.685   \n",
       "2014-04-01 00:00:00                       120.100   \n",
       "2014-05-01 00:00:00                       131.200   \n",
       "\n",
       "                     Consumer Confidence West South Central  \\\n",
       "Date                                                          \n",
       "2014-01-01 00:00:00                                  95.851   \n",
       "2014-02-01 00:00:00                                 112.340   \n",
       "2014-03-01 00:00:00                                 104.223   \n",
       "2014-04-01 00:00:00                                 111.700   \n",
       "2014-05-01 00:00:00                                 122.000   \n",
       "\n",
       "                     Consumer Confidence Index US  Consumer Price Index TX  \\\n",
       "Date                                                                         \n",
       "2014-01-01 00:00:00                        79.410                  213.443   \n",
       "2014-02-01 00:00:00                        78.301                  214.418   \n",
       "2014-03-01 00:00:00                        83.861                  215.912   \n",
       "2014-04-01 00:00:00                        81.700                  216.373   \n",
       "2014-05-01 00:00:00                        82.200                  216.822   \n",
       "\n",
       "                     Consumer Price Index U.S.  Nonfarm Employment TX  \\\n",
       "Date                                                                    \n",
       "2014-01-01 00:00:00                    233.916                 11.405   \n",
       "2014-02-01 00:00:00                    234.781                 11.432   \n",
       "2014-03-01 00:00:00                    236.293                 11.469   \n",
       "2014-04-01 00:00:00                    237.072                 11.518   \n",
       "2014-05-01 00:00:00                    237.900                 11.553   \n",
       "\n",
       "                     Nonfarm Employment U.S.  Unemployment TX  \\\n",
       "Date                                                            \n",
       "2014-01-01 00:00:00                  137.548              5.7   \n",
       "2014-02-01 00:00:00                  137.714              5.6   \n",
       "2014-03-01 00:00:00                  137.968              5.5   \n",
       "2014-04-01 00:00:00                  138.293              5.4   \n",
       "2014-05-01 00:00:00                  138.511              5.3   \n",
       "\n",
       "                     Unemployment U.S.  Single Family Building Permits TX  \\\n",
       "Date                                                                        \n",
       "2014-01-01 00:00:00                6.6                             7395.0   \n",
       "2014-02-01 00:00:00                6.7                             7552.0   \n",
       "2014-03-01 00:00:00                6.7                             8579.0   \n",
       "2014-04-01 00:00:00                6.2                             9373.0   \n",
       "2014-05-01 00:00:00                6.3                             9067.0   \n",
       "\n",
       "                     Multi Family Building Permits TX  \\\n",
       "Date                                                    \n",
       "2014-01-01 00:00:00                            4933.0   \n",
       "2014-02-01 00:00:00                            4611.0   \n",
       "2014-03-01 00:00:00                            3474.0   \n",
       "2014-04-01 00:00:00                            8851.0   \n",
       "2014-05-01 00:00:00                            6472.0   \n",
       "\n",
       "                     Existing Single Family Home Sales TX  \\\n",
       "Date                                                        \n",
       "2014-01-01 00:00:00                               15910.0   \n",
       "2014-02-01 00:00:00                               18608.0   \n",
       "2014-03-01 00:00:00                               23306.0   \n",
       "2014-04-01 00:00:00                               25515.0   \n",
       "2014-05-01 00:00:00                               28932.0   \n",
       "\n",
       "                     Existing Single Family Home Price TX  \\\n",
       "Date                                                        \n",
       "2014-01-01 00:00:00                              162500.0   \n",
       "2014-02-01 00:00:00                              172000.0   \n",
       "2014-03-01 00:00:00                              176000.0   \n",
       "2014-04-01 00:00:00                              178200.0   \n",
       "2014-05-01 00:00:00                              185000.0   \n",
       "\n",
       "                     Non Residential Building Construction  \\\n",
       "Date                                                         \n",
       "2014-01-01 00:00:00                                2588.69   \n",
       "2014-02-01 00:00:00                                1303.38   \n",
       "2014-03-01 00:00:00                                2408.05   \n",
       "2014-04-01 00:00:00                                5677.74   \n",
       "2014-05-01 00:00:00                                1932.40   \n",
       "\n",
       "                     Total Sales Tax Collections Retail TX  \\\n",
       "Date                                                         \n",
       "2014-01-01 00:00:00                               1096.980   \n",
       "2014-02-01 00:00:00                                968.346   \n",
       "2014-03-01 00:00:00                                980.838   \n",
       "2014-04-01 00:00:00                                935.118   \n",
       "2014-05-01 00:00:00                               1113.820   \n",
       "\n",
       "                     Total Sales Tax Collections TX  Retail Gasoline Price TX  \\\n",
       "Date                                                                            \n",
       "2014-01-01 00:00:00                         2311.81                     3.114   \n",
       "2014-02-01 00:00:00                         2213.24                     3.140   \n",
       "2014-03-01 00:00:00                         2098.30                     3.302   \n",
       "2014-04-01 00:00:00                         2283.61                     3.470   \n",
       "2014-05-01 00:00:00                         2461.52                     3.451   \n",
       "\n",
       "                     Retail Diesel Price TX  Nonfarm Employment Illinois  \\\n",
       "Date                                                                       \n",
       "2014-01-01 00:00:00                   3.781                       5844.0   \n",
       "2014-02-01 00:00:00                   3.788                       5842.2   \n",
       "2014-03-01 00:00:00                   3.803                       5851.2   \n",
       "2014-04-01 00:00:00                   3.807                       5864.8   \n",
       "2014-05-01 00:00:00                   3.796                       5873.6   \n",
       "\n",
       "                     Nonfarm Employment Florida  Nonfarm Employment New York  \\\n",
       "Date                                                                           \n",
       "2014-01-01 00:00:00                      7701.2                       9019.9   \n",
       "2014-02-01 00:00:00                      7721.6                       9045.1   \n",
       "2014-03-01 00:00:00                      7742.6                       9062.4   \n",
       "2014-04-01 00:00:00                      7777.5                       9089.4   \n",
       "2014-05-01 00:00:00                      7795.9                       9110.5   \n",
       "\n",
       "                     Nonfarm Employment Texas  Nonfarm Employment California  \\\n",
       "Date                                                                           \n",
       "2014-01-01 00:00:00                   11405.3                        15382.6   \n",
       "2014-02-01 00:00:00                   11432.1                        15416.5   \n",
       "2014-03-01 00:00:00                   11468.5                        15450.6   \n",
       "2014-04-01 00:00:00                   11518.2                        15488.8   \n",
       "2014-05-01 00:00:00                   11553.2                        15521.5   \n",
       "\n",
       "                     Gross Value Crude Oil Production  \\\n",
       "Date                                                    \n",
       "2014-01-01 00:00:00                           7079.28   \n",
       "2014-02-01 00:00:00                           6910.75   \n",
       "2014-03-01 00:00:00                           7799.42   \n",
       "2014-04-01 00:00:00                           7864.32   \n",
       "2014-05-01 00:00:00                           7994.94   \n",
       "\n",
       "                     Gross Value Natural Gas Production  \\\n",
       "Date                                                      \n",
       "2014-01-01 00:00:00                             3667.33   \n",
       "2014-02-01 00:00:00                             3918.88   \n",
       "2014-03-01 00:00:00                             3847.20   \n",
       "2014-04-01 00:00:00                             3681.81   \n",
       "2014-05-01 00:00:00                             3871.69   \n",
       "\n",
       "                     Motor Fuel Taxed Gasoline  Motor Fuel Taxed Diesel  \\\n",
       "Date                                                                      \n",
       "2014-01-01 00:00:00                     1027.7                    314.7   \n",
       "2014-02-01 00:00:00                     1015.2                    354.6   \n",
       "2014-03-01 00:00:00                      963.6                    329.8   \n",
       "2014-04-01 00:00:00                     1085.6                    374.1   \n",
       "2014-05-01 00:00:00                     1073.8                    372.3   \n",
       "\n",
       "                         zip_code      male_pop    female_pop     white_pop  \\\n",
       "Date                                                                          \n",
       "2014-01-01 00:00:00  76814.869767  18169.616822  18764.018692  18318.471963   \n",
       "2014-02-01 00:00:00  76814.869767  18169.616822  18764.018692  18318.471963   \n",
       "2014-03-01 00:00:00  76814.869767  18169.616822  18764.018692  18318.471963   \n",
       "2014-04-01 00:00:00  76814.869767  18169.616822  18764.018692  18318.471963   \n",
       "2014-05-01 00:00:00  76814.869767  18169.616822  18764.018692  18318.471963   \n",
       "\n",
       "                     not_us_citizen_pop    black_pop    asian_pop  \\\n",
       "Date                                                                \n",
       "2014-01-01 00:00:00         4043.724299  4266.242991  2322.186916   \n",
       "2014-02-01 00:00:00         4043.724299  4266.242991  2322.186916   \n",
       "2014-03-01 00:00:00         4043.724299  4266.242991  2322.186916   \n",
       "2014-04-01 00:00:00         4043.724299  4266.242991  2322.186916   \n",
       "2014-05-01 00:00:00         4043.724299  4266.242991  2322.186916   \n",
       "\n",
       "                     hispanic_pop  amerindian_pop  other_race_pop  \\\n",
       "Date                                                                \n",
       "2014-01-01 00:00:00  11249.509346       97.672897       81.696262   \n",
       "2014-02-01 00:00:00  11249.509346       97.672897       81.696262   \n",
       "2014-03-01 00:00:00  11249.509346       97.672897       81.696262   \n",
       "2014-04-01 00:00:00  11249.509346       97.672897       81.696262   \n",
       "2014-05-01 00:00:00  11249.509346       97.672897       81.696262   \n",
       "\n",
       "                     median_income  income_per_capita  \\\n",
       "Date                                                    \n",
       "2014-01-01 00:00:00   66965.626168       33112.158879   \n",
       "2014-02-01 00:00:00   66965.626168       33112.158879   \n",
       "2014-03-01 00:00:00   66965.626168       33112.158879   \n",
       "2014-04-01 00:00:00   66965.626168       33112.158879   \n",
       "2014-05-01 00:00:00   66965.626168       33112.158879   \n",
       "\n",
       "                     pop_determined_poverty_status      poverty  gini_index  \\\n",
       "Date                                                                          \n",
       "2014-01-01 00:00:00                   36541.457944  4381.065421    0.419411   \n",
       "2014-02-01 00:00:00                   36541.457944  4381.065421    0.419411   \n",
       "2014-03-01 00:00:00                   36541.457944  4381.065421    0.419411   \n",
       "2014-04-01 00:00:00                   36541.457944  4381.065421    0.419411   \n",
       "2014-05-01 00:00:00                   36541.457944  4381.065421    0.419411   \n",
       "\n",
       "                     housing_units  \\\n",
       "Date                                 \n",
       "2014-01-01 00:00:00   14735.686916   \n",
       "2014-02-01 00:00:00   14735.686916   \n",
       "2014-03-01 00:00:00   14735.686916   \n",
       "2014-04-01 00:00:00   14735.686916   \n",
       "2014-05-01 00:00:00   14735.686916   \n",
       "\n",
       "                     renter_occupied_housing_units_paying_cash_median_gross_rent  \\\n",
       "Date                                                                               \n",
       "2014-01-01 00:00:00                                         993.317757             \n",
       "2014-02-01 00:00:00                                         993.317757             \n",
       "2014-03-01 00:00:00                                         993.317757             \n",
       "2014-04-01 00:00:00                                         993.317757             \n",
       "2014-05-01 00:00:00                                         993.317757             \n",
       "\n",
       "                     occupied_housing_units  vacant_housing_units_for_rent  \\\n",
       "Date                                                                         \n",
       "2014-01-01 00:00:00             13497.85514                     531.485981   \n",
       "2014-02-01 00:00:00             13497.85514                     531.485981   \n",
       "2014-03-01 00:00:00             13497.85514                     531.485981   \n",
       "2014-04-01 00:00:00             13497.85514                     531.485981   \n",
       "2014-05-01 00:00:00             13497.85514                     531.485981   \n",
       "\n",
       "                     median_year_structure_built  married_households  \\\n",
       "Date                                                                   \n",
       "2014-01-01 00:00:00                  1986.163551         6859.901869   \n",
       "2014-02-01 00:00:00                  1986.163551         6859.901869   \n",
       "2014-03-01 00:00:00                  1986.163551         6859.901869   \n",
       "2014-04-01 00:00:00                  1986.163551         6859.901869   \n",
       "2014-05-01 00:00:00                  1986.163551         6859.901869   \n",
       "\n",
       "                     households_public_asst_or_food_stamps  \\\n",
       "Date                                                         \n",
       "2014-01-01 00:00:00                             964.878505   \n",
       "2014-02-01 00:00:00                             964.878505   \n",
       "2014-03-01 00:00:00                             964.878505   \n",
       "2014-04-01 00:00:00                             964.878505   \n",
       "2014-05-01 00:00:00                             964.878505   \n",
       "\n",
       "                     male_male_households  female_female_households  \\\n",
       "Date                                                                  \n",
       "2014-01-01 00:00:00             46.663551                 40.943925   \n",
       "2014-02-01 00:00:00             46.663551                 40.943925   \n",
       "2014-03-01 00:00:00             46.663551                 40.943925   \n",
       "2014-04-01 00:00:00             46.663551                 40.943925   \n",
       "2014-05-01 00:00:00             46.663551                 40.943925   \n",
       "\n",
       "                         children  median_rent  percent_income_spent_on_rent  \\\n",
       "Date                                                                           \n",
       "2014-01-01 00:00:00  10085.135514   816.593458                     29.212617   \n",
       "2014-02-01 00:00:00  10085.135514   816.593458                     29.212617   \n",
       "2014-03-01 00:00:00  10085.135514   816.593458                     29.212617   \n",
       "2014-04-01 00:00:00  10085.135514   816.593458                     29.212617   \n",
       "2014-05-01 00:00:00  10085.135514   816.593458                     29.212617   \n",
       "\n",
       "                     owner_occupied_housing_units  \\\n",
       "Date                                                \n",
       "2014-01-01 00:00:00                    8404.71028   \n",
       "2014-02-01 00:00:00                    8404.71028   \n",
       "2014-03-01 00:00:00                    8404.71028   \n",
       "2014-04-01 00:00:00                    8404.71028   \n",
       "2014-05-01 00:00:00                    8404.71028   \n",
       "\n",
       "                     aggregate_travel_time_to_work  \\\n",
       "Date                                                 \n",
       "2014-01-01 00:00:00                  462661.028037   \n",
       "2014-02-01 00:00:00                  462661.028037   \n",
       "2014-03-01 00:00:00                  462661.028037   \n",
       "2014-04-01 00:00:00                  462661.028037   \n",
       "2014-05-01 00:00:00                  462661.028037   \n",
       "\n",
       "                     commuters_by_public_transportation  high_school_diploma  \\\n",
       "Date                                                                           \n",
       "2014-01-01 00:00:00                          366.453271          3957.447263   \n",
       "2014-02-01 00:00:00                          366.453271          3957.447263   \n",
       "2014-03-01 00:00:00                          366.453271          3957.447263   \n",
       "2014-04-01 00:00:00                          366.453271          3957.447263   \n",
       "2014-05-01 00:00:00                          366.453271          3957.447263   \n",
       "\n",
       "                     bachelors_degree  employed_pop  unemployed_pop  \\\n",
       "Date                                                                  \n",
       "2014-01-01 00:00:00       5649.188452  18614.065421     1288.920561   \n",
       "2014-02-01 00:00:00       5649.188452  18614.065421     1288.920561   \n",
       "2014-03-01 00:00:00       5649.188452  18614.065421     1288.920561   \n",
       "2014-04-01 00:00:00       5649.188452  18614.065421     1288.920561   \n",
       "2014-05-01 00:00:00       5649.188452  18614.065421     1288.920561   \n",
       "\n",
       "                     pop_in_labor_force  armed_forces    year  \\\n",
       "Date                                                            \n",
       "2014-01-01 00:00:00        19996.116822     93.130841  2011.0   \n",
       "2014-02-01 00:00:00        19996.116822     93.130841  2011.0   \n",
       "2014-03-01 00:00:00        19996.116822     93.130841  2011.0   \n",
       "2014-04-01 00:00:00        19996.116822     93.130841  2011.0   \n",
       "2014-05-01 00:00:00        19996.116822     93.130841  2011.0   \n",
       "\n",
       "                     diff_from_med_income_ratio_to_median_rent  \\\n",
       "Date                                                             \n",
       "2014-01-01 00:00:00                                 -40.406655   \n",
       "2014-02-01 00:00:00                                 -40.406655   \n",
       "2014-03-01 00:00:00                                 -40.406655   \n",
       "2014-04-01 00:00:00                                 -40.406655   \n",
       "2014-05-01 00:00:00                                 -40.406655   \n",
       "\n",
       "                     occupied_ratio  batch_high_school_ratio  minority_ratio  \\\n",
       "Date                                                                           \n",
       "2014-01-01 00:00:00        0.916178                 1.427493        1.594593   \n",
       "2014-02-01 00:00:00        0.916178                 1.427493        1.594593   \n",
       "2014-03-01 00:00:00        0.916178                 1.427493        1.594593   \n",
       "2014-04-01 00:00:00        0.916178                 1.427493        1.594593   \n",
       "2014-05-01 00:00:00        0.916178                 1.427493        1.594593   \n",
       "\n",
       "                     married_household_ratio  food_stamp_ratio      zip_code  \\\n",
       "Date                                                                           \n",
       "2014-01-01 00:00:00                 0.507159          0.070996  76814.869767   \n",
       "2014-02-01 00:00:00                 0.507159          0.070996  76814.869767   \n",
       "2014-03-01 00:00:00                 0.507159          0.070996  76814.869767   \n",
       "2014-04-01 00:00:00                 0.507159          0.070996  76814.869767   \n",
       "2014-05-01 00:00:00                 0.507159          0.070996  76814.869767   \n",
       "\n",
       "                     commuting_population  divorced_men  \\\n",
       "Date                                                      \n",
       "2014-01-01 00:00:00          18760.752336   1203.892523   \n",
       "2014-02-01 00:00:00          18760.752336   1203.892523   \n",
       "2014-03-01 00:00:00          18760.752336   1203.892523   \n",
       "2014-04-01 00:00:00          18760.752336   1203.892523   \n",
       "2014-05-01 00:00:00          18760.752336   1203.892523   \n",
       "\n",
       "                     driving_alone_population  \\\n",
       "Date                                            \n",
       "2014-01-01 00:00:00              15046.130841   \n",
       "2014-02-01 00:00:00              15046.130841   \n",
       "2014-03-01 00:00:00              15046.130841   \n",
       "2014-04-01 00:00:00              15046.130841   \n",
       "2014-05-01 00:00:00              15046.130841   \n",
       "\n",
       "                     housing_units_built_1940_to_1949  \\\n",
       "Date                                                    \n",
       "2014-01-01 00:00:00                        340.621495   \n",
       "2014-02-01 00:00:00                        340.621495   \n",
       "2014-03-01 00:00:00                        340.621495   \n",
       "2014-04-01 00:00:00                        340.621495   \n",
       "2014-05-01 00:00:00                        340.621495   \n",
       "\n",
       "                     quintile_2_income_share  \\\n",
       "Date                                           \n",
       "2014-01-01 00:00:00                10.099813   \n",
       "2014-02-01 00:00:00                10.099813   \n",
       "2014-03-01 00:00:00                10.099813   \n",
       "2014-04-01 00:00:00                10.099813   \n",
       "2014-05-01 00:00:00                10.099813   \n",
       "\n",
       "                     housing_units_10_to_19_units_rented  \\\n",
       "Date                                                       \n",
       "2014-01-01 00:00:00                          1047.462617   \n",
       "2014-02-01 00:00:00                          1047.462617   \n",
       "2014-03-01 00:00:00                          1047.462617   \n",
       "2014-04-01 00:00:00                          1047.462617   \n",
       "2014-05-01 00:00:00                          1047.462617   \n",
       "\n",
       "                     quintile_3_income_share  married_women_spouse_absent  \\\n",
       "Date                                                                        \n",
       "2014-01-01 00:00:00                15.743551                   759.799065   \n",
       "2014-02-01 00:00:00                15.743551                   759.799065   \n",
       "2014-03-01 00:00:00                15.743551                   759.799065   \n",
       "2014-04-01 00:00:00                15.743551                   759.799065   \n",
       "2014-05-01 00:00:00                15.743551                   759.799065   \n",
       "\n",
       "                     female_80_to_84  female_45_to_49  female_75_to_79  \\\n",
       "Date                                                                     \n",
       "2014-01-01 00:00:00       255.700935      1394.953271       311.140187   \n",
       "2014-02-01 00:00:00       255.700935      1394.953271       311.140187   \n",
       "2014-03-01 00:00:00       255.700935      1394.953271       311.140187   \n",
       "2014-04-01 00:00:00       255.700935      1394.953271       311.140187   \n",
       "2014-05-01 00:00:00       255.700935      1394.953271       311.140187   \n",
       "\n",
       "                     married_men  motorcycle_population  female_60_to_61  \\\n",
       "Date                                                                       \n",
       "2014-01-01 00:00:00   7875.85514              47.028037       380.574766   \n",
       "2014-02-01 00:00:00   7875.85514              47.028037       380.574766   \n",
       "2014-03-01 00:00:00   7875.85514              47.028037       380.574766   \n",
       "2014-04-01 00:00:00   7875.85514              47.028037       380.574766   \n",
       "2014-05-01 00:00:00   7875.85514              47.028037       380.574766   \n",
       "\n",
       "                        male_20  housing_units_10_to_19_units_owned  male_21  \\\n",
       "Date                                                                           \n",
       "2014-01-01 00:00:00  271.420561                           23.154206    258.0   \n",
       "2014-02-01 00:00:00  271.420561                           23.154206    258.0   \n",
       "2014-03-01 00:00:00  271.420561                           23.154206    258.0   \n",
       "2014-04-01 00:00:00  271.420561                           23.154206    258.0   \n",
       "2014-05-01 00:00:00  271.420561                           23.154206    258.0   \n",
       "\n",
       "                     men_with_professional_degree  \\\n",
       "Date                                                \n",
       "2014-01-01 00:00:00                    319.570093   \n",
       "2014-02-01 00:00:00                    319.570093   \n",
       "2014-03-01 00:00:00                    319.570093   \n",
       "2014-04-01 00:00:00                    319.570093   \n",
       "2014-05-01 00:00:00                    319.570093   \n",
       "\n",
       "                     housing_units_over_50_units_rented  \\\n",
       "Date                                                      \n",
       "2014-01-01 00:00:00                          742.766355   \n",
       "2014-02-01 00:00:00                          742.766355   \n",
       "2014-03-01 00:00:00                          742.766355   \n",
       "2014-04-01 00:00:00                          742.766355   \n",
       "2014-05-01 00:00:00                          742.766355   \n",
       "\n",
       "                     quintile_5_income_share  \\\n",
       "Date                                           \n",
       "2014-01-01 00:00:00                46.563692   \n",
       "2014-02-01 00:00:00                46.563692   \n",
       "2014-03-01 00:00:00                46.563692   \n",
       "2014-04-01 00:00:00                46.563692   \n",
       "2014-05-01 00:00:00                46.563692   \n",
       "\n",
       "                     housing_units_single_family_detached_rented  \\\n",
       "Date                                                               \n",
       "2014-01-01 00:00:00                                  1262.434579   \n",
       "2014-02-01 00:00:00                                  1262.434579   \n",
       "2014-03-01 00:00:00                                  1262.434579   \n",
       "2014-04-01 00:00:00                                  1262.434579   \n",
       "2014-05-01 00:00:00                                  1262.434579   \n",
       "\n",
       "                     housing_units_built_1950_to_1959  \\\n",
       "Date                                                    \n",
       "2014-01-01 00:00:00                        835.308411   \n",
       "2014-02-01 00:00:00                        835.308411   \n",
       "2014-03-01 00:00:00                        835.308411   \n",
       "2014-04-01 00:00:00                        835.308411   \n",
       "2014-05-01 00:00:00                        835.308411   \n",
       "\n",
       "                     women_with_professional_degree  total_contract_rent  \\\n",
       "Date                                                                       \n",
       "2014-01-01 00:00:00                      204.943925         4.429706e+06   \n",
       "2014-02-01 00:00:00                      204.943925         4.429706e+06   \n",
       "2014-03-01 00:00:00                      204.943925         4.429706e+06   \n",
       "2014-04-01 00:00:00                      204.943925         4.429706e+06   \n",
       "2014-05-01 00:00:00                      204.943925         4.429706e+06   \n",
       "\n",
       "                     bicycle_population  male_30_to_34  \\\n",
       "Date                                                     \n",
       "2014-01-01 00:00:00           58.439252    1467.598131   \n",
       "2014-02-01 00:00:00           58.439252    1467.598131   \n",
       "2014-03-01 00:00:00           58.439252    1467.598131   \n",
       "2014-04-01 00:00:00           58.439252    1467.598131   \n",
       "2014-05-01 00:00:00           58.439252    1467.598131   \n",
       "\n",
       "                     housing_units_other_type  male_18_to_19  \\\n",
       "Date                                                           \n",
       "2014-01-01 00:00:00                   7.53271     518.140187   \n",
       "2014-02-01 00:00:00                   7.53271     518.140187   \n",
       "2014-03-01 00:00:00                   7.53271     518.140187   \n",
       "2014-04-01 00:00:00                   7.53271     518.140187   \n",
       "2014-05-01 00:00:00                   7.53271     518.140187   \n",
       "\n",
       "                     average_household_size_renters  \\\n",
       "Date                                                  \n",
       "2014-01-01 00:00:00                        2.538925   \n",
       "2014-02-01 00:00:00                        2.538925   \n",
       "2014-03-01 00:00:00                        2.538925   \n",
       "2014-04-01 00:00:00                        2.538925   \n",
       "2014-05-01 00:00:00                        2.538925   \n",
       "\n",
       "                     other_commute_method_population  male_50_to_54  \\\n",
       "Date                                                                  \n",
       "2014-01-01 00:00:00                       210.004673    1237.850467   \n",
       "2014-02-01 00:00:00                       210.004673    1237.850467   \n",
       "2014-03-01 00:00:00                       210.004673    1237.850467   \n",
       "2014-04-01 00:00:00                       210.004673    1237.850467   \n",
       "2014-05-01 00:00:00                       210.004673    1237.850467   \n",
       "\n",
       "                     married_men_spouse_absent  marital_status_population  \\\n",
       "Date                                                                        \n",
       "2014-01-01 00:00:00                      660.5               29204.126168   \n",
       "2014-02-01 00:00:00                      660.5               29204.126168   \n",
       "2014-03-01 00:00:00                      660.5               29204.126168   \n",
       "2014-04-01 00:00:00                      660.5               29204.126168   \n",
       "2014-05-01 00:00:00                      660.5               29204.126168   \n",
       "\n",
       "                     housing_units_3_to_4_units_owned  quintile_4_upper_limit  \\\n",
       "Date                                                                            \n",
       "2014-01-01 00:00:00                         35.546729           122689.373832   \n",
       "2014-02-01 00:00:00                         35.546729           122689.373832   \n",
       "2014-03-01 00:00:00                         35.546729           122689.373832   \n",
       "2014-04-01 00:00:00                         35.546729           122689.373832   \n",
       "2014-05-01 00:00:00                         35.546729           122689.373832   \n",
       "\n",
       "                     quintile_3_upper_limit  men_with_associate_degree  \\\n",
       "Date                                                                     \n",
       "2014-01-01 00:00:00            81498.700935                 783.485981   \n",
       "2014-02-01 00:00:00            81498.700935                 783.485981   \n",
       "2014-03-01 00:00:00            81498.700935                 783.485981   \n",
       "2014-04-01 00:00:00            81498.700935                 783.485981   \n",
       "2014-05-01 00:00:00            81498.700935                 783.485981   \n",
       "\n",
       "                     women_with_one_year_or_more_college  \\\n",
       "Date                                                       \n",
       "2014-01-01 00:00:00                          2127.261682   \n",
       "2014-02-01 00:00:00                          2127.261682   \n",
       "2014-03-01 00:00:00                          2127.261682   \n",
       "2014-04-01 00:00:00                          2127.261682   \n",
       "2014-05-01 00:00:00                          2127.261682   \n",
       "\n",
       "                     housing_units_10_to_19_units  \\\n",
       "Date                                                \n",
       "2014-01-01 00:00:00                   1287.471963   \n",
       "2014-02-01 00:00:00                   1287.471963   \n",
       "2014-03-01 00:00:00                   1287.471963   \n",
       "2014-04-01 00:00:00                   1287.471963   \n",
       "2014-05-01 00:00:00                   1287.471963   \n",
       "\n",
       "                     housing_units_built_1970_to_1979  \\\n",
       "Date                                                    \n",
       "2014-01-01 00:00:00                       2464.733645   \n",
       "2014-02-01 00:00:00                       2464.733645   \n",
       "2014-03-01 00:00:00                       2464.733645   \n",
       "2014-04-01 00:00:00                       2464.733645   \n",
       "2014-05-01 00:00:00                       2464.733645   \n",
       "\n",
       "                     quintile_4_income_share   total_units  \\\n",
       "Date                                                         \n",
       "2014-01-01 00:00:00                23.310093  14983.584112   \n",
       "2014-02-01 00:00:00                23.310093  14983.584112   \n",
       "2014-03-01 00:00:00                23.310093  14983.584112   \n",
       "2014-04-01 00:00:00                23.310093  14983.584112   \n",
       "2014-05-01 00:00:00                23.310093  14983.584112   \n",
       "\n",
       "                     median_household_income  women_with_doctoral_degree  \\\n",
       "Date                                                                       \n",
       "2014-01-01 00:00:00             67331.130841                  121.719626   \n",
       "2014-02-01 00:00:00             67331.130841                  121.719626   \n",
       "2014-03-01 00:00:00             67331.130841                  121.719626   \n",
       "2014-04-01 00:00:00             67331.130841                  121.719626   \n",
       "2014-05-01 00:00:00             67331.130841                  121.719626   \n",
       "\n",
       "                      female_21  housing_units_single_family_detached  \\\n",
       "Date                                                                    \n",
       "2014-01-01 00:00:00  254.186916                           9578.116822   \n",
       "2014-02-01 00:00:00  254.186916                           9578.116822   \n",
       "2014-03-01 00:00:00  254.186916                           9578.116822   \n",
       "2014-04-01 00:00:00  254.186916                           9578.116822   \n",
       "2014-05-01 00:00:00  254.186916                           9578.116822   \n",
       "\n",
       "                     housing_units_20_to_49_units_rented  \\\n",
       "Date                                                       \n",
       "2014-01-01 00:00:00                           613.196262   \n",
       "2014-02-01 00:00:00                           613.196262   \n",
       "2014-03-01 00:00:00                           613.196262   \n",
       "2014-04-01 00:00:00                           613.196262   \n",
       "2014-05-01 00:00:00                           613.196262   \n",
       "\n",
       "                     renter_occupied_units  \\\n",
       "Date                                         \n",
       "2014-01-01 00:00:00            5293.948598   \n",
       "2014-02-01 00:00:00            5293.948598   \n",
       "2014-03-01 00:00:00            5293.948598   \n",
       "2014-04-01 00:00:00            5293.948598   \n",
       "2014-05-01 00:00:00            5293.948598   \n",
       "\n",
       "                     housing_units_single_family_detached_owned  \\\n",
       "Date                                                              \n",
       "2014-01-01 00:00:00                                 7832.883178   \n",
       "2014-02-01 00:00:00                                 7832.883178   \n",
       "2014-03-01 00:00:00                                 7832.883178   \n",
       "2014-04-01 00:00:00                                 7832.883178   \n",
       "2014-05-01 00:00:00                                 7832.883178   \n",
       "\n",
       "                     women_with_less_one_year_college  taxi_population  \\\n",
       "Date                                                                     \n",
       "2014-01-01 00:00:00                        812.981308        12.373832   \n",
       "2014-02-01 00:00:00                        812.981308        12.373832   \n",
       "2014-03-01 00:00:00                        812.981308        12.373832   \n",
       "2014-04-01 00:00:00                        812.981308        12.373832   \n",
       "2014-05-01 00:00:00                        812.981308        12.373832   \n",
       "\n",
       "                     female_62_to_64  working_from_home_population  \\\n",
       "Date                                                                 \n",
       "2014-01-01 00:00:00       493.546729                    876.224299   \n",
       "2014-02-01 00:00:00       493.546729                    876.224299   \n",
       "2014-03-01 00:00:00       493.546729                    876.224299   \n",
       "2014-04-01 00:00:00       493.546729                    876.224299   \n",
       "2014-05-01 00:00:00       493.546729                    876.224299   \n",
       "\n",
       "                     total_households  median_contract_rent  female_22_to_24  \\\n",
       "Date                                                                           \n",
       "2014-01-01 00:00:00      13759.995327            841.341121       799.130841   \n",
       "2014-02-01 00:00:00      13759.995327            841.341121       799.130841   \n",
       "2014-03-01 00:00:00      13759.995327            841.341121       799.130841   \n",
       "2014-04-01 00:00:00      13759.995327            841.341121       799.130841   \n",
       "2014-05-01 00:00:00      13759.995327            841.341121       799.130841   \n",
       "\n",
       "                     male_62_to_64  occupied_units  \\\n",
       "Date                                                 \n",
       "2014-01-01 00:00:00      439.03271    13759.995327   \n",
       "2014-02-01 00:00:00      439.03271    13759.995327   \n",
       "2014-03-01 00:00:00      439.03271    13759.995327   \n",
       "2014-04-01 00:00:00      439.03271    13759.995327   \n",
       "2014-05-01 00:00:00      439.03271    13759.995327   \n",
       "\n",
       "                     married_men_spouse_present  male_67_to_69  \\\n",
       "Date                                                             \n",
       "2014-01-01 00:00:00                  7215.35514     282.584112   \n",
       "2014-02-01 00:00:00                  7215.35514     282.584112   \n",
       "2014-03-01 00:00:00                  7215.35514     282.584112   \n",
       "2014-04-01 00:00:00                  7215.35514     282.584112   \n",
       "2014-05-01 00:00:00                  7215.35514     282.584112   \n",
       "\n",
       "                     quintile_1_mean_income  median_rooms  female_50_to_54  \\\n",
       "Date                                                                         \n",
       "2014-01-01 00:00:00            18469.775701      5.684579       1284.71028   \n",
       "2014-02-01 00:00:00            18469.775701      5.684579       1284.71028   \n",
       "2014-03-01 00:00:00            18469.775701      5.684579       1284.71028   \n",
       "2014-04-01 00:00:00            18469.775701      5.684579       1284.71028   \n",
       "2014-05-01 00:00:00            18469.775701      5.684579       1284.71028   \n",
       "\n",
       "                     median_gross_rent  male_22_to_24  median_age  \\\n",
       "Date                                                                \n",
       "2014-01-01 00:00:00        1021.780374     788.939252    34.04486   \n",
       "2014-02-01 00:00:00        1021.780374     788.939252    34.04486   \n",
       "2014-03-01 00:00:00        1021.780374     788.939252    34.04486   \n",
       "2014-04-01 00:00:00        1021.780374     788.939252    34.04486   \n",
       "2014-05-01 00:00:00        1021.780374     788.939252    34.04486   \n",
       "\n",
       "                     female_55_to_59  housing_units_mobile_home_rented  \\\n",
       "Date                                                                     \n",
       "2014-01-01 00:00:00      1061.654206                          88.88785   \n",
       "2014-02-01 00:00:00      1061.654206                          88.88785   \n",
       "2014-03-01 00:00:00      1061.654206                          88.88785   \n",
       "2014-04-01 00:00:00      1061.654206                          88.88785   \n",
       "2014-05-01 00:00:00      1061.654206                          88.88785   \n",
       "\n",
       "                     housing_units_built_1980_to_1989  \\\n",
       "Date                                                    \n",
       "2014-01-01 00:00:00                       2892.841121   \n",
       "2014-02-01 00:00:00                       2892.841121   \n",
       "2014-03-01 00:00:00                       2892.841121   \n",
       "2014-04-01 00:00:00                       2892.841121   \n",
       "2014-05-01 00:00:00                       2892.841121   \n",
       "\n",
       "                     housing_units_5_to_9_units_owned  women_with_hs_diploma  \\\n",
       "Date                                                                           \n",
       "2014-01-01 00:00:00                         33.462617            2588.242991   \n",
       "2014-02-01 00:00:00                         33.462617            2588.242991   \n",
       "2014-03-01 00:00:00                         33.462617            2588.242991   \n",
       "2014-04-01 00:00:00                         33.462617            2588.242991   \n",
       "2014-05-01 00:00:00                         33.462617            2588.242991   \n",
       "\n",
       "                     housing_units_other_type_owned  \\\n",
       "Date                                                  \n",
       "2014-01-01 00:00:00                        4.915888   \n",
       "2014-02-01 00:00:00                        4.915888   \n",
       "2014-03-01 00:00:00                        4.915888   \n",
       "2014-04-01 00:00:00                        4.915888   \n",
       "2014-05-01 00:00:00                        4.915888   \n",
       "\n",
       "                     total_population_in_owner_occupied_units  \\\n",
       "Date                                                            \n",
       "2014-01-01 00:00:00                              24611.271028   \n",
       "2014-02-01 00:00:00                              24611.271028   \n",
       "2014-03-01 00:00:00                              24611.271028   \n",
       "2014-04-01 00:00:00                              24611.271028   \n",
       "2014-05-01 00:00:00                              24611.271028   \n",
       "\n",
       "                     housing_units_20_to_49_units_owned  \\\n",
       "Date                                                      \n",
       "2014-01-01 00:00:00                           19.803738   \n",
       "2014-02-01 00:00:00                           19.803738   \n",
       "2014-03-01 00:00:00                           19.803738   \n",
       "2014-04-01 00:00:00                           19.803738   \n",
       "2014-05-01 00:00:00                           19.803738   \n",
       "\n",
       "                     housing_units_built_1930_to_1939  married_women  \\\n",
       "Date                                                                   \n",
       "2014-01-01 00:00:00                         392.88785    7832.439252   \n",
       "2014-02-01 00:00:00                         392.88785    7832.439252   \n",
       "2014-03-01 00:00:00                         392.88785    7832.439252   \n",
       "2014-04-01 00:00:00                         392.88785    7832.439252   \n",
       "2014-05-01 00:00:00                         392.88785    7832.439252   \n",
       "\n",
       "                     men_with_masters_degree  \\\n",
       "Date                                           \n",
       "2014-01-01 00:00:00              1098.107477   \n",
       "2014-02-01 00:00:00              1098.107477   \n",
       "2014-03-01 00:00:00              1098.107477   \n",
       "2014-04-01 00:00:00              1098.107477   \n",
       "2014-05-01 00:00:00              1098.107477   \n",
       "\n",
       "                     total_population_in_occupied_units  \\\n",
       "Date                                                      \n",
       "2014-01-01 00:00:00                        37466.626168   \n",
       "2014-02-01 00:00:00                        37466.626168   \n",
       "2014-03-01 00:00:00                        37466.626168   \n",
       "2014-04-01 00:00:00                        37466.626168   \n",
       "2014-05-01 00:00:00                        37466.626168   \n",
       "\n",
       "                     top_5_percent_mean_income  top_5_percent_lower_limit  \\\n",
       "Date                                                                        \n",
       "2014-01-01 00:00:00              335034.934579              192664.280374   \n",
       "2014-02-01 00:00:00              335034.934579              192664.280374   \n",
       "2014-03-01 00:00:00              335034.934579              192664.280374   \n",
       "2014-04-01 00:00:00              335034.934579              192664.280374   \n",
       "2014-05-01 00:00:00              335034.934579              192664.280374   \n",
       "\n",
       "                     female_35_to_39  male_70_to_74  female_18_to_19  \\\n",
       "Date                                                                   \n",
       "2014-01-01 00:00:00      1513.014019     330.864486       491.528037   \n",
       "2014-02-01 00:00:00      1513.014019     330.864486       491.528037   \n",
       "2014-03-01 00:00:00      1513.014019     330.864486       491.528037   \n",
       "2014-04-01 00:00:00      1513.014019     330.864486       491.528037   \n",
       "2014-05-01 00:00:00      1513.014019     330.864486       491.528037   \n",
       "\n",
       "                     men_with_less_one_year_college  \\\n",
       "Date                                                  \n",
       "2014-01-01 00:00:00                      630.738318   \n",
       "2014-02-01 00:00:00                      630.738318   \n",
       "2014-03-01 00:00:00                      630.738318   \n",
       "2014-04-01 00:00:00                      630.738318   \n",
       "2014-05-01 00:00:00                      630.738318   \n",
       "\n",
       "                     housing_units_other_type_rented  \\\n",
       "Date                                                   \n",
       "2014-01-01 00:00:00                         2.616822   \n",
       "2014-02-01 00:00:00                         2.616822   \n",
       "2014-03-01 00:00:00                         2.616822   \n",
       "2014-04-01 00:00:00                         2.616822   \n",
       "2014-05-01 00:00:00                         2.616822   \n",
       "\n",
       "                     housing_units_3_to_4_units  units_paying_cash_rent  \\\n",
       "Date                                                                      \n",
       "2014-01-01 00:00:00                  482.093458             5148.775701   \n",
       "2014-02-01 00:00:00                  482.093458             5148.775701   \n",
       "2014-03-01 00:00:00                  482.093458             5148.775701   \n",
       "2014-04-01 00:00:00                  482.093458             5148.775701   \n",
       "2014-05-01 00:00:00                  482.093458             5148.775701   \n",
       "\n",
       "                     female_85_over  housing_units_single_family_attached  \\\n",
       "Date                                                                        \n",
       "2014-01-01 00:00:00      259.308411                            516.275701   \n",
       "2014-02-01 00:00:00      259.308411                            516.275701   \n",
       "2014-03-01 00:00:00      259.308411                            516.275701   \n",
       "2014-04-01 00:00:00      259.308411                            516.275701   \n",
       "2014-05-01 00:00:00      259.308411                            516.275701   \n",
       "\n",
       "                     male_60_to_61  housing_units_duplex  \\\n",
       "Date                                                       \n",
       "2014-01-01 00:00:00     345.266355            251.654206   \n",
       "2014-02-01 00:00:00     345.266355            251.654206   \n",
       "2014-03-01 00:00:00     345.266355            251.654206   \n",
       "2014-04-01 00:00:00     345.266355            251.654206   \n",
       "2014-05-01 00:00:00     345.266355            251.654206   \n",
       "\n",
       "                     housing_units_20_to_49_units  men_with_doctoral_degree  \\\n",
       "Date                                                                          \n",
       "2014-01-01 00:00:00                    768.434579                218.182243   \n",
       "2014-02-01 00:00:00                    768.434579                218.182243   \n",
       "2014-03-01 00:00:00                    768.434579                218.182243   \n",
       "2014-04-01 00:00:00                    768.434579                218.182243   \n",
       "2014-05-01 00:00:00                    768.434579                218.182243   \n",
       "\n",
       "                     top_5_percent_income_share  housing_units_duplex_rented  \\\n",
       "Date                                                                           \n",
       "2014-01-01 00:00:00                   19.222056                   197.700935   \n",
       "2014-02-01 00:00:00                   19.222056                   197.700935   \n",
       "2014-03-01 00:00:00                   19.222056                   197.700935   \n",
       "2014-04-01 00:00:00                   19.222056                   197.700935   \n",
       "2014-05-01 00:00:00                   19.222056                   197.700935   \n",
       "\n",
       "                     male_population  female_25_to_29  \\\n",
       "Date                                                    \n",
       "2014-01-01 00:00:00     18617.383178      1526.761682   \n",
       "2014-02-01 00:00:00     18617.383178      1526.761682   \n",
       "2014-03-01 00:00:00     18617.383178      1526.761682   \n",
       "2014-04-01 00:00:00     18617.383178      1526.761682   \n",
       "2014-05-01 00:00:00     18617.383178      1526.761682   \n",
       "\n",
       "                     walking_to_work_population  owner_occupied_units  \\\n",
       "Date                                                                    \n",
       "2014-01-01 00:00:00                  252.490654           8466.046729   \n",
       "2014-02-01 00:00:00                  252.490654           8466.046729   \n",
       "2014-03-01 00:00:00                  252.490654           8466.046729   \n",
       "2014-04-01 00:00:00                  252.490654           8466.046729   \n",
       "2014-05-01 00:00:00                  252.490654           8466.046729   \n",
       "\n",
       "                     single_men  housing_units_5_to_9_units_rented  \\\n",
       "Date                                                                 \n",
       "2014-01-01 00:00:00  4912.53271                         744.593458   \n",
       "2014-02-01 00:00:00  4912.53271                         744.593458   \n",
       "2014-03-01 00:00:00  4912.53271                         744.593458   \n",
       "2014-04-01 00:00:00  4912.53271                         744.593458   \n",
       "2014-05-01 00:00:00  4912.53271                         744.593458   \n",
       "\n",
       "                     male_80_to_84  carpool_population  transit_population  \\\n",
       "Date                                                                         \n",
       "2014-01-01 00:00:00     153.925234         1886.448598           371.61215   \n",
       "2014-02-01 00:00:00     153.925234         1886.448598           371.61215   \n",
       "2014-03-01 00:00:00     153.925234         1886.448598           371.61215   \n",
       "2014-04-01 00:00:00     153.925234         1886.448598           371.61215   \n",
       "2014-05-01 00:00:00     153.925234         1886.448598           371.61215   \n",
       "\n",
       "                     female_population  male_55_to_59   female_20  \\\n",
       "Date                                                                \n",
       "2014-01-01 00:00:00       19219.242991     984.705607  249.925234   \n",
       "2014-02-01 00:00:00       19219.242991     984.705607  249.925234   \n",
       "2014-03-01 00:00:00       19219.242991     984.705607  249.925234   \n",
       "2014-04-01 00:00:00       19219.242991     984.705607  249.925234   \n",
       "2014-05-01 00:00:00       19219.242991     984.705607  249.925234   \n",
       "\n",
       "                     women_with_masters_degree  quintile_1_income_share  \\\n",
       "Date                                                                      \n",
       "2014-01-01 00:00:00                1106.359813                 4.283551   \n",
       "2014-02-01 00:00:00                1106.359813                 4.283551   \n",
       "2014-03-01 00:00:00                1106.359813                 4.283551   \n",
       "2014-04-01 00:00:00                1106.359813                 4.283551   \n",
       "2014-05-01 00:00:00                1106.359813                 4.283551   \n",
       "\n",
       "                     total_household_income  housing_units_mobile_home  \\\n",
       "Date                                                                     \n",
       "2014-01-01 00:00:00            1.175915e+09                 297.406542   \n",
       "2014-02-01 00:00:00            1.175915e+09                 297.406542   \n",
       "2014-03-01 00:00:00            1.175915e+09                 297.406542   \n",
       "2014-04-01 00:00:00            1.175915e+09                 297.406542   \n",
       "2014-05-01 00:00:00            1.175915e+09                 297.406542   \n",
       "\n",
       "                     men_with_bachelors_degree  \\\n",
       "Date                                             \n",
       "2014-01-01 00:00:00                2894.495327   \n",
       "2014-02-01 00:00:00                2894.495327   \n",
       "2014-03-01 00:00:00                2894.495327   \n",
       "2014-04-01 00:00:00                2894.495327   \n",
       "2014-05-01 00:00:00                2894.495327   \n",
       "\n",
       "                     housing_units_single_family_attached_rented  \\\n",
       "Date                                                               \n",
       "2014-01-01 00:00:00                                   204.892523   \n",
       "2014-02-01 00:00:00                                   204.892523   \n",
       "2014-03-01 00:00:00                                   204.892523   \n",
       "2014-04-01 00:00:00                                   204.892523   \n",
       "2014-05-01 00:00:00                                   204.892523   \n",
       "\n",
       "                     quintile_1_upper_limit  female_70_to_74  \\\n",
       "Date                                                           \n",
       "2014-01-01 00:00:00            31981.065421        400.64486   \n",
       "2014-02-01 00:00:00            31981.065421        400.64486   \n",
       "2014-03-01 00:00:00            31981.065421        400.64486   \n",
       "2014-04-01 00:00:00            31981.065421        400.64486   \n",
       "2014-05-01 00:00:00            31981.065421        400.64486   \n",
       "\n",
       "                     quintile_2_upper_limit  \\\n",
       "Date                                          \n",
       "2014-01-01 00:00:00             54949.17757   \n",
       "2014-02-01 00:00:00             54949.17757   \n",
       "2014-03-01 00:00:00             54949.17757   \n",
       "2014-04-01 00:00:00             54949.17757   \n",
       "2014-05-01 00:00:00             54949.17757   \n",
       "\n",
       "                     total_population_in_renter_occupied_units  \\\n",
       "Date                                                             \n",
       "2014-01-01 00:00:00                                12855.35514   \n",
       "2014-02-01 00:00:00                                12855.35514   \n",
       "2014-03-01 00:00:00                                12855.35514   \n",
       "2014-04-01 00:00:00                                12855.35514   \n",
       "2014-05-01 00:00:00                                12855.35514   \n",
       "\n",
       "                     average_household_size  women_with_associate_degree  \\\n",
       "Date                                                                       \n",
       "2014-01-01 00:00:00                2.707056                    893.03271   \n",
       "2014-02-01 00:00:00                2.707056                    893.03271   \n",
       "2014-03-01 00:00:00                2.707056                    893.03271   \n",
       "2014-04-01 00:00:00                2.707056                    893.03271   \n",
       "2014-05-01 00:00:00                2.707056                    893.03271   \n",
       "\n",
       "                     education_population  total_gross_rent  female_40_to_44  \\\n",
       "Date                                                                           \n",
       "2014-01-01 00:00:00          23937.107477      5.303824e+06      1421.233645   \n",
       "2014-02-01 00:00:00          23937.107477      5.303824e+06      1421.233645   \n",
       "2014-03-01 00:00:00          23937.107477      5.303824e+06      1421.233645   \n",
       "2014-04-01 00:00:00          23937.107477      5.303824e+06      1421.233645   \n",
       "2014-05-01 00:00:00          23937.107477      5.303824e+06      1421.233645   \n",
       "\n",
       "                     male_85_over  average_household_size_owners  \\\n",
       "Date                                                               \n",
       "2014-01-01 00:00:00     121.35514                       2.808224   \n",
       "2014-02-01 00:00:00     121.35514                       2.808224   \n",
       "2014-03-01 00:00:00     121.35514                       2.808224   \n",
       "2014-04-01 00:00:00     121.35514                       2.808224   \n",
       "2014-05-01 00:00:00     121.35514                       2.808224   \n",
       "\n",
       "                     divorced_women  female_30_to_34  \\\n",
       "Date                                                   \n",
       "2014-01-01 00:00:00     1897.794393      1496.275701   \n",
       "2014-02-01 00:00:00     1897.794393      1496.275701   \n",
       "2014-03-01 00:00:00     1897.794393      1496.275701   \n",
       "2014-04-01 00:00:00     1897.794393      1496.275701   \n",
       "2014-05-01 00:00:00     1897.794393      1496.275701   \n",
       "\n",
       "                     housing_units_over_50_units_owned  female_67_to_69  \\\n",
       "Date                                                                      \n",
       "2014-01-01 00:00:00                          41.602804       333.037383   \n",
       "2014-02-01 00:00:00                          41.602804       333.037383   \n",
       "2014-03-01 00:00:00                          41.602804       333.037383   \n",
       "2014-04-01 00:00:00                          41.602804       333.037383   \n",
       "2014-05-01 00:00:00                          41.602804       333.037383   \n",
       "\n",
       "                     male_25_to_29  housing_units_5_to_9_units  widowed_men  \\\n",
       "Date                                                                          \n",
       "2014-01-01 00:00:00    1493.126168                  919.429907   223.163551   \n",
       "2014-02-01 00:00:00    1493.126168                  919.429907   223.163551   \n",
       "2014-03-01 00:00:00    1493.126168                  919.429907   223.163551   \n",
       "2014-04-01 00:00:00    1493.126168                  919.429907   223.163551   \n",
       "2014-05-01 00:00:00    1493.126168                  919.429907   223.163551   \n",
       "\n",
       "                     housing_units_3_to_4_units_rented  total_population  \\\n",
       "Date                                                                       \n",
       "2014-01-01 00:00:00                         389.397196      37836.626168   \n",
       "2014-02-01 00:00:00                         389.397196      37836.626168   \n",
       "2014-03-01 00:00:00                         389.397196      37836.626168   \n",
       "2014-04-01 00:00:00                         389.397196      37836.626168   \n",
       "2014-05-01 00:00:00                         389.397196      37836.626168   \n",
       "\n",
       "                     quintile_3_mean_income  \\\n",
       "Date                                          \n",
       "2014-01-01 00:00:00            67604.602804   \n",
       "2014-02-01 00:00:00            67604.602804   \n",
       "2014-03-01 00:00:00            67604.602804   \n",
       "2014-04-01 00:00:00            67604.602804   \n",
       "2014-05-01 00:00:00            67604.602804   \n",
       "\n",
       "                     men_with_one_year_or_more_college  widowed_women  \\\n",
       "Date                                                                    \n",
       "2014-01-01 00:00:00                        1931.299065     965.584112   \n",
       "2014-02-01 00:00:00                        1931.299065     965.584112   \n",
       "2014-03-01 00:00:00                        1931.299065     965.584112   \n",
       "2014-04-01 00:00:00                        1931.299065     965.584112   \n",
       "2014-05-01 00:00:00                        1931.299065     965.584112   \n",
       "\n",
       "                     male_40_to_44  male_35_to_39  \\\n",
       "Date                                                \n",
       "2014-01-01 00:00:00    1404.985981    1473.102804   \n",
       "2014-02-01 00:00:00    1404.985981    1473.102804   \n",
       "2014-03-01 00:00:00    1404.985981    1473.102804   \n",
       "2014-04-01 00:00:00    1404.985981    1473.102804   \n",
       "2014-05-01 00:00:00    1404.985981    1473.102804   \n",
       "\n",
       "                     housing_units_mobile_home_owned  quintile_4_mean_income  \\\n",
       "Date                                                                           \n",
       "2014-01-01 00:00:00                       173.873832            99934.696262   \n",
       "2014-02-01 00:00:00                       173.873832            99934.696262   \n",
       "2014-03-01 00:00:00                       173.873832            99934.696262   \n",
       "2014-04-01 00:00:00                       173.873832            99934.696262   \n",
       "2014-05-01 00:00:00                       173.873832            99934.696262   \n",
       "\n",
       "                     single_women  housing_units_built_1990_to_1999  \\\n",
       "Date                                                                  \n",
       "2014-01-01 00:00:00   4292.864486                       2693.901869   \n",
       "2014-02-01 00:00:00   4292.864486                       2693.901869   \n",
       "2014-03-01 00:00:00   4292.864486                       2693.901869   \n",
       "2014-04-01 00:00:00   4292.864486                       2693.901869   \n",
       "2014-05-01 00:00:00   4292.864486                       2693.901869   \n",
       "\n",
       "                     housing_units_single_family_attached_owned  \\\n",
       "Date                                                              \n",
       "2014-01-01 00:00:00                                  274.551402   \n",
       "2014-02-01 00:00:00                                  274.551402   \n",
       "2014-03-01 00:00:00                                  274.551402   \n",
       "2014-04-01 00:00:00                                  274.551402   \n",
       "2014-05-01 00:00:00                                  274.551402   \n",
       "\n",
       "                     gini_coeficient  housing_units_over_50_units  \\\n",
       "Date                                                                \n",
       "2014-01-01 00:00:00           0.4213                   875.168224   \n",
       "2014-02-01 00:00:00           0.4213                   875.168224   \n",
       "2014-03-01 00:00:00           0.4213                   875.168224   \n",
       "2014-04-01 00:00:00           0.4213                   875.168224   \n",
       "2014-05-01 00:00:00           0.4213                   875.168224   \n",
       "\n",
       "                     women_with_bachelors_degree  male_45_to_49  \\\n",
       "Date                                                              \n",
       "2014-01-01 00:00:00                  3037.238318    1346.266355   \n",
       "2014-02-01 00:00:00                  3037.238318    1346.266355   \n",
       "2014-03-01 00:00:00                  3037.238318    1346.266355   \n",
       "2014-04-01 00:00:00                  3037.238318    1346.266355   \n",
       "2014-05-01 00:00:00                  3037.238318    1346.266355   \n",
       "\n",
       "                     housing_units_built_1960_to_1969  \\\n",
       "Date                                                    \n",
       "2014-01-01 00:00:00                       1181.453271   \n",
       "2014-02-01 00:00:00                       1181.453271   \n",
       "2014-03-01 00:00:00                       1181.453271   \n",
       "2014-04-01 00:00:00                       1181.453271   \n",
       "2014-05-01 00:00:00                       1181.453271   \n",
       "\n",
       "                     housing_units_duplex_owned  married_women_spouse_present  \\\n",
       "Date                                                                            \n",
       "2014-01-01 00:00:00                   26.252336                   7072.640187   \n",
       "2014-02-01 00:00:00                   26.252336                   7072.640187   \n",
       "2014-03-01 00:00:00                   26.252336                   7072.640187   \n",
       "2014-04-01 00:00:00                   26.252336                   7072.640187   \n",
       "2014-05-01 00:00:00                   26.252336                   7072.640187   \n",
       "\n",
       "                     men_with_hs_diploma  quintile_5_mean_income  \\\n",
       "Date                                                               \n",
       "2014-01-01 00:00:00          2208.088785           201608.191589   \n",
       "2014-02-01 00:00:00          2208.088785           201608.191589   \n",
       "2014-03-01 00:00:00          2208.088785           201608.191589   \n",
       "2014-04-01 00:00:00          2208.088785           201608.191589   \n",
       "2014-05-01 00:00:00          2208.088785           201608.191589   \n",
       "\n",
       "                     quintile_2_mean_income  male_75_to_79  \\\n",
       "Date                                                         \n",
       "2014-01-01 00:00:00            43409.757009     224.771028   \n",
       "2014-02-01 00:00:00            43409.757009     224.771028   \n",
       "2014-03-01 00:00:00            43409.757009     224.771028   \n",
       "2014-04-01 00:00:00            43409.757009     224.771028   \n",
       "2014-05-01 00:00:00            43409.757009     224.771028   \n",
       "\n",
       "                     Gross_Value_Natural_Gas_Production_percent_change  \\\n",
       "Date                                                                     \n",
       "2014-01-01 00:00:00                                                NaN   \n",
       "2014-02-01 00:00:00                                           0.068592   \n",
       "2014-03-01 00:00:00                                          -0.018291   \n",
       "2014-04-01 00:00:00                                          -0.042990   \n",
       "2014-05-01 00:00:00                                           0.051572   \n",
       "\n",
       "                     Gross_Value_Crude_Oil_Production_percent_change  \\\n",
       "Date                                                                   \n",
       "2014-01-01 00:00:00                                              NaN   \n",
       "2014-02-01 00:00:00                                        -0.023806   \n",
       "2014-03-01 00:00:00                                         0.128592   \n",
       "2014-04-01 00:00:00                                         0.008321   \n",
       "2014-05-01 00:00:00                                         0.016609   \n",
       "\n",
       "                     Unemployment_percent_change  \\\n",
       "Date                                               \n",
       "2014-01-01 00:00:00                          NaN   \n",
       "2014-02-01 00:00:00                    -0.017544   \n",
       "2014-03-01 00:00:00                    -0.017857   \n",
       "2014-04-01 00:00:00                    -0.018182   \n",
       "2014-05-01 00:00:00                    -0.018519   \n",
       "\n",
       "                     Retail_gas_price_differenced  zori_diff  \\\n",
       "Date                                                           \n",
       "2014-01-01 00:00:00                           NaN        NaN   \n",
       "2014-02-01 00:00:00                         0.026   3.858915   \n",
       "2014-03-01 00:00:00                         0.162   4.686822   \n",
       "2014-04-01 00:00:00                         0.168   4.756589   \n",
       "2014-05-01 00:00:00                        -0.019   4.692248   \n",
       "\n",
       "                     housing_units_over_50_units_diff  \n",
       "Date                                                   \n",
       "2014-01-01 00:00:00                               NaN  \n",
       "2014-02-01 00:00:00                               NaN  \n",
       "2014-03-01 00:00:00                               NaN  \n",
       "2014-04-01 00:00:00                               NaN  \n",
       "2014-05-01 00:00:00                               NaN  "
      ]
     },
     "execution_count": 173,
     "metadata": {},
     "output_type": "execute_result"
    }
   ],
   "source": [
    "agg.head()"
   ]
  },
  {
   "cell_type": "markdown",
   "metadata": {},
   "source": [
    "# Trying a Random Forest Model"
   ]
  },
  {
   "cell_type": "code",
   "execution_count": null,
   "metadata": {},
   "outputs": [],
   "source": [
    "from sklearn.ensemble import RandomForestRegressor\n",
    "from sklearn.model_selection import GridSearchCV"
   ]
  },
  {
   "cell_type": "code",
   "execution_count": null,
   "metadata": {},
   "outputs": [],
   "source": [
    "# data = merged[['Time','zip_code','delta_zori_ssa','delta_sap_case_shiller_index','Single Family Building Permits TX','Total Sales Tax Collections TX','Gross Value Natural Gas Production']]\n",
    "\n",
    "data = merged.copy()\n",
    "# data = data.set_index('Time')"
   ]
  },
  {
   "cell_type": "code",
   "execution_count": null,
   "metadata": {},
   "outputs": [],
   "source": [
    "data.head(5)"
   ]
  },
  {
   "cell_type": "markdown",
   "metadata": {},
   "source": [
    "# Adding shifted versions of historical target data"
   ]
  },
  {
   "cell_type": "code",
   "execution_count": null,
   "metadata": {},
   "outputs": [],
   "source": []
  },
  {
   "cell_type": "markdown",
   "metadata": {},
   "source": [
    "### Shifting has to be done by integer multiples of the number of zip codes!!!"
   ]
  },
  {
   "cell_type": "code",
   "execution_count": null,
   "metadata": {},
   "outputs": [],
   "source": [
    "num_zips = len(np.unique(data['zip_code']))"
   ]
  },
  {
   "cell_type": "code",
   "execution_count": null,
   "metadata": {
    "scrolled": true
   },
   "outputs": [],
   "source": [
    "data.loc[:,'delta_zori_ssa_6_shift_back_1'] = data.loc[:,'delta_zori_ssa_6'].shift(-1*num_zips)\n",
    "data.loc[:,'zori_ssa_shift_back_1'] = data.loc[:,'zori_ssa'].shift(-1*num_zips)\n",
    "data.loc[:,'rent_search_4_period_rsi'] = data.loc[:,'rent_search_4_period_rsi'].shift(-1*num_zips)"
   ]
  },
  {
   "cell_type": "code",
   "execution_count": null,
   "metadata": {},
   "outputs": [],
   "source": [
    "acs_cols = np.unique(list(set(acs.drop(['Time','zip_code','year'],axis = 1).columns).union(set(acs2.drop(['Time','zip_code'],axis = 1).columns))))"
   ]
  },
  {
   "cell_type": "code",
   "execution_count": null,
   "metadata": {},
   "outputs": [],
   "source": [
    "for col in acs_cols:\n",
    "    data.loc[:,col+'_backshift_1_year'] = data.loc[:,col].shift(-12*num_zips)"
   ]
  },
  {
   "cell_type": "code",
   "execution_count": null,
   "metadata": {},
   "outputs": [],
   "source": [
    "data = data.loc[~data.isna().any(axis = 1)]"
   ]
  },
  {
   "cell_type": "code",
   "execution_count": null,
   "metadata": {},
   "outputs": [],
   "source": [
    "data.isna().any()"
   ]
  },
  {
   "cell_type": "code",
   "execution_count": null,
   "metadata": {},
   "outputs": [],
   "source": [
    "data.loc[:,'Date'] = data.loc[:,'Time'].apply(lambda x: str(x)[:-9])\n",
    "\n",
    "data = data.set_index('Date')"
   ]
  },
  {
   "cell_type": "code",
   "execution_count": null,
   "metadata": {},
   "outputs": [],
   "source": [
    "data.head(1)"
   ]
  },
  {
   "cell_type": "code",
   "execution_count": null,
   "metadata": {},
   "outputs": [],
   "source": [
    "data.tail(1)"
   ]
  },
  {
   "cell_type": "markdown",
   "metadata": {},
   "source": [
    "# Train Test Split"
   ]
  },
  {
   "cell_type": "code",
   "execution_count": null,
   "metadata": {
    "scrolled": false
   },
   "outputs": [],
   "source": [
    "train = data.loc['2015-01-01':'2019-12-01',:]\n",
    "test = data.loc['2020-01-01':,:]"
   ]
  },
  {
   "cell_type": "code",
   "execution_count": null,
   "metadata": {},
   "outputs": [],
   "source": [
    "train.tail(1)"
   ]
  },
  {
   "cell_type": "code",
   "execution_count": null,
   "metadata": {},
   "outputs": [],
   "source": [
    "test.head(1)"
   ]
  },
  {
   "cell_type": "code",
   "execution_count": null,
   "metadata": {},
   "outputs": [],
   "source": [
    "train = train.reset_index().drop(['Time','Date','State','metro','city','county','zip_code'],axis = 1).drop(acs_cols,axis = 1)\n",
    "\n",
    "test = test.reset_index().drop(['Time','Date','State','metro','city','county','zip_code'],axis = 1).drop(acs_cols,axis = 1)\n"
   ]
  },
  {
   "cell_type": "code",
   "execution_count": null,
   "metadata": {},
   "outputs": [],
   "source": [
    "import time\n",
    "\n",
    "X_train = train.drop(['zori_ssa_shift_back_1','zori_ssa','delta_zori_ssa','delta_zori_ssa_12','delta_zori_ssa_6'],axis = 1)\n",
    "# X_train = train[['zori_ssa_shift_back_6','delta_zori_ssa_shift_back_6',\n",
    "#                  'delta_zori_ssa_6_shift_back_6','delta_zori_ssa_12_shift_back_6',\n",
    "#                  'delta_zori_ssa_6_shift_back_1']]\n",
    "X_test = test.drop(['zori_ssa_shift_back_1','zori_ssa','delta_zori_ssa','delta_zori_ssa_12','delta_zori_ssa_6'],axis = 1)\n",
    "# X_test = test[['zori_ssa_shift_back_6','delta_zori_ssa_shift_back_6',\n",
    "#                'delta_zori_ssa_6_shift_back_6','delta_zori_ssa_12_shift_back_6',\n",
    "#               'delta_zori_ssa_6_shift_back_1']]\n",
    "y_train = train['zori_ssa']\n",
    "y_test = test['zori_ssa']"
   ]
  },
  {
   "cell_type": "code",
   "execution_count": null,
   "metadata": {},
   "outputs": [],
   "source": [
    "X_train = X_train.drop('year',axis = 1)"
   ]
  },
  {
   "cell_type": "code",
   "execution_count": null,
   "metadata": {},
   "outputs": [],
   "source": [
    "X_test = X_test.drop('year',axis = 1)"
   ]
  },
  {
   "cell_type": "code",
   "execution_count": null,
   "metadata": {
    "scrolled": true
   },
   "outputs": [],
   "source": [
    "set(X_train.columns)"
   ]
  },
  {
   "cell_type": "code",
   "execution_count": null,
   "metadata": {},
   "outputs": [],
   "source": [
    "randomForest = RandomForestRegressor()\n",
    "\n",
    "da_grid = {'n_estimators':[10,20,30],\n",
    "           'criterion':['mse'],\n",
    "          'max_depth':[5,10,15],\n",
    "          'min_samples_split':[2,4]}\n",
    "\n",
    "grid_search_forest = GridSearchCV(estimator = randomForest, param_grid = da_grid, cv = 4)\n",
    "\n",
    "start_time = time.time()\n",
    "\n",
    "grid_search_forest.fit(X_train,y_train)\n",
    "\n",
    "print(time.time() - start_time)"
   ]
  },
  {
   "cell_type": "code",
   "execution_count": null,
   "metadata": {
    "scrolled": false
   },
   "outputs": [],
   "source": [
    "print(\"Best Parameters: \",grid_search_forest.best_params_,\"\\n\\n\",\n",
    "      \"Mean cross-validated score of the best_estimator: \",grid_search_forest.best_score_,\"\\n\")\n",
    "\n",
    "best_forest = grid_search_forest.best_estimator_\n",
    "feature_importance = [i for i in zip(X_train.columns,best_forest.feature_importances_)]\n",
    "feature_importance = sorted(feature_importance,key = lambda x: x[1],reverse = True)\n",
    "\n",
    "FI = pd.DataFrame(feature_importance,columns = ['feature','importance'])\n",
    "\n",
    "fig = px.bar(data_frame = FI.iloc[:,:],\n",
    "             x = 'feature',\n",
    "             y = 'importance',\n",
    "             title = \"Feature Importance\",\n",
    "             color = 'feature',\n",
    "            height = 1000,width = 3200)\n",
    "fig.show()"
   ]
  },
  {
   "cell_type": "code",
   "execution_count": null,
   "metadata": {},
   "outputs": [],
   "source": [
    "best_forest.score(X_train,y_train)"
   ]
  },
  {
   "cell_type": "code",
   "execution_count": null,
   "metadata": {},
   "outputs": [],
   "source": [
    "best_forest.score(X_test,y_test)"
   ]
  },
  {
   "cell_type": "code",
   "execution_count": null,
   "metadata": {},
   "outputs": [],
   "source": [
    "cv_results = pd.DataFrame(grid_search_forest.cv_results_)"
   ]
  },
  {
   "cell_type": "code",
   "execution_count": null,
   "metadata": {},
   "outputs": [],
   "source": [
    "fig = px.line(data_frame = cv_results, x = 'param_max_depth', y = 'mean_test_score', color = 'param_n_estimators')\n",
    "fig.show()"
   ]
  },
  {
   "cell_type": "code",
   "execution_count": null,
   "metadata": {},
   "outputs": [],
   "source": []
  }
 ],
 "metadata": {
  "kernelspec": {
   "display_name": "Python 3",
   "language": "python",
   "name": "python3"
  },
  "language_info": {
   "codemirror_mode": {
    "name": "ipython",
    "version": 3
   },
   "file_extension": ".py",
   "mimetype": "text/x-python",
   "name": "python",
   "nbconvert_exporter": "python",
   "pygments_lexer": "ipython3",
   "version": "3.7.3"
  }
 },
 "nbformat": 4,
 "nbformat_minor": 2
}
